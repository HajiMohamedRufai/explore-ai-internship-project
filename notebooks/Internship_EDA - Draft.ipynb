{
 "cells": [
  {
   "cell_type": "code",
   "execution_count": 1,
   "id": "8fb3e572",
   "metadata": {},
   "outputs": [],
   "source": [
    "import pandas as pd\n",
    "import numpy as np\n",
    "import plotly.express as px\n",
    "import ipywidgets as widgets\n",
    "import plotly.graph_objects as go\n",
    "from datetime import datetime, timedelta\n",
    "from IPython.display import *\n",
    "from ipywidgets import interact, Dropdown, FloatSlider"
   ]
  },
  {
   "cell_type": "code",
   "execution_count": 2,
   "id": "b392d05e",
   "metadata": {
    "scrolled": false
   },
   "outputs": [
    {
     "data": {
      "text/html": [
       "<div>\n",
       "<style scoped>\n",
       "    .dataframe tbody tr th:only-of-type {\n",
       "        vertical-align: middle;\n",
       "    }\n",
       "\n",
       "    .dataframe tbody tr th {\n",
       "        vertical-align: top;\n",
       "    }\n",
       "\n",
       "    .dataframe thead th {\n",
       "        text-align: right;\n",
       "    }\n",
       "</style>\n",
       "<table border=\"1\" class=\"dataframe\">\n",
       "  <thead>\n",
       "    <tr style=\"text-align: right;\">\n",
       "      <th></th>\n",
       "      <th>contract_type</th>\n",
       "      <th>volatility</th>\n",
       "      <th>bid</th>\n",
       "      <th>offer</th>\n",
       "      <th>market_to_market</th>\n",
       "      <th>first</th>\n",
       "      <th>last</th>\n",
       "      <th>high</th>\n",
       "      <th>low</th>\n",
       "      <th>deals</th>\n",
       "      <th>contracts</th>\n",
       "      <th>value</th>\n",
       "      <th>upload_date</th>\n",
       "      <th>market_name</th>\n",
       "      <th>market_code</th>\n",
       "      <th>market_type</th>\n",
       "    </tr>\n",
       "  </thead>\n",
       "  <tbody>\n",
       "    <tr>\n",
       "      <th>0</th>\n",
       "      <td>01 Mar 23 BEAN</td>\n",
       "      <td>9668.0</td>\n",
       "      <td>9664.0</td>\n",
       "      <td>9677.0</td>\n",
       "      <td>9668.0</td>\n",
       "      <td>9640.0</td>\n",
       "      <td>9686.4</td>\n",
       "      <td>9688.0</td>\n",
       "      <td>9640.0</td>\n",
       "      <td>5.0</td>\n",
       "      <td>10</td>\n",
       "      <td>9670720</td>\n",
       "      <td>2023-02-06</td>\n",
       "      <td>Afgri</td>\n",
       "      <td>silo_5</td>\n",
       "      <td>Silos</td>\n",
       "    </tr>\n",
       "    <tr>\n",
       "      <th>1</th>\n",
       "      <td>02 May 23 BEAN</td>\n",
       "      <td>9668.0</td>\n",
       "      <td>9669.0</td>\n",
       "      <td>9690.0</td>\n",
       "      <td>9690.0</td>\n",
       "      <td>9670.0</td>\n",
       "      <td>9689.6</td>\n",
       "      <td>9692.0</td>\n",
       "      <td>9670.0</td>\n",
       "      <td>3.0</td>\n",
       "      <td>20</td>\n",
       "      <td>19369450</td>\n",
       "      <td>2023-02-06</td>\n",
       "      <td>Afgri</td>\n",
       "      <td>silo_5</td>\n",
       "      <td>Silos</td>\n",
       "    </tr>\n",
       "    <tr>\n",
       "      <th>2</th>\n",
       "      <td>03 Jul 23 BEAN</td>\n",
       "      <td>9668.0</td>\n",
       "      <td>9650.0</td>\n",
       "      <td>9683.0</td>\n",
       "      <td>9650.0</td>\n",
       "      <td>9619.0</td>\n",
       "      <td>9619.0</td>\n",
       "      <td>0.0</td>\n",
       "      <td>0.0</td>\n",
       "      <td>0.0</td>\n",
       "      <td>0</td>\n",
       "      <td>0</td>\n",
       "      <td>2023-02-06</td>\n",
       "      <td>Afgri</td>\n",
       "      <td>silo_5</td>\n",
       "      <td>Silos</td>\n",
       "    </tr>\n",
       "    <tr>\n",
       "      <th>3</th>\n",
       "      <td>01 Sep 23 BEAN</td>\n",
       "      <td>9668.0</td>\n",
       "      <td>8959.0</td>\n",
       "      <td>9002.0</td>\n",
       "      <td>8963.0</td>\n",
       "      <td>8963.0</td>\n",
       "      <td>8963.0</td>\n",
       "      <td>8963.0</td>\n",
       "      <td>8963.0</td>\n",
       "      <td>1.0</td>\n",
       "      <td>10</td>\n",
       "      <td>8963000</td>\n",
       "      <td>2023-02-06</td>\n",
       "      <td>Afgri</td>\n",
       "      <td>silo_5</td>\n",
       "      <td>Silos</td>\n",
       "    </tr>\n",
       "    <tr>\n",
       "      <th>4</th>\n",
       "      <td>01 Nov 23 BEAN</td>\n",
       "      <td>9668.0</td>\n",
       "      <td>8762.0</td>\n",
       "      <td>8822.0</td>\n",
       "      <td>8775.0</td>\n",
       "      <td>8775.0</td>\n",
       "      <td>8775.0</td>\n",
       "      <td>0.0</td>\n",
       "      <td>0.0</td>\n",
       "      <td>0.0</td>\n",
       "      <td>0</td>\n",
       "      <td>0</td>\n",
       "      <td>2023-02-06</td>\n",
       "      <td>Afgri</td>\n",
       "      <td>silo_5</td>\n",
       "      <td>Silos</td>\n",
       "    </tr>\n",
       "  </tbody>\n",
       "</table>\n",
       "</div>"
      ],
      "text/plain": [
       "    contract_type  volatility     bid   offer  market_to_market   first  \\\n",
       "0  01 Mar 23 BEAN      9668.0  9664.0  9677.0            9668.0  9640.0   \n",
       "1  02 May 23 BEAN      9668.0  9669.0  9690.0            9690.0  9670.0   \n",
       "2  03 Jul 23 BEAN      9668.0  9650.0  9683.0            9650.0  9619.0   \n",
       "3  01 Sep 23 BEAN      9668.0  8959.0  9002.0            8963.0  8963.0   \n",
       "4  01 Nov 23 BEAN      9668.0  8762.0  8822.0            8775.0  8775.0   \n",
       "\n",
       "     last    high     low  deals  contracts     value upload_date market_name  \\\n",
       "0  9686.4  9688.0  9640.0    5.0         10   9670720  2023-02-06      Afgri    \n",
       "1  9689.6  9692.0  9670.0    3.0         20  19369450  2023-02-06      Afgri    \n",
       "2  9619.0     0.0     0.0    0.0          0         0  2023-02-06      Afgri    \n",
       "3  8963.0  8963.0  8963.0    1.0         10   8963000  2023-02-06      Afgri    \n",
       "4  8775.0     0.0     0.0    0.0          0         0  2023-02-06      Afgri    \n",
       "\n",
       "  market_code market_type  \n",
       "0     silo_5       Silos   \n",
       "1     silo_5       Silos   \n",
       "2     silo_5       Silos   \n",
       "3     silo_5       Silos   \n",
       "4     silo_5       Silos   "
      ]
     },
     "execution_count": 2,
     "metadata": {},
     "output_type": "execute_result"
    }
   ],
   "source": [
    "# Rendering the dataset in a dataframe\n",
    "df = pd.read_csv('../tests/Final_Output/Processed_Grain_2023-05-07.csv')\n",
    "df.head()"
   ]
  },
  {
   "cell_type": "code",
   "execution_count": null,
   "id": "8e3f18e6",
   "metadata": {},
   "outputs": [],
   "source": []
  },
  {
   "cell_type": "code",
   "execution_count": 3,
   "id": "44b389bc",
   "metadata": {},
   "outputs": [
    {
     "name": "stdout",
     "output_type": "stream",
     "text": [
      "<class 'pandas.core.frame.DataFrame'>\n",
      "RangeIndex: 741660 entries, 0 to 741659\n",
      "Data columns (total 16 columns):\n",
      " #   Column            Non-Null Count   Dtype  \n",
      "---  ------            --------------   -----  \n",
      " 0   contract_type     741660 non-null  object \n",
      " 1   volatility        741660 non-null  float64\n",
      " 2   bid               741660 non-null  float64\n",
      " 3   offer             741660 non-null  float64\n",
      " 4   market_to_market  741660 non-null  float64\n",
      " 5   first             741660 non-null  float64\n",
      " 6   last              741660 non-null  float64\n",
      " 7   high              741660 non-null  float64\n",
      " 8   low               741660 non-null  float64\n",
      " 9   deals             741660 non-null  float64\n",
      " 10  contracts         741660 non-null  int64  \n",
      " 11  value             741660 non-null  int64  \n",
      " 12  upload_date       741660 non-null  object \n",
      " 13  market_name       741660 non-null  object \n",
      " 14  market_code       741660 non-null  object \n",
      " 15  market_type       741660 non-null  object \n",
      "dtypes: float64(9), int64(2), object(5)\n",
      "memory usage: 90.5+ MB\n"
     ]
    }
   ],
   "source": [
    "# Taking a peek into the metadata of the dataset\n",
    "df.info()"
   ]
  },
  {
   "cell_type": "code",
   "execution_count": 4,
   "id": "e02b8507",
   "metadata": {},
   "outputs": [
    {
     "data": {
      "text/plain": [
       "contract_type       0\n",
       "volatility          0\n",
       "bid                 0\n",
       "offer               0\n",
       "market_to_market    0\n",
       "first               0\n",
       "last                0\n",
       "high                0\n",
       "low                 0\n",
       "deals               0\n",
       "contracts           0\n",
       "value               0\n",
       "upload_date         0\n",
       "market_name         0\n",
       "market_code         0\n",
       "market_type         0\n",
       "dtype: int64"
      ]
     },
     "execution_count": 4,
     "metadata": {},
     "output_type": "execute_result"
    }
   ],
   "source": [
    "df.isnull().sum()"
   ]
  },
  {
   "attachments": {},
   "cell_type": "markdown",
   "id": "95eb363d",
   "metadata": {},
   "source": [
    "### This block of code was intended to eliminate columns which contain 'Nans'. Not necessary for the streamlit\n",
    "\n",
    "for i, row in df.iterrows():\n",
    "    if df.loc[i, :].isnull().sum() > 11:\n",
    "        df.drop([i], inplace=True)\n",
    "        \n",
    "df"
   ]
  },
  {
   "attachments": {},
   "cell_type": "markdown",
   "id": "745ed1ee",
   "metadata": {},
   "source": [
    "### This block was intended to slice out applicable columns rendered in object data type for the purpose of converting to numeric - Not necessary for streamlit\n",
    "\n",
    "object_cols = df.loc[ : , df.dtypes == 'O']\n",
    "\n",
    "Extracting column names with list comprehension\n",
    "object_type_columns = [col for col in object_cols.columns]\n",
    "\n",
    "object_type_columns_1 = object_type_columns[1:-1]\n",
    "object_type_columns_1\n"
   ]
  },
  {
   "attachments": {},
   "cell_type": "markdown",
   "id": "98f3586c",
   "metadata": {},
   "source": [
    "### This block was intended to convert column object data types - Not necessary for streamlit\n",
    "\n",
    "list_columns = list(df.columns)\n",
    "numeric_columns = list_columns[1:-4]\n",
    "\n",
    "for col in numeric_columns:\n",
    "    if df[col].dtype == 'O':\n",
    "        df[col] = df[col].str.replace(',','').astype(float)\n",
    "\n",
    "df.info()"
   ]
  },
  {
   "cell_type": "code",
   "execution_count": 5,
   "id": "a7fbf408",
   "metadata": {},
   "outputs": [
    {
     "data": {
      "text/html": [
       "<div>\n",
       "<style scoped>\n",
       "    .dataframe tbody tr th:only-of-type {\n",
       "        vertical-align: middle;\n",
       "    }\n",
       "\n",
       "    .dataframe tbody tr th {\n",
       "        vertical-align: top;\n",
       "    }\n",
       "\n",
       "    .dataframe thead th {\n",
       "        text-align: right;\n",
       "    }\n",
       "</style>\n",
       "<table border=\"1\" class=\"dataframe\">\n",
       "  <thead>\n",
       "    <tr style=\"text-align: right;\">\n",
       "      <th></th>\n",
       "      <th>contract_type</th>\n",
       "      <th>volatility</th>\n",
       "      <th>bid</th>\n",
       "      <th>offer</th>\n",
       "      <th>market_to_market</th>\n",
       "      <th>first</th>\n",
       "      <th>last</th>\n",
       "      <th>high</th>\n",
       "      <th>low</th>\n",
       "      <th>deals</th>\n",
       "      <th>contracts</th>\n",
       "      <th>value</th>\n",
       "      <th>upload_date</th>\n",
       "      <th>market_name</th>\n",
       "      <th>market_code</th>\n",
       "      <th>market_type</th>\n",
       "      <th>Day</th>\n",
       "      <th>Month</th>\n",
       "      <th>Year</th>\n",
       "      <th>Grain_Type</th>\n",
       "    </tr>\n",
       "  </thead>\n",
       "  <tbody>\n",
       "    <tr>\n",
       "      <th>0</th>\n",
       "      <td>01 Mar 23 BEAN</td>\n",
       "      <td>9668.00</td>\n",
       "      <td>9664.0</td>\n",
       "      <td>9677.0</td>\n",
       "      <td>9668.00</td>\n",
       "      <td>9640.0</td>\n",
       "      <td>9686.4</td>\n",
       "      <td>9688.0</td>\n",
       "      <td>9640.0</td>\n",
       "      <td>5.0</td>\n",
       "      <td>10</td>\n",
       "      <td>9670720</td>\n",
       "      <td>2023-02-06</td>\n",
       "      <td>Afgri</td>\n",
       "      <td>silo_5</td>\n",
       "      <td>Silos</td>\n",
       "      <td>01</td>\n",
       "      <td>Mar</td>\n",
       "      <td>23</td>\n",
       "      <td>BEAN</td>\n",
       "    </tr>\n",
       "    <tr>\n",
       "      <th>1</th>\n",
       "      <td>02 May 23 BEAN</td>\n",
       "      <td>9668.00</td>\n",
       "      <td>9669.0</td>\n",
       "      <td>9690.0</td>\n",
       "      <td>9690.00</td>\n",
       "      <td>9670.0</td>\n",
       "      <td>9689.6</td>\n",
       "      <td>9692.0</td>\n",
       "      <td>9670.0</td>\n",
       "      <td>3.0</td>\n",
       "      <td>20</td>\n",
       "      <td>19369450</td>\n",
       "      <td>2023-02-06</td>\n",
       "      <td>Afgri</td>\n",
       "      <td>silo_5</td>\n",
       "      <td>Silos</td>\n",
       "      <td>02</td>\n",
       "      <td>May</td>\n",
       "      <td>23</td>\n",
       "      <td>BEAN</td>\n",
       "    </tr>\n",
       "    <tr>\n",
       "      <th>2</th>\n",
       "      <td>03 Jul 23 BEAN</td>\n",
       "      <td>9668.00</td>\n",
       "      <td>9650.0</td>\n",
       "      <td>9683.0</td>\n",
       "      <td>9650.00</td>\n",
       "      <td>9619.0</td>\n",
       "      <td>9619.0</td>\n",
       "      <td>0.0</td>\n",
       "      <td>0.0</td>\n",
       "      <td>0.0</td>\n",
       "      <td>0</td>\n",
       "      <td>0</td>\n",
       "      <td>2023-02-06</td>\n",
       "      <td>Afgri</td>\n",
       "      <td>silo_5</td>\n",
       "      <td>Silos</td>\n",
       "      <td>03</td>\n",
       "      <td>Jul</td>\n",
       "      <td>23</td>\n",
       "      <td>BEAN</td>\n",
       "    </tr>\n",
       "    <tr>\n",
       "      <th>3</th>\n",
       "      <td>01 Sep 23 BEAN</td>\n",
       "      <td>9668.00</td>\n",
       "      <td>8959.0</td>\n",
       "      <td>9002.0</td>\n",
       "      <td>8963.00</td>\n",
       "      <td>8963.0</td>\n",
       "      <td>8963.0</td>\n",
       "      <td>8963.0</td>\n",
       "      <td>8963.0</td>\n",
       "      <td>1.0</td>\n",
       "      <td>10</td>\n",
       "      <td>8963000</td>\n",
       "      <td>2023-02-06</td>\n",
       "      <td>Afgri</td>\n",
       "      <td>silo_5</td>\n",
       "      <td>Silos</td>\n",
       "      <td>01</td>\n",
       "      <td>Sep</td>\n",
       "      <td>23</td>\n",
       "      <td>BEAN</td>\n",
       "    </tr>\n",
       "    <tr>\n",
       "      <th>4</th>\n",
       "      <td>01 Nov 23 BEAN</td>\n",
       "      <td>9668.00</td>\n",
       "      <td>8762.0</td>\n",
       "      <td>8822.0</td>\n",
       "      <td>8775.00</td>\n",
       "      <td>8775.0</td>\n",
       "      <td>8775.0</td>\n",
       "      <td>0.0</td>\n",
       "      <td>0.0</td>\n",
       "      <td>0.0</td>\n",
       "      <td>0</td>\n",
       "      <td>0</td>\n",
       "      <td>2023-02-06</td>\n",
       "      <td>Afgri</td>\n",
       "      <td>silo_5</td>\n",
       "      <td>Silos</td>\n",
       "      <td>01</td>\n",
       "      <td>Nov</td>\n",
       "      <td>23</td>\n",
       "      <td>BEAN</td>\n",
       "    </tr>\n",
       "    <tr>\n",
       "      <th>...</th>\n",
       "      <td>...</td>\n",
       "      <td>...</td>\n",
       "      <td>...</td>\n",
       "      <td>...</td>\n",
       "      <td>...</td>\n",
       "      <td>...</td>\n",
       "      <td>...</td>\n",
       "      <td>...</td>\n",
       "      <td>...</td>\n",
       "      <td>...</td>\n",
       "      <td>...</td>\n",
       "      <td>...</td>\n",
       "      <td>...</td>\n",
       "      <td>...</td>\n",
       "      <td>...</td>\n",
       "      <td>...</td>\n",
       "      <td>...</td>\n",
       "      <td>...</td>\n",
       "      <td>...</td>\n",
       "      <td>...</td>\n",
       "    </tr>\n",
       "    <tr>\n",
       "      <th>741655</th>\n",
       "      <td>23 Apr 24 YMAZ</td>\n",
       "      <td>3560.00</td>\n",
       "      <td>0.0</td>\n",
       "      <td>0.0</td>\n",
       "      <td>3849.00</td>\n",
       "      <td>3849.0</td>\n",
       "      <td>3849.0</td>\n",
       "      <td>0.0</td>\n",
       "      <td>0.0</td>\n",
       "      <td>0.0</td>\n",
       "      <td>0</td>\n",
       "      <td>0</td>\n",
       "      <td>2023-05-05</td>\n",
       "      <td>White River Mills</td>\n",
       "      <td>MILL24</td>\n",
       "      <td>Millers</td>\n",
       "      <td>23</td>\n",
       "      <td>Apr</td>\n",
       "      <td>24</td>\n",
       "      <td>YMAZ</td>\n",
       "    </tr>\n",
       "    <tr>\n",
       "      <th>741656</th>\n",
       "      <td>24 May 24 YMAZ</td>\n",
       "      <td>3560.00</td>\n",
       "      <td>3691.0</td>\n",
       "      <td>0.0</td>\n",
       "      <td>4136.00</td>\n",
       "      <td>4136.0</td>\n",
       "      <td>4136.0</td>\n",
       "      <td>0.0</td>\n",
       "      <td>0.0</td>\n",
       "      <td>0.0</td>\n",
       "      <td>0</td>\n",
       "      <td>0</td>\n",
       "      <td>2023-05-05</td>\n",
       "      <td>White River Mills</td>\n",
       "      <td>MILL24</td>\n",
       "      <td>Millers</td>\n",
       "      <td>24</td>\n",
       "      <td>May</td>\n",
       "      <td>24</td>\n",
       "      <td>YMAZ</td>\n",
       "    </tr>\n",
       "    <tr>\n",
       "      <th>741657</th>\n",
       "      <td>24 Jul 24 YMAZ</td>\n",
       "      <td>3560.00</td>\n",
       "      <td>3781.0</td>\n",
       "      <td>3800.0</td>\n",
       "      <td>3784.00</td>\n",
       "      <td>3784.0</td>\n",
       "      <td>3800.0</td>\n",
       "      <td>3800.0</td>\n",
       "      <td>3784.0</td>\n",
       "      <td>2.0</td>\n",
       "      <td>2</td>\n",
       "      <td>758400</td>\n",
       "      <td>2023-05-05</td>\n",
       "      <td>White River Mills</td>\n",
       "      <td>MILL24</td>\n",
       "      <td>Millers</td>\n",
       "      <td>24</td>\n",
       "      <td>Jul</td>\n",
       "      <td>24</td>\n",
       "      <td>YMAZ</td>\n",
       "    </tr>\n",
       "    <tr>\n",
       "      <th>741658</th>\n",
       "      <td>20 Dec 24 YMAZ</td>\n",
       "      <td>3560.00</td>\n",
       "      <td>0.0</td>\n",
       "      <td>0.0</td>\n",
       "      <td>3941.00</td>\n",
       "      <td>3941.0</td>\n",
       "      <td>3941.0</td>\n",
       "      <td>0.0</td>\n",
       "      <td>0.0</td>\n",
       "      <td>0.0</td>\n",
       "      <td>0</td>\n",
       "      <td>0</td>\n",
       "      <td>2023-05-05</td>\n",
       "      <td>White River Mills</td>\n",
       "      <td>MILL24</td>\n",
       "      <td>Millers</td>\n",
       "      <td>20</td>\n",
       "      <td>Dec</td>\n",
       "      <td>24</td>\n",
       "      <td>YMAZ</td>\n",
       "    </tr>\n",
       "    <tr>\n",
       "      <th>741659</th>\n",
       "      <td>26 Jun 23 XQMM</td>\n",
       "      <td>418.75</td>\n",
       "      <td>0.0</td>\n",
       "      <td>0.0</td>\n",
       "      <td>418.75</td>\n",
       "      <td>423.2</td>\n",
       "      <td>423.2</td>\n",
       "      <td>0.0</td>\n",
       "      <td>0.0</td>\n",
       "      <td>0.0</td>\n",
       "      <td>0</td>\n",
       "      <td>0</td>\n",
       "      <td>2023-05-05</td>\n",
       "      <td>White River Mills</td>\n",
       "      <td>MILL24</td>\n",
       "      <td>Millers</td>\n",
       "      <td>26</td>\n",
       "      <td>Jun</td>\n",
       "      <td>23</td>\n",
       "      <td>XQMM</td>\n",
       "    </tr>\n",
       "  </tbody>\n",
       "</table>\n",
       "<p>741660 rows × 20 columns</p>\n",
       "</div>"
      ],
      "text/plain": [
       "         contract_type  volatility     bid   offer  market_to_market   first  \\\n",
       "0       01 Mar 23 BEAN     9668.00  9664.0  9677.0           9668.00  9640.0   \n",
       "1       02 May 23 BEAN     9668.00  9669.0  9690.0           9690.00  9670.0   \n",
       "2       03 Jul 23 BEAN     9668.00  9650.0  9683.0           9650.00  9619.0   \n",
       "3       01 Sep 23 BEAN     9668.00  8959.0  9002.0           8963.00  8963.0   \n",
       "4       01 Nov 23 BEAN     9668.00  8762.0  8822.0           8775.00  8775.0   \n",
       "...                ...         ...     ...     ...               ...     ...   \n",
       "741655  23 Apr 24 YMAZ     3560.00     0.0     0.0           3849.00  3849.0   \n",
       "741656  24 May 24 YMAZ     3560.00  3691.0     0.0           4136.00  4136.0   \n",
       "741657  24 Jul 24 YMAZ     3560.00  3781.0  3800.0           3784.00  3784.0   \n",
       "741658  20 Dec 24 YMAZ     3560.00     0.0     0.0           3941.00  3941.0   \n",
       "741659  26 Jun 23 XQMM      418.75     0.0     0.0            418.75   423.2   \n",
       "\n",
       "          last    high     low  deals  contracts     value upload_date  \\\n",
       "0       9686.4  9688.0  9640.0    5.0         10   9670720  2023-02-06   \n",
       "1       9689.6  9692.0  9670.0    3.0         20  19369450  2023-02-06   \n",
       "2       9619.0     0.0     0.0    0.0          0         0  2023-02-06   \n",
       "3       8963.0  8963.0  8963.0    1.0         10   8963000  2023-02-06   \n",
       "4       8775.0     0.0     0.0    0.0          0         0  2023-02-06   \n",
       "...        ...     ...     ...    ...        ...       ...         ...   \n",
       "741655  3849.0     0.0     0.0    0.0          0         0  2023-05-05   \n",
       "741656  4136.0     0.0     0.0    0.0          0         0  2023-05-05   \n",
       "741657  3800.0  3800.0  3784.0    2.0          2    758400  2023-05-05   \n",
       "741658  3941.0     0.0     0.0    0.0          0         0  2023-05-05   \n",
       "741659   423.2     0.0     0.0    0.0          0         0  2023-05-05   \n",
       "\n",
       "               market_name market_code market_type Day Month Year Grain_Type  \n",
       "0                   Afgri      silo_5       Silos   01   Mar   23       BEAN  \n",
       "1                   Afgri      silo_5       Silos   02   May   23       BEAN  \n",
       "2                   Afgri      silo_5       Silos   03   Jul   23       BEAN  \n",
       "3                   Afgri      silo_5       Silos   01   Sep   23       BEAN  \n",
       "4                   Afgri      silo_5       Silos   01   Nov   23       BEAN  \n",
       "...                    ...         ...         ...  ..   ...  ...        ...  \n",
       "741655  White River Mills      MILL24     Millers   23   Apr   24       YMAZ  \n",
       "741656  White River Mills      MILL24     Millers   24   May   24       YMAZ  \n",
       "741657  White River Mills      MILL24     Millers   24   Jul   24       YMAZ  \n",
       "741658  White River Mills      MILL24     Millers   20   Dec   24       YMAZ  \n",
       "741659  White River Mills      MILL24     Millers   26   Jun   23       XQMM  \n",
       "\n",
       "[741660 rows x 20 columns]"
      ]
     },
     "execution_count": 5,
     "metadata": {},
     "output_type": "execute_result"
    }
   ],
   "source": [
    "'''\n",
    "Split the information under the 'contract_type' column by the spaces for the purpose of extrating the contract \n",
    "date information and grain type information\n",
    "'''\n",
    "\n",
    "df[['Day', 'Month', 'Year', \"Grain_Type\"]] = df['contract_type'].str.split(' ', expand=True)\n",
    "df"
   ]
  },
  {
   "cell_type": "code",
   "execution_count": 6,
   "id": "24526ace",
   "metadata": {},
   "outputs": [
    {
     "data": {
      "text/html": [
       "<div>\n",
       "<style scoped>\n",
       "    .dataframe tbody tr th:only-of-type {\n",
       "        vertical-align: middle;\n",
       "    }\n",
       "\n",
       "    .dataframe tbody tr th {\n",
       "        vertical-align: top;\n",
       "    }\n",
       "\n",
       "    .dataframe thead th {\n",
       "        text-align: right;\n",
       "    }\n",
       "</style>\n",
       "<table border=\"1\" class=\"dataframe\">\n",
       "  <thead>\n",
       "    <tr style=\"text-align: right;\">\n",
       "      <th></th>\n",
       "      <th>contract_type</th>\n",
       "      <th>volatility</th>\n",
       "      <th>bid</th>\n",
       "      <th>offer</th>\n",
       "      <th>market_to_market</th>\n",
       "      <th>first</th>\n",
       "      <th>last</th>\n",
       "      <th>high</th>\n",
       "      <th>low</th>\n",
       "      <th>deals</th>\n",
       "      <th>...</th>\n",
       "      <th>value</th>\n",
       "      <th>upload_date</th>\n",
       "      <th>market_name</th>\n",
       "      <th>market_code</th>\n",
       "      <th>market_type</th>\n",
       "      <th>Day</th>\n",
       "      <th>Month</th>\n",
       "      <th>Year</th>\n",
       "      <th>Grain_Type</th>\n",
       "      <th>Month_Code</th>\n",
       "    </tr>\n",
       "  </thead>\n",
       "  <tbody>\n",
       "    <tr>\n",
       "      <th>0</th>\n",
       "      <td>01 Mar 23 BEAN</td>\n",
       "      <td>9668.00</td>\n",
       "      <td>9664.0</td>\n",
       "      <td>9677.0</td>\n",
       "      <td>9668.00</td>\n",
       "      <td>9640.0</td>\n",
       "      <td>9686.4</td>\n",
       "      <td>9688.0</td>\n",
       "      <td>9640.0</td>\n",
       "      <td>5.0</td>\n",
       "      <td>...</td>\n",
       "      <td>9670720</td>\n",
       "      <td>2023-02-06</td>\n",
       "      <td>Afgri</td>\n",
       "      <td>silo_5</td>\n",
       "      <td>Silos</td>\n",
       "      <td>01</td>\n",
       "      <td>Mar</td>\n",
       "      <td>23</td>\n",
       "      <td>BEAN</td>\n",
       "      <td>3</td>\n",
       "    </tr>\n",
       "    <tr>\n",
       "      <th>1</th>\n",
       "      <td>02 May 23 BEAN</td>\n",
       "      <td>9668.00</td>\n",
       "      <td>9669.0</td>\n",
       "      <td>9690.0</td>\n",
       "      <td>9690.00</td>\n",
       "      <td>9670.0</td>\n",
       "      <td>9689.6</td>\n",
       "      <td>9692.0</td>\n",
       "      <td>9670.0</td>\n",
       "      <td>3.0</td>\n",
       "      <td>...</td>\n",
       "      <td>19369450</td>\n",
       "      <td>2023-02-06</td>\n",
       "      <td>Afgri</td>\n",
       "      <td>silo_5</td>\n",
       "      <td>Silos</td>\n",
       "      <td>02</td>\n",
       "      <td>May</td>\n",
       "      <td>23</td>\n",
       "      <td>BEAN</td>\n",
       "      <td>5</td>\n",
       "    </tr>\n",
       "    <tr>\n",
       "      <th>2</th>\n",
       "      <td>03 Jul 23 BEAN</td>\n",
       "      <td>9668.00</td>\n",
       "      <td>9650.0</td>\n",
       "      <td>9683.0</td>\n",
       "      <td>9650.00</td>\n",
       "      <td>9619.0</td>\n",
       "      <td>9619.0</td>\n",
       "      <td>0.0</td>\n",
       "      <td>0.0</td>\n",
       "      <td>0.0</td>\n",
       "      <td>...</td>\n",
       "      <td>0</td>\n",
       "      <td>2023-02-06</td>\n",
       "      <td>Afgri</td>\n",
       "      <td>silo_5</td>\n",
       "      <td>Silos</td>\n",
       "      <td>03</td>\n",
       "      <td>Jul</td>\n",
       "      <td>23</td>\n",
       "      <td>BEAN</td>\n",
       "      <td>7</td>\n",
       "    </tr>\n",
       "    <tr>\n",
       "      <th>3</th>\n",
       "      <td>01 Sep 23 BEAN</td>\n",
       "      <td>9668.00</td>\n",
       "      <td>8959.0</td>\n",
       "      <td>9002.0</td>\n",
       "      <td>8963.00</td>\n",
       "      <td>8963.0</td>\n",
       "      <td>8963.0</td>\n",
       "      <td>8963.0</td>\n",
       "      <td>8963.0</td>\n",
       "      <td>1.0</td>\n",
       "      <td>...</td>\n",
       "      <td>8963000</td>\n",
       "      <td>2023-02-06</td>\n",
       "      <td>Afgri</td>\n",
       "      <td>silo_5</td>\n",
       "      <td>Silos</td>\n",
       "      <td>01</td>\n",
       "      <td>Sep</td>\n",
       "      <td>23</td>\n",
       "      <td>BEAN</td>\n",
       "      <td>9</td>\n",
       "    </tr>\n",
       "    <tr>\n",
       "      <th>4</th>\n",
       "      <td>01 Nov 23 BEAN</td>\n",
       "      <td>9668.00</td>\n",
       "      <td>8762.0</td>\n",
       "      <td>8822.0</td>\n",
       "      <td>8775.00</td>\n",
       "      <td>8775.0</td>\n",
       "      <td>8775.0</td>\n",
       "      <td>0.0</td>\n",
       "      <td>0.0</td>\n",
       "      <td>0.0</td>\n",
       "      <td>...</td>\n",
       "      <td>0</td>\n",
       "      <td>2023-02-06</td>\n",
       "      <td>Afgri</td>\n",
       "      <td>silo_5</td>\n",
       "      <td>Silos</td>\n",
       "      <td>01</td>\n",
       "      <td>Nov</td>\n",
       "      <td>23</td>\n",
       "      <td>BEAN</td>\n",
       "      <td>11</td>\n",
       "    </tr>\n",
       "    <tr>\n",
       "      <th>...</th>\n",
       "      <td>...</td>\n",
       "      <td>...</td>\n",
       "      <td>...</td>\n",
       "      <td>...</td>\n",
       "      <td>...</td>\n",
       "      <td>...</td>\n",
       "      <td>...</td>\n",
       "      <td>...</td>\n",
       "      <td>...</td>\n",
       "      <td>...</td>\n",
       "      <td>...</td>\n",
       "      <td>...</td>\n",
       "      <td>...</td>\n",
       "      <td>...</td>\n",
       "      <td>...</td>\n",
       "      <td>...</td>\n",
       "      <td>...</td>\n",
       "      <td>...</td>\n",
       "      <td>...</td>\n",
       "      <td>...</td>\n",
       "      <td>...</td>\n",
       "    </tr>\n",
       "    <tr>\n",
       "      <th>741655</th>\n",
       "      <td>23 Apr 24 YMAZ</td>\n",
       "      <td>3560.00</td>\n",
       "      <td>0.0</td>\n",
       "      <td>0.0</td>\n",
       "      <td>3849.00</td>\n",
       "      <td>3849.0</td>\n",
       "      <td>3849.0</td>\n",
       "      <td>0.0</td>\n",
       "      <td>0.0</td>\n",
       "      <td>0.0</td>\n",
       "      <td>...</td>\n",
       "      <td>0</td>\n",
       "      <td>2023-05-05</td>\n",
       "      <td>White River Mills</td>\n",
       "      <td>MILL24</td>\n",
       "      <td>Millers</td>\n",
       "      <td>23</td>\n",
       "      <td>Apr</td>\n",
       "      <td>24</td>\n",
       "      <td>YMAZ</td>\n",
       "      <td>4</td>\n",
       "    </tr>\n",
       "    <tr>\n",
       "      <th>741656</th>\n",
       "      <td>24 May 24 YMAZ</td>\n",
       "      <td>3560.00</td>\n",
       "      <td>3691.0</td>\n",
       "      <td>0.0</td>\n",
       "      <td>4136.00</td>\n",
       "      <td>4136.0</td>\n",
       "      <td>4136.0</td>\n",
       "      <td>0.0</td>\n",
       "      <td>0.0</td>\n",
       "      <td>0.0</td>\n",
       "      <td>...</td>\n",
       "      <td>0</td>\n",
       "      <td>2023-05-05</td>\n",
       "      <td>White River Mills</td>\n",
       "      <td>MILL24</td>\n",
       "      <td>Millers</td>\n",
       "      <td>24</td>\n",
       "      <td>May</td>\n",
       "      <td>24</td>\n",
       "      <td>YMAZ</td>\n",
       "      <td>5</td>\n",
       "    </tr>\n",
       "    <tr>\n",
       "      <th>741657</th>\n",
       "      <td>24 Jul 24 YMAZ</td>\n",
       "      <td>3560.00</td>\n",
       "      <td>3781.0</td>\n",
       "      <td>3800.0</td>\n",
       "      <td>3784.00</td>\n",
       "      <td>3784.0</td>\n",
       "      <td>3800.0</td>\n",
       "      <td>3800.0</td>\n",
       "      <td>3784.0</td>\n",
       "      <td>2.0</td>\n",
       "      <td>...</td>\n",
       "      <td>758400</td>\n",
       "      <td>2023-05-05</td>\n",
       "      <td>White River Mills</td>\n",
       "      <td>MILL24</td>\n",
       "      <td>Millers</td>\n",
       "      <td>24</td>\n",
       "      <td>Jul</td>\n",
       "      <td>24</td>\n",
       "      <td>YMAZ</td>\n",
       "      <td>7</td>\n",
       "    </tr>\n",
       "    <tr>\n",
       "      <th>741658</th>\n",
       "      <td>20 Dec 24 YMAZ</td>\n",
       "      <td>3560.00</td>\n",
       "      <td>0.0</td>\n",
       "      <td>0.0</td>\n",
       "      <td>3941.00</td>\n",
       "      <td>3941.0</td>\n",
       "      <td>3941.0</td>\n",
       "      <td>0.0</td>\n",
       "      <td>0.0</td>\n",
       "      <td>0.0</td>\n",
       "      <td>...</td>\n",
       "      <td>0</td>\n",
       "      <td>2023-05-05</td>\n",
       "      <td>White River Mills</td>\n",
       "      <td>MILL24</td>\n",
       "      <td>Millers</td>\n",
       "      <td>20</td>\n",
       "      <td>Dec</td>\n",
       "      <td>24</td>\n",
       "      <td>YMAZ</td>\n",
       "      <td>12</td>\n",
       "    </tr>\n",
       "    <tr>\n",
       "      <th>741659</th>\n",
       "      <td>26 Jun 23 XQMM</td>\n",
       "      <td>418.75</td>\n",
       "      <td>0.0</td>\n",
       "      <td>0.0</td>\n",
       "      <td>418.75</td>\n",
       "      <td>423.2</td>\n",
       "      <td>423.2</td>\n",
       "      <td>0.0</td>\n",
       "      <td>0.0</td>\n",
       "      <td>0.0</td>\n",
       "      <td>...</td>\n",
       "      <td>0</td>\n",
       "      <td>2023-05-05</td>\n",
       "      <td>White River Mills</td>\n",
       "      <td>MILL24</td>\n",
       "      <td>Millers</td>\n",
       "      <td>26</td>\n",
       "      <td>Jun</td>\n",
       "      <td>23</td>\n",
       "      <td>XQMM</td>\n",
       "      <td>6</td>\n",
       "    </tr>\n",
       "  </tbody>\n",
       "</table>\n",
       "<p>741660 rows × 21 columns</p>\n",
       "</div>"
      ],
      "text/plain": [
       "         contract_type  volatility     bid   offer  market_to_market   first  \\\n",
       "0       01 Mar 23 BEAN     9668.00  9664.0  9677.0           9668.00  9640.0   \n",
       "1       02 May 23 BEAN     9668.00  9669.0  9690.0           9690.00  9670.0   \n",
       "2       03 Jul 23 BEAN     9668.00  9650.0  9683.0           9650.00  9619.0   \n",
       "3       01 Sep 23 BEAN     9668.00  8959.0  9002.0           8963.00  8963.0   \n",
       "4       01 Nov 23 BEAN     9668.00  8762.0  8822.0           8775.00  8775.0   \n",
       "...                ...         ...     ...     ...               ...     ...   \n",
       "741655  23 Apr 24 YMAZ     3560.00     0.0     0.0           3849.00  3849.0   \n",
       "741656  24 May 24 YMAZ     3560.00  3691.0     0.0           4136.00  4136.0   \n",
       "741657  24 Jul 24 YMAZ     3560.00  3781.0  3800.0           3784.00  3784.0   \n",
       "741658  20 Dec 24 YMAZ     3560.00     0.0     0.0           3941.00  3941.0   \n",
       "741659  26 Jun 23 XQMM      418.75     0.0     0.0            418.75   423.2   \n",
       "\n",
       "          last    high     low  deals  ...     value  upload_date  \\\n",
       "0       9686.4  9688.0  9640.0    5.0  ...   9670720   2023-02-06   \n",
       "1       9689.6  9692.0  9670.0    3.0  ...  19369450   2023-02-06   \n",
       "2       9619.0     0.0     0.0    0.0  ...         0   2023-02-06   \n",
       "3       8963.0  8963.0  8963.0    1.0  ...   8963000   2023-02-06   \n",
       "4       8775.0     0.0     0.0    0.0  ...         0   2023-02-06   \n",
       "...        ...     ...     ...    ...  ...       ...          ...   \n",
       "741655  3849.0     0.0     0.0    0.0  ...         0   2023-05-05   \n",
       "741656  4136.0     0.0     0.0    0.0  ...         0   2023-05-05   \n",
       "741657  3800.0  3800.0  3784.0    2.0  ...    758400   2023-05-05   \n",
       "741658  3941.0     0.0     0.0    0.0  ...         0   2023-05-05   \n",
       "741659   423.2     0.0     0.0    0.0  ...         0   2023-05-05   \n",
       "\n",
       "               market_name market_code market_type Day Month Year Grain_Type  \\\n",
       "0                   Afgri      silo_5       Silos   01   Mar   23       BEAN   \n",
       "1                   Afgri      silo_5       Silos   02   May   23       BEAN   \n",
       "2                   Afgri      silo_5       Silos   03   Jul   23       BEAN   \n",
       "3                   Afgri      silo_5       Silos   01   Sep   23       BEAN   \n",
       "4                   Afgri      silo_5       Silos   01   Nov   23       BEAN   \n",
       "...                    ...         ...         ...  ..   ...  ...        ...   \n",
       "741655  White River Mills      MILL24     Millers   23   Apr   24       YMAZ   \n",
       "741656  White River Mills      MILL24     Millers   24   May   24       YMAZ   \n",
       "741657  White River Mills      MILL24     Millers   24   Jul   24       YMAZ   \n",
       "741658  White River Mills      MILL24     Millers   20   Dec   24       YMAZ   \n",
       "741659  White River Mills      MILL24     Millers   26   Jun   23       XQMM   \n",
       "\n",
       "       Month_Code  \n",
       "0               3  \n",
       "1               5  \n",
       "2               7  \n",
       "3               9  \n",
       "4              11  \n",
       "...           ...  \n",
       "741655          4  \n",
       "741656          5  \n",
       "741657          7  \n",
       "741658         12  \n",
       "741659          6  \n",
       "\n",
       "[741660 rows x 21 columns]"
      ]
     },
     "execution_count": 6,
     "metadata": {},
     "output_type": "execute_result"
    }
   ],
   "source": [
    "# The ensuing 'Month' column from the previous code is transformed from month code numbers into month names\n",
    "df['Month_Code'] = df['Month'].replace(['Jan', 'Feb', 'Mar', 'Apr', 'May', 'Jun', 'Jul', 'Aug', 'Sep', 'Oct', 'Nov', 'Dec'], ['1', '2', '3', '4', '5', '6', '7', '8', '9', '10', '11', '12' ])\n",
    "df"
   ]
  },
  {
   "cell_type": "code",
   "execution_count": 7,
   "id": "a95c0388",
   "metadata": {
    "scrolled": false
   },
   "outputs": [
    {
     "data": {
      "text/html": [
       "<div>\n",
       "<style scoped>\n",
       "    .dataframe tbody tr th:only-of-type {\n",
       "        vertical-align: middle;\n",
       "    }\n",
       "\n",
       "    .dataframe tbody tr th {\n",
       "        vertical-align: top;\n",
       "    }\n",
       "\n",
       "    .dataframe thead th {\n",
       "        text-align: right;\n",
       "    }\n",
       "</style>\n",
       "<table border=\"1\" class=\"dataframe\">\n",
       "  <thead>\n",
       "    <tr style=\"text-align: right;\">\n",
       "      <th></th>\n",
       "      <th>contract_type</th>\n",
       "      <th>volatility</th>\n",
       "      <th>bid</th>\n",
       "      <th>offer</th>\n",
       "      <th>market_to_market</th>\n",
       "      <th>first</th>\n",
       "      <th>last</th>\n",
       "      <th>high</th>\n",
       "      <th>low</th>\n",
       "      <th>deals</th>\n",
       "      <th>...</th>\n",
       "      <th>upload_date</th>\n",
       "      <th>market_name</th>\n",
       "      <th>market_code</th>\n",
       "      <th>market_type</th>\n",
       "      <th>Day</th>\n",
       "      <th>Month</th>\n",
       "      <th>Year</th>\n",
       "      <th>Grain_Type</th>\n",
       "      <th>Month_Code</th>\n",
       "      <th>Year_Full_Format</th>\n",
       "    </tr>\n",
       "  </thead>\n",
       "  <tbody>\n",
       "    <tr>\n",
       "      <th>0</th>\n",
       "      <td>01 Mar 23 BEAN</td>\n",
       "      <td>9668.00</td>\n",
       "      <td>9664.0</td>\n",
       "      <td>9677.0</td>\n",
       "      <td>9668.00</td>\n",
       "      <td>9640.0</td>\n",
       "      <td>9686.4</td>\n",
       "      <td>9688.0</td>\n",
       "      <td>9640.0</td>\n",
       "      <td>5.0</td>\n",
       "      <td>...</td>\n",
       "      <td>2023-02-06</td>\n",
       "      <td>Afgri</td>\n",
       "      <td>silo_5</td>\n",
       "      <td>Silos</td>\n",
       "      <td>01</td>\n",
       "      <td>Mar</td>\n",
       "      <td>23</td>\n",
       "      <td>BEAN</td>\n",
       "      <td>3</td>\n",
       "      <td>2023</td>\n",
       "    </tr>\n",
       "    <tr>\n",
       "      <th>1</th>\n",
       "      <td>02 May 23 BEAN</td>\n",
       "      <td>9668.00</td>\n",
       "      <td>9669.0</td>\n",
       "      <td>9690.0</td>\n",
       "      <td>9690.00</td>\n",
       "      <td>9670.0</td>\n",
       "      <td>9689.6</td>\n",
       "      <td>9692.0</td>\n",
       "      <td>9670.0</td>\n",
       "      <td>3.0</td>\n",
       "      <td>...</td>\n",
       "      <td>2023-02-06</td>\n",
       "      <td>Afgri</td>\n",
       "      <td>silo_5</td>\n",
       "      <td>Silos</td>\n",
       "      <td>02</td>\n",
       "      <td>May</td>\n",
       "      <td>23</td>\n",
       "      <td>BEAN</td>\n",
       "      <td>5</td>\n",
       "      <td>2023</td>\n",
       "    </tr>\n",
       "    <tr>\n",
       "      <th>2</th>\n",
       "      <td>03 Jul 23 BEAN</td>\n",
       "      <td>9668.00</td>\n",
       "      <td>9650.0</td>\n",
       "      <td>9683.0</td>\n",
       "      <td>9650.00</td>\n",
       "      <td>9619.0</td>\n",
       "      <td>9619.0</td>\n",
       "      <td>0.0</td>\n",
       "      <td>0.0</td>\n",
       "      <td>0.0</td>\n",
       "      <td>...</td>\n",
       "      <td>2023-02-06</td>\n",
       "      <td>Afgri</td>\n",
       "      <td>silo_5</td>\n",
       "      <td>Silos</td>\n",
       "      <td>03</td>\n",
       "      <td>Jul</td>\n",
       "      <td>23</td>\n",
       "      <td>BEAN</td>\n",
       "      <td>7</td>\n",
       "      <td>2023</td>\n",
       "    </tr>\n",
       "    <tr>\n",
       "      <th>3</th>\n",
       "      <td>01 Sep 23 BEAN</td>\n",
       "      <td>9668.00</td>\n",
       "      <td>8959.0</td>\n",
       "      <td>9002.0</td>\n",
       "      <td>8963.00</td>\n",
       "      <td>8963.0</td>\n",
       "      <td>8963.0</td>\n",
       "      <td>8963.0</td>\n",
       "      <td>8963.0</td>\n",
       "      <td>1.0</td>\n",
       "      <td>...</td>\n",
       "      <td>2023-02-06</td>\n",
       "      <td>Afgri</td>\n",
       "      <td>silo_5</td>\n",
       "      <td>Silos</td>\n",
       "      <td>01</td>\n",
       "      <td>Sep</td>\n",
       "      <td>23</td>\n",
       "      <td>BEAN</td>\n",
       "      <td>9</td>\n",
       "      <td>2023</td>\n",
       "    </tr>\n",
       "    <tr>\n",
       "      <th>4</th>\n",
       "      <td>01 Nov 23 BEAN</td>\n",
       "      <td>9668.00</td>\n",
       "      <td>8762.0</td>\n",
       "      <td>8822.0</td>\n",
       "      <td>8775.00</td>\n",
       "      <td>8775.0</td>\n",
       "      <td>8775.0</td>\n",
       "      <td>0.0</td>\n",
       "      <td>0.0</td>\n",
       "      <td>0.0</td>\n",
       "      <td>...</td>\n",
       "      <td>2023-02-06</td>\n",
       "      <td>Afgri</td>\n",
       "      <td>silo_5</td>\n",
       "      <td>Silos</td>\n",
       "      <td>01</td>\n",
       "      <td>Nov</td>\n",
       "      <td>23</td>\n",
       "      <td>BEAN</td>\n",
       "      <td>11</td>\n",
       "      <td>2023</td>\n",
       "    </tr>\n",
       "    <tr>\n",
       "      <th>...</th>\n",
       "      <td>...</td>\n",
       "      <td>...</td>\n",
       "      <td>...</td>\n",
       "      <td>...</td>\n",
       "      <td>...</td>\n",
       "      <td>...</td>\n",
       "      <td>...</td>\n",
       "      <td>...</td>\n",
       "      <td>...</td>\n",
       "      <td>...</td>\n",
       "      <td>...</td>\n",
       "      <td>...</td>\n",
       "      <td>...</td>\n",
       "      <td>...</td>\n",
       "      <td>...</td>\n",
       "      <td>...</td>\n",
       "      <td>...</td>\n",
       "      <td>...</td>\n",
       "      <td>...</td>\n",
       "      <td>...</td>\n",
       "      <td>...</td>\n",
       "    </tr>\n",
       "    <tr>\n",
       "      <th>741655</th>\n",
       "      <td>23 Apr 24 YMAZ</td>\n",
       "      <td>3560.00</td>\n",
       "      <td>0.0</td>\n",
       "      <td>0.0</td>\n",
       "      <td>3849.00</td>\n",
       "      <td>3849.0</td>\n",
       "      <td>3849.0</td>\n",
       "      <td>0.0</td>\n",
       "      <td>0.0</td>\n",
       "      <td>0.0</td>\n",
       "      <td>...</td>\n",
       "      <td>2023-05-05</td>\n",
       "      <td>White River Mills</td>\n",
       "      <td>MILL24</td>\n",
       "      <td>Millers</td>\n",
       "      <td>23</td>\n",
       "      <td>Apr</td>\n",
       "      <td>24</td>\n",
       "      <td>YMAZ</td>\n",
       "      <td>4</td>\n",
       "      <td>2024</td>\n",
       "    </tr>\n",
       "    <tr>\n",
       "      <th>741656</th>\n",
       "      <td>24 May 24 YMAZ</td>\n",
       "      <td>3560.00</td>\n",
       "      <td>3691.0</td>\n",
       "      <td>0.0</td>\n",
       "      <td>4136.00</td>\n",
       "      <td>4136.0</td>\n",
       "      <td>4136.0</td>\n",
       "      <td>0.0</td>\n",
       "      <td>0.0</td>\n",
       "      <td>0.0</td>\n",
       "      <td>...</td>\n",
       "      <td>2023-05-05</td>\n",
       "      <td>White River Mills</td>\n",
       "      <td>MILL24</td>\n",
       "      <td>Millers</td>\n",
       "      <td>24</td>\n",
       "      <td>May</td>\n",
       "      <td>24</td>\n",
       "      <td>YMAZ</td>\n",
       "      <td>5</td>\n",
       "      <td>2024</td>\n",
       "    </tr>\n",
       "    <tr>\n",
       "      <th>741657</th>\n",
       "      <td>24 Jul 24 YMAZ</td>\n",
       "      <td>3560.00</td>\n",
       "      <td>3781.0</td>\n",
       "      <td>3800.0</td>\n",
       "      <td>3784.00</td>\n",
       "      <td>3784.0</td>\n",
       "      <td>3800.0</td>\n",
       "      <td>3800.0</td>\n",
       "      <td>3784.0</td>\n",
       "      <td>2.0</td>\n",
       "      <td>...</td>\n",
       "      <td>2023-05-05</td>\n",
       "      <td>White River Mills</td>\n",
       "      <td>MILL24</td>\n",
       "      <td>Millers</td>\n",
       "      <td>24</td>\n",
       "      <td>Jul</td>\n",
       "      <td>24</td>\n",
       "      <td>YMAZ</td>\n",
       "      <td>7</td>\n",
       "      <td>2024</td>\n",
       "    </tr>\n",
       "    <tr>\n",
       "      <th>741658</th>\n",
       "      <td>20 Dec 24 YMAZ</td>\n",
       "      <td>3560.00</td>\n",
       "      <td>0.0</td>\n",
       "      <td>0.0</td>\n",
       "      <td>3941.00</td>\n",
       "      <td>3941.0</td>\n",
       "      <td>3941.0</td>\n",
       "      <td>0.0</td>\n",
       "      <td>0.0</td>\n",
       "      <td>0.0</td>\n",
       "      <td>...</td>\n",
       "      <td>2023-05-05</td>\n",
       "      <td>White River Mills</td>\n",
       "      <td>MILL24</td>\n",
       "      <td>Millers</td>\n",
       "      <td>20</td>\n",
       "      <td>Dec</td>\n",
       "      <td>24</td>\n",
       "      <td>YMAZ</td>\n",
       "      <td>12</td>\n",
       "      <td>2024</td>\n",
       "    </tr>\n",
       "    <tr>\n",
       "      <th>741659</th>\n",
       "      <td>26 Jun 23 XQMM</td>\n",
       "      <td>418.75</td>\n",
       "      <td>0.0</td>\n",
       "      <td>0.0</td>\n",
       "      <td>418.75</td>\n",
       "      <td>423.2</td>\n",
       "      <td>423.2</td>\n",
       "      <td>0.0</td>\n",
       "      <td>0.0</td>\n",
       "      <td>0.0</td>\n",
       "      <td>...</td>\n",
       "      <td>2023-05-05</td>\n",
       "      <td>White River Mills</td>\n",
       "      <td>MILL24</td>\n",
       "      <td>Millers</td>\n",
       "      <td>26</td>\n",
       "      <td>Jun</td>\n",
       "      <td>23</td>\n",
       "      <td>XQMM</td>\n",
       "      <td>6</td>\n",
       "      <td>2023</td>\n",
       "    </tr>\n",
       "  </tbody>\n",
       "</table>\n",
       "<p>741660 rows × 22 columns</p>\n",
       "</div>"
      ],
      "text/plain": [
       "         contract_type  volatility     bid   offer  market_to_market   first  \\\n",
       "0       01 Mar 23 BEAN     9668.00  9664.0  9677.0           9668.00  9640.0   \n",
       "1       02 May 23 BEAN     9668.00  9669.0  9690.0           9690.00  9670.0   \n",
       "2       03 Jul 23 BEAN     9668.00  9650.0  9683.0           9650.00  9619.0   \n",
       "3       01 Sep 23 BEAN     9668.00  8959.0  9002.0           8963.00  8963.0   \n",
       "4       01 Nov 23 BEAN     9668.00  8762.0  8822.0           8775.00  8775.0   \n",
       "...                ...         ...     ...     ...               ...     ...   \n",
       "741655  23 Apr 24 YMAZ     3560.00     0.0     0.0           3849.00  3849.0   \n",
       "741656  24 May 24 YMAZ     3560.00  3691.0     0.0           4136.00  4136.0   \n",
       "741657  24 Jul 24 YMAZ     3560.00  3781.0  3800.0           3784.00  3784.0   \n",
       "741658  20 Dec 24 YMAZ     3560.00     0.0     0.0           3941.00  3941.0   \n",
       "741659  26 Jun 23 XQMM      418.75     0.0     0.0            418.75   423.2   \n",
       "\n",
       "          last    high     low  deals  ...  upload_date         market_name  \\\n",
       "0       9686.4  9688.0  9640.0    5.0  ...   2023-02-06              Afgri    \n",
       "1       9689.6  9692.0  9670.0    3.0  ...   2023-02-06              Afgri    \n",
       "2       9619.0     0.0     0.0    0.0  ...   2023-02-06              Afgri    \n",
       "3       8963.0  8963.0  8963.0    1.0  ...   2023-02-06              Afgri    \n",
       "4       8775.0     0.0     0.0    0.0  ...   2023-02-06              Afgri    \n",
       "...        ...     ...     ...    ...  ...          ...                 ...   \n",
       "741655  3849.0     0.0     0.0    0.0  ...   2023-05-05  White River Mills    \n",
       "741656  4136.0     0.0     0.0    0.0  ...   2023-05-05  White River Mills    \n",
       "741657  3800.0  3800.0  3784.0    2.0  ...   2023-05-05  White River Mills    \n",
       "741658  3941.0     0.0     0.0    0.0  ...   2023-05-05  White River Mills    \n",
       "741659   423.2     0.0     0.0    0.0  ...   2023-05-05  White River Mills    \n",
       "\n",
       "       market_code market_type Day Month Year Grain_Type Month_Code  \\\n",
       "0          silo_5       Silos   01   Mar   23       BEAN          3   \n",
       "1          silo_5       Silos   02   May   23       BEAN          5   \n",
       "2          silo_5       Silos   03   Jul   23       BEAN          7   \n",
       "3          silo_5       Silos   01   Sep   23       BEAN          9   \n",
       "4          silo_5       Silos   01   Nov   23       BEAN         11   \n",
       "...            ...         ...  ..   ...  ...        ...        ...   \n",
       "741655     MILL24     Millers   23   Apr   24       YMAZ          4   \n",
       "741656     MILL24     Millers   24   May   24       YMAZ          5   \n",
       "741657     MILL24     Millers   24   Jul   24       YMAZ          7   \n",
       "741658     MILL24     Millers   20   Dec   24       YMAZ         12   \n",
       "741659     MILL24     Millers   26   Jun   23       XQMM          6   \n",
       "\n",
       "       Year_Full_Format  \n",
       "0                  2023  \n",
       "1                  2023  \n",
       "2                  2023  \n",
       "3                  2023  \n",
       "4                  2023  \n",
       "...                 ...  \n",
       "741655             2024  \n",
       "741656             2024  \n",
       "741657             2024  \n",
       "741658             2024  \n",
       "741659             2023  \n",
       "\n",
       "[741660 rows x 22 columns]"
      ]
     },
     "execution_count": 7,
     "metadata": {},
     "output_type": "execute_result"
    }
   ],
   "source": [
    "# The short format of year is enhanced into a fuller format\n",
    "df['Year_Full_Format'] = '20' + df['Year']\n",
    "df"
   ]
  },
  {
   "cell_type": "code",
   "execution_count": 8,
   "id": "2581575e",
   "metadata": {},
   "outputs": [
    {
     "data": {
      "text/html": [
       "<div>\n",
       "<style scoped>\n",
       "    .dataframe tbody tr th:only-of-type {\n",
       "        vertical-align: middle;\n",
       "    }\n",
       "\n",
       "    .dataframe tbody tr th {\n",
       "        vertical-align: top;\n",
       "    }\n",
       "\n",
       "    .dataframe thead th {\n",
       "        text-align: right;\n",
       "    }\n",
       "</style>\n",
       "<table border=\"1\" class=\"dataframe\">\n",
       "  <thead>\n",
       "    <tr style=\"text-align: right;\">\n",
       "      <th></th>\n",
       "      <th>contract_type</th>\n",
       "      <th>volatility</th>\n",
       "      <th>bid</th>\n",
       "      <th>offer</th>\n",
       "      <th>market_to_market</th>\n",
       "      <th>first</th>\n",
       "      <th>last</th>\n",
       "      <th>high</th>\n",
       "      <th>low</th>\n",
       "      <th>deals</th>\n",
       "      <th>...</th>\n",
       "      <th>market_name</th>\n",
       "      <th>market_code</th>\n",
       "      <th>market_type</th>\n",
       "      <th>Day</th>\n",
       "      <th>Month</th>\n",
       "      <th>Year</th>\n",
       "      <th>Grain_Type</th>\n",
       "      <th>Month_Code</th>\n",
       "      <th>Year_Full_Format</th>\n",
       "      <th>Contract_Date</th>\n",
       "    </tr>\n",
       "  </thead>\n",
       "  <tbody>\n",
       "    <tr>\n",
       "      <th>0</th>\n",
       "      <td>01 Mar 23 BEAN</td>\n",
       "      <td>9668.00</td>\n",
       "      <td>9664.0</td>\n",
       "      <td>9677.0</td>\n",
       "      <td>9668.00</td>\n",
       "      <td>9640.0</td>\n",
       "      <td>9686.4</td>\n",
       "      <td>9688.0</td>\n",
       "      <td>9640.0</td>\n",
       "      <td>5.0</td>\n",
       "      <td>...</td>\n",
       "      <td>Afgri</td>\n",
       "      <td>silo_5</td>\n",
       "      <td>Silos</td>\n",
       "      <td>01</td>\n",
       "      <td>Mar</td>\n",
       "      <td>23</td>\n",
       "      <td>BEAN</td>\n",
       "      <td>3</td>\n",
       "      <td>2023</td>\n",
       "      <td>3/01/2023</td>\n",
       "    </tr>\n",
       "    <tr>\n",
       "      <th>1</th>\n",
       "      <td>02 May 23 BEAN</td>\n",
       "      <td>9668.00</td>\n",
       "      <td>9669.0</td>\n",
       "      <td>9690.0</td>\n",
       "      <td>9690.00</td>\n",
       "      <td>9670.0</td>\n",
       "      <td>9689.6</td>\n",
       "      <td>9692.0</td>\n",
       "      <td>9670.0</td>\n",
       "      <td>3.0</td>\n",
       "      <td>...</td>\n",
       "      <td>Afgri</td>\n",
       "      <td>silo_5</td>\n",
       "      <td>Silos</td>\n",
       "      <td>02</td>\n",
       "      <td>May</td>\n",
       "      <td>23</td>\n",
       "      <td>BEAN</td>\n",
       "      <td>5</td>\n",
       "      <td>2023</td>\n",
       "      <td>5/02/2023</td>\n",
       "    </tr>\n",
       "    <tr>\n",
       "      <th>2</th>\n",
       "      <td>03 Jul 23 BEAN</td>\n",
       "      <td>9668.00</td>\n",
       "      <td>9650.0</td>\n",
       "      <td>9683.0</td>\n",
       "      <td>9650.00</td>\n",
       "      <td>9619.0</td>\n",
       "      <td>9619.0</td>\n",
       "      <td>0.0</td>\n",
       "      <td>0.0</td>\n",
       "      <td>0.0</td>\n",
       "      <td>...</td>\n",
       "      <td>Afgri</td>\n",
       "      <td>silo_5</td>\n",
       "      <td>Silos</td>\n",
       "      <td>03</td>\n",
       "      <td>Jul</td>\n",
       "      <td>23</td>\n",
       "      <td>BEAN</td>\n",
       "      <td>7</td>\n",
       "      <td>2023</td>\n",
       "      <td>7/03/2023</td>\n",
       "    </tr>\n",
       "    <tr>\n",
       "      <th>3</th>\n",
       "      <td>01 Sep 23 BEAN</td>\n",
       "      <td>9668.00</td>\n",
       "      <td>8959.0</td>\n",
       "      <td>9002.0</td>\n",
       "      <td>8963.00</td>\n",
       "      <td>8963.0</td>\n",
       "      <td>8963.0</td>\n",
       "      <td>8963.0</td>\n",
       "      <td>8963.0</td>\n",
       "      <td>1.0</td>\n",
       "      <td>...</td>\n",
       "      <td>Afgri</td>\n",
       "      <td>silo_5</td>\n",
       "      <td>Silos</td>\n",
       "      <td>01</td>\n",
       "      <td>Sep</td>\n",
       "      <td>23</td>\n",
       "      <td>BEAN</td>\n",
       "      <td>9</td>\n",
       "      <td>2023</td>\n",
       "      <td>9/01/2023</td>\n",
       "    </tr>\n",
       "    <tr>\n",
       "      <th>4</th>\n",
       "      <td>01 Nov 23 BEAN</td>\n",
       "      <td>9668.00</td>\n",
       "      <td>8762.0</td>\n",
       "      <td>8822.0</td>\n",
       "      <td>8775.00</td>\n",
       "      <td>8775.0</td>\n",
       "      <td>8775.0</td>\n",
       "      <td>0.0</td>\n",
       "      <td>0.0</td>\n",
       "      <td>0.0</td>\n",
       "      <td>...</td>\n",
       "      <td>Afgri</td>\n",
       "      <td>silo_5</td>\n",
       "      <td>Silos</td>\n",
       "      <td>01</td>\n",
       "      <td>Nov</td>\n",
       "      <td>23</td>\n",
       "      <td>BEAN</td>\n",
       "      <td>11</td>\n",
       "      <td>2023</td>\n",
       "      <td>11/01/2023</td>\n",
       "    </tr>\n",
       "    <tr>\n",
       "      <th>...</th>\n",
       "      <td>...</td>\n",
       "      <td>...</td>\n",
       "      <td>...</td>\n",
       "      <td>...</td>\n",
       "      <td>...</td>\n",
       "      <td>...</td>\n",
       "      <td>...</td>\n",
       "      <td>...</td>\n",
       "      <td>...</td>\n",
       "      <td>...</td>\n",
       "      <td>...</td>\n",
       "      <td>...</td>\n",
       "      <td>...</td>\n",
       "      <td>...</td>\n",
       "      <td>...</td>\n",
       "      <td>...</td>\n",
       "      <td>...</td>\n",
       "      <td>...</td>\n",
       "      <td>...</td>\n",
       "      <td>...</td>\n",
       "      <td>...</td>\n",
       "    </tr>\n",
       "    <tr>\n",
       "      <th>741655</th>\n",
       "      <td>23 Apr 24 YMAZ</td>\n",
       "      <td>3560.00</td>\n",
       "      <td>0.0</td>\n",
       "      <td>0.0</td>\n",
       "      <td>3849.00</td>\n",
       "      <td>3849.0</td>\n",
       "      <td>3849.0</td>\n",
       "      <td>0.0</td>\n",
       "      <td>0.0</td>\n",
       "      <td>0.0</td>\n",
       "      <td>...</td>\n",
       "      <td>White River Mills</td>\n",
       "      <td>MILL24</td>\n",
       "      <td>Millers</td>\n",
       "      <td>23</td>\n",
       "      <td>Apr</td>\n",
       "      <td>24</td>\n",
       "      <td>YMAZ</td>\n",
       "      <td>4</td>\n",
       "      <td>2024</td>\n",
       "      <td>4/23/2024</td>\n",
       "    </tr>\n",
       "    <tr>\n",
       "      <th>741656</th>\n",
       "      <td>24 May 24 YMAZ</td>\n",
       "      <td>3560.00</td>\n",
       "      <td>3691.0</td>\n",
       "      <td>0.0</td>\n",
       "      <td>4136.00</td>\n",
       "      <td>4136.0</td>\n",
       "      <td>4136.0</td>\n",
       "      <td>0.0</td>\n",
       "      <td>0.0</td>\n",
       "      <td>0.0</td>\n",
       "      <td>...</td>\n",
       "      <td>White River Mills</td>\n",
       "      <td>MILL24</td>\n",
       "      <td>Millers</td>\n",
       "      <td>24</td>\n",
       "      <td>May</td>\n",
       "      <td>24</td>\n",
       "      <td>YMAZ</td>\n",
       "      <td>5</td>\n",
       "      <td>2024</td>\n",
       "      <td>5/24/2024</td>\n",
       "    </tr>\n",
       "    <tr>\n",
       "      <th>741657</th>\n",
       "      <td>24 Jul 24 YMAZ</td>\n",
       "      <td>3560.00</td>\n",
       "      <td>3781.0</td>\n",
       "      <td>3800.0</td>\n",
       "      <td>3784.00</td>\n",
       "      <td>3784.0</td>\n",
       "      <td>3800.0</td>\n",
       "      <td>3800.0</td>\n",
       "      <td>3784.0</td>\n",
       "      <td>2.0</td>\n",
       "      <td>...</td>\n",
       "      <td>White River Mills</td>\n",
       "      <td>MILL24</td>\n",
       "      <td>Millers</td>\n",
       "      <td>24</td>\n",
       "      <td>Jul</td>\n",
       "      <td>24</td>\n",
       "      <td>YMAZ</td>\n",
       "      <td>7</td>\n",
       "      <td>2024</td>\n",
       "      <td>7/24/2024</td>\n",
       "    </tr>\n",
       "    <tr>\n",
       "      <th>741658</th>\n",
       "      <td>20 Dec 24 YMAZ</td>\n",
       "      <td>3560.00</td>\n",
       "      <td>0.0</td>\n",
       "      <td>0.0</td>\n",
       "      <td>3941.00</td>\n",
       "      <td>3941.0</td>\n",
       "      <td>3941.0</td>\n",
       "      <td>0.0</td>\n",
       "      <td>0.0</td>\n",
       "      <td>0.0</td>\n",
       "      <td>...</td>\n",
       "      <td>White River Mills</td>\n",
       "      <td>MILL24</td>\n",
       "      <td>Millers</td>\n",
       "      <td>20</td>\n",
       "      <td>Dec</td>\n",
       "      <td>24</td>\n",
       "      <td>YMAZ</td>\n",
       "      <td>12</td>\n",
       "      <td>2024</td>\n",
       "      <td>12/20/2024</td>\n",
       "    </tr>\n",
       "    <tr>\n",
       "      <th>741659</th>\n",
       "      <td>26 Jun 23 XQMM</td>\n",
       "      <td>418.75</td>\n",
       "      <td>0.0</td>\n",
       "      <td>0.0</td>\n",
       "      <td>418.75</td>\n",
       "      <td>423.2</td>\n",
       "      <td>423.2</td>\n",
       "      <td>0.0</td>\n",
       "      <td>0.0</td>\n",
       "      <td>0.0</td>\n",
       "      <td>...</td>\n",
       "      <td>White River Mills</td>\n",
       "      <td>MILL24</td>\n",
       "      <td>Millers</td>\n",
       "      <td>26</td>\n",
       "      <td>Jun</td>\n",
       "      <td>23</td>\n",
       "      <td>XQMM</td>\n",
       "      <td>6</td>\n",
       "      <td>2023</td>\n",
       "      <td>6/26/2023</td>\n",
       "    </tr>\n",
       "  </tbody>\n",
       "</table>\n",
       "<p>741660 rows × 23 columns</p>\n",
       "</div>"
      ],
      "text/plain": [
       "         contract_type  volatility     bid   offer  market_to_market   first  \\\n",
       "0       01 Mar 23 BEAN     9668.00  9664.0  9677.0           9668.00  9640.0   \n",
       "1       02 May 23 BEAN     9668.00  9669.0  9690.0           9690.00  9670.0   \n",
       "2       03 Jul 23 BEAN     9668.00  9650.0  9683.0           9650.00  9619.0   \n",
       "3       01 Sep 23 BEAN     9668.00  8959.0  9002.0           8963.00  8963.0   \n",
       "4       01 Nov 23 BEAN     9668.00  8762.0  8822.0           8775.00  8775.0   \n",
       "...                ...         ...     ...     ...               ...     ...   \n",
       "741655  23 Apr 24 YMAZ     3560.00     0.0     0.0           3849.00  3849.0   \n",
       "741656  24 May 24 YMAZ     3560.00  3691.0     0.0           4136.00  4136.0   \n",
       "741657  24 Jul 24 YMAZ     3560.00  3781.0  3800.0           3784.00  3784.0   \n",
       "741658  20 Dec 24 YMAZ     3560.00     0.0     0.0           3941.00  3941.0   \n",
       "741659  26 Jun 23 XQMM      418.75     0.0     0.0            418.75   423.2   \n",
       "\n",
       "          last    high     low  deals  ...         market_name  market_code  \\\n",
       "0       9686.4  9688.0  9640.0    5.0  ...              Afgri       silo_5    \n",
       "1       9689.6  9692.0  9670.0    3.0  ...              Afgri       silo_5    \n",
       "2       9619.0     0.0     0.0    0.0  ...              Afgri       silo_5    \n",
       "3       8963.0  8963.0  8963.0    1.0  ...              Afgri       silo_5    \n",
       "4       8775.0     0.0     0.0    0.0  ...              Afgri       silo_5    \n",
       "...        ...     ...     ...    ...  ...                 ...          ...   \n",
       "741655  3849.0     0.0     0.0    0.0  ...  White River Mills       MILL24    \n",
       "741656  4136.0     0.0     0.0    0.0  ...  White River Mills       MILL24    \n",
       "741657  3800.0  3800.0  3784.0    2.0  ...  White River Mills       MILL24    \n",
       "741658  3941.0     0.0     0.0    0.0  ...  White River Mills       MILL24    \n",
       "741659   423.2     0.0     0.0    0.0  ...  White River Mills       MILL24    \n",
       "\n",
       "       market_type Day Month Year Grain_Type Month_Code Year_Full_Format  \\\n",
       "0           Silos   01   Mar   23       BEAN          3             2023   \n",
       "1           Silos   02   May   23       BEAN          5             2023   \n",
       "2           Silos   03   Jul   23       BEAN          7             2023   \n",
       "3           Silos   01   Sep   23       BEAN          9             2023   \n",
       "4           Silos   01   Nov   23       BEAN         11             2023   \n",
       "...            ...  ..   ...  ...        ...        ...              ...   \n",
       "741655    Millers   23   Apr   24       YMAZ          4             2024   \n",
       "741656    Millers   24   May   24       YMAZ          5             2024   \n",
       "741657    Millers   24   Jul   24       YMAZ          7             2024   \n",
       "741658    Millers   20   Dec   24       YMAZ         12             2024   \n",
       "741659    Millers   26   Jun   23       XQMM          6             2023   \n",
       "\n",
       "       Contract_Date  \n",
       "0          3/01/2023  \n",
       "1          5/02/2023  \n",
       "2          7/03/2023  \n",
       "3          9/01/2023  \n",
       "4         11/01/2023  \n",
       "...              ...  \n",
       "741655     4/23/2024  \n",
       "741656     5/24/2024  \n",
       "741657     7/24/2024  \n",
       "741658    12/20/2024  \n",
       "741659     6/26/2023  \n",
       "\n",
       "[741660 rows x 23 columns]"
      ]
     },
     "execution_count": 8,
     "metadata": {},
     "output_type": "execute_result"
    }
   ],
   "source": [
    "# The Contract Month, Day and Year are fused together with '/' to give the contract date\n",
    "df['Contract_Date'] = df['Month_Code']+'/'+df['Day']+'/'+ df['Year_Full_Format']\n",
    "df"
   ]
  },
  {
   "cell_type": "code",
   "execution_count": 9,
   "id": "a8961635",
   "metadata": {},
   "outputs": [
    {
     "data": {
      "text/html": [
       "<div>\n",
       "<style scoped>\n",
       "    .dataframe tbody tr th:only-of-type {\n",
       "        vertical-align: middle;\n",
       "    }\n",
       "\n",
       "    .dataframe tbody tr th {\n",
       "        vertical-align: top;\n",
       "    }\n",
       "\n",
       "    .dataframe thead th {\n",
       "        text-align: right;\n",
       "    }\n",
       "</style>\n",
       "<table border=\"1\" class=\"dataframe\">\n",
       "  <thead>\n",
       "    <tr style=\"text-align: right;\">\n",
       "      <th></th>\n",
       "      <th>contract_type</th>\n",
       "      <th>volatility</th>\n",
       "      <th>bid</th>\n",
       "      <th>offer</th>\n",
       "      <th>market_to_market</th>\n",
       "      <th>first</th>\n",
       "      <th>last</th>\n",
       "      <th>high</th>\n",
       "      <th>low</th>\n",
       "      <th>deals</th>\n",
       "      <th>...</th>\n",
       "      <th>market_name</th>\n",
       "      <th>market_code</th>\n",
       "      <th>market_type</th>\n",
       "      <th>Day</th>\n",
       "      <th>Month</th>\n",
       "      <th>Year</th>\n",
       "      <th>Grain_Type</th>\n",
       "      <th>Month_Code</th>\n",
       "      <th>Year_Full_Format</th>\n",
       "      <th>Contract_Date</th>\n",
       "    </tr>\n",
       "  </thead>\n",
       "  <tbody>\n",
       "    <tr>\n",
       "      <th>0</th>\n",
       "      <td>01 Mar 23 BEAN</td>\n",
       "      <td>9668.00</td>\n",
       "      <td>9664.0</td>\n",
       "      <td>9677.0</td>\n",
       "      <td>9668.00</td>\n",
       "      <td>9640.0</td>\n",
       "      <td>9686.4</td>\n",
       "      <td>9688.0</td>\n",
       "      <td>9640.0</td>\n",
       "      <td>5.0</td>\n",
       "      <td>...</td>\n",
       "      <td>Afgri</td>\n",
       "      <td>silo_5</td>\n",
       "      <td>Silos</td>\n",
       "      <td>01</td>\n",
       "      <td>Mar</td>\n",
       "      <td>23</td>\n",
       "      <td>BEAN</td>\n",
       "      <td>3</td>\n",
       "      <td>2023</td>\n",
       "      <td>2023-03-01</td>\n",
       "    </tr>\n",
       "    <tr>\n",
       "      <th>1</th>\n",
       "      <td>02 May 23 BEAN</td>\n",
       "      <td>9668.00</td>\n",
       "      <td>9669.0</td>\n",
       "      <td>9690.0</td>\n",
       "      <td>9690.00</td>\n",
       "      <td>9670.0</td>\n",
       "      <td>9689.6</td>\n",
       "      <td>9692.0</td>\n",
       "      <td>9670.0</td>\n",
       "      <td>3.0</td>\n",
       "      <td>...</td>\n",
       "      <td>Afgri</td>\n",
       "      <td>silo_5</td>\n",
       "      <td>Silos</td>\n",
       "      <td>02</td>\n",
       "      <td>May</td>\n",
       "      <td>23</td>\n",
       "      <td>BEAN</td>\n",
       "      <td>5</td>\n",
       "      <td>2023</td>\n",
       "      <td>2023-05-02</td>\n",
       "    </tr>\n",
       "    <tr>\n",
       "      <th>2</th>\n",
       "      <td>03 Jul 23 BEAN</td>\n",
       "      <td>9668.00</td>\n",
       "      <td>9650.0</td>\n",
       "      <td>9683.0</td>\n",
       "      <td>9650.00</td>\n",
       "      <td>9619.0</td>\n",
       "      <td>9619.0</td>\n",
       "      <td>0.0</td>\n",
       "      <td>0.0</td>\n",
       "      <td>0.0</td>\n",
       "      <td>...</td>\n",
       "      <td>Afgri</td>\n",
       "      <td>silo_5</td>\n",
       "      <td>Silos</td>\n",
       "      <td>03</td>\n",
       "      <td>Jul</td>\n",
       "      <td>23</td>\n",
       "      <td>BEAN</td>\n",
       "      <td>7</td>\n",
       "      <td>2023</td>\n",
       "      <td>2023-07-03</td>\n",
       "    </tr>\n",
       "    <tr>\n",
       "      <th>3</th>\n",
       "      <td>01 Sep 23 BEAN</td>\n",
       "      <td>9668.00</td>\n",
       "      <td>8959.0</td>\n",
       "      <td>9002.0</td>\n",
       "      <td>8963.00</td>\n",
       "      <td>8963.0</td>\n",
       "      <td>8963.0</td>\n",
       "      <td>8963.0</td>\n",
       "      <td>8963.0</td>\n",
       "      <td>1.0</td>\n",
       "      <td>...</td>\n",
       "      <td>Afgri</td>\n",
       "      <td>silo_5</td>\n",
       "      <td>Silos</td>\n",
       "      <td>01</td>\n",
       "      <td>Sep</td>\n",
       "      <td>23</td>\n",
       "      <td>BEAN</td>\n",
       "      <td>9</td>\n",
       "      <td>2023</td>\n",
       "      <td>2023-09-01</td>\n",
       "    </tr>\n",
       "    <tr>\n",
       "      <th>4</th>\n",
       "      <td>01 Nov 23 BEAN</td>\n",
       "      <td>9668.00</td>\n",
       "      <td>8762.0</td>\n",
       "      <td>8822.0</td>\n",
       "      <td>8775.00</td>\n",
       "      <td>8775.0</td>\n",
       "      <td>8775.0</td>\n",
       "      <td>0.0</td>\n",
       "      <td>0.0</td>\n",
       "      <td>0.0</td>\n",
       "      <td>...</td>\n",
       "      <td>Afgri</td>\n",
       "      <td>silo_5</td>\n",
       "      <td>Silos</td>\n",
       "      <td>01</td>\n",
       "      <td>Nov</td>\n",
       "      <td>23</td>\n",
       "      <td>BEAN</td>\n",
       "      <td>11</td>\n",
       "      <td>2023</td>\n",
       "      <td>2023-11-01</td>\n",
       "    </tr>\n",
       "    <tr>\n",
       "      <th>...</th>\n",
       "      <td>...</td>\n",
       "      <td>...</td>\n",
       "      <td>...</td>\n",
       "      <td>...</td>\n",
       "      <td>...</td>\n",
       "      <td>...</td>\n",
       "      <td>...</td>\n",
       "      <td>...</td>\n",
       "      <td>...</td>\n",
       "      <td>...</td>\n",
       "      <td>...</td>\n",
       "      <td>...</td>\n",
       "      <td>...</td>\n",
       "      <td>...</td>\n",
       "      <td>...</td>\n",
       "      <td>...</td>\n",
       "      <td>...</td>\n",
       "      <td>...</td>\n",
       "      <td>...</td>\n",
       "      <td>...</td>\n",
       "      <td>...</td>\n",
       "    </tr>\n",
       "    <tr>\n",
       "      <th>741655</th>\n",
       "      <td>23 Apr 24 YMAZ</td>\n",
       "      <td>3560.00</td>\n",
       "      <td>0.0</td>\n",
       "      <td>0.0</td>\n",
       "      <td>3849.00</td>\n",
       "      <td>3849.0</td>\n",
       "      <td>3849.0</td>\n",
       "      <td>0.0</td>\n",
       "      <td>0.0</td>\n",
       "      <td>0.0</td>\n",
       "      <td>...</td>\n",
       "      <td>White River Mills</td>\n",
       "      <td>MILL24</td>\n",
       "      <td>Millers</td>\n",
       "      <td>23</td>\n",
       "      <td>Apr</td>\n",
       "      <td>24</td>\n",
       "      <td>YMAZ</td>\n",
       "      <td>4</td>\n",
       "      <td>2024</td>\n",
       "      <td>2024-04-23</td>\n",
       "    </tr>\n",
       "    <tr>\n",
       "      <th>741656</th>\n",
       "      <td>24 May 24 YMAZ</td>\n",
       "      <td>3560.00</td>\n",
       "      <td>3691.0</td>\n",
       "      <td>0.0</td>\n",
       "      <td>4136.00</td>\n",
       "      <td>4136.0</td>\n",
       "      <td>4136.0</td>\n",
       "      <td>0.0</td>\n",
       "      <td>0.0</td>\n",
       "      <td>0.0</td>\n",
       "      <td>...</td>\n",
       "      <td>White River Mills</td>\n",
       "      <td>MILL24</td>\n",
       "      <td>Millers</td>\n",
       "      <td>24</td>\n",
       "      <td>May</td>\n",
       "      <td>24</td>\n",
       "      <td>YMAZ</td>\n",
       "      <td>5</td>\n",
       "      <td>2024</td>\n",
       "      <td>2024-05-24</td>\n",
       "    </tr>\n",
       "    <tr>\n",
       "      <th>741657</th>\n",
       "      <td>24 Jul 24 YMAZ</td>\n",
       "      <td>3560.00</td>\n",
       "      <td>3781.0</td>\n",
       "      <td>3800.0</td>\n",
       "      <td>3784.00</td>\n",
       "      <td>3784.0</td>\n",
       "      <td>3800.0</td>\n",
       "      <td>3800.0</td>\n",
       "      <td>3784.0</td>\n",
       "      <td>2.0</td>\n",
       "      <td>...</td>\n",
       "      <td>White River Mills</td>\n",
       "      <td>MILL24</td>\n",
       "      <td>Millers</td>\n",
       "      <td>24</td>\n",
       "      <td>Jul</td>\n",
       "      <td>24</td>\n",
       "      <td>YMAZ</td>\n",
       "      <td>7</td>\n",
       "      <td>2024</td>\n",
       "      <td>2024-07-24</td>\n",
       "    </tr>\n",
       "    <tr>\n",
       "      <th>741658</th>\n",
       "      <td>20 Dec 24 YMAZ</td>\n",
       "      <td>3560.00</td>\n",
       "      <td>0.0</td>\n",
       "      <td>0.0</td>\n",
       "      <td>3941.00</td>\n",
       "      <td>3941.0</td>\n",
       "      <td>3941.0</td>\n",
       "      <td>0.0</td>\n",
       "      <td>0.0</td>\n",
       "      <td>0.0</td>\n",
       "      <td>...</td>\n",
       "      <td>White River Mills</td>\n",
       "      <td>MILL24</td>\n",
       "      <td>Millers</td>\n",
       "      <td>20</td>\n",
       "      <td>Dec</td>\n",
       "      <td>24</td>\n",
       "      <td>YMAZ</td>\n",
       "      <td>12</td>\n",
       "      <td>2024</td>\n",
       "      <td>2024-12-20</td>\n",
       "    </tr>\n",
       "    <tr>\n",
       "      <th>741659</th>\n",
       "      <td>26 Jun 23 XQMM</td>\n",
       "      <td>418.75</td>\n",
       "      <td>0.0</td>\n",
       "      <td>0.0</td>\n",
       "      <td>418.75</td>\n",
       "      <td>423.2</td>\n",
       "      <td>423.2</td>\n",
       "      <td>0.0</td>\n",
       "      <td>0.0</td>\n",
       "      <td>0.0</td>\n",
       "      <td>...</td>\n",
       "      <td>White River Mills</td>\n",
       "      <td>MILL24</td>\n",
       "      <td>Millers</td>\n",
       "      <td>26</td>\n",
       "      <td>Jun</td>\n",
       "      <td>23</td>\n",
       "      <td>XQMM</td>\n",
       "      <td>6</td>\n",
       "      <td>2023</td>\n",
       "      <td>2023-06-26</td>\n",
       "    </tr>\n",
       "  </tbody>\n",
       "</table>\n",
       "<p>741660 rows × 23 columns</p>\n",
       "</div>"
      ],
      "text/plain": [
       "         contract_type  volatility     bid   offer  market_to_market   first  \\\n",
       "0       01 Mar 23 BEAN     9668.00  9664.0  9677.0           9668.00  9640.0   \n",
       "1       02 May 23 BEAN     9668.00  9669.0  9690.0           9690.00  9670.0   \n",
       "2       03 Jul 23 BEAN     9668.00  9650.0  9683.0           9650.00  9619.0   \n",
       "3       01 Sep 23 BEAN     9668.00  8959.0  9002.0           8963.00  8963.0   \n",
       "4       01 Nov 23 BEAN     9668.00  8762.0  8822.0           8775.00  8775.0   \n",
       "...                ...         ...     ...     ...               ...     ...   \n",
       "741655  23 Apr 24 YMAZ     3560.00     0.0     0.0           3849.00  3849.0   \n",
       "741656  24 May 24 YMAZ     3560.00  3691.0     0.0           4136.00  4136.0   \n",
       "741657  24 Jul 24 YMAZ     3560.00  3781.0  3800.0           3784.00  3784.0   \n",
       "741658  20 Dec 24 YMAZ     3560.00     0.0     0.0           3941.00  3941.0   \n",
       "741659  26 Jun 23 XQMM      418.75     0.0     0.0            418.75   423.2   \n",
       "\n",
       "          last    high     low  deals  ...         market_name  market_code  \\\n",
       "0       9686.4  9688.0  9640.0    5.0  ...              Afgri       silo_5    \n",
       "1       9689.6  9692.0  9670.0    3.0  ...              Afgri       silo_5    \n",
       "2       9619.0     0.0     0.0    0.0  ...              Afgri       silo_5    \n",
       "3       8963.0  8963.0  8963.0    1.0  ...              Afgri       silo_5    \n",
       "4       8775.0     0.0     0.0    0.0  ...              Afgri       silo_5    \n",
       "...        ...     ...     ...    ...  ...                 ...          ...   \n",
       "741655  3849.0     0.0     0.0    0.0  ...  White River Mills       MILL24    \n",
       "741656  4136.0     0.0     0.0    0.0  ...  White River Mills       MILL24    \n",
       "741657  3800.0  3800.0  3784.0    2.0  ...  White River Mills       MILL24    \n",
       "741658  3941.0     0.0     0.0    0.0  ...  White River Mills       MILL24    \n",
       "741659   423.2     0.0     0.0    0.0  ...  White River Mills       MILL24    \n",
       "\n",
       "       market_type Day Month Year Grain_Type Month_Code Year_Full_Format  \\\n",
       "0           Silos   01   Mar   23       BEAN          3             2023   \n",
       "1           Silos   02   May   23       BEAN          5             2023   \n",
       "2           Silos   03   Jul   23       BEAN          7             2023   \n",
       "3           Silos   01   Sep   23       BEAN          9             2023   \n",
       "4           Silos   01   Nov   23       BEAN         11             2023   \n",
       "...            ...  ..   ...  ...        ...        ...              ...   \n",
       "741655    Millers   23   Apr   24       YMAZ          4             2024   \n",
       "741656    Millers   24   May   24       YMAZ          5             2024   \n",
       "741657    Millers   24   Jul   24       YMAZ          7             2024   \n",
       "741658    Millers   20   Dec   24       YMAZ         12             2024   \n",
       "741659    Millers   26   Jun   23       XQMM          6             2023   \n",
       "\n",
       "       Contract_Date  \n",
       "0         2023-03-01  \n",
       "1         2023-05-02  \n",
       "2         2023-07-03  \n",
       "3         2023-09-01  \n",
       "4         2023-11-01  \n",
       "...              ...  \n",
       "741655    2024-04-23  \n",
       "741656    2024-05-24  \n",
       "741657    2024-07-24  \n",
       "741658    2024-12-20  \n",
       "741659    2023-06-26  \n",
       "\n",
       "[741660 rows x 23 columns]"
      ]
     },
     "execution_count": 9,
     "metadata": {},
     "output_type": "execute_result"
    }
   ],
   "source": [
    "# The Contract Date and upload date is now rendered a proper datetime format for coding purpose\n",
    "df['Contract_Date'] = pd.to_datetime(df.Contract_Date)\n",
    "df['upload_date'] = pd.to_datetime(df.upload_date)\n",
    "df"
   ]
  },
  {
   "cell_type": "code",
   "execution_count": 94,
   "id": "4cac8c94",
   "metadata": {},
   "outputs": [
    {
     "name": "stdout",
     "output_type": "stream",
     "text": [
      "Total No. of Grain Types in Grain Dataset = 40\n",
      "Total No. of Markets in Grain Dataset = 282\n"
     ]
    }
   ],
   "source": [
    "# Combining the 'market_name' and 'market_code' columns to generate 'Market' Column\n",
    "df['Market'] = df['market_name']+\" \"+df['market_code']\n",
    "\n",
    "C = len(df['Market'].unique())\n",
    "D = len(df['Grain_Type'].unique())\n",
    "print (f\"Total No. of Grain Types in Grain Dataset = {D}\")\n",
    "print (f\"Total No. of Markets in Grain Dataset = {C}\")"
   ]
  },
  {
   "cell_type": "code",
   "execution_count": 10,
   "id": "a984dd1b",
   "metadata": {},
   "outputs": [
    {
     "data": {
      "text/html": [
       "<div>\n",
       "<style scoped>\n",
       "    .dataframe tbody tr th:only-of-type {\n",
       "        vertical-align: middle;\n",
       "    }\n",
       "\n",
       "    .dataframe tbody tr th {\n",
       "        vertical-align: top;\n",
       "    }\n",
       "\n",
       "    .dataframe thead th {\n",
       "        text-align: right;\n",
       "    }\n",
       "</style>\n",
       "<table border=\"1\" class=\"dataframe\">\n",
       "  <thead>\n",
       "    <tr style=\"text-align: right;\">\n",
       "      <th></th>\n",
       "      <th>Grain_Type</th>\n",
       "      <th>Count</th>\n",
       "    </tr>\n",
       "  </thead>\n",
       "  <tbody>\n",
       "    <tr>\n",
       "      <th>0</th>\n",
       "      <td>BEAN</td>\n",
       "      <td>40890</td>\n",
       "    </tr>\n",
       "    <tr>\n",
       "      <th>1</th>\n",
       "      <td>BRNT</td>\n",
       "      <td>11844</td>\n",
       "    </tr>\n",
       "    <tr>\n",
       "      <th>2</th>\n",
       "      <td>COPP</td>\n",
       "      <td>11844</td>\n",
       "    </tr>\n",
       "    <tr>\n",
       "      <th>3</th>\n",
       "      <td>CORN</td>\n",
       "      <td>35814</td>\n",
       "    </tr>\n",
       "    <tr>\n",
       "      <th>4</th>\n",
       "      <td>DSEL</td>\n",
       "      <td>41736</td>\n",
       "    </tr>\n",
       "    <tr>\n",
       "      <th>5</th>\n",
       "      <td>GOLD</td>\n",
       "      <td>11844</td>\n",
       "    </tr>\n",
       "    <tr>\n",
       "      <th>6</th>\n",
       "      <td>KANS</td>\n",
       "      <td>21714</td>\n",
       "    </tr>\n",
       "    <tr>\n",
       "      <th>7</th>\n",
       "      <td>MEAL</td>\n",
       "      <td>20022</td>\n",
       "    </tr>\n",
       "    <tr>\n",
       "      <th>8</th>\n",
       "      <td>OILS</td>\n",
       "      <td>14100</td>\n",
       "    </tr>\n",
       "    <tr>\n",
       "      <th>9</th>\n",
       "      <td>PALL</td>\n",
       "      <td>11844</td>\n",
       "    </tr>\n",
       "    <tr>\n",
       "      <th>10</th>\n",
       "      <td>PLAT</td>\n",
       "      <td>11844</td>\n",
       "    </tr>\n",
       "    <tr>\n",
       "      <th>11</th>\n",
       "      <td>QBRN</td>\n",
       "      <td>12408</td>\n",
       "    </tr>\n",
       "    <tr>\n",
       "      <th>12</th>\n",
       "      <td>QCFF</td>\n",
       "      <td>11844</td>\n",
       "    </tr>\n",
       "    <tr>\n",
       "      <th>13</th>\n",
       "      <td>QCOC</td>\n",
       "      <td>11844</td>\n",
       "    </tr>\n",
       "    <tr>\n",
       "      <th>14</th>\n",
       "      <td>QCOP</td>\n",
       "      <td>11844</td>\n",
       "    </tr>\n",
       "    <tr>\n",
       "      <th>15</th>\n",
       "      <td>QCRN</td>\n",
       "      <td>15228</td>\n",
       "    </tr>\n",
       "    <tr>\n",
       "      <th>16</th>\n",
       "      <td>QCTN</td>\n",
       "      <td>11844</td>\n",
       "    </tr>\n",
       "    <tr>\n",
       "      <th>17</th>\n",
       "      <td>QGAS</td>\n",
       "      <td>11844</td>\n",
       "    </tr>\n",
       "    <tr>\n",
       "      <th>18</th>\n",
       "      <td>QGLD</td>\n",
       "      <td>11844</td>\n",
       "    </tr>\n",
       "    <tr>\n",
       "      <th>19</th>\n",
       "      <td>QHEA</td>\n",
       "      <td>11844</td>\n",
       "    </tr>\n",
       "    <tr>\n",
       "      <th>20</th>\n",
       "      <td>QNAT</td>\n",
       "      <td>11844</td>\n",
       "    </tr>\n",
       "    <tr>\n",
       "      <th>21</th>\n",
       "      <td>QPLD</td>\n",
       "      <td>11844</td>\n",
       "    </tr>\n",
       "    <tr>\n",
       "      <th>22</th>\n",
       "      <td>QPLT</td>\n",
       "      <td>11844</td>\n",
       "    </tr>\n",
       "    <tr>\n",
       "      <th>23</th>\n",
       "      <td>QSBN</td>\n",
       "      <td>11844</td>\n",
       "    </tr>\n",
       "    <tr>\n",
       "      <th>24</th>\n",
       "      <td>QSIL</td>\n",
       "      <td>11844</td>\n",
       "    </tr>\n",
       "    <tr>\n",
       "      <th>25</th>\n",
       "      <td>QSUG</td>\n",
       "      <td>11844</td>\n",
       "    </tr>\n",
       "    <tr>\n",
       "      <th>26</th>\n",
       "      <td>REDW</td>\n",
       "      <td>20304</td>\n",
       "    </tr>\n",
       "    <tr>\n",
       "      <th>27</th>\n",
       "      <td>SILV</td>\n",
       "      <td>11844</td>\n",
       "    </tr>\n",
       "    <tr>\n",
       "      <th>28</th>\n",
       "      <td>SOYA</td>\n",
       "      <td>45684</td>\n",
       "    </tr>\n",
       "    <tr>\n",
       "      <th>29</th>\n",
       "      <td>SUNS</td>\n",
       "      <td>42582</td>\n",
       "    </tr>\n",
       "    <tr>\n",
       "      <th>30</th>\n",
       "      <td>WEAT</td>\n",
       "      <td>42582</td>\n",
       "    </tr>\n",
       "    <tr>\n",
       "      <th>31</th>\n",
       "      <td>WMAZ</td>\n",
       "      <td>55836</td>\n",
       "    </tr>\n",
       "    <tr>\n",
       "      <th>32</th>\n",
       "      <td>WOPT</td>\n",
       "      <td>16638</td>\n",
       "    </tr>\n",
       "    <tr>\n",
       "      <th>33</th>\n",
       "      <td>WTIO</td>\n",
       "      <td>11562</td>\n",
       "    </tr>\n",
       "    <tr>\n",
       "      <th>34</th>\n",
       "      <td>XQCM</td>\n",
       "      <td>2256</td>\n",
       "    </tr>\n",
       "    <tr>\n",
       "      <th>35</th>\n",
       "      <td>XQHM</td>\n",
       "      <td>2256</td>\n",
       "    </tr>\n",
       "    <tr>\n",
       "      <th>36</th>\n",
       "      <td>XQMM</td>\n",
       "      <td>11562</td>\n",
       "    </tr>\n",
       "    <tr>\n",
       "      <th>37</th>\n",
       "      <td>XQMO</td>\n",
       "      <td>2256</td>\n",
       "    </tr>\n",
       "    <tr>\n",
       "      <th>38</th>\n",
       "      <td>YMAZ</td>\n",
       "      <td>55554</td>\n",
       "    </tr>\n",
       "    <tr>\n",
       "      <th>39</th>\n",
       "      <td>YOPT</td>\n",
       "      <td>5640</td>\n",
       "    </tr>\n",
       "  </tbody>\n",
       "</table>\n",
       "</div>"
      ],
      "text/plain": [
       "   Grain_Type  Count\n",
       "0        BEAN  40890\n",
       "1        BRNT  11844\n",
       "2        COPP  11844\n",
       "3        CORN  35814\n",
       "4        DSEL  41736\n",
       "5        GOLD  11844\n",
       "6        KANS  21714\n",
       "7        MEAL  20022\n",
       "8        OILS  14100\n",
       "9        PALL  11844\n",
       "10       PLAT  11844\n",
       "11       QBRN  12408\n",
       "12       QCFF  11844\n",
       "13       QCOC  11844\n",
       "14       QCOP  11844\n",
       "15       QCRN  15228\n",
       "16       QCTN  11844\n",
       "17       QGAS  11844\n",
       "18       QGLD  11844\n",
       "19       QHEA  11844\n",
       "20       QNAT  11844\n",
       "21       QPLD  11844\n",
       "22       QPLT  11844\n",
       "23       QSBN  11844\n",
       "24       QSIL  11844\n",
       "25       QSUG  11844\n",
       "26       REDW  20304\n",
       "27       SILV  11844\n",
       "28       SOYA  45684\n",
       "29       SUNS  42582\n",
       "30       WEAT  42582\n",
       "31       WMAZ  55836\n",
       "32       WOPT  16638\n",
       "33       WTIO  11562\n",
       "34       XQCM   2256\n",
       "35       XQHM   2256\n",
       "36       XQMM  11562\n",
       "37       XQMO   2256\n",
       "38       YMAZ  55554\n",
       "39       YOPT   5640"
      ]
     },
     "execution_count": 10,
     "metadata": {},
     "output_type": "execute_result"
    }
   ],
   "source": [
    "# Counting the number of records per grain type\n",
    "Transaction_Volume = df.groupby(['Grain_Type']).size().rename('Count').reset_index()\n",
    "Transaction_Volume"
   ]
  },
  {
   "cell_type": "code",
   "execution_count": 11,
   "id": "bf78a871",
   "metadata": {
    "scrolled": false
   },
   "outputs": [
    {
     "data": {
      "application/vnd.plotly.v1+json": {
       "config": {
        "plotlyServerURL": "https://plot.ly"
       },
       "data": [
        {
         "alignmentgroup": "True",
         "hovertemplate": "Grain_Type=%{x}<br>Count=%{y}<extra></extra>",
         "legendgroup": "",
         "marker": {
          "color": "#636efa",
          "pattern": {
           "shape": ""
          }
         },
         "name": "",
         "offsetgroup": "",
         "orientation": "v",
         "showlegend": false,
         "textposition": "auto",
         "type": "bar",
         "x": [
          "BEAN",
          "BRNT",
          "COPP",
          "CORN",
          "DSEL",
          "GOLD",
          "KANS",
          "MEAL",
          "OILS",
          "PALL",
          "PLAT",
          "QBRN",
          "QCFF",
          "QCOC",
          "QCOP",
          "QCRN",
          "QCTN",
          "QGAS",
          "QGLD",
          "QHEA",
          "QNAT",
          "QPLD",
          "QPLT",
          "QSBN",
          "QSIL",
          "QSUG",
          "REDW",
          "SILV",
          "SOYA",
          "SUNS",
          "WEAT",
          "WMAZ",
          "WOPT",
          "WTIO",
          "XQCM",
          "XQHM",
          "XQMM",
          "XQMO",
          "YMAZ",
          "YOPT"
         ],
         "xaxis": "x",
         "y": [
          40890,
          11844,
          11844,
          35814,
          41736,
          11844,
          21714,
          20022,
          14100,
          11844,
          11844,
          12408,
          11844,
          11844,
          11844,
          15228,
          11844,
          11844,
          11844,
          11844,
          11844,
          11844,
          11844,
          11844,
          11844,
          11844,
          20304,
          11844,
          45684,
          42582,
          42582,
          55836,
          16638,
          11562,
          2256,
          2256,
          11562,
          2256,
          55554,
          5640
         ],
         "yaxis": "y"
        }
       ],
       "layout": {
        "barmode": "relative",
        "legend": {
         "tracegroupgap": 0
        },
        "template": {
         "data": {
          "bar": [
           {
            "error_x": {
             "color": "#2a3f5f"
            },
            "error_y": {
             "color": "#2a3f5f"
            },
            "marker": {
             "line": {
              "color": "#E5ECF6",
              "width": 0.5
             },
             "pattern": {
              "fillmode": "overlay",
              "size": 10,
              "solidity": 0.2
             }
            },
            "type": "bar"
           }
          ],
          "barpolar": [
           {
            "marker": {
             "line": {
              "color": "#E5ECF6",
              "width": 0.5
             },
             "pattern": {
              "fillmode": "overlay",
              "size": 10,
              "solidity": 0.2
             }
            },
            "type": "barpolar"
           }
          ],
          "carpet": [
           {
            "aaxis": {
             "endlinecolor": "#2a3f5f",
             "gridcolor": "white",
             "linecolor": "white",
             "minorgridcolor": "white",
             "startlinecolor": "#2a3f5f"
            },
            "baxis": {
             "endlinecolor": "#2a3f5f",
             "gridcolor": "white",
             "linecolor": "white",
             "minorgridcolor": "white",
             "startlinecolor": "#2a3f5f"
            },
            "type": "carpet"
           }
          ],
          "choropleth": [
           {
            "colorbar": {
             "outlinewidth": 0,
             "ticks": ""
            },
            "type": "choropleth"
           }
          ],
          "contour": [
           {
            "colorbar": {
             "outlinewidth": 0,
             "ticks": ""
            },
            "colorscale": [
             [
              0,
              "#0d0887"
             ],
             [
              0.1111111111111111,
              "#46039f"
             ],
             [
              0.2222222222222222,
              "#7201a8"
             ],
             [
              0.3333333333333333,
              "#9c179e"
             ],
             [
              0.4444444444444444,
              "#bd3786"
             ],
             [
              0.5555555555555556,
              "#d8576b"
             ],
             [
              0.6666666666666666,
              "#ed7953"
             ],
             [
              0.7777777777777778,
              "#fb9f3a"
             ],
             [
              0.8888888888888888,
              "#fdca26"
             ],
             [
              1,
              "#f0f921"
             ]
            ],
            "type": "contour"
           }
          ],
          "contourcarpet": [
           {
            "colorbar": {
             "outlinewidth": 0,
             "ticks": ""
            },
            "type": "contourcarpet"
           }
          ],
          "heatmap": [
           {
            "colorbar": {
             "outlinewidth": 0,
             "ticks": ""
            },
            "colorscale": [
             [
              0,
              "#0d0887"
             ],
             [
              0.1111111111111111,
              "#46039f"
             ],
             [
              0.2222222222222222,
              "#7201a8"
             ],
             [
              0.3333333333333333,
              "#9c179e"
             ],
             [
              0.4444444444444444,
              "#bd3786"
             ],
             [
              0.5555555555555556,
              "#d8576b"
             ],
             [
              0.6666666666666666,
              "#ed7953"
             ],
             [
              0.7777777777777778,
              "#fb9f3a"
             ],
             [
              0.8888888888888888,
              "#fdca26"
             ],
             [
              1,
              "#f0f921"
             ]
            ],
            "type": "heatmap"
           }
          ],
          "heatmapgl": [
           {
            "colorbar": {
             "outlinewidth": 0,
             "ticks": ""
            },
            "colorscale": [
             [
              0,
              "#0d0887"
             ],
             [
              0.1111111111111111,
              "#46039f"
             ],
             [
              0.2222222222222222,
              "#7201a8"
             ],
             [
              0.3333333333333333,
              "#9c179e"
             ],
             [
              0.4444444444444444,
              "#bd3786"
             ],
             [
              0.5555555555555556,
              "#d8576b"
             ],
             [
              0.6666666666666666,
              "#ed7953"
             ],
             [
              0.7777777777777778,
              "#fb9f3a"
             ],
             [
              0.8888888888888888,
              "#fdca26"
             ],
             [
              1,
              "#f0f921"
             ]
            ],
            "type": "heatmapgl"
           }
          ],
          "histogram": [
           {
            "marker": {
             "pattern": {
              "fillmode": "overlay",
              "size": 10,
              "solidity": 0.2
             }
            },
            "type": "histogram"
           }
          ],
          "histogram2d": [
           {
            "colorbar": {
             "outlinewidth": 0,
             "ticks": ""
            },
            "colorscale": [
             [
              0,
              "#0d0887"
             ],
             [
              0.1111111111111111,
              "#46039f"
             ],
             [
              0.2222222222222222,
              "#7201a8"
             ],
             [
              0.3333333333333333,
              "#9c179e"
             ],
             [
              0.4444444444444444,
              "#bd3786"
             ],
             [
              0.5555555555555556,
              "#d8576b"
             ],
             [
              0.6666666666666666,
              "#ed7953"
             ],
             [
              0.7777777777777778,
              "#fb9f3a"
             ],
             [
              0.8888888888888888,
              "#fdca26"
             ],
             [
              1,
              "#f0f921"
             ]
            ],
            "type": "histogram2d"
           }
          ],
          "histogram2dcontour": [
           {
            "colorbar": {
             "outlinewidth": 0,
             "ticks": ""
            },
            "colorscale": [
             [
              0,
              "#0d0887"
             ],
             [
              0.1111111111111111,
              "#46039f"
             ],
             [
              0.2222222222222222,
              "#7201a8"
             ],
             [
              0.3333333333333333,
              "#9c179e"
             ],
             [
              0.4444444444444444,
              "#bd3786"
             ],
             [
              0.5555555555555556,
              "#d8576b"
             ],
             [
              0.6666666666666666,
              "#ed7953"
             ],
             [
              0.7777777777777778,
              "#fb9f3a"
             ],
             [
              0.8888888888888888,
              "#fdca26"
             ],
             [
              1,
              "#f0f921"
             ]
            ],
            "type": "histogram2dcontour"
           }
          ],
          "mesh3d": [
           {
            "colorbar": {
             "outlinewidth": 0,
             "ticks": ""
            },
            "type": "mesh3d"
           }
          ],
          "parcoords": [
           {
            "line": {
             "colorbar": {
              "outlinewidth": 0,
              "ticks": ""
             }
            },
            "type": "parcoords"
           }
          ],
          "pie": [
           {
            "automargin": true,
            "type": "pie"
           }
          ],
          "scatter": [
           {
            "fillpattern": {
             "fillmode": "overlay",
             "size": 10,
             "solidity": 0.2
            },
            "type": "scatter"
           }
          ],
          "scatter3d": [
           {
            "line": {
             "colorbar": {
              "outlinewidth": 0,
              "ticks": ""
             }
            },
            "marker": {
             "colorbar": {
              "outlinewidth": 0,
              "ticks": ""
             }
            },
            "type": "scatter3d"
           }
          ],
          "scattercarpet": [
           {
            "marker": {
             "colorbar": {
              "outlinewidth": 0,
              "ticks": ""
             }
            },
            "type": "scattercarpet"
           }
          ],
          "scattergeo": [
           {
            "marker": {
             "colorbar": {
              "outlinewidth": 0,
              "ticks": ""
             }
            },
            "type": "scattergeo"
           }
          ],
          "scattergl": [
           {
            "marker": {
             "colorbar": {
              "outlinewidth": 0,
              "ticks": ""
             }
            },
            "type": "scattergl"
           }
          ],
          "scattermapbox": [
           {
            "marker": {
             "colorbar": {
              "outlinewidth": 0,
              "ticks": ""
             }
            },
            "type": "scattermapbox"
           }
          ],
          "scatterpolar": [
           {
            "marker": {
             "colorbar": {
              "outlinewidth": 0,
              "ticks": ""
             }
            },
            "type": "scatterpolar"
           }
          ],
          "scatterpolargl": [
           {
            "marker": {
             "colorbar": {
              "outlinewidth": 0,
              "ticks": ""
             }
            },
            "type": "scatterpolargl"
           }
          ],
          "scatterternary": [
           {
            "marker": {
             "colorbar": {
              "outlinewidth": 0,
              "ticks": ""
             }
            },
            "type": "scatterternary"
           }
          ],
          "surface": [
           {
            "colorbar": {
             "outlinewidth": 0,
             "ticks": ""
            },
            "colorscale": [
             [
              0,
              "#0d0887"
             ],
             [
              0.1111111111111111,
              "#46039f"
             ],
             [
              0.2222222222222222,
              "#7201a8"
             ],
             [
              0.3333333333333333,
              "#9c179e"
             ],
             [
              0.4444444444444444,
              "#bd3786"
             ],
             [
              0.5555555555555556,
              "#d8576b"
             ],
             [
              0.6666666666666666,
              "#ed7953"
             ],
             [
              0.7777777777777778,
              "#fb9f3a"
             ],
             [
              0.8888888888888888,
              "#fdca26"
             ],
             [
              1,
              "#f0f921"
             ]
            ],
            "type": "surface"
           }
          ],
          "table": [
           {
            "cells": {
             "fill": {
              "color": "#EBF0F8"
             },
             "line": {
              "color": "white"
             }
            },
            "header": {
             "fill": {
              "color": "#C8D4E3"
             },
             "line": {
              "color": "white"
             }
            },
            "type": "table"
           }
          ]
         },
         "layout": {
          "annotationdefaults": {
           "arrowcolor": "#2a3f5f",
           "arrowhead": 0,
           "arrowwidth": 1
          },
          "autotypenumbers": "strict",
          "coloraxis": {
           "colorbar": {
            "outlinewidth": 0,
            "ticks": ""
           }
          },
          "colorscale": {
           "diverging": [
            [
             0,
             "#8e0152"
            ],
            [
             0.1,
             "#c51b7d"
            ],
            [
             0.2,
             "#de77ae"
            ],
            [
             0.3,
             "#f1b6da"
            ],
            [
             0.4,
             "#fde0ef"
            ],
            [
             0.5,
             "#f7f7f7"
            ],
            [
             0.6,
             "#e6f5d0"
            ],
            [
             0.7,
             "#b8e186"
            ],
            [
             0.8,
             "#7fbc41"
            ],
            [
             0.9,
             "#4d9221"
            ],
            [
             1,
             "#276419"
            ]
           ],
           "sequential": [
            [
             0,
             "#0d0887"
            ],
            [
             0.1111111111111111,
             "#46039f"
            ],
            [
             0.2222222222222222,
             "#7201a8"
            ],
            [
             0.3333333333333333,
             "#9c179e"
            ],
            [
             0.4444444444444444,
             "#bd3786"
            ],
            [
             0.5555555555555556,
             "#d8576b"
            ],
            [
             0.6666666666666666,
             "#ed7953"
            ],
            [
             0.7777777777777778,
             "#fb9f3a"
            ],
            [
             0.8888888888888888,
             "#fdca26"
            ],
            [
             1,
             "#f0f921"
            ]
           ],
           "sequentialminus": [
            [
             0,
             "#0d0887"
            ],
            [
             0.1111111111111111,
             "#46039f"
            ],
            [
             0.2222222222222222,
             "#7201a8"
            ],
            [
             0.3333333333333333,
             "#9c179e"
            ],
            [
             0.4444444444444444,
             "#bd3786"
            ],
            [
             0.5555555555555556,
             "#d8576b"
            ],
            [
             0.6666666666666666,
             "#ed7953"
            ],
            [
             0.7777777777777778,
             "#fb9f3a"
            ],
            [
             0.8888888888888888,
             "#fdca26"
            ],
            [
             1,
             "#f0f921"
            ]
           ]
          },
          "colorway": [
           "#636efa",
           "#EF553B",
           "#00cc96",
           "#ab63fa",
           "#FFA15A",
           "#19d3f3",
           "#FF6692",
           "#B6E880",
           "#FF97FF",
           "#FECB52"
          ],
          "font": {
           "color": "#2a3f5f"
          },
          "geo": {
           "bgcolor": "white",
           "lakecolor": "white",
           "landcolor": "#E5ECF6",
           "showlakes": true,
           "showland": true,
           "subunitcolor": "white"
          },
          "hoverlabel": {
           "align": "left"
          },
          "hovermode": "closest",
          "mapbox": {
           "style": "light"
          },
          "paper_bgcolor": "white",
          "plot_bgcolor": "#E5ECF6",
          "polar": {
           "angularaxis": {
            "gridcolor": "white",
            "linecolor": "white",
            "ticks": ""
           },
           "bgcolor": "#E5ECF6",
           "radialaxis": {
            "gridcolor": "white",
            "linecolor": "white",
            "ticks": ""
           }
          },
          "scene": {
           "xaxis": {
            "backgroundcolor": "#E5ECF6",
            "gridcolor": "white",
            "gridwidth": 2,
            "linecolor": "white",
            "showbackground": true,
            "ticks": "",
            "zerolinecolor": "white"
           },
           "yaxis": {
            "backgroundcolor": "#E5ECF6",
            "gridcolor": "white",
            "gridwidth": 2,
            "linecolor": "white",
            "showbackground": true,
            "ticks": "",
            "zerolinecolor": "white"
           },
           "zaxis": {
            "backgroundcolor": "#E5ECF6",
            "gridcolor": "white",
            "gridwidth": 2,
            "linecolor": "white",
            "showbackground": true,
            "ticks": "",
            "zerolinecolor": "white"
           }
          },
          "shapedefaults": {
           "line": {
            "color": "#2a3f5f"
           }
          },
          "ternary": {
           "aaxis": {
            "gridcolor": "white",
            "linecolor": "white",
            "ticks": ""
           },
           "baxis": {
            "gridcolor": "white",
            "linecolor": "white",
            "ticks": ""
           },
           "bgcolor": "#E5ECF6",
           "caxis": {
            "gridcolor": "white",
            "linecolor": "white",
            "ticks": ""
           }
          },
          "title": {
           "x": 0.05
          },
          "xaxis": {
           "automargin": true,
           "gridcolor": "white",
           "linecolor": "white",
           "ticks": "",
           "title": {
            "standoff": 15
           },
           "zerolinecolor": "white",
           "zerolinewidth": 2
          },
          "yaxis": {
           "automargin": true,
           "gridcolor": "white",
           "linecolor": "white",
           "ticks": "",
           "title": {
            "standoff": 15
           },
           "zerolinecolor": "white",
           "zerolinewidth": 2
          }
         }
        },
        "title": {
         "text": "Count of Contract Transactions Per Grain"
        },
        "xaxis": {
         "anchor": "y",
         "domain": [
          0,
          1
         ],
         "title": {
          "text": "Grain_Type"
         }
        },
        "yaxis": {
         "anchor": "x",
         "domain": [
          0,
          1
         ],
         "title": {
          "text": "Count"
         }
        }
       }
      },
      "text/html": [
       "<div>                            <div id=\"06d1e6fe-be13-4c99-9548-1e8e1b0382a5\" class=\"plotly-graph-div\" style=\"height:525px; width:100%;\"></div>            <script type=\"text/javascript\">                require([\"plotly\"], function(Plotly) {                    window.PLOTLYENV=window.PLOTLYENV || {};                                    if (document.getElementById(\"06d1e6fe-be13-4c99-9548-1e8e1b0382a5\")) {                    Plotly.newPlot(                        \"06d1e6fe-be13-4c99-9548-1e8e1b0382a5\",                        [{\"alignmentgroup\":\"True\",\"hovertemplate\":\"Grain_Type=%{x}<br>Count=%{y}<extra></extra>\",\"legendgroup\":\"\",\"marker\":{\"color\":\"#636efa\",\"pattern\":{\"shape\":\"\"}},\"name\":\"\",\"offsetgroup\":\"\",\"orientation\":\"v\",\"showlegend\":false,\"textposition\":\"auto\",\"x\":[\"BEAN\",\"BRNT\",\"COPP\",\"CORN\",\"DSEL\",\"GOLD\",\"KANS\",\"MEAL\",\"OILS\",\"PALL\",\"PLAT\",\"QBRN\",\"QCFF\",\"QCOC\",\"QCOP\",\"QCRN\",\"QCTN\",\"QGAS\",\"QGLD\",\"QHEA\",\"QNAT\",\"QPLD\",\"QPLT\",\"QSBN\",\"QSIL\",\"QSUG\",\"REDW\",\"SILV\",\"SOYA\",\"SUNS\",\"WEAT\",\"WMAZ\",\"WOPT\",\"WTIO\",\"XQCM\",\"XQHM\",\"XQMM\",\"XQMO\",\"YMAZ\",\"YOPT\"],\"xaxis\":\"x\",\"y\":[40890,11844,11844,35814,41736,11844,21714,20022,14100,11844,11844,12408,11844,11844,11844,15228,11844,11844,11844,11844,11844,11844,11844,11844,11844,11844,20304,11844,45684,42582,42582,55836,16638,11562,2256,2256,11562,2256,55554,5640],\"yaxis\":\"y\",\"type\":\"bar\"}],                        {\"template\":{\"data\":{\"histogram2dcontour\":[{\"type\":\"histogram2dcontour\",\"colorbar\":{\"outlinewidth\":0,\"ticks\":\"\"},\"colorscale\":[[0.0,\"#0d0887\"],[0.1111111111111111,\"#46039f\"],[0.2222222222222222,\"#7201a8\"],[0.3333333333333333,\"#9c179e\"],[0.4444444444444444,\"#bd3786\"],[0.5555555555555556,\"#d8576b\"],[0.6666666666666666,\"#ed7953\"],[0.7777777777777778,\"#fb9f3a\"],[0.8888888888888888,\"#fdca26\"],[1.0,\"#f0f921\"]]}],\"choropleth\":[{\"type\":\"choropleth\",\"colorbar\":{\"outlinewidth\":0,\"ticks\":\"\"}}],\"histogram2d\":[{\"type\":\"histogram2d\",\"colorbar\":{\"outlinewidth\":0,\"ticks\":\"\"},\"colorscale\":[[0.0,\"#0d0887\"],[0.1111111111111111,\"#46039f\"],[0.2222222222222222,\"#7201a8\"],[0.3333333333333333,\"#9c179e\"],[0.4444444444444444,\"#bd3786\"],[0.5555555555555556,\"#d8576b\"],[0.6666666666666666,\"#ed7953\"],[0.7777777777777778,\"#fb9f3a\"],[0.8888888888888888,\"#fdca26\"],[1.0,\"#f0f921\"]]}],\"heatmap\":[{\"type\":\"heatmap\",\"colorbar\":{\"outlinewidth\":0,\"ticks\":\"\"},\"colorscale\":[[0.0,\"#0d0887\"],[0.1111111111111111,\"#46039f\"],[0.2222222222222222,\"#7201a8\"],[0.3333333333333333,\"#9c179e\"],[0.4444444444444444,\"#bd3786\"],[0.5555555555555556,\"#d8576b\"],[0.6666666666666666,\"#ed7953\"],[0.7777777777777778,\"#fb9f3a\"],[0.8888888888888888,\"#fdca26\"],[1.0,\"#f0f921\"]]}],\"heatmapgl\":[{\"type\":\"heatmapgl\",\"colorbar\":{\"outlinewidth\":0,\"ticks\":\"\"},\"colorscale\":[[0.0,\"#0d0887\"],[0.1111111111111111,\"#46039f\"],[0.2222222222222222,\"#7201a8\"],[0.3333333333333333,\"#9c179e\"],[0.4444444444444444,\"#bd3786\"],[0.5555555555555556,\"#d8576b\"],[0.6666666666666666,\"#ed7953\"],[0.7777777777777778,\"#fb9f3a\"],[0.8888888888888888,\"#fdca26\"],[1.0,\"#f0f921\"]]}],\"contourcarpet\":[{\"type\":\"contourcarpet\",\"colorbar\":{\"outlinewidth\":0,\"ticks\":\"\"}}],\"contour\":[{\"type\":\"contour\",\"colorbar\":{\"outlinewidth\":0,\"ticks\":\"\"},\"colorscale\":[[0.0,\"#0d0887\"],[0.1111111111111111,\"#46039f\"],[0.2222222222222222,\"#7201a8\"],[0.3333333333333333,\"#9c179e\"],[0.4444444444444444,\"#bd3786\"],[0.5555555555555556,\"#d8576b\"],[0.6666666666666666,\"#ed7953\"],[0.7777777777777778,\"#fb9f3a\"],[0.8888888888888888,\"#fdca26\"],[1.0,\"#f0f921\"]]}],\"surface\":[{\"type\":\"surface\",\"colorbar\":{\"outlinewidth\":0,\"ticks\":\"\"},\"colorscale\":[[0.0,\"#0d0887\"],[0.1111111111111111,\"#46039f\"],[0.2222222222222222,\"#7201a8\"],[0.3333333333333333,\"#9c179e\"],[0.4444444444444444,\"#bd3786\"],[0.5555555555555556,\"#d8576b\"],[0.6666666666666666,\"#ed7953\"],[0.7777777777777778,\"#fb9f3a\"],[0.8888888888888888,\"#fdca26\"],[1.0,\"#f0f921\"]]}],\"mesh3d\":[{\"type\":\"mesh3d\",\"colorbar\":{\"outlinewidth\":0,\"ticks\":\"\"}}],\"scatter\":[{\"fillpattern\":{\"fillmode\":\"overlay\",\"size\":10,\"solidity\":0.2},\"type\":\"scatter\"}],\"parcoords\":[{\"type\":\"parcoords\",\"line\":{\"colorbar\":{\"outlinewidth\":0,\"ticks\":\"\"}}}],\"scatterpolargl\":[{\"type\":\"scatterpolargl\",\"marker\":{\"colorbar\":{\"outlinewidth\":0,\"ticks\":\"\"}}}],\"bar\":[{\"error_x\":{\"color\":\"#2a3f5f\"},\"error_y\":{\"color\":\"#2a3f5f\"},\"marker\":{\"line\":{\"color\":\"#E5ECF6\",\"width\":0.5},\"pattern\":{\"fillmode\":\"overlay\",\"size\":10,\"solidity\":0.2}},\"type\":\"bar\"}],\"scattergeo\":[{\"type\":\"scattergeo\",\"marker\":{\"colorbar\":{\"outlinewidth\":0,\"ticks\":\"\"}}}],\"scatterpolar\":[{\"type\":\"scatterpolar\",\"marker\":{\"colorbar\":{\"outlinewidth\":0,\"ticks\":\"\"}}}],\"histogram\":[{\"marker\":{\"pattern\":{\"fillmode\":\"overlay\",\"size\":10,\"solidity\":0.2}},\"type\":\"histogram\"}],\"scattergl\":[{\"type\":\"scattergl\",\"marker\":{\"colorbar\":{\"outlinewidth\":0,\"ticks\":\"\"}}}],\"scatter3d\":[{\"type\":\"scatter3d\",\"line\":{\"colorbar\":{\"outlinewidth\":0,\"ticks\":\"\"}},\"marker\":{\"colorbar\":{\"outlinewidth\":0,\"ticks\":\"\"}}}],\"scattermapbox\":[{\"type\":\"scattermapbox\",\"marker\":{\"colorbar\":{\"outlinewidth\":0,\"ticks\":\"\"}}}],\"scatterternary\":[{\"type\":\"scatterternary\",\"marker\":{\"colorbar\":{\"outlinewidth\":0,\"ticks\":\"\"}}}],\"scattercarpet\":[{\"type\":\"scattercarpet\",\"marker\":{\"colorbar\":{\"outlinewidth\":0,\"ticks\":\"\"}}}],\"carpet\":[{\"aaxis\":{\"endlinecolor\":\"#2a3f5f\",\"gridcolor\":\"white\",\"linecolor\":\"white\",\"minorgridcolor\":\"white\",\"startlinecolor\":\"#2a3f5f\"},\"baxis\":{\"endlinecolor\":\"#2a3f5f\",\"gridcolor\":\"white\",\"linecolor\":\"white\",\"minorgridcolor\":\"white\",\"startlinecolor\":\"#2a3f5f\"},\"type\":\"carpet\"}],\"table\":[{\"cells\":{\"fill\":{\"color\":\"#EBF0F8\"},\"line\":{\"color\":\"white\"}},\"header\":{\"fill\":{\"color\":\"#C8D4E3\"},\"line\":{\"color\":\"white\"}},\"type\":\"table\"}],\"barpolar\":[{\"marker\":{\"line\":{\"color\":\"#E5ECF6\",\"width\":0.5},\"pattern\":{\"fillmode\":\"overlay\",\"size\":10,\"solidity\":0.2}},\"type\":\"barpolar\"}],\"pie\":[{\"automargin\":true,\"type\":\"pie\"}]},\"layout\":{\"autotypenumbers\":\"strict\",\"colorway\":[\"#636efa\",\"#EF553B\",\"#00cc96\",\"#ab63fa\",\"#FFA15A\",\"#19d3f3\",\"#FF6692\",\"#B6E880\",\"#FF97FF\",\"#FECB52\"],\"font\":{\"color\":\"#2a3f5f\"},\"hovermode\":\"closest\",\"hoverlabel\":{\"align\":\"left\"},\"paper_bgcolor\":\"white\",\"plot_bgcolor\":\"#E5ECF6\",\"polar\":{\"bgcolor\":\"#E5ECF6\",\"angularaxis\":{\"gridcolor\":\"white\",\"linecolor\":\"white\",\"ticks\":\"\"},\"radialaxis\":{\"gridcolor\":\"white\",\"linecolor\":\"white\",\"ticks\":\"\"}},\"ternary\":{\"bgcolor\":\"#E5ECF6\",\"aaxis\":{\"gridcolor\":\"white\",\"linecolor\":\"white\",\"ticks\":\"\"},\"baxis\":{\"gridcolor\":\"white\",\"linecolor\":\"white\",\"ticks\":\"\"},\"caxis\":{\"gridcolor\":\"white\",\"linecolor\":\"white\",\"ticks\":\"\"}},\"coloraxis\":{\"colorbar\":{\"outlinewidth\":0,\"ticks\":\"\"}},\"colorscale\":{\"sequential\":[[0.0,\"#0d0887\"],[0.1111111111111111,\"#46039f\"],[0.2222222222222222,\"#7201a8\"],[0.3333333333333333,\"#9c179e\"],[0.4444444444444444,\"#bd3786\"],[0.5555555555555556,\"#d8576b\"],[0.6666666666666666,\"#ed7953\"],[0.7777777777777778,\"#fb9f3a\"],[0.8888888888888888,\"#fdca26\"],[1.0,\"#f0f921\"]],\"sequentialminus\":[[0.0,\"#0d0887\"],[0.1111111111111111,\"#46039f\"],[0.2222222222222222,\"#7201a8\"],[0.3333333333333333,\"#9c179e\"],[0.4444444444444444,\"#bd3786\"],[0.5555555555555556,\"#d8576b\"],[0.6666666666666666,\"#ed7953\"],[0.7777777777777778,\"#fb9f3a\"],[0.8888888888888888,\"#fdca26\"],[1.0,\"#f0f921\"]],\"diverging\":[[0,\"#8e0152\"],[0.1,\"#c51b7d\"],[0.2,\"#de77ae\"],[0.3,\"#f1b6da\"],[0.4,\"#fde0ef\"],[0.5,\"#f7f7f7\"],[0.6,\"#e6f5d0\"],[0.7,\"#b8e186\"],[0.8,\"#7fbc41\"],[0.9,\"#4d9221\"],[1,\"#276419\"]]},\"xaxis\":{\"gridcolor\":\"white\",\"linecolor\":\"white\",\"ticks\":\"\",\"title\":{\"standoff\":15},\"zerolinecolor\":\"white\",\"automargin\":true,\"zerolinewidth\":2},\"yaxis\":{\"gridcolor\":\"white\",\"linecolor\":\"white\",\"ticks\":\"\",\"title\":{\"standoff\":15},\"zerolinecolor\":\"white\",\"automargin\":true,\"zerolinewidth\":2},\"scene\":{\"xaxis\":{\"backgroundcolor\":\"#E5ECF6\",\"gridcolor\":\"white\",\"linecolor\":\"white\",\"showbackground\":true,\"ticks\":\"\",\"zerolinecolor\":\"white\",\"gridwidth\":2},\"yaxis\":{\"backgroundcolor\":\"#E5ECF6\",\"gridcolor\":\"white\",\"linecolor\":\"white\",\"showbackground\":true,\"ticks\":\"\",\"zerolinecolor\":\"white\",\"gridwidth\":2},\"zaxis\":{\"backgroundcolor\":\"#E5ECF6\",\"gridcolor\":\"white\",\"linecolor\":\"white\",\"showbackground\":true,\"ticks\":\"\",\"zerolinecolor\":\"white\",\"gridwidth\":2}},\"shapedefaults\":{\"line\":{\"color\":\"#2a3f5f\"}},\"annotationdefaults\":{\"arrowcolor\":\"#2a3f5f\",\"arrowhead\":0,\"arrowwidth\":1},\"geo\":{\"bgcolor\":\"white\",\"landcolor\":\"#E5ECF6\",\"subunitcolor\":\"white\",\"showland\":true,\"showlakes\":true,\"lakecolor\":\"white\"},\"title\":{\"x\":0.05},\"mapbox\":{\"style\":\"light\"}}},\"xaxis\":{\"anchor\":\"y\",\"domain\":[0.0,1.0],\"title\":{\"text\":\"Grain_Type\"}},\"yaxis\":{\"anchor\":\"x\",\"domain\":[0.0,1.0],\"title\":{\"text\":\"Count\"}},\"legend\":{\"tracegroupgap\":0},\"title\":{\"text\":\"Count of Contract Transactions Per Grain\"},\"barmode\":\"relative\"},                        {\"responsive\": true}                    ).then(function(){\n",
       "                            \n",
       "var gd = document.getElementById('06d1e6fe-be13-4c99-9548-1e8e1b0382a5');\n",
       "var x = new MutationObserver(function (mutations, observer) {{\n",
       "        var display = window.getComputedStyle(gd).display;\n",
       "        if (!display || display === 'none') {{\n",
       "            console.log([gd, 'removed!']);\n",
       "            Plotly.purge(gd);\n",
       "            observer.disconnect();\n",
       "        }}\n",
       "}});\n",
       "\n",
       "// Listen for the removal of the full notebook cells\n",
       "var notebookContainer = gd.closest('#notebook-container');\n",
       "if (notebookContainer) {{\n",
       "    x.observe(notebookContainer, {childList: true});\n",
       "}}\n",
       "\n",
       "// Listen for the clearing of the current output cell\n",
       "var outputEl = gd.closest('.output');\n",
       "if (outputEl) {{\n",
       "    x.observe(outputEl, {childList: true});\n",
       "}}\n",
       "\n",
       "                        })                };                });            </script>        </div>"
      ]
     },
     "metadata": {},
     "output_type": "display_data"
    }
   ],
   "source": [
    "# Plotting the count of records of transactions per grain type\n",
    "px.bar(Transaction_Volume, x = 'Grain_Type', y = 'Count', title = 'Count of Contract Transactions Per Grain')"
   ]
  },
  {
   "cell_type": "code",
   "execution_count": null,
   "id": "c13bfba6",
   "metadata": {},
   "outputs": [],
   "source": []
  },
  {
   "cell_type": "code",
   "execution_count": 91,
   "id": "1d6e2924",
   "metadata": {},
   "outputs": [
    {
     "data": {
      "application/vnd.jupyter.widget-view+json": {
       "model_id": "1f110755eab84a5981a5371003a176f4",
       "version_major": 2,
       "version_minor": 0
      },
      "text/plain": [
       "interactive(children=(Dropdown(description='Grain', options=('BEAN', 'BRNT', 'COPP', 'CORN', 'DSEL', 'GOLD', '…"
      ]
     },
     "metadata": {},
     "output_type": "display_data"
    },
    {
     "data": {
      "text/plain": [
       "<function __main__.grain_pie(Grain)>"
      ]
     },
     "execution_count": 91,
     "metadata": {},
     "output_type": "execute_result"
    }
   ],
   "source": [
    "# Generating an interactive pie chart to peek through the distribution of market activities for each grain\n",
    "list_Grain = list(df['Grain_Type'].unique())\n",
    "list_Contract = list(df['contract_type'].unique())\n",
    "\n",
    "# Required function for the interactive charts\n",
    "def grain_pie(Grain):\n",
    "    A= df.loc[df['Grain_Type'] == Grain, ('contract_type')]\n",
    "    B = len(A)\n",
    "    C = len(df['Market'].unique())\n",
    " \n",
    "    fig = px.pie(A, values=A.value_counts().values, names=A.value_counts().index) \n",
    "    fig.update_traces(hoverinfo='label+percent+name', textinfo='value')\n",
    "    \n",
    "    fig.update_layout(\n",
    "    title_text= f\"Trading Activities for {Grain} Across All {C} Markets; Total No. of {Grain} Tranasactions = {B}\"\n",
    "    )\n",
    "    fig.show()\n",
    "    \n",
    "widgets.interact(grain_pie, Grain = list_Grain, Contract = list_Contract )"
   ]
  },
  {
   "cell_type": "code",
   "execution_count": 13,
   "id": "6fdcdc3a",
   "metadata": {},
   "outputs": [
    {
     "name": "stdout",
     "output_type": "stream",
     "text": [
      "<class 'pandas.core.frame.DataFrame'>\n",
      "RangeIndex: 741660 entries, 0 to 741659\n",
      "Data columns (total 24 columns):\n",
      " #   Column            Non-Null Count   Dtype         \n",
      "---  ------            --------------   -----         \n",
      " 0   contract_type     741660 non-null  object        \n",
      " 1   volatility        741660 non-null  float64       \n",
      " 2   bid               741660 non-null  float64       \n",
      " 3   offer             741660 non-null  float64       \n",
      " 4   market_to_market  741660 non-null  float64       \n",
      " 5   first             741660 non-null  float64       \n",
      " 6   last              741660 non-null  float64       \n",
      " 7   high              741660 non-null  float64       \n",
      " 8   low               741660 non-null  float64       \n",
      " 9   deals             741660 non-null  float64       \n",
      " 10  contracts         741660 non-null  int64         \n",
      " 11  value             741660 non-null  int64         \n",
      " 12  upload_date       741660 non-null  datetime64[ns]\n",
      " 13  market_name       741660 non-null  object        \n",
      " 14  market_code       741660 non-null  object        \n",
      " 15  market_type       741660 non-null  object        \n",
      " 16  Day               741660 non-null  object        \n",
      " 17  Month             741660 non-null  object        \n",
      " 18  Year              741660 non-null  object        \n",
      " 19  Grain_Type        741660 non-null  object        \n",
      " 20  Month_Code        741660 non-null  object        \n",
      " 21  Year_Full_Format  741660 non-null  object        \n",
      " 22  Contract_Date     741660 non-null  datetime64[ns]\n",
      " 23  Market            741660 non-null  object        \n",
      "dtypes: datetime64[ns](2), float64(9), int64(2), object(11)\n",
      "memory usage: 135.8+ MB\n"
     ]
    }
   ],
   "source": [
    "# Let us see the final metadata after\n",
    "df.info()"
   ]
  },
  {
   "cell_type": "code",
   "execution_count": 14,
   "id": "3b1ca0c6",
   "metadata": {},
   "outputs": [
    {
     "data": {
      "application/vnd.jupyter.widget-view+json": {
       "model_id": "ddd75fe124d14eb3add3eb0dc42375f9",
       "version_major": 2,
       "version_minor": 0
      },
      "text/plain": [
       "interactive(children=(Dropdown(description='Market', options=('Afgri  silo_5 ', 'Afgri  silo_6 ', 'Afgri  silo…"
      ]
     },
     "metadata": {},
     "output_type": "display_data"
    },
    {
     "data": {
      "application/vnd.plotly.v1+json": {
       "config": {
        "plotlyServerURL": "https://plot.ly"
       },
       "data": [
        {
         "name": "Last",
         "type": "bar",
         "x": [
          "2023-07-03T00:00:00",
          "2023-09-01T00:00:00",
          "2023-11-01T00:00:00",
          "2024-03-01T00:00:00",
          "2024-05-02T00:00:00",
          "2025-05-02T00:00:00"
         ],
         "y": [
          9525,
          8722,
          8607,
          8826,
          8992,
          8828
         ]
        },
        {
         "name": "Bid",
         "type": "bar",
         "x": [
          "2023-07-03T00:00:00",
          "2023-09-01T00:00:00",
          "2023-11-01T00:00:00",
          "2024-03-01T00:00:00",
          "2024-05-02T00:00:00",
          "2025-05-02T00:00:00"
         ],
         "y": [
          9506,
          8697,
          8606,
          8807,
          0,
          8691
         ]
        }
       ],
       "layout": {
        "barmode": "group",
        "template": {
         "data": {
          "bar": [
           {
            "error_x": {
             "color": "#2a3f5f"
            },
            "error_y": {
             "color": "#2a3f5f"
            },
            "marker": {
             "line": {
              "color": "#E5ECF6",
              "width": 0.5
             },
             "pattern": {
              "fillmode": "overlay",
              "size": 10,
              "solidity": 0.2
             }
            },
            "type": "bar"
           }
          ],
          "barpolar": [
           {
            "marker": {
             "line": {
              "color": "#E5ECF6",
              "width": 0.5
             },
             "pattern": {
              "fillmode": "overlay",
              "size": 10,
              "solidity": 0.2
             }
            },
            "type": "barpolar"
           }
          ],
          "carpet": [
           {
            "aaxis": {
             "endlinecolor": "#2a3f5f",
             "gridcolor": "white",
             "linecolor": "white",
             "minorgridcolor": "white",
             "startlinecolor": "#2a3f5f"
            },
            "baxis": {
             "endlinecolor": "#2a3f5f",
             "gridcolor": "white",
             "linecolor": "white",
             "minorgridcolor": "white",
             "startlinecolor": "#2a3f5f"
            },
            "type": "carpet"
           }
          ],
          "choropleth": [
           {
            "colorbar": {
             "outlinewidth": 0,
             "ticks": ""
            },
            "type": "choropleth"
           }
          ],
          "contour": [
           {
            "colorbar": {
             "outlinewidth": 0,
             "ticks": ""
            },
            "colorscale": [
             [
              0,
              "#0d0887"
             ],
             [
              0.1111111111111111,
              "#46039f"
             ],
             [
              0.2222222222222222,
              "#7201a8"
             ],
             [
              0.3333333333333333,
              "#9c179e"
             ],
             [
              0.4444444444444444,
              "#bd3786"
             ],
             [
              0.5555555555555556,
              "#d8576b"
             ],
             [
              0.6666666666666666,
              "#ed7953"
             ],
             [
              0.7777777777777778,
              "#fb9f3a"
             ],
             [
              0.8888888888888888,
              "#fdca26"
             ],
             [
              1,
              "#f0f921"
             ]
            ],
            "type": "contour"
           }
          ],
          "contourcarpet": [
           {
            "colorbar": {
             "outlinewidth": 0,
             "ticks": ""
            },
            "type": "contourcarpet"
           }
          ],
          "heatmap": [
           {
            "colorbar": {
             "outlinewidth": 0,
             "ticks": ""
            },
            "colorscale": [
             [
              0,
              "#0d0887"
             ],
             [
              0.1111111111111111,
              "#46039f"
             ],
             [
              0.2222222222222222,
              "#7201a8"
             ],
             [
              0.3333333333333333,
              "#9c179e"
             ],
             [
              0.4444444444444444,
              "#bd3786"
             ],
             [
              0.5555555555555556,
              "#d8576b"
             ],
             [
              0.6666666666666666,
              "#ed7953"
             ],
             [
              0.7777777777777778,
              "#fb9f3a"
             ],
             [
              0.8888888888888888,
              "#fdca26"
             ],
             [
              1,
              "#f0f921"
             ]
            ],
            "type": "heatmap"
           }
          ],
          "heatmapgl": [
           {
            "colorbar": {
             "outlinewidth": 0,
             "ticks": ""
            },
            "colorscale": [
             [
              0,
              "#0d0887"
             ],
             [
              0.1111111111111111,
              "#46039f"
             ],
             [
              0.2222222222222222,
              "#7201a8"
             ],
             [
              0.3333333333333333,
              "#9c179e"
             ],
             [
              0.4444444444444444,
              "#bd3786"
             ],
             [
              0.5555555555555556,
              "#d8576b"
             ],
             [
              0.6666666666666666,
              "#ed7953"
             ],
             [
              0.7777777777777778,
              "#fb9f3a"
             ],
             [
              0.8888888888888888,
              "#fdca26"
             ],
             [
              1,
              "#f0f921"
             ]
            ],
            "type": "heatmapgl"
           }
          ],
          "histogram": [
           {
            "marker": {
             "pattern": {
              "fillmode": "overlay",
              "size": 10,
              "solidity": 0.2
             }
            },
            "type": "histogram"
           }
          ],
          "histogram2d": [
           {
            "colorbar": {
             "outlinewidth": 0,
             "ticks": ""
            },
            "colorscale": [
             [
              0,
              "#0d0887"
             ],
             [
              0.1111111111111111,
              "#46039f"
             ],
             [
              0.2222222222222222,
              "#7201a8"
             ],
             [
              0.3333333333333333,
              "#9c179e"
             ],
             [
              0.4444444444444444,
              "#bd3786"
             ],
             [
              0.5555555555555556,
              "#d8576b"
             ],
             [
              0.6666666666666666,
              "#ed7953"
             ],
             [
              0.7777777777777778,
              "#fb9f3a"
             ],
             [
              0.8888888888888888,
              "#fdca26"
             ],
             [
              1,
              "#f0f921"
             ]
            ],
            "type": "histogram2d"
           }
          ],
          "histogram2dcontour": [
           {
            "colorbar": {
             "outlinewidth": 0,
             "ticks": ""
            },
            "colorscale": [
             [
              0,
              "#0d0887"
             ],
             [
              0.1111111111111111,
              "#46039f"
             ],
             [
              0.2222222222222222,
              "#7201a8"
             ],
             [
              0.3333333333333333,
              "#9c179e"
             ],
             [
              0.4444444444444444,
              "#bd3786"
             ],
             [
              0.5555555555555556,
              "#d8576b"
             ],
             [
              0.6666666666666666,
              "#ed7953"
             ],
             [
              0.7777777777777778,
              "#fb9f3a"
             ],
             [
              0.8888888888888888,
              "#fdca26"
             ],
             [
              1,
              "#f0f921"
             ]
            ],
            "type": "histogram2dcontour"
           }
          ],
          "mesh3d": [
           {
            "colorbar": {
             "outlinewidth": 0,
             "ticks": ""
            },
            "type": "mesh3d"
           }
          ],
          "parcoords": [
           {
            "line": {
             "colorbar": {
              "outlinewidth": 0,
              "ticks": ""
             }
            },
            "type": "parcoords"
           }
          ],
          "pie": [
           {
            "automargin": true,
            "type": "pie"
           }
          ],
          "scatter": [
           {
            "fillpattern": {
             "fillmode": "overlay",
             "size": 10,
             "solidity": 0.2
            },
            "type": "scatter"
           }
          ],
          "scatter3d": [
           {
            "line": {
             "colorbar": {
              "outlinewidth": 0,
              "ticks": ""
             }
            },
            "marker": {
             "colorbar": {
              "outlinewidth": 0,
              "ticks": ""
             }
            },
            "type": "scatter3d"
           }
          ],
          "scattercarpet": [
           {
            "marker": {
             "colorbar": {
              "outlinewidth": 0,
              "ticks": ""
             }
            },
            "type": "scattercarpet"
           }
          ],
          "scattergeo": [
           {
            "marker": {
             "colorbar": {
              "outlinewidth": 0,
              "ticks": ""
             }
            },
            "type": "scattergeo"
           }
          ],
          "scattergl": [
           {
            "marker": {
             "colorbar": {
              "outlinewidth": 0,
              "ticks": ""
             }
            },
            "type": "scattergl"
           }
          ],
          "scattermapbox": [
           {
            "marker": {
             "colorbar": {
              "outlinewidth": 0,
              "ticks": ""
             }
            },
            "type": "scattermapbox"
           }
          ],
          "scatterpolar": [
           {
            "marker": {
             "colorbar": {
              "outlinewidth": 0,
              "ticks": ""
             }
            },
            "type": "scatterpolar"
           }
          ],
          "scatterpolargl": [
           {
            "marker": {
             "colorbar": {
              "outlinewidth": 0,
              "ticks": ""
             }
            },
            "type": "scatterpolargl"
           }
          ],
          "scatterternary": [
           {
            "marker": {
             "colorbar": {
              "outlinewidth": 0,
              "ticks": ""
             }
            },
            "type": "scatterternary"
           }
          ],
          "surface": [
           {
            "colorbar": {
             "outlinewidth": 0,
             "ticks": ""
            },
            "colorscale": [
             [
              0,
              "#0d0887"
             ],
             [
              0.1111111111111111,
              "#46039f"
             ],
             [
              0.2222222222222222,
              "#7201a8"
             ],
             [
              0.3333333333333333,
              "#9c179e"
             ],
             [
              0.4444444444444444,
              "#bd3786"
             ],
             [
              0.5555555555555556,
              "#d8576b"
             ],
             [
              0.6666666666666666,
              "#ed7953"
             ],
             [
              0.7777777777777778,
              "#fb9f3a"
             ],
             [
              0.8888888888888888,
              "#fdca26"
             ],
             [
              1,
              "#f0f921"
             ]
            ],
            "type": "surface"
           }
          ],
          "table": [
           {
            "cells": {
             "fill": {
              "color": "#EBF0F8"
             },
             "line": {
              "color": "white"
             }
            },
            "header": {
             "fill": {
              "color": "#C8D4E3"
             },
             "line": {
              "color": "white"
             }
            },
            "type": "table"
           }
          ]
         },
         "layout": {
          "annotationdefaults": {
           "arrowcolor": "#2a3f5f",
           "arrowhead": 0,
           "arrowwidth": 1
          },
          "autotypenumbers": "strict",
          "coloraxis": {
           "colorbar": {
            "outlinewidth": 0,
            "ticks": ""
           }
          },
          "colorscale": {
           "diverging": [
            [
             0,
             "#8e0152"
            ],
            [
             0.1,
             "#c51b7d"
            ],
            [
             0.2,
             "#de77ae"
            ],
            [
             0.3,
             "#f1b6da"
            ],
            [
             0.4,
             "#fde0ef"
            ],
            [
             0.5,
             "#f7f7f7"
            ],
            [
             0.6,
             "#e6f5d0"
            ],
            [
             0.7,
             "#b8e186"
            ],
            [
             0.8,
             "#7fbc41"
            ],
            [
             0.9,
             "#4d9221"
            ],
            [
             1,
             "#276419"
            ]
           ],
           "sequential": [
            [
             0,
             "#0d0887"
            ],
            [
             0.1111111111111111,
             "#46039f"
            ],
            [
             0.2222222222222222,
             "#7201a8"
            ],
            [
             0.3333333333333333,
             "#9c179e"
            ],
            [
             0.4444444444444444,
             "#bd3786"
            ],
            [
             0.5555555555555556,
             "#d8576b"
            ],
            [
             0.6666666666666666,
             "#ed7953"
            ],
            [
             0.7777777777777778,
             "#fb9f3a"
            ],
            [
             0.8888888888888888,
             "#fdca26"
            ],
            [
             1,
             "#f0f921"
            ]
           ],
           "sequentialminus": [
            [
             0,
             "#0d0887"
            ],
            [
             0.1111111111111111,
             "#46039f"
            ],
            [
             0.2222222222222222,
             "#7201a8"
            ],
            [
             0.3333333333333333,
             "#9c179e"
            ],
            [
             0.4444444444444444,
             "#bd3786"
            ],
            [
             0.5555555555555556,
             "#d8576b"
            ],
            [
             0.6666666666666666,
             "#ed7953"
            ],
            [
             0.7777777777777778,
             "#fb9f3a"
            ],
            [
             0.8888888888888888,
             "#fdca26"
            ],
            [
             1,
             "#f0f921"
            ]
           ]
          },
          "colorway": [
           "#636efa",
           "#EF553B",
           "#00cc96",
           "#ab63fa",
           "#FFA15A",
           "#19d3f3",
           "#FF6692",
           "#B6E880",
           "#FF97FF",
           "#FECB52"
          ],
          "font": {
           "color": "#2a3f5f"
          },
          "geo": {
           "bgcolor": "white",
           "lakecolor": "white",
           "landcolor": "#E5ECF6",
           "showlakes": true,
           "showland": true,
           "subunitcolor": "white"
          },
          "hoverlabel": {
           "align": "left"
          },
          "hovermode": "closest",
          "mapbox": {
           "style": "light"
          },
          "paper_bgcolor": "white",
          "plot_bgcolor": "#E5ECF6",
          "polar": {
           "angularaxis": {
            "gridcolor": "white",
            "linecolor": "white",
            "ticks": ""
           },
           "bgcolor": "#E5ECF6",
           "radialaxis": {
            "gridcolor": "white",
            "linecolor": "white",
            "ticks": ""
           }
          },
          "scene": {
           "xaxis": {
            "backgroundcolor": "#E5ECF6",
            "gridcolor": "white",
            "gridwidth": 2,
            "linecolor": "white",
            "showbackground": true,
            "ticks": "",
            "zerolinecolor": "white"
           },
           "yaxis": {
            "backgroundcolor": "#E5ECF6",
            "gridcolor": "white",
            "gridwidth": 2,
            "linecolor": "white",
            "showbackground": true,
            "ticks": "",
            "zerolinecolor": "white"
           },
           "zaxis": {
            "backgroundcolor": "#E5ECF6",
            "gridcolor": "white",
            "gridwidth": 2,
            "linecolor": "white",
            "showbackground": true,
            "ticks": "",
            "zerolinecolor": "white"
           }
          },
          "shapedefaults": {
           "line": {
            "color": "#2a3f5f"
           }
          },
          "ternary": {
           "aaxis": {
            "gridcolor": "white",
            "linecolor": "white",
            "ticks": ""
           },
           "baxis": {
            "gridcolor": "white",
            "linecolor": "white",
            "ticks": ""
           },
           "bgcolor": "#E5ECF6",
           "caxis": {
            "gridcolor": "white",
            "linecolor": "white",
            "ticks": ""
           }
          },
          "title": {
           "x": 0.05
          },
          "xaxis": {
           "automargin": true,
           "gridcolor": "white",
           "linecolor": "white",
           "ticks": "",
           "title": {
            "standoff": 15
           },
           "zerolinecolor": "white",
           "zerolinewidth": 2
          },
          "yaxis": {
           "automargin": true,
           "gridcolor": "white",
           "linecolor": "white",
           "ticks": "",
           "title": {
            "standoff": 15
           },
           "zerolinecolor": "white",
           "zerolinewidth": 2
          }
         }
        },
        "title": {
         "text": "BEAN Price (Last/Bid Price) Versus Contract Dates"
        },
        "xaxis": {
         "rangeslider": {
          "visible": true
         },
         "type": "date"
        }
       }
      }
     },
     "metadata": {},
     "output_type": "display_data"
    },
    {
     "data": {
      "text/plain": [
       "<function __main__.filteringplotly(Market, Grain_Type, Upload_Date)>"
      ]
     },
     "execution_count": 14,
     "metadata": {},
     "output_type": "execute_result"
    }
   ],
   "source": [
    "\n",
    "# Listing of filter information\n",
    "list1 = list(df.Market.unique())\n",
    "list2 = list(df.Grain_Type.unique())\n",
    "list3 = list(df.upload_date.unique())\n",
    "\n",
    "# Function for interactive chart\n",
    "def filteringplotly(Market, Grain_Type, Upload_Date):\n",
    "    A = df.loc[df['Market'] == Market, ('last', 'bid', 'Grain_Type','upload_date', 'Contract_Date')]\n",
    "    B = A.loc[A['Grain_Type'] == Grain_Type, ('last', 'bid', 'upload_date', 'Contract_Date')]\n",
    "    C = B.loc[B['upload_date']== Upload_Date , ('last', 'bid', 'Contract_Date')]\n",
    "    fig = px.bar(C, x='Contract_Date', y=\"last\", text_auto = True, title=\"Price (Last) of Grains Versus Contract Dates\")\n",
    "    fig.show()\n",
    "\n",
    "#widget function for chart rendering\n",
    "widgets.interact(filteringplotly, Market = list1, Grain_Type = list2, Upload_Date = list3)"
   ]
  },
  {
   "cell_type": "code",
   "execution_count": 95,
   "id": "5701e25b",
   "metadata": {},
   "outputs": [
    {
     "data": {
      "application/vnd.jupyter.widget-view+json": {
       "model_id": "e711cfc4fd3a4fbcaa632ee0cf78d8ee",
       "version_major": 2,
       "version_minor": 0
      },
      "text/plain": [
       "interactive(children=(Dropdown(description='Market', options=('Afgri  silo_5 ', 'Afgri  silo_6 ', 'Afgri  silo…"
      ]
     },
     "metadata": {},
     "output_type": "display_data"
    },
    {
     "data": {
      "text/plain": [
       "<function __main__.filteringplotly(Market, Grain_Type, Upload_Date)>"
      ]
     },
     "execution_count": 95,
     "metadata": {},
     "output_type": "execute_result"
    }
   ],
   "source": [
    "\n",
    "date_range = pd.to_datetime(datetime.now() - timedelta(days=365))\n",
    "\n",
    "df_New = df.loc[df['upload_date'] > date_range, ('Market','last', 'bid', 'Grain_Type','upload_date', 'Contract_Date', 'contract_type', 'deals')]\n",
    "list1 = list(df_New.Market.unique())\n",
    "list2 = list(df_New.Grain_Type.unique())\n",
    "list3 = sorted(list(df_New.upload_date.unique()), reverse = True)\n",
    "\n",
    "\n",
    "def filteringplotly(Market, Grain_Type, Upload_Date):\n",
    "    A = df_New.loc[df_New['Market'] == Market, ('last', 'bid', 'Grain_Type','upload_date', 'Contract_Date')]\n",
    "    B = A.loc[A['Grain_Type'] == Grain_Type, ('last', 'bid', 'upload_date', 'Contract_Date')]\n",
    "    date_range_from = pd.to_datetime(datetime.now() - timedelta(days=365))\n",
    "    D = B.loc[B['Contract_Date'] > date_range_from, ('last', 'bid', 'upload_date', 'Contract_Date')]\n",
    "    C = D.loc[D['upload_date']== Upload_Date , ('last', 'bid', 'Contract_Date')]\n",
    "\n",
    "    fig = go.Figure(data =[\n",
    "                    go.Bar(name = 'Last', x=C['Contract_Date'], y =C['last']),\n",
    "                    go.Bar(name = 'Bid', x=C['Contract_Date'], y = C['bid'])\n",
    "                    ])\n",
    "    fig.update_layout(barmode = 'group', title=f\"{Grain_Type} Price (Last/Bid Price) Versus Contract Dates\")\n",
    "    # Add range slider\n",
    "    \n",
    "    fig.update_layout(xaxis=dict(rangeslider=dict(visible=True), type=\"date\"))\n",
    "\n",
    "    fig.show()\n",
    "\n",
    "\n",
    "widgets.interact(filteringplotly, Market = list1, Grain_Type = list2, Upload_Date = list3)"
   ]
  },
  {
   "cell_type": "code",
   "execution_count": 16,
   "id": "3517662b",
   "metadata": {},
   "outputs": [
    {
     "data": {
      "application/vnd.jupyter.widget-view+json": {
       "model_id": "25361984b1784e3dab6ed6ad8f86b9bf",
       "version_major": 2,
       "version_minor": 0
      },
      "text/plain": [
       "interactive(children=(Dropdown(description='Market', options=('Afgri  silo_5 ', 'Afgri  silo_6 ', 'Afgri  silo…"
      ]
     },
     "metadata": {},
     "output_type": "display_data"
    },
    {
     "data": {
      "application/vnd.plotly.v1+json": {
       "config": {
        "plotlyServerURL": "https://plot.ly"
       },
       "data": [
        {
         "name": "Last Price (Avg)",
         "type": "bar",
         "x": [
          "2023-07-03T00:00:00",
          "2023-09-01T00:00:00",
          "2023-11-01T00:00:00",
          "2024-03-01T00:00:00",
          "2024-05-02T00:00:00",
          "2025-05-02T00:00:00"
         ],
         "y": [
          9928.628571428571,
          9216.42857142857,
          9036.142857142857,
          9123.142857142857,
          9187.75,
          8979
         ]
        },
        {
         "name": "Bid Price (Avg)",
         "type": "bar",
         "x": [
          "2023-07-03T00:00:00",
          "2023-09-01T00:00:00",
          "2023-11-01T00:00:00",
          "2024-03-01T00:00:00",
          "2024-05-02T00:00:00",
          "2025-05-02T00:00:00"
         ],
         "y": [
          9908.857142857143,
          9181.047619047618,
          9011.52380952381,
          9074.095238095239,
          8533.0625,
          5468.75
         ]
        }
       ],
       "layout": {
        "barmode": "group",
        "template": {
         "data": {
          "bar": [
           {
            "error_x": {
             "color": "#2a3f5f"
            },
            "error_y": {
             "color": "#2a3f5f"
            },
            "marker": {
             "line": {
              "color": "#E5ECF6",
              "width": 0.5
             },
             "pattern": {
              "fillmode": "overlay",
              "size": 10,
              "solidity": 0.2
             }
            },
            "type": "bar"
           }
          ],
          "barpolar": [
           {
            "marker": {
             "line": {
              "color": "#E5ECF6",
              "width": 0.5
             },
             "pattern": {
              "fillmode": "overlay",
              "size": 10,
              "solidity": 0.2
             }
            },
            "type": "barpolar"
           }
          ],
          "carpet": [
           {
            "aaxis": {
             "endlinecolor": "#2a3f5f",
             "gridcolor": "white",
             "linecolor": "white",
             "minorgridcolor": "white",
             "startlinecolor": "#2a3f5f"
            },
            "baxis": {
             "endlinecolor": "#2a3f5f",
             "gridcolor": "white",
             "linecolor": "white",
             "minorgridcolor": "white",
             "startlinecolor": "#2a3f5f"
            },
            "type": "carpet"
           }
          ],
          "choropleth": [
           {
            "colorbar": {
             "outlinewidth": 0,
             "ticks": ""
            },
            "type": "choropleth"
           }
          ],
          "contour": [
           {
            "colorbar": {
             "outlinewidth": 0,
             "ticks": ""
            },
            "colorscale": [
             [
              0,
              "#0d0887"
             ],
             [
              0.1111111111111111,
              "#46039f"
             ],
             [
              0.2222222222222222,
              "#7201a8"
             ],
             [
              0.3333333333333333,
              "#9c179e"
             ],
             [
              0.4444444444444444,
              "#bd3786"
             ],
             [
              0.5555555555555556,
              "#d8576b"
             ],
             [
              0.6666666666666666,
              "#ed7953"
             ],
             [
              0.7777777777777778,
              "#fb9f3a"
             ],
             [
              0.8888888888888888,
              "#fdca26"
             ],
             [
              1,
              "#f0f921"
             ]
            ],
            "type": "contour"
           }
          ],
          "contourcarpet": [
           {
            "colorbar": {
             "outlinewidth": 0,
             "ticks": ""
            },
            "type": "contourcarpet"
           }
          ],
          "heatmap": [
           {
            "colorbar": {
             "outlinewidth": 0,
             "ticks": ""
            },
            "colorscale": [
             [
              0,
              "#0d0887"
             ],
             [
              0.1111111111111111,
              "#46039f"
             ],
             [
              0.2222222222222222,
              "#7201a8"
             ],
             [
              0.3333333333333333,
              "#9c179e"
             ],
             [
              0.4444444444444444,
              "#bd3786"
             ],
             [
              0.5555555555555556,
              "#d8576b"
             ],
             [
              0.6666666666666666,
              "#ed7953"
             ],
             [
              0.7777777777777778,
              "#fb9f3a"
             ],
             [
              0.8888888888888888,
              "#fdca26"
             ],
             [
              1,
              "#f0f921"
             ]
            ],
            "type": "heatmap"
           }
          ],
          "heatmapgl": [
           {
            "colorbar": {
             "outlinewidth": 0,
             "ticks": ""
            },
            "colorscale": [
             [
              0,
              "#0d0887"
             ],
             [
              0.1111111111111111,
              "#46039f"
             ],
             [
              0.2222222222222222,
              "#7201a8"
             ],
             [
              0.3333333333333333,
              "#9c179e"
             ],
             [
              0.4444444444444444,
              "#bd3786"
             ],
             [
              0.5555555555555556,
              "#d8576b"
             ],
             [
              0.6666666666666666,
              "#ed7953"
             ],
             [
              0.7777777777777778,
              "#fb9f3a"
             ],
             [
              0.8888888888888888,
              "#fdca26"
             ],
             [
              1,
              "#f0f921"
             ]
            ],
            "type": "heatmapgl"
           }
          ],
          "histogram": [
           {
            "marker": {
             "pattern": {
              "fillmode": "overlay",
              "size": 10,
              "solidity": 0.2
             }
            },
            "type": "histogram"
           }
          ],
          "histogram2d": [
           {
            "colorbar": {
             "outlinewidth": 0,
             "ticks": ""
            },
            "colorscale": [
             [
              0,
              "#0d0887"
             ],
             [
              0.1111111111111111,
              "#46039f"
             ],
             [
              0.2222222222222222,
              "#7201a8"
             ],
             [
              0.3333333333333333,
              "#9c179e"
             ],
             [
              0.4444444444444444,
              "#bd3786"
             ],
             [
              0.5555555555555556,
              "#d8576b"
             ],
             [
              0.6666666666666666,
              "#ed7953"
             ],
             [
              0.7777777777777778,
              "#fb9f3a"
             ],
             [
              0.8888888888888888,
              "#fdca26"
             ],
             [
              1,
              "#f0f921"
             ]
            ],
            "type": "histogram2d"
           }
          ],
          "histogram2dcontour": [
           {
            "colorbar": {
             "outlinewidth": 0,
             "ticks": ""
            },
            "colorscale": [
             [
              0,
              "#0d0887"
             ],
             [
              0.1111111111111111,
              "#46039f"
             ],
             [
              0.2222222222222222,
              "#7201a8"
             ],
             [
              0.3333333333333333,
              "#9c179e"
             ],
             [
              0.4444444444444444,
              "#bd3786"
             ],
             [
              0.5555555555555556,
              "#d8576b"
             ],
             [
              0.6666666666666666,
              "#ed7953"
             ],
             [
              0.7777777777777778,
              "#fb9f3a"
             ],
             [
              0.8888888888888888,
              "#fdca26"
             ],
             [
              1,
              "#f0f921"
             ]
            ],
            "type": "histogram2dcontour"
           }
          ],
          "mesh3d": [
           {
            "colorbar": {
             "outlinewidth": 0,
             "ticks": ""
            },
            "type": "mesh3d"
           }
          ],
          "parcoords": [
           {
            "line": {
             "colorbar": {
              "outlinewidth": 0,
              "ticks": ""
             }
            },
            "type": "parcoords"
           }
          ],
          "pie": [
           {
            "automargin": true,
            "type": "pie"
           }
          ],
          "scatter": [
           {
            "fillpattern": {
             "fillmode": "overlay",
             "size": 10,
             "solidity": 0.2
            },
            "type": "scatter"
           }
          ],
          "scatter3d": [
           {
            "line": {
             "colorbar": {
              "outlinewidth": 0,
              "ticks": ""
             }
            },
            "marker": {
             "colorbar": {
              "outlinewidth": 0,
              "ticks": ""
             }
            },
            "type": "scatter3d"
           }
          ],
          "scattercarpet": [
           {
            "marker": {
             "colorbar": {
              "outlinewidth": 0,
              "ticks": ""
             }
            },
            "type": "scattercarpet"
           }
          ],
          "scattergeo": [
           {
            "marker": {
             "colorbar": {
              "outlinewidth": 0,
              "ticks": ""
             }
            },
            "type": "scattergeo"
           }
          ],
          "scattergl": [
           {
            "marker": {
             "colorbar": {
              "outlinewidth": 0,
              "ticks": ""
             }
            },
            "type": "scattergl"
           }
          ],
          "scattermapbox": [
           {
            "marker": {
             "colorbar": {
              "outlinewidth": 0,
              "ticks": ""
             }
            },
            "type": "scattermapbox"
           }
          ],
          "scatterpolar": [
           {
            "marker": {
             "colorbar": {
              "outlinewidth": 0,
              "ticks": ""
             }
            },
            "type": "scatterpolar"
           }
          ],
          "scatterpolargl": [
           {
            "marker": {
             "colorbar": {
              "outlinewidth": 0,
              "ticks": ""
             }
            },
            "type": "scatterpolargl"
           }
          ],
          "scatterternary": [
           {
            "marker": {
             "colorbar": {
              "outlinewidth": 0,
              "ticks": ""
             }
            },
            "type": "scatterternary"
           }
          ],
          "surface": [
           {
            "colorbar": {
             "outlinewidth": 0,
             "ticks": ""
            },
            "colorscale": [
             [
              0,
              "#0d0887"
             ],
             [
              0.1111111111111111,
              "#46039f"
             ],
             [
              0.2222222222222222,
              "#7201a8"
             ],
             [
              0.3333333333333333,
              "#9c179e"
             ],
             [
              0.4444444444444444,
              "#bd3786"
             ],
             [
              0.5555555555555556,
              "#d8576b"
             ],
             [
              0.6666666666666666,
              "#ed7953"
             ],
             [
              0.7777777777777778,
              "#fb9f3a"
             ],
             [
              0.8888888888888888,
              "#fdca26"
             ],
             [
              1,
              "#f0f921"
             ]
            ],
            "type": "surface"
           }
          ],
          "table": [
           {
            "cells": {
             "fill": {
              "color": "#EBF0F8"
             },
             "line": {
              "color": "white"
             }
            },
            "header": {
             "fill": {
              "color": "#C8D4E3"
             },
             "line": {
              "color": "white"
             }
            },
            "type": "table"
           }
          ]
         },
         "layout": {
          "annotationdefaults": {
           "arrowcolor": "#2a3f5f",
           "arrowhead": 0,
           "arrowwidth": 1
          },
          "autotypenumbers": "strict",
          "coloraxis": {
           "colorbar": {
            "outlinewidth": 0,
            "ticks": ""
           }
          },
          "colorscale": {
           "diverging": [
            [
             0,
             "#8e0152"
            ],
            [
             0.1,
             "#c51b7d"
            ],
            [
             0.2,
             "#de77ae"
            ],
            [
             0.3,
             "#f1b6da"
            ],
            [
             0.4,
             "#fde0ef"
            ],
            [
             0.5,
             "#f7f7f7"
            ],
            [
             0.6,
             "#e6f5d0"
            ],
            [
             0.7,
             "#b8e186"
            ],
            [
             0.8,
             "#7fbc41"
            ],
            [
             0.9,
             "#4d9221"
            ],
            [
             1,
             "#276419"
            ]
           ],
           "sequential": [
            [
             0,
             "#0d0887"
            ],
            [
             0.1111111111111111,
             "#46039f"
            ],
            [
             0.2222222222222222,
             "#7201a8"
            ],
            [
             0.3333333333333333,
             "#9c179e"
            ],
            [
             0.4444444444444444,
             "#bd3786"
            ],
            [
             0.5555555555555556,
             "#d8576b"
            ],
            [
             0.6666666666666666,
             "#ed7953"
            ],
            [
             0.7777777777777778,
             "#fb9f3a"
            ],
            [
             0.8888888888888888,
             "#fdca26"
            ],
            [
             1,
             "#f0f921"
            ]
           ],
           "sequentialminus": [
            [
             0,
             "#0d0887"
            ],
            [
             0.1111111111111111,
             "#46039f"
            ],
            [
             0.2222222222222222,
             "#7201a8"
            ],
            [
             0.3333333333333333,
             "#9c179e"
            ],
            [
             0.4444444444444444,
             "#bd3786"
            ],
            [
             0.5555555555555556,
             "#d8576b"
            ],
            [
             0.6666666666666666,
             "#ed7953"
            ],
            [
             0.7777777777777778,
             "#fb9f3a"
            ],
            [
             0.8888888888888888,
             "#fdca26"
            ],
            [
             1,
             "#f0f921"
            ]
           ]
          },
          "colorway": [
           "#636efa",
           "#EF553B",
           "#00cc96",
           "#ab63fa",
           "#FFA15A",
           "#19d3f3",
           "#FF6692",
           "#B6E880",
           "#FF97FF",
           "#FECB52"
          ],
          "font": {
           "color": "#2a3f5f"
          },
          "geo": {
           "bgcolor": "white",
           "lakecolor": "white",
           "landcolor": "#E5ECF6",
           "showlakes": true,
           "showland": true,
           "subunitcolor": "white"
          },
          "hoverlabel": {
           "align": "left"
          },
          "hovermode": "closest",
          "mapbox": {
           "style": "light"
          },
          "paper_bgcolor": "white",
          "plot_bgcolor": "#E5ECF6",
          "polar": {
           "angularaxis": {
            "gridcolor": "white",
            "linecolor": "white",
            "ticks": ""
           },
           "bgcolor": "#E5ECF6",
           "radialaxis": {
            "gridcolor": "white",
            "linecolor": "white",
            "ticks": ""
           }
          },
          "scene": {
           "xaxis": {
            "backgroundcolor": "#E5ECF6",
            "gridcolor": "white",
            "gridwidth": 2,
            "linecolor": "white",
            "showbackground": true,
            "ticks": "",
            "zerolinecolor": "white"
           },
           "yaxis": {
            "backgroundcolor": "#E5ECF6",
            "gridcolor": "white",
            "gridwidth": 2,
            "linecolor": "white",
            "showbackground": true,
            "ticks": "",
            "zerolinecolor": "white"
           },
           "zaxis": {
            "backgroundcolor": "#E5ECF6",
            "gridcolor": "white",
            "gridwidth": 2,
            "linecolor": "white",
            "showbackground": true,
            "ticks": "",
            "zerolinecolor": "white"
           }
          },
          "shapedefaults": {
           "line": {
            "color": "#2a3f5f"
           }
          },
          "ternary": {
           "aaxis": {
            "gridcolor": "white",
            "linecolor": "white",
            "ticks": ""
           },
           "baxis": {
            "gridcolor": "white",
            "linecolor": "white",
            "ticks": ""
           },
           "bgcolor": "#E5ECF6",
           "caxis": {
            "gridcolor": "white",
            "linecolor": "white",
            "ticks": ""
           }
          },
          "title": {
           "x": 0.05
          },
          "xaxis": {
           "automargin": true,
           "gridcolor": "white",
           "linecolor": "white",
           "ticks": "",
           "title": {
            "standoff": 15
           },
           "zerolinecolor": "white",
           "zerolinewidth": 2
          },
          "yaxis": {
           "automargin": true,
           "gridcolor": "white",
           "linecolor": "white",
           "ticks": "",
           "title": {
            "standoff": 15
           },
           "zerolinecolor": "white",
           "zerolinewidth": 2
          }
         }
        },
        "title": {
         "text": "Average Price (Last/Bid Price) over the Past Year for Unsettled BEAN Contracts"
        },
        "xaxis": {
         "rangeslider": {
          "visible": true
         },
         "type": "date"
        }
       }
      }
     },
     "metadata": {},
     "output_type": "display_data"
    },
    {
     "data": {
      "text/plain": [
       "<function __main__.filteringplotly(Market, Grain_Type)>"
      ]
     },
     "execution_count": 16,
     "metadata": {},
     "output_type": "execute_result"
    }
   ],
   "source": [
    "def filteringplotly(Market, Grain_Type):\n",
    "    A = df_New.loc[df_New['Market'] == Market, ('last', 'bid', 'Grain_Type','upload_date', 'Contract_Date')]\n",
    "    B = A.loc[A['Grain_Type'] == Grain_Type, ('last', 'bid', 'upload_date', 'Contract_Date')]\n",
    "    date_range_from = pd.to_datetime(datetime.now())\n",
    "    D = B.loc[B['Contract_Date'] > date_range_from, ('last', 'bid', 'upload_date', 'Contract_Date')]\n",
    "    C = D.groupby('Contract_Date')['last', 'bid'].mean().reset_index()\n",
    "\n",
    "    fig = go.Figure(data =[\n",
    "                    go.Bar(name = 'Last Price (Avg)', x=C['Contract_Date'], y =C['last']),\n",
    "                    go.Bar(name = 'Bid Price (Avg)', x=C['Contract_Date'], y = C['bid'])\n",
    "                    ])\n",
    "    fig.update_layout(barmode = 'group', title=f\"Average Price (Last/Bid Price) over the Past Year for Unsettled {Grain_Type} Contracts\")\n",
    "    # Add range slider\n",
    "    \n",
    "    fig.update_layout(xaxis=dict(rangeslider=dict(visible=True), type=\"date\"))\n",
    "\n",
    "    fig.show()\n",
    "\n",
    "\n",
    "widgets.interact(filteringplotly, Market = list1, Grain_Type = list2, Upload_Date = list3)"
   ]
  },
  {
   "cell_type": "code",
   "execution_count": null,
   "id": "b8d443d5",
   "metadata": {},
   "outputs": [],
   "source": []
  },
  {
   "cell_type": "code",
   "execution_count": 17,
   "id": "44fc8596",
   "metadata": {},
   "outputs": [
    {
     "data": {
      "application/vnd.jupyter.widget-view+json": {
       "model_id": "d041336c3aae4e2887cdcdbabb209a3b",
       "version_major": 2,
       "version_minor": 0
      },
      "text/plain": [
       "interactive(children=(Dropdown(description='Market', options=('Afgri  silo_5 ', 'Afgri  silo_6 ', 'Afgri  silo…"
      ]
     },
     "metadata": {},
     "output_type": "display_data"
    },
    {
     "data": {
      "application/vnd.plotly.v1+json": {
       "config": {
        "plotlyServerURL": "https://plot.ly"
       },
       "data": [
        {
         "hovertemplate": "contract_type=01 Mar 23 BEAN<br>upload_date=%{x}<br>last=%{y}<extra></extra>",
         "legendgroup": "01 Mar 23 BEAN",
         "line": {
          "color": "#636efa",
          "dash": "solid"
         },
         "marker": {
          "symbol": "circle"
         },
         "mode": "lines",
         "name": "01 Mar 23 BEAN",
         "orientation": "v",
         "showlegend": true,
         "type": "scatter",
         "x": [
          "2023-02-06T00:00:00",
          "2023-02-07T00:00:00",
          "2023-02-13T00:00:00",
          "2023-02-14T00:00:00",
          "2023-02-16T00:00:00",
          "2023-02-20T00:00:00",
          "2023-02-22T00:00:00",
          "2023-02-28T00:00:00",
          "2023-03-01T00:00:00"
         ],
         "xaxis": "x",
         "y": [
          9686.4,
          9862.8,
          10242.8,
          10242.8,
          10126.8,
          10245.2,
          10325.6,
          10391,
          10292.32
         ],
         "yaxis": "y"
        },
        {
         "hovertemplate": "contract_type=02 May 23 BEAN<br>upload_date=%{x}<br>last=%{y}<extra></extra>",
         "legendgroup": "02 May 23 BEAN",
         "line": {
          "color": "#EF553B",
          "dash": "solid"
         },
         "marker": {
          "symbol": "circle"
         },
         "mode": "lines",
         "name": "02 May 23 BEAN",
         "orientation": "v",
         "showlegend": true,
         "type": "scatter",
         "x": [
          "2023-02-06T00:00:00",
          "2023-02-07T00:00:00",
          "2023-02-13T00:00:00",
          "2023-02-14T00:00:00",
          "2023-02-16T00:00:00",
          "2023-02-20T00:00:00",
          "2023-02-22T00:00:00",
          "2023-02-28T00:00:00",
          "2023-03-01T00:00:00",
          "2023-03-13T00:00:00",
          "2023-03-15T00:00:00",
          "2023-03-22T00:00:00",
          "2023-03-23T00:00:00",
          "2023-03-27T00:00:00",
          "2023-03-30T00:00:00",
          "2023-03-31T00:00:00",
          "2023-04-03T00:00:00",
          "2023-04-20T00:00:00",
          "2023-04-21T00:00:00",
          "2023-04-25T00:00:00"
         ],
         "xaxis": "x",
         "y": [
          9689.6,
          9862.8,
          10179.6,
          10179.6,
          10108.4,
          10275.2,
          10308,
          10410,
          9980,
          10250,
          10070.4,
          9998.4,
          9997.6,
          9498.8,
          9765.2,
          9822,
          9674.8,
          10202.8,
          10014.8,
          9927.6
         ],
         "yaxis": "y"
        },
        {
         "hovertemplate": "contract_type=03 Jul 23 BEAN<br>upload_date=%{x}<br>last=%{y}<extra></extra>",
         "legendgroup": "03 Jul 23 BEAN",
         "line": {
          "color": "#00cc96",
          "dash": "solid"
         },
         "marker": {
          "symbol": "circle"
         },
         "mode": "lines",
         "name": "03 Jul 23 BEAN",
         "orientation": "v",
         "showlegend": true,
         "type": "scatter",
         "x": [
          "2023-02-06T00:00:00",
          "2023-02-07T00:00:00",
          "2023-02-13T00:00:00",
          "2023-02-14T00:00:00",
          "2023-02-16T00:00:00",
          "2023-02-20T00:00:00",
          "2023-02-22T00:00:00",
          "2023-02-28T00:00:00",
          "2023-03-01T00:00:00",
          "2023-03-13T00:00:00",
          "2023-03-15T00:00:00",
          "2023-03-22T00:00:00",
          "2023-03-23T00:00:00",
          "2023-03-27T00:00:00",
          "2023-03-30T00:00:00",
          "2023-03-31T00:00:00",
          "2023-04-03T00:00:00",
          "2023-04-20T00:00:00",
          "2023-04-21T00:00:00",
          "2023-04-25T00:00:00",
          "2023-05-05T00:00:00"
         ],
         "xaxis": "x",
         "y": [
          9619,
          9650,
          10145,
          10145,
          10110,
          10244,
          10326,
          10382,
          10011,
          10372,
          10026,
          10065,
          9878,
          9549,
          9616,
          9690,
          9509,
          10052.8,
          9862.4,
          9724,
          9525
         ],
         "yaxis": "y"
        },
        {
         "hovertemplate": "contract_type=01 Sep 23 BEAN<br>upload_date=%{x}<br>last=%{y}<extra></extra>",
         "legendgroup": "01 Sep 23 BEAN",
         "line": {
          "color": "#ab63fa",
          "dash": "solid"
         },
         "marker": {
          "symbol": "circle"
         },
         "mode": "lines",
         "name": "01 Sep 23 BEAN",
         "orientation": "v",
         "showlegend": true,
         "type": "scatter",
         "x": [
          "2023-02-06T00:00:00",
          "2023-02-07T00:00:00",
          "2023-02-13T00:00:00",
          "2023-02-14T00:00:00",
          "2023-02-16T00:00:00",
          "2023-02-20T00:00:00",
          "2023-02-22T00:00:00",
          "2023-02-28T00:00:00",
          "2023-03-01T00:00:00",
          "2023-03-13T00:00:00",
          "2023-03-15T00:00:00",
          "2023-03-22T00:00:00",
          "2023-03-23T00:00:00",
          "2023-03-27T00:00:00",
          "2023-03-30T00:00:00",
          "2023-03-31T00:00:00",
          "2023-04-03T00:00:00",
          "2023-04-20T00:00:00",
          "2023-04-21T00:00:00",
          "2023-04-25T00:00:00",
          "2023-05-05T00:00:00"
         ],
         "xaxis": "x",
         "y": [
          8963,
          8963,
          9490,
          9490,
          9443,
          9445,
          9628,
          9755,
          9633,
          9590,
          9375,
          9211,
          9202,
          8827,
          8949,
          8965,
          8835,
          9197,
          8971,
          8891,
          8722
         ],
         "yaxis": "y"
        },
        {
         "hovertemplate": "contract_type=01 Nov 23 BEAN<br>upload_date=%{x}<br>last=%{y}<extra></extra>",
         "legendgroup": "01 Nov 23 BEAN",
         "line": {
          "color": "#FFA15A",
          "dash": "solid"
         },
         "marker": {
          "symbol": "circle"
         },
         "mode": "lines",
         "name": "01 Nov 23 BEAN",
         "orientation": "v",
         "showlegend": true,
         "type": "scatter",
         "x": [
          "2023-02-06T00:00:00",
          "2023-02-07T00:00:00",
          "2023-02-13T00:00:00",
          "2023-02-14T00:00:00",
          "2023-02-16T00:00:00",
          "2023-02-20T00:00:00",
          "2023-02-22T00:00:00",
          "2023-02-28T00:00:00",
          "2023-03-01T00:00:00",
          "2023-03-13T00:00:00",
          "2023-03-15T00:00:00",
          "2023-03-22T00:00:00",
          "2023-03-23T00:00:00",
          "2023-03-27T00:00:00",
          "2023-03-30T00:00:00",
          "2023-03-31T00:00:00",
          "2023-04-03T00:00:00",
          "2023-04-20T00:00:00",
          "2023-04-21T00:00:00",
          "2023-04-25T00:00:00",
          "2023-05-05T00:00:00"
         ],
         "xaxis": "x",
         "y": [
          8775,
          8953,
          9256,
          9256,
          9238,
          9452,
          9449,
          9554,
          9227,
          9508,
          9142,
          8990,
          8909,
          8637,
          8782,
          8790,
          8703,
          8990,
          8847.8,
          8693.2,
          8607
         ],
         "yaxis": "y"
        },
        {
         "hovertemplate": "contract_type=01 Mar 24 BEAN<br>upload_date=%{x}<br>last=%{y}<extra></extra>",
         "legendgroup": "01 Mar 24 BEAN",
         "line": {
          "color": "#19d3f3",
          "dash": "solid"
         },
         "marker": {
          "symbol": "circle"
         },
         "mode": "lines",
         "name": "01 Mar 24 BEAN",
         "orientation": "v",
         "showlegend": true,
         "type": "scatter",
         "x": [
          "2023-02-06T00:00:00",
          "2023-02-07T00:00:00",
          "2023-02-13T00:00:00",
          "2023-02-14T00:00:00",
          "2023-02-16T00:00:00",
          "2023-02-20T00:00:00",
          "2023-02-22T00:00:00",
          "2023-02-28T00:00:00",
          "2023-03-01T00:00:00",
          "2023-03-13T00:00:00",
          "2023-03-15T00:00:00",
          "2023-03-22T00:00:00",
          "2023-03-23T00:00:00",
          "2023-03-27T00:00:00",
          "2023-03-30T00:00:00",
          "2023-03-31T00:00:00",
          "2023-04-03T00:00:00",
          "2023-04-20T00:00:00",
          "2023-04-21T00:00:00",
          "2023-04-25T00:00:00",
          "2023-05-05T00:00:00"
         ],
         "xaxis": "x",
         "y": [
          8845,
          8845,
          9079,
          9079,
          9271,
          9271,
          9455,
          9565,
          9558,
          9531,
          9389,
          9224,
          9131,
          8774,
          8891,
          8891,
          8891,
          9067,
          9067,
          8936,
          8826
         ],
         "yaxis": "y"
        },
        {
         "hovertemplate": "contract_type=02 May 24 BEAN<br>upload_date=%{x}<br>last=%{y}<extra></extra>",
         "legendgroup": "02 May 24 BEAN",
         "line": {
          "color": "#FF6692",
          "dash": "solid"
         },
         "marker": {
          "symbol": "circle"
         },
         "mode": "lines",
         "name": "02 May 24 BEAN",
         "orientation": "v",
         "showlegend": true,
         "type": "scatter",
         "x": [
          "2023-02-20T00:00:00",
          "2023-02-22T00:00:00",
          "2023-02-28T00:00:00",
          "2023-03-01T00:00:00",
          "2023-03-13T00:00:00",
          "2023-03-15T00:00:00",
          "2023-03-22T00:00:00",
          "2023-03-23T00:00:00",
          "2023-03-27T00:00:00",
          "2023-03-30T00:00:00",
          "2023-03-31T00:00:00",
          "2023-04-03T00:00:00",
          "2023-04-20T00:00:00",
          "2023-04-21T00:00:00",
          "2023-04-25T00:00:00",
          "2023-05-05T00:00:00"
         ],
         "xaxis": "x",
         "y": [
          9052,
          9449,
          9555,
          9555,
          9540,
          9447,
          9354,
          9216,
          8851,
          8924,
          8924,
          8924,
          9098,
          9098,
          9025,
          8992
         ],
         "yaxis": "y"
        },
        {
         "hovertemplate": "contract_type=02 May 25 BEAN<br>upload_date=%{x}<br>last=%{y}<extra></extra>",
         "legendgroup": "02 May 25 BEAN",
         "line": {
          "color": "#B6E880",
          "dash": "solid"
         },
         "marker": {
          "symbol": "circle"
         },
         "mode": "lines",
         "name": "02 May 25 BEAN",
         "orientation": "v",
         "showlegend": true,
         "type": "scatter",
         "x": [
          "2023-02-20T00:00:00",
          "2023-02-22T00:00:00",
          "2023-02-28T00:00:00",
          "2023-03-01T00:00:00",
          "2023-03-13T00:00:00",
          "2023-03-15T00:00:00",
          "2023-03-22T00:00:00",
          "2023-03-23T00:00:00",
          "2023-03-27T00:00:00",
          "2023-03-30T00:00:00",
          "2023-03-31T00:00:00",
          "2023-04-03T00:00:00",
          "2023-04-20T00:00:00",
          "2023-04-21T00:00:00",
          "2023-04-25T00:00:00",
          "2023-05-05T00:00:00"
         ],
         "xaxis": "x",
         "y": [
          8503,
          9092,
          9229,
          9232,
          9232,
          9232,
          9232,
          9216,
          8851,
          8851,
          8851,
          8831,
          8828,
          8828,
          8828,
          8828
         ],
         "yaxis": "y"
        }
       ],
       "layout": {
        "barmode": "group",
        "legend": {
         "title": {
          "text": "contract_type"
         },
         "tracegroupgap": 0
        },
        "margin": {
         "t": 60
        },
        "template": {
         "data": {
          "bar": [
           {
            "error_x": {
             "color": "#2a3f5f"
            },
            "error_y": {
             "color": "#2a3f5f"
            },
            "marker": {
             "line": {
              "color": "#E5ECF6",
              "width": 0.5
             },
             "pattern": {
              "fillmode": "overlay",
              "size": 10,
              "solidity": 0.2
             }
            },
            "type": "bar"
           }
          ],
          "barpolar": [
           {
            "marker": {
             "line": {
              "color": "#E5ECF6",
              "width": 0.5
             },
             "pattern": {
              "fillmode": "overlay",
              "size": 10,
              "solidity": 0.2
             }
            },
            "type": "barpolar"
           }
          ],
          "carpet": [
           {
            "aaxis": {
             "endlinecolor": "#2a3f5f",
             "gridcolor": "white",
             "linecolor": "white",
             "minorgridcolor": "white",
             "startlinecolor": "#2a3f5f"
            },
            "baxis": {
             "endlinecolor": "#2a3f5f",
             "gridcolor": "white",
             "linecolor": "white",
             "minorgridcolor": "white",
             "startlinecolor": "#2a3f5f"
            },
            "type": "carpet"
           }
          ],
          "choropleth": [
           {
            "colorbar": {
             "outlinewidth": 0,
             "ticks": ""
            },
            "type": "choropleth"
           }
          ],
          "contour": [
           {
            "colorbar": {
             "outlinewidth": 0,
             "ticks": ""
            },
            "colorscale": [
             [
              0,
              "#0d0887"
             ],
             [
              0.1111111111111111,
              "#46039f"
             ],
             [
              0.2222222222222222,
              "#7201a8"
             ],
             [
              0.3333333333333333,
              "#9c179e"
             ],
             [
              0.4444444444444444,
              "#bd3786"
             ],
             [
              0.5555555555555556,
              "#d8576b"
             ],
             [
              0.6666666666666666,
              "#ed7953"
             ],
             [
              0.7777777777777778,
              "#fb9f3a"
             ],
             [
              0.8888888888888888,
              "#fdca26"
             ],
             [
              1,
              "#f0f921"
             ]
            ],
            "type": "contour"
           }
          ],
          "contourcarpet": [
           {
            "colorbar": {
             "outlinewidth": 0,
             "ticks": ""
            },
            "type": "contourcarpet"
           }
          ],
          "heatmap": [
           {
            "colorbar": {
             "outlinewidth": 0,
             "ticks": ""
            },
            "colorscale": [
             [
              0,
              "#0d0887"
             ],
             [
              0.1111111111111111,
              "#46039f"
             ],
             [
              0.2222222222222222,
              "#7201a8"
             ],
             [
              0.3333333333333333,
              "#9c179e"
             ],
             [
              0.4444444444444444,
              "#bd3786"
             ],
             [
              0.5555555555555556,
              "#d8576b"
             ],
             [
              0.6666666666666666,
              "#ed7953"
             ],
             [
              0.7777777777777778,
              "#fb9f3a"
             ],
             [
              0.8888888888888888,
              "#fdca26"
             ],
             [
              1,
              "#f0f921"
             ]
            ],
            "type": "heatmap"
           }
          ],
          "heatmapgl": [
           {
            "colorbar": {
             "outlinewidth": 0,
             "ticks": ""
            },
            "colorscale": [
             [
              0,
              "#0d0887"
             ],
             [
              0.1111111111111111,
              "#46039f"
             ],
             [
              0.2222222222222222,
              "#7201a8"
             ],
             [
              0.3333333333333333,
              "#9c179e"
             ],
             [
              0.4444444444444444,
              "#bd3786"
             ],
             [
              0.5555555555555556,
              "#d8576b"
             ],
             [
              0.6666666666666666,
              "#ed7953"
             ],
             [
              0.7777777777777778,
              "#fb9f3a"
             ],
             [
              0.8888888888888888,
              "#fdca26"
             ],
             [
              1,
              "#f0f921"
             ]
            ],
            "type": "heatmapgl"
           }
          ],
          "histogram": [
           {
            "marker": {
             "pattern": {
              "fillmode": "overlay",
              "size": 10,
              "solidity": 0.2
             }
            },
            "type": "histogram"
           }
          ],
          "histogram2d": [
           {
            "colorbar": {
             "outlinewidth": 0,
             "ticks": ""
            },
            "colorscale": [
             [
              0,
              "#0d0887"
             ],
             [
              0.1111111111111111,
              "#46039f"
             ],
             [
              0.2222222222222222,
              "#7201a8"
             ],
             [
              0.3333333333333333,
              "#9c179e"
             ],
             [
              0.4444444444444444,
              "#bd3786"
             ],
             [
              0.5555555555555556,
              "#d8576b"
             ],
             [
              0.6666666666666666,
              "#ed7953"
             ],
             [
              0.7777777777777778,
              "#fb9f3a"
             ],
             [
              0.8888888888888888,
              "#fdca26"
             ],
             [
              1,
              "#f0f921"
             ]
            ],
            "type": "histogram2d"
           }
          ],
          "histogram2dcontour": [
           {
            "colorbar": {
             "outlinewidth": 0,
             "ticks": ""
            },
            "colorscale": [
             [
              0,
              "#0d0887"
             ],
             [
              0.1111111111111111,
              "#46039f"
             ],
             [
              0.2222222222222222,
              "#7201a8"
             ],
             [
              0.3333333333333333,
              "#9c179e"
             ],
             [
              0.4444444444444444,
              "#bd3786"
             ],
             [
              0.5555555555555556,
              "#d8576b"
             ],
             [
              0.6666666666666666,
              "#ed7953"
             ],
             [
              0.7777777777777778,
              "#fb9f3a"
             ],
             [
              0.8888888888888888,
              "#fdca26"
             ],
             [
              1,
              "#f0f921"
             ]
            ],
            "type": "histogram2dcontour"
           }
          ],
          "mesh3d": [
           {
            "colorbar": {
             "outlinewidth": 0,
             "ticks": ""
            },
            "type": "mesh3d"
           }
          ],
          "parcoords": [
           {
            "line": {
             "colorbar": {
              "outlinewidth": 0,
              "ticks": ""
             }
            },
            "type": "parcoords"
           }
          ],
          "pie": [
           {
            "automargin": true,
            "type": "pie"
           }
          ],
          "scatter": [
           {
            "fillpattern": {
             "fillmode": "overlay",
             "size": 10,
             "solidity": 0.2
            },
            "type": "scatter"
           }
          ],
          "scatter3d": [
           {
            "line": {
             "colorbar": {
              "outlinewidth": 0,
              "ticks": ""
             }
            },
            "marker": {
             "colorbar": {
              "outlinewidth": 0,
              "ticks": ""
             }
            },
            "type": "scatter3d"
           }
          ],
          "scattercarpet": [
           {
            "marker": {
             "colorbar": {
              "outlinewidth": 0,
              "ticks": ""
             }
            },
            "type": "scattercarpet"
           }
          ],
          "scattergeo": [
           {
            "marker": {
             "colorbar": {
              "outlinewidth": 0,
              "ticks": ""
             }
            },
            "type": "scattergeo"
           }
          ],
          "scattergl": [
           {
            "marker": {
             "colorbar": {
              "outlinewidth": 0,
              "ticks": ""
             }
            },
            "type": "scattergl"
           }
          ],
          "scattermapbox": [
           {
            "marker": {
             "colorbar": {
              "outlinewidth": 0,
              "ticks": ""
             }
            },
            "type": "scattermapbox"
           }
          ],
          "scatterpolar": [
           {
            "marker": {
             "colorbar": {
              "outlinewidth": 0,
              "ticks": ""
             }
            },
            "type": "scatterpolar"
           }
          ],
          "scatterpolargl": [
           {
            "marker": {
             "colorbar": {
              "outlinewidth": 0,
              "ticks": ""
             }
            },
            "type": "scatterpolargl"
           }
          ],
          "scatterternary": [
           {
            "marker": {
             "colorbar": {
              "outlinewidth": 0,
              "ticks": ""
             }
            },
            "type": "scatterternary"
           }
          ],
          "surface": [
           {
            "colorbar": {
             "outlinewidth": 0,
             "ticks": ""
            },
            "colorscale": [
             [
              0,
              "#0d0887"
             ],
             [
              0.1111111111111111,
              "#46039f"
             ],
             [
              0.2222222222222222,
              "#7201a8"
             ],
             [
              0.3333333333333333,
              "#9c179e"
             ],
             [
              0.4444444444444444,
              "#bd3786"
             ],
             [
              0.5555555555555556,
              "#d8576b"
             ],
             [
              0.6666666666666666,
              "#ed7953"
             ],
             [
              0.7777777777777778,
              "#fb9f3a"
             ],
             [
              0.8888888888888888,
              "#fdca26"
             ],
             [
              1,
              "#f0f921"
             ]
            ],
            "type": "surface"
           }
          ],
          "table": [
           {
            "cells": {
             "fill": {
              "color": "#EBF0F8"
             },
             "line": {
              "color": "white"
             }
            },
            "header": {
             "fill": {
              "color": "#C8D4E3"
             },
             "line": {
              "color": "white"
             }
            },
            "type": "table"
           }
          ]
         },
         "layout": {
          "annotationdefaults": {
           "arrowcolor": "#2a3f5f",
           "arrowhead": 0,
           "arrowwidth": 1
          },
          "autotypenumbers": "strict",
          "coloraxis": {
           "colorbar": {
            "outlinewidth": 0,
            "ticks": ""
           }
          },
          "colorscale": {
           "diverging": [
            [
             0,
             "#8e0152"
            ],
            [
             0.1,
             "#c51b7d"
            ],
            [
             0.2,
             "#de77ae"
            ],
            [
             0.3,
             "#f1b6da"
            ],
            [
             0.4,
             "#fde0ef"
            ],
            [
             0.5,
             "#f7f7f7"
            ],
            [
             0.6,
             "#e6f5d0"
            ],
            [
             0.7,
             "#b8e186"
            ],
            [
             0.8,
             "#7fbc41"
            ],
            [
             0.9,
             "#4d9221"
            ],
            [
             1,
             "#276419"
            ]
           ],
           "sequential": [
            [
             0,
             "#0d0887"
            ],
            [
             0.1111111111111111,
             "#46039f"
            ],
            [
             0.2222222222222222,
             "#7201a8"
            ],
            [
             0.3333333333333333,
             "#9c179e"
            ],
            [
             0.4444444444444444,
             "#bd3786"
            ],
            [
             0.5555555555555556,
             "#d8576b"
            ],
            [
             0.6666666666666666,
             "#ed7953"
            ],
            [
             0.7777777777777778,
             "#fb9f3a"
            ],
            [
             0.8888888888888888,
             "#fdca26"
            ],
            [
             1,
             "#f0f921"
            ]
           ],
           "sequentialminus": [
            [
             0,
             "#0d0887"
            ],
            [
             0.1111111111111111,
             "#46039f"
            ],
            [
             0.2222222222222222,
             "#7201a8"
            ],
            [
             0.3333333333333333,
             "#9c179e"
            ],
            [
             0.4444444444444444,
             "#bd3786"
            ],
            [
             0.5555555555555556,
             "#d8576b"
            ],
            [
             0.6666666666666666,
             "#ed7953"
            ],
            [
             0.7777777777777778,
             "#fb9f3a"
            ],
            [
             0.8888888888888888,
             "#fdca26"
            ],
            [
             1,
             "#f0f921"
            ]
           ]
          },
          "colorway": [
           "#636efa",
           "#EF553B",
           "#00cc96",
           "#ab63fa",
           "#FFA15A",
           "#19d3f3",
           "#FF6692",
           "#B6E880",
           "#FF97FF",
           "#FECB52"
          ],
          "font": {
           "color": "#2a3f5f"
          },
          "geo": {
           "bgcolor": "white",
           "lakecolor": "white",
           "landcolor": "#E5ECF6",
           "showlakes": true,
           "showland": true,
           "subunitcolor": "white"
          },
          "hoverlabel": {
           "align": "left"
          },
          "hovermode": "closest",
          "mapbox": {
           "style": "light"
          },
          "paper_bgcolor": "white",
          "plot_bgcolor": "#E5ECF6",
          "polar": {
           "angularaxis": {
            "gridcolor": "white",
            "linecolor": "white",
            "ticks": ""
           },
           "bgcolor": "#E5ECF6",
           "radialaxis": {
            "gridcolor": "white",
            "linecolor": "white",
            "ticks": ""
           }
          },
          "scene": {
           "xaxis": {
            "backgroundcolor": "#E5ECF6",
            "gridcolor": "white",
            "gridwidth": 2,
            "linecolor": "white",
            "showbackground": true,
            "ticks": "",
            "zerolinecolor": "white"
           },
           "yaxis": {
            "backgroundcolor": "#E5ECF6",
            "gridcolor": "white",
            "gridwidth": 2,
            "linecolor": "white",
            "showbackground": true,
            "ticks": "",
            "zerolinecolor": "white"
           },
           "zaxis": {
            "backgroundcolor": "#E5ECF6",
            "gridcolor": "white",
            "gridwidth": 2,
            "linecolor": "white",
            "showbackground": true,
            "ticks": "",
            "zerolinecolor": "white"
           }
          },
          "shapedefaults": {
           "line": {
            "color": "#2a3f5f"
           }
          },
          "ternary": {
           "aaxis": {
            "gridcolor": "white",
            "linecolor": "white",
            "ticks": ""
           },
           "baxis": {
            "gridcolor": "white",
            "linecolor": "white",
            "ticks": ""
           },
           "bgcolor": "#E5ECF6",
           "caxis": {
            "gridcolor": "white",
            "linecolor": "white",
            "ticks": ""
           }
          },
          "title": {
           "x": 0.05
          },
          "xaxis": {
           "automargin": true,
           "gridcolor": "white",
           "linecolor": "white",
           "ticks": "",
           "title": {
            "standoff": 15
           },
           "zerolinecolor": "white",
           "zerolinewidth": 2
          },
          "yaxis": {
           "automargin": true,
           "gridcolor": "white",
           "linecolor": "white",
           "ticks": "",
           "title": {
            "standoff": 15
           },
           "zerolinecolor": "white",
           "zerolinewidth": 2
          }
         }
        },
        "title": {
         "text": "Last Price of BEAN Contracts (Period = February 06, 2023 To May 05, 2023; Price Range = 8503.0 - 10410.0)"
        },
        "xaxis": {
         "anchor": "y",
         "domain": [
          0,
          1
         ],
         "rangeselector": {
          "buttons": [
           {
            "count": 1,
            "label": "1m",
            "step": "month",
            "stepmode": "backward"
           },
           {
            "count": 6,
            "label": "6m",
            "step": "month",
            "stepmode": "backward"
           },
           {
            "count": 1,
            "label": "YTD",
            "step": "year",
            "stepmode": "todate"
           },
           {
            "count": 1,
            "label": "1y",
            "step": "year",
            "stepmode": "backward"
           },
           {
            "step": "all"
           }
          ]
         },
         "rangeslider": {
          "visible": true
         },
         "title": {
          "text": "upload_date"
         },
         "type": "date"
        },
        "yaxis": {
         "anchor": "x",
         "domain": [
          0,
          1
         ],
         "title": {
          "text": "last"
         }
        }
       }
      }
     },
     "metadata": {},
     "output_type": "display_data"
    },
    {
     "data": {
      "text/plain": [
       "<function __main__.filteringplotly(Market, Grain_Type)>"
      ]
     },
     "execution_count": 17,
     "metadata": {},
     "output_type": "execute_result"
    }
   ],
   "source": [
    "\n",
    "def filteringplotly(Market, Grain_Type):\n",
    "    A = df_New.loc[df_New['Market'] == Market, ('last', 'bid','upload_date','contract_type', 'Grain_Type')]\n",
    "    B = A.loc[A['Grain_Type'] == Grain_Type, ('last', 'bid', 'upload_date','contract_type')]\n",
    "    Max_Price = B['last'].loc[B['last'].idxmax()]\n",
    "    Min_Price = B['last'].loc[B['last'].idxmin()]\n",
    "\n",
    "    Max_Date = '{:%B %d, %Y}'.format(B['upload_date'].loc[B['upload_date'].idxmax()])\n",
    "    Min_Date = '{:%B %d, %Y}'.format(B['upload_date'].loc[B['upload_date'].idxmin()])\n",
    "    \n",
    "    fig = px.line(B, x='upload_date', y='last', color='contract_type')\n",
    "    \n",
    "    fig.update_layout(barmode = 'group', \n",
    "    title= f\"Last Price of {Grain_Type} Contracts (Period = {Min_Date} To {Max_Date}; Price Range = {Min_Price} - {Max_Price})\")\n",
    "\n",
    "    \n",
    "    # Add range slider\n",
    "    fig.update_layout(\n",
    "        xaxis=dict(\n",
    "            rangeselector=dict(\n",
    "                buttons=list([\n",
    "                    dict(count=1,\n",
    "                         label=\"1m\",\n",
    "                         step=\"month\",\n",
    "                         stepmode=\"backward\"),\n",
    "                    dict(count=6,\n",
    "                         label=\"6m\",\n",
    "                         step=\"month\",\n",
    "                         stepmode=\"backward\"),\n",
    "                    dict(count=1,\n",
    "                         label=\"YTD\",\n",
    "                         step=\"year\",\n",
    "                         stepmode=\"todate\"),\n",
    "                    dict(count=1,\n",
    "                         label=\"1y\",\n",
    "                         step=\"year\",\n",
    "                         stepmode=\"backward\"),\n",
    "                    dict(step=\"all\")\n",
    "                ])\n",
    "            ),\n",
    "            rangeslider=dict(\n",
    "                visible=True\n",
    "            ),\n",
    "            type=\"date\"\n",
    "        )\n",
    "    )\n",
    "\n",
    "    fig.show()\n",
    "\n",
    "widgets.interact(filteringplotly, Market = list1, Grain_Type = list2)"
   ]
  },
  {
   "cell_type": "code",
   "execution_count": 18,
   "id": "defaccd3",
   "metadata": {},
   "outputs": [
    {
     "data": {
      "application/vnd.jupyter.widget-view+json": {
       "model_id": "5a599843350e4505b888ec0ff2e465e3",
       "version_major": 2,
       "version_minor": 0
      },
      "text/plain": [
       "interactive(children=(Dropdown(description='Market', options=('Afgri  silo_5 ', 'Afgri  silo_6 ', 'Afgri  silo…"
      ]
     },
     "metadata": {},
     "output_type": "display_data"
    },
    {
     "data": {
      "application/vnd.plotly.v1+json": {
       "config": {
        "plotlyServerURL": "https://plot.ly"
       },
       "data": [
        {
         "hovertemplate": "contract_type=01 Mar 23 BEAN<br>upload_date=%{x}<br>bid=%{y}<extra></extra>",
         "legendgroup": "01 Mar 23 BEAN",
         "line": {
          "color": "#636efa",
          "dash": "solid"
         },
         "marker": {
          "symbol": "circle"
         },
         "mode": "lines",
         "name": "01 Mar 23 BEAN",
         "orientation": "v",
         "showlegend": true,
         "type": "scatter",
         "x": [
          "2023-02-06T00:00:00",
          "2023-02-07T00:00:00",
          "2023-02-13T00:00:00",
          "2023-02-14T00:00:00",
          "2023-02-16T00:00:00",
          "2023-02-20T00:00:00",
          "2023-02-22T00:00:00",
          "2023-02-28T00:00:00",
          "2023-03-01T00:00:00"
         ],
         "xaxis": "x",
         "y": [
          9664,
          9862,
          10187,
          10187,
          10117,
          10249,
          10308,
          10389,
          0
         ],
         "yaxis": "y"
        },
        {
         "hovertemplate": "contract_type=02 May 23 BEAN<br>upload_date=%{x}<br>bid=%{y}<extra></extra>",
         "legendgroup": "02 May 23 BEAN",
         "line": {
          "color": "#EF553B",
          "dash": "solid"
         },
         "marker": {
          "symbol": "circle"
         },
         "mode": "lines",
         "name": "02 May 23 BEAN",
         "orientation": "v",
         "showlegend": true,
         "type": "scatter",
         "x": [
          "2023-02-06T00:00:00",
          "2023-02-07T00:00:00",
          "2023-02-13T00:00:00",
          "2023-02-14T00:00:00",
          "2023-02-16T00:00:00",
          "2023-02-20T00:00:00",
          "2023-02-22T00:00:00",
          "2023-02-28T00:00:00",
          "2023-03-01T00:00:00",
          "2023-03-13T00:00:00",
          "2023-03-15T00:00:00",
          "2023-03-22T00:00:00",
          "2023-03-23T00:00:00",
          "2023-03-27T00:00:00",
          "2023-03-30T00:00:00",
          "2023-03-31T00:00:00",
          "2023-04-03T00:00:00",
          "2023-04-20T00:00:00",
          "2023-04-21T00:00:00",
          "2023-04-25T00:00:00"
         ],
         "xaxis": "x",
         "y": [
          9669,
          9869,
          10187,
          10187,
          10108,
          10266,
          10308,
          10390,
          9979,
          10230,
          10052,
          9976,
          9976,
          9500,
          9772,
          9821,
          9655,
          10187,
          10012,
          9925
         ],
         "yaxis": "y"
        },
        {
         "hovertemplate": "contract_type=03 Jul 23 BEAN<br>upload_date=%{x}<br>bid=%{y}<extra></extra>",
         "legendgroup": "03 Jul 23 BEAN",
         "line": {
          "color": "#00cc96",
          "dash": "solid"
         },
         "marker": {
          "symbol": "circle"
         },
         "mode": "lines",
         "name": "03 Jul 23 BEAN",
         "orientation": "v",
         "showlegend": true,
         "type": "scatter",
         "x": [
          "2023-02-06T00:00:00",
          "2023-02-07T00:00:00",
          "2023-02-13T00:00:00",
          "2023-02-14T00:00:00",
          "2023-02-16T00:00:00",
          "2023-02-20T00:00:00",
          "2023-02-22T00:00:00",
          "2023-02-28T00:00:00",
          "2023-03-01T00:00:00",
          "2023-03-13T00:00:00",
          "2023-03-15T00:00:00",
          "2023-03-22T00:00:00",
          "2023-03-23T00:00:00",
          "2023-03-27T00:00:00",
          "2023-03-30T00:00:00",
          "2023-03-31T00:00:00",
          "2023-04-03T00:00:00",
          "2023-04-20T00:00:00",
          "2023-04-21T00:00:00",
          "2023-04-25T00:00:00",
          "2023-05-05T00:00:00"
         ],
         "xaxis": "x",
         "y": [
          9650,
          9855,
          10146,
          10146,
          10072,
          10260,
          10292,
          10368,
          9955,
          10193,
          10024,
          9885,
          9863,
          9396,
          9653,
          9689,
          9512,
          10037,
          9862,
          9722,
          9506
         ],
         "yaxis": "y"
        },
        {
         "hovertemplate": "contract_type=01 Sep 23 BEAN<br>upload_date=%{x}<br>bid=%{y}<extra></extra>",
         "legendgroup": "01 Sep 23 BEAN",
         "line": {
          "color": "#ab63fa",
          "dash": "solid"
         },
         "marker": {
          "symbol": "circle"
         },
         "mode": "lines",
         "name": "01 Sep 23 BEAN",
         "orientation": "v",
         "showlegend": true,
         "type": "scatter",
         "x": [
          "2023-02-06T00:00:00",
          "2023-02-07T00:00:00",
          "2023-02-13T00:00:00",
          "2023-02-14T00:00:00",
          "2023-02-16T00:00:00",
          "2023-02-20T00:00:00",
          "2023-02-22T00:00:00",
          "2023-02-28T00:00:00",
          "2023-03-01T00:00:00",
          "2023-03-13T00:00:00",
          "2023-03-15T00:00:00",
          "2023-03-22T00:00:00",
          "2023-03-23T00:00:00",
          "2023-03-27T00:00:00",
          "2023-03-30T00:00:00",
          "2023-03-31T00:00:00",
          "2023-04-03T00:00:00",
          "2023-04-20T00:00:00",
          "2023-04-21T00:00:00",
          "2023-04-25T00:00:00",
          "2023-05-05T00:00:00"
         ],
         "xaxis": "x",
         "y": [
          8959,
          9176,
          9444,
          9444,
          9427,
          9628,
          9654,
          9704,
          9336,
          9524,
          9343,
          9162,
          9067,
          8699,
          8933,
          8928,
          8799,
          9130,
          8945,
          8803,
          8697
         ],
         "yaxis": "y"
        },
        {
         "hovertemplate": "contract_type=01 Nov 23 BEAN<br>upload_date=%{x}<br>bid=%{y}<extra></extra>",
         "legendgroup": "01 Nov 23 BEAN",
         "line": {
          "color": "#FFA15A",
          "dash": "solid"
         },
         "marker": {
          "symbol": "circle"
         },
         "mode": "lines",
         "name": "01 Nov 23 BEAN",
         "orientation": "v",
         "showlegend": true,
         "type": "scatter",
         "x": [
          "2023-02-06T00:00:00",
          "2023-02-07T00:00:00",
          "2023-02-13T00:00:00",
          "2023-02-14T00:00:00",
          "2023-02-16T00:00:00",
          "2023-02-20T00:00:00",
          "2023-02-22T00:00:00",
          "2023-02-28T00:00:00",
          "2023-03-01T00:00:00",
          "2023-03-13T00:00:00",
          "2023-03-15T00:00:00",
          "2023-03-22T00:00:00",
          "2023-03-23T00:00:00",
          "2023-03-27T00:00:00",
          "2023-03-30T00:00:00",
          "2023-03-31T00:00:00",
          "2023-04-03T00:00:00",
          "2023-04-20T00:00:00",
          "2023-04-21T00:00:00",
          "2023-04-25T00:00:00",
          "2023-05-05T00:00:00"
         ],
         "xaxis": "x",
         "y": [
          8762,
          8986,
          9260,
          9260,
          9238,
          9447,
          9464,
          9500,
          9170,
          9313,
          9151,
          8960,
          8863,
          8548,
          8790,
          8789,
          8662,
          8965,
          8814,
          8694,
          8606
         ],
         "yaxis": "y"
        },
        {
         "hovertemplate": "contract_type=01 Mar 24 BEAN<br>upload_date=%{x}<br>bid=%{y}<extra></extra>",
         "legendgroup": "01 Mar 24 BEAN",
         "line": {
          "color": "#19d3f3",
          "dash": "solid"
         },
         "marker": {
          "symbol": "circle"
         },
         "mode": "lines",
         "name": "01 Mar 24 BEAN",
         "orientation": "v",
         "showlegend": true,
         "type": "scatter",
         "x": [
          "2023-02-06T00:00:00",
          "2023-02-07T00:00:00",
          "2023-02-13T00:00:00",
          "2023-02-14T00:00:00",
          "2023-02-16T00:00:00",
          "2023-02-20T00:00:00",
          "2023-02-22T00:00:00",
          "2023-02-28T00:00:00",
          "2023-03-01T00:00:00",
          "2023-03-13T00:00:00",
          "2023-03-15T00:00:00",
          "2023-03-22T00:00:00",
          "2023-03-23T00:00:00",
          "2023-03-27T00:00:00",
          "2023-03-30T00:00:00",
          "2023-03-31T00:00:00",
          "2023-04-03T00:00:00",
          "2023-04-20T00:00:00",
          "2023-04-21T00:00:00",
          "2023-04-25T00:00:00",
          "2023-05-05T00:00:00"
         ],
         "xaxis": "x",
         "y": [
          8791,
          9003,
          9271,
          9271,
          9238,
          9455,
          9470,
          9523,
          9230,
          9343,
          9218,
          9045,
          8939,
          8686,
          8877,
          8861,
          8738,
          9056,
          8918,
          8816,
          8807
         ],
         "yaxis": "y"
        },
        {
         "hovertemplate": "contract_type=02 May 24 BEAN<br>upload_date=%{x}<br>bid=%{y}<extra></extra>",
         "legendgroup": "02 May 24 BEAN",
         "line": {
          "color": "#FF6692",
          "dash": "solid"
         },
         "marker": {
          "symbol": "circle"
         },
         "mode": "lines",
         "name": "02 May 24 BEAN",
         "orientation": "v",
         "showlegend": true,
         "type": "scatter",
         "x": [
          "2023-02-20T00:00:00",
          "2023-02-22T00:00:00",
          "2023-02-28T00:00:00",
          "2023-03-01T00:00:00",
          "2023-03-13T00:00:00",
          "2023-03-15T00:00:00",
          "2023-03-22T00:00:00",
          "2023-03-23T00:00:00",
          "2023-03-27T00:00:00",
          "2023-03-30T00:00:00",
          "2023-03-31T00:00:00",
          "2023-04-03T00:00:00",
          "2023-04-20T00:00:00",
          "2023-04-21T00:00:00",
          "2023-04-25T00:00:00",
          "2023-05-05T00:00:00"
         ],
         "xaxis": "x",
         "y": [
          9449,
          9464,
          9523,
          9250,
          9355,
          9289,
          9085,
          8968,
          8707,
          8914,
          8902,
          8769,
          9069,
          8937,
          8848,
          0
         ],
         "yaxis": "y"
        },
        {
         "hovertemplate": "contract_type=02 May 25 BEAN<br>upload_date=%{x}<br>bid=%{y}<extra></extra>",
         "legendgroup": "02 May 25 BEAN",
         "line": {
          "color": "#B6E880",
          "dash": "solid"
         },
         "marker": {
          "symbol": "circle"
         },
         "mode": "lines",
         "name": "02 May 25 BEAN",
         "orientation": "v",
         "showlegend": true,
         "type": "scatter",
         "x": [
          "2023-02-20T00:00:00",
          "2023-02-22T00:00:00",
          "2023-02-28T00:00:00",
          "2023-03-01T00:00:00",
          "2023-03-13T00:00:00",
          "2023-03-15T00:00:00",
          "2023-03-22T00:00:00",
          "2023-03-23T00:00:00",
          "2023-03-27T00:00:00",
          "2023-03-30T00:00:00",
          "2023-03-31T00:00:00",
          "2023-04-03T00:00:00",
          "2023-04-20T00:00:00",
          "2023-04-21T00:00:00",
          "2023-04-25T00:00:00",
          "2023-05-05T00:00:00"
         ],
         "xaxis": "x",
         "y": [
          9092,
          9126,
          9232,
          0,
          0,
          0,
          0,
          0,
          0,
          8555,
          8527,
          8377,
          8738,
          8624,
          8538,
          8691
         ],
         "yaxis": "y"
        }
       ],
       "layout": {
        "barmode": "group",
        "legend": {
         "title": {
          "text": "contract_type"
         },
         "tracegroupgap": 0
        },
        "margin": {
         "t": 60
        },
        "template": {
         "data": {
          "bar": [
           {
            "error_x": {
             "color": "#2a3f5f"
            },
            "error_y": {
             "color": "#2a3f5f"
            },
            "marker": {
             "line": {
              "color": "#E5ECF6",
              "width": 0.5
             },
             "pattern": {
              "fillmode": "overlay",
              "size": 10,
              "solidity": 0.2
             }
            },
            "type": "bar"
           }
          ],
          "barpolar": [
           {
            "marker": {
             "line": {
              "color": "#E5ECF6",
              "width": 0.5
             },
             "pattern": {
              "fillmode": "overlay",
              "size": 10,
              "solidity": 0.2
             }
            },
            "type": "barpolar"
           }
          ],
          "carpet": [
           {
            "aaxis": {
             "endlinecolor": "#2a3f5f",
             "gridcolor": "white",
             "linecolor": "white",
             "minorgridcolor": "white",
             "startlinecolor": "#2a3f5f"
            },
            "baxis": {
             "endlinecolor": "#2a3f5f",
             "gridcolor": "white",
             "linecolor": "white",
             "minorgridcolor": "white",
             "startlinecolor": "#2a3f5f"
            },
            "type": "carpet"
           }
          ],
          "choropleth": [
           {
            "colorbar": {
             "outlinewidth": 0,
             "ticks": ""
            },
            "type": "choropleth"
           }
          ],
          "contour": [
           {
            "colorbar": {
             "outlinewidth": 0,
             "ticks": ""
            },
            "colorscale": [
             [
              0,
              "#0d0887"
             ],
             [
              0.1111111111111111,
              "#46039f"
             ],
             [
              0.2222222222222222,
              "#7201a8"
             ],
             [
              0.3333333333333333,
              "#9c179e"
             ],
             [
              0.4444444444444444,
              "#bd3786"
             ],
             [
              0.5555555555555556,
              "#d8576b"
             ],
             [
              0.6666666666666666,
              "#ed7953"
             ],
             [
              0.7777777777777778,
              "#fb9f3a"
             ],
             [
              0.8888888888888888,
              "#fdca26"
             ],
             [
              1,
              "#f0f921"
             ]
            ],
            "type": "contour"
           }
          ],
          "contourcarpet": [
           {
            "colorbar": {
             "outlinewidth": 0,
             "ticks": ""
            },
            "type": "contourcarpet"
           }
          ],
          "heatmap": [
           {
            "colorbar": {
             "outlinewidth": 0,
             "ticks": ""
            },
            "colorscale": [
             [
              0,
              "#0d0887"
             ],
             [
              0.1111111111111111,
              "#46039f"
             ],
             [
              0.2222222222222222,
              "#7201a8"
             ],
             [
              0.3333333333333333,
              "#9c179e"
             ],
             [
              0.4444444444444444,
              "#bd3786"
             ],
             [
              0.5555555555555556,
              "#d8576b"
             ],
             [
              0.6666666666666666,
              "#ed7953"
             ],
             [
              0.7777777777777778,
              "#fb9f3a"
             ],
             [
              0.8888888888888888,
              "#fdca26"
             ],
             [
              1,
              "#f0f921"
             ]
            ],
            "type": "heatmap"
           }
          ],
          "heatmapgl": [
           {
            "colorbar": {
             "outlinewidth": 0,
             "ticks": ""
            },
            "colorscale": [
             [
              0,
              "#0d0887"
             ],
             [
              0.1111111111111111,
              "#46039f"
             ],
             [
              0.2222222222222222,
              "#7201a8"
             ],
             [
              0.3333333333333333,
              "#9c179e"
             ],
             [
              0.4444444444444444,
              "#bd3786"
             ],
             [
              0.5555555555555556,
              "#d8576b"
             ],
             [
              0.6666666666666666,
              "#ed7953"
             ],
             [
              0.7777777777777778,
              "#fb9f3a"
             ],
             [
              0.8888888888888888,
              "#fdca26"
             ],
             [
              1,
              "#f0f921"
             ]
            ],
            "type": "heatmapgl"
           }
          ],
          "histogram": [
           {
            "marker": {
             "pattern": {
              "fillmode": "overlay",
              "size": 10,
              "solidity": 0.2
             }
            },
            "type": "histogram"
           }
          ],
          "histogram2d": [
           {
            "colorbar": {
             "outlinewidth": 0,
             "ticks": ""
            },
            "colorscale": [
             [
              0,
              "#0d0887"
             ],
             [
              0.1111111111111111,
              "#46039f"
             ],
             [
              0.2222222222222222,
              "#7201a8"
             ],
             [
              0.3333333333333333,
              "#9c179e"
             ],
             [
              0.4444444444444444,
              "#bd3786"
             ],
             [
              0.5555555555555556,
              "#d8576b"
             ],
             [
              0.6666666666666666,
              "#ed7953"
             ],
             [
              0.7777777777777778,
              "#fb9f3a"
             ],
             [
              0.8888888888888888,
              "#fdca26"
             ],
             [
              1,
              "#f0f921"
             ]
            ],
            "type": "histogram2d"
           }
          ],
          "histogram2dcontour": [
           {
            "colorbar": {
             "outlinewidth": 0,
             "ticks": ""
            },
            "colorscale": [
             [
              0,
              "#0d0887"
             ],
             [
              0.1111111111111111,
              "#46039f"
             ],
             [
              0.2222222222222222,
              "#7201a8"
             ],
             [
              0.3333333333333333,
              "#9c179e"
             ],
             [
              0.4444444444444444,
              "#bd3786"
             ],
             [
              0.5555555555555556,
              "#d8576b"
             ],
             [
              0.6666666666666666,
              "#ed7953"
             ],
             [
              0.7777777777777778,
              "#fb9f3a"
             ],
             [
              0.8888888888888888,
              "#fdca26"
             ],
             [
              1,
              "#f0f921"
             ]
            ],
            "type": "histogram2dcontour"
           }
          ],
          "mesh3d": [
           {
            "colorbar": {
             "outlinewidth": 0,
             "ticks": ""
            },
            "type": "mesh3d"
           }
          ],
          "parcoords": [
           {
            "line": {
             "colorbar": {
              "outlinewidth": 0,
              "ticks": ""
             }
            },
            "type": "parcoords"
           }
          ],
          "pie": [
           {
            "automargin": true,
            "type": "pie"
           }
          ],
          "scatter": [
           {
            "fillpattern": {
             "fillmode": "overlay",
             "size": 10,
             "solidity": 0.2
            },
            "type": "scatter"
           }
          ],
          "scatter3d": [
           {
            "line": {
             "colorbar": {
              "outlinewidth": 0,
              "ticks": ""
             }
            },
            "marker": {
             "colorbar": {
              "outlinewidth": 0,
              "ticks": ""
             }
            },
            "type": "scatter3d"
           }
          ],
          "scattercarpet": [
           {
            "marker": {
             "colorbar": {
              "outlinewidth": 0,
              "ticks": ""
             }
            },
            "type": "scattercarpet"
           }
          ],
          "scattergeo": [
           {
            "marker": {
             "colorbar": {
              "outlinewidth": 0,
              "ticks": ""
             }
            },
            "type": "scattergeo"
           }
          ],
          "scattergl": [
           {
            "marker": {
             "colorbar": {
              "outlinewidth": 0,
              "ticks": ""
             }
            },
            "type": "scattergl"
           }
          ],
          "scattermapbox": [
           {
            "marker": {
             "colorbar": {
              "outlinewidth": 0,
              "ticks": ""
             }
            },
            "type": "scattermapbox"
           }
          ],
          "scatterpolar": [
           {
            "marker": {
             "colorbar": {
              "outlinewidth": 0,
              "ticks": ""
             }
            },
            "type": "scatterpolar"
           }
          ],
          "scatterpolargl": [
           {
            "marker": {
             "colorbar": {
              "outlinewidth": 0,
              "ticks": ""
             }
            },
            "type": "scatterpolargl"
           }
          ],
          "scatterternary": [
           {
            "marker": {
             "colorbar": {
              "outlinewidth": 0,
              "ticks": ""
             }
            },
            "type": "scatterternary"
           }
          ],
          "surface": [
           {
            "colorbar": {
             "outlinewidth": 0,
             "ticks": ""
            },
            "colorscale": [
             [
              0,
              "#0d0887"
             ],
             [
              0.1111111111111111,
              "#46039f"
             ],
             [
              0.2222222222222222,
              "#7201a8"
             ],
             [
              0.3333333333333333,
              "#9c179e"
             ],
             [
              0.4444444444444444,
              "#bd3786"
             ],
             [
              0.5555555555555556,
              "#d8576b"
             ],
             [
              0.6666666666666666,
              "#ed7953"
             ],
             [
              0.7777777777777778,
              "#fb9f3a"
             ],
             [
              0.8888888888888888,
              "#fdca26"
             ],
             [
              1,
              "#f0f921"
             ]
            ],
            "type": "surface"
           }
          ],
          "table": [
           {
            "cells": {
             "fill": {
              "color": "#EBF0F8"
             },
             "line": {
              "color": "white"
             }
            },
            "header": {
             "fill": {
              "color": "#C8D4E3"
             },
             "line": {
              "color": "white"
             }
            },
            "type": "table"
           }
          ]
         },
         "layout": {
          "annotationdefaults": {
           "arrowcolor": "#2a3f5f",
           "arrowhead": 0,
           "arrowwidth": 1
          },
          "autotypenumbers": "strict",
          "coloraxis": {
           "colorbar": {
            "outlinewidth": 0,
            "ticks": ""
           }
          },
          "colorscale": {
           "diverging": [
            [
             0,
             "#8e0152"
            ],
            [
             0.1,
             "#c51b7d"
            ],
            [
             0.2,
             "#de77ae"
            ],
            [
             0.3,
             "#f1b6da"
            ],
            [
             0.4,
             "#fde0ef"
            ],
            [
             0.5,
             "#f7f7f7"
            ],
            [
             0.6,
             "#e6f5d0"
            ],
            [
             0.7,
             "#b8e186"
            ],
            [
             0.8,
             "#7fbc41"
            ],
            [
             0.9,
             "#4d9221"
            ],
            [
             1,
             "#276419"
            ]
           ],
           "sequential": [
            [
             0,
             "#0d0887"
            ],
            [
             0.1111111111111111,
             "#46039f"
            ],
            [
             0.2222222222222222,
             "#7201a8"
            ],
            [
             0.3333333333333333,
             "#9c179e"
            ],
            [
             0.4444444444444444,
             "#bd3786"
            ],
            [
             0.5555555555555556,
             "#d8576b"
            ],
            [
             0.6666666666666666,
             "#ed7953"
            ],
            [
             0.7777777777777778,
             "#fb9f3a"
            ],
            [
             0.8888888888888888,
             "#fdca26"
            ],
            [
             1,
             "#f0f921"
            ]
           ],
           "sequentialminus": [
            [
             0,
             "#0d0887"
            ],
            [
             0.1111111111111111,
             "#46039f"
            ],
            [
             0.2222222222222222,
             "#7201a8"
            ],
            [
             0.3333333333333333,
             "#9c179e"
            ],
            [
             0.4444444444444444,
             "#bd3786"
            ],
            [
             0.5555555555555556,
             "#d8576b"
            ],
            [
             0.6666666666666666,
             "#ed7953"
            ],
            [
             0.7777777777777778,
             "#fb9f3a"
            ],
            [
             0.8888888888888888,
             "#fdca26"
            ],
            [
             1,
             "#f0f921"
            ]
           ]
          },
          "colorway": [
           "#636efa",
           "#EF553B",
           "#00cc96",
           "#ab63fa",
           "#FFA15A",
           "#19d3f3",
           "#FF6692",
           "#B6E880",
           "#FF97FF",
           "#FECB52"
          ],
          "font": {
           "color": "#2a3f5f"
          },
          "geo": {
           "bgcolor": "white",
           "lakecolor": "white",
           "landcolor": "#E5ECF6",
           "showlakes": true,
           "showland": true,
           "subunitcolor": "white"
          },
          "hoverlabel": {
           "align": "left"
          },
          "hovermode": "closest",
          "mapbox": {
           "style": "light"
          },
          "paper_bgcolor": "white",
          "plot_bgcolor": "#E5ECF6",
          "polar": {
           "angularaxis": {
            "gridcolor": "white",
            "linecolor": "white",
            "ticks": ""
           },
           "bgcolor": "#E5ECF6",
           "radialaxis": {
            "gridcolor": "white",
            "linecolor": "white",
            "ticks": ""
           }
          },
          "scene": {
           "xaxis": {
            "backgroundcolor": "#E5ECF6",
            "gridcolor": "white",
            "gridwidth": 2,
            "linecolor": "white",
            "showbackground": true,
            "ticks": "",
            "zerolinecolor": "white"
           },
           "yaxis": {
            "backgroundcolor": "#E5ECF6",
            "gridcolor": "white",
            "gridwidth": 2,
            "linecolor": "white",
            "showbackground": true,
            "ticks": "",
            "zerolinecolor": "white"
           },
           "zaxis": {
            "backgroundcolor": "#E5ECF6",
            "gridcolor": "white",
            "gridwidth": 2,
            "linecolor": "white",
            "showbackground": true,
            "ticks": "",
            "zerolinecolor": "white"
           }
          },
          "shapedefaults": {
           "line": {
            "color": "#2a3f5f"
           }
          },
          "ternary": {
           "aaxis": {
            "gridcolor": "white",
            "linecolor": "white",
            "ticks": ""
           },
           "baxis": {
            "gridcolor": "white",
            "linecolor": "white",
            "ticks": ""
           },
           "bgcolor": "#E5ECF6",
           "caxis": {
            "gridcolor": "white",
            "linecolor": "white",
            "ticks": ""
           }
          },
          "title": {
           "x": 0.05
          },
          "xaxis": {
           "automargin": true,
           "gridcolor": "white",
           "linecolor": "white",
           "ticks": "",
           "title": {
            "standoff": 15
           },
           "zerolinecolor": "white",
           "zerolinewidth": 2
          },
          "yaxis": {
           "automargin": true,
           "gridcolor": "white",
           "linecolor": "white",
           "ticks": "",
           "title": {
            "standoff": 15
           },
           "zerolinecolor": "white",
           "zerolinewidth": 2
          }
         }
        },
        "title": {
         "text": "Bid Price of BEAN Contracts (Period = February 06, 2023 To May 05, 2023; Price Range = 8503.0 - 10410.0)"
        },
        "xaxis": {
         "anchor": "y",
         "domain": [
          0,
          1
         ],
         "rangeselector": {
          "buttons": [
           {
            "count": 1,
            "label": "1m",
            "step": "month",
            "stepmode": "backward"
           },
           {
            "count": 6,
            "label": "6m",
            "step": "month",
            "stepmode": "backward"
           },
           {
            "count": 1,
            "label": "YTD",
            "step": "year",
            "stepmode": "todate"
           },
           {
            "count": 1,
            "label": "1y",
            "step": "year",
            "stepmode": "backward"
           },
           {
            "step": "all"
           }
          ]
         },
         "rangeslider": {
          "visible": true
         },
         "title": {
          "text": "upload_date"
         },
         "type": "date"
        },
        "yaxis": {
         "anchor": "x",
         "domain": [
          0,
          1
         ],
         "title": {
          "text": "bid"
         }
        }
       }
      }
     },
     "metadata": {},
     "output_type": "display_data"
    },
    {
     "data": {
      "text/plain": [
       "<function __main__.filteringplotly(Market, Grain_Type)>"
      ]
     },
     "execution_count": 18,
     "metadata": {},
     "output_type": "execute_result"
    }
   ],
   "source": [
    "\n",
    "def filteringplotly(Market, Grain_Type):\n",
    "    A = df_New.loc[df_New['Market'] == Market, ('last', 'bid','upload_date','contract_type', 'Grain_Type')]\n",
    "    B = A.loc[A['Grain_Type'] == Grain_Type, ('last', 'bid', 'upload_date','contract_type')]\n",
    "    Max_Price = B['last'].loc[B['last'].idxmax()]\n",
    "    Min_Price = B['last'].loc[B['last'].idxmin()]\n",
    "\n",
    "    Max_Date = '{:%B %d, %Y}'.format(B['upload_date'].loc[B['upload_date'].idxmax()])\n",
    "    Min_Date = '{:%B %d, %Y}'.format(B['upload_date'].loc[B['upload_date'].idxmin()])\n",
    "    \n",
    "    fig = px.line(B, x='upload_date', y='bid', color='contract_type')\n",
    "    \n",
    "    fig.update_layout(barmode = 'group', \n",
    "    title= f\"Bid Price of {Grain_Type} Contracts (Period = {Min_Date} To {Max_Date}; Price Range = {Min_Price} - {Max_Price})\")\n",
    "\n",
    "    \n",
    "    # Add range slider\n",
    "    fig.update_layout(\n",
    "        xaxis=dict(\n",
    "            rangeselector=dict(\n",
    "                buttons=list([\n",
    "                    dict(count=1,\n",
    "                         label=\"1m\",\n",
    "                         step=\"month\",\n",
    "                         stepmode=\"backward\"),\n",
    "                    dict(count=6,\n",
    "                         label=\"6m\",\n",
    "                         step=\"month\",\n",
    "                         stepmode=\"backward\"),\n",
    "                    dict(count=1,\n",
    "                         label=\"YTD\",\n",
    "                         step=\"year\",\n",
    "                         stepmode=\"todate\"),\n",
    "                    dict(count=1,\n",
    "                         label=\"1y\",\n",
    "                         step=\"year\",\n",
    "                         stepmode=\"backward\"),\n",
    "                    dict(step=\"all\")\n",
    "                ])\n",
    "            ),\n",
    "            rangeslider=dict(\n",
    "                visible=True\n",
    "            ),\n",
    "            type=\"date\"\n",
    "        )\n",
    "    )\n",
    "\n",
    "    fig.show()\n",
    "\n",
    "widgets.interact(filteringplotly, Market = list1, Grain_Type = list2)"
   ]
  },
  {
   "cell_type": "code",
   "execution_count": 19,
   "id": "1e7a76a3",
   "metadata": {},
   "outputs": [
    {
     "data": {
      "application/vnd.jupyter.widget-view+json": {
       "model_id": "6bd53bfed8a6461f92fbad0de412bbd0",
       "version_major": 2,
       "version_minor": 0
      },
      "text/plain": [
       "interactive(children=(Dropdown(description='Market', options=('Afgri  silo_5 ', 'Afgri  silo_6 ', 'Afgri  silo…"
      ]
     },
     "metadata": {},
     "output_type": "display_data"
    },
    {
     "data": {
      "application/vnd.plotly.v1+json": {
       "config": {
        "plotlyServerURL": "https://plot.ly"
       },
       "data": [
        {
         "name": "Last Price",
         "type": "scatter",
         "x": [
          "2023-02-06T00:00:00",
          "2023-02-07T00:00:00",
          "2023-02-13T00:00:00",
          "2023-02-14T00:00:00",
          "2023-02-16T00:00:00",
          "2023-02-20T00:00:00",
          "2023-02-22T00:00:00",
          "2023-02-28T00:00:00",
          "2023-03-01T00:00:00",
          "2023-03-13T00:00:00",
          "2023-03-15T00:00:00",
          "2023-03-22T00:00:00",
          "2023-03-23T00:00:00",
          "2023-03-27T00:00:00",
          "2023-03-30T00:00:00",
          "2023-03-31T00:00:00",
          "2023-04-03T00:00:00",
          "2023-04-20T00:00:00",
          "2023-04-21T00:00:00",
          "2023-04-25T00:00:00",
          "2023-05-05T00:00:00"
         ],
         "y": [
          9263,
          9356.1,
          9732.066666666668,
          9732.066666666668,
          9716.199999999999,
          9560.925,
          9754.075,
          9855.125,
          9686.04,
          9717.57142857143,
          9525.914285714285,
          9439.199999999999,
          9364.228571428572,
          8998.257142857143,
          9111.171428571428,
          9133.285714285714,
          9052.542857142858,
          9347.942857142856,
          9241.285714285714,
          9146.4,
          8916.666666666666
         ]
        },
        {
         "name": "Bid Price",
         "type": "scatter",
         "x": [
          "2023-02-06T00:00:00",
          "2023-02-07T00:00:00",
          "2023-02-13T00:00:00",
          "2023-02-14T00:00:00",
          "2023-02-16T00:00:00",
          "2023-02-20T00:00:00",
          "2023-02-22T00:00:00",
          "2023-02-28T00:00:00",
          "2023-03-01T00:00:00",
          "2023-03-13T00:00:00",
          "2023-03-15T00:00:00",
          "2023-03-22T00:00:00",
          "2023-03-23T00:00:00",
          "2023-03-27T00:00:00",
          "2023-03-30T00:00:00",
          "2023-03-31T00:00:00",
          "2023-04-03T00:00:00",
          "2023-04-20T00:00:00",
          "2023-04-21T00:00:00",
          "2023-04-25T00:00:00",
          "2023-05-05T00:00:00"
         ],
         "y": [
          9249.166666666666,
          9458.5,
          9749.166666666666,
          9749.166666666666,
          9700,
          9730.75,
          9760.75,
          9828.625,
          7115,
          8279.714285714286,
          8153.857142857143,
          8016.142857142857,
          7953.714285714285,
          7648,
          9070.57142857143,
          9073.857142857143,
          8930.285714285714,
          9311.714285714286,
          9158.857142857143,
          9049.42857142857,
          7384.5
         ]
        }
       ],
       "layout": {
        "barmode": "group",
        "template": {
         "data": {
          "bar": [
           {
            "error_x": {
             "color": "#2a3f5f"
            },
            "error_y": {
             "color": "#2a3f5f"
            },
            "marker": {
             "line": {
              "color": "#E5ECF6",
              "width": 0.5
             },
             "pattern": {
              "fillmode": "overlay",
              "size": 10,
              "solidity": 0.2
             }
            },
            "type": "bar"
           }
          ],
          "barpolar": [
           {
            "marker": {
             "line": {
              "color": "#E5ECF6",
              "width": 0.5
             },
             "pattern": {
              "fillmode": "overlay",
              "size": 10,
              "solidity": 0.2
             }
            },
            "type": "barpolar"
           }
          ],
          "carpet": [
           {
            "aaxis": {
             "endlinecolor": "#2a3f5f",
             "gridcolor": "white",
             "linecolor": "white",
             "minorgridcolor": "white",
             "startlinecolor": "#2a3f5f"
            },
            "baxis": {
             "endlinecolor": "#2a3f5f",
             "gridcolor": "white",
             "linecolor": "white",
             "minorgridcolor": "white",
             "startlinecolor": "#2a3f5f"
            },
            "type": "carpet"
           }
          ],
          "choropleth": [
           {
            "colorbar": {
             "outlinewidth": 0,
             "ticks": ""
            },
            "type": "choropleth"
           }
          ],
          "contour": [
           {
            "colorbar": {
             "outlinewidth": 0,
             "ticks": ""
            },
            "colorscale": [
             [
              0,
              "#0d0887"
             ],
             [
              0.1111111111111111,
              "#46039f"
             ],
             [
              0.2222222222222222,
              "#7201a8"
             ],
             [
              0.3333333333333333,
              "#9c179e"
             ],
             [
              0.4444444444444444,
              "#bd3786"
             ],
             [
              0.5555555555555556,
              "#d8576b"
             ],
             [
              0.6666666666666666,
              "#ed7953"
             ],
             [
              0.7777777777777778,
              "#fb9f3a"
             ],
             [
              0.8888888888888888,
              "#fdca26"
             ],
             [
              1,
              "#f0f921"
             ]
            ],
            "type": "contour"
           }
          ],
          "contourcarpet": [
           {
            "colorbar": {
             "outlinewidth": 0,
             "ticks": ""
            },
            "type": "contourcarpet"
           }
          ],
          "heatmap": [
           {
            "colorbar": {
             "outlinewidth": 0,
             "ticks": ""
            },
            "colorscale": [
             [
              0,
              "#0d0887"
             ],
             [
              0.1111111111111111,
              "#46039f"
             ],
             [
              0.2222222222222222,
              "#7201a8"
             ],
             [
              0.3333333333333333,
              "#9c179e"
             ],
             [
              0.4444444444444444,
              "#bd3786"
             ],
             [
              0.5555555555555556,
              "#d8576b"
             ],
             [
              0.6666666666666666,
              "#ed7953"
             ],
             [
              0.7777777777777778,
              "#fb9f3a"
             ],
             [
              0.8888888888888888,
              "#fdca26"
             ],
             [
              1,
              "#f0f921"
             ]
            ],
            "type": "heatmap"
           }
          ],
          "heatmapgl": [
           {
            "colorbar": {
             "outlinewidth": 0,
             "ticks": ""
            },
            "colorscale": [
             [
              0,
              "#0d0887"
             ],
             [
              0.1111111111111111,
              "#46039f"
             ],
             [
              0.2222222222222222,
              "#7201a8"
             ],
             [
              0.3333333333333333,
              "#9c179e"
             ],
             [
              0.4444444444444444,
              "#bd3786"
             ],
             [
              0.5555555555555556,
              "#d8576b"
             ],
             [
              0.6666666666666666,
              "#ed7953"
             ],
             [
              0.7777777777777778,
              "#fb9f3a"
             ],
             [
              0.8888888888888888,
              "#fdca26"
             ],
             [
              1,
              "#f0f921"
             ]
            ],
            "type": "heatmapgl"
           }
          ],
          "histogram": [
           {
            "marker": {
             "pattern": {
              "fillmode": "overlay",
              "size": 10,
              "solidity": 0.2
             }
            },
            "type": "histogram"
           }
          ],
          "histogram2d": [
           {
            "colorbar": {
             "outlinewidth": 0,
             "ticks": ""
            },
            "colorscale": [
             [
              0,
              "#0d0887"
             ],
             [
              0.1111111111111111,
              "#46039f"
             ],
             [
              0.2222222222222222,
              "#7201a8"
             ],
             [
              0.3333333333333333,
              "#9c179e"
             ],
             [
              0.4444444444444444,
              "#bd3786"
             ],
             [
              0.5555555555555556,
              "#d8576b"
             ],
             [
              0.6666666666666666,
              "#ed7953"
             ],
             [
              0.7777777777777778,
              "#fb9f3a"
             ],
             [
              0.8888888888888888,
              "#fdca26"
             ],
             [
              1,
              "#f0f921"
             ]
            ],
            "type": "histogram2d"
           }
          ],
          "histogram2dcontour": [
           {
            "colorbar": {
             "outlinewidth": 0,
             "ticks": ""
            },
            "colorscale": [
             [
              0,
              "#0d0887"
             ],
             [
              0.1111111111111111,
              "#46039f"
             ],
             [
              0.2222222222222222,
              "#7201a8"
             ],
             [
              0.3333333333333333,
              "#9c179e"
             ],
             [
              0.4444444444444444,
              "#bd3786"
             ],
             [
              0.5555555555555556,
              "#d8576b"
             ],
             [
              0.6666666666666666,
              "#ed7953"
             ],
             [
              0.7777777777777778,
              "#fb9f3a"
             ],
             [
              0.8888888888888888,
              "#fdca26"
             ],
             [
              1,
              "#f0f921"
             ]
            ],
            "type": "histogram2dcontour"
           }
          ],
          "mesh3d": [
           {
            "colorbar": {
             "outlinewidth": 0,
             "ticks": ""
            },
            "type": "mesh3d"
           }
          ],
          "parcoords": [
           {
            "line": {
             "colorbar": {
              "outlinewidth": 0,
              "ticks": ""
             }
            },
            "type": "parcoords"
           }
          ],
          "pie": [
           {
            "automargin": true,
            "type": "pie"
           }
          ],
          "scatter": [
           {
            "fillpattern": {
             "fillmode": "overlay",
             "size": 10,
             "solidity": 0.2
            },
            "type": "scatter"
           }
          ],
          "scatter3d": [
           {
            "line": {
             "colorbar": {
              "outlinewidth": 0,
              "ticks": ""
             }
            },
            "marker": {
             "colorbar": {
              "outlinewidth": 0,
              "ticks": ""
             }
            },
            "type": "scatter3d"
           }
          ],
          "scattercarpet": [
           {
            "marker": {
             "colorbar": {
              "outlinewidth": 0,
              "ticks": ""
             }
            },
            "type": "scattercarpet"
           }
          ],
          "scattergeo": [
           {
            "marker": {
             "colorbar": {
              "outlinewidth": 0,
              "ticks": ""
             }
            },
            "type": "scattergeo"
           }
          ],
          "scattergl": [
           {
            "marker": {
             "colorbar": {
              "outlinewidth": 0,
              "ticks": ""
             }
            },
            "type": "scattergl"
           }
          ],
          "scattermapbox": [
           {
            "marker": {
             "colorbar": {
              "outlinewidth": 0,
              "ticks": ""
             }
            },
            "type": "scattermapbox"
           }
          ],
          "scatterpolar": [
           {
            "marker": {
             "colorbar": {
              "outlinewidth": 0,
              "ticks": ""
             }
            },
            "type": "scatterpolar"
           }
          ],
          "scatterpolargl": [
           {
            "marker": {
             "colorbar": {
              "outlinewidth": 0,
              "ticks": ""
             }
            },
            "type": "scatterpolargl"
           }
          ],
          "scatterternary": [
           {
            "marker": {
             "colorbar": {
              "outlinewidth": 0,
              "ticks": ""
             }
            },
            "type": "scatterternary"
           }
          ],
          "surface": [
           {
            "colorbar": {
             "outlinewidth": 0,
             "ticks": ""
            },
            "colorscale": [
             [
              0,
              "#0d0887"
             ],
             [
              0.1111111111111111,
              "#46039f"
             ],
             [
              0.2222222222222222,
              "#7201a8"
             ],
             [
              0.3333333333333333,
              "#9c179e"
             ],
             [
              0.4444444444444444,
              "#bd3786"
             ],
             [
              0.5555555555555556,
              "#d8576b"
             ],
             [
              0.6666666666666666,
              "#ed7953"
             ],
             [
              0.7777777777777778,
              "#fb9f3a"
             ],
             [
              0.8888888888888888,
              "#fdca26"
             ],
             [
              1,
              "#f0f921"
             ]
            ],
            "type": "surface"
           }
          ],
          "table": [
           {
            "cells": {
             "fill": {
              "color": "#EBF0F8"
             },
             "line": {
              "color": "white"
             }
            },
            "header": {
             "fill": {
              "color": "#C8D4E3"
             },
             "line": {
              "color": "white"
             }
            },
            "type": "table"
           }
          ]
         },
         "layout": {
          "annotationdefaults": {
           "arrowcolor": "#2a3f5f",
           "arrowhead": 0,
           "arrowwidth": 1
          },
          "autotypenumbers": "strict",
          "coloraxis": {
           "colorbar": {
            "outlinewidth": 0,
            "ticks": ""
           }
          },
          "colorscale": {
           "diverging": [
            [
             0,
             "#8e0152"
            ],
            [
             0.1,
             "#c51b7d"
            ],
            [
             0.2,
             "#de77ae"
            ],
            [
             0.3,
             "#f1b6da"
            ],
            [
             0.4,
             "#fde0ef"
            ],
            [
             0.5,
             "#f7f7f7"
            ],
            [
             0.6,
             "#e6f5d0"
            ],
            [
             0.7,
             "#b8e186"
            ],
            [
             0.8,
             "#7fbc41"
            ],
            [
             0.9,
             "#4d9221"
            ],
            [
             1,
             "#276419"
            ]
           ],
           "sequential": [
            [
             0,
             "#0d0887"
            ],
            [
             0.1111111111111111,
             "#46039f"
            ],
            [
             0.2222222222222222,
             "#7201a8"
            ],
            [
             0.3333333333333333,
             "#9c179e"
            ],
            [
             0.4444444444444444,
             "#bd3786"
            ],
            [
             0.5555555555555556,
             "#d8576b"
            ],
            [
             0.6666666666666666,
             "#ed7953"
            ],
            [
             0.7777777777777778,
             "#fb9f3a"
            ],
            [
             0.8888888888888888,
             "#fdca26"
            ],
            [
             1,
             "#f0f921"
            ]
           ],
           "sequentialminus": [
            [
             0,
             "#0d0887"
            ],
            [
             0.1111111111111111,
             "#46039f"
            ],
            [
             0.2222222222222222,
             "#7201a8"
            ],
            [
             0.3333333333333333,
             "#9c179e"
            ],
            [
             0.4444444444444444,
             "#bd3786"
            ],
            [
             0.5555555555555556,
             "#d8576b"
            ],
            [
             0.6666666666666666,
             "#ed7953"
            ],
            [
             0.7777777777777778,
             "#fb9f3a"
            ],
            [
             0.8888888888888888,
             "#fdca26"
            ],
            [
             1,
             "#f0f921"
            ]
           ]
          },
          "colorway": [
           "#636efa",
           "#EF553B",
           "#00cc96",
           "#ab63fa",
           "#FFA15A",
           "#19d3f3",
           "#FF6692",
           "#B6E880",
           "#FF97FF",
           "#FECB52"
          ],
          "font": {
           "color": "#2a3f5f"
          },
          "geo": {
           "bgcolor": "white",
           "lakecolor": "white",
           "landcolor": "#E5ECF6",
           "showlakes": true,
           "showland": true,
           "subunitcolor": "white"
          },
          "hoverlabel": {
           "align": "left"
          },
          "hovermode": "closest",
          "mapbox": {
           "style": "light"
          },
          "paper_bgcolor": "white",
          "plot_bgcolor": "#E5ECF6",
          "polar": {
           "angularaxis": {
            "gridcolor": "white",
            "linecolor": "white",
            "ticks": ""
           },
           "bgcolor": "#E5ECF6",
           "radialaxis": {
            "gridcolor": "white",
            "linecolor": "white",
            "ticks": ""
           }
          },
          "scene": {
           "xaxis": {
            "backgroundcolor": "#E5ECF6",
            "gridcolor": "white",
            "gridwidth": 2,
            "linecolor": "white",
            "showbackground": true,
            "ticks": "",
            "zerolinecolor": "white"
           },
           "yaxis": {
            "backgroundcolor": "#E5ECF6",
            "gridcolor": "white",
            "gridwidth": 2,
            "linecolor": "white",
            "showbackground": true,
            "ticks": "",
            "zerolinecolor": "white"
           },
           "zaxis": {
            "backgroundcolor": "#E5ECF6",
            "gridcolor": "white",
            "gridwidth": 2,
            "linecolor": "white",
            "showbackground": true,
            "ticks": "",
            "zerolinecolor": "white"
           }
          },
          "shapedefaults": {
           "line": {
            "color": "#2a3f5f"
           }
          },
          "ternary": {
           "aaxis": {
            "gridcolor": "white",
            "linecolor": "white",
            "ticks": ""
           },
           "baxis": {
            "gridcolor": "white",
            "linecolor": "white",
            "ticks": ""
           },
           "bgcolor": "#E5ECF6",
           "caxis": {
            "gridcolor": "white",
            "linecolor": "white",
            "ticks": ""
           }
          },
          "title": {
           "x": 0.05
          },
          "xaxis": {
           "automargin": true,
           "gridcolor": "white",
           "linecolor": "white",
           "ticks": "",
           "title": {
            "standoff": 15
           },
           "zerolinecolor": "white",
           "zerolinewidth": 2
          },
          "yaxis": {
           "automargin": true,
           "gridcolor": "white",
           "linecolor": "white",
           "ticks": "",
           "title": {
            "standoff": 15
           },
           "zerolinecolor": "white",
           "zerolinewidth": 2
          }
         }
        },
        "title": {
         "text": "Average Price (Last/Bid) of BEAN Contracts Versus Upload Date (Period = February 06, 2023 To May 05, 2023)"
        },
        "xaxis": {
         "rangeselector": {
          "buttons": [
           {
            "count": 1,
            "label": "1m",
            "step": "month",
            "stepmode": "backward"
           },
           {
            "count": 6,
            "label": "6m",
            "step": "month",
            "stepmode": "backward"
           },
           {
            "count": 1,
            "label": "YTD",
            "step": "year",
            "stepmode": "todate"
           },
           {
            "count": 1,
            "label": "1y",
            "step": "year",
            "stepmode": "backward"
           },
           {
            "step": "all"
           }
          ]
         },
         "rangeslider": {
          "visible": true
         },
         "type": "date"
        }
       }
      }
     },
     "metadata": {},
     "output_type": "display_data"
    },
    {
     "data": {
      "text/plain": [
       "<function __main__.filteringplotly(Market, Grain_Type)>"
      ]
     },
     "execution_count": 19,
     "metadata": {},
     "output_type": "execute_result"
    }
   ],
   "source": [
    "\n",
    "def filteringplotly(Market, Grain_Type):\n",
    "    A = df_New.loc[df_New['Market'] == Market, ('last', 'bid','upload_date','contract_type', 'Grain_Type')]\n",
    "    B = A.loc[A['Grain_Type'] == Grain_Type, ('last', 'bid', 'upload_date','contract_type')]\n",
    "    C = B.groupby('upload_date')['last', 'bid'].mean().reset_index()\n",
    "\n",
    "    Max_Date = '{:%B %d, %Y}'.format(B['upload_date'].loc[B['upload_date'].idxmax()])\n",
    "    Min_Date = '{:%B %d, %Y}'.format(B['upload_date'].loc[B['upload_date'].idxmin()])\n",
    "    \n",
    "    fig = go.Figure(data =[\n",
    "                    go.Scatter(name = 'Last Price', x=C['upload_date'], y =C['last']),\n",
    "                    go.Scatter(name = 'Bid Price', x=C['upload_date'], y = C['bid'])\n",
    "                    ])\n",
    "    \n",
    "    fig.update_layout(barmode = 'group', \n",
    "    title= f\"Average Price (Last/Bid) of {Grain_Type} Contracts Versus Upload Date (Period = {Min_Date} To {Max_Date})\")\n",
    "    \n",
    "    # Add range slider\n",
    "    fig.update_layout(\n",
    "        xaxis=dict(\n",
    "            rangeselector=dict(\n",
    "                buttons=list([\n",
    "                    dict(count=1,\n",
    "                         label=\"1m\",\n",
    "                         step=\"month\",\n",
    "                         stepmode=\"backward\"),\n",
    "                    dict(count=6,\n",
    "                         label=\"6m\",\n",
    "                         step=\"month\",\n",
    "                         stepmode=\"backward\"),\n",
    "                    dict(count=1,\n",
    "                         label=\"YTD\",\n",
    "                         step=\"year\",\n",
    "                         stepmode=\"todate\"),\n",
    "                    dict(count=1,\n",
    "                         label=\"1y\",\n",
    "                         step=\"year\",\n",
    "                         stepmode=\"backward\"),\n",
    "                    dict(step=\"all\")\n",
    "                ])\n",
    "            ),\n",
    "            rangeslider=dict(\n",
    "                visible=True\n",
    "            ),\n",
    "            type=\"date\"\n",
    "        )\n",
    "    )\n",
    "\n",
    "    fig.show()\n",
    "\n",
    "widgets.interact(filteringplotly, Market = list1, Grain_Type = list2)"
   ]
  },
  {
   "cell_type": "code",
   "execution_count": 20,
   "id": "ccc7509a",
   "metadata": {
    "scrolled": false
   },
   "outputs": [
    {
     "data": {
      "application/vnd.jupyter.widget-view+json": {
       "model_id": "e1bece8142ef41c1b3d2c75b9e8377e8",
       "version_major": 2,
       "version_minor": 0
      },
      "text/plain": [
       "interactive(children=(Dropdown(description='Market', options=('Afgri  silo_5 ', 'Afgri  silo_6 ', 'Afgri  silo…"
      ]
     },
     "metadata": {},
     "output_type": "display_data"
    },
    {
     "data": {
      "application/vnd.plotly.v1+json": {
       "config": {
        "plotlyServerURL": "https://plot.ly"
       },
       "data": [
        {
         "name": "Last Price",
         "type": "scatter",
         "x": [
          "2023-02-06T00:00:00",
          "2023-02-07T00:00:00",
          "2023-02-13T00:00:00",
          "2023-02-14T00:00:00",
          "2023-02-16T00:00:00",
          "2023-02-20T00:00:00",
          "2023-02-22T00:00:00",
          "2023-02-28T00:00:00",
          "2023-03-01T00:00:00"
         ],
         "y": [
          9686.4,
          9862.8,
          10242.8,
          10242.8,
          10126.8,
          10245.2,
          10325.6,
          10391,
          10292.32
         ]
        },
        {
         "name": "Bid Price",
         "type": "scatter",
         "x": [
          "2023-02-06T00:00:00",
          "2023-02-07T00:00:00",
          "2023-02-13T00:00:00",
          "2023-02-14T00:00:00",
          "2023-02-16T00:00:00",
          "2023-02-20T00:00:00",
          "2023-02-22T00:00:00",
          "2023-02-28T00:00:00",
          "2023-03-01T00:00:00"
         ],
         "y": [
          9664,
          9862,
          10187,
          10187,
          10117,
          10249,
          10308,
          10389,
          0
         ]
        }
       ],
       "layout": {
        "barmode": "group",
        "template": {
         "data": {
          "bar": [
           {
            "error_x": {
             "color": "#2a3f5f"
            },
            "error_y": {
             "color": "#2a3f5f"
            },
            "marker": {
             "line": {
              "color": "#E5ECF6",
              "width": 0.5
             },
             "pattern": {
              "fillmode": "overlay",
              "size": 10,
              "solidity": 0.2
             }
            },
            "type": "bar"
           }
          ],
          "barpolar": [
           {
            "marker": {
             "line": {
              "color": "#E5ECF6",
              "width": 0.5
             },
             "pattern": {
              "fillmode": "overlay",
              "size": 10,
              "solidity": 0.2
             }
            },
            "type": "barpolar"
           }
          ],
          "carpet": [
           {
            "aaxis": {
             "endlinecolor": "#2a3f5f",
             "gridcolor": "white",
             "linecolor": "white",
             "minorgridcolor": "white",
             "startlinecolor": "#2a3f5f"
            },
            "baxis": {
             "endlinecolor": "#2a3f5f",
             "gridcolor": "white",
             "linecolor": "white",
             "minorgridcolor": "white",
             "startlinecolor": "#2a3f5f"
            },
            "type": "carpet"
           }
          ],
          "choropleth": [
           {
            "colorbar": {
             "outlinewidth": 0,
             "ticks": ""
            },
            "type": "choropleth"
           }
          ],
          "contour": [
           {
            "colorbar": {
             "outlinewidth": 0,
             "ticks": ""
            },
            "colorscale": [
             [
              0,
              "#0d0887"
             ],
             [
              0.1111111111111111,
              "#46039f"
             ],
             [
              0.2222222222222222,
              "#7201a8"
             ],
             [
              0.3333333333333333,
              "#9c179e"
             ],
             [
              0.4444444444444444,
              "#bd3786"
             ],
             [
              0.5555555555555556,
              "#d8576b"
             ],
             [
              0.6666666666666666,
              "#ed7953"
             ],
             [
              0.7777777777777778,
              "#fb9f3a"
             ],
             [
              0.8888888888888888,
              "#fdca26"
             ],
             [
              1,
              "#f0f921"
             ]
            ],
            "type": "contour"
           }
          ],
          "contourcarpet": [
           {
            "colorbar": {
             "outlinewidth": 0,
             "ticks": ""
            },
            "type": "contourcarpet"
           }
          ],
          "heatmap": [
           {
            "colorbar": {
             "outlinewidth": 0,
             "ticks": ""
            },
            "colorscale": [
             [
              0,
              "#0d0887"
             ],
             [
              0.1111111111111111,
              "#46039f"
             ],
             [
              0.2222222222222222,
              "#7201a8"
             ],
             [
              0.3333333333333333,
              "#9c179e"
             ],
             [
              0.4444444444444444,
              "#bd3786"
             ],
             [
              0.5555555555555556,
              "#d8576b"
             ],
             [
              0.6666666666666666,
              "#ed7953"
             ],
             [
              0.7777777777777778,
              "#fb9f3a"
             ],
             [
              0.8888888888888888,
              "#fdca26"
             ],
             [
              1,
              "#f0f921"
             ]
            ],
            "type": "heatmap"
           }
          ],
          "heatmapgl": [
           {
            "colorbar": {
             "outlinewidth": 0,
             "ticks": ""
            },
            "colorscale": [
             [
              0,
              "#0d0887"
             ],
             [
              0.1111111111111111,
              "#46039f"
             ],
             [
              0.2222222222222222,
              "#7201a8"
             ],
             [
              0.3333333333333333,
              "#9c179e"
             ],
             [
              0.4444444444444444,
              "#bd3786"
             ],
             [
              0.5555555555555556,
              "#d8576b"
             ],
             [
              0.6666666666666666,
              "#ed7953"
             ],
             [
              0.7777777777777778,
              "#fb9f3a"
             ],
             [
              0.8888888888888888,
              "#fdca26"
             ],
             [
              1,
              "#f0f921"
             ]
            ],
            "type": "heatmapgl"
           }
          ],
          "histogram": [
           {
            "marker": {
             "pattern": {
              "fillmode": "overlay",
              "size": 10,
              "solidity": 0.2
             }
            },
            "type": "histogram"
           }
          ],
          "histogram2d": [
           {
            "colorbar": {
             "outlinewidth": 0,
             "ticks": ""
            },
            "colorscale": [
             [
              0,
              "#0d0887"
             ],
             [
              0.1111111111111111,
              "#46039f"
             ],
             [
              0.2222222222222222,
              "#7201a8"
             ],
             [
              0.3333333333333333,
              "#9c179e"
             ],
             [
              0.4444444444444444,
              "#bd3786"
             ],
             [
              0.5555555555555556,
              "#d8576b"
             ],
             [
              0.6666666666666666,
              "#ed7953"
             ],
             [
              0.7777777777777778,
              "#fb9f3a"
             ],
             [
              0.8888888888888888,
              "#fdca26"
             ],
             [
              1,
              "#f0f921"
             ]
            ],
            "type": "histogram2d"
           }
          ],
          "histogram2dcontour": [
           {
            "colorbar": {
             "outlinewidth": 0,
             "ticks": ""
            },
            "colorscale": [
             [
              0,
              "#0d0887"
             ],
             [
              0.1111111111111111,
              "#46039f"
             ],
             [
              0.2222222222222222,
              "#7201a8"
             ],
             [
              0.3333333333333333,
              "#9c179e"
             ],
             [
              0.4444444444444444,
              "#bd3786"
             ],
             [
              0.5555555555555556,
              "#d8576b"
             ],
             [
              0.6666666666666666,
              "#ed7953"
             ],
             [
              0.7777777777777778,
              "#fb9f3a"
             ],
             [
              0.8888888888888888,
              "#fdca26"
             ],
             [
              1,
              "#f0f921"
             ]
            ],
            "type": "histogram2dcontour"
           }
          ],
          "mesh3d": [
           {
            "colorbar": {
             "outlinewidth": 0,
             "ticks": ""
            },
            "type": "mesh3d"
           }
          ],
          "parcoords": [
           {
            "line": {
             "colorbar": {
              "outlinewidth": 0,
              "ticks": ""
             }
            },
            "type": "parcoords"
           }
          ],
          "pie": [
           {
            "automargin": true,
            "type": "pie"
           }
          ],
          "scatter": [
           {
            "fillpattern": {
             "fillmode": "overlay",
             "size": 10,
             "solidity": 0.2
            },
            "type": "scatter"
           }
          ],
          "scatter3d": [
           {
            "line": {
             "colorbar": {
              "outlinewidth": 0,
              "ticks": ""
             }
            },
            "marker": {
             "colorbar": {
              "outlinewidth": 0,
              "ticks": ""
             }
            },
            "type": "scatter3d"
           }
          ],
          "scattercarpet": [
           {
            "marker": {
             "colorbar": {
              "outlinewidth": 0,
              "ticks": ""
             }
            },
            "type": "scattercarpet"
           }
          ],
          "scattergeo": [
           {
            "marker": {
             "colorbar": {
              "outlinewidth": 0,
              "ticks": ""
             }
            },
            "type": "scattergeo"
           }
          ],
          "scattergl": [
           {
            "marker": {
             "colorbar": {
              "outlinewidth": 0,
              "ticks": ""
             }
            },
            "type": "scattergl"
           }
          ],
          "scattermapbox": [
           {
            "marker": {
             "colorbar": {
              "outlinewidth": 0,
              "ticks": ""
             }
            },
            "type": "scattermapbox"
           }
          ],
          "scatterpolar": [
           {
            "marker": {
             "colorbar": {
              "outlinewidth": 0,
              "ticks": ""
             }
            },
            "type": "scatterpolar"
           }
          ],
          "scatterpolargl": [
           {
            "marker": {
             "colorbar": {
              "outlinewidth": 0,
              "ticks": ""
             }
            },
            "type": "scatterpolargl"
           }
          ],
          "scatterternary": [
           {
            "marker": {
             "colorbar": {
              "outlinewidth": 0,
              "ticks": ""
             }
            },
            "type": "scatterternary"
           }
          ],
          "surface": [
           {
            "colorbar": {
             "outlinewidth": 0,
             "ticks": ""
            },
            "colorscale": [
             [
              0,
              "#0d0887"
             ],
             [
              0.1111111111111111,
              "#46039f"
             ],
             [
              0.2222222222222222,
              "#7201a8"
             ],
             [
              0.3333333333333333,
              "#9c179e"
             ],
             [
              0.4444444444444444,
              "#bd3786"
             ],
             [
              0.5555555555555556,
              "#d8576b"
             ],
             [
              0.6666666666666666,
              "#ed7953"
             ],
             [
              0.7777777777777778,
              "#fb9f3a"
             ],
             [
              0.8888888888888888,
              "#fdca26"
             ],
             [
              1,
              "#f0f921"
             ]
            ],
            "type": "surface"
           }
          ],
          "table": [
           {
            "cells": {
             "fill": {
              "color": "#EBF0F8"
             },
             "line": {
              "color": "white"
             }
            },
            "header": {
             "fill": {
              "color": "#C8D4E3"
             },
             "line": {
              "color": "white"
             }
            },
            "type": "table"
           }
          ]
         },
         "layout": {
          "annotationdefaults": {
           "arrowcolor": "#2a3f5f",
           "arrowhead": 0,
           "arrowwidth": 1
          },
          "autotypenumbers": "strict",
          "coloraxis": {
           "colorbar": {
            "outlinewidth": 0,
            "ticks": ""
           }
          },
          "colorscale": {
           "diverging": [
            [
             0,
             "#8e0152"
            ],
            [
             0.1,
             "#c51b7d"
            ],
            [
             0.2,
             "#de77ae"
            ],
            [
             0.3,
             "#f1b6da"
            ],
            [
             0.4,
             "#fde0ef"
            ],
            [
             0.5,
             "#f7f7f7"
            ],
            [
             0.6,
             "#e6f5d0"
            ],
            [
             0.7,
             "#b8e186"
            ],
            [
             0.8,
             "#7fbc41"
            ],
            [
             0.9,
             "#4d9221"
            ],
            [
             1,
             "#276419"
            ]
           ],
           "sequential": [
            [
             0,
             "#0d0887"
            ],
            [
             0.1111111111111111,
             "#46039f"
            ],
            [
             0.2222222222222222,
             "#7201a8"
            ],
            [
             0.3333333333333333,
             "#9c179e"
            ],
            [
             0.4444444444444444,
             "#bd3786"
            ],
            [
             0.5555555555555556,
             "#d8576b"
            ],
            [
             0.6666666666666666,
             "#ed7953"
            ],
            [
             0.7777777777777778,
             "#fb9f3a"
            ],
            [
             0.8888888888888888,
             "#fdca26"
            ],
            [
             1,
             "#f0f921"
            ]
           ],
           "sequentialminus": [
            [
             0,
             "#0d0887"
            ],
            [
             0.1111111111111111,
             "#46039f"
            ],
            [
             0.2222222222222222,
             "#7201a8"
            ],
            [
             0.3333333333333333,
             "#9c179e"
            ],
            [
             0.4444444444444444,
             "#bd3786"
            ],
            [
             0.5555555555555556,
             "#d8576b"
            ],
            [
             0.6666666666666666,
             "#ed7953"
            ],
            [
             0.7777777777777778,
             "#fb9f3a"
            ],
            [
             0.8888888888888888,
             "#fdca26"
            ],
            [
             1,
             "#f0f921"
            ]
           ]
          },
          "colorway": [
           "#636efa",
           "#EF553B",
           "#00cc96",
           "#ab63fa",
           "#FFA15A",
           "#19d3f3",
           "#FF6692",
           "#B6E880",
           "#FF97FF",
           "#FECB52"
          ],
          "font": {
           "color": "#2a3f5f"
          },
          "geo": {
           "bgcolor": "white",
           "lakecolor": "white",
           "landcolor": "#E5ECF6",
           "showlakes": true,
           "showland": true,
           "subunitcolor": "white"
          },
          "hoverlabel": {
           "align": "left"
          },
          "hovermode": "closest",
          "mapbox": {
           "style": "light"
          },
          "paper_bgcolor": "white",
          "plot_bgcolor": "#E5ECF6",
          "polar": {
           "angularaxis": {
            "gridcolor": "white",
            "linecolor": "white",
            "ticks": ""
           },
           "bgcolor": "#E5ECF6",
           "radialaxis": {
            "gridcolor": "white",
            "linecolor": "white",
            "ticks": ""
           }
          },
          "scene": {
           "xaxis": {
            "backgroundcolor": "#E5ECF6",
            "gridcolor": "white",
            "gridwidth": 2,
            "linecolor": "white",
            "showbackground": true,
            "ticks": "",
            "zerolinecolor": "white"
           },
           "yaxis": {
            "backgroundcolor": "#E5ECF6",
            "gridcolor": "white",
            "gridwidth": 2,
            "linecolor": "white",
            "showbackground": true,
            "ticks": "",
            "zerolinecolor": "white"
           },
           "zaxis": {
            "backgroundcolor": "#E5ECF6",
            "gridcolor": "white",
            "gridwidth": 2,
            "linecolor": "white",
            "showbackground": true,
            "ticks": "",
            "zerolinecolor": "white"
           }
          },
          "shapedefaults": {
           "line": {
            "color": "#2a3f5f"
           }
          },
          "ternary": {
           "aaxis": {
            "gridcolor": "white",
            "linecolor": "white",
            "ticks": ""
           },
           "baxis": {
            "gridcolor": "white",
            "linecolor": "white",
            "ticks": ""
           },
           "bgcolor": "#E5ECF6",
           "caxis": {
            "gridcolor": "white",
            "linecolor": "white",
            "ticks": ""
           }
          },
          "title": {
           "x": 0.05
          },
          "xaxis": {
           "automargin": true,
           "gridcolor": "white",
           "linecolor": "white",
           "ticks": "",
           "title": {
            "standoff": 15
           },
           "zerolinecolor": "white",
           "zerolinewidth": 2
          },
          "yaxis": {
           "automargin": true,
           "gridcolor": "white",
           "linecolor": "white",
           "ticks": "",
           "title": {
            "standoff": 15
           },
           "zerolinecolor": "white",
           "zerolinewidth": 2
          }
         }
        },
        "title": {
         "text": "Last/Bid Price of  '01 Mar 23 BEAN / Afgri  silo_5 '  Contract vs Upload Date"
        },
        "xaxis": {
         "rangeselector": {
          "buttons": [
           {
            "count": 1,
            "label": "1m",
            "step": "month",
            "stepmode": "backward"
           },
           {
            "count": 6,
            "label": "6m",
            "step": "month",
            "stepmode": "backward"
           },
           {
            "count": 1,
            "label": "YTD",
            "step": "year",
            "stepmode": "todate"
           },
           {
            "count": 1,
            "label": "1y",
            "step": "year",
            "stepmode": "backward"
           },
           {
            "step": "all"
           }
          ]
         },
         "rangeslider": {
          "visible": true
         },
         "type": "date"
        }
       }
      }
     },
     "metadata": {},
     "output_type": "display_data"
    },
    {
     "data": {
      "text/plain": [
       "<function __main__.filteringplotly(Market, Contract_Type)>"
      ]
     },
     "execution_count": 20,
     "metadata": {},
     "output_type": "execute_result"
    }
   ],
   "source": [
    "list4 = list(df_New.contract_type.unique())\n",
    "\n",
    "\n",
    "def filteringplotly(Market, Contract_Type):\n",
    "    A = df_New.loc[df_New['Market'] == Market, ('last', 'bid','upload_date','contract_type')]\n",
    "    B = A.loc[A['contract_type'] == Contract_Type, ('last', 'bid', 'upload_date')]\n",
    "\n",
    "    fig = go.Figure(data =[\n",
    "                    go.Scatter(name = 'Last Price', x=B['upload_date'], y =B['last']),\n",
    "                    go.Scatter(name = 'Bid Price', x=B['upload_date'], y = B['bid'])\n",
    "                    ])\n",
    "    \n",
    "    fig.update_layout(barmode = 'group', title= f\"Last/Bid Price of  '{Contract_Type} / {Market}'  Contract vs Upload Date\")\n",
    "\n",
    "    \n",
    "    # Add range slider\n",
    "    fig.update_layout(\n",
    "        xaxis=dict(\n",
    "            rangeselector=dict(\n",
    "                buttons=list([\n",
    "                    dict(count=1,\n",
    "                         label=\"1m\",\n",
    "                         step=\"month\",\n",
    "                         stepmode=\"backward\"),\n",
    "                    dict(count=6,\n",
    "                         label=\"6m\",\n",
    "                         step=\"month\",\n",
    "                         stepmode=\"backward\"),\n",
    "                    dict(count=1,\n",
    "                         label=\"YTD\",\n",
    "                         step=\"year\",\n",
    "                         stepmode=\"todate\"),\n",
    "                    dict(count=1,\n",
    "                         label=\"1y\",\n",
    "                         step=\"year\",\n",
    "                         stepmode=\"backward\"),\n",
    "                    dict(step=\"all\")\n",
    "                ])\n",
    "            ),\n",
    "            rangeslider=dict(\n",
    "                visible=True\n",
    "            ),\n",
    "            type=\"date\"\n",
    "        )\n",
    "    )\n",
    "\n",
    "    fig.show()\n",
    "\n",
    "widgets.interact(filteringplotly, Market = list1, Contract_Type = list4)"
   ]
  },
  {
   "cell_type": "code",
   "execution_count": 21,
   "id": "e441beeb",
   "metadata": {},
   "outputs": [
    {
     "data": {
      "application/vnd.jupyter.widget-view+json": {
       "model_id": "f2274bc50ff446c0937baa176fe84967",
       "version_major": 2,
       "version_minor": 0
      },
      "text/plain": [
       "interactive(children=(Dropdown(description='Market', options=('Afgri  silo_5 ', 'Afgri  silo_6 ', 'Afgri  silo…"
      ]
     },
     "metadata": {},
     "output_type": "display_data"
    },
    {
     "data": {
      "application/vnd.plotly.v1+json": {
       "config": {
        "plotlyServerURL": "https://plot.ly"
       },
       "data": [
        {
         "name": "Last Price",
         "type": "bar",
         "x": [
          "2023-02-06T00:00:00",
          "2023-02-07T00:00:00",
          "2023-02-13T00:00:00",
          "2023-02-14T00:00:00",
          "2023-02-16T00:00:00",
          "2023-02-20T00:00:00",
          "2023-02-22T00:00:00",
          "2023-02-28T00:00:00",
          "2023-03-01T00:00:00"
         ],
         "y": [
          9686.4,
          9862.8,
          10242.8,
          10242.8,
          10126.8,
          10245.2,
          10325.6,
          10391,
          10292.32
         ],
         "yaxis": "y"
        },
        {
         "name": "Bid Price",
         "type": "bar",
         "x": [
          "2023-02-06T00:00:00",
          "2023-02-07T00:00:00",
          "2023-02-13T00:00:00",
          "2023-02-14T00:00:00",
          "2023-02-16T00:00:00",
          "2023-02-20T00:00:00",
          "2023-02-22T00:00:00",
          "2023-02-28T00:00:00",
          "2023-03-01T00:00:00"
         ],
         "y": [
          9664,
          9862,
          10187,
          10187,
          10117,
          10249,
          10308,
          10389,
          0
         ],
         "yaxis": "y"
        },
        {
         "name": "Deals count",
         "type": "scatter",
         "x": [
          "2023-02-06T00:00:00",
          "2023-02-07T00:00:00",
          "2023-02-13T00:00:00",
          "2023-02-14T00:00:00",
          "2023-02-16T00:00:00",
          "2023-02-20T00:00:00",
          "2023-02-22T00:00:00",
          "2023-02-28T00:00:00",
          "2023-03-01T00:00:00"
         ],
         "y": [
          5,
          5,
          4,
          4,
          8,
          1,
          6,
          1,
          1
         ],
         "yaxis": "y2"
        }
       ],
       "layout": {
        "barmode": "group",
        "template": {
         "data": {
          "bar": [
           {
            "error_x": {
             "color": "#2a3f5f"
            },
            "error_y": {
             "color": "#2a3f5f"
            },
            "marker": {
             "line": {
              "color": "#E5ECF6",
              "width": 0.5
             },
             "pattern": {
              "fillmode": "overlay",
              "size": 10,
              "solidity": 0.2
             }
            },
            "type": "bar"
           }
          ],
          "barpolar": [
           {
            "marker": {
             "line": {
              "color": "#E5ECF6",
              "width": 0.5
             },
             "pattern": {
              "fillmode": "overlay",
              "size": 10,
              "solidity": 0.2
             }
            },
            "type": "barpolar"
           }
          ],
          "carpet": [
           {
            "aaxis": {
             "endlinecolor": "#2a3f5f",
             "gridcolor": "white",
             "linecolor": "white",
             "minorgridcolor": "white",
             "startlinecolor": "#2a3f5f"
            },
            "baxis": {
             "endlinecolor": "#2a3f5f",
             "gridcolor": "white",
             "linecolor": "white",
             "minorgridcolor": "white",
             "startlinecolor": "#2a3f5f"
            },
            "type": "carpet"
           }
          ],
          "choropleth": [
           {
            "colorbar": {
             "outlinewidth": 0,
             "ticks": ""
            },
            "type": "choropleth"
           }
          ],
          "contour": [
           {
            "colorbar": {
             "outlinewidth": 0,
             "ticks": ""
            },
            "colorscale": [
             [
              0,
              "#0d0887"
             ],
             [
              0.1111111111111111,
              "#46039f"
             ],
             [
              0.2222222222222222,
              "#7201a8"
             ],
             [
              0.3333333333333333,
              "#9c179e"
             ],
             [
              0.4444444444444444,
              "#bd3786"
             ],
             [
              0.5555555555555556,
              "#d8576b"
             ],
             [
              0.6666666666666666,
              "#ed7953"
             ],
             [
              0.7777777777777778,
              "#fb9f3a"
             ],
             [
              0.8888888888888888,
              "#fdca26"
             ],
             [
              1,
              "#f0f921"
             ]
            ],
            "type": "contour"
           }
          ],
          "contourcarpet": [
           {
            "colorbar": {
             "outlinewidth": 0,
             "ticks": ""
            },
            "type": "contourcarpet"
           }
          ],
          "heatmap": [
           {
            "colorbar": {
             "outlinewidth": 0,
             "ticks": ""
            },
            "colorscale": [
             [
              0,
              "#0d0887"
             ],
             [
              0.1111111111111111,
              "#46039f"
             ],
             [
              0.2222222222222222,
              "#7201a8"
             ],
             [
              0.3333333333333333,
              "#9c179e"
             ],
             [
              0.4444444444444444,
              "#bd3786"
             ],
             [
              0.5555555555555556,
              "#d8576b"
             ],
             [
              0.6666666666666666,
              "#ed7953"
             ],
             [
              0.7777777777777778,
              "#fb9f3a"
             ],
             [
              0.8888888888888888,
              "#fdca26"
             ],
             [
              1,
              "#f0f921"
             ]
            ],
            "type": "heatmap"
           }
          ],
          "heatmapgl": [
           {
            "colorbar": {
             "outlinewidth": 0,
             "ticks": ""
            },
            "colorscale": [
             [
              0,
              "#0d0887"
             ],
             [
              0.1111111111111111,
              "#46039f"
             ],
             [
              0.2222222222222222,
              "#7201a8"
             ],
             [
              0.3333333333333333,
              "#9c179e"
             ],
             [
              0.4444444444444444,
              "#bd3786"
             ],
             [
              0.5555555555555556,
              "#d8576b"
             ],
             [
              0.6666666666666666,
              "#ed7953"
             ],
             [
              0.7777777777777778,
              "#fb9f3a"
             ],
             [
              0.8888888888888888,
              "#fdca26"
             ],
             [
              1,
              "#f0f921"
             ]
            ],
            "type": "heatmapgl"
           }
          ],
          "histogram": [
           {
            "marker": {
             "pattern": {
              "fillmode": "overlay",
              "size": 10,
              "solidity": 0.2
             }
            },
            "type": "histogram"
           }
          ],
          "histogram2d": [
           {
            "colorbar": {
             "outlinewidth": 0,
             "ticks": ""
            },
            "colorscale": [
             [
              0,
              "#0d0887"
             ],
             [
              0.1111111111111111,
              "#46039f"
             ],
             [
              0.2222222222222222,
              "#7201a8"
             ],
             [
              0.3333333333333333,
              "#9c179e"
             ],
             [
              0.4444444444444444,
              "#bd3786"
             ],
             [
              0.5555555555555556,
              "#d8576b"
             ],
             [
              0.6666666666666666,
              "#ed7953"
             ],
             [
              0.7777777777777778,
              "#fb9f3a"
             ],
             [
              0.8888888888888888,
              "#fdca26"
             ],
             [
              1,
              "#f0f921"
             ]
            ],
            "type": "histogram2d"
           }
          ],
          "histogram2dcontour": [
           {
            "colorbar": {
             "outlinewidth": 0,
             "ticks": ""
            },
            "colorscale": [
             [
              0,
              "#0d0887"
             ],
             [
              0.1111111111111111,
              "#46039f"
             ],
             [
              0.2222222222222222,
              "#7201a8"
             ],
             [
              0.3333333333333333,
              "#9c179e"
             ],
             [
              0.4444444444444444,
              "#bd3786"
             ],
             [
              0.5555555555555556,
              "#d8576b"
             ],
             [
              0.6666666666666666,
              "#ed7953"
             ],
             [
              0.7777777777777778,
              "#fb9f3a"
             ],
             [
              0.8888888888888888,
              "#fdca26"
             ],
             [
              1,
              "#f0f921"
             ]
            ],
            "type": "histogram2dcontour"
           }
          ],
          "mesh3d": [
           {
            "colorbar": {
             "outlinewidth": 0,
             "ticks": ""
            },
            "type": "mesh3d"
           }
          ],
          "parcoords": [
           {
            "line": {
             "colorbar": {
              "outlinewidth": 0,
              "ticks": ""
             }
            },
            "type": "parcoords"
           }
          ],
          "pie": [
           {
            "automargin": true,
            "type": "pie"
           }
          ],
          "scatter": [
           {
            "fillpattern": {
             "fillmode": "overlay",
             "size": 10,
             "solidity": 0.2
            },
            "type": "scatter"
           }
          ],
          "scatter3d": [
           {
            "line": {
             "colorbar": {
              "outlinewidth": 0,
              "ticks": ""
             }
            },
            "marker": {
             "colorbar": {
              "outlinewidth": 0,
              "ticks": ""
             }
            },
            "type": "scatter3d"
           }
          ],
          "scattercarpet": [
           {
            "marker": {
             "colorbar": {
              "outlinewidth": 0,
              "ticks": ""
             }
            },
            "type": "scattercarpet"
           }
          ],
          "scattergeo": [
           {
            "marker": {
             "colorbar": {
              "outlinewidth": 0,
              "ticks": ""
             }
            },
            "type": "scattergeo"
           }
          ],
          "scattergl": [
           {
            "marker": {
             "colorbar": {
              "outlinewidth": 0,
              "ticks": ""
             }
            },
            "type": "scattergl"
           }
          ],
          "scattermapbox": [
           {
            "marker": {
             "colorbar": {
              "outlinewidth": 0,
              "ticks": ""
             }
            },
            "type": "scattermapbox"
           }
          ],
          "scatterpolar": [
           {
            "marker": {
             "colorbar": {
              "outlinewidth": 0,
              "ticks": ""
             }
            },
            "type": "scatterpolar"
           }
          ],
          "scatterpolargl": [
           {
            "marker": {
             "colorbar": {
              "outlinewidth": 0,
              "ticks": ""
             }
            },
            "type": "scatterpolargl"
           }
          ],
          "scatterternary": [
           {
            "marker": {
             "colorbar": {
              "outlinewidth": 0,
              "ticks": ""
             }
            },
            "type": "scatterternary"
           }
          ],
          "surface": [
           {
            "colorbar": {
             "outlinewidth": 0,
             "ticks": ""
            },
            "colorscale": [
             [
              0,
              "#0d0887"
             ],
             [
              0.1111111111111111,
              "#46039f"
             ],
             [
              0.2222222222222222,
              "#7201a8"
             ],
             [
              0.3333333333333333,
              "#9c179e"
             ],
             [
              0.4444444444444444,
              "#bd3786"
             ],
             [
              0.5555555555555556,
              "#d8576b"
             ],
             [
              0.6666666666666666,
              "#ed7953"
             ],
             [
              0.7777777777777778,
              "#fb9f3a"
             ],
             [
              0.8888888888888888,
              "#fdca26"
             ],
             [
              1,
              "#f0f921"
             ]
            ],
            "type": "surface"
           }
          ],
          "table": [
           {
            "cells": {
             "fill": {
              "color": "#EBF0F8"
             },
             "line": {
              "color": "white"
             }
            },
            "header": {
             "fill": {
              "color": "#C8D4E3"
             },
             "line": {
              "color": "white"
             }
            },
            "type": "table"
           }
          ]
         },
         "layout": {
          "annotationdefaults": {
           "arrowcolor": "#2a3f5f",
           "arrowhead": 0,
           "arrowwidth": 1
          },
          "autotypenumbers": "strict",
          "coloraxis": {
           "colorbar": {
            "outlinewidth": 0,
            "ticks": ""
           }
          },
          "colorscale": {
           "diverging": [
            [
             0,
             "#8e0152"
            ],
            [
             0.1,
             "#c51b7d"
            ],
            [
             0.2,
             "#de77ae"
            ],
            [
             0.3,
             "#f1b6da"
            ],
            [
             0.4,
             "#fde0ef"
            ],
            [
             0.5,
             "#f7f7f7"
            ],
            [
             0.6,
             "#e6f5d0"
            ],
            [
             0.7,
             "#b8e186"
            ],
            [
             0.8,
             "#7fbc41"
            ],
            [
             0.9,
             "#4d9221"
            ],
            [
             1,
             "#276419"
            ]
           ],
           "sequential": [
            [
             0,
             "#0d0887"
            ],
            [
             0.1111111111111111,
             "#46039f"
            ],
            [
             0.2222222222222222,
             "#7201a8"
            ],
            [
             0.3333333333333333,
             "#9c179e"
            ],
            [
             0.4444444444444444,
             "#bd3786"
            ],
            [
             0.5555555555555556,
             "#d8576b"
            ],
            [
             0.6666666666666666,
             "#ed7953"
            ],
            [
             0.7777777777777778,
             "#fb9f3a"
            ],
            [
             0.8888888888888888,
             "#fdca26"
            ],
            [
             1,
             "#f0f921"
            ]
           ],
           "sequentialminus": [
            [
             0,
             "#0d0887"
            ],
            [
             0.1111111111111111,
             "#46039f"
            ],
            [
             0.2222222222222222,
             "#7201a8"
            ],
            [
             0.3333333333333333,
             "#9c179e"
            ],
            [
             0.4444444444444444,
             "#bd3786"
            ],
            [
             0.5555555555555556,
             "#d8576b"
            ],
            [
             0.6666666666666666,
             "#ed7953"
            ],
            [
             0.7777777777777778,
             "#fb9f3a"
            ],
            [
             0.8888888888888888,
             "#fdca26"
            ],
            [
             1,
             "#f0f921"
            ]
           ]
          },
          "colorway": [
           "#636efa",
           "#EF553B",
           "#00cc96",
           "#ab63fa",
           "#FFA15A",
           "#19d3f3",
           "#FF6692",
           "#B6E880",
           "#FF97FF",
           "#FECB52"
          ],
          "font": {
           "color": "#2a3f5f"
          },
          "geo": {
           "bgcolor": "white",
           "lakecolor": "white",
           "landcolor": "#E5ECF6",
           "showlakes": true,
           "showland": true,
           "subunitcolor": "white"
          },
          "hoverlabel": {
           "align": "left"
          },
          "hovermode": "closest",
          "mapbox": {
           "style": "light"
          },
          "paper_bgcolor": "white",
          "plot_bgcolor": "#E5ECF6",
          "polar": {
           "angularaxis": {
            "gridcolor": "white",
            "linecolor": "white",
            "ticks": ""
           },
           "bgcolor": "#E5ECF6",
           "radialaxis": {
            "gridcolor": "white",
            "linecolor": "white",
            "ticks": ""
           }
          },
          "scene": {
           "xaxis": {
            "backgroundcolor": "#E5ECF6",
            "gridcolor": "white",
            "gridwidth": 2,
            "linecolor": "white",
            "showbackground": true,
            "ticks": "",
            "zerolinecolor": "white"
           },
           "yaxis": {
            "backgroundcolor": "#E5ECF6",
            "gridcolor": "white",
            "gridwidth": 2,
            "linecolor": "white",
            "showbackground": true,
            "ticks": "",
            "zerolinecolor": "white"
           },
           "zaxis": {
            "backgroundcolor": "#E5ECF6",
            "gridcolor": "white",
            "gridwidth": 2,
            "linecolor": "white",
            "showbackground": true,
            "ticks": "",
            "zerolinecolor": "white"
           }
          },
          "shapedefaults": {
           "line": {
            "color": "#2a3f5f"
           }
          },
          "ternary": {
           "aaxis": {
            "gridcolor": "white",
            "linecolor": "white",
            "ticks": ""
           },
           "baxis": {
            "gridcolor": "white",
            "linecolor": "white",
            "ticks": ""
           },
           "bgcolor": "#E5ECF6",
           "caxis": {
            "gridcolor": "white",
            "linecolor": "white",
            "ticks": ""
           }
          },
          "title": {
           "x": 0.05
          },
          "xaxis": {
           "automargin": true,
           "gridcolor": "white",
           "linecolor": "white",
           "ticks": "",
           "title": {
            "standoff": 15
           },
           "zerolinecolor": "white",
           "zerolinewidth": 2
          },
          "yaxis": {
           "automargin": true,
           "gridcolor": "white",
           "linecolor": "white",
           "ticks": "",
           "title": {
            "standoff": 15
           },
           "zerolinecolor": "white",
           "zerolinewidth": 2
          }
         }
        },
        "title": {
         "text": "Last/Bid Price overlayed with Deal Volume for '01 Mar 23 BEAN / Afgri  silo_5 ' Contract vs Upload Date"
        },
        "yaxis": {
         "tickfont": {
          "color": "#1f77b4"
         },
         "title": {
          "font": {
           "color": "#1f77b4"
          },
          "text": "Last/Bid Price"
         }
        },
        "yaxis2": {
         "anchor": "x",
         "overlaying": "y",
         "side": "right",
         "title": {
          "text": "Deals Count"
         }
        }
       }
      }
     },
     "metadata": {},
     "output_type": "display_data"
    },
    {
     "data": {
      "text/plain": [
       "<function __main__.filteringplotly(Market, Contract_Type)>"
      ]
     },
     "execution_count": 21,
     "metadata": {},
     "output_type": "execute_result"
    }
   ],
   "source": [
    "# Combining last/bid prices with the deal volume\n",
    "def filteringplotly(Market, Contract_Type):\n",
    "    A = df_New.loc[df_New['Market'] == Market, ('last', 'bid','upload_date','contract_type', 'deals')]\n",
    "    B = A.loc[A['contract_type'] == Contract_Type, ('last', 'bid', 'upload_date', 'deals')]\n",
    "\n",
    "    fig = go.Figure(data =[\n",
    "                    go.Bar(name = 'Last Price', x=B['upload_date'], y =B['last'], yaxis=\"y\"),\n",
    "                    go.Bar(name = 'Bid Price', x=B['upload_date'], y = B['bid'], yaxis=\"y\"),\n",
    "                    go.Scatter(name = 'Deals count', x=B['upload_date'], y = B['deals'], yaxis=\"y2\")\n",
    "                    ])\n",
    "    fig.update_layout( barmode = 'group', \n",
    "        title= f\"Last/Bid Price overlayed with Deal Volume for '{Contract_Type} / {Market}' Contract vs Upload Date\",\n",
    "    # create 1st y axis\n",
    "    yaxis=dict(\n",
    "    title=\"Last/Bid Price\",\n",
    "    titlefont=dict(color=\"#1f77b4\"),\n",
    "    tickfont=dict(color=\"#1f77b4\")),\n",
    "                      \n",
    "    # create 2nd y axis\n",
    "    yaxis2=dict(\n",
    "        title=\"Deals Count\",\n",
    "        anchor=\"x\", overlaying=\"y\", side=\"right\"))\n",
    "    \n",
    "    fig.show()\n",
    "\n",
    "widgets.interact(filteringplotly, Market = list1, Contract_Type = list4)"
   ]
  },
  {
   "cell_type": "code",
   "execution_count": 22,
   "id": "df38dc26",
   "metadata": {
    "scrolled": false
   },
   "outputs": [
    {
     "data": {
      "application/vnd.jupyter.widget-view+json": {
       "model_id": "9302ab0103d046c790b501268e68fcf5",
       "version_major": 2,
       "version_minor": 0
      },
      "text/plain": [
       "interactive(children=(Dropdown(description='Upload_Date', options=(numpy.datetime64('2023-05-05T00:00:00.00000…"
      ]
     },
     "metadata": {},
     "output_type": "display_data"
    },
    {
     "data": {
      "application/vnd.plotly.v1+json": {
       "config": {
        "plotlyServerURL": "https://plot.ly"
       },
       "data": [
        {
         "domain": {
          "x": [
           0,
           1
          ],
          "y": [
           0,
           1
          ]
         },
         "hovertemplate": "label=%{label}<br>value=%{value}<extra></extra>",
         "labels": [],
         "legendgroup": "",
         "name": "",
         "showlegend": true,
         "type": "pie",
         "values": []
        }
       ],
       "layout": {
        "legend": {
         "tracegroupgap": 0
        },
        "template": {
         "data": {
          "bar": [
           {
            "error_x": {
             "color": "#2a3f5f"
            },
            "error_y": {
             "color": "#2a3f5f"
            },
            "marker": {
             "line": {
              "color": "#E5ECF6",
              "width": 0.5
             },
             "pattern": {
              "fillmode": "overlay",
              "size": 10,
              "solidity": 0.2
             }
            },
            "type": "bar"
           }
          ],
          "barpolar": [
           {
            "marker": {
             "line": {
              "color": "#E5ECF6",
              "width": 0.5
             },
             "pattern": {
              "fillmode": "overlay",
              "size": 10,
              "solidity": 0.2
             }
            },
            "type": "barpolar"
           }
          ],
          "carpet": [
           {
            "aaxis": {
             "endlinecolor": "#2a3f5f",
             "gridcolor": "white",
             "linecolor": "white",
             "minorgridcolor": "white",
             "startlinecolor": "#2a3f5f"
            },
            "baxis": {
             "endlinecolor": "#2a3f5f",
             "gridcolor": "white",
             "linecolor": "white",
             "minorgridcolor": "white",
             "startlinecolor": "#2a3f5f"
            },
            "type": "carpet"
           }
          ],
          "choropleth": [
           {
            "colorbar": {
             "outlinewidth": 0,
             "ticks": ""
            },
            "type": "choropleth"
           }
          ],
          "contour": [
           {
            "colorbar": {
             "outlinewidth": 0,
             "ticks": ""
            },
            "colorscale": [
             [
              0,
              "#0d0887"
             ],
             [
              0.1111111111111111,
              "#46039f"
             ],
             [
              0.2222222222222222,
              "#7201a8"
             ],
             [
              0.3333333333333333,
              "#9c179e"
             ],
             [
              0.4444444444444444,
              "#bd3786"
             ],
             [
              0.5555555555555556,
              "#d8576b"
             ],
             [
              0.6666666666666666,
              "#ed7953"
             ],
             [
              0.7777777777777778,
              "#fb9f3a"
             ],
             [
              0.8888888888888888,
              "#fdca26"
             ],
             [
              1,
              "#f0f921"
             ]
            ],
            "type": "contour"
           }
          ],
          "contourcarpet": [
           {
            "colorbar": {
             "outlinewidth": 0,
             "ticks": ""
            },
            "type": "contourcarpet"
           }
          ],
          "heatmap": [
           {
            "colorbar": {
             "outlinewidth": 0,
             "ticks": ""
            },
            "colorscale": [
             [
              0,
              "#0d0887"
             ],
             [
              0.1111111111111111,
              "#46039f"
             ],
             [
              0.2222222222222222,
              "#7201a8"
             ],
             [
              0.3333333333333333,
              "#9c179e"
             ],
             [
              0.4444444444444444,
              "#bd3786"
             ],
             [
              0.5555555555555556,
              "#d8576b"
             ],
             [
              0.6666666666666666,
              "#ed7953"
             ],
             [
              0.7777777777777778,
              "#fb9f3a"
             ],
             [
              0.8888888888888888,
              "#fdca26"
             ],
             [
              1,
              "#f0f921"
             ]
            ],
            "type": "heatmap"
           }
          ],
          "heatmapgl": [
           {
            "colorbar": {
             "outlinewidth": 0,
             "ticks": ""
            },
            "colorscale": [
             [
              0,
              "#0d0887"
             ],
             [
              0.1111111111111111,
              "#46039f"
             ],
             [
              0.2222222222222222,
              "#7201a8"
             ],
             [
              0.3333333333333333,
              "#9c179e"
             ],
             [
              0.4444444444444444,
              "#bd3786"
             ],
             [
              0.5555555555555556,
              "#d8576b"
             ],
             [
              0.6666666666666666,
              "#ed7953"
             ],
             [
              0.7777777777777778,
              "#fb9f3a"
             ],
             [
              0.8888888888888888,
              "#fdca26"
             ],
             [
              1,
              "#f0f921"
             ]
            ],
            "type": "heatmapgl"
           }
          ],
          "histogram": [
           {
            "marker": {
             "pattern": {
              "fillmode": "overlay",
              "size": 10,
              "solidity": 0.2
             }
            },
            "type": "histogram"
           }
          ],
          "histogram2d": [
           {
            "colorbar": {
             "outlinewidth": 0,
             "ticks": ""
            },
            "colorscale": [
             [
              0,
              "#0d0887"
             ],
             [
              0.1111111111111111,
              "#46039f"
             ],
             [
              0.2222222222222222,
              "#7201a8"
             ],
             [
              0.3333333333333333,
              "#9c179e"
             ],
             [
              0.4444444444444444,
              "#bd3786"
             ],
             [
              0.5555555555555556,
              "#d8576b"
             ],
             [
              0.6666666666666666,
              "#ed7953"
             ],
             [
              0.7777777777777778,
              "#fb9f3a"
             ],
             [
              0.8888888888888888,
              "#fdca26"
             ],
             [
              1,
              "#f0f921"
             ]
            ],
            "type": "histogram2d"
           }
          ],
          "histogram2dcontour": [
           {
            "colorbar": {
             "outlinewidth": 0,
             "ticks": ""
            },
            "colorscale": [
             [
              0,
              "#0d0887"
             ],
             [
              0.1111111111111111,
              "#46039f"
             ],
             [
              0.2222222222222222,
              "#7201a8"
             ],
             [
              0.3333333333333333,
              "#9c179e"
             ],
             [
              0.4444444444444444,
              "#bd3786"
             ],
             [
              0.5555555555555556,
              "#d8576b"
             ],
             [
              0.6666666666666666,
              "#ed7953"
             ],
             [
              0.7777777777777778,
              "#fb9f3a"
             ],
             [
              0.8888888888888888,
              "#fdca26"
             ],
             [
              1,
              "#f0f921"
             ]
            ],
            "type": "histogram2dcontour"
           }
          ],
          "mesh3d": [
           {
            "colorbar": {
             "outlinewidth": 0,
             "ticks": ""
            },
            "type": "mesh3d"
           }
          ],
          "parcoords": [
           {
            "line": {
             "colorbar": {
              "outlinewidth": 0,
              "ticks": ""
             }
            },
            "type": "parcoords"
           }
          ],
          "pie": [
           {
            "automargin": true,
            "type": "pie"
           }
          ],
          "scatter": [
           {
            "fillpattern": {
             "fillmode": "overlay",
             "size": 10,
             "solidity": 0.2
            },
            "type": "scatter"
           }
          ],
          "scatter3d": [
           {
            "line": {
             "colorbar": {
              "outlinewidth": 0,
              "ticks": ""
             }
            },
            "marker": {
             "colorbar": {
              "outlinewidth": 0,
              "ticks": ""
             }
            },
            "type": "scatter3d"
           }
          ],
          "scattercarpet": [
           {
            "marker": {
             "colorbar": {
              "outlinewidth": 0,
              "ticks": ""
             }
            },
            "type": "scattercarpet"
           }
          ],
          "scattergeo": [
           {
            "marker": {
             "colorbar": {
              "outlinewidth": 0,
              "ticks": ""
             }
            },
            "type": "scattergeo"
           }
          ],
          "scattergl": [
           {
            "marker": {
             "colorbar": {
              "outlinewidth": 0,
              "ticks": ""
             }
            },
            "type": "scattergl"
           }
          ],
          "scattermapbox": [
           {
            "marker": {
             "colorbar": {
              "outlinewidth": 0,
              "ticks": ""
             }
            },
            "type": "scattermapbox"
           }
          ],
          "scatterpolar": [
           {
            "marker": {
             "colorbar": {
              "outlinewidth": 0,
              "ticks": ""
             }
            },
            "type": "scatterpolar"
           }
          ],
          "scatterpolargl": [
           {
            "marker": {
             "colorbar": {
              "outlinewidth": 0,
              "ticks": ""
             }
            },
            "type": "scatterpolargl"
           }
          ],
          "scatterternary": [
           {
            "marker": {
             "colorbar": {
              "outlinewidth": 0,
              "ticks": ""
             }
            },
            "type": "scatterternary"
           }
          ],
          "surface": [
           {
            "colorbar": {
             "outlinewidth": 0,
             "ticks": ""
            },
            "colorscale": [
             [
              0,
              "#0d0887"
             ],
             [
              0.1111111111111111,
              "#46039f"
             ],
             [
              0.2222222222222222,
              "#7201a8"
             ],
             [
              0.3333333333333333,
              "#9c179e"
             ],
             [
              0.4444444444444444,
              "#bd3786"
             ],
             [
              0.5555555555555556,
              "#d8576b"
             ],
             [
              0.6666666666666666,
              "#ed7953"
             ],
             [
              0.7777777777777778,
              "#fb9f3a"
             ],
             [
              0.8888888888888888,
              "#fdca26"
             ],
             [
              1,
              "#f0f921"
             ]
            ],
            "type": "surface"
           }
          ],
          "table": [
           {
            "cells": {
             "fill": {
              "color": "#EBF0F8"
             },
             "line": {
              "color": "white"
             }
            },
            "header": {
             "fill": {
              "color": "#C8D4E3"
             },
             "line": {
              "color": "white"
             }
            },
            "type": "table"
           }
          ]
         },
         "layout": {
          "annotationdefaults": {
           "arrowcolor": "#2a3f5f",
           "arrowhead": 0,
           "arrowwidth": 1
          },
          "autotypenumbers": "strict",
          "coloraxis": {
           "colorbar": {
            "outlinewidth": 0,
            "ticks": ""
           }
          },
          "colorscale": {
           "diverging": [
            [
             0,
             "#8e0152"
            ],
            [
             0.1,
             "#c51b7d"
            ],
            [
             0.2,
             "#de77ae"
            ],
            [
             0.3,
             "#f1b6da"
            ],
            [
             0.4,
             "#fde0ef"
            ],
            [
             0.5,
             "#f7f7f7"
            ],
            [
             0.6,
             "#e6f5d0"
            ],
            [
             0.7,
             "#b8e186"
            ],
            [
             0.8,
             "#7fbc41"
            ],
            [
             0.9,
             "#4d9221"
            ],
            [
             1,
             "#276419"
            ]
           ],
           "sequential": [
            [
             0,
             "#0d0887"
            ],
            [
             0.1111111111111111,
             "#46039f"
            ],
            [
             0.2222222222222222,
             "#7201a8"
            ],
            [
             0.3333333333333333,
             "#9c179e"
            ],
            [
             0.4444444444444444,
             "#bd3786"
            ],
            [
             0.5555555555555556,
             "#d8576b"
            ],
            [
             0.6666666666666666,
             "#ed7953"
            ],
            [
             0.7777777777777778,
             "#fb9f3a"
            ],
            [
             0.8888888888888888,
             "#fdca26"
            ],
            [
             1,
             "#f0f921"
            ]
           ],
           "sequentialminus": [
            [
             0,
             "#0d0887"
            ],
            [
             0.1111111111111111,
             "#46039f"
            ],
            [
             0.2222222222222222,
             "#7201a8"
            ],
            [
             0.3333333333333333,
             "#9c179e"
            ],
            [
             0.4444444444444444,
             "#bd3786"
            ],
            [
             0.5555555555555556,
             "#d8576b"
            ],
            [
             0.6666666666666666,
             "#ed7953"
            ],
            [
             0.7777777777777778,
             "#fb9f3a"
            ],
            [
             0.8888888888888888,
             "#fdca26"
            ],
            [
             1,
             "#f0f921"
            ]
           ]
          },
          "colorway": [
           "#636efa",
           "#EF553B",
           "#00cc96",
           "#ab63fa",
           "#FFA15A",
           "#19d3f3",
           "#FF6692",
           "#B6E880",
           "#FF97FF",
           "#FECB52"
          ],
          "font": {
           "color": "#2a3f5f"
          },
          "geo": {
           "bgcolor": "white",
           "lakecolor": "white",
           "landcolor": "#E5ECF6",
           "showlakes": true,
           "showland": true,
           "subunitcolor": "white"
          },
          "hoverlabel": {
           "align": "left"
          },
          "hovermode": "closest",
          "mapbox": {
           "style": "light"
          },
          "paper_bgcolor": "white",
          "plot_bgcolor": "#E5ECF6",
          "polar": {
           "angularaxis": {
            "gridcolor": "white",
            "linecolor": "white",
            "ticks": ""
           },
           "bgcolor": "#E5ECF6",
           "radialaxis": {
            "gridcolor": "white",
            "linecolor": "white",
            "ticks": ""
           }
          },
          "scene": {
           "xaxis": {
            "backgroundcolor": "#E5ECF6",
            "gridcolor": "white",
            "gridwidth": 2,
            "linecolor": "white",
            "showbackground": true,
            "ticks": "",
            "zerolinecolor": "white"
           },
           "yaxis": {
            "backgroundcolor": "#E5ECF6",
            "gridcolor": "white",
            "gridwidth": 2,
            "linecolor": "white",
            "showbackground": true,
            "ticks": "",
            "zerolinecolor": "white"
           },
           "zaxis": {
            "backgroundcolor": "#E5ECF6",
            "gridcolor": "white",
            "gridwidth": 2,
            "linecolor": "white",
            "showbackground": true,
            "ticks": "",
            "zerolinecolor": "white"
           }
          },
          "shapedefaults": {
           "line": {
            "color": "#2a3f5f"
           }
          },
          "ternary": {
           "aaxis": {
            "gridcolor": "white",
            "linecolor": "white",
            "ticks": ""
           },
           "baxis": {
            "gridcolor": "white",
            "linecolor": "white",
            "ticks": ""
           },
           "bgcolor": "#E5ECF6",
           "caxis": {
            "gridcolor": "white",
            "linecolor": "white",
            "ticks": ""
           }
          },
          "title": {
           "x": 0.05
          },
          "xaxis": {
           "automargin": true,
           "gridcolor": "white",
           "linecolor": "white",
           "ticks": "",
           "title": {
            "standoff": 15
           },
           "zerolinecolor": "white",
           "zerolinewidth": 2
          },
          "yaxis": {
           "automargin": true,
           "gridcolor": "white",
           "linecolor": "white",
           "ticks": "",
           "title": {
            "standoff": 15
           },
           "zerolinecolor": "white",
           "zerolinewidth": 2
          }
         }
        },
        "title": {
         "text": "Market Segementation by Number of Deals; (Total Number of Deals for \"01 Mar 23 BEAN\" = 0.0)"
        }
       }
      }
     },
     "metadata": {},
     "output_type": "display_data"
    },
    {
     "data": {
      "text/plain": [
       "<function __main__.MarketSegment(Upload_Date, Contract_Type)>"
      ]
     },
     "execution_count": 22,
     "metadata": {},
     "output_type": "execute_result"
    }
   ],
   "source": [
    "\n",
    "\n",
    "\n",
    "def MarketSegment(Upload_Date, Contract_Type ):\n",
    "    Grouped = df.groupby(['upload_date','contract_type','Market'])['deals'].sum().rename('Deals').reset_index()\n",
    "\n",
    "    Segment1 = Grouped.loc[Grouped['upload_date'] == Upload_Date, ('Market', 'Deals','contract_type')]\n",
    "    Segment = Segment1.loc[Segment1['contract_type'] == Contract_Type , ('Market', 'Deals')]\n",
    "    Total = Segment['Deals'].sum()\n",
    "    fig = px.pie(values=Segment['Deals'], names= Segment['Market'], \n",
    "                 title= f'Market Segementation by Number of Deals; (Total Number of Deals for \"{Contract_Type}\" = {Total})')\n",
    "    fig.show()\n",
    "\n",
    "widgets.interact(MarketSegment,Upload_Date = list3, Contract_Type = list4 )"
   ]
  },
  {
   "cell_type": "code",
   "execution_count": null,
   "id": "9936a576",
   "metadata": {},
   "outputs": [],
   "source": []
  },
  {
   "attachments": {},
   "cell_type": "markdown",
   "id": "af090d3a",
   "metadata": {},
   "source": [
    "### Suggested further improvement in the above charts:\n",
    "    Once a contract date is equal to the current date, it should vanish from the chart."
   ]
  },
  {
   "cell_type": "code",
   "execution_count": null,
   "id": "3a422dcb",
   "metadata": {},
   "outputs": [],
   "source": []
  },
  {
   "cell_type": "code",
   "execution_count": null,
   "id": "5311fa64",
   "metadata": {},
   "outputs": [],
   "source": []
  },
  {
   "cell_type": "code",
   "execution_count": null,
   "id": "ed6fce14",
   "metadata": {},
   "outputs": [],
   "source": []
  },
  {
   "cell_type": "code",
   "execution_count": null,
   "id": "20bf9c6a",
   "metadata": {},
   "outputs": [],
   "source": []
  },
  {
   "attachments": {},
   "cell_type": "markdown",
   "id": "e8b3c133",
   "metadata": {},
   "source": [
    "\n",
    "for i, row in df1.iterrows():\n",
    "    if df1.loc[i, :].isnull().sum() > 5:\n",
    "        df1.drop([i], inplace=True)\n",
    "    if df1.loc[[i], ['Units']] == np.nan:\n",
    "        df1.sales[d.sales==24] = 100\n",
    "        \n",
    "df1"
   ]
  },
  {
   "cell_type": "code",
   "execution_count": null,
   "id": "a4b31fdf",
   "metadata": {},
   "outputs": [],
   "source": []
  },
  {
   "cell_type": "code",
   "execution_count": null,
   "id": "b20532f4",
   "metadata": {},
   "outputs": [],
   "source": []
  },
  {
   "cell_type": "code",
   "execution_count": null,
   "id": "b304dc7f",
   "metadata": {},
   "outputs": [],
   "source": []
  },
  {
   "cell_type": "code",
   "execution_count": null,
   "id": "6574acf1",
   "metadata": {},
   "outputs": [],
   "source": []
  },
  {
   "attachments": {},
   "cell_type": "markdown",
   "id": "88402a3e",
   "metadata": {},
   "source": [
    "df = pd.DataFrame(\n",
    "    np.array([[1, 2, 3], [4, 5, np.nan], [7, 8, 9], [3, 2, np.nan], [5, 6, np.nan]]), \n",
    "    columns=['a', 'b', 'c']\n",
    ")\n",
    "df\n"
   ]
  },
  {
   "attachments": {},
   "cell_type": "markdown",
   "id": "e3869fa4",
   "metadata": {},
   "source": [
    "df['c'] = df.apply(\n",
    "    lambda row: row['a']*row['b'] if np.isnan(row['c']) else row['c'],\n",
    "    axis=1\n",
    ")\n",
    "df\n"
   ]
  },
  {
   "cell_type": "code",
   "execution_count": 23,
   "id": "d54387db",
   "metadata": {},
   "outputs": [
    {
     "data": {
      "text/html": [
       "<div>\n",
       "<style scoped>\n",
       "    .dataframe tbody tr th:only-of-type {\n",
       "        vertical-align: middle;\n",
       "    }\n",
       "\n",
       "    .dataframe tbody tr th {\n",
       "        vertical-align: top;\n",
       "    }\n",
       "\n",
       "    .dataframe thead th {\n",
       "        text-align: right;\n",
       "    }\n",
       "</style>\n",
       "<table border=\"1\" class=\"dataframe\">\n",
       "  <thead>\n",
       "    <tr style=\"text-align: right;\">\n",
       "      <th></th>\n",
       "      <th>class</th>\n",
       "      <th>units</th>\n",
       "      <th>avg_mass</th>\n",
       "      <th>avg_purch</th>\n",
       "      <th>avg_selling</th>\n",
       "      <th>selling_min</th>\n",
       "      <th>selling_max</th>\n",
       "      <th>date_from</th>\n",
       "      <th>date_to</th>\n",
       "    </tr>\n",
       "  </thead>\n",
       "  <tbody>\n",
       "    <tr>\n",
       "      <th>0</th>\n",
       "      <td>A0</td>\n",
       "      <td>23</td>\n",
       "      <td>13.07</td>\n",
       "      <td>75.98</td>\n",
       "      <td>83.90</td>\n",
       "      <td>81.21</td>\n",
       "      <td>87.00</td>\n",
       "      <td>2022-05-30</td>\n",
       "      <td>2022-06-05</td>\n",
       "    </tr>\n",
       "    <tr>\n",
       "      <th>1</th>\n",
       "      <td>A1</td>\n",
       "      <td>338</td>\n",
       "      <td>15.60</td>\n",
       "      <td>110.22</td>\n",
       "      <td>107.52</td>\n",
       "      <td>105.74</td>\n",
       "      <td>107.90</td>\n",
       "      <td>2022-05-30</td>\n",
       "      <td>2022-06-05</td>\n",
       "    </tr>\n",
       "    <tr>\n",
       "      <th>2</th>\n",
       "      <td>A2</td>\n",
       "      <td>5782</td>\n",
       "      <td>19.97</td>\n",
       "      <td>103.88</td>\n",
       "      <td>106.26</td>\n",
       "      <td>103.99</td>\n",
       "      <td>106.83</td>\n",
       "      <td>2022-05-30</td>\n",
       "      <td>2022-06-05</td>\n",
       "    </tr>\n",
       "    <tr>\n",
       "      <th>3</th>\n",
       "      <td>A3</td>\n",
       "      <td>846</td>\n",
       "      <td>21.98</td>\n",
       "      <td>103.21</td>\n",
       "      <td>102.47</td>\n",
       "      <td>102.19</td>\n",
       "      <td>103.25</td>\n",
       "      <td>2022-05-30</td>\n",
       "      <td>2022-06-05</td>\n",
       "    </tr>\n",
       "    <tr>\n",
       "      <th>4</th>\n",
       "      <td>A4</td>\n",
       "      <td>247</td>\n",
       "      <td>21.49</td>\n",
       "      <td>94.50</td>\n",
       "      <td>92.43</td>\n",
       "      <td>91.81</td>\n",
       "      <td>92.58</td>\n",
       "      <td>2022-05-30</td>\n",
       "      <td>2022-06-05</td>\n",
       "    </tr>\n",
       "    <tr>\n",
       "      <th>...</th>\n",
       "      <td>...</td>\n",
       "      <td>...</td>\n",
       "      <td>...</td>\n",
       "      <td>...</td>\n",
       "      <td>...</td>\n",
       "      <td>...</td>\n",
       "      <td>...</td>\n",
       "      <td>...</td>\n",
       "      <td>...</td>\n",
       "    </tr>\n",
       "    <tr>\n",
       "      <th>863</th>\n",
       "      <td>AB3</td>\n",
       "      <td>2</td>\n",
       "      <td>21.40</td>\n",
       "      <td>72.19</td>\n",
       "      <td>74.49</td>\n",
       "      <td>74.00</td>\n",
       "      <td>75.00</td>\n",
       "      <td>2022-02-07</td>\n",
       "      <td>2022-02-13</td>\n",
       "    </tr>\n",
       "    <tr>\n",
       "      <th>864</th>\n",
       "      <td>B2</td>\n",
       "      <td>26</td>\n",
       "      <td>24.28</td>\n",
       "      <td>71.47</td>\n",
       "      <td>75.26</td>\n",
       "      <td>73.66</td>\n",
       "      <td>79.04</td>\n",
       "      <td>2022-02-07</td>\n",
       "      <td>2022-02-13</td>\n",
       "    </tr>\n",
       "    <tr>\n",
       "      <th>865</th>\n",
       "      <td>B3</td>\n",
       "      <td>1</td>\n",
       "      <td>23.50</td>\n",
       "      <td>76.00</td>\n",
       "      <td>78.00</td>\n",
       "      <td>78.00</td>\n",
       "      <td>78.00</td>\n",
       "      <td>2022-02-07</td>\n",
       "      <td>2022-02-13</td>\n",
       "    </tr>\n",
       "    <tr>\n",
       "      <th>866</th>\n",
       "      <td>C2</td>\n",
       "      <td>338</td>\n",
       "      <td>22.89</td>\n",
       "      <td>71.70</td>\n",
       "      <td>75.00</td>\n",
       "      <td>71.99</td>\n",
       "      <td>77.97</td>\n",
       "      <td>2022-02-07</td>\n",
       "      <td>2022-02-13</td>\n",
       "    </tr>\n",
       "    <tr>\n",
       "      <th>867</th>\n",
       "      <td>C3</td>\n",
       "      <td>46</td>\n",
       "      <td>23.06</td>\n",
       "      <td>70.17</td>\n",
       "      <td>72.49</td>\n",
       "      <td>72.00</td>\n",
       "      <td>74.12</td>\n",
       "      <td>2022-02-07</td>\n",
       "      <td>2022-02-13</td>\n",
       "    </tr>\n",
       "  </tbody>\n",
       "</table>\n",
       "<p>868 rows × 9 columns</p>\n",
       "</div>"
      ],
      "text/plain": [
       "    class  units  avg_mass  avg_purch  avg_selling  selling_min  selling_max  \\\n",
       "0      A0     23     13.07      75.98        83.90        81.21        87.00   \n",
       "1      A1    338     15.60     110.22       107.52       105.74       107.90   \n",
       "2      A2   5782     19.97     103.88       106.26       103.99       106.83   \n",
       "3      A3    846     21.98     103.21       102.47       102.19       103.25   \n",
       "4      A4    247     21.49      94.50        92.43        91.81        92.58   \n",
       "..    ...    ...       ...        ...          ...          ...          ...   \n",
       "863   AB3      2     21.40      72.19        74.49        74.00        75.00   \n",
       "864    B2     26     24.28      71.47        75.26        73.66        79.04   \n",
       "865    B3      1     23.50      76.00        78.00        78.00        78.00   \n",
       "866    C2    338     22.89      71.70        75.00        71.99        77.97   \n",
       "867    C3     46     23.06      70.17        72.49        72.00        74.12   \n",
       "\n",
       "      date_from     date_to  \n",
       "0    2022-05-30  2022-06-05  \n",
       "1    2022-05-30  2022-06-05  \n",
       "2    2022-05-30  2022-06-05  \n",
       "3    2022-05-30  2022-06-05  \n",
       "4    2022-05-30  2022-06-05  \n",
       "..          ...         ...  \n",
       "863  2022-02-07  2022-02-13  \n",
       "864  2022-02-07  2022-02-13  \n",
       "865  2022-02-07  2022-02-13  \n",
       "866  2022-02-07  2022-02-13  \n",
       "867  2022-02-07  2022-02-13  \n",
       "\n",
       "[868 rows x 9 columns]"
      ]
     },
     "execution_count": 23,
     "metadata": {},
     "output_type": "execute_result"
    }
   ],
   "source": [
    "# Rendering the Sheep subset of the livestock dataset in a dataframe\n",
    "df2_1_raw = pd.read_csv('../tests/Final_Output/Livestock_Sheep_2023-05-09.csv')\n",
    "list2_1 = [0]\n",
    "df2_1 = df2_1_raw[df2_1_raw.avg_purch.isin(list2_1) == False].reset_index(drop = True)\n",
    "df2_1\n"
   ]
  },
  {
   "cell_type": "code",
   "execution_count": 24,
   "id": "6313d408",
   "metadata": {},
   "outputs": [
    {
     "name": "stdout",
     "output_type": "stream",
     "text": [
      "<class 'pandas.core.frame.DataFrame'>\n",
      "RangeIndex: 868 entries, 0 to 867\n",
      "Data columns (total 9 columns):\n",
      " #   Column       Non-Null Count  Dtype  \n",
      "---  ------       --------------  -----  \n",
      " 0   class        868 non-null    object \n",
      " 1   units        868 non-null    int64  \n",
      " 2   avg_mass     868 non-null    float64\n",
      " 3   avg_purch    868 non-null    float64\n",
      " 4   avg_selling  868 non-null    float64\n",
      " 5   selling_min  868 non-null    float64\n",
      " 6   selling_max  868 non-null    float64\n",
      " 7   date_from    868 non-null    object \n",
      " 8   date_to      868 non-null    object \n",
      "dtypes: float64(5), int64(1), object(3)\n",
      "memory usage: 61.2+ KB\n"
     ]
    }
   ],
   "source": [
    "df2_1.info()"
   ]
  },
  {
   "cell_type": "code",
   "execution_count": 25,
   "id": "e08b739c",
   "metadata": {},
   "outputs": [
    {
     "data": {
      "text/plain": [
       "class          0\n",
       "units          0\n",
       "avg_mass       0\n",
       "avg_purch      0\n",
       "avg_selling    0\n",
       "selling_min    0\n",
       "selling_max    0\n",
       "date_from      0\n",
       "date_to        0\n",
       "dtype: int64"
      ]
     },
     "execution_count": 25,
     "metadata": {},
     "output_type": "execute_result"
    }
   ],
   "source": [
    "df2_1.isnull().sum()"
   ]
  },
  {
   "cell_type": "code",
   "execution_count": 26,
   "id": "41de2ba8",
   "metadata": {},
   "outputs": [
    {
     "data": {
      "text/html": [
       "<div>\n",
       "<style scoped>\n",
       "    .dataframe tbody tr th:only-of-type {\n",
       "        vertical-align: middle;\n",
       "    }\n",
       "\n",
       "    .dataframe tbody tr th {\n",
       "        vertical-align: top;\n",
       "    }\n",
       "\n",
       "    .dataframe thead th {\n",
       "        text-align: right;\n",
       "    }\n",
       "</style>\n",
       "<table border=\"1\" class=\"dataframe\">\n",
       "  <thead>\n",
       "    <tr style=\"text-align: right;\">\n",
       "      <th></th>\n",
       "      <th>Sheep_Class</th>\n",
       "      <th>units</th>\n",
       "      <th>avg_mass</th>\n",
       "      <th>avg_purch</th>\n",
       "      <th>avg_selling</th>\n",
       "      <th>selling_min</th>\n",
       "      <th>selling_max</th>\n",
       "      <th>date_from</th>\n",
       "      <th>date_to</th>\n",
       "    </tr>\n",
       "  </thead>\n",
       "  <tbody>\n",
       "    <tr>\n",
       "      <th>0</th>\n",
       "      <td>A0</td>\n",
       "      <td>23</td>\n",
       "      <td>13.07</td>\n",
       "      <td>75.98</td>\n",
       "      <td>83.90</td>\n",
       "      <td>81.21</td>\n",
       "      <td>87.00</td>\n",
       "      <td>2022-05-30</td>\n",
       "      <td>2022-06-05</td>\n",
       "    </tr>\n",
       "    <tr>\n",
       "      <th>1</th>\n",
       "      <td>A1</td>\n",
       "      <td>338</td>\n",
       "      <td>15.60</td>\n",
       "      <td>110.22</td>\n",
       "      <td>107.52</td>\n",
       "      <td>105.74</td>\n",
       "      <td>107.90</td>\n",
       "      <td>2022-05-30</td>\n",
       "      <td>2022-06-05</td>\n",
       "    </tr>\n",
       "    <tr>\n",
       "      <th>2</th>\n",
       "      <td>A2</td>\n",
       "      <td>5782</td>\n",
       "      <td>19.97</td>\n",
       "      <td>103.88</td>\n",
       "      <td>106.26</td>\n",
       "      <td>103.99</td>\n",
       "      <td>106.83</td>\n",
       "      <td>2022-05-30</td>\n",
       "      <td>2022-06-05</td>\n",
       "    </tr>\n",
       "    <tr>\n",
       "      <th>3</th>\n",
       "      <td>A3</td>\n",
       "      <td>846</td>\n",
       "      <td>21.98</td>\n",
       "      <td>103.21</td>\n",
       "      <td>102.47</td>\n",
       "      <td>102.19</td>\n",
       "      <td>103.25</td>\n",
       "      <td>2022-05-30</td>\n",
       "      <td>2022-06-05</td>\n",
       "    </tr>\n",
       "    <tr>\n",
       "      <th>4</th>\n",
       "      <td>A4</td>\n",
       "      <td>247</td>\n",
       "      <td>21.49</td>\n",
       "      <td>94.50</td>\n",
       "      <td>92.43</td>\n",
       "      <td>91.81</td>\n",
       "      <td>92.58</td>\n",
       "      <td>2022-05-30</td>\n",
       "      <td>2022-06-05</td>\n",
       "    </tr>\n",
       "    <tr>\n",
       "      <th>...</th>\n",
       "      <td>...</td>\n",
       "      <td>...</td>\n",
       "      <td>...</td>\n",
       "      <td>...</td>\n",
       "      <td>...</td>\n",
       "      <td>...</td>\n",
       "      <td>...</td>\n",
       "      <td>...</td>\n",
       "      <td>...</td>\n",
       "    </tr>\n",
       "    <tr>\n",
       "      <th>863</th>\n",
       "      <td>AB3</td>\n",
       "      <td>2</td>\n",
       "      <td>21.40</td>\n",
       "      <td>72.19</td>\n",
       "      <td>74.49</td>\n",
       "      <td>74.00</td>\n",
       "      <td>75.00</td>\n",
       "      <td>2022-02-07</td>\n",
       "      <td>2022-02-13</td>\n",
       "    </tr>\n",
       "    <tr>\n",
       "      <th>864</th>\n",
       "      <td>B2</td>\n",
       "      <td>26</td>\n",
       "      <td>24.28</td>\n",
       "      <td>71.47</td>\n",
       "      <td>75.26</td>\n",
       "      <td>73.66</td>\n",
       "      <td>79.04</td>\n",
       "      <td>2022-02-07</td>\n",
       "      <td>2022-02-13</td>\n",
       "    </tr>\n",
       "    <tr>\n",
       "      <th>865</th>\n",
       "      <td>B3</td>\n",
       "      <td>1</td>\n",
       "      <td>23.50</td>\n",
       "      <td>76.00</td>\n",
       "      <td>78.00</td>\n",
       "      <td>78.00</td>\n",
       "      <td>78.00</td>\n",
       "      <td>2022-02-07</td>\n",
       "      <td>2022-02-13</td>\n",
       "    </tr>\n",
       "    <tr>\n",
       "      <th>866</th>\n",
       "      <td>C2</td>\n",
       "      <td>338</td>\n",
       "      <td>22.89</td>\n",
       "      <td>71.70</td>\n",
       "      <td>75.00</td>\n",
       "      <td>71.99</td>\n",
       "      <td>77.97</td>\n",
       "      <td>2022-02-07</td>\n",
       "      <td>2022-02-13</td>\n",
       "    </tr>\n",
       "    <tr>\n",
       "      <th>867</th>\n",
       "      <td>C3</td>\n",
       "      <td>46</td>\n",
       "      <td>23.06</td>\n",
       "      <td>70.17</td>\n",
       "      <td>72.49</td>\n",
       "      <td>72.00</td>\n",
       "      <td>74.12</td>\n",
       "      <td>2022-02-07</td>\n",
       "      <td>2022-02-13</td>\n",
       "    </tr>\n",
       "  </tbody>\n",
       "</table>\n",
       "<p>868 rows × 9 columns</p>\n",
       "</div>"
      ],
      "text/plain": [
       "    Sheep_Class  units  avg_mass  avg_purch  avg_selling  selling_min  \\\n",
       "0            A0     23     13.07      75.98        83.90        81.21   \n",
       "1            A1    338     15.60     110.22       107.52       105.74   \n",
       "2            A2   5782     19.97     103.88       106.26       103.99   \n",
       "3            A3    846     21.98     103.21       102.47       102.19   \n",
       "4            A4    247     21.49      94.50        92.43        91.81   \n",
       "..          ...    ...       ...        ...          ...          ...   \n",
       "863         AB3      2     21.40      72.19        74.49        74.00   \n",
       "864          B2     26     24.28      71.47        75.26        73.66   \n",
       "865          B3      1     23.50      76.00        78.00        78.00   \n",
       "866          C2    338     22.89      71.70        75.00        71.99   \n",
       "867          C3     46     23.06      70.17        72.49        72.00   \n",
       "\n",
       "     selling_max  date_from    date_to  \n",
       "0          87.00 2022-05-30 2022-06-05  \n",
       "1         107.90 2022-05-30 2022-06-05  \n",
       "2         106.83 2022-05-30 2022-06-05  \n",
       "3         103.25 2022-05-30 2022-06-05  \n",
       "4          92.58 2022-05-30 2022-06-05  \n",
       "..           ...        ...        ...  \n",
       "863        75.00 2022-02-07 2022-02-13  \n",
       "864        79.04 2022-02-07 2022-02-13  \n",
       "865        78.00 2022-02-07 2022-02-13  \n",
       "866        77.97 2022-02-07 2022-02-13  \n",
       "867        74.12 2022-02-07 2022-02-13  \n",
       "\n",
       "[868 rows x 9 columns]"
      ]
     },
     "execution_count": 26,
     "metadata": {},
     "output_type": "execute_result"
    }
   ],
   "source": [
    "df2_1['date_from'] = pd.to_datetime(df2_1.date_from)\n",
    "df2_1['date_to'] = pd.to_datetime(df2_1.date_to)\n",
    "df2_1.rename(columns = {'class':'Sheep_Class'}, inplace = True)\n",
    "df2_1"
   ]
  },
  {
   "cell_type": "code",
   "execution_count": null,
   "id": "d4773ff8",
   "metadata": {},
   "outputs": [],
   "source": []
  },
  {
   "cell_type": "code",
   "execution_count": 27,
   "id": "a552121b",
   "metadata": {},
   "outputs": [
    {
     "data": {
      "text/plain": [
       "Sheep_Class    0\n",
       "units          0\n",
       "avg_mass       0\n",
       "avg_purch      0\n",
       "avg_selling    0\n",
       "selling_min    0\n",
       "selling_max    0\n",
       "date_from      0\n",
       "date_to        0\n",
       "dtype: int64"
      ]
     },
     "execution_count": 27,
     "metadata": {},
     "output_type": "execute_result"
    }
   ],
   "source": [
    "\n",
    "for i, row in df2_1.iterrows():\n",
    "    if df2_1.loc[i, :].isnull().sum() == 6:\n",
    "        df2_1.drop([i], inplace=True)\n",
    "        \n",
    "df2_1.isnull().sum()"
   ]
  },
  {
   "cell_type": "code",
   "execution_count": 28,
   "id": "1264604e",
   "metadata": {},
   "outputs": [
    {
     "data": {
      "text/html": [
       "<div>\n",
       "<style scoped>\n",
       "    .dataframe tbody tr th:only-of-type {\n",
       "        vertical-align: middle;\n",
       "    }\n",
       "\n",
       "    .dataframe tbody tr th {\n",
       "        vertical-align: top;\n",
       "    }\n",
       "\n",
       "    .dataframe thead th {\n",
       "        text-align: right;\n",
       "    }\n",
       "</style>\n",
       "<table border=\"1\" class=\"dataframe\">\n",
       "  <thead>\n",
       "    <tr style=\"text-align: right;\">\n",
       "      <th></th>\n",
       "      <th>Sheep_Class</th>\n",
       "      <th>units</th>\n",
       "      <th>avg_mass</th>\n",
       "      <th>avg_purch</th>\n",
       "      <th>avg_selling</th>\n",
       "      <th>selling_min</th>\n",
       "      <th>selling_max</th>\n",
       "      <th>date_from</th>\n",
       "      <th>date_to</th>\n",
       "    </tr>\n",
       "  </thead>\n",
       "  <tbody>\n",
       "    <tr>\n",
       "      <th>0</th>\n",
       "      <td>A0</td>\n",
       "      <td>23</td>\n",
       "      <td>13.07</td>\n",
       "      <td>75.98</td>\n",
       "      <td>83.90</td>\n",
       "      <td>81.21</td>\n",
       "      <td>87.00</td>\n",
       "      <td>2022-05-30</td>\n",
       "      <td>2022-06-05</td>\n",
       "    </tr>\n",
       "    <tr>\n",
       "      <th>1</th>\n",
       "      <td>A1</td>\n",
       "      <td>338</td>\n",
       "      <td>15.60</td>\n",
       "      <td>110.22</td>\n",
       "      <td>107.52</td>\n",
       "      <td>105.74</td>\n",
       "      <td>107.90</td>\n",
       "      <td>2022-05-30</td>\n",
       "      <td>2022-06-05</td>\n",
       "    </tr>\n",
       "    <tr>\n",
       "      <th>2</th>\n",
       "      <td>A2</td>\n",
       "      <td>5782</td>\n",
       "      <td>19.97</td>\n",
       "      <td>103.88</td>\n",
       "      <td>106.26</td>\n",
       "      <td>103.99</td>\n",
       "      <td>106.83</td>\n",
       "      <td>2022-05-30</td>\n",
       "      <td>2022-06-05</td>\n",
       "    </tr>\n",
       "    <tr>\n",
       "      <th>3</th>\n",
       "      <td>A3</td>\n",
       "      <td>846</td>\n",
       "      <td>21.98</td>\n",
       "      <td>103.21</td>\n",
       "      <td>102.47</td>\n",
       "      <td>102.19</td>\n",
       "      <td>103.25</td>\n",
       "      <td>2022-05-30</td>\n",
       "      <td>2022-06-05</td>\n",
       "    </tr>\n",
       "    <tr>\n",
       "      <th>4</th>\n",
       "      <td>A4</td>\n",
       "      <td>247</td>\n",
       "      <td>21.49</td>\n",
       "      <td>94.50</td>\n",
       "      <td>92.43</td>\n",
       "      <td>91.81</td>\n",
       "      <td>92.58</td>\n",
       "      <td>2022-05-30</td>\n",
       "      <td>2022-06-05</td>\n",
       "    </tr>\n",
       "    <tr>\n",
       "      <th>...</th>\n",
       "      <td>...</td>\n",
       "      <td>...</td>\n",
       "      <td>...</td>\n",
       "      <td>...</td>\n",
       "      <td>...</td>\n",
       "      <td>...</td>\n",
       "      <td>...</td>\n",
       "      <td>...</td>\n",
       "      <td>...</td>\n",
       "    </tr>\n",
       "    <tr>\n",
       "      <th>863</th>\n",
       "      <td>AB3</td>\n",
       "      <td>2</td>\n",
       "      <td>21.40</td>\n",
       "      <td>72.19</td>\n",
       "      <td>74.49</td>\n",
       "      <td>74.00</td>\n",
       "      <td>75.00</td>\n",
       "      <td>2022-02-07</td>\n",
       "      <td>2022-02-13</td>\n",
       "    </tr>\n",
       "    <tr>\n",
       "      <th>864</th>\n",
       "      <td>B2</td>\n",
       "      <td>26</td>\n",
       "      <td>24.28</td>\n",
       "      <td>71.47</td>\n",
       "      <td>75.26</td>\n",
       "      <td>73.66</td>\n",
       "      <td>79.04</td>\n",
       "      <td>2022-02-07</td>\n",
       "      <td>2022-02-13</td>\n",
       "    </tr>\n",
       "    <tr>\n",
       "      <th>865</th>\n",
       "      <td>B3</td>\n",
       "      <td>1</td>\n",
       "      <td>23.50</td>\n",
       "      <td>76.00</td>\n",
       "      <td>78.00</td>\n",
       "      <td>78.00</td>\n",
       "      <td>78.00</td>\n",
       "      <td>2022-02-07</td>\n",
       "      <td>2022-02-13</td>\n",
       "    </tr>\n",
       "    <tr>\n",
       "      <th>866</th>\n",
       "      <td>C2</td>\n",
       "      <td>338</td>\n",
       "      <td>22.89</td>\n",
       "      <td>71.70</td>\n",
       "      <td>75.00</td>\n",
       "      <td>71.99</td>\n",
       "      <td>77.97</td>\n",
       "      <td>2022-02-07</td>\n",
       "      <td>2022-02-13</td>\n",
       "    </tr>\n",
       "    <tr>\n",
       "      <th>867</th>\n",
       "      <td>C3</td>\n",
       "      <td>46</td>\n",
       "      <td>23.06</td>\n",
       "      <td>70.17</td>\n",
       "      <td>72.49</td>\n",
       "      <td>72.00</td>\n",
       "      <td>74.12</td>\n",
       "      <td>2022-02-07</td>\n",
       "      <td>2022-02-13</td>\n",
       "    </tr>\n",
       "  </tbody>\n",
       "</table>\n",
       "<p>868 rows × 9 columns</p>\n",
       "</div>"
      ],
      "text/plain": [
       "    Sheep_Class  units  avg_mass  avg_purch  avg_selling  selling_min  \\\n",
       "0            A0     23     13.07      75.98        83.90        81.21   \n",
       "1            A1    338     15.60     110.22       107.52       105.74   \n",
       "2            A2   5782     19.97     103.88       106.26       103.99   \n",
       "3            A3    846     21.98     103.21       102.47       102.19   \n",
       "4            A4    247     21.49      94.50        92.43        91.81   \n",
       "..          ...    ...       ...        ...          ...          ...   \n",
       "863         AB3      2     21.40      72.19        74.49        74.00   \n",
       "864          B2     26     24.28      71.47        75.26        73.66   \n",
       "865          B3      1     23.50      76.00        78.00        78.00   \n",
       "866          C2    338     22.89      71.70        75.00        71.99   \n",
       "867          C3     46     23.06      70.17        72.49        72.00   \n",
       "\n",
       "     selling_max  date_from    date_to  \n",
       "0          87.00 2022-05-30 2022-06-05  \n",
       "1         107.90 2022-05-30 2022-06-05  \n",
       "2         106.83 2022-05-30 2022-06-05  \n",
       "3         103.25 2022-05-30 2022-06-05  \n",
       "4          92.58 2022-05-30 2022-06-05  \n",
       "..           ...        ...        ...  \n",
       "863        75.00 2022-02-07 2022-02-13  \n",
       "864        79.04 2022-02-07 2022-02-13  \n",
       "865        78.00 2022-02-07 2022-02-13  \n",
       "866        77.97 2022-02-07 2022-02-13  \n",
       "867        74.12 2022-02-07 2022-02-13  \n",
       "\n",
       "[868 rows x 9 columns]"
      ]
     },
     "execution_count": 28,
     "metadata": {},
     "output_type": "execute_result"
    }
   ],
   "source": [
    "df2_1"
   ]
  },
  {
   "cell_type": "code",
   "execution_count": 29,
   "id": "1686eb46",
   "metadata": {
    "scrolled": false
   },
   "outputs": [
    {
     "data": {
      "application/vnd.jupyter.widget-view+json": {
       "model_id": "3c132083b49e487f980c6d3c1bfdc628",
       "version_major": 2,
       "version_minor": 0
      },
      "text/plain": [
       "interactive(children=(Output(),), _dom_classes=('widget-interact',))"
      ]
     },
     "metadata": {},
     "output_type": "display_data"
    },
    {
     "data": {
      "application/vnd.plotly.v1+json": {
       "config": {
        "plotlyServerURL": "https://plot.ly"
       },
       "data": [
        {
         "hovertemplate": "Sheep_Class=A0<br>date_to=%{x}<br>avg_purch=%{y}<extra></extra>",
         "legendgroup": "A0",
         "line": {
          "color": "#636efa",
          "dash": "solid"
         },
         "marker": {
          "symbol": "circle"
         },
         "mode": "lines",
         "name": "A0",
         "orientation": "v",
         "showlegend": true,
         "type": "scatter",
         "x": [
          "2022-01-16T00:00:00",
          "2022-01-23T00:00:00",
          "2022-01-30T00:00:00",
          "2022-02-06T00:00:00",
          "2022-02-13T00:00:00",
          "2022-02-20T00:00:00",
          "2022-02-27T00:00:00",
          "2022-03-06T00:00:00",
          "2022-03-13T00:00:00",
          "2022-03-20T00:00:00",
          "2022-03-27T00:00:00",
          "2022-04-03T00:00:00",
          "2022-04-10T00:00:00",
          "2022-04-24T00:00:00",
          "2022-05-01T00:00:00",
          "2022-05-08T00:00:00",
          "2022-05-15T00:00:00",
          "2022-05-22T00:00:00",
          "2022-05-22T00:00:00",
          "2022-06-05T00:00:00",
          "2022-06-12T00:00:00",
          "2022-06-19T00:00:00",
          "2022-06-26T00:00:00",
          "2022-07-03T00:00:00",
          "2022-07-10T00:00:00",
          "2022-07-17T00:00:00",
          "2022-07-24T00:00:00",
          "2022-07-31T00:00:00",
          "2022-08-07T00:00:00",
          "2022-08-14T00:00:00",
          "2022-08-21T00:00:00",
          "2022-08-28T00:00:00",
          "2022-09-04T00:00:00",
          "2022-09-11T00:00:00",
          "2022-09-18T00:00:00",
          "2022-09-25T00:00:00",
          "2022-10-02T00:00:00",
          "2022-10-09T00:00:00",
          "2022-10-16T00:00:00",
          "2022-10-23T00:00:00",
          "2022-10-30T00:00:00",
          "2022-11-06T00:00:00",
          "2022-11-13T00:00:00",
          "2022-11-20T00:00:00",
          "2022-11-27T00:00:00",
          "2022-12-04T00:00:00",
          "2022-12-11T00:00:00",
          "2022-12-18T00:00:00",
          "2022-12-25T00:00:00",
          "2023-01-01T00:00:00",
          "2023-01-08T00:00:00",
          "2023-01-15T00:00:00",
          "2023-01-22T00:00:00",
          "2023-01-29T00:00:00",
          "2023-02-05T00:00:00",
          "2023-02-12T00:00:00",
          "2023-02-19T00:00:00",
          "2023-02-26T00:00:00",
          "2023-03-05T00:00:00",
          "2023-03-12T00:00:00",
          "2023-03-19T00:00:00",
          "2023-03-26T00:00:00",
          "2023-04-02T00:00:00",
          "2023-04-09T00:00:00",
          "2023-04-16T00:00:00",
          "2023-04-23T00:00:00",
          "2023-04-30T00:00:00"
         ],
         "xaxis": "x",
         "y": [
          66.27,
          62.74,
          68,
          63.53,
          64.3,
          65.87,
          64.92,
          66.36,
          65.27,
          70.88,
          63.98,
          66.1,
          68.02,
          74.54,
          78.65,
          77.39,
          73.6,
          73.82,
          70.7,
          75.98,
          78.93,
          79.95,
          72.57,
          76.27,
          81.74,
          76.14,
          75.68,
          88.82,
          76.5,
          81.75,
          82.11,
          80.64,
          72.11,
          70.92,
          70.82,
          68.3,
          65.56,
          70.72,
          62.08,
          64.67,
          65.2,
          70.55,
          71.79,
          70.98,
          71.9,
          69.76,
          66.16,
          61.86,
          61.77,
          63.38,
          69.77,
          59.09,
          67.21,
          57.95,
          60.7,
          61.17,
          58.65,
          63.56,
          63.67,
          61.68,
          56.34,
          53.55,
          59.35,
          58.46,
          56.68,
          61,
          56.27
         ],
         "yaxis": "y"
        },
        {
         "hovertemplate": "Sheep_Class=C3<br>date_to=%{x}<br>avg_purch=%{y}<extra></extra>",
         "legendgroup": "C3",
         "line": {
          "color": "#EF553B",
          "dash": "solid"
         },
         "marker": {
          "symbol": "circle"
         },
         "mode": "lines",
         "name": "C3",
         "orientation": "v",
         "showlegend": true,
         "type": "scatter",
         "x": [
          "2022-01-16T00:00:00",
          "2022-01-23T00:00:00",
          "2022-01-30T00:00:00",
          "2022-02-06T00:00:00",
          "2022-02-13T00:00:00",
          "2022-02-20T00:00:00",
          "2022-02-27T00:00:00",
          "2022-03-06T00:00:00",
          "2022-03-13T00:00:00",
          "2022-03-20T00:00:00",
          "2022-03-27T00:00:00",
          "2022-04-03T00:00:00",
          "2022-04-10T00:00:00",
          "2022-04-24T00:00:00",
          "2022-05-01T00:00:00",
          "2022-05-08T00:00:00",
          "2022-05-15T00:00:00",
          "2022-05-22T00:00:00",
          "2022-05-22T00:00:00",
          "2022-06-05T00:00:00",
          "2022-06-12T00:00:00",
          "2022-06-19T00:00:00",
          "2022-06-26T00:00:00",
          "2022-07-03T00:00:00",
          "2022-07-10T00:00:00",
          "2022-07-17T00:00:00",
          "2022-07-24T00:00:00",
          "2022-07-31T00:00:00",
          "2022-08-07T00:00:00",
          "2022-08-14T00:00:00",
          "2022-08-21T00:00:00",
          "2022-08-28T00:00:00",
          "2022-09-04T00:00:00",
          "2022-09-11T00:00:00",
          "2022-09-18T00:00:00",
          "2022-09-25T00:00:00",
          "2022-10-02T00:00:00",
          "2022-10-09T00:00:00",
          "2022-10-16T00:00:00",
          "2022-10-23T00:00:00",
          "2022-10-30T00:00:00",
          "2022-11-06T00:00:00",
          "2022-11-13T00:00:00",
          "2022-11-20T00:00:00",
          "2022-11-27T00:00:00",
          "2022-12-04T00:00:00",
          "2022-12-11T00:00:00",
          "2022-12-18T00:00:00",
          "2022-12-25T00:00:00",
          "2023-01-01T00:00:00",
          "2023-01-08T00:00:00",
          "2023-01-15T00:00:00",
          "2023-01-22T00:00:00",
          "2023-01-29T00:00:00",
          "2023-02-05T00:00:00",
          "2023-02-12T00:00:00",
          "2023-02-19T00:00:00",
          "2023-02-26T00:00:00",
          "2023-03-05T00:00:00",
          "2023-03-12T00:00:00",
          "2023-03-19T00:00:00",
          "2023-03-26T00:00:00",
          "2023-04-02T00:00:00",
          "2023-04-09T00:00:00",
          "2023-04-16T00:00:00",
          "2023-04-23T00:00:00",
          "2023-04-30T00:00:00"
         ],
         "xaxis": "x",
         "y": [
          69.01,
          70.48,
          69.89,
          68.96,
          70.17,
          70.89,
          71.99,
          71.12,
          68.52,
          71.61,
          72.44,
          69.73,
          70.94,
          68.06,
          71.05,
          68.16,
          71.9,
          71.82,
          70.95,
          73.39,
          73.22,
          77.08,
          75.71,
          75.29,
          79.88,
          76.39,
          77.79,
          77.65,
          77.69,
          75.49,
          76.2,
          76.52,
          79.41,
          75.58,
          75.22,
          73.22,
          74.35,
          66.22,
          66.8,
          68.26,
          70.12,
          69.46,
          72.29,
          69.84,
          70.83,
          74.34,
          71.28,
          71.15,
          66.37,
          67.54,
          68.33,
          65.07,
          67.41,
          66.34,
          65.19,
          65.93,
          62.27,
          64.35,
          62.37,
          60.38,
          57.8,
          60.74,
          57.91,
          56.07,
          55.12,
          57.52,
          53.78
         ],
         "yaxis": "y"
        },
        {
         "hovertemplate": "Sheep_Class=A2<br>date_to=%{x}<br>avg_purch=%{y}<extra></extra>",
         "legendgroup": "A2",
         "line": {
          "color": "#00cc96",
          "dash": "solid"
         },
         "marker": {
          "symbol": "circle"
         },
         "mode": "lines",
         "name": "A2",
         "orientation": "v",
         "showlegend": true,
         "type": "scatter",
         "x": [
          "2022-01-16T00:00:00",
          "2022-01-23T00:00:00",
          "2022-01-30T00:00:00",
          "2022-02-06T00:00:00",
          "2022-02-13T00:00:00",
          "2022-02-20T00:00:00",
          "2022-02-27T00:00:00",
          "2022-03-06T00:00:00",
          "2022-03-13T00:00:00",
          "2022-03-20T00:00:00",
          "2022-03-27T00:00:00",
          "2022-04-03T00:00:00",
          "2022-04-10T00:00:00",
          "2022-04-24T00:00:00",
          "2022-05-01T00:00:00",
          "2022-05-08T00:00:00",
          "2022-05-15T00:00:00",
          "2022-05-22T00:00:00",
          "2022-05-22T00:00:00",
          "2022-06-05T00:00:00",
          "2022-06-12T00:00:00",
          "2022-06-19T00:00:00",
          "2022-06-26T00:00:00",
          "2022-07-03T00:00:00",
          "2022-07-10T00:00:00",
          "2022-07-17T00:00:00",
          "2022-07-24T00:00:00",
          "2022-07-31T00:00:00",
          "2022-08-07T00:00:00",
          "2022-08-14T00:00:00",
          "2022-08-21T00:00:00",
          "2022-08-28T00:00:00",
          "2022-09-04T00:00:00",
          "2022-09-11T00:00:00",
          "2022-09-18T00:00:00",
          "2022-09-25T00:00:00",
          "2022-10-02T00:00:00",
          "2022-10-09T00:00:00",
          "2022-10-16T00:00:00",
          "2022-10-23T00:00:00",
          "2022-10-30T00:00:00",
          "2022-11-06T00:00:00",
          "2022-11-13T00:00:00",
          "2022-11-20T00:00:00",
          "2022-11-27T00:00:00",
          "2022-12-04T00:00:00",
          "2022-12-11T00:00:00",
          "2022-12-18T00:00:00",
          "2022-12-25T00:00:00",
          "2023-01-01T00:00:00",
          "2023-01-08T00:00:00",
          "2023-01-15T00:00:00",
          "2023-01-22T00:00:00",
          "2023-01-29T00:00:00",
          "2023-02-05T00:00:00",
          "2023-02-12T00:00:00",
          "2023-02-19T00:00:00",
          "2023-02-26T00:00:00",
          "2023-03-05T00:00:00",
          "2023-03-12T00:00:00",
          "2023-03-19T00:00:00",
          "2023-03-26T00:00:00",
          "2023-04-02T00:00:00",
          "2023-04-09T00:00:00",
          "2023-04-16T00:00:00",
          "2023-04-23T00:00:00",
          "2023-04-30T00:00:00"
         ],
         "xaxis": "x",
         "y": [
          85.29,
          83.78,
          84.67,
          85.84,
          86.36,
          86.86,
          86.85,
          86.23,
          87.4,
          86.08,
          87.11,
          91.37,
          92.2,
          94.97,
          93.56,
          95.13,
          97.54,
          101.35,
          98.19,
          103.88,
          103.85,
          105.96,
          110.78,
          107.8,
          107.86,
          107.09,
          103.06,
          100.2,
          100.94,
          101.17,
          101.17,
          100.02,
          98.31,
          95.89,
          91.67,
          92.82,
          89.61,
          85.34,
          85.17,
          86.22,
          88.6,
          90.64,
          90.21,
          92,
          92.79,
          95.42,
          93.33,
          89.8,
          88.59,
          90.43,
          90.72,
          87.87,
          85.19,
          85.35,
          84.3,
          84.48,
          82.65,
          84.27,
          84.71,
          83.37,
          79.93,
          82.69,
          84.02,
          85.39,
          86.65,
          85.44,
          84.05
         ],
         "yaxis": "y"
        },
        {
         "hovertemplate": "Sheep_Class=A3<br>date_to=%{x}<br>avg_purch=%{y}<extra></extra>",
         "legendgroup": "A3",
         "line": {
          "color": "#ab63fa",
          "dash": "solid"
         },
         "marker": {
          "symbol": "circle"
         },
         "mode": "lines",
         "name": "A3",
         "orientation": "v",
         "showlegend": true,
         "type": "scatter",
         "x": [
          "2022-01-16T00:00:00",
          "2022-01-23T00:00:00",
          "2022-01-30T00:00:00",
          "2022-02-06T00:00:00",
          "2022-02-13T00:00:00",
          "2022-02-20T00:00:00",
          "2022-02-27T00:00:00",
          "2022-03-06T00:00:00",
          "2022-03-13T00:00:00",
          "2022-03-20T00:00:00",
          "2022-03-27T00:00:00",
          "2022-04-03T00:00:00",
          "2022-04-10T00:00:00",
          "2022-04-24T00:00:00",
          "2022-05-01T00:00:00",
          "2022-05-08T00:00:00",
          "2022-05-15T00:00:00",
          "2022-05-22T00:00:00",
          "2022-05-22T00:00:00",
          "2022-06-05T00:00:00",
          "2022-06-12T00:00:00",
          "2022-06-19T00:00:00",
          "2022-06-26T00:00:00",
          "2022-07-03T00:00:00",
          "2022-07-10T00:00:00",
          "2022-07-17T00:00:00",
          "2022-07-24T00:00:00",
          "2022-07-31T00:00:00",
          "2022-08-07T00:00:00",
          "2022-08-14T00:00:00",
          "2022-08-21T00:00:00",
          "2022-08-28T00:00:00",
          "2022-09-04T00:00:00",
          "2022-09-11T00:00:00",
          "2022-09-18T00:00:00",
          "2022-09-25T00:00:00",
          "2022-10-02T00:00:00",
          "2022-10-09T00:00:00",
          "2022-10-16T00:00:00",
          "2022-10-23T00:00:00",
          "2022-10-30T00:00:00",
          "2022-11-06T00:00:00",
          "2022-11-13T00:00:00",
          "2022-11-20T00:00:00",
          "2022-11-27T00:00:00",
          "2022-12-04T00:00:00",
          "2022-12-11T00:00:00",
          "2022-12-18T00:00:00",
          "2022-12-25T00:00:00",
          "2023-01-01T00:00:00",
          "2023-01-08T00:00:00",
          "2023-01-15T00:00:00",
          "2023-01-22T00:00:00",
          "2023-01-29T00:00:00",
          "2023-02-05T00:00:00",
          "2023-02-12T00:00:00",
          "2023-02-19T00:00:00",
          "2023-02-26T00:00:00",
          "2023-03-05T00:00:00",
          "2023-03-12T00:00:00",
          "2023-03-19T00:00:00",
          "2023-03-26T00:00:00",
          "2023-04-02T00:00:00",
          "2023-04-09T00:00:00",
          "2023-04-16T00:00:00",
          "2023-04-23T00:00:00",
          "2023-04-30T00:00:00"
         ],
         "xaxis": "x",
         "y": [
          83.39,
          81.44,
          82.78,
          83.31,
          84.64,
          84.56,
          84.64,
          84.02,
          86.2,
          84.58,
          85.43,
          88.97,
          91.81,
          92.77,
          93.86,
          94.63,
          96.97,
          101.47,
          96.49,
          103.21,
          102.09,
          105.36,
          103.77,
          104.66,
          104.34,
          101.39,
          101.25,
          98.51,
          100.55,
          100.69,
          98.87,
          99.26,
          95.58,
          92.75,
          89.07,
          88.79,
          86.85,
          84.1,
          83.49,
          85.07,
          87.19,
          89.96,
          90.15,
          90.69,
          93.01,
          95.56,
          92.39,
          89,
          88.21,
          88.97,
          90.57,
          87.08,
          85.47,
          85.81,
          84.29,
          84.74,
          83.52,
          84.15,
          83.98,
          82.07,
          79.02,
          81.49,
          81.87,
          82.58,
          83.73,
          83.14,
          80.98
         ],
         "yaxis": "y"
        },
        {
         "hovertemplate": "Sheep_Class=A4<br>date_to=%{x}<br>avg_purch=%{y}<extra></extra>",
         "legendgroup": "A4",
         "line": {
          "color": "#FFA15A",
          "dash": "solid"
         },
         "marker": {
          "symbol": "circle"
         },
         "mode": "lines",
         "name": "A4",
         "orientation": "v",
         "showlegend": true,
         "type": "scatter",
         "x": [
          "2022-01-16T00:00:00",
          "2022-01-23T00:00:00",
          "2022-01-30T00:00:00",
          "2022-02-06T00:00:00",
          "2022-02-13T00:00:00",
          "2022-02-20T00:00:00",
          "2022-02-27T00:00:00",
          "2022-03-06T00:00:00",
          "2022-03-13T00:00:00",
          "2022-03-20T00:00:00",
          "2022-03-27T00:00:00",
          "2022-04-03T00:00:00",
          "2022-04-10T00:00:00",
          "2022-04-24T00:00:00",
          "2022-05-01T00:00:00",
          "2022-05-08T00:00:00",
          "2022-05-15T00:00:00",
          "2022-05-22T00:00:00",
          "2022-05-22T00:00:00",
          "2022-06-05T00:00:00",
          "2022-06-12T00:00:00",
          "2022-06-19T00:00:00",
          "2022-06-26T00:00:00",
          "2022-07-03T00:00:00",
          "2022-07-10T00:00:00",
          "2022-07-17T00:00:00",
          "2022-07-24T00:00:00",
          "2022-07-31T00:00:00",
          "2022-08-07T00:00:00",
          "2022-08-14T00:00:00",
          "2022-08-21T00:00:00",
          "2022-08-28T00:00:00",
          "2022-09-04T00:00:00",
          "2022-09-11T00:00:00",
          "2022-09-18T00:00:00",
          "2022-09-25T00:00:00",
          "2022-10-02T00:00:00",
          "2022-10-09T00:00:00",
          "2022-10-16T00:00:00",
          "2022-10-23T00:00:00",
          "2022-10-30T00:00:00",
          "2022-11-06T00:00:00",
          "2022-11-13T00:00:00",
          "2022-11-20T00:00:00",
          "2022-11-27T00:00:00",
          "2022-12-04T00:00:00",
          "2022-12-11T00:00:00",
          "2022-12-18T00:00:00",
          "2022-12-25T00:00:00",
          "2023-01-01T00:00:00",
          "2023-01-08T00:00:00",
          "2023-01-15T00:00:00",
          "2023-01-22T00:00:00",
          "2023-01-29T00:00:00",
          "2023-02-05T00:00:00",
          "2023-02-12T00:00:00",
          "2023-02-19T00:00:00",
          "2023-02-26T00:00:00",
          "2023-03-05T00:00:00",
          "2023-03-12T00:00:00",
          "2023-03-19T00:00:00",
          "2023-03-26T00:00:00",
          "2023-04-02T00:00:00",
          "2023-04-09T00:00:00",
          "2023-04-16T00:00:00",
          "2023-04-23T00:00:00",
          "2023-04-30T00:00:00"
         ],
         "xaxis": "x",
         "y": [
          75.09,
          74.13,
          75.44,
          73.93,
          76.05,
          77.3,
          77.57,
          76.77,
          77.85,
          77.54,
          78.88,
          80.59,
          82.94,
          85.32,
          83.87,
          85.54,
          88.01,
          94.43,
          87.61,
          94.5,
          94.23,
          97.17,
          93.78,
          97.47,
          96.64,
          92.67,
          89.89,
          90.34,
          92.15,
          93.34,
          92.42,
          91.85,
          87.3,
          82.41,
          80.7,
          79.5,
          77.77,
          75.3,
          73.37,
          75.16,
          78.24,
          79.71,
          80.65,
          78.81,
          81.53,
          84.85,
          81.29,
          78.4,
          76.78,
          78.69,
          81.64,
          77.26,
          75.39,
          76.51,
          74.06,
          74.11,
          75.62,
          74.17,
          72.65,
          71.36,
          68.52,
          69.58,
          68.73,
          67.4,
          67.88,
          67.1,
          63.94
         ],
         "yaxis": "y"
        },
        {
         "hovertemplate": "Sheep_Class=A5<br>date_to=%{x}<br>avg_purch=%{y}<extra></extra>",
         "legendgroup": "A5",
         "line": {
          "color": "#19d3f3",
          "dash": "solid"
         },
         "marker": {
          "symbol": "circle"
         },
         "mode": "lines",
         "name": "A5",
         "orientation": "v",
         "showlegend": true,
         "type": "scatter",
         "x": [
          "2022-01-16T00:00:00",
          "2022-01-23T00:00:00",
          "2022-01-30T00:00:00",
          "2022-02-06T00:00:00",
          "2022-02-13T00:00:00",
          "2022-02-20T00:00:00",
          "2022-02-27T00:00:00",
          "2022-03-06T00:00:00",
          "2022-03-13T00:00:00",
          "2022-03-20T00:00:00",
          "2022-03-27T00:00:00",
          "2022-04-03T00:00:00",
          "2022-04-10T00:00:00",
          "2022-04-24T00:00:00",
          "2022-05-01T00:00:00",
          "2022-05-08T00:00:00",
          "2022-05-15T00:00:00",
          "2022-05-22T00:00:00",
          "2022-05-22T00:00:00",
          "2022-06-05T00:00:00",
          "2022-06-12T00:00:00",
          "2022-06-19T00:00:00",
          "2022-06-26T00:00:00",
          "2022-07-03T00:00:00",
          "2022-07-10T00:00:00",
          "2022-07-17T00:00:00",
          "2022-07-24T00:00:00",
          "2022-07-31T00:00:00",
          "2022-08-07T00:00:00",
          "2022-08-14T00:00:00",
          "2022-08-21T00:00:00",
          "2022-08-28T00:00:00",
          "2022-09-04T00:00:00",
          "2022-09-11T00:00:00",
          "2022-09-18T00:00:00",
          "2022-09-25T00:00:00",
          "2022-10-02T00:00:00",
          "2022-10-09T00:00:00",
          "2022-10-16T00:00:00",
          "2022-10-23T00:00:00",
          "2022-10-30T00:00:00",
          "2022-11-06T00:00:00",
          "2022-11-13T00:00:00",
          "2022-11-20T00:00:00",
          "2022-11-27T00:00:00",
          "2022-12-04T00:00:00",
          "2022-12-11T00:00:00",
          "2022-12-18T00:00:00",
          "2022-12-25T00:00:00",
          "2023-01-01T00:00:00",
          "2023-01-08T00:00:00",
          "2023-01-15T00:00:00",
          "2023-01-22T00:00:00",
          "2023-01-29T00:00:00",
          "2023-02-05T00:00:00",
          "2023-02-12T00:00:00",
          "2023-02-19T00:00:00",
          "2023-02-26T00:00:00",
          "2023-03-05T00:00:00",
          "2023-03-12T00:00:00",
          "2023-03-19T00:00:00",
          "2023-03-26T00:00:00",
          "2023-04-02T00:00:00",
          "2023-04-09T00:00:00",
          "2023-04-16T00:00:00",
          "2023-04-23T00:00:00",
          "2023-04-30T00:00:00"
         ],
         "xaxis": "x",
         "y": [
          69.68,
          67.86,
          71.31,
          74.59,
          71.8,
          70.67,
          71.13,
          74.15,
          72.47,
          72.29,
          73.91,
          74.87,
          77.36,
          78,
          76.52,
          75.26,
          80.69,
          86.79,
          80.32,
          87.44,
          88.34,
          91.06,
          84.32,
          90.78,
          90.2,
          83.28,
          84.68,
          84.84,
          85.57,
          89.3,
          86.71,
          85.01,
          83.9,
          72.61,
          75.48,
          71.14,
          71.18,
          68.41,
          64.72,
          68.9,
          75.3,
          68.14,
          70.48,
          75.03,
          74.82,
          76.58,
          75.32,
          71.07,
          67.44,
          72.28,
          76.82,
          71.24,
          68.66,
          72.46,
          66.22,
          69.4,
          76.15,
          69.07,
          66.41,
          66.57,
          63.18,
          60.51,
          61.18,
          60.28,
          61.05,
          57.3,
          55.86
         ],
         "yaxis": "y"
        },
        {
         "hovertemplate": "Sheep_Class=A6<br>date_to=%{x}<br>avg_purch=%{y}<extra></extra>",
         "legendgroup": "A6",
         "line": {
          "color": "#FF6692",
          "dash": "solid"
         },
         "marker": {
          "symbol": "circle"
         },
         "mode": "lines",
         "name": "A6",
         "orientation": "v",
         "showlegend": true,
         "type": "scatter",
         "x": [
          "2022-01-16T00:00:00",
          "2022-01-23T00:00:00",
          "2022-01-30T00:00:00",
          "2022-02-06T00:00:00",
          "2022-02-13T00:00:00",
          "2022-02-20T00:00:00",
          "2022-02-27T00:00:00",
          "2022-03-06T00:00:00",
          "2022-03-13T00:00:00",
          "2022-03-20T00:00:00",
          "2022-03-27T00:00:00",
          "2022-04-03T00:00:00",
          "2022-04-10T00:00:00",
          "2022-04-24T00:00:00",
          "2022-05-01T00:00:00",
          "2022-05-08T00:00:00",
          "2022-05-15T00:00:00",
          "2022-05-22T00:00:00",
          "2022-05-22T00:00:00",
          "2022-06-05T00:00:00",
          "2022-06-12T00:00:00",
          "2022-06-19T00:00:00",
          "2022-06-26T00:00:00",
          "2022-07-03T00:00:00",
          "2022-07-10T00:00:00",
          "2022-07-17T00:00:00",
          "2022-07-24T00:00:00",
          "2022-07-31T00:00:00",
          "2022-08-07T00:00:00",
          "2022-08-14T00:00:00",
          "2022-08-21T00:00:00",
          "2022-08-28T00:00:00",
          "2022-09-04T00:00:00",
          "2022-09-11T00:00:00",
          "2022-09-18T00:00:00",
          "2022-09-25T00:00:00",
          "2022-10-02T00:00:00",
          "2022-10-09T00:00:00",
          "2022-10-16T00:00:00",
          "2022-10-23T00:00:00",
          "2022-10-30T00:00:00",
          "2022-11-06T00:00:00",
          "2022-11-13T00:00:00",
          "2022-11-20T00:00:00",
          "2022-11-27T00:00:00",
          "2022-12-04T00:00:00",
          "2022-12-11T00:00:00",
          "2022-12-18T00:00:00",
          "2022-12-25T00:00:00",
          "2023-01-01T00:00:00",
          "2023-01-08T00:00:00",
          "2023-01-15T00:00:00",
          "2023-01-22T00:00:00",
          "2023-01-29T00:00:00",
          "2023-02-05T00:00:00",
          "2023-02-12T00:00:00",
          "2023-02-19T00:00:00",
          "2023-02-26T00:00:00",
          "2023-03-05T00:00:00",
          "2023-03-12T00:00:00",
          "2023-03-19T00:00:00",
          "2023-03-26T00:00:00",
          "2023-04-02T00:00:00",
          "2023-04-09T00:00:00",
          "2023-04-16T00:00:00",
          "2023-04-23T00:00:00",
          "2023-04-30T00:00:00"
         ],
         "xaxis": "x",
         "y": [
          69.23,
          68.48,
          68.52,
          71.13,
          67.72,
          72.96,
          70.16,
          71.03,
          73.22,
          70.44,
          73.37,
          74.71,
          76.05,
          78,
          76.34,
          75.28,
          79.02,
          86.24,
          80.05,
          86.98,
          88.16,
          90.88,
          85.6,
          89.96,
          88.09,
          88.44,
          85.77,
          84.65,
          82.52,
          83.22,
          84.62,
          86.75,
          85.53,
          76.62,
          75.79,
          71.43,
          70.25,
          67.94,
          68.4,
          65.8,
          69.62,
          69.52,
          67.56,
          75.11,
          73.93,
          79.1,
          76.47,
          69.9,
          64.78,
          68.44,
          75.35,
          86.66,
          68.6,
          67.49,
          67.85,
          69.4,
          68.96,
          68.82,
          67.19,
          66.43,
          63.66,
          59.33,
          60.46,
          57.11,
          57.82,
          56.13,
          54.69
         ],
         "yaxis": "y"
        },
        {
         "hovertemplate": "Sheep_Class=AB2<br>date_to=%{x}<br>avg_purch=%{y}<extra></extra>",
         "legendgroup": "AB2",
         "line": {
          "color": "#B6E880",
          "dash": "solid"
         },
         "marker": {
          "symbol": "circle"
         },
         "mode": "lines",
         "name": "AB2",
         "orientation": "v",
         "showlegend": true,
         "type": "scatter",
         "x": [
          "2022-01-16T00:00:00",
          "2022-01-23T00:00:00",
          "2022-01-30T00:00:00",
          "2022-02-06T00:00:00",
          "2022-02-13T00:00:00",
          "2022-02-20T00:00:00",
          "2022-02-27T00:00:00",
          "2022-03-06T00:00:00",
          "2022-03-13T00:00:00",
          "2022-03-20T00:00:00",
          "2022-03-27T00:00:00",
          "2022-04-03T00:00:00",
          "2022-04-10T00:00:00",
          "2022-04-24T00:00:00",
          "2022-05-01T00:00:00",
          "2022-05-08T00:00:00",
          "2022-05-15T00:00:00",
          "2022-05-22T00:00:00",
          "2022-05-22T00:00:00",
          "2022-06-05T00:00:00",
          "2022-06-12T00:00:00",
          "2022-06-19T00:00:00",
          "2022-06-26T00:00:00",
          "2022-07-03T00:00:00",
          "2022-07-10T00:00:00",
          "2022-07-17T00:00:00",
          "2022-07-24T00:00:00",
          "2022-07-31T00:00:00",
          "2022-08-07T00:00:00",
          "2022-08-14T00:00:00",
          "2022-08-21T00:00:00",
          "2022-08-28T00:00:00",
          "2022-09-04T00:00:00",
          "2022-09-11T00:00:00",
          "2022-09-18T00:00:00",
          "2022-09-25T00:00:00",
          "2022-10-02T00:00:00",
          "2022-10-09T00:00:00",
          "2022-10-16T00:00:00",
          "2022-10-23T00:00:00",
          "2022-10-30T00:00:00",
          "2022-11-06T00:00:00",
          "2022-11-13T00:00:00",
          "2022-11-20T00:00:00",
          "2022-11-27T00:00:00",
          "2022-12-04T00:00:00",
          "2022-12-11T00:00:00",
          "2022-12-18T00:00:00",
          "2022-12-25T00:00:00",
          "2023-01-01T00:00:00",
          "2023-01-08T00:00:00",
          "2023-01-15T00:00:00",
          "2023-01-22T00:00:00",
          "2023-01-29T00:00:00",
          "2023-02-05T00:00:00",
          "2023-02-12T00:00:00",
          "2023-02-19T00:00:00",
          "2023-02-26T00:00:00",
          "2023-03-05T00:00:00",
          "2023-03-12T00:00:00",
          "2023-03-19T00:00:00",
          "2023-03-26T00:00:00",
          "2023-04-02T00:00:00",
          "2023-04-09T00:00:00",
          "2023-04-16T00:00:00",
          "2023-04-23T00:00:00",
          "2023-04-30T00:00:00"
         ],
         "xaxis": "x",
         "y": [
          77.09,
          77.44,
          75.24,
          77.91,
          77.26,
          77.46,
          79.03,
          73.79,
          72.2,
          76.76,
          78.19,
          78.56,
          76.86,
          77.67,
          78.13,
          78.73,
          80.11,
          85.07,
          84.5,
          83.49,
          83.41,
          88.65,
          86.17,
          86.71,
          90.38,
          91.22,
          86.14,
          86.07,
          86.06,
          86.72,
          87.77,
          86.92,
          88.58,
          85.64,
          82.67,
          80.04,
          79.32,
          73.48,
          74.99,
          71.9,
          75.41,
          75.52,
          73.64,
          77.9,
          78.18,
          77.06,
          77.18,
          76.99,
          75.6,
          76.5,
          84.38,
          81.82,
          81.46,
          73.79,
          81.97,
          77.18,
          85.3,
          85.06,
          79.55,
          78.91,
          67.76,
          69.53,
          68.39,
          70.16,
          69.43,
          67.7,
          72.53
         ],
         "yaxis": "y"
        },
        {
         "hovertemplate": "Sheep_Class=AB3<br>date_to=%{x}<br>avg_purch=%{y}<extra></extra>",
         "legendgroup": "AB3",
         "line": {
          "color": "#FF97FF",
          "dash": "solid"
         },
         "marker": {
          "symbol": "circle"
         },
         "mode": "lines",
         "name": "AB3",
         "orientation": "v",
         "showlegend": true,
         "type": "scatter",
         "x": [
          "2022-01-16T00:00:00",
          "2022-01-23T00:00:00",
          "2022-01-30T00:00:00",
          "2022-02-06T00:00:00",
          "2022-02-13T00:00:00",
          "2022-02-20T00:00:00",
          "2022-03-06T00:00:00",
          "2022-03-13T00:00:00",
          "2022-03-20T00:00:00",
          "2022-03-27T00:00:00",
          "2022-04-03T00:00:00",
          "2022-04-10T00:00:00",
          "2022-04-24T00:00:00",
          "2022-05-08T00:00:00",
          "2022-05-15T00:00:00",
          "2022-05-22T00:00:00",
          "2022-05-22T00:00:00",
          "2022-06-05T00:00:00",
          "2022-06-12T00:00:00",
          "2022-06-19T00:00:00",
          "2022-06-26T00:00:00",
          "2022-07-03T00:00:00",
          "2022-07-10T00:00:00",
          "2022-07-17T00:00:00",
          "2022-07-24T00:00:00",
          "2022-07-31T00:00:00",
          "2022-08-07T00:00:00",
          "2022-08-14T00:00:00",
          "2022-08-21T00:00:00",
          "2022-08-28T00:00:00",
          "2022-09-04T00:00:00",
          "2022-09-11T00:00:00",
          "2022-09-18T00:00:00",
          "2022-09-25T00:00:00",
          "2022-10-02T00:00:00",
          "2022-10-09T00:00:00",
          "2022-10-16T00:00:00",
          "2022-10-23T00:00:00",
          "2022-10-30T00:00:00",
          "2022-11-06T00:00:00",
          "2022-11-13T00:00:00",
          "2022-11-20T00:00:00",
          "2022-11-27T00:00:00",
          "2022-12-04T00:00:00",
          "2022-12-11T00:00:00",
          "2022-12-18T00:00:00",
          "2022-12-25T00:00:00",
          "2023-01-01T00:00:00",
          "2023-01-08T00:00:00",
          "2023-01-15T00:00:00",
          "2023-01-22T00:00:00",
          "2023-01-29T00:00:00",
          "2023-02-05T00:00:00",
          "2023-02-12T00:00:00",
          "2023-02-19T00:00:00",
          "2023-02-26T00:00:00",
          "2023-03-05T00:00:00",
          "2023-03-12T00:00:00",
          "2023-03-19T00:00:00",
          "2023-03-26T00:00:00",
          "2023-04-02T00:00:00",
          "2023-04-09T00:00:00",
          "2023-04-16T00:00:00",
          "2023-04-23T00:00:00",
          "2023-04-30T00:00:00"
         ],
         "xaxis": "x",
         "y": [
          76.36,
          78.5,
          75.5,
          77.47,
          72.19,
          77.07,
          76.53,
          79,
          75.65,
          77.21,
          79.95,
          77.21,
          83.28,
          77,
          78.63,
          80.05,
          78.75,
          86.83,
          85.75,
          93.98,
          92.55,
          88.32,
          91.41,
          91.9,
          83.05,
          83.45,
          87.82,
          90.93,
          88.33,
          86.4,
          83.34,
          83.47,
          83.17,
          80.2,
          78.55,
          74.51,
          74.96,
          73.41,
          77.57,
          77.15,
          79.97,
          79.78,
          82.01,
          79.64,
          76.87,
          78.19,
          78.29,
          77.99,
          96.82,
          82.41,
          88.81,
          85.89,
          87.31,
          86.08,
          88.79,
          87.2,
          85.29,
          86.26,
          68,
          67.97,
          68.08,
          66.86,
          65.91,
          66.43,
          65.92
         ],
         "yaxis": "y"
        },
        {
         "hovertemplate": "Sheep_Class=B2<br>date_to=%{x}<br>avg_purch=%{y}<extra></extra>",
         "legendgroup": "B2",
         "line": {
          "color": "#FECB52",
          "dash": "solid"
         },
         "marker": {
          "symbol": "circle"
         },
         "mode": "lines",
         "name": "B2",
         "orientation": "v",
         "showlegend": true,
         "type": "scatter",
         "x": [
          "2022-01-16T00:00:00",
          "2022-01-23T00:00:00",
          "2022-01-30T00:00:00",
          "2022-02-06T00:00:00",
          "2022-02-13T00:00:00",
          "2022-02-20T00:00:00",
          "2022-02-27T00:00:00",
          "2022-03-06T00:00:00",
          "2022-03-13T00:00:00",
          "2022-03-20T00:00:00",
          "2022-03-27T00:00:00",
          "2022-04-03T00:00:00",
          "2022-04-10T00:00:00",
          "2022-04-24T00:00:00",
          "2022-05-01T00:00:00",
          "2022-05-08T00:00:00",
          "2022-05-15T00:00:00",
          "2022-05-22T00:00:00",
          "2022-05-22T00:00:00",
          "2022-06-05T00:00:00",
          "2022-06-12T00:00:00",
          "2022-06-19T00:00:00",
          "2022-06-26T00:00:00",
          "2022-07-03T00:00:00",
          "2022-07-10T00:00:00",
          "2022-07-17T00:00:00",
          "2022-07-24T00:00:00",
          "2022-07-31T00:00:00",
          "2022-08-07T00:00:00",
          "2022-08-14T00:00:00",
          "2022-08-21T00:00:00",
          "2022-08-28T00:00:00",
          "2022-09-04T00:00:00",
          "2022-09-11T00:00:00",
          "2022-09-18T00:00:00",
          "2022-09-25T00:00:00",
          "2022-10-02T00:00:00",
          "2022-10-09T00:00:00",
          "2022-10-16T00:00:00",
          "2022-10-23T00:00:00",
          "2022-10-30T00:00:00",
          "2022-11-06T00:00:00",
          "2022-11-13T00:00:00",
          "2022-11-20T00:00:00",
          "2022-11-27T00:00:00",
          "2022-12-04T00:00:00",
          "2022-12-11T00:00:00",
          "2022-12-18T00:00:00",
          "2022-12-25T00:00:00",
          "2023-01-01T00:00:00",
          "2023-01-08T00:00:00",
          "2023-01-15T00:00:00",
          "2023-01-22T00:00:00",
          "2023-01-29T00:00:00",
          "2023-02-05T00:00:00",
          "2023-02-12T00:00:00",
          "2023-02-19T00:00:00",
          "2023-02-26T00:00:00",
          "2023-03-05T00:00:00",
          "2023-03-12T00:00:00",
          "2023-03-19T00:00:00",
          "2023-03-26T00:00:00",
          "2023-04-02T00:00:00",
          "2023-04-09T00:00:00",
          "2023-04-16T00:00:00",
          "2023-04-23T00:00:00",
          "2023-04-30T00:00:00"
         ],
         "xaxis": "x",
         "y": [
          72.47,
          72.23,
          73.84,
          74.41,
          71.47,
          74.25,
          74.8,
          76.71,
          75.9,
          73.15,
          74.37,
          74,
          73.99,
          75.36,
          75.77,
          74.1,
          77.09,
          79.8,
          77.65,
          75.79,
          79.56,
          82.88,
          78.77,
          77.82,
          77.99,
          82.17,
          81.62,
          83.88,
          82.09,
          81.14,
          81.41,
          78.37,
          84,
          79.64,
          79.71,
          75.86,
          77.03,
          71.57,
          69.94,
          71.11,
          73.28,
          71.76,
          76.01,
          73.9,
          71.08,
          74.58,
          72.82,
          71.78,
          70.52,
          72.58,
          71.83,
          71.38,
          69.49,
          67.1,
          67.93,
          68.07,
          68.88,
          68.83,
          66.76,
          69.48,
          61.12,
          61.6,
          60.87,
          64.96,
          63.65,
          63.18,
          59.38
         ],
         "yaxis": "y"
        },
        {
         "hovertemplate": "Sheep_Class=B3<br>date_to=%{x}<br>avg_purch=%{y}<extra></extra>",
         "legendgroup": "B3",
         "line": {
          "color": "#636efa",
          "dash": "solid"
         },
         "marker": {
          "symbol": "circle"
         },
         "mode": "lines",
         "name": "B3",
         "orientation": "v",
         "showlegend": true,
         "type": "scatter",
         "x": [
          "2022-01-16T00:00:00",
          "2022-01-23T00:00:00",
          "2022-01-30T00:00:00",
          "2022-02-06T00:00:00",
          "2022-02-13T00:00:00",
          "2022-02-20T00:00:00",
          "2022-02-27T00:00:00",
          "2022-03-06T00:00:00",
          "2022-03-13T00:00:00",
          "2022-03-20T00:00:00",
          "2022-03-27T00:00:00",
          "2022-04-03T00:00:00",
          "2022-04-10T00:00:00",
          "2022-04-24T00:00:00",
          "2022-05-01T00:00:00",
          "2022-05-08T00:00:00",
          "2022-05-15T00:00:00",
          "2022-05-22T00:00:00",
          "2022-05-22T00:00:00",
          "2022-06-12T00:00:00",
          "2022-06-19T00:00:00",
          "2022-06-26T00:00:00",
          "2022-07-03T00:00:00",
          "2022-07-10T00:00:00",
          "2022-07-17T00:00:00",
          "2022-07-24T00:00:00",
          "2022-07-31T00:00:00",
          "2022-08-07T00:00:00",
          "2022-08-14T00:00:00",
          "2022-08-21T00:00:00",
          "2022-08-28T00:00:00",
          "2022-09-04T00:00:00",
          "2022-09-11T00:00:00",
          "2022-09-18T00:00:00",
          "2022-09-25T00:00:00",
          "2022-10-02T00:00:00",
          "2022-10-09T00:00:00",
          "2022-10-16T00:00:00",
          "2022-10-23T00:00:00",
          "2022-10-30T00:00:00",
          "2022-11-06T00:00:00",
          "2022-11-13T00:00:00",
          "2022-11-20T00:00:00",
          "2022-11-27T00:00:00",
          "2022-12-04T00:00:00",
          "2022-12-11T00:00:00",
          "2022-12-18T00:00:00",
          "2022-12-25T00:00:00",
          "2023-01-01T00:00:00",
          "2023-01-08T00:00:00",
          "2023-01-15T00:00:00",
          "2023-01-22T00:00:00",
          "2023-01-29T00:00:00",
          "2023-02-05T00:00:00",
          "2023-02-12T00:00:00",
          "2023-02-19T00:00:00",
          "2023-02-26T00:00:00",
          "2023-03-05T00:00:00",
          "2023-03-12T00:00:00",
          "2023-03-19T00:00:00",
          "2023-03-26T00:00:00",
          "2023-04-02T00:00:00",
          "2023-04-09T00:00:00",
          "2023-04-16T00:00:00",
          "2023-04-23T00:00:00",
          "2023-04-30T00:00:00"
         ],
         "xaxis": "x",
         "y": [
          70.93,
          72,
          73.91,
          76,
          76,
          76,
          76.35,
          77.38,
          70,
          74,
          74.87,
          74.54,
          74,
          75.49,
          75.97,
          73.5,
          76.42,
          70.2,
          72.96,
          78.95,
          82.87,
          78.54,
          82,
          80.85,
          81.17,
          79.75,
          79.73,
          82.91,
          78.12,
          76.84,
          78.03,
          86,
          80.28,
          79.08,
          74.54,
          75.6,
          61.72,
          67.78,
          71.28,
          71.69,
          73.15,
          76.77,
          70.02,
          71.07,
          75.76,
          72.85,
          69.51,
          68.24,
          72.24,
          68.29,
          69.36,
          62.58,
          66.38,
          66.25,
          67,
          65.32,
          67.73,
          66.41,
          64.81,
          59.46,
          59.84,
          62.04,
          58.27,
          58.27,
          57.34,
          55.41
         ],
         "yaxis": "y"
        },
        {
         "hovertemplate": "Sheep_Class=C2<br>date_to=%{x}<br>avg_purch=%{y}<extra></extra>",
         "legendgroup": "C2",
         "line": {
          "color": "#EF553B",
          "dash": "solid"
         },
         "marker": {
          "symbol": "circle"
         },
         "mode": "lines",
         "name": "C2",
         "orientation": "v",
         "showlegend": true,
         "type": "scatter",
         "x": [
          "2022-01-16T00:00:00",
          "2022-01-23T00:00:00",
          "2022-01-30T00:00:00",
          "2022-02-06T00:00:00",
          "2022-02-13T00:00:00",
          "2022-02-20T00:00:00",
          "2022-02-27T00:00:00",
          "2022-03-06T00:00:00",
          "2022-03-13T00:00:00",
          "2022-03-20T00:00:00",
          "2022-03-27T00:00:00",
          "2022-04-03T00:00:00",
          "2022-04-10T00:00:00",
          "2022-04-24T00:00:00",
          "2022-05-01T00:00:00",
          "2022-05-08T00:00:00",
          "2022-05-15T00:00:00",
          "2022-05-22T00:00:00",
          "2022-05-22T00:00:00",
          "2022-06-05T00:00:00",
          "2022-06-12T00:00:00",
          "2022-06-19T00:00:00",
          "2022-06-26T00:00:00",
          "2022-07-03T00:00:00",
          "2022-07-10T00:00:00",
          "2022-07-17T00:00:00",
          "2022-07-24T00:00:00",
          "2022-07-31T00:00:00",
          "2022-08-07T00:00:00",
          "2022-08-14T00:00:00",
          "2022-08-21T00:00:00",
          "2022-08-28T00:00:00",
          "2022-09-04T00:00:00",
          "2022-09-11T00:00:00",
          "2022-09-18T00:00:00",
          "2022-09-25T00:00:00",
          "2022-10-02T00:00:00",
          "2022-10-09T00:00:00",
          "2022-10-16T00:00:00",
          "2022-10-23T00:00:00",
          "2022-10-30T00:00:00",
          "2022-11-06T00:00:00",
          "2022-11-13T00:00:00",
          "2022-11-20T00:00:00",
          "2022-11-27T00:00:00",
          "2022-12-04T00:00:00",
          "2022-12-11T00:00:00",
          "2022-12-18T00:00:00",
          "2022-12-25T00:00:00",
          "2023-01-01T00:00:00",
          "2023-01-08T00:00:00",
          "2023-01-15T00:00:00",
          "2023-01-22T00:00:00",
          "2023-01-29T00:00:00",
          "2023-02-05T00:00:00",
          "2023-02-12T00:00:00",
          "2023-02-19T00:00:00",
          "2023-02-26T00:00:00",
          "2023-03-05T00:00:00",
          "2023-03-12T00:00:00",
          "2023-03-19T00:00:00",
          "2023-03-26T00:00:00",
          "2023-04-02T00:00:00",
          "2023-04-09T00:00:00",
          "2023-04-16T00:00:00",
          "2023-04-23T00:00:00",
          "2023-04-30T00:00:00"
         ],
         "xaxis": "x",
         "y": [
          70.28,
          71.19,
          69.07,
          71.15,
          71.7,
          71.4,
          72.05,
          71.14,
          69.33,
          71.04,
          72.18,
          69.29,
          69.06,
          67.77,
          71.36,
          70.27,
          71.32,
          72.9,
          71.98,
          73.1,
          75.05,
          77.73,
          78.96,
          76.23,
          78.69,
          76.03,
          78.62,
          78.04,
          77.55,
          75.29,
          77.21,
          75.83,
          76.72,
          75.17,
          75.74,
          72.97,
          74.55,
          68.75,
          67.81,
          68.07,
          70.34,
          68.49,
          71.43,
          69.78,
          69.36,
          71.88,
          70.31,
          68.08,
          64.48,
          66.92,
          66.51,
          66.68,
          64.51,
          66.01,
          65.57,
          65.61,
          63.2,
          64.47,
          63.57,
          61.95,
          59.07,
          58.22,
          58.32,
          58.47,
          57.31,
          58.89,
          54.96
         ],
         "yaxis": "y"
        },
        {
         "hovertemplate": "Sheep_Class=A1<br>date_to=%{x}<br>avg_purch=%{y}<extra></extra>",
         "legendgroup": "A1",
         "line": {
          "color": "#00cc96",
          "dash": "solid"
         },
         "marker": {
          "symbol": "circle"
         },
         "mode": "lines",
         "name": "A1",
         "orientation": "v",
         "showlegend": true,
         "type": "scatter",
         "x": [
          "2022-01-16T00:00:00",
          "2022-01-23T00:00:00",
          "2022-01-30T00:00:00",
          "2022-02-06T00:00:00",
          "2022-02-13T00:00:00",
          "2022-02-20T00:00:00",
          "2022-02-27T00:00:00",
          "2022-03-06T00:00:00",
          "2022-03-13T00:00:00",
          "2022-03-20T00:00:00",
          "2022-03-27T00:00:00",
          "2022-04-03T00:00:00",
          "2022-04-10T00:00:00",
          "2022-04-24T00:00:00",
          "2022-05-01T00:00:00",
          "2022-05-08T00:00:00",
          "2022-05-15T00:00:00",
          "2022-05-22T00:00:00",
          "2022-05-22T00:00:00",
          "2022-06-05T00:00:00",
          "2022-06-12T00:00:00",
          "2022-06-19T00:00:00",
          "2022-06-26T00:00:00",
          "2022-07-03T00:00:00",
          "2022-07-10T00:00:00",
          "2022-07-17T00:00:00",
          "2022-07-24T00:00:00",
          "2022-07-31T00:00:00",
          "2022-08-07T00:00:00",
          "2022-08-14T00:00:00",
          "2022-08-21T00:00:00",
          "2022-08-28T00:00:00",
          "2022-09-04T00:00:00",
          "2022-09-11T00:00:00",
          "2022-09-18T00:00:00",
          "2022-09-25T00:00:00",
          "2022-10-02T00:00:00",
          "2022-10-09T00:00:00",
          "2022-10-16T00:00:00",
          "2022-10-23T00:00:00",
          "2022-10-30T00:00:00",
          "2022-11-06T00:00:00",
          "2022-11-13T00:00:00",
          "2022-11-20T00:00:00",
          "2022-11-27T00:00:00",
          "2022-12-04T00:00:00",
          "2022-12-11T00:00:00",
          "2022-12-18T00:00:00",
          "2022-12-25T00:00:00",
          "2023-01-01T00:00:00",
          "2023-01-08T00:00:00",
          "2023-01-15T00:00:00",
          "2023-01-22T00:00:00",
          "2023-01-29T00:00:00",
          "2023-02-05T00:00:00",
          "2023-02-12T00:00:00",
          "2023-02-19T00:00:00",
          "2023-02-26T00:00:00",
          "2023-03-05T00:00:00",
          "2023-03-12T00:00:00",
          "2023-03-19T00:00:00",
          "2023-03-26T00:00:00",
          "2023-04-02T00:00:00",
          "2023-04-09T00:00:00",
          "2023-04-16T00:00:00",
          "2023-04-23T00:00:00",
          "2023-04-30T00:00:00"
         ],
         "xaxis": "x",
         "y": [
          83.56,
          83.01,
          83.35,
          85.14,
          85.63,
          86.35,
          87,
          87.61,
          87,
          86.12,
          87.67,
          89.73,
          91.57,
          95.13,
          92.3,
          93.02,
          95.66,
          102.24,
          98.58,
          110.22,
          105.48,
          108.31,
          92.68,
          111.68,
          107.14,
          99.21,
          99.62,
          98.15,
          102.88,
          95.39,
          100.03,
          100.66,
          101.67,
          97.05,
          95.42,
          92.44,
          89.86,
          85.42,
          83.16,
          83.08,
          86.13,
          88.49,
          90.05,
          91.93,
          93.47,
          93.82,
          91.29,
          89.74,
          85.7,
          87.57,
          90.83,
          86.64,
          83.29,
          82.88,
          84.66,
          84.4,
          82.41,
          83.46,
          83.73,
          81.9,
          81.67,
          80.35,
          82.43,
          83.32,
          83.31,
          84.25,
          84.09
         ],
         "yaxis": "y"
        }
       ],
       "layout": {
        "barmode": "group",
        "legend": {
         "title": {
          "text": "Sheep_Class"
         },
         "tracegroupgap": 0
        },
        "margin": {
         "t": 60
        },
        "template": {
         "data": {
          "bar": [
           {
            "error_x": {
             "color": "#2a3f5f"
            },
            "error_y": {
             "color": "#2a3f5f"
            },
            "marker": {
             "line": {
              "color": "#E5ECF6",
              "width": 0.5
             },
             "pattern": {
              "fillmode": "overlay",
              "size": 10,
              "solidity": 0.2
             }
            },
            "type": "bar"
           }
          ],
          "barpolar": [
           {
            "marker": {
             "line": {
              "color": "#E5ECF6",
              "width": 0.5
             },
             "pattern": {
              "fillmode": "overlay",
              "size": 10,
              "solidity": 0.2
             }
            },
            "type": "barpolar"
           }
          ],
          "carpet": [
           {
            "aaxis": {
             "endlinecolor": "#2a3f5f",
             "gridcolor": "white",
             "linecolor": "white",
             "minorgridcolor": "white",
             "startlinecolor": "#2a3f5f"
            },
            "baxis": {
             "endlinecolor": "#2a3f5f",
             "gridcolor": "white",
             "linecolor": "white",
             "minorgridcolor": "white",
             "startlinecolor": "#2a3f5f"
            },
            "type": "carpet"
           }
          ],
          "choropleth": [
           {
            "colorbar": {
             "outlinewidth": 0,
             "ticks": ""
            },
            "type": "choropleth"
           }
          ],
          "contour": [
           {
            "colorbar": {
             "outlinewidth": 0,
             "ticks": ""
            },
            "colorscale": [
             [
              0,
              "#0d0887"
             ],
             [
              0.1111111111111111,
              "#46039f"
             ],
             [
              0.2222222222222222,
              "#7201a8"
             ],
             [
              0.3333333333333333,
              "#9c179e"
             ],
             [
              0.4444444444444444,
              "#bd3786"
             ],
             [
              0.5555555555555556,
              "#d8576b"
             ],
             [
              0.6666666666666666,
              "#ed7953"
             ],
             [
              0.7777777777777778,
              "#fb9f3a"
             ],
             [
              0.8888888888888888,
              "#fdca26"
             ],
             [
              1,
              "#f0f921"
             ]
            ],
            "type": "contour"
           }
          ],
          "contourcarpet": [
           {
            "colorbar": {
             "outlinewidth": 0,
             "ticks": ""
            },
            "type": "contourcarpet"
           }
          ],
          "heatmap": [
           {
            "colorbar": {
             "outlinewidth": 0,
             "ticks": ""
            },
            "colorscale": [
             [
              0,
              "#0d0887"
             ],
             [
              0.1111111111111111,
              "#46039f"
             ],
             [
              0.2222222222222222,
              "#7201a8"
             ],
             [
              0.3333333333333333,
              "#9c179e"
             ],
             [
              0.4444444444444444,
              "#bd3786"
             ],
             [
              0.5555555555555556,
              "#d8576b"
             ],
             [
              0.6666666666666666,
              "#ed7953"
             ],
             [
              0.7777777777777778,
              "#fb9f3a"
             ],
             [
              0.8888888888888888,
              "#fdca26"
             ],
             [
              1,
              "#f0f921"
             ]
            ],
            "type": "heatmap"
           }
          ],
          "heatmapgl": [
           {
            "colorbar": {
             "outlinewidth": 0,
             "ticks": ""
            },
            "colorscale": [
             [
              0,
              "#0d0887"
             ],
             [
              0.1111111111111111,
              "#46039f"
             ],
             [
              0.2222222222222222,
              "#7201a8"
             ],
             [
              0.3333333333333333,
              "#9c179e"
             ],
             [
              0.4444444444444444,
              "#bd3786"
             ],
             [
              0.5555555555555556,
              "#d8576b"
             ],
             [
              0.6666666666666666,
              "#ed7953"
             ],
             [
              0.7777777777777778,
              "#fb9f3a"
             ],
             [
              0.8888888888888888,
              "#fdca26"
             ],
             [
              1,
              "#f0f921"
             ]
            ],
            "type": "heatmapgl"
           }
          ],
          "histogram": [
           {
            "marker": {
             "pattern": {
              "fillmode": "overlay",
              "size": 10,
              "solidity": 0.2
             }
            },
            "type": "histogram"
           }
          ],
          "histogram2d": [
           {
            "colorbar": {
             "outlinewidth": 0,
             "ticks": ""
            },
            "colorscale": [
             [
              0,
              "#0d0887"
             ],
             [
              0.1111111111111111,
              "#46039f"
             ],
             [
              0.2222222222222222,
              "#7201a8"
             ],
             [
              0.3333333333333333,
              "#9c179e"
             ],
             [
              0.4444444444444444,
              "#bd3786"
             ],
             [
              0.5555555555555556,
              "#d8576b"
             ],
             [
              0.6666666666666666,
              "#ed7953"
             ],
             [
              0.7777777777777778,
              "#fb9f3a"
             ],
             [
              0.8888888888888888,
              "#fdca26"
             ],
             [
              1,
              "#f0f921"
             ]
            ],
            "type": "histogram2d"
           }
          ],
          "histogram2dcontour": [
           {
            "colorbar": {
             "outlinewidth": 0,
             "ticks": ""
            },
            "colorscale": [
             [
              0,
              "#0d0887"
             ],
             [
              0.1111111111111111,
              "#46039f"
             ],
             [
              0.2222222222222222,
              "#7201a8"
             ],
             [
              0.3333333333333333,
              "#9c179e"
             ],
             [
              0.4444444444444444,
              "#bd3786"
             ],
             [
              0.5555555555555556,
              "#d8576b"
             ],
             [
              0.6666666666666666,
              "#ed7953"
             ],
             [
              0.7777777777777778,
              "#fb9f3a"
             ],
             [
              0.8888888888888888,
              "#fdca26"
             ],
             [
              1,
              "#f0f921"
             ]
            ],
            "type": "histogram2dcontour"
           }
          ],
          "mesh3d": [
           {
            "colorbar": {
             "outlinewidth": 0,
             "ticks": ""
            },
            "type": "mesh3d"
           }
          ],
          "parcoords": [
           {
            "line": {
             "colorbar": {
              "outlinewidth": 0,
              "ticks": ""
             }
            },
            "type": "parcoords"
           }
          ],
          "pie": [
           {
            "automargin": true,
            "type": "pie"
           }
          ],
          "scatter": [
           {
            "fillpattern": {
             "fillmode": "overlay",
             "size": 10,
             "solidity": 0.2
            },
            "type": "scatter"
           }
          ],
          "scatter3d": [
           {
            "line": {
             "colorbar": {
              "outlinewidth": 0,
              "ticks": ""
             }
            },
            "marker": {
             "colorbar": {
              "outlinewidth": 0,
              "ticks": ""
             }
            },
            "type": "scatter3d"
           }
          ],
          "scattercarpet": [
           {
            "marker": {
             "colorbar": {
              "outlinewidth": 0,
              "ticks": ""
             }
            },
            "type": "scattercarpet"
           }
          ],
          "scattergeo": [
           {
            "marker": {
             "colorbar": {
              "outlinewidth": 0,
              "ticks": ""
             }
            },
            "type": "scattergeo"
           }
          ],
          "scattergl": [
           {
            "marker": {
             "colorbar": {
              "outlinewidth": 0,
              "ticks": ""
             }
            },
            "type": "scattergl"
           }
          ],
          "scattermapbox": [
           {
            "marker": {
             "colorbar": {
              "outlinewidth": 0,
              "ticks": ""
             }
            },
            "type": "scattermapbox"
           }
          ],
          "scatterpolar": [
           {
            "marker": {
             "colorbar": {
              "outlinewidth": 0,
              "ticks": ""
             }
            },
            "type": "scatterpolar"
           }
          ],
          "scatterpolargl": [
           {
            "marker": {
             "colorbar": {
              "outlinewidth": 0,
              "ticks": ""
             }
            },
            "type": "scatterpolargl"
           }
          ],
          "scatterternary": [
           {
            "marker": {
             "colorbar": {
              "outlinewidth": 0,
              "ticks": ""
             }
            },
            "type": "scatterternary"
           }
          ],
          "surface": [
           {
            "colorbar": {
             "outlinewidth": 0,
             "ticks": ""
            },
            "colorscale": [
             [
              0,
              "#0d0887"
             ],
             [
              0.1111111111111111,
              "#46039f"
             ],
             [
              0.2222222222222222,
              "#7201a8"
             ],
             [
              0.3333333333333333,
              "#9c179e"
             ],
             [
              0.4444444444444444,
              "#bd3786"
             ],
             [
              0.5555555555555556,
              "#d8576b"
             ],
             [
              0.6666666666666666,
              "#ed7953"
             ],
             [
              0.7777777777777778,
              "#fb9f3a"
             ],
             [
              0.8888888888888888,
              "#fdca26"
             ],
             [
              1,
              "#f0f921"
             ]
            ],
            "type": "surface"
           }
          ],
          "table": [
           {
            "cells": {
             "fill": {
              "color": "#EBF0F8"
             },
             "line": {
              "color": "white"
             }
            },
            "header": {
             "fill": {
              "color": "#C8D4E3"
             },
             "line": {
              "color": "white"
             }
            },
            "type": "table"
           }
          ]
         },
         "layout": {
          "annotationdefaults": {
           "arrowcolor": "#2a3f5f",
           "arrowhead": 0,
           "arrowwidth": 1
          },
          "autotypenumbers": "strict",
          "coloraxis": {
           "colorbar": {
            "outlinewidth": 0,
            "ticks": ""
           }
          },
          "colorscale": {
           "diverging": [
            [
             0,
             "#8e0152"
            ],
            [
             0.1,
             "#c51b7d"
            ],
            [
             0.2,
             "#de77ae"
            ],
            [
             0.3,
             "#f1b6da"
            ],
            [
             0.4,
             "#fde0ef"
            ],
            [
             0.5,
             "#f7f7f7"
            ],
            [
             0.6,
             "#e6f5d0"
            ],
            [
             0.7,
             "#b8e186"
            ],
            [
             0.8,
             "#7fbc41"
            ],
            [
             0.9,
             "#4d9221"
            ],
            [
             1,
             "#276419"
            ]
           ],
           "sequential": [
            [
             0,
             "#0d0887"
            ],
            [
             0.1111111111111111,
             "#46039f"
            ],
            [
             0.2222222222222222,
             "#7201a8"
            ],
            [
             0.3333333333333333,
             "#9c179e"
            ],
            [
             0.4444444444444444,
             "#bd3786"
            ],
            [
             0.5555555555555556,
             "#d8576b"
            ],
            [
             0.6666666666666666,
             "#ed7953"
            ],
            [
             0.7777777777777778,
             "#fb9f3a"
            ],
            [
             0.8888888888888888,
             "#fdca26"
            ],
            [
             1,
             "#f0f921"
            ]
           ],
           "sequentialminus": [
            [
             0,
             "#0d0887"
            ],
            [
             0.1111111111111111,
             "#46039f"
            ],
            [
             0.2222222222222222,
             "#7201a8"
            ],
            [
             0.3333333333333333,
             "#9c179e"
            ],
            [
             0.4444444444444444,
             "#bd3786"
            ],
            [
             0.5555555555555556,
             "#d8576b"
            ],
            [
             0.6666666666666666,
             "#ed7953"
            ],
            [
             0.7777777777777778,
             "#fb9f3a"
            ],
            [
             0.8888888888888888,
             "#fdca26"
            ],
            [
             1,
             "#f0f921"
            ]
           ]
          },
          "colorway": [
           "#636efa",
           "#EF553B",
           "#00cc96",
           "#ab63fa",
           "#FFA15A",
           "#19d3f3",
           "#FF6692",
           "#B6E880",
           "#FF97FF",
           "#FECB52"
          ],
          "font": {
           "color": "#2a3f5f"
          },
          "geo": {
           "bgcolor": "white",
           "lakecolor": "white",
           "landcolor": "#E5ECF6",
           "showlakes": true,
           "showland": true,
           "subunitcolor": "white"
          },
          "hoverlabel": {
           "align": "left"
          },
          "hovermode": "closest",
          "mapbox": {
           "style": "light"
          },
          "paper_bgcolor": "white",
          "plot_bgcolor": "#E5ECF6",
          "polar": {
           "angularaxis": {
            "gridcolor": "white",
            "linecolor": "white",
            "ticks": ""
           },
           "bgcolor": "#E5ECF6",
           "radialaxis": {
            "gridcolor": "white",
            "linecolor": "white",
            "ticks": ""
           }
          },
          "scene": {
           "xaxis": {
            "backgroundcolor": "#E5ECF6",
            "gridcolor": "white",
            "gridwidth": 2,
            "linecolor": "white",
            "showbackground": true,
            "ticks": "",
            "zerolinecolor": "white"
           },
           "yaxis": {
            "backgroundcolor": "#E5ECF6",
            "gridcolor": "white",
            "gridwidth": 2,
            "linecolor": "white",
            "showbackground": true,
            "ticks": "",
            "zerolinecolor": "white"
           },
           "zaxis": {
            "backgroundcolor": "#E5ECF6",
            "gridcolor": "white",
            "gridwidth": 2,
            "linecolor": "white",
            "showbackground": true,
            "ticks": "",
            "zerolinecolor": "white"
           }
          },
          "shapedefaults": {
           "line": {
            "color": "#2a3f5f"
           }
          },
          "ternary": {
           "aaxis": {
            "gridcolor": "white",
            "linecolor": "white",
            "ticks": ""
           },
           "baxis": {
            "gridcolor": "white",
            "linecolor": "white",
            "ticks": ""
           },
           "bgcolor": "#E5ECF6",
           "caxis": {
            "gridcolor": "white",
            "linecolor": "white",
            "ticks": ""
           }
          },
          "title": {
           "x": 0.05
          },
          "xaxis": {
           "automargin": true,
           "gridcolor": "white",
           "linecolor": "white",
           "ticks": "",
           "title": {
            "standoff": 15
           },
           "zerolinecolor": "white",
           "zerolinewidth": 2
          },
          "yaxis": {
           "automargin": true,
           "gridcolor": "white",
           "linecolor": "white",
           "ticks": "",
           "title": {
            "standoff": 15
           },
           "zerolinecolor": "white",
           "zerolinewidth": 2
          }
         }
        },
        "title": {
         "text": "Plot Avg Purchase Price versus Dates"
        },
        "xaxis": {
         "anchor": "y",
         "domain": [
          0,
          1
         ],
         "rangeselector": {
          "buttons": [
           {
            "count": 1,
            "label": "1m",
            "step": "month",
            "stepmode": "backward"
           },
           {
            "count": 6,
            "label": "6m",
            "step": "month",
            "stepmode": "backward"
           },
           {
            "count": 1,
            "label": "YTD",
            "step": "year",
            "stepmode": "todate"
           },
           {
            "count": 1,
            "label": "1y",
            "step": "year",
            "stepmode": "backward"
           },
           {
            "step": "all"
           }
          ]
         },
         "rangeslider": {
          "visible": true
         },
         "title": {
          "text": "date_to"
         },
         "type": "date"
        },
        "yaxis": {
         "anchor": "x",
         "domain": [
          0,
          1
         ],
         "title": {
          "text": "avg_purch"
         }
        }
       }
      }
     },
     "metadata": {},
     "output_type": "display_data"
    },
    {
     "data": {
      "text/plain": [
       "<function __main__.sheepplotly1()>"
      ]
     },
     "execution_count": 29,
     "metadata": {},
     "output_type": "execute_result"
    }
   ],
   "source": [
    "# Visuals for the Sheep Subset of the Livestock Dataset\n",
    "\n",
    "df2_1 = df2_1.sort_values(by=['date_to']).reset_index(drop = True)\n",
    "\n",
    "def sheepplotly1(): \n",
    "    \n",
    "    \n",
    "    fig = px.line(df2_1, x='date_to', y='avg_purch', color='Sheep_Class')\n",
    "    \n",
    "    fig.update_layout(barmode = 'group', \n",
    "    title= \"Plot Avg Purchase Price versus Dates\")\n",
    "\n",
    "    \n",
    "    # Add range slider\n",
    "    fig.update_layout(\n",
    "        xaxis=dict(\n",
    "            rangeselector=dict(\n",
    "                buttons=list([\n",
    "                    dict(count=1,\n",
    "                         label=\"1m\",\n",
    "                         step=\"month\",\n",
    "                         stepmode=\"backward\"),\n",
    "                    dict(count=6,\n",
    "                         label=\"6m\",\n",
    "                         step=\"month\",\n",
    "                         stepmode=\"backward\"),\n",
    "                    dict(count=1,\n",
    "                         label=\"YTD\",\n",
    "                         step=\"year\",\n",
    "                         stepmode=\"todate\"),\n",
    "                    dict(count=1,\n",
    "                         label=\"1y\",\n",
    "                         step=\"year\",\n",
    "                         stepmode=\"backward\"),\n",
    "                    dict(step=\"all\")\n",
    "                ])\n",
    "            ),\n",
    "            rangeslider=dict(\n",
    "                visible=True\n",
    "            ),\n",
    "            type=\"date\"\n",
    "        )\n",
    "    )\n",
    "\n",
    "    fig.show()\n",
    "\n",
    "widgets.interact(sheepplotly1)"
   ]
  },
  {
   "cell_type": "code",
   "execution_count": 30,
   "id": "3093b438",
   "metadata": {},
   "outputs": [
    {
     "data": {
      "application/vnd.jupyter.widget-view+json": {
       "model_id": "d7e7e30d2efb4e9eace5097f3077de55",
       "version_major": 2,
       "version_minor": 0
      },
      "text/plain": [
       "interactive(children=(Output(),), _dom_classes=('widget-interact',))"
      ]
     },
     "metadata": {},
     "output_type": "display_data"
    },
    {
     "data": {
      "application/vnd.plotly.v1+json": {
       "config": {
        "plotlyServerURL": "https://plot.ly"
       },
       "data": [
        {
         "domain": {
          "x": [
           0,
           1
          ],
          "y": [
           0,
           1
          ]
         },
         "hoverinfo": "label+percent+name",
         "hovertemplate": "label=%{label}<br>value=%{value}<extra></extra>",
         "labels": [
          "A0",
          "C3",
          "A2",
          "A3",
          "A4",
          "A5",
          "A6",
          "AB2",
          "B2",
          "C2",
          "A1",
          "B3",
          "AB3"
         ],
         "legendgroup": "",
         "name": "",
         "showlegend": true,
         "textinfo": "value",
         "type": "pie",
         "values": [
          67,
          67,
          67,
          67,
          67,
          67,
          67,
          67,
          67,
          67,
          67,
          66,
          65
         ]
        }
       ],
       "layout": {
        "annotations": [
         {
          "font": {
           "size": 13
          },
          "showarrow": false,
          "text": "Sheep Class",
          "x": 0.5,
          "y": 0.5
         }
        ],
        "legend": {
         "tracegroupgap": 0
        },
        "margin": {
         "t": 60
        },
        "template": {
         "data": {
          "bar": [
           {
            "error_x": {
             "color": "#2a3f5f"
            },
            "error_y": {
             "color": "#2a3f5f"
            },
            "marker": {
             "line": {
              "color": "#E5ECF6",
              "width": 0.5
             },
             "pattern": {
              "fillmode": "overlay",
              "size": 10,
              "solidity": 0.2
             }
            },
            "type": "bar"
           }
          ],
          "barpolar": [
           {
            "marker": {
             "line": {
              "color": "#E5ECF6",
              "width": 0.5
             },
             "pattern": {
              "fillmode": "overlay",
              "size": 10,
              "solidity": 0.2
             }
            },
            "type": "barpolar"
           }
          ],
          "carpet": [
           {
            "aaxis": {
             "endlinecolor": "#2a3f5f",
             "gridcolor": "white",
             "linecolor": "white",
             "minorgridcolor": "white",
             "startlinecolor": "#2a3f5f"
            },
            "baxis": {
             "endlinecolor": "#2a3f5f",
             "gridcolor": "white",
             "linecolor": "white",
             "minorgridcolor": "white",
             "startlinecolor": "#2a3f5f"
            },
            "type": "carpet"
           }
          ],
          "choropleth": [
           {
            "colorbar": {
             "outlinewidth": 0,
             "ticks": ""
            },
            "type": "choropleth"
           }
          ],
          "contour": [
           {
            "colorbar": {
             "outlinewidth": 0,
             "ticks": ""
            },
            "colorscale": [
             [
              0,
              "#0d0887"
             ],
             [
              0.1111111111111111,
              "#46039f"
             ],
             [
              0.2222222222222222,
              "#7201a8"
             ],
             [
              0.3333333333333333,
              "#9c179e"
             ],
             [
              0.4444444444444444,
              "#bd3786"
             ],
             [
              0.5555555555555556,
              "#d8576b"
             ],
             [
              0.6666666666666666,
              "#ed7953"
             ],
             [
              0.7777777777777778,
              "#fb9f3a"
             ],
             [
              0.8888888888888888,
              "#fdca26"
             ],
             [
              1,
              "#f0f921"
             ]
            ],
            "type": "contour"
           }
          ],
          "contourcarpet": [
           {
            "colorbar": {
             "outlinewidth": 0,
             "ticks": ""
            },
            "type": "contourcarpet"
           }
          ],
          "heatmap": [
           {
            "colorbar": {
             "outlinewidth": 0,
             "ticks": ""
            },
            "colorscale": [
             [
              0,
              "#0d0887"
             ],
             [
              0.1111111111111111,
              "#46039f"
             ],
             [
              0.2222222222222222,
              "#7201a8"
             ],
             [
              0.3333333333333333,
              "#9c179e"
             ],
             [
              0.4444444444444444,
              "#bd3786"
             ],
             [
              0.5555555555555556,
              "#d8576b"
             ],
             [
              0.6666666666666666,
              "#ed7953"
             ],
             [
              0.7777777777777778,
              "#fb9f3a"
             ],
             [
              0.8888888888888888,
              "#fdca26"
             ],
             [
              1,
              "#f0f921"
             ]
            ],
            "type": "heatmap"
           }
          ],
          "heatmapgl": [
           {
            "colorbar": {
             "outlinewidth": 0,
             "ticks": ""
            },
            "colorscale": [
             [
              0,
              "#0d0887"
             ],
             [
              0.1111111111111111,
              "#46039f"
             ],
             [
              0.2222222222222222,
              "#7201a8"
             ],
             [
              0.3333333333333333,
              "#9c179e"
             ],
             [
              0.4444444444444444,
              "#bd3786"
             ],
             [
              0.5555555555555556,
              "#d8576b"
             ],
             [
              0.6666666666666666,
              "#ed7953"
             ],
             [
              0.7777777777777778,
              "#fb9f3a"
             ],
             [
              0.8888888888888888,
              "#fdca26"
             ],
             [
              1,
              "#f0f921"
             ]
            ],
            "type": "heatmapgl"
           }
          ],
          "histogram": [
           {
            "marker": {
             "pattern": {
              "fillmode": "overlay",
              "size": 10,
              "solidity": 0.2
             }
            },
            "type": "histogram"
           }
          ],
          "histogram2d": [
           {
            "colorbar": {
             "outlinewidth": 0,
             "ticks": ""
            },
            "colorscale": [
             [
              0,
              "#0d0887"
             ],
             [
              0.1111111111111111,
              "#46039f"
             ],
             [
              0.2222222222222222,
              "#7201a8"
             ],
             [
              0.3333333333333333,
              "#9c179e"
             ],
             [
              0.4444444444444444,
              "#bd3786"
             ],
             [
              0.5555555555555556,
              "#d8576b"
             ],
             [
              0.6666666666666666,
              "#ed7953"
             ],
             [
              0.7777777777777778,
              "#fb9f3a"
             ],
             [
              0.8888888888888888,
              "#fdca26"
             ],
             [
              1,
              "#f0f921"
             ]
            ],
            "type": "histogram2d"
           }
          ],
          "histogram2dcontour": [
           {
            "colorbar": {
             "outlinewidth": 0,
             "ticks": ""
            },
            "colorscale": [
             [
              0,
              "#0d0887"
             ],
             [
              0.1111111111111111,
              "#46039f"
             ],
             [
              0.2222222222222222,
              "#7201a8"
             ],
             [
              0.3333333333333333,
              "#9c179e"
             ],
             [
              0.4444444444444444,
              "#bd3786"
             ],
             [
              0.5555555555555556,
              "#d8576b"
             ],
             [
              0.6666666666666666,
              "#ed7953"
             ],
             [
              0.7777777777777778,
              "#fb9f3a"
             ],
             [
              0.8888888888888888,
              "#fdca26"
             ],
             [
              1,
              "#f0f921"
             ]
            ],
            "type": "histogram2dcontour"
           }
          ],
          "mesh3d": [
           {
            "colorbar": {
             "outlinewidth": 0,
             "ticks": ""
            },
            "type": "mesh3d"
           }
          ],
          "parcoords": [
           {
            "line": {
             "colorbar": {
              "outlinewidth": 0,
              "ticks": ""
             }
            },
            "type": "parcoords"
           }
          ],
          "pie": [
           {
            "automargin": true,
            "type": "pie"
           }
          ],
          "scatter": [
           {
            "fillpattern": {
             "fillmode": "overlay",
             "size": 10,
             "solidity": 0.2
            },
            "type": "scatter"
           }
          ],
          "scatter3d": [
           {
            "line": {
             "colorbar": {
              "outlinewidth": 0,
              "ticks": ""
             }
            },
            "marker": {
             "colorbar": {
              "outlinewidth": 0,
              "ticks": ""
             }
            },
            "type": "scatter3d"
           }
          ],
          "scattercarpet": [
           {
            "marker": {
             "colorbar": {
              "outlinewidth": 0,
              "ticks": ""
             }
            },
            "type": "scattercarpet"
           }
          ],
          "scattergeo": [
           {
            "marker": {
             "colorbar": {
              "outlinewidth": 0,
              "ticks": ""
             }
            },
            "type": "scattergeo"
           }
          ],
          "scattergl": [
           {
            "marker": {
             "colorbar": {
              "outlinewidth": 0,
              "ticks": ""
             }
            },
            "type": "scattergl"
           }
          ],
          "scattermapbox": [
           {
            "marker": {
             "colorbar": {
              "outlinewidth": 0,
              "ticks": ""
             }
            },
            "type": "scattermapbox"
           }
          ],
          "scatterpolar": [
           {
            "marker": {
             "colorbar": {
              "outlinewidth": 0,
              "ticks": ""
             }
            },
            "type": "scatterpolar"
           }
          ],
          "scatterpolargl": [
           {
            "marker": {
             "colorbar": {
              "outlinewidth": 0,
              "ticks": ""
             }
            },
            "type": "scatterpolargl"
           }
          ],
          "scatterternary": [
           {
            "marker": {
             "colorbar": {
              "outlinewidth": 0,
              "ticks": ""
             }
            },
            "type": "scatterternary"
           }
          ],
          "surface": [
           {
            "colorbar": {
             "outlinewidth": 0,
             "ticks": ""
            },
            "colorscale": [
             [
              0,
              "#0d0887"
             ],
             [
              0.1111111111111111,
              "#46039f"
             ],
             [
              0.2222222222222222,
              "#7201a8"
             ],
             [
              0.3333333333333333,
              "#9c179e"
             ],
             [
              0.4444444444444444,
              "#bd3786"
             ],
             [
              0.5555555555555556,
              "#d8576b"
             ],
             [
              0.6666666666666666,
              "#ed7953"
             ],
             [
              0.7777777777777778,
              "#fb9f3a"
             ],
             [
              0.8888888888888888,
              "#fdca26"
             ],
             [
              1,
              "#f0f921"
             ]
            ],
            "type": "surface"
           }
          ],
          "table": [
           {
            "cells": {
             "fill": {
              "color": "#EBF0F8"
             },
             "line": {
              "color": "white"
             }
            },
            "header": {
             "fill": {
              "color": "#C8D4E3"
             },
             "line": {
              "color": "white"
             }
            },
            "type": "table"
           }
          ]
         },
         "layout": {
          "annotationdefaults": {
           "arrowcolor": "#2a3f5f",
           "arrowhead": 0,
           "arrowwidth": 1
          },
          "autotypenumbers": "strict",
          "coloraxis": {
           "colorbar": {
            "outlinewidth": 0,
            "ticks": ""
           }
          },
          "colorscale": {
           "diverging": [
            [
             0,
             "#8e0152"
            ],
            [
             0.1,
             "#c51b7d"
            ],
            [
             0.2,
             "#de77ae"
            ],
            [
             0.3,
             "#f1b6da"
            ],
            [
             0.4,
             "#fde0ef"
            ],
            [
             0.5,
             "#f7f7f7"
            ],
            [
             0.6,
             "#e6f5d0"
            ],
            [
             0.7,
             "#b8e186"
            ],
            [
             0.8,
             "#7fbc41"
            ],
            [
             0.9,
             "#4d9221"
            ],
            [
             1,
             "#276419"
            ]
           ],
           "sequential": [
            [
             0,
             "#0d0887"
            ],
            [
             0.1111111111111111,
             "#46039f"
            ],
            [
             0.2222222222222222,
             "#7201a8"
            ],
            [
             0.3333333333333333,
             "#9c179e"
            ],
            [
             0.4444444444444444,
             "#bd3786"
            ],
            [
             0.5555555555555556,
             "#d8576b"
            ],
            [
             0.6666666666666666,
             "#ed7953"
            ],
            [
             0.7777777777777778,
             "#fb9f3a"
            ],
            [
             0.8888888888888888,
             "#fdca26"
            ],
            [
             1,
             "#f0f921"
            ]
           ],
           "sequentialminus": [
            [
             0,
             "#0d0887"
            ],
            [
             0.1111111111111111,
             "#46039f"
            ],
            [
             0.2222222222222222,
             "#7201a8"
            ],
            [
             0.3333333333333333,
             "#9c179e"
            ],
            [
             0.4444444444444444,
             "#bd3786"
            ],
            [
             0.5555555555555556,
             "#d8576b"
            ],
            [
             0.6666666666666666,
             "#ed7953"
            ],
            [
             0.7777777777777778,
             "#fb9f3a"
            ],
            [
             0.8888888888888888,
             "#fdca26"
            ],
            [
             1,
             "#f0f921"
            ]
           ]
          },
          "colorway": [
           "#636efa",
           "#EF553B",
           "#00cc96",
           "#ab63fa",
           "#FFA15A",
           "#19d3f3",
           "#FF6692",
           "#B6E880",
           "#FF97FF",
           "#FECB52"
          ],
          "font": {
           "color": "#2a3f5f"
          },
          "geo": {
           "bgcolor": "white",
           "lakecolor": "white",
           "landcolor": "#E5ECF6",
           "showlakes": true,
           "showland": true,
           "subunitcolor": "white"
          },
          "hoverlabel": {
           "align": "left"
          },
          "hovermode": "closest",
          "mapbox": {
           "style": "light"
          },
          "paper_bgcolor": "white",
          "plot_bgcolor": "#E5ECF6",
          "polar": {
           "angularaxis": {
            "gridcolor": "white",
            "linecolor": "white",
            "ticks": ""
           },
           "bgcolor": "#E5ECF6",
           "radialaxis": {
            "gridcolor": "white",
            "linecolor": "white",
            "ticks": ""
           }
          },
          "scene": {
           "xaxis": {
            "backgroundcolor": "#E5ECF6",
            "gridcolor": "white",
            "gridwidth": 2,
            "linecolor": "white",
            "showbackground": true,
            "ticks": "",
            "zerolinecolor": "white"
           },
           "yaxis": {
            "backgroundcolor": "#E5ECF6",
            "gridcolor": "white",
            "gridwidth": 2,
            "linecolor": "white",
            "showbackground": true,
            "ticks": "",
            "zerolinecolor": "white"
           },
           "zaxis": {
            "backgroundcolor": "#E5ECF6",
            "gridcolor": "white",
            "gridwidth": 2,
            "linecolor": "white",
            "showbackground": true,
            "ticks": "",
            "zerolinecolor": "white"
           }
          },
          "shapedefaults": {
           "line": {
            "color": "#2a3f5f"
           }
          },
          "ternary": {
           "aaxis": {
            "gridcolor": "white",
            "linecolor": "white",
            "ticks": ""
           },
           "baxis": {
            "gridcolor": "white",
            "linecolor": "white",
            "ticks": ""
           },
           "bgcolor": "#E5ECF6",
           "caxis": {
            "gridcolor": "white",
            "linecolor": "white",
            "ticks": ""
           }
          },
          "title": {
           "x": 0.05
          },
          "xaxis": {
           "automargin": true,
           "gridcolor": "white",
           "linecolor": "white",
           "ticks": "",
           "title": {
            "standoff": 15
           },
           "zerolinecolor": "white",
           "zerolinewidth": 2
          },
          "yaxis": {
           "automargin": true,
           "gridcolor": "white",
           "linecolor": "white",
           "ticks": "",
           "title": {
            "standoff": 15
           },
           "zerolinecolor": "white",
           "zerolinewidth": 2
          }
         }
        },
        "title": {
         "text": "No. of Transactions per Sheep Class; Total No. of Records = 868"
        }
       }
      }
     },
     "metadata": {},
     "output_type": "display_data"
    },
    {
     "data": {
      "text/plain": [
       "<function __main__.sheep_pie()>"
      ]
     },
     "execution_count": 30,
     "metadata": {},
     "output_type": "execute_result"
    }
   ],
   "source": [
    "def sheep_pie():\n",
    "    A = df2_1['Sheep_Class']\n",
    "    B = len(A)\n",
    "    fig = px.pie(A, values=A.value_counts().values, names=A.value_counts().index)\n",
    "    fig.update_traces(hoverinfo='label+percent+name', textinfo='value')\n",
    "    \n",
    "    fig.update_layout(\n",
    "    title_text= f\"No. of Transactions per Sheep Class; Total No. of Records = {B}\",\n",
    "    # Add annotations in the center of the donut pies.\n",
    "    annotations=[dict(text='Sheep Class', x=0.5, y=0.5, font_size=13, showarrow=False)])\n",
    "    fig.show()\n",
    "    \n",
    "widgets.interact(sheep_pie)"
   ]
  },
  {
   "cell_type": "code",
   "execution_count": 31,
   "id": "24e33daa",
   "metadata": {},
   "outputs": [
    {
     "data": {
      "application/vnd.jupyter.widget-view+json": {
       "model_id": "907ca1b4b36f40ca817c590809e4df38",
       "version_major": 2,
       "version_minor": 0
      },
      "text/plain": [
       "interactive(children=(Dropdown(description='Class1', options=('A0', 'C3', 'A2', 'A3', 'A4', 'A5', 'A6', 'AB2',…"
      ]
     },
     "metadata": {},
     "output_type": "display_data"
    },
    {
     "data": {
      "application/vnd.plotly.v1+json": {
       "config": {
        "plotlyServerURL": "https://plot.ly"
       },
       "data": [],
       "layout": {
        "barmode": "group",
        "legend": {
         "tracegroupgap": 0
        },
        "margin": {
         "t": 60
        },
        "template": {
         "data": {
          "bar": [
           {
            "error_x": {
             "color": "#2a3f5f"
            },
            "error_y": {
             "color": "#2a3f5f"
            },
            "marker": {
             "line": {
              "color": "#E5ECF6",
              "width": 0.5
             },
             "pattern": {
              "fillmode": "overlay",
              "size": 10,
              "solidity": 0.2
             }
            },
            "type": "bar"
           }
          ],
          "barpolar": [
           {
            "marker": {
             "line": {
              "color": "#E5ECF6",
              "width": 0.5
             },
             "pattern": {
              "fillmode": "overlay",
              "size": 10,
              "solidity": 0.2
             }
            },
            "type": "barpolar"
           }
          ],
          "carpet": [
           {
            "aaxis": {
             "endlinecolor": "#2a3f5f",
             "gridcolor": "white",
             "linecolor": "white",
             "minorgridcolor": "white",
             "startlinecolor": "#2a3f5f"
            },
            "baxis": {
             "endlinecolor": "#2a3f5f",
             "gridcolor": "white",
             "linecolor": "white",
             "minorgridcolor": "white",
             "startlinecolor": "#2a3f5f"
            },
            "type": "carpet"
           }
          ],
          "choropleth": [
           {
            "colorbar": {
             "outlinewidth": 0,
             "ticks": ""
            },
            "type": "choropleth"
           }
          ],
          "contour": [
           {
            "colorbar": {
             "outlinewidth": 0,
             "ticks": ""
            },
            "colorscale": [
             [
              0,
              "#0d0887"
             ],
             [
              0.1111111111111111,
              "#46039f"
             ],
             [
              0.2222222222222222,
              "#7201a8"
             ],
             [
              0.3333333333333333,
              "#9c179e"
             ],
             [
              0.4444444444444444,
              "#bd3786"
             ],
             [
              0.5555555555555556,
              "#d8576b"
             ],
             [
              0.6666666666666666,
              "#ed7953"
             ],
             [
              0.7777777777777778,
              "#fb9f3a"
             ],
             [
              0.8888888888888888,
              "#fdca26"
             ],
             [
              1,
              "#f0f921"
             ]
            ],
            "type": "contour"
           }
          ],
          "contourcarpet": [
           {
            "colorbar": {
             "outlinewidth": 0,
             "ticks": ""
            },
            "type": "contourcarpet"
           }
          ],
          "heatmap": [
           {
            "colorbar": {
             "outlinewidth": 0,
             "ticks": ""
            },
            "colorscale": [
             [
              0,
              "#0d0887"
             ],
             [
              0.1111111111111111,
              "#46039f"
             ],
             [
              0.2222222222222222,
              "#7201a8"
             ],
             [
              0.3333333333333333,
              "#9c179e"
             ],
             [
              0.4444444444444444,
              "#bd3786"
             ],
             [
              0.5555555555555556,
              "#d8576b"
             ],
             [
              0.6666666666666666,
              "#ed7953"
             ],
             [
              0.7777777777777778,
              "#fb9f3a"
             ],
             [
              0.8888888888888888,
              "#fdca26"
             ],
             [
              1,
              "#f0f921"
             ]
            ],
            "type": "heatmap"
           }
          ],
          "heatmapgl": [
           {
            "colorbar": {
             "outlinewidth": 0,
             "ticks": ""
            },
            "colorscale": [
             [
              0,
              "#0d0887"
             ],
             [
              0.1111111111111111,
              "#46039f"
             ],
             [
              0.2222222222222222,
              "#7201a8"
             ],
             [
              0.3333333333333333,
              "#9c179e"
             ],
             [
              0.4444444444444444,
              "#bd3786"
             ],
             [
              0.5555555555555556,
              "#d8576b"
             ],
             [
              0.6666666666666666,
              "#ed7953"
             ],
             [
              0.7777777777777778,
              "#fb9f3a"
             ],
             [
              0.8888888888888888,
              "#fdca26"
             ],
             [
              1,
              "#f0f921"
             ]
            ],
            "type": "heatmapgl"
           }
          ],
          "histogram": [
           {
            "marker": {
             "pattern": {
              "fillmode": "overlay",
              "size": 10,
              "solidity": 0.2
             }
            },
            "type": "histogram"
           }
          ],
          "histogram2d": [
           {
            "colorbar": {
             "outlinewidth": 0,
             "ticks": ""
            },
            "colorscale": [
             [
              0,
              "#0d0887"
             ],
             [
              0.1111111111111111,
              "#46039f"
             ],
             [
              0.2222222222222222,
              "#7201a8"
             ],
             [
              0.3333333333333333,
              "#9c179e"
             ],
             [
              0.4444444444444444,
              "#bd3786"
             ],
             [
              0.5555555555555556,
              "#d8576b"
             ],
             [
              0.6666666666666666,
              "#ed7953"
             ],
             [
              0.7777777777777778,
              "#fb9f3a"
             ],
             [
              0.8888888888888888,
              "#fdca26"
             ],
             [
              1,
              "#f0f921"
             ]
            ],
            "type": "histogram2d"
           }
          ],
          "histogram2dcontour": [
           {
            "colorbar": {
             "outlinewidth": 0,
             "ticks": ""
            },
            "colorscale": [
             [
              0,
              "#0d0887"
             ],
             [
              0.1111111111111111,
              "#46039f"
             ],
             [
              0.2222222222222222,
              "#7201a8"
             ],
             [
              0.3333333333333333,
              "#9c179e"
             ],
             [
              0.4444444444444444,
              "#bd3786"
             ],
             [
              0.5555555555555556,
              "#d8576b"
             ],
             [
              0.6666666666666666,
              "#ed7953"
             ],
             [
              0.7777777777777778,
              "#fb9f3a"
             ],
             [
              0.8888888888888888,
              "#fdca26"
             ],
             [
              1,
              "#f0f921"
             ]
            ],
            "type": "histogram2dcontour"
           }
          ],
          "mesh3d": [
           {
            "colorbar": {
             "outlinewidth": 0,
             "ticks": ""
            },
            "type": "mesh3d"
           }
          ],
          "parcoords": [
           {
            "line": {
             "colorbar": {
              "outlinewidth": 0,
              "ticks": ""
             }
            },
            "type": "parcoords"
           }
          ],
          "pie": [
           {
            "automargin": true,
            "type": "pie"
           }
          ],
          "scatter": [
           {
            "fillpattern": {
             "fillmode": "overlay",
             "size": 10,
             "solidity": 0.2
            },
            "type": "scatter"
           }
          ],
          "scatter3d": [
           {
            "line": {
             "colorbar": {
              "outlinewidth": 0,
              "ticks": ""
             }
            },
            "marker": {
             "colorbar": {
              "outlinewidth": 0,
              "ticks": ""
             }
            },
            "type": "scatter3d"
           }
          ],
          "scattercarpet": [
           {
            "marker": {
             "colorbar": {
              "outlinewidth": 0,
              "ticks": ""
             }
            },
            "type": "scattercarpet"
           }
          ],
          "scattergeo": [
           {
            "marker": {
             "colorbar": {
              "outlinewidth": 0,
              "ticks": ""
             }
            },
            "type": "scattergeo"
           }
          ],
          "scattergl": [
           {
            "marker": {
             "colorbar": {
              "outlinewidth": 0,
              "ticks": ""
             }
            },
            "type": "scattergl"
           }
          ],
          "scattermapbox": [
           {
            "marker": {
             "colorbar": {
              "outlinewidth": 0,
              "ticks": ""
             }
            },
            "type": "scattermapbox"
           }
          ],
          "scatterpolar": [
           {
            "marker": {
             "colorbar": {
              "outlinewidth": 0,
              "ticks": ""
             }
            },
            "type": "scatterpolar"
           }
          ],
          "scatterpolargl": [
           {
            "marker": {
             "colorbar": {
              "outlinewidth": 0,
              "ticks": ""
             }
            },
            "type": "scatterpolargl"
           }
          ],
          "scatterternary": [
           {
            "marker": {
             "colorbar": {
              "outlinewidth": 0,
              "ticks": ""
             }
            },
            "type": "scatterternary"
           }
          ],
          "surface": [
           {
            "colorbar": {
             "outlinewidth": 0,
             "ticks": ""
            },
            "colorscale": [
             [
              0,
              "#0d0887"
             ],
             [
              0.1111111111111111,
              "#46039f"
             ],
             [
              0.2222222222222222,
              "#7201a8"
             ],
             [
              0.3333333333333333,
              "#9c179e"
             ],
             [
              0.4444444444444444,
              "#bd3786"
             ],
             [
              0.5555555555555556,
              "#d8576b"
             ],
             [
              0.6666666666666666,
              "#ed7953"
             ],
             [
              0.7777777777777778,
              "#fb9f3a"
             ],
             [
              0.8888888888888888,
              "#fdca26"
             ],
             [
              1,
              "#f0f921"
             ]
            ],
            "type": "surface"
           }
          ],
          "table": [
           {
            "cells": {
             "fill": {
              "color": "#EBF0F8"
             },
             "line": {
              "color": "white"
             }
            },
            "header": {
             "fill": {
              "color": "#C8D4E3"
             },
             "line": {
              "color": "white"
             }
            },
            "type": "table"
           }
          ]
         },
         "layout": {
          "annotationdefaults": {
           "arrowcolor": "#2a3f5f",
           "arrowhead": 0,
           "arrowwidth": 1
          },
          "autotypenumbers": "strict",
          "coloraxis": {
           "colorbar": {
            "outlinewidth": 0,
            "ticks": ""
           }
          },
          "colorscale": {
           "diverging": [
            [
             0,
             "#8e0152"
            ],
            [
             0.1,
             "#c51b7d"
            ],
            [
             0.2,
             "#de77ae"
            ],
            [
             0.3,
             "#f1b6da"
            ],
            [
             0.4,
             "#fde0ef"
            ],
            [
             0.5,
             "#f7f7f7"
            ],
            [
             0.6,
             "#e6f5d0"
            ],
            [
             0.7,
             "#b8e186"
            ],
            [
             0.8,
             "#7fbc41"
            ],
            [
             0.9,
             "#4d9221"
            ],
            [
             1,
             "#276419"
            ]
           ],
           "sequential": [
            [
             0,
             "#0d0887"
            ],
            [
             0.1111111111111111,
             "#46039f"
            ],
            [
             0.2222222222222222,
             "#7201a8"
            ],
            [
             0.3333333333333333,
             "#9c179e"
            ],
            [
             0.4444444444444444,
             "#bd3786"
            ],
            [
             0.5555555555555556,
             "#d8576b"
            ],
            [
             0.6666666666666666,
             "#ed7953"
            ],
            [
             0.7777777777777778,
             "#fb9f3a"
            ],
            [
             0.8888888888888888,
             "#fdca26"
            ],
            [
             1,
             "#f0f921"
            ]
           ],
           "sequentialminus": [
            [
             0,
             "#0d0887"
            ],
            [
             0.1111111111111111,
             "#46039f"
            ],
            [
             0.2222222222222222,
             "#7201a8"
            ],
            [
             0.3333333333333333,
             "#9c179e"
            ],
            [
             0.4444444444444444,
             "#bd3786"
            ],
            [
             0.5555555555555556,
             "#d8576b"
            ],
            [
             0.6666666666666666,
             "#ed7953"
            ],
            [
             0.7777777777777778,
             "#fb9f3a"
            ],
            [
             0.8888888888888888,
             "#fdca26"
            ],
            [
             1,
             "#f0f921"
            ]
           ]
          },
          "colorway": [
           "#636efa",
           "#EF553B",
           "#00cc96",
           "#ab63fa",
           "#FFA15A",
           "#19d3f3",
           "#FF6692",
           "#B6E880",
           "#FF97FF",
           "#FECB52"
          ],
          "font": {
           "color": "#2a3f5f"
          },
          "geo": {
           "bgcolor": "white",
           "lakecolor": "white",
           "landcolor": "#E5ECF6",
           "showlakes": true,
           "showland": true,
           "subunitcolor": "white"
          },
          "hoverlabel": {
           "align": "left"
          },
          "hovermode": "closest",
          "mapbox": {
           "style": "light"
          },
          "paper_bgcolor": "white",
          "plot_bgcolor": "#E5ECF6",
          "polar": {
           "angularaxis": {
            "gridcolor": "white",
            "linecolor": "white",
            "ticks": ""
           },
           "bgcolor": "#E5ECF6",
           "radialaxis": {
            "gridcolor": "white",
            "linecolor": "white",
            "ticks": ""
           }
          },
          "scene": {
           "xaxis": {
            "backgroundcolor": "#E5ECF6",
            "gridcolor": "white",
            "gridwidth": 2,
            "linecolor": "white",
            "showbackground": true,
            "ticks": "",
            "zerolinecolor": "white"
           },
           "yaxis": {
            "backgroundcolor": "#E5ECF6",
            "gridcolor": "white",
            "gridwidth": 2,
            "linecolor": "white",
            "showbackground": true,
            "ticks": "",
            "zerolinecolor": "white"
           },
           "zaxis": {
            "backgroundcolor": "#E5ECF6",
            "gridcolor": "white",
            "gridwidth": 2,
            "linecolor": "white",
            "showbackground": true,
            "ticks": "",
            "zerolinecolor": "white"
           }
          },
          "shapedefaults": {
           "line": {
            "color": "#2a3f5f"
           }
          },
          "ternary": {
           "aaxis": {
            "gridcolor": "white",
            "linecolor": "white",
            "ticks": ""
           },
           "baxis": {
            "gridcolor": "white",
            "linecolor": "white",
            "ticks": ""
           },
           "bgcolor": "#E5ECF6",
           "caxis": {
            "gridcolor": "white",
            "linecolor": "white",
            "ticks": ""
           }
          },
          "title": {
           "x": 0.05
          },
          "xaxis": {
           "automargin": true,
           "gridcolor": "white",
           "linecolor": "white",
           "ticks": "",
           "title": {
            "standoff": 15
           },
           "zerolinecolor": "white",
           "zerolinewidth": 2
          },
          "yaxis": {
           "automargin": true,
           "gridcolor": "white",
           "linecolor": "white",
           "ticks": "",
           "title": {
            "standoff": 15
           },
           "zerolinecolor": "white",
           "zerolinewidth": 2
          }
         }
        },
        "title": {
         "text": "Comparison Between Sheep Class Pairs"
        },
        "xaxis": {
         "anchor": "y",
         "domain": [
          0,
          1
         ],
         "rangeselector": {
          "buttons": [
           {
            "count": 1,
            "label": "1m",
            "step": "month",
            "stepmode": "backward"
           },
           {
            "count": 6,
            "label": "6m",
            "step": "month",
            "stepmode": "backward"
           },
           {
            "count": 1,
            "label": "YTD",
            "step": "year",
            "stepmode": "todate"
           },
           {
            "count": 1,
            "label": "1y",
            "step": "year",
            "stepmode": "backward"
           },
           {
            "step": "all"
           }
          ]
         },
         "rangeslider": {
          "visible": true
         },
         "title": {
          "text": "date_to"
         },
         "type": "date"
        },
        "yaxis": {
         "anchor": "x",
         "domain": [
          0,
          1
         ],
         "title": {
          "text": "avg_purch"
         }
        }
       }
      }
     },
     "metadata": {},
     "output_type": "display_data"
    },
    {
     "data": {
      "text/plain": [
       "<function __main__.sheepplotly2(Class1=None, Class2=None)>"
      ]
     },
     "execution_count": 31,
     "metadata": {},
     "output_type": "execute_result"
    }
   ],
   "source": [
    "# Visuals for the Sheep Subset of the Livestock Dataset for pairwise comparison\n",
    "\n",
    "class_list = list(df2_1.Sheep_Class.unique())\n",
    "\n",
    "\n",
    "def sheepplotly2(Class1 = None, Class2 = None): \n",
    "    options = [Class1, Class2]\n",
    "\n",
    "    A = df2_1[df2_1['Sheep_Class'].isin(options)]\n",
    "    \n",
    "    fig = px.line(A, x='date_to', y='avg_purch', color='Sheep_Class')\n",
    "    \n",
    "    fig.update_layout(barmode = 'group', \n",
    "    title= \"Comparison Between Sheep Class Pairs\")\n",
    "\n",
    "    \n",
    "    # Add range slider\n",
    "    fig.update_layout(\n",
    "        xaxis=dict(\n",
    "            rangeselector=dict(\n",
    "                buttons=list([\n",
    "                    dict(count=1,\n",
    "                         label=\"1m\",\n",
    "                         step=\"month\",\n",
    "                         stepmode=\"backward\"),\n",
    "                    dict(count=6,\n",
    "                         label=\"6m\",\n",
    "                         step=\"month\",\n",
    "                         stepmode=\"backward\"),\n",
    "                    dict(count=1,\n",
    "                         label=\"YTD\",\n",
    "                         step=\"year\",\n",
    "                         stepmode=\"todate\"),\n",
    "                    dict(count=1,\n",
    "                         label=\"1y\",\n",
    "                         step=\"year\",\n",
    "                         stepmode=\"backward\"),\n",
    "                    dict(step=\"all\")\n",
    "                ])\n",
    "            ),\n",
    "            rangeslider=dict(\n",
    "                visible=True\n",
    "            ),\n",
    "            type=\"date\"\n",
    "        )\n",
    "    )\n",
    "\n",
    "    fig.show()\n",
    "\n",
    "widgets.interact(sheepplotly2, Class1 = class_list, Class2 = class_list)"
   ]
  },
  {
   "cell_type": "code",
   "execution_count": 32,
   "id": "ea2f73a8",
   "metadata": {},
   "outputs": [
    {
     "data": {
      "text/html": [
       "<div>\n",
       "<style scoped>\n",
       "    .dataframe tbody tr th:only-of-type {\n",
       "        vertical-align: middle;\n",
       "    }\n",
       "\n",
       "    .dataframe tbody tr th {\n",
       "        vertical-align: top;\n",
       "    }\n",
       "\n",
       "    .dataframe thead th {\n",
       "        text-align: right;\n",
       "    }\n",
       "</style>\n",
       "<table border=\"1\" class=\"dataframe\">\n",
       "  <thead>\n",
       "    <tr style=\"text-align: right;\">\n",
       "      <th></th>\n",
       "      <th>class</th>\n",
       "      <th>units</th>\n",
       "      <th>avg_mass</th>\n",
       "      <th>avg_purch</th>\n",
       "      <th>avg_selling</th>\n",
       "      <th>selling_min</th>\n",
       "      <th>selling_max</th>\n",
       "      <th>date_from</th>\n",
       "      <th>date_to</th>\n",
       "    </tr>\n",
       "  </thead>\n",
       "  <tbody>\n",
       "    <tr>\n",
       "      <th>0</th>\n",
       "      <td>A2</td>\n",
       "      <td>6977</td>\n",
       "      <td>270.88</td>\n",
       "      <td>61.34</td>\n",
       "      <td>63.44</td>\n",
       "      <td>62.27</td>\n",
       "      <td>64.01</td>\n",
       "      <td>2022-05-30</td>\n",
       "      <td>2022-06-05</td>\n",
       "    </tr>\n",
       "    <tr>\n",
       "      <th>1</th>\n",
       "      <td>A3</td>\n",
       "      <td>531</td>\n",
       "      <td>276.90</td>\n",
       "      <td>57.46</td>\n",
       "      <td>62.22</td>\n",
       "      <td>60.83</td>\n",
       "      <td>63.44</td>\n",
       "      <td>2022-05-30</td>\n",
       "      <td>2022-06-05</td>\n",
       "    </tr>\n",
       "    <tr>\n",
       "      <th>2</th>\n",
       "      <td>AB2</td>\n",
       "      <td>591</td>\n",
       "      <td>262.46</td>\n",
       "      <td>58.20</td>\n",
       "      <td>61.35</td>\n",
       "      <td>60.34</td>\n",
       "      <td>62.40</td>\n",
       "      <td>2022-05-30</td>\n",
       "      <td>2022-06-05</td>\n",
       "    </tr>\n",
       "    <tr>\n",
       "      <th>3</th>\n",
       "      <td>AB3</td>\n",
       "      <td>77</td>\n",
       "      <td>261.91</td>\n",
       "      <td>55.68</td>\n",
       "      <td>61.96</td>\n",
       "      <td>61.56</td>\n",
       "      <td>62.45</td>\n",
       "      <td>2022-05-30</td>\n",
       "      <td>2022-06-05</td>\n",
       "    </tr>\n",
       "    <tr>\n",
       "      <th>4</th>\n",
       "      <td>B2</td>\n",
       "      <td>251</td>\n",
       "      <td>261.97</td>\n",
       "      <td>53.96</td>\n",
       "      <td>57.09</td>\n",
       "      <td>52.69</td>\n",
       "      <td>61.54</td>\n",
       "      <td>2022-05-30</td>\n",
       "      <td>2022-06-05</td>\n",
       "    </tr>\n",
       "    <tr>\n",
       "      <th>...</th>\n",
       "      <td>...</td>\n",
       "      <td>...</td>\n",
       "      <td>...</td>\n",
       "      <td>...</td>\n",
       "      <td>...</td>\n",
       "      <td>...</td>\n",
       "      <td>...</td>\n",
       "      <td>...</td>\n",
       "      <td>...</td>\n",
       "    </tr>\n",
       "    <tr>\n",
       "      <th>531</th>\n",
       "      <td>AB3</td>\n",
       "      <td>72</td>\n",
       "      <td>280.44</td>\n",
       "      <td>54.72</td>\n",
       "      <td>58.38</td>\n",
       "      <td>56.50</td>\n",
       "      <td>59.36</td>\n",
       "      <td>2022-02-07</td>\n",
       "      <td>2022-02-13</td>\n",
       "    </tr>\n",
       "    <tr>\n",
       "      <th>532</th>\n",
       "      <td>B2</td>\n",
       "      <td>188</td>\n",
       "      <td>253.51</td>\n",
       "      <td>53.02</td>\n",
       "      <td>54.98</td>\n",
       "      <td>54.10</td>\n",
       "      <td>55.49</td>\n",
       "      <td>2022-02-07</td>\n",
       "      <td>2022-02-13</td>\n",
       "    </tr>\n",
       "    <tr>\n",
       "      <th>533</th>\n",
       "      <td>B3</td>\n",
       "      <td>23</td>\n",
       "      <td>288.85</td>\n",
       "      <td>51.58</td>\n",
       "      <td>56.19</td>\n",
       "      <td>54.73</td>\n",
       "      <td>56.99</td>\n",
       "      <td>2022-02-07</td>\n",
       "      <td>2022-02-13</td>\n",
       "    </tr>\n",
       "    <tr>\n",
       "      <th>534</th>\n",
       "      <td>C2</td>\n",
       "      <td>336</td>\n",
       "      <td>256.79</td>\n",
       "      <td>47.06</td>\n",
       "      <td>46.20</td>\n",
       "      <td>48.32</td>\n",
       "      <td>52.92</td>\n",
       "      <td>2022-02-07</td>\n",
       "      <td>2022-02-13</td>\n",
       "    </tr>\n",
       "    <tr>\n",
       "      <th>535</th>\n",
       "      <td>C3</td>\n",
       "      <td>107</td>\n",
       "      <td>293.20</td>\n",
       "      <td>47.94</td>\n",
       "      <td>52.17</td>\n",
       "      <td>49.90</td>\n",
       "      <td>53.50</td>\n",
       "      <td>2022-02-07</td>\n",
       "      <td>2022-02-13</td>\n",
       "    </tr>\n",
       "  </tbody>\n",
       "</table>\n",
       "<p>536 rows × 9 columns</p>\n",
       "</div>"
      ],
      "text/plain": [
       "    class  units  avg_mass  avg_purch  avg_selling  selling_min  selling_max  \\\n",
       "0      A2   6977    270.88      61.34        63.44        62.27        64.01   \n",
       "1      A3    531    276.90      57.46        62.22        60.83        63.44   \n",
       "2     AB2    591    262.46      58.20        61.35        60.34        62.40   \n",
       "3     AB3     77    261.91      55.68        61.96        61.56        62.45   \n",
       "4      B2    251    261.97      53.96        57.09        52.69        61.54   \n",
       "..    ...    ...       ...        ...          ...          ...          ...   \n",
       "531   AB3     72    280.44      54.72        58.38        56.50        59.36   \n",
       "532    B2    188    253.51      53.02        54.98        54.10        55.49   \n",
       "533    B3     23    288.85      51.58        56.19        54.73        56.99   \n",
       "534    C2    336    256.79      47.06        46.20        48.32        52.92   \n",
       "535    C3    107    293.20      47.94        52.17        49.90        53.50   \n",
       "\n",
       "      date_from     date_to  \n",
       "0    2022-05-30  2022-06-05  \n",
       "1    2022-05-30  2022-06-05  \n",
       "2    2022-05-30  2022-06-05  \n",
       "3    2022-05-30  2022-06-05  \n",
       "4    2022-05-30  2022-06-05  \n",
       "..          ...         ...  \n",
       "531  2022-02-07  2022-02-13  \n",
       "532  2022-02-07  2022-02-13  \n",
       "533  2022-02-07  2022-02-13  \n",
       "534  2022-02-07  2022-02-13  \n",
       "535  2022-02-07  2022-02-13  \n",
       "\n",
       "[536 rows x 9 columns]"
      ]
     },
     "execution_count": 32,
     "metadata": {},
     "output_type": "execute_result"
    }
   ],
   "source": [
    "# Rendering the Cattle subset of the livestock dataset in a dataframe\n",
    "df2_2_raw = pd.read_csv('../tests/Final_Output/Livestock_Cattle_2023-05-09.csv')\n",
    "list2_2 = [0]\n",
    "df2_2 = df2_2_raw[df2_2_raw.avg_purch.isin(list2_2) == False].reset_index(drop = True)\n",
    "df2_2"
   ]
  },
  {
   "cell_type": "code",
   "execution_count": 33,
   "id": "652a00d9",
   "metadata": {},
   "outputs": [
    {
     "name": "stdout",
     "output_type": "stream",
     "text": [
      "<class 'pandas.core.frame.DataFrame'>\n",
      "RangeIndex: 536 entries, 0 to 535\n",
      "Data columns (total 9 columns):\n",
      " #   Column       Non-Null Count  Dtype  \n",
      "---  ------       --------------  -----  \n",
      " 0   class        536 non-null    object \n",
      " 1   units        536 non-null    int64  \n",
      " 2   avg_mass     536 non-null    float64\n",
      " 3   avg_purch    536 non-null    float64\n",
      " 4   avg_selling  536 non-null    float64\n",
      " 5   selling_min  536 non-null    float64\n",
      " 6   selling_max  536 non-null    float64\n",
      " 7   date_from    536 non-null    object \n",
      " 8   date_to      536 non-null    object \n",
      "dtypes: float64(5), int64(1), object(3)\n",
      "memory usage: 37.8+ KB\n"
     ]
    }
   ],
   "source": [
    "df2_2.info()"
   ]
  },
  {
   "cell_type": "code",
   "execution_count": 34,
   "id": "933ae9da",
   "metadata": {},
   "outputs": [
    {
     "data": {
      "text/plain": [
       "class          0\n",
       "units          0\n",
       "avg_mass       0\n",
       "avg_purch      0\n",
       "avg_selling    0\n",
       "selling_min    0\n",
       "selling_max    0\n",
       "date_from      0\n",
       "date_to        0\n",
       "dtype: int64"
      ]
     },
     "execution_count": 34,
     "metadata": {},
     "output_type": "execute_result"
    }
   ],
   "source": [
    "df2_2.isnull().sum()"
   ]
  },
  {
   "cell_type": "code",
   "execution_count": null,
   "id": "6ebbd678",
   "metadata": {},
   "outputs": [],
   "source": []
  },
  {
   "cell_type": "code",
   "execution_count": 35,
   "id": "73edd7d3",
   "metadata": {},
   "outputs": [
    {
     "data": {
      "text/html": [
       "<div>\n",
       "<style scoped>\n",
       "    .dataframe tbody tr th:only-of-type {\n",
       "        vertical-align: middle;\n",
       "    }\n",
       "\n",
       "    .dataframe tbody tr th {\n",
       "        vertical-align: top;\n",
       "    }\n",
       "\n",
       "    .dataframe thead th {\n",
       "        text-align: right;\n",
       "    }\n",
       "</style>\n",
       "<table border=\"1\" class=\"dataframe\">\n",
       "  <thead>\n",
       "    <tr style=\"text-align: right;\">\n",
       "      <th></th>\n",
       "      <th>Cattle_Class</th>\n",
       "      <th>units</th>\n",
       "      <th>avg_mass</th>\n",
       "      <th>avg_purch</th>\n",
       "      <th>avg_selling</th>\n",
       "      <th>selling_min</th>\n",
       "      <th>selling_max</th>\n",
       "      <th>date_from</th>\n",
       "      <th>date_to</th>\n",
       "    </tr>\n",
       "  </thead>\n",
       "  <tbody>\n",
       "    <tr>\n",
       "      <th>0</th>\n",
       "      <td>A2</td>\n",
       "      <td>6977</td>\n",
       "      <td>270.88</td>\n",
       "      <td>61.34</td>\n",
       "      <td>63.44</td>\n",
       "      <td>62.27</td>\n",
       "      <td>64.01</td>\n",
       "      <td>2022-05-30</td>\n",
       "      <td>2022-06-05</td>\n",
       "    </tr>\n",
       "    <tr>\n",
       "      <th>1</th>\n",
       "      <td>A3</td>\n",
       "      <td>531</td>\n",
       "      <td>276.90</td>\n",
       "      <td>57.46</td>\n",
       "      <td>62.22</td>\n",
       "      <td>60.83</td>\n",
       "      <td>63.44</td>\n",
       "      <td>2022-05-30</td>\n",
       "      <td>2022-06-05</td>\n",
       "    </tr>\n",
       "    <tr>\n",
       "      <th>2</th>\n",
       "      <td>AB2</td>\n",
       "      <td>591</td>\n",
       "      <td>262.46</td>\n",
       "      <td>58.20</td>\n",
       "      <td>61.35</td>\n",
       "      <td>60.34</td>\n",
       "      <td>62.40</td>\n",
       "      <td>2022-05-30</td>\n",
       "      <td>2022-06-05</td>\n",
       "    </tr>\n",
       "    <tr>\n",
       "      <th>3</th>\n",
       "      <td>AB3</td>\n",
       "      <td>77</td>\n",
       "      <td>261.91</td>\n",
       "      <td>55.68</td>\n",
       "      <td>61.96</td>\n",
       "      <td>61.56</td>\n",
       "      <td>62.45</td>\n",
       "      <td>2022-05-30</td>\n",
       "      <td>2022-06-05</td>\n",
       "    </tr>\n",
       "    <tr>\n",
       "      <th>4</th>\n",
       "      <td>B2</td>\n",
       "      <td>251</td>\n",
       "      <td>261.97</td>\n",
       "      <td>53.96</td>\n",
       "      <td>57.09</td>\n",
       "      <td>52.69</td>\n",
       "      <td>61.54</td>\n",
       "      <td>2022-05-30</td>\n",
       "      <td>2022-06-05</td>\n",
       "    </tr>\n",
       "    <tr>\n",
       "      <th>5</th>\n",
       "      <td>B3</td>\n",
       "      <td>43</td>\n",
       "      <td>260.32</td>\n",
       "      <td>51.91</td>\n",
       "      <td>55.59</td>\n",
       "      <td>52.67</td>\n",
       "      <td>58.75</td>\n",
       "      <td>2022-05-30</td>\n",
       "      <td>2022-06-05</td>\n",
       "    </tr>\n",
       "    <tr>\n",
       "      <th>6</th>\n",
       "      <td>C2</td>\n",
       "      <td>563</td>\n",
       "      <td>273.33</td>\n",
       "      <td>47.93</td>\n",
       "      <td>51.64</td>\n",
       "      <td>50.04</td>\n",
       "      <td>52.77</td>\n",
       "      <td>2022-05-30</td>\n",
       "      <td>2022-06-05</td>\n",
       "    </tr>\n",
       "    <tr>\n",
       "      <th>7</th>\n",
       "      <td>C3</td>\n",
       "      <td>146</td>\n",
       "      <td>285.30</td>\n",
       "      <td>46.89</td>\n",
       "      <td>51.70</td>\n",
       "      <td>50.15</td>\n",
       "      <td>53.39</td>\n",
       "      <td>2022-05-30</td>\n",
       "      <td>2022-06-05</td>\n",
       "    </tr>\n",
       "    <tr>\n",
       "      <th>8</th>\n",
       "      <td>A2</td>\n",
       "      <td>6302</td>\n",
       "      <td>282.75</td>\n",
       "      <td>59.67</td>\n",
       "      <td>60.25</td>\n",
       "      <td>58.67</td>\n",
       "      <td>60.79</td>\n",
       "      <td>2022-03-07</td>\n",
       "      <td>2022-03-13</td>\n",
       "    </tr>\n",
       "    <tr>\n",
       "      <th>9</th>\n",
       "      <td>A3</td>\n",
       "      <td>378</td>\n",
       "      <td>300.80</td>\n",
       "      <td>59.42</td>\n",
       "      <td>61.33</td>\n",
       "      <td>58.78</td>\n",
       "      <td>63.41</td>\n",
       "      <td>2022-03-07</td>\n",
       "      <td>2022-03-13</td>\n",
       "    </tr>\n",
       "    <tr>\n",
       "      <th>10</th>\n",
       "      <td>AB2</td>\n",
       "      <td>670</td>\n",
       "      <td>276.81</td>\n",
       "      <td>58.87</td>\n",
       "      <td>59.09</td>\n",
       "      <td>58.26</td>\n",
       "      <td>59.23</td>\n",
       "      <td>2022-03-07</td>\n",
       "      <td>2022-03-13</td>\n",
       "    </tr>\n",
       "    <tr>\n",
       "      <th>11</th>\n",
       "      <td>AB3</td>\n",
       "      <td>68</td>\n",
       "      <td>283.55</td>\n",
       "      <td>58.49</td>\n",
       "      <td>59.06</td>\n",
       "      <td>58.79</td>\n",
       "      <td>59.14</td>\n",
       "      <td>2022-03-07</td>\n",
       "      <td>2022-03-13</td>\n",
       "    </tr>\n",
       "    <tr>\n",
       "      <th>12</th>\n",
       "      <td>B2</td>\n",
       "      <td>191</td>\n",
       "      <td>256.22</td>\n",
       "      <td>53.53</td>\n",
       "      <td>54.04</td>\n",
       "      <td>48.32</td>\n",
       "      <td>56.58</td>\n",
       "      <td>2022-03-07</td>\n",
       "      <td>2022-03-13</td>\n",
       "    </tr>\n",
       "    <tr>\n",
       "      <th>13</th>\n",
       "      <td>B3</td>\n",
       "      <td>44</td>\n",
       "      <td>295.56</td>\n",
       "      <td>54.86</td>\n",
       "      <td>55.04</td>\n",
       "      <td>52.74</td>\n",
       "      <td>55.55</td>\n",
       "      <td>2022-03-07</td>\n",
       "      <td>2022-03-13</td>\n",
       "    </tr>\n",
       "    <tr>\n",
       "      <th>14</th>\n",
       "      <td>C2</td>\n",
       "      <td>287</td>\n",
       "      <td>251.31</td>\n",
       "      <td>49.62</td>\n",
       "      <td>49.72</td>\n",
       "      <td>47.56</td>\n",
       "      <td>51.86</td>\n",
       "      <td>2022-03-07</td>\n",
       "      <td>2022-03-13</td>\n",
       "    </tr>\n",
       "    <tr>\n",
       "      <th>15</th>\n",
       "      <td>C3</td>\n",
       "      <td>69</td>\n",
       "      <td>274.98</td>\n",
       "      <td>50.35</td>\n",
       "      <td>50.38</td>\n",
       "      <td>48.97</td>\n",
       "      <td>52.58</td>\n",
       "      <td>2022-03-07</td>\n",
       "      <td>2022-03-13</td>\n",
       "    </tr>\n",
       "    <tr>\n",
       "      <th>16</th>\n",
       "      <td>A2</td>\n",
       "      <td>5926</td>\n",
       "      <td>279.91</td>\n",
       "      <td>61.39</td>\n",
       "      <td>64.49</td>\n",
       "      <td>60.83</td>\n",
       "      <td>66.31</td>\n",
       "      <td>2022-08-22</td>\n",
       "      <td>2022-08-28</td>\n",
       "    </tr>\n",
       "    <tr>\n",
       "      <th>17</th>\n",
       "      <td>A3</td>\n",
       "      <td>621</td>\n",
       "      <td>235.52</td>\n",
       "      <td>61.51</td>\n",
       "      <td>63.58</td>\n",
       "      <td>62.29</td>\n",
       "      <td>65.58</td>\n",
       "      <td>2022-08-22</td>\n",
       "      <td>2022-08-28</td>\n",
       "    </tr>\n",
       "    <tr>\n",
       "      <th>18</th>\n",
       "      <td>AB2</td>\n",
       "      <td>425</td>\n",
       "      <td>278.92</td>\n",
       "      <td>57.25</td>\n",
       "      <td>61.83</td>\n",
       "      <td>59.41</td>\n",
       "      <td>63.85</td>\n",
       "      <td>2022-08-22</td>\n",
       "      <td>2022-08-28</td>\n",
       "    </tr>\n",
       "    <tr>\n",
       "      <th>19</th>\n",
       "      <td>AB3</td>\n",
       "      <td>81</td>\n",
       "      <td>527.66</td>\n",
       "      <td>58.10</td>\n",
       "      <td>62.91</td>\n",
       "      <td>60.59</td>\n",
       "      <td>63.88</td>\n",
       "      <td>2022-08-22</td>\n",
       "      <td>2022-08-28</td>\n",
       "    </tr>\n",
       "  </tbody>\n",
       "</table>\n",
       "</div>"
      ],
      "text/plain": [
       "   Cattle_Class  units  avg_mass  avg_purch  avg_selling  selling_min  \\\n",
       "0            A2   6977    270.88      61.34        63.44        62.27   \n",
       "1            A3    531    276.90      57.46        62.22        60.83   \n",
       "2           AB2    591    262.46      58.20        61.35        60.34   \n",
       "3           AB3     77    261.91      55.68        61.96        61.56   \n",
       "4            B2    251    261.97      53.96        57.09        52.69   \n",
       "5            B3     43    260.32      51.91        55.59        52.67   \n",
       "6            C2    563    273.33      47.93        51.64        50.04   \n",
       "7            C3    146    285.30      46.89        51.70        50.15   \n",
       "8            A2   6302    282.75      59.67        60.25        58.67   \n",
       "9            A3    378    300.80      59.42        61.33        58.78   \n",
       "10          AB2    670    276.81      58.87        59.09        58.26   \n",
       "11          AB3     68    283.55      58.49        59.06        58.79   \n",
       "12           B2    191    256.22      53.53        54.04        48.32   \n",
       "13           B3     44    295.56      54.86        55.04        52.74   \n",
       "14           C2    287    251.31      49.62        49.72        47.56   \n",
       "15           C3     69    274.98      50.35        50.38        48.97   \n",
       "16           A2   5926    279.91      61.39        64.49        60.83   \n",
       "17           A3    621    235.52      61.51        63.58        62.29   \n",
       "18          AB2    425    278.92      57.25        61.83        59.41   \n",
       "19          AB3     81    527.66      58.10        62.91        60.59   \n",
       "\n",
       "    selling_max  date_from    date_to  \n",
       "0         64.01 2022-05-30 2022-06-05  \n",
       "1         63.44 2022-05-30 2022-06-05  \n",
       "2         62.40 2022-05-30 2022-06-05  \n",
       "3         62.45 2022-05-30 2022-06-05  \n",
       "4         61.54 2022-05-30 2022-06-05  \n",
       "5         58.75 2022-05-30 2022-06-05  \n",
       "6         52.77 2022-05-30 2022-06-05  \n",
       "7         53.39 2022-05-30 2022-06-05  \n",
       "8         60.79 2022-03-07 2022-03-13  \n",
       "9         63.41 2022-03-07 2022-03-13  \n",
       "10        59.23 2022-03-07 2022-03-13  \n",
       "11        59.14 2022-03-07 2022-03-13  \n",
       "12        56.58 2022-03-07 2022-03-13  \n",
       "13        55.55 2022-03-07 2022-03-13  \n",
       "14        51.86 2022-03-07 2022-03-13  \n",
       "15        52.58 2022-03-07 2022-03-13  \n",
       "16        66.31 2022-08-22 2022-08-28  \n",
       "17        65.58 2022-08-22 2022-08-28  \n",
       "18        63.85 2022-08-22 2022-08-28  \n",
       "19        63.88 2022-08-22 2022-08-28  "
      ]
     },
     "execution_count": 35,
     "metadata": {},
     "output_type": "execute_result"
    }
   ],
   "source": [
    "df2_2['date_from'] = pd.to_datetime(df2_2.date_from)\n",
    "df2_2['date_to'] = pd.to_datetime(df2_2.date_to)\n",
    "df2_2.rename(columns = {'class':'Cattle_Class'}, inplace = True)\n",
    "df2_2.head(20)"
   ]
  },
  {
   "cell_type": "code",
   "execution_count": 36,
   "id": "deb75bb8",
   "metadata": {},
   "outputs": [
    {
     "name": "stdout",
     "output_type": "stream",
     "text": [
      "<class 'pandas.core.frame.DataFrame'>\n",
      "RangeIndex: 536 entries, 0 to 535\n",
      "Data columns (total 9 columns):\n",
      " #   Column        Non-Null Count  Dtype         \n",
      "---  ------        --------------  -----         \n",
      " 0   Cattle_Class  536 non-null    object        \n",
      " 1   units         536 non-null    int64         \n",
      " 2   avg_mass      536 non-null    float64       \n",
      " 3   avg_purch     536 non-null    float64       \n",
      " 4   avg_selling   536 non-null    float64       \n",
      " 5   selling_min   536 non-null    float64       \n",
      " 6   selling_max   536 non-null    float64       \n",
      " 7   date_from     536 non-null    datetime64[ns]\n",
      " 8   date_to       536 non-null    datetime64[ns]\n",
      "dtypes: datetime64[ns](2), float64(5), int64(1), object(1)\n",
      "memory usage: 37.8+ KB\n"
     ]
    }
   ],
   "source": [
    "df2_2.info()"
   ]
  },
  {
   "cell_type": "code",
   "execution_count": 37,
   "id": "1844da64",
   "metadata": {
    "scrolled": false
   },
   "outputs": [
    {
     "data": {
      "application/vnd.jupyter.widget-view+json": {
       "model_id": "522b4c29ce0c4f4bab62fc7439faac95",
       "version_major": 2,
       "version_minor": 0
      },
      "text/plain": [
       "interactive(children=(Output(),), _dom_classes=('widget-interact',))"
      ]
     },
     "metadata": {},
     "output_type": "display_data"
    },
    {
     "data": {
      "application/vnd.plotly.v1+json": {
       "config": {
        "plotlyServerURL": "https://plot.ly"
       },
       "data": [
        {
         "hovertemplate": "Cattle_Class=A2<br>date_to=%{x}<br>avg_purch=%{y}<extra></extra>",
         "legendgroup": "A2",
         "line": {
          "color": "#636efa",
          "dash": "solid"
         },
         "marker": {
          "symbol": "circle"
         },
         "mode": "lines",
         "name": "A2",
         "orientation": "v",
         "showlegend": true,
         "type": "scatter",
         "x": [
          "2022-01-16T00:00:00",
          "2022-01-23T00:00:00",
          "2022-01-30T00:00:00",
          "2022-02-06T00:00:00",
          "2022-02-13T00:00:00",
          "2022-02-20T00:00:00",
          "2022-02-27T00:00:00",
          "2022-03-06T00:00:00",
          "2022-03-13T00:00:00",
          "2022-03-20T00:00:00",
          "2022-03-27T00:00:00",
          "2022-04-03T00:00:00",
          "2022-04-10T00:00:00",
          "2022-04-24T00:00:00",
          "2022-05-01T00:00:00",
          "2022-05-08T00:00:00",
          "2022-05-15T00:00:00",
          "2022-05-22T00:00:00",
          "2022-05-22T00:00:00",
          "2022-06-05T00:00:00",
          "2022-06-12T00:00:00",
          "2022-06-19T00:00:00",
          "2022-06-26T00:00:00",
          "2022-07-03T00:00:00",
          "2022-07-10T00:00:00",
          "2022-07-17T00:00:00",
          "2022-07-24T00:00:00",
          "2022-07-31T00:00:00",
          "2022-08-07T00:00:00",
          "2022-08-14T00:00:00",
          "2022-08-21T00:00:00",
          "2022-08-28T00:00:00",
          "2022-09-04T00:00:00",
          "2022-09-11T00:00:00",
          "2022-09-18T00:00:00",
          "2022-09-25T00:00:00",
          "2022-10-02T00:00:00",
          "2022-10-09T00:00:00",
          "2022-10-16T00:00:00",
          "2022-10-23T00:00:00",
          "2022-10-30T00:00:00",
          "2022-11-06T00:00:00",
          "2022-11-13T00:00:00",
          "2022-11-20T00:00:00",
          "2022-11-27T00:00:00",
          "2022-12-04T00:00:00",
          "2022-12-11T00:00:00",
          "2022-12-18T00:00:00",
          "2022-12-25T00:00:00",
          "2023-01-01T00:00:00",
          "2023-01-08T00:00:00",
          "2023-01-15T00:00:00",
          "2023-01-22T00:00:00",
          "2023-01-29T00:00:00",
          "2023-02-05T00:00:00",
          "2023-02-12T00:00:00",
          "2023-02-19T00:00:00",
          "2023-02-26T00:00:00",
          "2023-03-05T00:00:00",
          "2023-03-12T00:00:00",
          "2023-03-19T00:00:00",
          "2023-03-26T00:00:00",
          "2023-04-02T00:00:00",
          "2023-04-09T00:00:00",
          "2023-04-16T00:00:00",
          "2023-04-23T00:00:00",
          "2023-04-30T00:00:00"
         ],
         "xaxis": "x",
         "y": [
          54.21,
          54.5,
          54.08,
          55.91,
          56.22,
          56.17,
          56.32,
          56.07,
          59.67,
          58.4,
          58.23,
          62.05,
          61.69,
          60.62,
          61,
          63.34,
          61.36,
          61.47,
          61.92,
          61.34,
          61.66,
          60.93,
          60.67,
          59.04,
          62.58,
          60.6,
          60.85,
          60.28,
          60.79,
          59.58,
          60.51,
          61.39,
          61.64,
          61.27,
          61.95,
          60.37,
          61.07,
          61.27,
          60.71,
          60.88,
          60.98,
          60.67,
          60.47,
          59.87,
          60.06,
          59.98,
          59.6,
          57.93,
          59.99,
          57.54,
          60.45,
          59.67,
          56.8,
          56.77,
          56.7,
          56.02,
          55.16,
          54.41,
          54.33,
          54.27,
          54.6,
          54.46,
          54.99,
          55.07,
          55.03,
          54.97,
          55.01
         ],
         "yaxis": "y"
        },
        {
         "hovertemplate": "Cattle_Class=C3<br>date_to=%{x}<br>avg_purch=%{y}<extra></extra>",
         "legendgroup": "C3",
         "line": {
          "color": "#EF553B",
          "dash": "solid"
         },
         "marker": {
          "symbol": "circle"
         },
         "mode": "lines",
         "name": "C3",
         "orientation": "v",
         "showlegend": true,
         "type": "scatter",
         "x": [
          "2022-01-16T00:00:00",
          "2022-01-23T00:00:00",
          "2022-01-30T00:00:00",
          "2022-02-06T00:00:00",
          "2022-02-13T00:00:00",
          "2022-02-20T00:00:00",
          "2022-02-27T00:00:00",
          "2022-03-06T00:00:00",
          "2022-03-13T00:00:00",
          "2022-03-20T00:00:00",
          "2022-03-27T00:00:00",
          "2022-04-03T00:00:00",
          "2022-04-10T00:00:00",
          "2022-04-24T00:00:00",
          "2022-05-01T00:00:00",
          "2022-05-08T00:00:00",
          "2022-05-15T00:00:00",
          "2022-05-22T00:00:00",
          "2022-05-22T00:00:00",
          "2022-06-05T00:00:00",
          "2022-06-12T00:00:00",
          "2022-06-19T00:00:00",
          "2022-06-26T00:00:00",
          "2022-07-03T00:00:00",
          "2022-07-10T00:00:00",
          "2022-07-17T00:00:00",
          "2022-07-24T00:00:00",
          "2022-07-31T00:00:00",
          "2022-08-07T00:00:00",
          "2022-08-14T00:00:00",
          "2022-08-21T00:00:00",
          "2022-08-28T00:00:00",
          "2022-09-04T00:00:00",
          "2022-09-11T00:00:00",
          "2022-09-18T00:00:00",
          "2022-09-25T00:00:00",
          "2022-10-02T00:00:00",
          "2022-10-09T00:00:00",
          "2022-10-16T00:00:00",
          "2022-10-23T00:00:00",
          "2022-10-30T00:00:00",
          "2022-11-06T00:00:00",
          "2022-11-13T00:00:00",
          "2022-11-20T00:00:00",
          "2022-11-27T00:00:00",
          "2022-12-04T00:00:00",
          "2022-12-11T00:00:00",
          "2022-12-18T00:00:00",
          "2022-12-25T00:00:00",
          "2023-01-01T00:00:00",
          "2023-01-08T00:00:00",
          "2023-01-15T00:00:00",
          "2023-01-22T00:00:00",
          "2023-01-29T00:00:00",
          "2023-02-05T00:00:00",
          "2023-02-12T00:00:00",
          "2023-02-19T00:00:00",
          "2023-02-26T00:00:00",
          "2023-03-05T00:00:00",
          "2023-03-12T00:00:00",
          "2023-03-19T00:00:00",
          "2023-03-26T00:00:00",
          "2023-04-02T00:00:00",
          "2023-04-09T00:00:00",
          "2023-04-16T00:00:00",
          "2023-04-23T00:00:00",
          "2023-04-30T00:00:00"
         ],
         "xaxis": "x",
         "y": [
          47.86,
          44.85,
          47.15,
          45.74,
          47.94,
          47.55,
          46.35,
          44.52,
          50.35,
          46.9,
          43.99,
          50.5,
          47.34,
          44.6,
          45.82,
          50.46,
          47.62,
          45.81,
          46.1,
          46.89,
          46.95,
          46.96,
          45.43,
          46.28,
          49.32,
          50.71,
          46.4,
          47.95,
          47.45,
          44,
          46.22,
          48.05,
          45.73,
          53.44,
          46.75,
          48.82,
          47.53,
          49.7,
          47.41,
          46.09,
          46.89,
          47.42,
          49.15,
          48.87,
          50.68,
          48.79,
          47.22,
          52.42,
          46.41,
          48.69,
          54.39,
          53.06,
          52.5,
          51.81,
          51.66,
          50.46,
          49.13,
          49.28,
          49.13,
          49.12,
          48.06,
          48.55,
          47.64,
          48.82,
          47.93,
          48.34,
          46.52
         ],
         "yaxis": "y"
        },
        {
         "hovertemplate": "Cattle_Class=AB2<br>date_to=%{x}<br>avg_purch=%{y}<extra></extra>",
         "legendgroup": "AB2",
         "line": {
          "color": "#00cc96",
          "dash": "solid"
         },
         "marker": {
          "symbol": "circle"
         },
         "mode": "lines",
         "name": "AB2",
         "orientation": "v",
         "showlegend": true,
         "type": "scatter",
         "x": [
          "2022-01-16T00:00:00",
          "2022-01-23T00:00:00",
          "2022-01-30T00:00:00",
          "2022-02-06T00:00:00",
          "2022-02-13T00:00:00",
          "2022-02-20T00:00:00",
          "2022-02-27T00:00:00",
          "2022-03-06T00:00:00",
          "2022-03-13T00:00:00",
          "2022-03-20T00:00:00",
          "2022-03-27T00:00:00",
          "2022-04-03T00:00:00",
          "2022-04-10T00:00:00",
          "2022-04-24T00:00:00",
          "2022-05-01T00:00:00",
          "2022-05-08T00:00:00",
          "2022-05-15T00:00:00",
          "2022-05-22T00:00:00",
          "2022-05-22T00:00:00",
          "2022-06-05T00:00:00",
          "2022-06-12T00:00:00",
          "2022-06-19T00:00:00",
          "2022-06-26T00:00:00",
          "2022-07-03T00:00:00",
          "2022-07-10T00:00:00",
          "2022-07-17T00:00:00",
          "2022-07-24T00:00:00",
          "2022-07-31T00:00:00",
          "2022-08-07T00:00:00",
          "2022-08-14T00:00:00",
          "2022-08-21T00:00:00",
          "2022-08-28T00:00:00",
          "2022-09-04T00:00:00",
          "2022-09-11T00:00:00",
          "2022-09-18T00:00:00",
          "2022-09-25T00:00:00",
          "2022-10-02T00:00:00",
          "2022-10-09T00:00:00",
          "2022-10-16T00:00:00",
          "2022-10-23T00:00:00",
          "2022-10-30T00:00:00",
          "2022-11-06T00:00:00",
          "2022-11-13T00:00:00",
          "2022-11-20T00:00:00",
          "2022-11-27T00:00:00",
          "2022-12-04T00:00:00",
          "2022-12-11T00:00:00",
          "2022-12-18T00:00:00",
          "2022-12-25T00:00:00",
          "2023-01-01T00:00:00",
          "2023-01-08T00:00:00",
          "2023-01-15T00:00:00",
          "2023-01-22T00:00:00",
          "2023-01-29T00:00:00",
          "2023-02-05T00:00:00",
          "2023-02-12T00:00:00",
          "2023-02-19T00:00:00",
          "2023-02-26T00:00:00",
          "2023-03-05T00:00:00",
          "2023-03-12T00:00:00",
          "2023-03-19T00:00:00",
          "2023-03-26T00:00:00",
          "2023-04-02T00:00:00",
          "2023-04-09T00:00:00",
          "2023-04-16T00:00:00",
          "2023-04-23T00:00:00",
          "2023-04-30T00:00:00"
         ],
         "xaxis": "x",
         "y": [
          53.22,
          53.59,
          53.24,
          55.08,
          55.53,
          55.7,
          56.31,
          54.23,
          58.87,
          55.76,
          55.59,
          60.84,
          59.46,
          58.54,
          57.01,
          61.6,
          57.97,
          58.56,
          59.59,
          58.2,
          58.52,
          58.19,
          58.11,
          56.86,
          60.95,
          59.13,
          58.53,
          58.82,
          58.62,
          57.55,
          59.46,
          57.25,
          58.47,
          56.64,
          58.59,
          59.18,
          59.48,
          60.58,
          59.19,
          58.69,
          57.34,
          57.43,
          56.41,
          56.03,
          59.35,
          59.78,
          58.32,
          55.54,
          57.35,
          55.51,
          58.66,
          58.47,
          55.08,
          54.6,
          54.46,
          54.46,
          53.37,
          52.27,
          52.37,
          52.78,
          53.44,
          52.96,
          53.89,
          53.61,
          54.03,
          54.61,
          54.27
         ],
         "yaxis": "y"
        },
        {
         "hovertemplate": "Cattle_Class=AB3<br>date_to=%{x}<br>avg_purch=%{y}<extra></extra>",
         "legendgroup": "AB3",
         "line": {
          "color": "#ab63fa",
          "dash": "solid"
         },
         "marker": {
          "symbol": "circle"
         },
         "mode": "lines",
         "name": "AB3",
         "orientation": "v",
         "showlegend": true,
         "type": "scatter",
         "x": [
          "2022-01-16T00:00:00",
          "2022-01-23T00:00:00",
          "2022-01-30T00:00:00",
          "2022-02-06T00:00:00",
          "2022-02-13T00:00:00",
          "2022-02-20T00:00:00",
          "2022-02-27T00:00:00",
          "2022-03-06T00:00:00",
          "2022-03-13T00:00:00",
          "2022-03-20T00:00:00",
          "2022-03-27T00:00:00",
          "2022-04-03T00:00:00",
          "2022-04-10T00:00:00",
          "2022-04-24T00:00:00",
          "2022-05-01T00:00:00",
          "2022-05-08T00:00:00",
          "2022-05-15T00:00:00",
          "2022-05-22T00:00:00",
          "2022-05-22T00:00:00",
          "2022-06-05T00:00:00",
          "2022-06-12T00:00:00",
          "2022-06-19T00:00:00",
          "2022-06-26T00:00:00",
          "2022-07-03T00:00:00",
          "2022-07-10T00:00:00",
          "2022-07-17T00:00:00",
          "2022-07-24T00:00:00",
          "2022-07-31T00:00:00",
          "2022-08-07T00:00:00",
          "2022-08-14T00:00:00",
          "2022-08-21T00:00:00",
          "2022-08-28T00:00:00",
          "2022-09-04T00:00:00",
          "2022-09-11T00:00:00",
          "2022-09-18T00:00:00",
          "2022-09-25T00:00:00",
          "2022-10-02T00:00:00",
          "2022-10-09T00:00:00",
          "2022-10-16T00:00:00",
          "2022-10-23T00:00:00",
          "2022-10-30T00:00:00",
          "2022-11-06T00:00:00",
          "2022-11-13T00:00:00",
          "2022-11-20T00:00:00",
          "2022-11-27T00:00:00",
          "2022-12-04T00:00:00",
          "2022-12-11T00:00:00",
          "2022-12-18T00:00:00",
          "2022-12-25T00:00:00",
          "2023-01-01T00:00:00",
          "2023-01-08T00:00:00",
          "2023-01-15T00:00:00",
          "2023-01-22T00:00:00",
          "2023-01-29T00:00:00",
          "2023-02-05T00:00:00",
          "2023-02-12T00:00:00",
          "2023-02-19T00:00:00",
          "2023-02-26T00:00:00",
          "2023-03-05T00:00:00",
          "2023-03-12T00:00:00",
          "2023-03-19T00:00:00",
          "2023-03-26T00:00:00",
          "2023-04-02T00:00:00",
          "2023-04-09T00:00:00",
          "2023-04-16T00:00:00",
          "2023-04-23T00:00:00",
          "2023-04-30T00:00:00"
         ],
         "xaxis": "x",
         "y": [
          52.39,
          52.76,
          53.44,
          54.7,
          54.72,
          53.72,
          57.2,
          55.57,
          58.49,
          48.64,
          53.54,
          59.58,
          57.44,
          54.13,
          55.03,
          61.56,
          61.78,
          56.97,
          57.74,
          55.68,
          55.02,
          55.78,
          55.11,
          53.39,
          60.28,
          55.04,
          55.82,
          56.39,
          54.93,
          53.68,
          58.45,
          58.1,
          55.8,
          55.26,
          56.03,
          58.03,
          56.32,
          56.45,
          55.18,
          54.83,
          52.66,
          54.96,
          53.77,
          53.22,
          59,
          57.05,
          54.87,
          53.62,
          56.04,
          50.82,
          59.73,
          58.52,
          57.07,
          56.69,
          55.35,
          55.04,
          54.03,
          53.85,
          53.52,
          53.76,
          53.44,
          53.86,
          53.86,
          54.55,
          55.07,
          55.52,
          54.81
         ],
         "yaxis": "y"
        },
        {
         "hovertemplate": "Cattle_Class=B2<br>date_to=%{x}<br>avg_purch=%{y}<extra></extra>",
         "legendgroup": "B2",
         "line": {
          "color": "#FFA15A",
          "dash": "solid"
         },
         "marker": {
          "symbol": "circle"
         },
         "mode": "lines",
         "name": "B2",
         "orientation": "v",
         "showlegend": true,
         "type": "scatter",
         "x": [
          "2022-01-16T00:00:00",
          "2022-01-23T00:00:00",
          "2022-01-30T00:00:00",
          "2022-02-06T00:00:00",
          "2022-02-13T00:00:00",
          "2022-02-20T00:00:00",
          "2022-02-27T00:00:00",
          "2022-03-06T00:00:00",
          "2022-03-13T00:00:00",
          "2022-03-20T00:00:00",
          "2022-03-27T00:00:00",
          "2022-04-03T00:00:00",
          "2022-04-10T00:00:00",
          "2022-04-24T00:00:00",
          "2022-05-01T00:00:00",
          "2022-05-08T00:00:00",
          "2022-05-15T00:00:00",
          "2022-05-22T00:00:00",
          "2022-05-22T00:00:00",
          "2022-06-05T00:00:00",
          "2022-06-12T00:00:00",
          "2022-06-19T00:00:00",
          "2022-06-26T00:00:00",
          "2022-07-03T00:00:00",
          "2022-07-10T00:00:00",
          "2022-07-17T00:00:00",
          "2022-07-24T00:00:00",
          "2022-07-31T00:00:00",
          "2022-08-07T00:00:00",
          "2022-08-14T00:00:00",
          "2022-08-21T00:00:00",
          "2022-08-28T00:00:00",
          "2022-09-04T00:00:00",
          "2022-09-11T00:00:00",
          "2022-09-18T00:00:00",
          "2022-09-25T00:00:00",
          "2022-10-02T00:00:00",
          "2022-10-09T00:00:00",
          "2022-10-16T00:00:00",
          "2022-10-23T00:00:00",
          "2022-10-30T00:00:00",
          "2022-11-06T00:00:00",
          "2022-11-13T00:00:00",
          "2022-11-20T00:00:00",
          "2022-11-27T00:00:00",
          "2022-12-04T00:00:00",
          "2022-12-11T00:00:00",
          "2022-12-18T00:00:00",
          "2022-12-25T00:00:00",
          "2023-01-01T00:00:00",
          "2023-01-08T00:00:00",
          "2023-01-15T00:00:00",
          "2023-01-22T00:00:00",
          "2023-01-29T00:00:00",
          "2023-02-05T00:00:00",
          "2023-02-12T00:00:00",
          "2023-02-19T00:00:00",
          "2023-02-26T00:00:00",
          "2023-03-05T00:00:00",
          "2023-03-12T00:00:00",
          "2023-03-19T00:00:00",
          "2023-03-26T00:00:00",
          "2023-04-02T00:00:00",
          "2023-04-09T00:00:00",
          "2023-04-16T00:00:00",
          "2023-04-23T00:00:00",
          "2023-04-30T00:00:00"
         ],
         "xaxis": "x",
         "y": [
          51.54,
          53.23,
          50.51,
          52.75,
          53.02,
          53.49,
          54.03,
          52.26,
          53.53,
          53.03,
          53.37,
          55.78,
          53.72,
          51.94,
          51.91,
          55.41,
          56.19,
          53.86,
          55.14,
          53.96,
          52.83,
          53.03,
          53.37,
          53.28,
          56.47,
          55.2,
          54.89,
          55.62,
          55.76,
          55.62,
          55.97,
          55.75,
          53.58,
          52.32,
          55.52,
          55.53,
          54.84,
          54.6,
          54.38,
          56.34,
          52.2,
          52.3,
          52.7,
          51.42,
          52.19,
          52.17,
          51.73,
          51.32,
          49.78,
          55.75,
          56.87,
          56.88,
          52.36,
          51.79,
          51.49,
          51.28,
          49.88,
          48.81,
          49.4,
          49.86,
          50.73,
          49.73,
          50.15,
          50.05,
          49.29,
          50.58,
          49.1
         ],
         "yaxis": "y"
        },
        {
         "hovertemplate": "Cattle_Class=B3<br>date_to=%{x}<br>avg_purch=%{y}<extra></extra>",
         "legendgroup": "B3",
         "line": {
          "color": "#19d3f3",
          "dash": "solid"
         },
         "marker": {
          "symbol": "circle"
         },
         "mode": "lines",
         "name": "B3",
         "orientation": "v",
         "showlegend": true,
         "type": "scatter",
         "x": [
          "2022-01-16T00:00:00",
          "2022-01-23T00:00:00",
          "2022-01-30T00:00:00",
          "2022-02-06T00:00:00",
          "2022-02-13T00:00:00",
          "2022-02-20T00:00:00",
          "2022-02-27T00:00:00",
          "2022-03-06T00:00:00",
          "2022-03-13T00:00:00",
          "2022-03-20T00:00:00",
          "2022-03-27T00:00:00",
          "2022-04-03T00:00:00",
          "2022-04-10T00:00:00",
          "2022-04-24T00:00:00",
          "2022-05-01T00:00:00",
          "2022-05-08T00:00:00",
          "2022-05-15T00:00:00",
          "2022-05-22T00:00:00",
          "2022-05-22T00:00:00",
          "2022-06-05T00:00:00",
          "2022-06-12T00:00:00",
          "2022-06-19T00:00:00",
          "2022-06-26T00:00:00",
          "2022-07-03T00:00:00",
          "2022-07-10T00:00:00",
          "2022-07-17T00:00:00",
          "2022-07-24T00:00:00",
          "2022-07-31T00:00:00",
          "2022-08-07T00:00:00",
          "2022-08-14T00:00:00",
          "2022-08-21T00:00:00",
          "2022-08-28T00:00:00",
          "2022-09-04T00:00:00",
          "2022-09-11T00:00:00",
          "2022-09-18T00:00:00",
          "2022-09-25T00:00:00",
          "2022-10-02T00:00:00",
          "2022-10-09T00:00:00",
          "2022-10-16T00:00:00",
          "2022-10-23T00:00:00",
          "2022-10-30T00:00:00",
          "2022-11-06T00:00:00",
          "2022-11-13T00:00:00",
          "2022-11-20T00:00:00",
          "2022-11-27T00:00:00",
          "2022-12-04T00:00:00",
          "2022-12-11T00:00:00",
          "2022-12-18T00:00:00",
          "2022-12-25T00:00:00",
          "2023-01-01T00:00:00",
          "2023-01-08T00:00:00",
          "2023-01-15T00:00:00",
          "2023-01-22T00:00:00",
          "2023-01-29T00:00:00",
          "2023-02-05T00:00:00",
          "2023-02-12T00:00:00",
          "2023-02-19T00:00:00",
          "2023-02-26T00:00:00",
          "2023-03-05T00:00:00",
          "2023-03-12T00:00:00",
          "2023-03-19T00:00:00",
          "2023-03-26T00:00:00",
          "2023-04-02T00:00:00",
          "2023-04-09T00:00:00",
          "2023-04-16T00:00:00",
          "2023-04-23T00:00:00",
          "2023-04-30T00:00:00"
         ],
         "xaxis": "x",
         "y": [
          53.21,
          50.85,
          53,
          52.59,
          51.58,
          53.89,
          53.59,
          52.54,
          54.86,
          51.06,
          51.98,
          55.78,
          53.55,
          53.43,
          55.2,
          55.17,
          55.45,
          53.93,
          54.21,
          51.91,
          54.32,
          56.61,
          56.79,
          55.93,
          54.27,
          51.42,
          56.83,
          54.62,
          52.54,
          55.38,
          54.57,
          57.22,
          52.83,
          51.54,
          56.45,
          56.19,
          54.09,
          53.09,
          55.6,
          54.65,
          49.88,
          50.02,
          54.98,
          52.58,
          55.33,
          55.72,
          53.85,
          51.53,
          56.22,
          55.13,
          57.21,
          55.52,
          54.11,
          55.44,
          53.98,
          52.54,
          51.49,
          50.92,
          51.26,
          51.13,
          51.8,
          51.02,
          51.88,
          52.02,
          52.24,
          52.49,
          49.46
         ],
         "yaxis": "y"
        },
        {
         "hovertemplate": "Cattle_Class=C2<br>date_to=%{x}<br>avg_purch=%{y}<extra></extra>",
         "legendgroup": "C2",
         "line": {
          "color": "#FF6692",
          "dash": "solid"
         },
         "marker": {
          "symbol": "circle"
         },
         "mode": "lines",
         "name": "C2",
         "orientation": "v",
         "showlegend": true,
         "type": "scatter",
         "x": [
          "2022-01-16T00:00:00",
          "2022-01-23T00:00:00",
          "2022-01-30T00:00:00",
          "2022-02-06T00:00:00",
          "2022-02-13T00:00:00",
          "2022-02-20T00:00:00",
          "2022-02-27T00:00:00",
          "2022-03-06T00:00:00",
          "2022-03-13T00:00:00",
          "2022-03-20T00:00:00",
          "2022-03-27T00:00:00",
          "2022-04-03T00:00:00",
          "2022-04-10T00:00:00",
          "2022-04-24T00:00:00",
          "2022-05-01T00:00:00",
          "2022-05-08T00:00:00",
          "2022-05-15T00:00:00",
          "2022-05-22T00:00:00",
          "2022-05-22T00:00:00",
          "2022-06-05T00:00:00",
          "2022-06-12T00:00:00",
          "2022-06-19T00:00:00",
          "2022-06-26T00:00:00",
          "2022-07-03T00:00:00",
          "2022-07-10T00:00:00",
          "2022-07-17T00:00:00",
          "2022-07-24T00:00:00",
          "2022-07-31T00:00:00",
          "2022-08-07T00:00:00",
          "2022-08-14T00:00:00",
          "2022-08-21T00:00:00",
          "2022-08-28T00:00:00",
          "2022-09-04T00:00:00",
          "2022-09-11T00:00:00",
          "2022-09-18T00:00:00",
          "2022-09-25T00:00:00",
          "2022-10-02T00:00:00",
          "2022-10-09T00:00:00",
          "2022-10-16T00:00:00",
          "2022-10-23T00:00:00",
          "2022-10-30T00:00:00",
          "2022-11-06T00:00:00",
          "2022-11-13T00:00:00",
          "2022-11-20T00:00:00",
          "2022-11-27T00:00:00",
          "2022-12-04T00:00:00",
          "2022-12-11T00:00:00",
          "2022-12-18T00:00:00",
          "2022-12-25T00:00:00",
          "2023-01-01T00:00:00",
          "2023-01-08T00:00:00",
          "2023-01-15T00:00:00",
          "2023-01-22T00:00:00",
          "2023-01-29T00:00:00",
          "2023-02-05T00:00:00",
          "2023-02-12T00:00:00",
          "2023-02-19T00:00:00",
          "2023-02-26T00:00:00",
          "2023-03-05T00:00:00",
          "2023-03-12T00:00:00",
          "2023-03-19T00:00:00",
          "2023-03-26T00:00:00",
          "2023-04-02T00:00:00",
          "2023-04-09T00:00:00",
          "2023-04-16T00:00:00",
          "2023-04-23T00:00:00",
          "2023-04-30T00:00:00"
         ],
         "xaxis": "x",
         "y": [
          49.33,
          45.51,
          46.32,
          48.34,
          47.06,
          48.05,
          47.24,
          45.93,
          49.62,
          46.41,
          46.42,
          50.05,
          48.28,
          44.79,
          50.56,
          50.14,
          45.43,
          47.65,
          47.99,
          47.93,
          46.18,
          47.52,
          46.41,
          48.27,
          49.97,
          47.98,
          47.11,
          48.24,
          48.95,
          46.16,
          48.06,
          47.42,
          48.56,
          53,
          49.24,
          49.86,
          48.86,
          51.48,
          49.24,
          49.17,
          50.16,
          48.95,
          48.76,
          49.68,
          50.13,
          50.01,
          49.09,
          50.16,
          48.14,
          50.5,
          51.92,
          51.99,
          51.39,
          51.31,
          50.57,
          50.12,
          48.27,
          48.3,
          48.04,
          47.84,
          47.63,
          47.32,
          47.32,
          47.36,
          47.16,
          47.44,
          45.79
         ],
         "yaxis": "y"
        },
        {
         "hovertemplate": "Cattle_Class=A3<br>date_to=%{x}<br>avg_purch=%{y}<extra></extra>",
         "legendgroup": "A3",
         "line": {
          "color": "#B6E880",
          "dash": "solid"
         },
         "marker": {
          "symbol": "circle"
         },
         "mode": "lines",
         "name": "A3",
         "orientation": "v",
         "showlegend": true,
         "type": "scatter",
         "x": [
          "2022-01-16T00:00:00",
          "2022-01-23T00:00:00",
          "2022-01-30T00:00:00",
          "2022-02-06T00:00:00",
          "2022-02-13T00:00:00",
          "2022-02-20T00:00:00",
          "2022-02-27T00:00:00",
          "2022-03-06T00:00:00",
          "2022-03-13T00:00:00",
          "2022-03-20T00:00:00",
          "2022-03-27T00:00:00",
          "2022-04-03T00:00:00",
          "2022-04-10T00:00:00",
          "2022-04-24T00:00:00",
          "2022-05-01T00:00:00",
          "2022-05-08T00:00:00",
          "2022-05-15T00:00:00",
          "2022-05-22T00:00:00",
          "2022-05-22T00:00:00",
          "2022-06-05T00:00:00",
          "2022-06-12T00:00:00",
          "2022-06-19T00:00:00",
          "2022-06-26T00:00:00",
          "2022-07-03T00:00:00",
          "2022-07-10T00:00:00",
          "2022-07-17T00:00:00",
          "2022-07-24T00:00:00",
          "2022-07-31T00:00:00",
          "2022-08-07T00:00:00",
          "2022-08-14T00:00:00",
          "2022-08-21T00:00:00",
          "2022-08-28T00:00:00",
          "2022-09-04T00:00:00",
          "2022-09-11T00:00:00",
          "2022-09-18T00:00:00",
          "2022-09-25T00:00:00",
          "2022-10-02T00:00:00",
          "2022-10-09T00:00:00",
          "2022-10-16T00:00:00",
          "2022-10-23T00:00:00",
          "2022-10-30T00:00:00",
          "2022-11-06T00:00:00",
          "2022-11-13T00:00:00",
          "2022-11-20T00:00:00",
          "2022-11-27T00:00:00",
          "2022-12-04T00:00:00",
          "2022-12-11T00:00:00",
          "2022-12-18T00:00:00",
          "2022-12-25T00:00:00",
          "2023-01-01T00:00:00",
          "2023-01-08T00:00:00",
          "2023-01-15T00:00:00",
          "2023-01-22T00:00:00",
          "2023-01-29T00:00:00",
          "2023-02-05T00:00:00",
          "2023-02-12T00:00:00",
          "2023-02-19T00:00:00",
          "2023-02-26T00:00:00",
          "2023-03-05T00:00:00",
          "2023-03-12T00:00:00",
          "2023-03-19T00:00:00",
          "2023-03-26T00:00:00",
          "2023-04-02T00:00:00",
          "2023-04-09T00:00:00",
          "2023-04-16T00:00:00",
          "2023-04-23T00:00:00",
          "2023-04-30T00:00:00"
         ],
         "xaxis": "x",
         "y": [
          53.82,
          53.86,
          54.93,
          55.8,
          55.98,
          55.61,
          56.56,
          56.22,
          59.42,
          60.26,
          57.61,
          61.5,
          60.11,
          58.25,
          59.52,
          63.08,
          57.39,
          59.27,
          59.42,
          57.46,
          58.94,
          55.84,
          57.19,
          55.68,
          62.07,
          58.03,
          57.01,
          57.9,
          58.67,
          56.31,
          59.17,
          61.51,
          58.32,
          59.64,
          59.52,
          59.52,
          58.24,
          59.33,
          58.9,
          60.73,
          57.9,
          57.87,
          58.68,
          58.07,
          60,
          58.77,
          59.46,
          56.58,
          56.12,
          57.93,
          58.43,
          58.21,
          57.29,
          56.99,
          57.12,
          56.1,
          55.24,
          54.61,
          54.42,
          54.31,
          54.66,
          54.57,
          55.26,
          55.37,
          55.09,
          54.95,
          55.02
         ],
         "yaxis": "y"
        }
       ],
       "layout": {
        "barmode": "group",
        "legend": {
         "title": {
          "text": "Cattle_Class"
         },
         "tracegroupgap": 0
        },
        "margin": {
         "t": 60
        },
        "template": {
         "data": {
          "bar": [
           {
            "error_x": {
             "color": "#2a3f5f"
            },
            "error_y": {
             "color": "#2a3f5f"
            },
            "marker": {
             "line": {
              "color": "#E5ECF6",
              "width": 0.5
             },
             "pattern": {
              "fillmode": "overlay",
              "size": 10,
              "solidity": 0.2
             }
            },
            "type": "bar"
           }
          ],
          "barpolar": [
           {
            "marker": {
             "line": {
              "color": "#E5ECF6",
              "width": 0.5
             },
             "pattern": {
              "fillmode": "overlay",
              "size": 10,
              "solidity": 0.2
             }
            },
            "type": "barpolar"
           }
          ],
          "carpet": [
           {
            "aaxis": {
             "endlinecolor": "#2a3f5f",
             "gridcolor": "white",
             "linecolor": "white",
             "minorgridcolor": "white",
             "startlinecolor": "#2a3f5f"
            },
            "baxis": {
             "endlinecolor": "#2a3f5f",
             "gridcolor": "white",
             "linecolor": "white",
             "minorgridcolor": "white",
             "startlinecolor": "#2a3f5f"
            },
            "type": "carpet"
           }
          ],
          "choropleth": [
           {
            "colorbar": {
             "outlinewidth": 0,
             "ticks": ""
            },
            "type": "choropleth"
           }
          ],
          "contour": [
           {
            "colorbar": {
             "outlinewidth": 0,
             "ticks": ""
            },
            "colorscale": [
             [
              0,
              "#0d0887"
             ],
             [
              0.1111111111111111,
              "#46039f"
             ],
             [
              0.2222222222222222,
              "#7201a8"
             ],
             [
              0.3333333333333333,
              "#9c179e"
             ],
             [
              0.4444444444444444,
              "#bd3786"
             ],
             [
              0.5555555555555556,
              "#d8576b"
             ],
             [
              0.6666666666666666,
              "#ed7953"
             ],
             [
              0.7777777777777778,
              "#fb9f3a"
             ],
             [
              0.8888888888888888,
              "#fdca26"
             ],
             [
              1,
              "#f0f921"
             ]
            ],
            "type": "contour"
           }
          ],
          "contourcarpet": [
           {
            "colorbar": {
             "outlinewidth": 0,
             "ticks": ""
            },
            "type": "contourcarpet"
           }
          ],
          "heatmap": [
           {
            "colorbar": {
             "outlinewidth": 0,
             "ticks": ""
            },
            "colorscale": [
             [
              0,
              "#0d0887"
             ],
             [
              0.1111111111111111,
              "#46039f"
             ],
             [
              0.2222222222222222,
              "#7201a8"
             ],
             [
              0.3333333333333333,
              "#9c179e"
             ],
             [
              0.4444444444444444,
              "#bd3786"
             ],
             [
              0.5555555555555556,
              "#d8576b"
             ],
             [
              0.6666666666666666,
              "#ed7953"
             ],
             [
              0.7777777777777778,
              "#fb9f3a"
             ],
             [
              0.8888888888888888,
              "#fdca26"
             ],
             [
              1,
              "#f0f921"
             ]
            ],
            "type": "heatmap"
           }
          ],
          "heatmapgl": [
           {
            "colorbar": {
             "outlinewidth": 0,
             "ticks": ""
            },
            "colorscale": [
             [
              0,
              "#0d0887"
             ],
             [
              0.1111111111111111,
              "#46039f"
             ],
             [
              0.2222222222222222,
              "#7201a8"
             ],
             [
              0.3333333333333333,
              "#9c179e"
             ],
             [
              0.4444444444444444,
              "#bd3786"
             ],
             [
              0.5555555555555556,
              "#d8576b"
             ],
             [
              0.6666666666666666,
              "#ed7953"
             ],
             [
              0.7777777777777778,
              "#fb9f3a"
             ],
             [
              0.8888888888888888,
              "#fdca26"
             ],
             [
              1,
              "#f0f921"
             ]
            ],
            "type": "heatmapgl"
           }
          ],
          "histogram": [
           {
            "marker": {
             "pattern": {
              "fillmode": "overlay",
              "size": 10,
              "solidity": 0.2
             }
            },
            "type": "histogram"
           }
          ],
          "histogram2d": [
           {
            "colorbar": {
             "outlinewidth": 0,
             "ticks": ""
            },
            "colorscale": [
             [
              0,
              "#0d0887"
             ],
             [
              0.1111111111111111,
              "#46039f"
             ],
             [
              0.2222222222222222,
              "#7201a8"
             ],
             [
              0.3333333333333333,
              "#9c179e"
             ],
             [
              0.4444444444444444,
              "#bd3786"
             ],
             [
              0.5555555555555556,
              "#d8576b"
             ],
             [
              0.6666666666666666,
              "#ed7953"
             ],
             [
              0.7777777777777778,
              "#fb9f3a"
             ],
             [
              0.8888888888888888,
              "#fdca26"
             ],
             [
              1,
              "#f0f921"
             ]
            ],
            "type": "histogram2d"
           }
          ],
          "histogram2dcontour": [
           {
            "colorbar": {
             "outlinewidth": 0,
             "ticks": ""
            },
            "colorscale": [
             [
              0,
              "#0d0887"
             ],
             [
              0.1111111111111111,
              "#46039f"
             ],
             [
              0.2222222222222222,
              "#7201a8"
             ],
             [
              0.3333333333333333,
              "#9c179e"
             ],
             [
              0.4444444444444444,
              "#bd3786"
             ],
             [
              0.5555555555555556,
              "#d8576b"
             ],
             [
              0.6666666666666666,
              "#ed7953"
             ],
             [
              0.7777777777777778,
              "#fb9f3a"
             ],
             [
              0.8888888888888888,
              "#fdca26"
             ],
             [
              1,
              "#f0f921"
             ]
            ],
            "type": "histogram2dcontour"
           }
          ],
          "mesh3d": [
           {
            "colorbar": {
             "outlinewidth": 0,
             "ticks": ""
            },
            "type": "mesh3d"
           }
          ],
          "parcoords": [
           {
            "line": {
             "colorbar": {
              "outlinewidth": 0,
              "ticks": ""
             }
            },
            "type": "parcoords"
           }
          ],
          "pie": [
           {
            "automargin": true,
            "type": "pie"
           }
          ],
          "scatter": [
           {
            "fillpattern": {
             "fillmode": "overlay",
             "size": 10,
             "solidity": 0.2
            },
            "type": "scatter"
           }
          ],
          "scatter3d": [
           {
            "line": {
             "colorbar": {
              "outlinewidth": 0,
              "ticks": ""
             }
            },
            "marker": {
             "colorbar": {
              "outlinewidth": 0,
              "ticks": ""
             }
            },
            "type": "scatter3d"
           }
          ],
          "scattercarpet": [
           {
            "marker": {
             "colorbar": {
              "outlinewidth": 0,
              "ticks": ""
             }
            },
            "type": "scattercarpet"
           }
          ],
          "scattergeo": [
           {
            "marker": {
             "colorbar": {
              "outlinewidth": 0,
              "ticks": ""
             }
            },
            "type": "scattergeo"
           }
          ],
          "scattergl": [
           {
            "marker": {
             "colorbar": {
              "outlinewidth": 0,
              "ticks": ""
             }
            },
            "type": "scattergl"
           }
          ],
          "scattermapbox": [
           {
            "marker": {
             "colorbar": {
              "outlinewidth": 0,
              "ticks": ""
             }
            },
            "type": "scattermapbox"
           }
          ],
          "scatterpolar": [
           {
            "marker": {
             "colorbar": {
              "outlinewidth": 0,
              "ticks": ""
             }
            },
            "type": "scatterpolar"
           }
          ],
          "scatterpolargl": [
           {
            "marker": {
             "colorbar": {
              "outlinewidth": 0,
              "ticks": ""
             }
            },
            "type": "scatterpolargl"
           }
          ],
          "scatterternary": [
           {
            "marker": {
             "colorbar": {
              "outlinewidth": 0,
              "ticks": ""
             }
            },
            "type": "scatterternary"
           }
          ],
          "surface": [
           {
            "colorbar": {
             "outlinewidth": 0,
             "ticks": ""
            },
            "colorscale": [
             [
              0,
              "#0d0887"
             ],
             [
              0.1111111111111111,
              "#46039f"
             ],
             [
              0.2222222222222222,
              "#7201a8"
             ],
             [
              0.3333333333333333,
              "#9c179e"
             ],
             [
              0.4444444444444444,
              "#bd3786"
             ],
             [
              0.5555555555555556,
              "#d8576b"
             ],
             [
              0.6666666666666666,
              "#ed7953"
             ],
             [
              0.7777777777777778,
              "#fb9f3a"
             ],
             [
              0.8888888888888888,
              "#fdca26"
             ],
             [
              1,
              "#f0f921"
             ]
            ],
            "type": "surface"
           }
          ],
          "table": [
           {
            "cells": {
             "fill": {
              "color": "#EBF0F8"
             },
             "line": {
              "color": "white"
             }
            },
            "header": {
             "fill": {
              "color": "#C8D4E3"
             },
             "line": {
              "color": "white"
             }
            },
            "type": "table"
           }
          ]
         },
         "layout": {
          "annotationdefaults": {
           "arrowcolor": "#2a3f5f",
           "arrowhead": 0,
           "arrowwidth": 1
          },
          "autotypenumbers": "strict",
          "coloraxis": {
           "colorbar": {
            "outlinewidth": 0,
            "ticks": ""
           }
          },
          "colorscale": {
           "diverging": [
            [
             0,
             "#8e0152"
            ],
            [
             0.1,
             "#c51b7d"
            ],
            [
             0.2,
             "#de77ae"
            ],
            [
             0.3,
             "#f1b6da"
            ],
            [
             0.4,
             "#fde0ef"
            ],
            [
             0.5,
             "#f7f7f7"
            ],
            [
             0.6,
             "#e6f5d0"
            ],
            [
             0.7,
             "#b8e186"
            ],
            [
             0.8,
             "#7fbc41"
            ],
            [
             0.9,
             "#4d9221"
            ],
            [
             1,
             "#276419"
            ]
           ],
           "sequential": [
            [
             0,
             "#0d0887"
            ],
            [
             0.1111111111111111,
             "#46039f"
            ],
            [
             0.2222222222222222,
             "#7201a8"
            ],
            [
             0.3333333333333333,
             "#9c179e"
            ],
            [
             0.4444444444444444,
             "#bd3786"
            ],
            [
             0.5555555555555556,
             "#d8576b"
            ],
            [
             0.6666666666666666,
             "#ed7953"
            ],
            [
             0.7777777777777778,
             "#fb9f3a"
            ],
            [
             0.8888888888888888,
             "#fdca26"
            ],
            [
             1,
             "#f0f921"
            ]
           ],
           "sequentialminus": [
            [
             0,
             "#0d0887"
            ],
            [
             0.1111111111111111,
             "#46039f"
            ],
            [
             0.2222222222222222,
             "#7201a8"
            ],
            [
             0.3333333333333333,
             "#9c179e"
            ],
            [
             0.4444444444444444,
             "#bd3786"
            ],
            [
             0.5555555555555556,
             "#d8576b"
            ],
            [
             0.6666666666666666,
             "#ed7953"
            ],
            [
             0.7777777777777778,
             "#fb9f3a"
            ],
            [
             0.8888888888888888,
             "#fdca26"
            ],
            [
             1,
             "#f0f921"
            ]
           ]
          },
          "colorway": [
           "#636efa",
           "#EF553B",
           "#00cc96",
           "#ab63fa",
           "#FFA15A",
           "#19d3f3",
           "#FF6692",
           "#B6E880",
           "#FF97FF",
           "#FECB52"
          ],
          "font": {
           "color": "#2a3f5f"
          },
          "geo": {
           "bgcolor": "white",
           "lakecolor": "white",
           "landcolor": "#E5ECF6",
           "showlakes": true,
           "showland": true,
           "subunitcolor": "white"
          },
          "hoverlabel": {
           "align": "left"
          },
          "hovermode": "closest",
          "mapbox": {
           "style": "light"
          },
          "paper_bgcolor": "white",
          "plot_bgcolor": "#E5ECF6",
          "polar": {
           "angularaxis": {
            "gridcolor": "white",
            "linecolor": "white",
            "ticks": ""
           },
           "bgcolor": "#E5ECF6",
           "radialaxis": {
            "gridcolor": "white",
            "linecolor": "white",
            "ticks": ""
           }
          },
          "scene": {
           "xaxis": {
            "backgroundcolor": "#E5ECF6",
            "gridcolor": "white",
            "gridwidth": 2,
            "linecolor": "white",
            "showbackground": true,
            "ticks": "",
            "zerolinecolor": "white"
           },
           "yaxis": {
            "backgroundcolor": "#E5ECF6",
            "gridcolor": "white",
            "gridwidth": 2,
            "linecolor": "white",
            "showbackground": true,
            "ticks": "",
            "zerolinecolor": "white"
           },
           "zaxis": {
            "backgroundcolor": "#E5ECF6",
            "gridcolor": "white",
            "gridwidth": 2,
            "linecolor": "white",
            "showbackground": true,
            "ticks": "",
            "zerolinecolor": "white"
           }
          },
          "shapedefaults": {
           "line": {
            "color": "#2a3f5f"
           }
          },
          "ternary": {
           "aaxis": {
            "gridcolor": "white",
            "linecolor": "white",
            "ticks": ""
           },
           "baxis": {
            "gridcolor": "white",
            "linecolor": "white",
            "ticks": ""
           },
           "bgcolor": "#E5ECF6",
           "caxis": {
            "gridcolor": "white",
            "linecolor": "white",
            "ticks": ""
           }
          },
          "title": {
           "x": 0.05
          },
          "xaxis": {
           "automargin": true,
           "gridcolor": "white",
           "linecolor": "white",
           "ticks": "",
           "title": {
            "standoff": 15
           },
           "zerolinecolor": "white",
           "zerolinewidth": 2
          },
          "yaxis": {
           "automargin": true,
           "gridcolor": "white",
           "linecolor": "white",
           "ticks": "",
           "title": {
            "standoff": 15
           },
           "zerolinecolor": "white",
           "zerolinewidth": 2
          }
         }
        },
        "title": {
         "text": "Plot Avg Purchase Price versus Dates"
        },
        "xaxis": {
         "anchor": "y",
         "domain": [
          0,
          1
         ],
         "rangeselector": {
          "buttons": [
           {
            "count": 1,
            "label": "1m",
            "step": "month",
            "stepmode": "backward"
           },
           {
            "count": 6,
            "label": "6m",
            "step": "month",
            "stepmode": "backward"
           },
           {
            "count": 1,
            "label": "YTD",
            "step": "year",
            "stepmode": "todate"
           },
           {
            "count": 1,
            "label": "1y",
            "step": "year",
            "stepmode": "backward"
           },
           {
            "step": "all"
           }
          ]
         },
         "rangeslider": {
          "visible": true
         },
         "title": {
          "text": "date_to"
         },
         "type": "date"
        },
        "yaxis": {
         "anchor": "x",
         "domain": [
          0,
          1
         ],
         "title": {
          "text": "avg_purch"
         }
        }
       }
      }
     },
     "metadata": {},
     "output_type": "display_data"
    },
    {
     "data": {
      "text/plain": [
       "<function __main__.cattleplotly1()>"
      ]
     },
     "execution_count": 37,
     "metadata": {},
     "output_type": "execute_result"
    }
   ],
   "source": [
    "# Visuals for the Cattle Subset of the Livestock Dataset\n",
    "\n",
    "df2_2 = df2_2.sort_values(by=['date_to']).reset_index(drop = True)\n",
    "\n",
    "def cattleplotly1(): \n",
    "    \n",
    "    \n",
    "    fig = px.line(df2_2, x='date_to', y='avg_purch', color='Cattle_Class')\n",
    "    \n",
    "    fig.update_layout(barmode = 'group', \n",
    "    title= \"Plot Avg Purchase Price versus Dates\")\n",
    "\n",
    "    \n",
    "    # Add range slider\n",
    "    fig.update_layout(\n",
    "        xaxis=dict(\n",
    "            rangeselector=dict(\n",
    "                buttons=list([\n",
    "                    dict(count=1,\n",
    "                         label=\"1m\",\n",
    "                         step=\"month\",\n",
    "                         stepmode=\"backward\"),\n",
    "                    dict(count=6,\n",
    "                         label=\"6m\",\n",
    "                         step=\"month\",\n",
    "                         stepmode=\"backward\"),\n",
    "                    dict(count=1,\n",
    "                         label=\"YTD\",\n",
    "                         step=\"year\",\n",
    "                         stepmode=\"todate\"),\n",
    "                    dict(count=1,\n",
    "                         label=\"1y\",\n",
    "                         step=\"year\",\n",
    "                         stepmode=\"backward\"),\n",
    "                    dict(step=\"all\")\n",
    "                ])\n",
    "            ),\n",
    "            rangeslider=dict(\n",
    "                visible=True\n",
    "            ),\n",
    "            type=\"date\"\n",
    "        )\n",
    "    )\n",
    "\n",
    "    fig.show()\n",
    "\n",
    "widgets.interact(cattleplotly1)"
   ]
  },
  {
   "cell_type": "code",
   "execution_count": null,
   "id": "073400b0",
   "metadata": {},
   "outputs": [],
   "source": []
  },
  {
   "cell_type": "code",
   "execution_count": 38,
   "id": "bdf3adca",
   "metadata": {},
   "outputs": [
    {
     "data": {
      "application/vnd.jupyter.widget-view+json": {
       "model_id": "a11078c239564ddc9f1f3b3508d47af2",
       "version_major": 2,
       "version_minor": 0
      },
      "text/plain": [
       "interactive(children=(Dropdown(description='Class1', options=('A2', 'C3', 'AB2', 'AB3', 'B2', 'B3', 'C2', 'A3'…"
      ]
     },
     "metadata": {},
     "output_type": "display_data"
    },
    {
     "data": {
      "application/vnd.plotly.v1+json": {
       "config": {
        "plotlyServerURL": "https://plot.ly"
       },
       "data": [],
       "layout": {
        "barmode": "group",
        "legend": {
         "tracegroupgap": 0
        },
        "margin": {
         "t": 60
        },
        "template": {
         "data": {
          "bar": [
           {
            "error_x": {
             "color": "#2a3f5f"
            },
            "error_y": {
             "color": "#2a3f5f"
            },
            "marker": {
             "line": {
              "color": "#E5ECF6",
              "width": 0.5
             },
             "pattern": {
              "fillmode": "overlay",
              "size": 10,
              "solidity": 0.2
             }
            },
            "type": "bar"
           }
          ],
          "barpolar": [
           {
            "marker": {
             "line": {
              "color": "#E5ECF6",
              "width": 0.5
             },
             "pattern": {
              "fillmode": "overlay",
              "size": 10,
              "solidity": 0.2
             }
            },
            "type": "barpolar"
           }
          ],
          "carpet": [
           {
            "aaxis": {
             "endlinecolor": "#2a3f5f",
             "gridcolor": "white",
             "linecolor": "white",
             "minorgridcolor": "white",
             "startlinecolor": "#2a3f5f"
            },
            "baxis": {
             "endlinecolor": "#2a3f5f",
             "gridcolor": "white",
             "linecolor": "white",
             "minorgridcolor": "white",
             "startlinecolor": "#2a3f5f"
            },
            "type": "carpet"
           }
          ],
          "choropleth": [
           {
            "colorbar": {
             "outlinewidth": 0,
             "ticks": ""
            },
            "type": "choropleth"
           }
          ],
          "contour": [
           {
            "colorbar": {
             "outlinewidth": 0,
             "ticks": ""
            },
            "colorscale": [
             [
              0,
              "#0d0887"
             ],
             [
              0.1111111111111111,
              "#46039f"
             ],
             [
              0.2222222222222222,
              "#7201a8"
             ],
             [
              0.3333333333333333,
              "#9c179e"
             ],
             [
              0.4444444444444444,
              "#bd3786"
             ],
             [
              0.5555555555555556,
              "#d8576b"
             ],
             [
              0.6666666666666666,
              "#ed7953"
             ],
             [
              0.7777777777777778,
              "#fb9f3a"
             ],
             [
              0.8888888888888888,
              "#fdca26"
             ],
             [
              1,
              "#f0f921"
             ]
            ],
            "type": "contour"
           }
          ],
          "contourcarpet": [
           {
            "colorbar": {
             "outlinewidth": 0,
             "ticks": ""
            },
            "type": "contourcarpet"
           }
          ],
          "heatmap": [
           {
            "colorbar": {
             "outlinewidth": 0,
             "ticks": ""
            },
            "colorscale": [
             [
              0,
              "#0d0887"
             ],
             [
              0.1111111111111111,
              "#46039f"
             ],
             [
              0.2222222222222222,
              "#7201a8"
             ],
             [
              0.3333333333333333,
              "#9c179e"
             ],
             [
              0.4444444444444444,
              "#bd3786"
             ],
             [
              0.5555555555555556,
              "#d8576b"
             ],
             [
              0.6666666666666666,
              "#ed7953"
             ],
             [
              0.7777777777777778,
              "#fb9f3a"
             ],
             [
              0.8888888888888888,
              "#fdca26"
             ],
             [
              1,
              "#f0f921"
             ]
            ],
            "type": "heatmap"
           }
          ],
          "heatmapgl": [
           {
            "colorbar": {
             "outlinewidth": 0,
             "ticks": ""
            },
            "colorscale": [
             [
              0,
              "#0d0887"
             ],
             [
              0.1111111111111111,
              "#46039f"
             ],
             [
              0.2222222222222222,
              "#7201a8"
             ],
             [
              0.3333333333333333,
              "#9c179e"
             ],
             [
              0.4444444444444444,
              "#bd3786"
             ],
             [
              0.5555555555555556,
              "#d8576b"
             ],
             [
              0.6666666666666666,
              "#ed7953"
             ],
             [
              0.7777777777777778,
              "#fb9f3a"
             ],
             [
              0.8888888888888888,
              "#fdca26"
             ],
             [
              1,
              "#f0f921"
             ]
            ],
            "type": "heatmapgl"
           }
          ],
          "histogram": [
           {
            "marker": {
             "pattern": {
              "fillmode": "overlay",
              "size": 10,
              "solidity": 0.2
             }
            },
            "type": "histogram"
           }
          ],
          "histogram2d": [
           {
            "colorbar": {
             "outlinewidth": 0,
             "ticks": ""
            },
            "colorscale": [
             [
              0,
              "#0d0887"
             ],
             [
              0.1111111111111111,
              "#46039f"
             ],
             [
              0.2222222222222222,
              "#7201a8"
             ],
             [
              0.3333333333333333,
              "#9c179e"
             ],
             [
              0.4444444444444444,
              "#bd3786"
             ],
             [
              0.5555555555555556,
              "#d8576b"
             ],
             [
              0.6666666666666666,
              "#ed7953"
             ],
             [
              0.7777777777777778,
              "#fb9f3a"
             ],
             [
              0.8888888888888888,
              "#fdca26"
             ],
             [
              1,
              "#f0f921"
             ]
            ],
            "type": "histogram2d"
           }
          ],
          "histogram2dcontour": [
           {
            "colorbar": {
             "outlinewidth": 0,
             "ticks": ""
            },
            "colorscale": [
             [
              0,
              "#0d0887"
             ],
             [
              0.1111111111111111,
              "#46039f"
             ],
             [
              0.2222222222222222,
              "#7201a8"
             ],
             [
              0.3333333333333333,
              "#9c179e"
             ],
             [
              0.4444444444444444,
              "#bd3786"
             ],
             [
              0.5555555555555556,
              "#d8576b"
             ],
             [
              0.6666666666666666,
              "#ed7953"
             ],
             [
              0.7777777777777778,
              "#fb9f3a"
             ],
             [
              0.8888888888888888,
              "#fdca26"
             ],
             [
              1,
              "#f0f921"
             ]
            ],
            "type": "histogram2dcontour"
           }
          ],
          "mesh3d": [
           {
            "colorbar": {
             "outlinewidth": 0,
             "ticks": ""
            },
            "type": "mesh3d"
           }
          ],
          "parcoords": [
           {
            "line": {
             "colorbar": {
              "outlinewidth": 0,
              "ticks": ""
             }
            },
            "type": "parcoords"
           }
          ],
          "pie": [
           {
            "automargin": true,
            "type": "pie"
           }
          ],
          "scatter": [
           {
            "fillpattern": {
             "fillmode": "overlay",
             "size": 10,
             "solidity": 0.2
            },
            "type": "scatter"
           }
          ],
          "scatter3d": [
           {
            "line": {
             "colorbar": {
              "outlinewidth": 0,
              "ticks": ""
             }
            },
            "marker": {
             "colorbar": {
              "outlinewidth": 0,
              "ticks": ""
             }
            },
            "type": "scatter3d"
           }
          ],
          "scattercarpet": [
           {
            "marker": {
             "colorbar": {
              "outlinewidth": 0,
              "ticks": ""
             }
            },
            "type": "scattercarpet"
           }
          ],
          "scattergeo": [
           {
            "marker": {
             "colorbar": {
              "outlinewidth": 0,
              "ticks": ""
             }
            },
            "type": "scattergeo"
           }
          ],
          "scattergl": [
           {
            "marker": {
             "colorbar": {
              "outlinewidth": 0,
              "ticks": ""
             }
            },
            "type": "scattergl"
           }
          ],
          "scattermapbox": [
           {
            "marker": {
             "colorbar": {
              "outlinewidth": 0,
              "ticks": ""
             }
            },
            "type": "scattermapbox"
           }
          ],
          "scatterpolar": [
           {
            "marker": {
             "colorbar": {
              "outlinewidth": 0,
              "ticks": ""
             }
            },
            "type": "scatterpolar"
           }
          ],
          "scatterpolargl": [
           {
            "marker": {
             "colorbar": {
              "outlinewidth": 0,
              "ticks": ""
             }
            },
            "type": "scatterpolargl"
           }
          ],
          "scatterternary": [
           {
            "marker": {
             "colorbar": {
              "outlinewidth": 0,
              "ticks": ""
             }
            },
            "type": "scatterternary"
           }
          ],
          "surface": [
           {
            "colorbar": {
             "outlinewidth": 0,
             "ticks": ""
            },
            "colorscale": [
             [
              0,
              "#0d0887"
             ],
             [
              0.1111111111111111,
              "#46039f"
             ],
             [
              0.2222222222222222,
              "#7201a8"
             ],
             [
              0.3333333333333333,
              "#9c179e"
             ],
             [
              0.4444444444444444,
              "#bd3786"
             ],
             [
              0.5555555555555556,
              "#d8576b"
             ],
             [
              0.6666666666666666,
              "#ed7953"
             ],
             [
              0.7777777777777778,
              "#fb9f3a"
             ],
             [
              0.8888888888888888,
              "#fdca26"
             ],
             [
              1,
              "#f0f921"
             ]
            ],
            "type": "surface"
           }
          ],
          "table": [
           {
            "cells": {
             "fill": {
              "color": "#EBF0F8"
             },
             "line": {
              "color": "white"
             }
            },
            "header": {
             "fill": {
              "color": "#C8D4E3"
             },
             "line": {
              "color": "white"
             }
            },
            "type": "table"
           }
          ]
         },
         "layout": {
          "annotationdefaults": {
           "arrowcolor": "#2a3f5f",
           "arrowhead": 0,
           "arrowwidth": 1
          },
          "autotypenumbers": "strict",
          "coloraxis": {
           "colorbar": {
            "outlinewidth": 0,
            "ticks": ""
           }
          },
          "colorscale": {
           "diverging": [
            [
             0,
             "#8e0152"
            ],
            [
             0.1,
             "#c51b7d"
            ],
            [
             0.2,
             "#de77ae"
            ],
            [
             0.3,
             "#f1b6da"
            ],
            [
             0.4,
             "#fde0ef"
            ],
            [
             0.5,
             "#f7f7f7"
            ],
            [
             0.6,
             "#e6f5d0"
            ],
            [
             0.7,
             "#b8e186"
            ],
            [
             0.8,
             "#7fbc41"
            ],
            [
             0.9,
             "#4d9221"
            ],
            [
             1,
             "#276419"
            ]
           ],
           "sequential": [
            [
             0,
             "#0d0887"
            ],
            [
             0.1111111111111111,
             "#46039f"
            ],
            [
             0.2222222222222222,
             "#7201a8"
            ],
            [
             0.3333333333333333,
             "#9c179e"
            ],
            [
             0.4444444444444444,
             "#bd3786"
            ],
            [
             0.5555555555555556,
             "#d8576b"
            ],
            [
             0.6666666666666666,
             "#ed7953"
            ],
            [
             0.7777777777777778,
             "#fb9f3a"
            ],
            [
             0.8888888888888888,
             "#fdca26"
            ],
            [
             1,
             "#f0f921"
            ]
           ],
           "sequentialminus": [
            [
             0,
             "#0d0887"
            ],
            [
             0.1111111111111111,
             "#46039f"
            ],
            [
             0.2222222222222222,
             "#7201a8"
            ],
            [
             0.3333333333333333,
             "#9c179e"
            ],
            [
             0.4444444444444444,
             "#bd3786"
            ],
            [
             0.5555555555555556,
             "#d8576b"
            ],
            [
             0.6666666666666666,
             "#ed7953"
            ],
            [
             0.7777777777777778,
             "#fb9f3a"
            ],
            [
             0.8888888888888888,
             "#fdca26"
            ],
            [
             1,
             "#f0f921"
            ]
           ]
          },
          "colorway": [
           "#636efa",
           "#EF553B",
           "#00cc96",
           "#ab63fa",
           "#FFA15A",
           "#19d3f3",
           "#FF6692",
           "#B6E880",
           "#FF97FF",
           "#FECB52"
          ],
          "font": {
           "color": "#2a3f5f"
          },
          "geo": {
           "bgcolor": "white",
           "lakecolor": "white",
           "landcolor": "#E5ECF6",
           "showlakes": true,
           "showland": true,
           "subunitcolor": "white"
          },
          "hoverlabel": {
           "align": "left"
          },
          "hovermode": "closest",
          "mapbox": {
           "style": "light"
          },
          "paper_bgcolor": "white",
          "plot_bgcolor": "#E5ECF6",
          "polar": {
           "angularaxis": {
            "gridcolor": "white",
            "linecolor": "white",
            "ticks": ""
           },
           "bgcolor": "#E5ECF6",
           "radialaxis": {
            "gridcolor": "white",
            "linecolor": "white",
            "ticks": ""
           }
          },
          "scene": {
           "xaxis": {
            "backgroundcolor": "#E5ECF6",
            "gridcolor": "white",
            "gridwidth": 2,
            "linecolor": "white",
            "showbackground": true,
            "ticks": "",
            "zerolinecolor": "white"
           },
           "yaxis": {
            "backgroundcolor": "#E5ECF6",
            "gridcolor": "white",
            "gridwidth": 2,
            "linecolor": "white",
            "showbackground": true,
            "ticks": "",
            "zerolinecolor": "white"
           },
           "zaxis": {
            "backgroundcolor": "#E5ECF6",
            "gridcolor": "white",
            "gridwidth": 2,
            "linecolor": "white",
            "showbackground": true,
            "ticks": "",
            "zerolinecolor": "white"
           }
          },
          "shapedefaults": {
           "line": {
            "color": "#2a3f5f"
           }
          },
          "ternary": {
           "aaxis": {
            "gridcolor": "white",
            "linecolor": "white",
            "ticks": ""
           },
           "baxis": {
            "gridcolor": "white",
            "linecolor": "white",
            "ticks": ""
           },
           "bgcolor": "#E5ECF6",
           "caxis": {
            "gridcolor": "white",
            "linecolor": "white",
            "ticks": ""
           }
          },
          "title": {
           "x": 0.05
          },
          "xaxis": {
           "automargin": true,
           "gridcolor": "white",
           "linecolor": "white",
           "ticks": "",
           "title": {
            "standoff": 15
           },
           "zerolinecolor": "white",
           "zerolinewidth": 2
          },
          "yaxis": {
           "automargin": true,
           "gridcolor": "white",
           "linecolor": "white",
           "ticks": "",
           "title": {
            "standoff": 15
           },
           "zerolinecolor": "white",
           "zerolinewidth": 2
          }
         }
        },
        "title": {
         "text": "Comparison Between Cattle Class Pairs"
        },
        "xaxis": {
         "anchor": "y",
         "domain": [
          0,
          1
         ],
         "rangeselector": {
          "buttons": [
           {
            "count": 1,
            "label": "1m",
            "step": "month",
            "stepmode": "backward"
           },
           {
            "count": 6,
            "label": "6m",
            "step": "month",
            "stepmode": "backward"
           },
           {
            "count": 1,
            "label": "YTD",
            "step": "year",
            "stepmode": "todate"
           },
           {
            "count": 1,
            "label": "1y",
            "step": "year",
            "stepmode": "backward"
           },
           {
            "step": "all"
           }
          ]
         },
         "rangeslider": {
          "visible": true
         },
         "title": {
          "text": "date_to"
         },
         "type": "date"
        },
        "yaxis": {
         "anchor": "x",
         "domain": [
          0,
          1
         ],
         "title": {
          "text": "avg_purch"
         }
        }
       }
      }
     },
     "metadata": {},
     "output_type": "display_data"
    },
    {
     "data": {
      "text/plain": [
       "<function __main__.cattleplotly2(Class1=None, Class2=None)>"
      ]
     },
     "execution_count": 38,
     "metadata": {},
     "output_type": "execute_result"
    }
   ],
   "source": [
    "# Visuals for the Cattle Subset of the Livestock Dataset for pairwise comparison\n",
    "\n",
    "class_list = list(df2_2.Cattle_Class.unique())\n",
    "\n",
    "\n",
    "def cattleplotly2(Class1 = None, Class2 = None): \n",
    "    options = [Class1, Class2]\n",
    "\n",
    "    A = df2_2[df2_2['Cattle_Class'].isin(options)]\n",
    "    \n",
    "    fig = px.line(A, x='date_to', y='avg_purch', color='Cattle_Class')\n",
    "    \n",
    "    fig.update_layout(barmode = 'group', \n",
    "    title= \"Comparison Between Cattle Class Pairs\")\n",
    "\n",
    "    \n",
    "    # Add range slider\n",
    "    fig.update_layout(\n",
    "        xaxis=dict(\n",
    "            rangeselector=dict(\n",
    "                buttons=list([\n",
    "                    dict(count=1,\n",
    "                         label=\"1m\",\n",
    "                         step=\"month\",\n",
    "                         stepmode=\"backward\"),\n",
    "                    dict(count=6,\n",
    "                         label=\"6m\",\n",
    "                         step=\"month\",\n",
    "                         stepmode=\"backward\"),\n",
    "                    dict(count=1,\n",
    "                         label=\"YTD\",\n",
    "                         step=\"year\",\n",
    "                         stepmode=\"todate\"),\n",
    "                    dict(count=1,\n",
    "                         label=\"1y\",\n",
    "                         step=\"year\",\n",
    "                         stepmode=\"backward\"),\n",
    "                    dict(step=\"all\")\n",
    "                ])\n",
    "            ),\n",
    "            rangeslider=dict(\n",
    "                visible=True\n",
    "            ),\n",
    "            type=\"date\"\n",
    "        )\n",
    "    )\n",
    "\n",
    "    fig.show()\n",
    "\n",
    "widgets.interact(cattleplotly2, Class1 = class_list, Class2 = class_list)"
   ]
  },
  {
   "cell_type": "code",
   "execution_count": null,
   "id": "119f561f",
   "metadata": {},
   "outputs": [],
   "source": []
  },
  {
   "cell_type": "code",
   "execution_count": 39,
   "id": "e952bb59",
   "metadata": {},
   "outputs": [
    {
     "data": {
      "application/vnd.jupyter.widget-view+json": {
       "model_id": "87fd49e3b9454d51ad532f87c87d60e2",
       "version_major": 2,
       "version_minor": 0
      },
      "text/plain": [
       "interactive(children=(Output(),), _dom_classes=('widget-interact',))"
      ]
     },
     "metadata": {},
     "output_type": "display_data"
    },
    {
     "data": {
      "application/vnd.plotly.v1+json": {
       "config": {
        "plotlyServerURL": "https://plot.ly"
       },
       "data": [
        {
         "domain": {
          "x": [
           0,
           1
          ],
          "y": [
           0,
           1
          ]
         },
         "hoverinfo": "label+percent+name",
         "hovertemplate": "label=%{label}<br>value=%{value}<extra></extra>",
         "labels": [
          "A2",
          "C3",
          "AB2",
          "AB3",
          "B2",
          "B3",
          "C2",
          "A3"
         ],
         "legendgroup": "",
         "name": "",
         "showlegend": true,
         "textinfo": "value",
         "type": "pie",
         "values": [
          67,
          67,
          67,
          67,
          67,
          67,
          67,
          67
         ]
        }
       ],
       "layout": {
        "annotations": [
         {
          "font": {
           "size": 13
          },
          "showarrow": false,
          "text": "Cattle Class",
          "x": 0.5,
          "y": 0.5
         }
        ],
        "legend": {
         "tracegroupgap": 0
        },
        "margin": {
         "t": 60
        },
        "template": {
         "data": {
          "bar": [
           {
            "error_x": {
             "color": "#2a3f5f"
            },
            "error_y": {
             "color": "#2a3f5f"
            },
            "marker": {
             "line": {
              "color": "#E5ECF6",
              "width": 0.5
             },
             "pattern": {
              "fillmode": "overlay",
              "size": 10,
              "solidity": 0.2
             }
            },
            "type": "bar"
           }
          ],
          "barpolar": [
           {
            "marker": {
             "line": {
              "color": "#E5ECF6",
              "width": 0.5
             },
             "pattern": {
              "fillmode": "overlay",
              "size": 10,
              "solidity": 0.2
             }
            },
            "type": "barpolar"
           }
          ],
          "carpet": [
           {
            "aaxis": {
             "endlinecolor": "#2a3f5f",
             "gridcolor": "white",
             "linecolor": "white",
             "minorgridcolor": "white",
             "startlinecolor": "#2a3f5f"
            },
            "baxis": {
             "endlinecolor": "#2a3f5f",
             "gridcolor": "white",
             "linecolor": "white",
             "minorgridcolor": "white",
             "startlinecolor": "#2a3f5f"
            },
            "type": "carpet"
           }
          ],
          "choropleth": [
           {
            "colorbar": {
             "outlinewidth": 0,
             "ticks": ""
            },
            "type": "choropleth"
           }
          ],
          "contour": [
           {
            "colorbar": {
             "outlinewidth": 0,
             "ticks": ""
            },
            "colorscale": [
             [
              0,
              "#0d0887"
             ],
             [
              0.1111111111111111,
              "#46039f"
             ],
             [
              0.2222222222222222,
              "#7201a8"
             ],
             [
              0.3333333333333333,
              "#9c179e"
             ],
             [
              0.4444444444444444,
              "#bd3786"
             ],
             [
              0.5555555555555556,
              "#d8576b"
             ],
             [
              0.6666666666666666,
              "#ed7953"
             ],
             [
              0.7777777777777778,
              "#fb9f3a"
             ],
             [
              0.8888888888888888,
              "#fdca26"
             ],
             [
              1,
              "#f0f921"
             ]
            ],
            "type": "contour"
           }
          ],
          "contourcarpet": [
           {
            "colorbar": {
             "outlinewidth": 0,
             "ticks": ""
            },
            "type": "contourcarpet"
           }
          ],
          "heatmap": [
           {
            "colorbar": {
             "outlinewidth": 0,
             "ticks": ""
            },
            "colorscale": [
             [
              0,
              "#0d0887"
             ],
             [
              0.1111111111111111,
              "#46039f"
             ],
             [
              0.2222222222222222,
              "#7201a8"
             ],
             [
              0.3333333333333333,
              "#9c179e"
             ],
             [
              0.4444444444444444,
              "#bd3786"
             ],
             [
              0.5555555555555556,
              "#d8576b"
             ],
             [
              0.6666666666666666,
              "#ed7953"
             ],
             [
              0.7777777777777778,
              "#fb9f3a"
             ],
             [
              0.8888888888888888,
              "#fdca26"
             ],
             [
              1,
              "#f0f921"
             ]
            ],
            "type": "heatmap"
           }
          ],
          "heatmapgl": [
           {
            "colorbar": {
             "outlinewidth": 0,
             "ticks": ""
            },
            "colorscale": [
             [
              0,
              "#0d0887"
             ],
             [
              0.1111111111111111,
              "#46039f"
             ],
             [
              0.2222222222222222,
              "#7201a8"
             ],
             [
              0.3333333333333333,
              "#9c179e"
             ],
             [
              0.4444444444444444,
              "#bd3786"
             ],
             [
              0.5555555555555556,
              "#d8576b"
             ],
             [
              0.6666666666666666,
              "#ed7953"
             ],
             [
              0.7777777777777778,
              "#fb9f3a"
             ],
             [
              0.8888888888888888,
              "#fdca26"
             ],
             [
              1,
              "#f0f921"
             ]
            ],
            "type": "heatmapgl"
           }
          ],
          "histogram": [
           {
            "marker": {
             "pattern": {
              "fillmode": "overlay",
              "size": 10,
              "solidity": 0.2
             }
            },
            "type": "histogram"
           }
          ],
          "histogram2d": [
           {
            "colorbar": {
             "outlinewidth": 0,
             "ticks": ""
            },
            "colorscale": [
             [
              0,
              "#0d0887"
             ],
             [
              0.1111111111111111,
              "#46039f"
             ],
             [
              0.2222222222222222,
              "#7201a8"
             ],
             [
              0.3333333333333333,
              "#9c179e"
             ],
             [
              0.4444444444444444,
              "#bd3786"
             ],
             [
              0.5555555555555556,
              "#d8576b"
             ],
             [
              0.6666666666666666,
              "#ed7953"
             ],
             [
              0.7777777777777778,
              "#fb9f3a"
             ],
             [
              0.8888888888888888,
              "#fdca26"
             ],
             [
              1,
              "#f0f921"
             ]
            ],
            "type": "histogram2d"
           }
          ],
          "histogram2dcontour": [
           {
            "colorbar": {
             "outlinewidth": 0,
             "ticks": ""
            },
            "colorscale": [
             [
              0,
              "#0d0887"
             ],
             [
              0.1111111111111111,
              "#46039f"
             ],
             [
              0.2222222222222222,
              "#7201a8"
             ],
             [
              0.3333333333333333,
              "#9c179e"
             ],
             [
              0.4444444444444444,
              "#bd3786"
             ],
             [
              0.5555555555555556,
              "#d8576b"
             ],
             [
              0.6666666666666666,
              "#ed7953"
             ],
             [
              0.7777777777777778,
              "#fb9f3a"
             ],
             [
              0.8888888888888888,
              "#fdca26"
             ],
             [
              1,
              "#f0f921"
             ]
            ],
            "type": "histogram2dcontour"
           }
          ],
          "mesh3d": [
           {
            "colorbar": {
             "outlinewidth": 0,
             "ticks": ""
            },
            "type": "mesh3d"
           }
          ],
          "parcoords": [
           {
            "line": {
             "colorbar": {
              "outlinewidth": 0,
              "ticks": ""
             }
            },
            "type": "parcoords"
           }
          ],
          "pie": [
           {
            "automargin": true,
            "type": "pie"
           }
          ],
          "scatter": [
           {
            "fillpattern": {
             "fillmode": "overlay",
             "size": 10,
             "solidity": 0.2
            },
            "type": "scatter"
           }
          ],
          "scatter3d": [
           {
            "line": {
             "colorbar": {
              "outlinewidth": 0,
              "ticks": ""
             }
            },
            "marker": {
             "colorbar": {
              "outlinewidth": 0,
              "ticks": ""
             }
            },
            "type": "scatter3d"
           }
          ],
          "scattercarpet": [
           {
            "marker": {
             "colorbar": {
              "outlinewidth": 0,
              "ticks": ""
             }
            },
            "type": "scattercarpet"
           }
          ],
          "scattergeo": [
           {
            "marker": {
             "colorbar": {
              "outlinewidth": 0,
              "ticks": ""
             }
            },
            "type": "scattergeo"
           }
          ],
          "scattergl": [
           {
            "marker": {
             "colorbar": {
              "outlinewidth": 0,
              "ticks": ""
             }
            },
            "type": "scattergl"
           }
          ],
          "scattermapbox": [
           {
            "marker": {
             "colorbar": {
              "outlinewidth": 0,
              "ticks": ""
             }
            },
            "type": "scattermapbox"
           }
          ],
          "scatterpolar": [
           {
            "marker": {
             "colorbar": {
              "outlinewidth": 0,
              "ticks": ""
             }
            },
            "type": "scatterpolar"
           }
          ],
          "scatterpolargl": [
           {
            "marker": {
             "colorbar": {
              "outlinewidth": 0,
              "ticks": ""
             }
            },
            "type": "scatterpolargl"
           }
          ],
          "scatterternary": [
           {
            "marker": {
             "colorbar": {
              "outlinewidth": 0,
              "ticks": ""
             }
            },
            "type": "scatterternary"
           }
          ],
          "surface": [
           {
            "colorbar": {
             "outlinewidth": 0,
             "ticks": ""
            },
            "colorscale": [
             [
              0,
              "#0d0887"
             ],
             [
              0.1111111111111111,
              "#46039f"
             ],
             [
              0.2222222222222222,
              "#7201a8"
             ],
             [
              0.3333333333333333,
              "#9c179e"
             ],
             [
              0.4444444444444444,
              "#bd3786"
             ],
             [
              0.5555555555555556,
              "#d8576b"
             ],
             [
              0.6666666666666666,
              "#ed7953"
             ],
             [
              0.7777777777777778,
              "#fb9f3a"
             ],
             [
              0.8888888888888888,
              "#fdca26"
             ],
             [
              1,
              "#f0f921"
             ]
            ],
            "type": "surface"
           }
          ],
          "table": [
           {
            "cells": {
             "fill": {
              "color": "#EBF0F8"
             },
             "line": {
              "color": "white"
             }
            },
            "header": {
             "fill": {
              "color": "#C8D4E3"
             },
             "line": {
              "color": "white"
             }
            },
            "type": "table"
           }
          ]
         },
         "layout": {
          "annotationdefaults": {
           "arrowcolor": "#2a3f5f",
           "arrowhead": 0,
           "arrowwidth": 1
          },
          "autotypenumbers": "strict",
          "coloraxis": {
           "colorbar": {
            "outlinewidth": 0,
            "ticks": ""
           }
          },
          "colorscale": {
           "diverging": [
            [
             0,
             "#8e0152"
            ],
            [
             0.1,
             "#c51b7d"
            ],
            [
             0.2,
             "#de77ae"
            ],
            [
             0.3,
             "#f1b6da"
            ],
            [
             0.4,
             "#fde0ef"
            ],
            [
             0.5,
             "#f7f7f7"
            ],
            [
             0.6,
             "#e6f5d0"
            ],
            [
             0.7,
             "#b8e186"
            ],
            [
             0.8,
             "#7fbc41"
            ],
            [
             0.9,
             "#4d9221"
            ],
            [
             1,
             "#276419"
            ]
           ],
           "sequential": [
            [
             0,
             "#0d0887"
            ],
            [
             0.1111111111111111,
             "#46039f"
            ],
            [
             0.2222222222222222,
             "#7201a8"
            ],
            [
             0.3333333333333333,
             "#9c179e"
            ],
            [
             0.4444444444444444,
             "#bd3786"
            ],
            [
             0.5555555555555556,
             "#d8576b"
            ],
            [
             0.6666666666666666,
             "#ed7953"
            ],
            [
             0.7777777777777778,
             "#fb9f3a"
            ],
            [
             0.8888888888888888,
             "#fdca26"
            ],
            [
             1,
             "#f0f921"
            ]
           ],
           "sequentialminus": [
            [
             0,
             "#0d0887"
            ],
            [
             0.1111111111111111,
             "#46039f"
            ],
            [
             0.2222222222222222,
             "#7201a8"
            ],
            [
             0.3333333333333333,
             "#9c179e"
            ],
            [
             0.4444444444444444,
             "#bd3786"
            ],
            [
             0.5555555555555556,
             "#d8576b"
            ],
            [
             0.6666666666666666,
             "#ed7953"
            ],
            [
             0.7777777777777778,
             "#fb9f3a"
            ],
            [
             0.8888888888888888,
             "#fdca26"
            ],
            [
             1,
             "#f0f921"
            ]
           ]
          },
          "colorway": [
           "#636efa",
           "#EF553B",
           "#00cc96",
           "#ab63fa",
           "#FFA15A",
           "#19d3f3",
           "#FF6692",
           "#B6E880",
           "#FF97FF",
           "#FECB52"
          ],
          "font": {
           "color": "#2a3f5f"
          },
          "geo": {
           "bgcolor": "white",
           "lakecolor": "white",
           "landcolor": "#E5ECF6",
           "showlakes": true,
           "showland": true,
           "subunitcolor": "white"
          },
          "hoverlabel": {
           "align": "left"
          },
          "hovermode": "closest",
          "mapbox": {
           "style": "light"
          },
          "paper_bgcolor": "white",
          "plot_bgcolor": "#E5ECF6",
          "polar": {
           "angularaxis": {
            "gridcolor": "white",
            "linecolor": "white",
            "ticks": ""
           },
           "bgcolor": "#E5ECF6",
           "radialaxis": {
            "gridcolor": "white",
            "linecolor": "white",
            "ticks": ""
           }
          },
          "scene": {
           "xaxis": {
            "backgroundcolor": "#E5ECF6",
            "gridcolor": "white",
            "gridwidth": 2,
            "linecolor": "white",
            "showbackground": true,
            "ticks": "",
            "zerolinecolor": "white"
           },
           "yaxis": {
            "backgroundcolor": "#E5ECF6",
            "gridcolor": "white",
            "gridwidth": 2,
            "linecolor": "white",
            "showbackground": true,
            "ticks": "",
            "zerolinecolor": "white"
           },
           "zaxis": {
            "backgroundcolor": "#E5ECF6",
            "gridcolor": "white",
            "gridwidth": 2,
            "linecolor": "white",
            "showbackground": true,
            "ticks": "",
            "zerolinecolor": "white"
           }
          },
          "shapedefaults": {
           "line": {
            "color": "#2a3f5f"
           }
          },
          "ternary": {
           "aaxis": {
            "gridcolor": "white",
            "linecolor": "white",
            "ticks": ""
           },
           "baxis": {
            "gridcolor": "white",
            "linecolor": "white",
            "ticks": ""
           },
           "bgcolor": "#E5ECF6",
           "caxis": {
            "gridcolor": "white",
            "linecolor": "white",
            "ticks": ""
           }
          },
          "title": {
           "x": 0.05
          },
          "xaxis": {
           "automargin": true,
           "gridcolor": "white",
           "linecolor": "white",
           "ticks": "",
           "title": {
            "standoff": 15
           },
           "zerolinecolor": "white",
           "zerolinewidth": 2
          },
          "yaxis": {
           "automargin": true,
           "gridcolor": "white",
           "linecolor": "white",
           "ticks": "",
           "title": {
            "standoff": 15
           },
           "zerolinecolor": "white",
           "zerolinewidth": 2
          }
         }
        },
        "title": {
         "text": "No. of Transactions per Cattle Class; Total No. of Transactions = 536"
        }
       }
      }
     },
     "metadata": {},
     "output_type": "display_data"
    },
    {
     "data": {
      "text/plain": [
       "<function __main__.cattle_pie()>"
      ]
     },
     "execution_count": 39,
     "metadata": {},
     "output_type": "execute_result"
    }
   ],
   "source": [
    "def cattle_pie():\n",
    "    A = df2_2['Cattle_Class']\n",
    "    B = len(A)\n",
    "    fig = px.pie(A, values=A.value_counts().values, names=A.value_counts().index)\n",
    "    fig.update_traces(hoverinfo='label+percent+name', textinfo='value')\n",
    "    \n",
    "    fig.update_layout(\n",
    "    title_text= f\"No. of Transactions per Cattle Class; Total No. of Transactions = {B}\",\n",
    "    # Add annotations in the center of the donut pies.\n",
    "    annotations=[dict(text='Cattle Class', x=0.5, y=0.5, font_size=13, showarrow=False)])\n",
    "    fig.show()\n",
    "    \n",
    "widgets.interact(cattle_pie)"
   ]
  },
  {
   "cell_type": "code",
   "execution_count": 40,
   "id": "b89bc2b5",
   "metadata": {},
   "outputs": [
    {
     "data": {
      "text/html": [
       "<div>\n",
       "<style scoped>\n",
       "    .dataframe tbody tr th:only-of-type {\n",
       "        vertical-align: middle;\n",
       "    }\n",
       "\n",
       "    .dataframe tbody tr th {\n",
       "        vertical-align: top;\n",
       "    }\n",
       "\n",
       "    .dataframe thead th {\n",
       "        text-align: right;\n",
       "    }\n",
       "</style>\n",
       "<table border=\"1\" class=\"dataframe\">\n",
       "  <thead>\n",
       "    <tr style=\"text-align: right;\">\n",
       "      <th></th>\n",
       "      <th>class</th>\n",
       "      <th>units</th>\n",
       "      <th>avg_mass</th>\n",
       "      <th>avg_purch</th>\n",
       "      <th>purch_min</th>\n",
       "      <th>purch_max</th>\n",
       "      <th>date_from</th>\n",
       "      <th>date_to</th>\n",
       "      <th>weight</th>\n",
       "    </tr>\n",
       "  </thead>\n",
       "  <tbody>\n",
       "    <tr>\n",
       "      <th>0</th>\n",
       "      <td>P</td>\n",
       "      <td>1064</td>\n",
       "      <td>50.46</td>\n",
       "      <td>28.00</td>\n",
       "      <td>25.37</td>\n",
       "      <td>29.69</td>\n",
       "      <td>2022-05-30</td>\n",
       "      <td>2022-06-05</td>\n",
       "      <td>20-55.99kg</td>\n",
       "    </tr>\n",
       "    <tr>\n",
       "      <th>1</th>\n",
       "      <td>O</td>\n",
       "      <td>73</td>\n",
       "      <td>48.34</td>\n",
       "      <td>27.46</td>\n",
       "      <td>25.60</td>\n",
       "      <td>30.60</td>\n",
       "      <td>2022-05-30</td>\n",
       "      <td>2022-06-05</td>\n",
       "      <td>20-55.99kg</td>\n",
       "    </tr>\n",
       "    <tr>\n",
       "      <th>2</th>\n",
       "      <td>R</td>\n",
       "      <td>13</td>\n",
       "      <td>51.14</td>\n",
       "      <td>26.36</td>\n",
       "      <td>25.50</td>\n",
       "      <td>29.24</td>\n",
       "      <td>2022-05-30</td>\n",
       "      <td>2022-06-05</td>\n",
       "      <td>20-55.99kg</td>\n",
       "    </tr>\n",
       "    <tr>\n",
       "      <th>3</th>\n",
       "      <td>C</td>\n",
       "      <td>4</td>\n",
       "      <td>51.78</td>\n",
       "      <td>23.29</td>\n",
       "      <td>19.75</td>\n",
       "      <td>28.00</td>\n",
       "      <td>2022-05-30</td>\n",
       "      <td>2022-06-05</td>\n",
       "      <td>20-55.99kg</td>\n",
       "    </tr>\n",
       "    <tr>\n",
       "      <th>4</th>\n",
       "      <td>S</td>\n",
       "      <td>923</td>\n",
       "      <td>22.75</td>\n",
       "      <td>22.75</td>\n",
       "      <td>22.75</td>\n",
       "      <td>0.00</td>\n",
       "      <td>2022-05-30</td>\n",
       "      <td>2022-06-05</td>\n",
       "      <td>20-55.99kg</td>\n",
       "    </tr>\n",
       "    <tr>\n",
       "      <th>...</th>\n",
       "      <td>...</td>\n",
       "      <td>...</td>\n",
       "      <td>...</td>\n",
       "      <td>...</td>\n",
       "      <td>...</td>\n",
       "      <td>...</td>\n",
       "      <td>...</td>\n",
       "      <td>...</td>\n",
       "      <td>...</td>\n",
       "    </tr>\n",
       "    <tr>\n",
       "      <th>1391</th>\n",
       "      <td>O</td>\n",
       "      <td>6525</td>\n",
       "      <td>87.89</td>\n",
       "      <td>24.18</td>\n",
       "      <td>23.69</td>\n",
       "      <td>25.20</td>\n",
       "      <td>2022-02-07</td>\n",
       "      <td>2022-02-13</td>\n",
       "      <td>80-99.99kg</td>\n",
       "    </tr>\n",
       "    <tr>\n",
       "      <th>1392</th>\n",
       "      <td>R</td>\n",
       "      <td>1141</td>\n",
       "      <td>89.80</td>\n",
       "      <td>23.96</td>\n",
       "      <td>22.78</td>\n",
       "      <td>24.40</td>\n",
       "      <td>2022-02-07</td>\n",
       "      <td>2022-02-13</td>\n",
       "      <td>80-99.99kg</td>\n",
       "    </tr>\n",
       "    <tr>\n",
       "      <th>1393</th>\n",
       "      <td>C</td>\n",
       "      <td>70</td>\n",
       "      <td>91.36</td>\n",
       "      <td>21.26</td>\n",
       "      <td>20.02</td>\n",
       "      <td>21.86</td>\n",
       "      <td>2022-02-07</td>\n",
       "      <td>2022-02-13</td>\n",
       "      <td>80-99.99kg</td>\n",
       "    </tr>\n",
       "    <tr>\n",
       "      <th>1394</th>\n",
       "      <td>U</td>\n",
       "      <td>4</td>\n",
       "      <td>88.95</td>\n",
       "      <td>20.00</td>\n",
       "      <td>18.50</td>\n",
       "      <td>22.00</td>\n",
       "      <td>2022-02-07</td>\n",
       "      <td>2022-02-13</td>\n",
       "      <td>80-99.99kg</td>\n",
       "    </tr>\n",
       "    <tr>\n",
       "      <th>1395</th>\n",
       "      <td>S</td>\n",
       "      <td>115</td>\n",
       "      <td>97.90</td>\n",
       "      <td>23.61</td>\n",
       "      <td>21.25</td>\n",
       "      <td>24.38</td>\n",
       "      <td>2022-02-07</td>\n",
       "      <td>2022-02-13</td>\n",
       "      <td>80-99.99kg</td>\n",
       "    </tr>\n",
       "  </tbody>\n",
       "</table>\n",
       "<p>1396 rows × 9 columns</p>\n",
       "</div>"
      ],
      "text/plain": [
       "     class  units  avg_mass  avg_purch  purch_min  purch_max   date_from  \\\n",
       "0        P   1064     50.46      28.00      25.37      29.69  2022-05-30   \n",
       "1        O     73     48.34      27.46      25.60      30.60  2022-05-30   \n",
       "2        R     13     51.14      26.36      25.50      29.24  2022-05-30   \n",
       "3        C      4     51.78      23.29      19.75      28.00  2022-05-30   \n",
       "4        S    923     22.75      22.75      22.75       0.00  2022-05-30   \n",
       "...    ...    ...       ...        ...        ...        ...         ...   \n",
       "1391     O   6525     87.89      24.18      23.69      25.20  2022-02-07   \n",
       "1392     R   1141     89.80      23.96      22.78      24.40  2022-02-07   \n",
       "1393     C     70     91.36      21.26      20.02      21.86  2022-02-07   \n",
       "1394     U      4     88.95      20.00      18.50      22.00  2022-02-07   \n",
       "1395     S    115     97.90      23.61      21.25      24.38  2022-02-07   \n",
       "\n",
       "         date_to      weight  \n",
       "0     2022-06-05  20-55.99kg  \n",
       "1     2022-06-05  20-55.99kg  \n",
       "2     2022-06-05  20-55.99kg  \n",
       "3     2022-06-05  20-55.99kg  \n",
       "4     2022-06-05  20-55.99kg  \n",
       "...          ...         ...  \n",
       "1391  2022-02-13  80-99.99kg  \n",
       "1392  2022-02-13  80-99.99kg  \n",
       "1393  2022-02-13  80-99.99kg  \n",
       "1394  2022-02-13  80-99.99kg  \n",
       "1395  2022-02-13  80-99.99kg  \n",
       "\n",
       "[1396 rows x 9 columns]"
      ]
     },
     "execution_count": 40,
     "metadata": {},
     "output_type": "execute_result"
    }
   ],
   "source": [
    "# Rendering the Pigs subset of the livestock dataset in a dataframe\n",
    "df2_3_raw = pd.read_csv('../tests/Final_Output/Livestock_Pork_2023-05-09.csv')\n",
    "list2_3 = [0]\n",
    "df2_3 = df2_3_raw[df2_3_raw.avg_purch.isin(list2_3) == False].reset_index(drop = True)\n",
    "df2_3"
   ]
  },
  {
   "cell_type": "code",
   "execution_count": 41,
   "id": "f6cd1e8a",
   "metadata": {},
   "outputs": [
    {
     "name": "stdout",
     "output_type": "stream",
     "text": [
      "<class 'pandas.core.frame.DataFrame'>\n",
      "RangeIndex: 1396 entries, 0 to 1395\n",
      "Data columns (total 9 columns):\n",
      " #   Column     Non-Null Count  Dtype  \n",
      "---  ------     --------------  -----  \n",
      " 0   class      1396 non-null   object \n",
      " 1   units      1396 non-null   int64  \n",
      " 2   avg_mass   1396 non-null   float64\n",
      " 3   avg_purch  1396 non-null   float64\n",
      " 4   purch_min  1396 non-null   float64\n",
      " 5   purch_max  1396 non-null   float64\n",
      " 6   date_from  1396 non-null   object \n",
      " 7   date_to    1396 non-null   object \n",
      " 8   weight     1396 non-null   object \n",
      "dtypes: float64(4), int64(1), object(4)\n",
      "memory usage: 98.3+ KB\n"
     ]
    }
   ],
   "source": [
    "df2_3.info()"
   ]
  },
  {
   "cell_type": "code",
   "execution_count": 42,
   "id": "cbaf2621",
   "metadata": {},
   "outputs": [
    {
     "data": {
      "text/plain": [
       "class        0\n",
       "units        0\n",
       "avg_mass     0\n",
       "avg_purch    0\n",
       "purch_min    0\n",
       "purch_max    0\n",
       "date_from    0\n",
       "date_to      0\n",
       "weight       0\n",
       "dtype: int64"
      ]
     },
     "execution_count": 42,
     "metadata": {},
     "output_type": "execute_result"
    }
   ],
   "source": [
    "df2_3.isnull().sum()"
   ]
  },
  {
   "cell_type": "code",
   "execution_count": 43,
   "id": "58d68eda",
   "metadata": {},
   "outputs": [
    {
     "data": {
      "text/plain": [
       "class        0\n",
       "units        0\n",
       "avg_mass     0\n",
       "avg_purch    0\n",
       "purch_min    0\n",
       "purch_max    0\n",
       "date_from    0\n",
       "date_to      0\n",
       "weight       0\n",
       "dtype: int64"
      ]
     },
     "execution_count": 43,
     "metadata": {},
     "output_type": "execute_result"
    }
   ],
   "source": [
    "\n",
    "for i, row in df2_3.iterrows():\n",
    "    if df2_3.loc[i, :].isnull().sum() > 1:    \n",
    "        df2_3.drop([i], inplace=True)\n",
    "\n",
    "\n",
    "\n",
    "df2_3.isnull().sum()"
   ]
  },
  {
   "cell_type": "code",
   "execution_count": 44,
   "id": "712133ea",
   "metadata": {},
   "outputs": [
    {
     "data": {
      "text/html": [
       "<div>\n",
       "<style scoped>\n",
       "    .dataframe tbody tr th:only-of-type {\n",
       "        vertical-align: middle;\n",
       "    }\n",
       "\n",
       "    .dataframe tbody tr th {\n",
       "        vertical-align: top;\n",
       "    }\n",
       "\n",
       "    .dataframe thead th {\n",
       "        text-align: right;\n",
       "    }\n",
       "</style>\n",
       "<table border=\"1\" class=\"dataframe\">\n",
       "  <thead>\n",
       "    <tr style=\"text-align: right;\">\n",
       "      <th></th>\n",
       "      <th>class</th>\n",
       "      <th>units</th>\n",
       "      <th>avg_mass</th>\n",
       "      <th>avg_purch</th>\n",
       "      <th>purch_min</th>\n",
       "      <th>purch_max</th>\n",
       "      <th>date_from</th>\n",
       "      <th>date_to</th>\n",
       "      <th>weight</th>\n",
       "    </tr>\n",
       "  </thead>\n",
       "  <tbody>\n",
       "    <tr>\n",
       "      <th>0</th>\n",
       "      <td>P</td>\n",
       "      <td>1064</td>\n",
       "      <td>50.46</td>\n",
       "      <td>28.00</td>\n",
       "      <td>25.37</td>\n",
       "      <td>29.69</td>\n",
       "      <td>2022-05-30</td>\n",
       "      <td>2022-06-05</td>\n",
       "      <td>20-55.99kg</td>\n",
       "    </tr>\n",
       "    <tr>\n",
       "      <th>1</th>\n",
       "      <td>O</td>\n",
       "      <td>73</td>\n",
       "      <td>48.34</td>\n",
       "      <td>27.46</td>\n",
       "      <td>25.60</td>\n",
       "      <td>30.60</td>\n",
       "      <td>2022-05-30</td>\n",
       "      <td>2022-06-05</td>\n",
       "      <td>20-55.99kg</td>\n",
       "    </tr>\n",
       "    <tr>\n",
       "      <th>2</th>\n",
       "      <td>R</td>\n",
       "      <td>13</td>\n",
       "      <td>51.14</td>\n",
       "      <td>26.36</td>\n",
       "      <td>25.50</td>\n",
       "      <td>29.24</td>\n",
       "      <td>2022-05-30</td>\n",
       "      <td>2022-06-05</td>\n",
       "      <td>20-55.99kg</td>\n",
       "    </tr>\n",
       "    <tr>\n",
       "      <th>3</th>\n",
       "      <td>C</td>\n",
       "      <td>4</td>\n",
       "      <td>51.78</td>\n",
       "      <td>23.29</td>\n",
       "      <td>19.75</td>\n",
       "      <td>28.00</td>\n",
       "      <td>2022-05-30</td>\n",
       "      <td>2022-06-05</td>\n",
       "      <td>20-55.99kg</td>\n",
       "    </tr>\n",
       "    <tr>\n",
       "      <th>4</th>\n",
       "      <td>S</td>\n",
       "      <td>923</td>\n",
       "      <td>22.75</td>\n",
       "      <td>22.75</td>\n",
       "      <td>22.75</td>\n",
       "      <td>0.00</td>\n",
       "      <td>2022-05-30</td>\n",
       "      <td>2022-06-05</td>\n",
       "      <td>20-55.99kg</td>\n",
       "    </tr>\n",
       "    <tr>\n",
       "      <th>...</th>\n",
       "      <td>...</td>\n",
       "      <td>...</td>\n",
       "      <td>...</td>\n",
       "      <td>...</td>\n",
       "      <td>...</td>\n",
       "      <td>...</td>\n",
       "      <td>...</td>\n",
       "      <td>...</td>\n",
       "      <td>...</td>\n",
       "    </tr>\n",
       "    <tr>\n",
       "      <th>1391</th>\n",
       "      <td>O</td>\n",
       "      <td>6525</td>\n",
       "      <td>87.89</td>\n",
       "      <td>24.18</td>\n",
       "      <td>23.69</td>\n",
       "      <td>25.20</td>\n",
       "      <td>2022-02-07</td>\n",
       "      <td>2022-02-13</td>\n",
       "      <td>80-99.99kg</td>\n",
       "    </tr>\n",
       "    <tr>\n",
       "      <th>1392</th>\n",
       "      <td>R</td>\n",
       "      <td>1141</td>\n",
       "      <td>89.80</td>\n",
       "      <td>23.96</td>\n",
       "      <td>22.78</td>\n",
       "      <td>24.40</td>\n",
       "      <td>2022-02-07</td>\n",
       "      <td>2022-02-13</td>\n",
       "      <td>80-99.99kg</td>\n",
       "    </tr>\n",
       "    <tr>\n",
       "      <th>1393</th>\n",
       "      <td>C</td>\n",
       "      <td>70</td>\n",
       "      <td>91.36</td>\n",
       "      <td>21.26</td>\n",
       "      <td>20.02</td>\n",
       "      <td>21.86</td>\n",
       "      <td>2022-02-07</td>\n",
       "      <td>2022-02-13</td>\n",
       "      <td>80-99.99kg</td>\n",
       "    </tr>\n",
       "    <tr>\n",
       "      <th>1394</th>\n",
       "      <td>U</td>\n",
       "      <td>4</td>\n",
       "      <td>88.95</td>\n",
       "      <td>20.00</td>\n",
       "      <td>18.50</td>\n",
       "      <td>22.00</td>\n",
       "      <td>2022-02-07</td>\n",
       "      <td>2022-02-13</td>\n",
       "      <td>80-99.99kg</td>\n",
       "    </tr>\n",
       "    <tr>\n",
       "      <th>1395</th>\n",
       "      <td>S</td>\n",
       "      <td>115</td>\n",
       "      <td>97.90</td>\n",
       "      <td>23.61</td>\n",
       "      <td>21.25</td>\n",
       "      <td>24.38</td>\n",
       "      <td>2022-02-07</td>\n",
       "      <td>2022-02-13</td>\n",
       "      <td>80-99.99kg</td>\n",
       "    </tr>\n",
       "  </tbody>\n",
       "</table>\n",
       "<p>1396 rows × 9 columns</p>\n",
       "</div>"
      ],
      "text/plain": [
       "     class  units  avg_mass  avg_purch  purch_min  purch_max   date_from  \\\n",
       "0        P   1064     50.46      28.00      25.37      29.69  2022-05-30   \n",
       "1        O     73     48.34      27.46      25.60      30.60  2022-05-30   \n",
       "2        R     13     51.14      26.36      25.50      29.24  2022-05-30   \n",
       "3        C      4     51.78      23.29      19.75      28.00  2022-05-30   \n",
       "4        S    923     22.75      22.75      22.75       0.00  2022-05-30   \n",
       "...    ...    ...       ...        ...        ...        ...         ...   \n",
       "1391     O   6525     87.89      24.18      23.69      25.20  2022-02-07   \n",
       "1392     R   1141     89.80      23.96      22.78      24.40  2022-02-07   \n",
       "1393     C     70     91.36      21.26      20.02      21.86  2022-02-07   \n",
       "1394     U      4     88.95      20.00      18.50      22.00  2022-02-07   \n",
       "1395     S    115     97.90      23.61      21.25      24.38  2022-02-07   \n",
       "\n",
       "         date_to      weight  \n",
       "0     2022-06-05  20-55.99kg  \n",
       "1     2022-06-05  20-55.99kg  \n",
       "2     2022-06-05  20-55.99kg  \n",
       "3     2022-06-05  20-55.99kg  \n",
       "4     2022-06-05  20-55.99kg  \n",
       "...          ...         ...  \n",
       "1391  2022-02-13  80-99.99kg  \n",
       "1392  2022-02-13  80-99.99kg  \n",
       "1393  2022-02-13  80-99.99kg  \n",
       "1394  2022-02-13  80-99.99kg  \n",
       "1395  2022-02-13  80-99.99kg  \n",
       "\n",
       "[1396 rows x 9 columns]"
      ]
     },
     "execution_count": 44,
     "metadata": {},
     "output_type": "execute_result"
    }
   ],
   "source": [
    "df2_3"
   ]
  },
  {
   "cell_type": "code",
   "execution_count": 45,
   "id": "d66677ee",
   "metadata": {},
   "outputs": [
    {
     "name": "stdout",
     "output_type": "stream",
     "text": [
      "<class 'pandas.core.frame.DataFrame'>\n",
      "RangeIndex: 1396 entries, 0 to 1395\n",
      "Data columns (total 9 columns):\n",
      " #   Column     Non-Null Count  Dtype         \n",
      "---  ------     --------------  -----         \n",
      " 0   Pig_Class  1396 non-null   object        \n",
      " 1   units      1396 non-null   int64         \n",
      " 2   avg_mass   1396 non-null   float64       \n",
      " 3   avg_purch  1396 non-null   float64       \n",
      " 4   purch_min  1396 non-null   float64       \n",
      " 5   purch_max  1396 non-null   float64       \n",
      " 6   date_from  1396 non-null   datetime64[ns]\n",
      " 7   date_to    1396 non-null   datetime64[ns]\n",
      " 8   weight     1396 non-null   object        \n",
      "dtypes: datetime64[ns](2), float64(4), int64(1), object(2)\n",
      "memory usage: 98.3+ KB\n"
     ]
    }
   ],
   "source": [
    "df2_3['date_from'] = pd.to_datetime(df2_3.date_from)\n",
    "df2_3['date_to'] = pd.to_datetime(df2_3.date_to)\n",
    "df2_3.rename(columns = {'class':'Pig_Class'}, inplace = True)\n",
    "df2_3.info()"
   ]
  },
  {
   "cell_type": "code",
   "execution_count": 46,
   "id": "002f8cf3",
   "metadata": {},
   "outputs": [
    {
     "data": {
      "text/html": [
       "<div>\n",
       "<style scoped>\n",
       "    .dataframe tbody tr th:only-of-type {\n",
       "        vertical-align: middle;\n",
       "    }\n",
       "\n",
       "    .dataframe tbody tr th {\n",
       "        vertical-align: top;\n",
       "    }\n",
       "\n",
       "    .dataframe thead th {\n",
       "        text-align: right;\n",
       "    }\n",
       "</style>\n",
       "<table border=\"1\" class=\"dataframe\">\n",
       "  <thead>\n",
       "    <tr style=\"text-align: right;\">\n",
       "      <th></th>\n",
       "      <th>Pig_Class</th>\n",
       "      <th>units</th>\n",
       "      <th>avg_mass</th>\n",
       "      <th>avg_purch</th>\n",
       "      <th>purch_min</th>\n",
       "      <th>purch_max</th>\n",
       "      <th>date_from</th>\n",
       "      <th>date_to</th>\n",
       "      <th>weight</th>\n",
       "    </tr>\n",
       "  </thead>\n",
       "  <tbody>\n",
       "    <tr>\n",
       "      <th>0</th>\n",
       "      <td>P</td>\n",
       "      <td>1064</td>\n",
       "      <td>50.46</td>\n",
       "      <td>28.00</td>\n",
       "      <td>25.37</td>\n",
       "      <td>29.69</td>\n",
       "      <td>2022-05-30</td>\n",
       "      <td>2022-06-05</td>\n",
       "      <td>20-55.99kg</td>\n",
       "    </tr>\n",
       "    <tr>\n",
       "      <th>1</th>\n",
       "      <td>O</td>\n",
       "      <td>73</td>\n",
       "      <td>48.34</td>\n",
       "      <td>27.46</td>\n",
       "      <td>25.60</td>\n",
       "      <td>30.60</td>\n",
       "      <td>2022-05-30</td>\n",
       "      <td>2022-06-05</td>\n",
       "      <td>20-55.99kg</td>\n",
       "    </tr>\n",
       "    <tr>\n",
       "      <th>2</th>\n",
       "      <td>R</td>\n",
       "      <td>13</td>\n",
       "      <td>51.14</td>\n",
       "      <td>26.36</td>\n",
       "      <td>25.50</td>\n",
       "      <td>29.24</td>\n",
       "      <td>2022-05-30</td>\n",
       "      <td>2022-06-05</td>\n",
       "      <td>20-55.99kg</td>\n",
       "    </tr>\n",
       "    <tr>\n",
       "      <th>3</th>\n",
       "      <td>C</td>\n",
       "      <td>4</td>\n",
       "      <td>51.78</td>\n",
       "      <td>23.29</td>\n",
       "      <td>19.75</td>\n",
       "      <td>28.00</td>\n",
       "      <td>2022-05-30</td>\n",
       "      <td>2022-06-05</td>\n",
       "      <td>20-55.99kg</td>\n",
       "    </tr>\n",
       "    <tr>\n",
       "      <th>4</th>\n",
       "      <td>S</td>\n",
       "      <td>923</td>\n",
       "      <td>22.75</td>\n",
       "      <td>22.75</td>\n",
       "      <td>22.75</td>\n",
       "      <td>0.00</td>\n",
       "      <td>2022-05-30</td>\n",
       "      <td>2022-06-05</td>\n",
       "      <td>20-55.99kg</td>\n",
       "    </tr>\n",
       "    <tr>\n",
       "      <th>...</th>\n",
       "      <td>...</td>\n",
       "      <td>...</td>\n",
       "      <td>...</td>\n",
       "      <td>...</td>\n",
       "      <td>...</td>\n",
       "      <td>...</td>\n",
       "      <td>...</td>\n",
       "      <td>...</td>\n",
       "      <td>...</td>\n",
       "    </tr>\n",
       "    <tr>\n",
       "      <th>1391</th>\n",
       "      <td>O</td>\n",
       "      <td>6525</td>\n",
       "      <td>87.89</td>\n",
       "      <td>24.18</td>\n",
       "      <td>23.69</td>\n",
       "      <td>25.20</td>\n",
       "      <td>2022-02-07</td>\n",
       "      <td>2022-02-13</td>\n",
       "      <td>80-99.99kg</td>\n",
       "    </tr>\n",
       "    <tr>\n",
       "      <th>1392</th>\n",
       "      <td>R</td>\n",
       "      <td>1141</td>\n",
       "      <td>89.80</td>\n",
       "      <td>23.96</td>\n",
       "      <td>22.78</td>\n",
       "      <td>24.40</td>\n",
       "      <td>2022-02-07</td>\n",
       "      <td>2022-02-13</td>\n",
       "      <td>80-99.99kg</td>\n",
       "    </tr>\n",
       "    <tr>\n",
       "      <th>1393</th>\n",
       "      <td>C</td>\n",
       "      <td>70</td>\n",
       "      <td>91.36</td>\n",
       "      <td>21.26</td>\n",
       "      <td>20.02</td>\n",
       "      <td>21.86</td>\n",
       "      <td>2022-02-07</td>\n",
       "      <td>2022-02-13</td>\n",
       "      <td>80-99.99kg</td>\n",
       "    </tr>\n",
       "    <tr>\n",
       "      <th>1394</th>\n",
       "      <td>U</td>\n",
       "      <td>4</td>\n",
       "      <td>88.95</td>\n",
       "      <td>20.00</td>\n",
       "      <td>18.50</td>\n",
       "      <td>22.00</td>\n",
       "      <td>2022-02-07</td>\n",
       "      <td>2022-02-13</td>\n",
       "      <td>80-99.99kg</td>\n",
       "    </tr>\n",
       "    <tr>\n",
       "      <th>1395</th>\n",
       "      <td>S</td>\n",
       "      <td>115</td>\n",
       "      <td>97.90</td>\n",
       "      <td>23.61</td>\n",
       "      <td>21.25</td>\n",
       "      <td>24.38</td>\n",
       "      <td>2022-02-07</td>\n",
       "      <td>2022-02-13</td>\n",
       "      <td>80-99.99kg</td>\n",
       "    </tr>\n",
       "  </tbody>\n",
       "</table>\n",
       "<p>1396 rows × 9 columns</p>\n",
       "</div>"
      ],
      "text/plain": [
       "     Pig_Class  units  avg_mass  avg_purch  purch_min  purch_max  date_from  \\\n",
       "0            P   1064     50.46      28.00      25.37      29.69 2022-05-30   \n",
       "1            O     73     48.34      27.46      25.60      30.60 2022-05-30   \n",
       "2            R     13     51.14      26.36      25.50      29.24 2022-05-30   \n",
       "3            C      4     51.78      23.29      19.75      28.00 2022-05-30   \n",
       "4            S    923     22.75      22.75      22.75       0.00 2022-05-30   \n",
       "...        ...    ...       ...        ...        ...        ...        ...   \n",
       "1391         O   6525     87.89      24.18      23.69      25.20 2022-02-07   \n",
       "1392         R   1141     89.80      23.96      22.78      24.40 2022-02-07   \n",
       "1393         C     70     91.36      21.26      20.02      21.86 2022-02-07   \n",
       "1394         U      4     88.95      20.00      18.50      22.00 2022-02-07   \n",
       "1395         S    115     97.90      23.61      21.25      24.38 2022-02-07   \n",
       "\n",
       "        date_to      weight  \n",
       "0    2022-06-05  20-55.99kg  \n",
       "1    2022-06-05  20-55.99kg  \n",
       "2    2022-06-05  20-55.99kg  \n",
       "3    2022-06-05  20-55.99kg  \n",
       "4    2022-06-05  20-55.99kg  \n",
       "...         ...         ...  \n",
       "1391 2022-02-13  80-99.99kg  \n",
       "1392 2022-02-13  80-99.99kg  \n",
       "1393 2022-02-13  80-99.99kg  \n",
       "1394 2022-02-13  80-99.99kg  \n",
       "1395 2022-02-13  80-99.99kg  \n",
       "\n",
       "[1396 rows x 9 columns]"
      ]
     },
     "execution_count": 46,
     "metadata": {},
     "output_type": "execute_result"
    }
   ],
   "source": [
    "df2_3"
   ]
  },
  {
   "cell_type": "code",
   "execution_count": 47,
   "id": "08b60676",
   "metadata": {},
   "outputs": [
    {
     "data": {
      "text/html": [
       "<div>\n",
       "<style scoped>\n",
       "    .dataframe tbody tr th:only-of-type {\n",
       "        vertical-align: middle;\n",
       "    }\n",
       "\n",
       "    .dataframe tbody tr th {\n",
       "        vertical-align: top;\n",
       "    }\n",
       "\n",
       "    .dataframe thead th {\n",
       "        text-align: right;\n",
       "    }\n",
       "</style>\n",
       "<table border=\"1\" class=\"dataframe\">\n",
       "  <thead>\n",
       "    <tr style=\"text-align: right;\">\n",
       "      <th></th>\n",
       "      <th>Pig_Class</th>\n",
       "      <th>units</th>\n",
       "      <th>avg_mass</th>\n",
       "      <th>avg_purch</th>\n",
       "      <th>purch_min</th>\n",
       "      <th>purch_max</th>\n",
       "      <th>date_from</th>\n",
       "      <th>date_to</th>\n",
       "      <th>weight</th>\n",
       "    </tr>\n",
       "  </thead>\n",
       "  <tbody>\n",
       "    <tr>\n",
       "      <th>0</th>\n",
       "      <td>P</td>\n",
       "      <td>1064</td>\n",
       "      <td>50.46</td>\n",
       "      <td>28.00</td>\n",
       "      <td>25.37</td>\n",
       "      <td>29.69</td>\n",
       "      <td>2022-05-30</td>\n",
       "      <td>2022-06-05</td>\n",
       "      <td>20-55.99kg</td>\n",
       "    </tr>\n",
       "    <tr>\n",
       "      <th>1</th>\n",
       "      <td>O</td>\n",
       "      <td>73</td>\n",
       "      <td>48.34</td>\n",
       "      <td>27.46</td>\n",
       "      <td>25.60</td>\n",
       "      <td>30.60</td>\n",
       "      <td>2022-05-30</td>\n",
       "      <td>2022-06-05</td>\n",
       "      <td>20-55.99kg</td>\n",
       "    </tr>\n",
       "    <tr>\n",
       "      <th>2</th>\n",
       "      <td>R</td>\n",
       "      <td>13</td>\n",
       "      <td>51.14</td>\n",
       "      <td>26.36</td>\n",
       "      <td>25.50</td>\n",
       "      <td>29.24</td>\n",
       "      <td>2022-05-30</td>\n",
       "      <td>2022-06-05</td>\n",
       "      <td>20-55.99kg</td>\n",
       "    </tr>\n",
       "    <tr>\n",
       "      <th>3</th>\n",
       "      <td>C</td>\n",
       "      <td>4</td>\n",
       "      <td>51.78</td>\n",
       "      <td>23.29</td>\n",
       "      <td>19.75</td>\n",
       "      <td>28.00</td>\n",
       "      <td>2022-05-30</td>\n",
       "      <td>2022-06-05</td>\n",
       "      <td>20-55.99kg</td>\n",
       "    </tr>\n",
       "    <tr>\n",
       "      <th>4</th>\n",
       "      <td>S</td>\n",
       "      <td>923</td>\n",
       "      <td>22.75</td>\n",
       "      <td>22.75</td>\n",
       "      <td>22.75</td>\n",
       "      <td>0.00</td>\n",
       "      <td>2022-05-30</td>\n",
       "      <td>2022-06-05</td>\n",
       "      <td>20-55.99kg</td>\n",
       "    </tr>\n",
       "    <tr>\n",
       "      <th>...</th>\n",
       "      <td>...</td>\n",
       "      <td>...</td>\n",
       "      <td>...</td>\n",
       "      <td>...</td>\n",
       "      <td>...</td>\n",
       "      <td>...</td>\n",
       "      <td>...</td>\n",
       "      <td>...</td>\n",
       "      <td>...</td>\n",
       "    </tr>\n",
       "    <tr>\n",
       "      <th>1357</th>\n",
       "      <td>S</td>\n",
       "      <td>1</td>\n",
       "      <td>50.63</td>\n",
       "      <td>20.00</td>\n",
       "      <td>20.00</td>\n",
       "      <td>20.00</td>\n",
       "      <td>2022-05-02</td>\n",
       "      <td>2022-05-08</td>\n",
       "      <td>20-55.99kg</td>\n",
       "    </tr>\n",
       "    <tr>\n",
       "      <th>1376</th>\n",
       "      <td>P</td>\n",
       "      <td>1417</td>\n",
       "      <td>51.01</td>\n",
       "      <td>25.39</td>\n",
       "      <td>22.47</td>\n",
       "      <td>27.04</td>\n",
       "      <td>2022-02-07</td>\n",
       "      <td>2022-02-13</td>\n",
       "      <td>20-55.99kg</td>\n",
       "    </tr>\n",
       "    <tr>\n",
       "      <th>1377</th>\n",
       "      <td>O</td>\n",
       "      <td>56</td>\n",
       "      <td>53.99</td>\n",
       "      <td>25.49</td>\n",
       "      <td>23.17</td>\n",
       "      <td>27.00</td>\n",
       "      <td>2022-02-07</td>\n",
       "      <td>2022-02-13</td>\n",
       "      <td>20-55.99kg</td>\n",
       "    </tr>\n",
       "    <tr>\n",
       "      <th>1378</th>\n",
       "      <td>R</td>\n",
       "      <td>4</td>\n",
       "      <td>41.77</td>\n",
       "      <td>23.16</td>\n",
       "      <td>18.50</td>\n",
       "      <td>24.50</td>\n",
       "      <td>2022-02-07</td>\n",
       "      <td>2022-02-13</td>\n",
       "      <td>20-55.99kg</td>\n",
       "    </tr>\n",
       "    <tr>\n",
       "      <th>1379</th>\n",
       "      <td>S</td>\n",
       "      <td>1</td>\n",
       "      <td>33.85</td>\n",
       "      <td>18.50</td>\n",
       "      <td>18.50</td>\n",
       "      <td>18.50</td>\n",
       "      <td>2022-02-07</td>\n",
       "      <td>2022-02-13</td>\n",
       "      <td>20-55.99kg</td>\n",
       "    </tr>\n",
       "  </tbody>\n",
       "</table>\n",
       "<p>313 rows × 9 columns</p>\n",
       "</div>"
      ],
      "text/plain": [
       "     Pig_Class  units  avg_mass  avg_purch  purch_min  purch_max  date_from  \\\n",
       "0            P   1064     50.46      28.00      25.37      29.69 2022-05-30   \n",
       "1            O     73     48.34      27.46      25.60      30.60 2022-05-30   \n",
       "2            R     13     51.14      26.36      25.50      29.24 2022-05-30   \n",
       "3            C      4     51.78      23.29      19.75      28.00 2022-05-30   \n",
       "4            S    923     22.75      22.75      22.75       0.00 2022-05-30   \n",
       "...        ...    ...       ...        ...        ...        ...        ...   \n",
       "1357         S      1     50.63      20.00      20.00      20.00 2022-05-02   \n",
       "1376         P   1417     51.01      25.39      22.47      27.04 2022-02-07   \n",
       "1377         O     56     53.99      25.49      23.17      27.00 2022-02-07   \n",
       "1378         R      4     41.77      23.16      18.50      24.50 2022-02-07   \n",
       "1379         S      1     33.85      18.50      18.50      18.50 2022-02-07   \n",
       "\n",
       "        date_to      weight  \n",
       "0    2022-06-05  20-55.99kg  \n",
       "1    2022-06-05  20-55.99kg  \n",
       "2    2022-06-05  20-55.99kg  \n",
       "3    2022-06-05  20-55.99kg  \n",
       "4    2022-06-05  20-55.99kg  \n",
       "...         ...         ...  \n",
       "1357 2022-05-08  20-55.99kg  \n",
       "1376 2022-02-13  20-55.99kg  \n",
       "1377 2022-02-13  20-55.99kg  \n",
       "1378 2022-02-13  20-55.99kg  \n",
       "1379 2022-02-13  20-55.99kg  \n",
       "\n",
       "[313 rows x 9 columns]"
      ]
     },
     "execution_count": 47,
     "metadata": {},
     "output_type": "execute_result"
    }
   ],
   "source": [
    "df2_3.loc[df2_3['weight'] == '20-55.99kg']"
   ]
  },
  {
   "cell_type": "code",
   "execution_count": 48,
   "id": "fdc5ce65",
   "metadata": {},
   "outputs": [],
   "source": [
    "index =  np.arange(0, len(df2_3), 1)\n",
    "df2_3.index = index"
   ]
  },
  {
   "cell_type": "code",
   "execution_count": 49,
   "id": "e4edaba7",
   "metadata": {},
   "outputs": [
    {
     "data": {
      "text/html": [
       "<div>\n",
       "<style scoped>\n",
       "    .dataframe tbody tr th:only-of-type {\n",
       "        vertical-align: middle;\n",
       "    }\n",
       "\n",
       "    .dataframe tbody tr th {\n",
       "        vertical-align: top;\n",
       "    }\n",
       "\n",
       "    .dataframe thead th {\n",
       "        text-align: right;\n",
       "    }\n",
       "</style>\n",
       "<table border=\"1\" class=\"dataframe\">\n",
       "  <thead>\n",
       "    <tr style=\"text-align: right;\">\n",
       "      <th></th>\n",
       "      <th>Pig_Class</th>\n",
       "      <th>units</th>\n",
       "      <th>avg_mass</th>\n",
       "      <th>avg_purch</th>\n",
       "      <th>purch_min</th>\n",
       "      <th>purch_max</th>\n",
       "      <th>date_from</th>\n",
       "      <th>date_to</th>\n",
       "      <th>weight</th>\n",
       "    </tr>\n",
       "  </thead>\n",
       "  <tbody>\n",
       "    <tr>\n",
       "      <th>0</th>\n",
       "      <td>P</td>\n",
       "      <td>1064</td>\n",
       "      <td>50.46</td>\n",
       "      <td>28.00</td>\n",
       "      <td>25.37</td>\n",
       "      <td>29.69</td>\n",
       "      <td>2022-05-30</td>\n",
       "      <td>2022-06-05</td>\n",
       "      <td>20-55.99kg</td>\n",
       "    </tr>\n",
       "    <tr>\n",
       "      <th>1</th>\n",
       "      <td>O</td>\n",
       "      <td>73</td>\n",
       "      <td>48.34</td>\n",
       "      <td>27.46</td>\n",
       "      <td>25.60</td>\n",
       "      <td>30.60</td>\n",
       "      <td>2022-05-30</td>\n",
       "      <td>2022-06-05</td>\n",
       "      <td>20-55.99kg</td>\n",
       "    </tr>\n",
       "    <tr>\n",
       "      <th>2</th>\n",
       "      <td>R</td>\n",
       "      <td>13</td>\n",
       "      <td>51.14</td>\n",
       "      <td>26.36</td>\n",
       "      <td>25.50</td>\n",
       "      <td>29.24</td>\n",
       "      <td>2022-05-30</td>\n",
       "      <td>2022-06-05</td>\n",
       "      <td>20-55.99kg</td>\n",
       "    </tr>\n",
       "    <tr>\n",
       "      <th>3</th>\n",
       "      <td>C</td>\n",
       "      <td>4</td>\n",
       "      <td>51.78</td>\n",
       "      <td>23.29</td>\n",
       "      <td>19.75</td>\n",
       "      <td>28.00</td>\n",
       "      <td>2022-05-30</td>\n",
       "      <td>2022-06-05</td>\n",
       "      <td>20-55.99kg</td>\n",
       "    </tr>\n",
       "    <tr>\n",
       "      <th>4</th>\n",
       "      <td>S</td>\n",
       "      <td>923</td>\n",
       "      <td>22.75</td>\n",
       "      <td>22.75</td>\n",
       "      <td>22.75</td>\n",
       "      <td>0.00</td>\n",
       "      <td>2022-05-30</td>\n",
       "      <td>2022-06-05</td>\n",
       "      <td>20-55.99kg</td>\n",
       "    </tr>\n",
       "    <tr>\n",
       "      <th>...</th>\n",
       "      <td>...</td>\n",
       "      <td>...</td>\n",
       "      <td>...</td>\n",
       "      <td>...</td>\n",
       "      <td>...</td>\n",
       "      <td>...</td>\n",
       "      <td>...</td>\n",
       "      <td>...</td>\n",
       "      <td>...</td>\n",
       "    </tr>\n",
       "    <tr>\n",
       "      <th>1391</th>\n",
       "      <td>O</td>\n",
       "      <td>6525</td>\n",
       "      <td>87.89</td>\n",
       "      <td>24.18</td>\n",
       "      <td>23.69</td>\n",
       "      <td>25.20</td>\n",
       "      <td>2022-02-07</td>\n",
       "      <td>2022-02-13</td>\n",
       "      <td>80-99.99kg</td>\n",
       "    </tr>\n",
       "    <tr>\n",
       "      <th>1392</th>\n",
       "      <td>R</td>\n",
       "      <td>1141</td>\n",
       "      <td>89.80</td>\n",
       "      <td>23.96</td>\n",
       "      <td>22.78</td>\n",
       "      <td>24.40</td>\n",
       "      <td>2022-02-07</td>\n",
       "      <td>2022-02-13</td>\n",
       "      <td>80-99.99kg</td>\n",
       "    </tr>\n",
       "    <tr>\n",
       "      <th>1393</th>\n",
       "      <td>C</td>\n",
       "      <td>70</td>\n",
       "      <td>91.36</td>\n",
       "      <td>21.26</td>\n",
       "      <td>20.02</td>\n",
       "      <td>21.86</td>\n",
       "      <td>2022-02-07</td>\n",
       "      <td>2022-02-13</td>\n",
       "      <td>80-99.99kg</td>\n",
       "    </tr>\n",
       "    <tr>\n",
       "      <th>1394</th>\n",
       "      <td>U</td>\n",
       "      <td>4</td>\n",
       "      <td>88.95</td>\n",
       "      <td>20.00</td>\n",
       "      <td>18.50</td>\n",
       "      <td>22.00</td>\n",
       "      <td>2022-02-07</td>\n",
       "      <td>2022-02-13</td>\n",
       "      <td>80-99.99kg</td>\n",
       "    </tr>\n",
       "    <tr>\n",
       "      <th>1395</th>\n",
       "      <td>S</td>\n",
       "      <td>115</td>\n",
       "      <td>97.90</td>\n",
       "      <td>23.61</td>\n",
       "      <td>21.25</td>\n",
       "      <td>24.38</td>\n",
       "      <td>2022-02-07</td>\n",
       "      <td>2022-02-13</td>\n",
       "      <td>80-99.99kg</td>\n",
       "    </tr>\n",
       "  </tbody>\n",
       "</table>\n",
       "<p>1396 rows × 9 columns</p>\n",
       "</div>"
      ],
      "text/plain": [
       "     Pig_Class  units  avg_mass  avg_purch  purch_min  purch_max  date_from  \\\n",
       "0            P   1064     50.46      28.00      25.37      29.69 2022-05-30   \n",
       "1            O     73     48.34      27.46      25.60      30.60 2022-05-30   \n",
       "2            R     13     51.14      26.36      25.50      29.24 2022-05-30   \n",
       "3            C      4     51.78      23.29      19.75      28.00 2022-05-30   \n",
       "4            S    923     22.75      22.75      22.75       0.00 2022-05-30   \n",
       "...        ...    ...       ...        ...        ...        ...        ...   \n",
       "1391         O   6525     87.89      24.18      23.69      25.20 2022-02-07   \n",
       "1392         R   1141     89.80      23.96      22.78      24.40 2022-02-07   \n",
       "1393         C     70     91.36      21.26      20.02      21.86 2022-02-07   \n",
       "1394         U      4     88.95      20.00      18.50      22.00 2022-02-07   \n",
       "1395         S    115     97.90      23.61      21.25      24.38 2022-02-07   \n",
       "\n",
       "        date_to      weight  \n",
       "0    2022-06-05  20-55.99kg  \n",
       "1    2022-06-05  20-55.99kg  \n",
       "2    2022-06-05  20-55.99kg  \n",
       "3    2022-06-05  20-55.99kg  \n",
       "4    2022-06-05  20-55.99kg  \n",
       "...         ...         ...  \n",
       "1391 2022-02-13  80-99.99kg  \n",
       "1392 2022-02-13  80-99.99kg  \n",
       "1393 2022-02-13  80-99.99kg  \n",
       "1394 2022-02-13  80-99.99kg  \n",
       "1395 2022-02-13  80-99.99kg  \n",
       "\n",
       "[1396 rows x 9 columns]"
      ]
     },
     "execution_count": 49,
     "metadata": {},
     "output_type": "execute_result"
    }
   ],
   "source": [
    "df2_3"
   ]
  },
  {
   "attachments": {},
   "cell_type": "markdown",
   "id": "668f05fb",
   "metadata": {},
   "source": [
    "a = df2_3.loc[df2_3['weight'] == '20-55.99kg']\n",
    "b =  a.loc[a['Pig_Class'] == 'P']\n",
    "c = b.loc[b['date_to'] == '2022-05-22']\n",
    "c"
   ]
  },
  {
   "cell_type": "code",
   "execution_count": 50,
   "id": "223e1325",
   "metadata": {},
   "outputs": [
    {
     "data": {
      "application/vnd.jupyter.widget-view+json": {
       "model_id": "0a6f9a04c0584b64ade1d17bf047f7d4",
       "version_major": 2,
       "version_minor": 0
      },
      "text/plain": [
       "interactive(children=(Dropdown(description='Weight', options=('20-55.99kg', '56-64..99kg', '65-79.99kg', '80-9…"
      ]
     },
     "metadata": {},
     "output_type": "display_data"
    },
    {
     "data": {
      "application/vnd.plotly.v1+json": {
       "config": {
        "plotlyServerURL": "https://plot.ly"
       },
       "data": [
        {
         "domain": {
          "x": [
           0,
           1
          ],
          "y": [
           0,
           1
          ]
         },
         "hoverinfo": "label+percent+name",
         "hovertemplate": "label=%{label}<br>value=%{value}<extra></extra>",
         "labels": [
          "P",
          "O",
          "R",
          "C",
          "S",
          "U"
         ],
         "legendgroup": "",
         "name": "",
         "showlegend": true,
         "textinfo": "value",
         "type": "pie",
         "values": [
          67,
          67,
          66,
          53,
          39,
          21
         ]
        }
       ],
       "layout": {
        "annotations": [
         {
          "font": {
           "size": 13
          },
          "showarrow": false,
          "text": "products",
          "x": 0.5,
          "y": 0.5
         }
        ],
        "legend": {
         "tracegroupgap": 0
        },
        "margin": {
         "t": 60
        },
        "template": {
         "data": {
          "bar": [
           {
            "error_x": {
             "color": "#2a3f5f"
            },
            "error_y": {
             "color": "#2a3f5f"
            },
            "marker": {
             "line": {
              "color": "#E5ECF6",
              "width": 0.5
             },
             "pattern": {
              "fillmode": "overlay",
              "size": 10,
              "solidity": 0.2
             }
            },
            "type": "bar"
           }
          ],
          "barpolar": [
           {
            "marker": {
             "line": {
              "color": "#E5ECF6",
              "width": 0.5
             },
             "pattern": {
              "fillmode": "overlay",
              "size": 10,
              "solidity": 0.2
             }
            },
            "type": "barpolar"
           }
          ],
          "carpet": [
           {
            "aaxis": {
             "endlinecolor": "#2a3f5f",
             "gridcolor": "white",
             "linecolor": "white",
             "minorgridcolor": "white",
             "startlinecolor": "#2a3f5f"
            },
            "baxis": {
             "endlinecolor": "#2a3f5f",
             "gridcolor": "white",
             "linecolor": "white",
             "minorgridcolor": "white",
             "startlinecolor": "#2a3f5f"
            },
            "type": "carpet"
           }
          ],
          "choropleth": [
           {
            "colorbar": {
             "outlinewidth": 0,
             "ticks": ""
            },
            "type": "choropleth"
           }
          ],
          "contour": [
           {
            "colorbar": {
             "outlinewidth": 0,
             "ticks": ""
            },
            "colorscale": [
             [
              0,
              "#0d0887"
             ],
             [
              0.1111111111111111,
              "#46039f"
             ],
             [
              0.2222222222222222,
              "#7201a8"
             ],
             [
              0.3333333333333333,
              "#9c179e"
             ],
             [
              0.4444444444444444,
              "#bd3786"
             ],
             [
              0.5555555555555556,
              "#d8576b"
             ],
             [
              0.6666666666666666,
              "#ed7953"
             ],
             [
              0.7777777777777778,
              "#fb9f3a"
             ],
             [
              0.8888888888888888,
              "#fdca26"
             ],
             [
              1,
              "#f0f921"
             ]
            ],
            "type": "contour"
           }
          ],
          "contourcarpet": [
           {
            "colorbar": {
             "outlinewidth": 0,
             "ticks": ""
            },
            "type": "contourcarpet"
           }
          ],
          "heatmap": [
           {
            "colorbar": {
             "outlinewidth": 0,
             "ticks": ""
            },
            "colorscale": [
             [
              0,
              "#0d0887"
             ],
             [
              0.1111111111111111,
              "#46039f"
             ],
             [
              0.2222222222222222,
              "#7201a8"
             ],
             [
              0.3333333333333333,
              "#9c179e"
             ],
             [
              0.4444444444444444,
              "#bd3786"
             ],
             [
              0.5555555555555556,
              "#d8576b"
             ],
             [
              0.6666666666666666,
              "#ed7953"
             ],
             [
              0.7777777777777778,
              "#fb9f3a"
             ],
             [
              0.8888888888888888,
              "#fdca26"
             ],
             [
              1,
              "#f0f921"
             ]
            ],
            "type": "heatmap"
           }
          ],
          "heatmapgl": [
           {
            "colorbar": {
             "outlinewidth": 0,
             "ticks": ""
            },
            "colorscale": [
             [
              0,
              "#0d0887"
             ],
             [
              0.1111111111111111,
              "#46039f"
             ],
             [
              0.2222222222222222,
              "#7201a8"
             ],
             [
              0.3333333333333333,
              "#9c179e"
             ],
             [
              0.4444444444444444,
              "#bd3786"
             ],
             [
              0.5555555555555556,
              "#d8576b"
             ],
             [
              0.6666666666666666,
              "#ed7953"
             ],
             [
              0.7777777777777778,
              "#fb9f3a"
             ],
             [
              0.8888888888888888,
              "#fdca26"
             ],
             [
              1,
              "#f0f921"
             ]
            ],
            "type": "heatmapgl"
           }
          ],
          "histogram": [
           {
            "marker": {
             "pattern": {
              "fillmode": "overlay",
              "size": 10,
              "solidity": 0.2
             }
            },
            "type": "histogram"
           }
          ],
          "histogram2d": [
           {
            "colorbar": {
             "outlinewidth": 0,
             "ticks": ""
            },
            "colorscale": [
             [
              0,
              "#0d0887"
             ],
             [
              0.1111111111111111,
              "#46039f"
             ],
             [
              0.2222222222222222,
              "#7201a8"
             ],
             [
              0.3333333333333333,
              "#9c179e"
             ],
             [
              0.4444444444444444,
              "#bd3786"
             ],
             [
              0.5555555555555556,
              "#d8576b"
             ],
             [
              0.6666666666666666,
              "#ed7953"
             ],
             [
              0.7777777777777778,
              "#fb9f3a"
             ],
             [
              0.8888888888888888,
              "#fdca26"
             ],
             [
              1,
              "#f0f921"
             ]
            ],
            "type": "histogram2d"
           }
          ],
          "histogram2dcontour": [
           {
            "colorbar": {
             "outlinewidth": 0,
             "ticks": ""
            },
            "colorscale": [
             [
              0,
              "#0d0887"
             ],
             [
              0.1111111111111111,
              "#46039f"
             ],
             [
              0.2222222222222222,
              "#7201a8"
             ],
             [
              0.3333333333333333,
              "#9c179e"
             ],
             [
              0.4444444444444444,
              "#bd3786"
             ],
             [
              0.5555555555555556,
              "#d8576b"
             ],
             [
              0.6666666666666666,
              "#ed7953"
             ],
             [
              0.7777777777777778,
              "#fb9f3a"
             ],
             [
              0.8888888888888888,
              "#fdca26"
             ],
             [
              1,
              "#f0f921"
             ]
            ],
            "type": "histogram2dcontour"
           }
          ],
          "mesh3d": [
           {
            "colorbar": {
             "outlinewidth": 0,
             "ticks": ""
            },
            "type": "mesh3d"
           }
          ],
          "parcoords": [
           {
            "line": {
             "colorbar": {
              "outlinewidth": 0,
              "ticks": ""
             }
            },
            "type": "parcoords"
           }
          ],
          "pie": [
           {
            "automargin": true,
            "type": "pie"
           }
          ],
          "scatter": [
           {
            "fillpattern": {
             "fillmode": "overlay",
             "size": 10,
             "solidity": 0.2
            },
            "type": "scatter"
           }
          ],
          "scatter3d": [
           {
            "line": {
             "colorbar": {
              "outlinewidth": 0,
              "ticks": ""
             }
            },
            "marker": {
             "colorbar": {
              "outlinewidth": 0,
              "ticks": ""
             }
            },
            "type": "scatter3d"
           }
          ],
          "scattercarpet": [
           {
            "marker": {
             "colorbar": {
              "outlinewidth": 0,
              "ticks": ""
             }
            },
            "type": "scattercarpet"
           }
          ],
          "scattergeo": [
           {
            "marker": {
             "colorbar": {
              "outlinewidth": 0,
              "ticks": ""
             }
            },
            "type": "scattergeo"
           }
          ],
          "scattergl": [
           {
            "marker": {
             "colorbar": {
              "outlinewidth": 0,
              "ticks": ""
             }
            },
            "type": "scattergl"
           }
          ],
          "scattermapbox": [
           {
            "marker": {
             "colorbar": {
              "outlinewidth": 0,
              "ticks": ""
             }
            },
            "type": "scattermapbox"
           }
          ],
          "scatterpolar": [
           {
            "marker": {
             "colorbar": {
              "outlinewidth": 0,
              "ticks": ""
             }
            },
            "type": "scatterpolar"
           }
          ],
          "scatterpolargl": [
           {
            "marker": {
             "colorbar": {
              "outlinewidth": 0,
              "ticks": ""
             }
            },
            "type": "scatterpolargl"
           }
          ],
          "scatterternary": [
           {
            "marker": {
             "colorbar": {
              "outlinewidth": 0,
              "ticks": ""
             }
            },
            "type": "scatterternary"
           }
          ],
          "surface": [
           {
            "colorbar": {
             "outlinewidth": 0,
             "ticks": ""
            },
            "colorscale": [
             [
              0,
              "#0d0887"
             ],
             [
              0.1111111111111111,
              "#46039f"
             ],
             [
              0.2222222222222222,
              "#7201a8"
             ],
             [
              0.3333333333333333,
              "#9c179e"
             ],
             [
              0.4444444444444444,
              "#bd3786"
             ],
             [
              0.5555555555555556,
              "#d8576b"
             ],
             [
              0.6666666666666666,
              "#ed7953"
             ],
             [
              0.7777777777777778,
              "#fb9f3a"
             ],
             [
              0.8888888888888888,
              "#fdca26"
             ],
             [
              1,
              "#f0f921"
             ]
            ],
            "type": "surface"
           }
          ],
          "table": [
           {
            "cells": {
             "fill": {
              "color": "#EBF0F8"
             },
             "line": {
              "color": "white"
             }
            },
            "header": {
             "fill": {
              "color": "#C8D4E3"
             },
             "line": {
              "color": "white"
             }
            },
            "type": "table"
           }
          ]
         },
         "layout": {
          "annotationdefaults": {
           "arrowcolor": "#2a3f5f",
           "arrowhead": 0,
           "arrowwidth": 1
          },
          "autotypenumbers": "strict",
          "coloraxis": {
           "colorbar": {
            "outlinewidth": 0,
            "ticks": ""
           }
          },
          "colorscale": {
           "diverging": [
            [
             0,
             "#8e0152"
            ],
            [
             0.1,
             "#c51b7d"
            ],
            [
             0.2,
             "#de77ae"
            ],
            [
             0.3,
             "#f1b6da"
            ],
            [
             0.4,
             "#fde0ef"
            ],
            [
             0.5,
             "#f7f7f7"
            ],
            [
             0.6,
             "#e6f5d0"
            ],
            [
             0.7,
             "#b8e186"
            ],
            [
             0.8,
             "#7fbc41"
            ],
            [
             0.9,
             "#4d9221"
            ],
            [
             1,
             "#276419"
            ]
           ],
           "sequential": [
            [
             0,
             "#0d0887"
            ],
            [
             0.1111111111111111,
             "#46039f"
            ],
            [
             0.2222222222222222,
             "#7201a8"
            ],
            [
             0.3333333333333333,
             "#9c179e"
            ],
            [
             0.4444444444444444,
             "#bd3786"
            ],
            [
             0.5555555555555556,
             "#d8576b"
            ],
            [
             0.6666666666666666,
             "#ed7953"
            ],
            [
             0.7777777777777778,
             "#fb9f3a"
            ],
            [
             0.8888888888888888,
             "#fdca26"
            ],
            [
             1,
             "#f0f921"
            ]
           ],
           "sequentialminus": [
            [
             0,
             "#0d0887"
            ],
            [
             0.1111111111111111,
             "#46039f"
            ],
            [
             0.2222222222222222,
             "#7201a8"
            ],
            [
             0.3333333333333333,
             "#9c179e"
            ],
            [
             0.4444444444444444,
             "#bd3786"
            ],
            [
             0.5555555555555556,
             "#d8576b"
            ],
            [
             0.6666666666666666,
             "#ed7953"
            ],
            [
             0.7777777777777778,
             "#fb9f3a"
            ],
            [
             0.8888888888888888,
             "#fdca26"
            ],
            [
             1,
             "#f0f921"
            ]
           ]
          },
          "colorway": [
           "#636efa",
           "#EF553B",
           "#00cc96",
           "#ab63fa",
           "#FFA15A",
           "#19d3f3",
           "#FF6692",
           "#B6E880",
           "#FF97FF",
           "#FECB52"
          ],
          "font": {
           "color": "#2a3f5f"
          },
          "geo": {
           "bgcolor": "white",
           "lakecolor": "white",
           "landcolor": "#E5ECF6",
           "showlakes": true,
           "showland": true,
           "subunitcolor": "white"
          },
          "hoverlabel": {
           "align": "left"
          },
          "hovermode": "closest",
          "mapbox": {
           "style": "light"
          },
          "paper_bgcolor": "white",
          "plot_bgcolor": "#E5ECF6",
          "polar": {
           "angularaxis": {
            "gridcolor": "white",
            "linecolor": "white",
            "ticks": ""
           },
           "bgcolor": "#E5ECF6",
           "radialaxis": {
            "gridcolor": "white",
            "linecolor": "white",
            "ticks": ""
           }
          },
          "scene": {
           "xaxis": {
            "backgroundcolor": "#E5ECF6",
            "gridcolor": "white",
            "gridwidth": 2,
            "linecolor": "white",
            "showbackground": true,
            "ticks": "",
            "zerolinecolor": "white"
           },
           "yaxis": {
            "backgroundcolor": "#E5ECF6",
            "gridcolor": "white",
            "gridwidth": 2,
            "linecolor": "white",
            "showbackground": true,
            "ticks": "",
            "zerolinecolor": "white"
           },
           "zaxis": {
            "backgroundcolor": "#E5ECF6",
            "gridcolor": "white",
            "gridwidth": 2,
            "linecolor": "white",
            "showbackground": true,
            "ticks": "",
            "zerolinecolor": "white"
           }
          },
          "shapedefaults": {
           "line": {
            "color": "#2a3f5f"
           }
          },
          "ternary": {
           "aaxis": {
            "gridcolor": "white",
            "linecolor": "white",
            "ticks": ""
           },
           "baxis": {
            "gridcolor": "white",
            "linecolor": "white",
            "ticks": ""
           },
           "bgcolor": "#E5ECF6",
           "caxis": {
            "gridcolor": "white",
            "linecolor": "white",
            "ticks": ""
           }
          },
          "title": {
           "x": 0.05
          },
          "xaxis": {
           "automargin": true,
           "gridcolor": "white",
           "linecolor": "white",
           "ticks": "",
           "title": {
            "standoff": 15
           },
           "zerolinecolor": "white",
           "zerolinewidth": 2
          },
          "yaxis": {
           "automargin": true,
           "gridcolor": "white",
           "linecolor": "white",
           "ticks": "",
           "title": {
            "standoff": 15
           },
           "zerolinecolor": "white",
           "zerolinewidth": 2
          }
         }
        },
        "title": {
         "text": "Trading Activities for20-55.99kg Across Pig Classes"
        }
       }
      }
     },
     "metadata": {},
     "output_type": "display_data"
    },
    {
     "data": {
      "text/plain": [
       "<function __main__.pig_pie(Weight)>"
      ]
     },
     "execution_count": 50,
     "metadata": {},
     "output_type": "execute_result"
    }
   ],
   "source": [
    "list_pig = list(df2_3['weight'].unique())\n",
    "\n",
    "def pig_pie(Weight):\n",
    "    A = df2_3.loc[df2_3['weight'] == Weight, ('Pig_Class')]\n",
    " \n",
    "    fig = px.pie(A, values=A.value_counts().values, names=A.value_counts().index)\n",
    "    fig.update_traces(hoverinfo='label+percent+name', textinfo='value')\n",
    "    \n",
    "    fig.update_layout(\n",
    "    title_text= f\"Trading Activities for {Weight} Across Pig Classes\",\n",
    "    )\n",
    "    fig.show()\n",
    "    \n",
    "widgets.interact(pig_pie, Weight = list_pig)"
   ]
  },
  {
   "cell_type": "code",
   "execution_count": 51,
   "id": "60aad11c",
   "metadata": {},
   "outputs": [
    {
     "data": {
      "application/vnd.jupyter.widget-view+json": {
       "model_id": "16f9533ab7804107b86ae56aff9a823b",
       "version_major": 2,
       "version_minor": 0
      },
      "text/plain": [
       "interactive(children=(Dropdown(description='Weight_Class', options=('20-55.99kg', '80-99.99kg', '65-79.99kg', …"
      ]
     },
     "metadata": {},
     "output_type": "display_data"
    },
    {
     "data": {
      "application/vnd.plotly.v1+json": {
       "config": {
        "plotlyServerURL": "https://plot.ly"
       },
       "data": [
        {
         "name": "Average Purchase Price",
         "type": "scatter",
         "x": [
          "2022-01-16T00:00:00",
          "2022-01-23T00:00:00",
          "2022-01-30T00:00:00",
          "2022-02-06T00:00:00",
          "2022-02-13T00:00:00",
          "2022-02-20T00:00:00",
          "2022-02-27T00:00:00",
          "2022-03-06T00:00:00",
          "2022-03-13T00:00:00",
          "2022-03-20T00:00:00",
          "2022-03-27T00:00:00",
          "2022-04-03T00:00:00",
          "2022-04-10T00:00:00",
          "2022-04-24T00:00:00",
          "2022-05-01T00:00:00",
          "2022-05-08T00:00:00",
          "2022-05-15T00:00:00",
          "2022-05-22T00:00:00",
          "2022-05-22T00:00:00",
          "2022-06-05T00:00:00",
          "2022-06-12T00:00:00",
          "2022-06-19T00:00:00",
          "2022-06-26T00:00:00",
          "2022-07-03T00:00:00",
          "2022-07-10T00:00:00",
          "2022-07-17T00:00:00",
          "2022-07-24T00:00:00",
          "2022-07-31T00:00:00",
          "2022-08-07T00:00:00",
          "2022-08-14T00:00:00",
          "2022-08-21T00:00:00",
          "2022-08-28T00:00:00",
          "2022-09-04T00:00:00",
          "2022-09-11T00:00:00",
          "2022-09-18T00:00:00",
          "2022-09-25T00:00:00",
          "2022-10-02T00:00:00",
          "2022-10-09T00:00:00",
          "2022-10-16T00:00:00",
          "2022-10-23T00:00:00",
          "2022-10-30T00:00:00",
          "2022-11-06T00:00:00",
          "2022-11-13T00:00:00",
          "2022-11-20T00:00:00",
          "2022-11-27T00:00:00",
          "2022-12-04T00:00:00",
          "2022-12-11T00:00:00",
          "2022-12-18T00:00:00",
          "2022-12-25T00:00:00",
          "2023-01-01T00:00:00",
          "2023-01-08T00:00:00",
          "2023-01-15T00:00:00",
          "2023-01-22T00:00:00",
          "2023-01-29T00:00:00",
          "2023-02-05T00:00:00",
          "2023-02-12T00:00:00",
          "2023-02-19T00:00:00",
          "2023-02-26T00:00:00",
          "2023-03-05T00:00:00",
          "2023-03-12T00:00:00",
          "2023-03-19T00:00:00",
          "2023-03-26T00:00:00",
          "2023-04-02T00:00:00",
          "2023-04-09T00:00:00",
          "2023-04-16T00:00:00",
          "2023-04-23T00:00:00",
          "2023-04-30T00:00:00"
         ],
         "y": [
          28.4,
          27.49,
          26.29,
          26.08,
          25.39,
          26.18,
          25.67,
          25.62,
          25.41,
          25.74,
          25.6,
          26.71,
          26.57,
          26.63,
          27.37,
          27.76,
          27.75,
          27.97,
          27.85,
          28,
          27.94,
          28.15,
          27.78,
          28.37,
          27.94,
          27.93,
          27.17,
          27.19,
          27.51,
          27.5,
          27.67,
          27.26,
          27.2,
          27.94,
          28.76,
          27.67,
          30.57,
          31.57,
          31.74,
          31.77,
          32.55,
          34.99,
          35.81,
          36.88,
          36.66,
          36.58,
          38.37,
          38.82,
          39.37,
          38.04,
          38.6,
          38.24,
          36.88,
          36.97,
          33.94,
          35.74,
          35.19,
          36.86,
          34.76,
          34.16,
          32.39,
          32.81,
          32.32,
          31.32,
          30.75,
          30.73,
          31.2
         ],
         "yaxis": "y"
        }
       ],
       "layout": {
        "barmode": "group",
        "template": {
         "data": {
          "bar": [
           {
            "error_x": {
             "color": "#2a3f5f"
            },
            "error_y": {
             "color": "#2a3f5f"
            },
            "marker": {
             "line": {
              "color": "#E5ECF6",
              "width": 0.5
             },
             "pattern": {
              "fillmode": "overlay",
              "size": 10,
              "solidity": 0.2
             }
            },
            "type": "bar"
           }
          ],
          "barpolar": [
           {
            "marker": {
             "line": {
              "color": "#E5ECF6",
              "width": 0.5
             },
             "pattern": {
              "fillmode": "overlay",
              "size": 10,
              "solidity": 0.2
             }
            },
            "type": "barpolar"
           }
          ],
          "carpet": [
           {
            "aaxis": {
             "endlinecolor": "#2a3f5f",
             "gridcolor": "white",
             "linecolor": "white",
             "minorgridcolor": "white",
             "startlinecolor": "#2a3f5f"
            },
            "baxis": {
             "endlinecolor": "#2a3f5f",
             "gridcolor": "white",
             "linecolor": "white",
             "minorgridcolor": "white",
             "startlinecolor": "#2a3f5f"
            },
            "type": "carpet"
           }
          ],
          "choropleth": [
           {
            "colorbar": {
             "outlinewidth": 0,
             "ticks": ""
            },
            "type": "choropleth"
           }
          ],
          "contour": [
           {
            "colorbar": {
             "outlinewidth": 0,
             "ticks": ""
            },
            "colorscale": [
             [
              0,
              "#0d0887"
             ],
             [
              0.1111111111111111,
              "#46039f"
             ],
             [
              0.2222222222222222,
              "#7201a8"
             ],
             [
              0.3333333333333333,
              "#9c179e"
             ],
             [
              0.4444444444444444,
              "#bd3786"
             ],
             [
              0.5555555555555556,
              "#d8576b"
             ],
             [
              0.6666666666666666,
              "#ed7953"
             ],
             [
              0.7777777777777778,
              "#fb9f3a"
             ],
             [
              0.8888888888888888,
              "#fdca26"
             ],
             [
              1,
              "#f0f921"
             ]
            ],
            "type": "contour"
           }
          ],
          "contourcarpet": [
           {
            "colorbar": {
             "outlinewidth": 0,
             "ticks": ""
            },
            "type": "contourcarpet"
           }
          ],
          "heatmap": [
           {
            "colorbar": {
             "outlinewidth": 0,
             "ticks": ""
            },
            "colorscale": [
             [
              0,
              "#0d0887"
             ],
             [
              0.1111111111111111,
              "#46039f"
             ],
             [
              0.2222222222222222,
              "#7201a8"
             ],
             [
              0.3333333333333333,
              "#9c179e"
             ],
             [
              0.4444444444444444,
              "#bd3786"
             ],
             [
              0.5555555555555556,
              "#d8576b"
             ],
             [
              0.6666666666666666,
              "#ed7953"
             ],
             [
              0.7777777777777778,
              "#fb9f3a"
             ],
             [
              0.8888888888888888,
              "#fdca26"
             ],
             [
              1,
              "#f0f921"
             ]
            ],
            "type": "heatmap"
           }
          ],
          "heatmapgl": [
           {
            "colorbar": {
             "outlinewidth": 0,
             "ticks": ""
            },
            "colorscale": [
             [
              0,
              "#0d0887"
             ],
             [
              0.1111111111111111,
              "#46039f"
             ],
             [
              0.2222222222222222,
              "#7201a8"
             ],
             [
              0.3333333333333333,
              "#9c179e"
             ],
             [
              0.4444444444444444,
              "#bd3786"
             ],
             [
              0.5555555555555556,
              "#d8576b"
             ],
             [
              0.6666666666666666,
              "#ed7953"
             ],
             [
              0.7777777777777778,
              "#fb9f3a"
             ],
             [
              0.8888888888888888,
              "#fdca26"
             ],
             [
              1,
              "#f0f921"
             ]
            ],
            "type": "heatmapgl"
           }
          ],
          "histogram": [
           {
            "marker": {
             "pattern": {
              "fillmode": "overlay",
              "size": 10,
              "solidity": 0.2
             }
            },
            "type": "histogram"
           }
          ],
          "histogram2d": [
           {
            "colorbar": {
             "outlinewidth": 0,
             "ticks": ""
            },
            "colorscale": [
             [
              0,
              "#0d0887"
             ],
             [
              0.1111111111111111,
              "#46039f"
             ],
             [
              0.2222222222222222,
              "#7201a8"
             ],
             [
              0.3333333333333333,
              "#9c179e"
             ],
             [
              0.4444444444444444,
              "#bd3786"
             ],
             [
              0.5555555555555556,
              "#d8576b"
             ],
             [
              0.6666666666666666,
              "#ed7953"
             ],
             [
              0.7777777777777778,
              "#fb9f3a"
             ],
             [
              0.8888888888888888,
              "#fdca26"
             ],
             [
              1,
              "#f0f921"
             ]
            ],
            "type": "histogram2d"
           }
          ],
          "histogram2dcontour": [
           {
            "colorbar": {
             "outlinewidth": 0,
             "ticks": ""
            },
            "colorscale": [
             [
              0,
              "#0d0887"
             ],
             [
              0.1111111111111111,
              "#46039f"
             ],
             [
              0.2222222222222222,
              "#7201a8"
             ],
             [
              0.3333333333333333,
              "#9c179e"
             ],
             [
              0.4444444444444444,
              "#bd3786"
             ],
             [
              0.5555555555555556,
              "#d8576b"
             ],
             [
              0.6666666666666666,
              "#ed7953"
             ],
             [
              0.7777777777777778,
              "#fb9f3a"
             ],
             [
              0.8888888888888888,
              "#fdca26"
             ],
             [
              1,
              "#f0f921"
             ]
            ],
            "type": "histogram2dcontour"
           }
          ],
          "mesh3d": [
           {
            "colorbar": {
             "outlinewidth": 0,
             "ticks": ""
            },
            "type": "mesh3d"
           }
          ],
          "parcoords": [
           {
            "line": {
             "colorbar": {
              "outlinewidth": 0,
              "ticks": ""
             }
            },
            "type": "parcoords"
           }
          ],
          "pie": [
           {
            "automargin": true,
            "type": "pie"
           }
          ],
          "scatter": [
           {
            "fillpattern": {
             "fillmode": "overlay",
             "size": 10,
             "solidity": 0.2
            },
            "type": "scatter"
           }
          ],
          "scatter3d": [
           {
            "line": {
             "colorbar": {
              "outlinewidth": 0,
              "ticks": ""
             }
            },
            "marker": {
             "colorbar": {
              "outlinewidth": 0,
              "ticks": ""
             }
            },
            "type": "scatter3d"
           }
          ],
          "scattercarpet": [
           {
            "marker": {
             "colorbar": {
              "outlinewidth": 0,
              "ticks": ""
             }
            },
            "type": "scattercarpet"
           }
          ],
          "scattergeo": [
           {
            "marker": {
             "colorbar": {
              "outlinewidth": 0,
              "ticks": ""
             }
            },
            "type": "scattergeo"
           }
          ],
          "scattergl": [
           {
            "marker": {
             "colorbar": {
              "outlinewidth": 0,
              "ticks": ""
             }
            },
            "type": "scattergl"
           }
          ],
          "scattermapbox": [
           {
            "marker": {
             "colorbar": {
              "outlinewidth": 0,
              "ticks": ""
             }
            },
            "type": "scattermapbox"
           }
          ],
          "scatterpolar": [
           {
            "marker": {
             "colorbar": {
              "outlinewidth": 0,
              "ticks": ""
             }
            },
            "type": "scatterpolar"
           }
          ],
          "scatterpolargl": [
           {
            "marker": {
             "colorbar": {
              "outlinewidth": 0,
              "ticks": ""
             }
            },
            "type": "scatterpolargl"
           }
          ],
          "scatterternary": [
           {
            "marker": {
             "colorbar": {
              "outlinewidth": 0,
              "ticks": ""
             }
            },
            "type": "scatterternary"
           }
          ],
          "surface": [
           {
            "colorbar": {
             "outlinewidth": 0,
             "ticks": ""
            },
            "colorscale": [
             [
              0,
              "#0d0887"
             ],
             [
              0.1111111111111111,
              "#46039f"
             ],
             [
              0.2222222222222222,
              "#7201a8"
             ],
             [
              0.3333333333333333,
              "#9c179e"
             ],
             [
              0.4444444444444444,
              "#bd3786"
             ],
             [
              0.5555555555555556,
              "#d8576b"
             ],
             [
              0.6666666666666666,
              "#ed7953"
             ],
             [
              0.7777777777777778,
              "#fb9f3a"
             ],
             [
              0.8888888888888888,
              "#fdca26"
             ],
             [
              1,
              "#f0f921"
             ]
            ],
            "type": "surface"
           }
          ],
          "table": [
           {
            "cells": {
             "fill": {
              "color": "#EBF0F8"
             },
             "line": {
              "color": "white"
             }
            },
            "header": {
             "fill": {
              "color": "#C8D4E3"
             },
             "line": {
              "color": "white"
             }
            },
            "type": "table"
           }
          ]
         },
         "layout": {
          "annotationdefaults": {
           "arrowcolor": "#2a3f5f",
           "arrowhead": 0,
           "arrowwidth": 1
          },
          "autotypenumbers": "strict",
          "coloraxis": {
           "colorbar": {
            "outlinewidth": 0,
            "ticks": ""
           }
          },
          "colorscale": {
           "diverging": [
            [
             0,
             "#8e0152"
            ],
            [
             0.1,
             "#c51b7d"
            ],
            [
             0.2,
             "#de77ae"
            ],
            [
             0.3,
             "#f1b6da"
            ],
            [
             0.4,
             "#fde0ef"
            ],
            [
             0.5,
             "#f7f7f7"
            ],
            [
             0.6,
             "#e6f5d0"
            ],
            [
             0.7,
             "#b8e186"
            ],
            [
             0.8,
             "#7fbc41"
            ],
            [
             0.9,
             "#4d9221"
            ],
            [
             1,
             "#276419"
            ]
           ],
           "sequential": [
            [
             0,
             "#0d0887"
            ],
            [
             0.1111111111111111,
             "#46039f"
            ],
            [
             0.2222222222222222,
             "#7201a8"
            ],
            [
             0.3333333333333333,
             "#9c179e"
            ],
            [
             0.4444444444444444,
             "#bd3786"
            ],
            [
             0.5555555555555556,
             "#d8576b"
            ],
            [
             0.6666666666666666,
             "#ed7953"
            ],
            [
             0.7777777777777778,
             "#fb9f3a"
            ],
            [
             0.8888888888888888,
             "#fdca26"
            ],
            [
             1,
             "#f0f921"
            ]
           ],
           "sequentialminus": [
            [
             0,
             "#0d0887"
            ],
            [
             0.1111111111111111,
             "#46039f"
            ],
            [
             0.2222222222222222,
             "#7201a8"
            ],
            [
             0.3333333333333333,
             "#9c179e"
            ],
            [
             0.4444444444444444,
             "#bd3786"
            ],
            [
             0.5555555555555556,
             "#d8576b"
            ],
            [
             0.6666666666666666,
             "#ed7953"
            ],
            [
             0.7777777777777778,
             "#fb9f3a"
            ],
            [
             0.8888888888888888,
             "#fdca26"
            ],
            [
             1,
             "#f0f921"
            ]
           ]
          },
          "colorway": [
           "#636efa",
           "#EF553B",
           "#00cc96",
           "#ab63fa",
           "#FFA15A",
           "#19d3f3",
           "#FF6692",
           "#B6E880",
           "#FF97FF",
           "#FECB52"
          ],
          "font": {
           "color": "#2a3f5f"
          },
          "geo": {
           "bgcolor": "white",
           "lakecolor": "white",
           "landcolor": "#E5ECF6",
           "showlakes": true,
           "showland": true,
           "subunitcolor": "white"
          },
          "hoverlabel": {
           "align": "left"
          },
          "hovermode": "closest",
          "mapbox": {
           "style": "light"
          },
          "paper_bgcolor": "white",
          "plot_bgcolor": "#E5ECF6",
          "polar": {
           "angularaxis": {
            "gridcolor": "white",
            "linecolor": "white",
            "ticks": ""
           },
           "bgcolor": "#E5ECF6",
           "radialaxis": {
            "gridcolor": "white",
            "linecolor": "white",
            "ticks": ""
           }
          },
          "scene": {
           "xaxis": {
            "backgroundcolor": "#E5ECF6",
            "gridcolor": "white",
            "gridwidth": 2,
            "linecolor": "white",
            "showbackground": true,
            "ticks": "",
            "zerolinecolor": "white"
           },
           "yaxis": {
            "backgroundcolor": "#E5ECF6",
            "gridcolor": "white",
            "gridwidth": 2,
            "linecolor": "white",
            "showbackground": true,
            "ticks": "",
            "zerolinecolor": "white"
           },
           "zaxis": {
            "backgroundcolor": "#E5ECF6",
            "gridcolor": "white",
            "gridwidth": 2,
            "linecolor": "white",
            "showbackground": true,
            "ticks": "",
            "zerolinecolor": "white"
           }
          },
          "shapedefaults": {
           "line": {
            "color": "#2a3f5f"
           }
          },
          "ternary": {
           "aaxis": {
            "gridcolor": "white",
            "linecolor": "white",
            "ticks": ""
           },
           "baxis": {
            "gridcolor": "white",
            "linecolor": "white",
            "ticks": ""
           },
           "bgcolor": "#E5ECF6",
           "caxis": {
            "gridcolor": "white",
            "linecolor": "white",
            "ticks": ""
           }
          },
          "title": {
           "x": 0.05
          },
          "xaxis": {
           "automargin": true,
           "gridcolor": "white",
           "linecolor": "white",
           "ticks": "",
           "title": {
            "standoff": 15
           },
           "zerolinecolor": "white",
           "zerolinewidth": 2
          },
          "yaxis": {
           "automargin": true,
           "gridcolor": "white",
           "linecolor": "white",
           "ticks": "",
           "title": {
            "standoff": 15
           },
           "zerolinecolor": "white",
           "zerolinewidth": 2
          }
         }
        },
        "title": {
         "text": "Avg Purch Price for Class P, 20-55.99kg Weight Category"
        },
        "xaxis": {
         "rangeselector": {
          "buttons": [
           {
            "count": 1,
            "label": "1m",
            "step": "month",
            "stepmode": "backward"
           },
           {
            "count": 6,
            "label": "6m",
            "step": "month",
            "stepmode": "backward"
           },
           {
            "count": 1,
            "label": "YTD",
            "step": "year",
            "stepmode": "todate"
           },
           {
            "count": 1,
            "label": "1y",
            "step": "year",
            "stepmode": "backward"
           },
           {
            "step": "all"
           }
          ]
         },
         "rangeslider": {
          "visible": true
         },
         "type": "date"
        }
       }
      }
     },
     "metadata": {},
     "output_type": "display_data"
    },
    {
     "data": {
      "text/plain": [
       "<function __main__.sheepplotly3(Weight_Class, Pig_Class)>"
      ]
     },
     "execution_count": 51,
     "metadata": {},
     "output_type": "execute_result"
    }
   ],
   "source": [
    "# Visuals for the Sheep Subset of the Livestock Dataset for pairwise comparison\n",
    "\n",
    "df2_3 = df2_3.sort_values(by=['date_to']).reset_index(drop = True)\n",
    "\n",
    "class_list1 = list(df2_3.weight.unique())\n",
    "class_list2 = list(df2_3.Pig_Class.unique())\n",
    "\n",
    "\n",
    "def sheepplotly3(Weight_Class, Pig_Class): \n",
    "    \n",
    "    A = df2_3.loc[df2_3['weight'] == Weight_Class, ('Pig_Class', 'avg_purch','date_to', 'avg_mass')]\n",
    "    B = A.loc[A['Pig_Class'] == Pig_Class, ('avg_purch', 'date_to', 'avg_mass')]\n",
    "    \n",
    "    fig = go.Figure(data =[\n",
    "                    go.Scatter(name = 'Average Purchase Price', x=B['date_to'], y =B['avg_purch'], yaxis=\"y\")\n",
    "                    ])\n",
    "    \n",
    "    fig.update_layout(barmode = 'group', \n",
    "    title= f\"Avg Purch Price for Class {Pig_Class}, {Weight_Class} Weight Category\")\n",
    "\n",
    "    \n",
    "    # Add range slider\n",
    "    fig.update_layout(\n",
    "        xaxis=dict(\n",
    "            rangeselector=dict(\n",
    "                buttons=list([\n",
    "                    dict(count=1,\n",
    "                         label=\"1m\",\n",
    "                         step=\"month\",\n",
    "                         stepmode=\"backward\"),\n",
    "                    dict(count=6,\n",
    "                         label=\"6m\",\n",
    "                         step=\"month\",\n",
    "                         stepmode=\"backward\"),\n",
    "                    dict(count=1,\n",
    "                         label=\"YTD\",\n",
    "                         step=\"year\",\n",
    "                         stepmode=\"todate\"),\n",
    "                    dict(count=1,\n",
    "                         label=\"1y\",\n",
    "                         step=\"year\",\n",
    "                         stepmode=\"backward\"),\n",
    "                    dict(step=\"all\")\n",
    "                ])\n",
    "            ),\n",
    "            rangeslider=dict(\n",
    "                visible=True\n",
    "            ),\n",
    "            type=\"date\"\n",
    "        )\n",
    "    )\n",
    "\n",
    "    \n",
    "    fig.show()\n",
    "\n",
    "widgets.interact(sheepplotly3, Weight_Class = class_list1, Pig_Class = class_list2)"
   ]
  },
  {
   "attachments": {},
   "cell_type": "markdown",
   "id": "b5ff9a21",
   "metadata": {},
   "source": [
    "    \n",
    "    fig.update_layout(barmode = 'group', \n",
    "    title= f\"Avg Purch Price for Class {Pig_Class}, {Weight_Class} Weight Category\")\n",
    "    \n",
    "        \n",
    "    fig = go.Figure(data =[\n",
    "                    go.Scatter(name = 'Average Purchase Price', x=B['date_to'], y =B['avg_purch'], yaxis=\"y\")\n",
    "                    ])"
   ]
  },
  {
   "cell_type": "code",
   "execution_count": 52,
   "id": "4055cb6d",
   "metadata": {},
   "outputs": [
    {
     "data": {
      "application/vnd.jupyter.widget-view+json": {
       "model_id": "44502b72795848619b5cc207b23f7016",
       "version_major": 2,
       "version_minor": 0
      },
      "text/plain": [
       "interactive(children=(Dropdown(description='Weight_Class', options=('20-55.99kg', '65-79.99kg', '80-99.99kg', …"
      ]
     },
     "metadata": {},
     "output_type": "display_data"
    },
    {
     "data": {
      "application/vnd.plotly.v1+json": {
       "config": {
        "plotlyServerURL": "https://plot.ly"
       },
       "data": [
        {
         "marker": {
          "color": "#e377c2"
         },
         "name": "Units",
         "type": "bar",
         "x": [
          "2022-01-16T00:00:00",
          "2022-01-23T00:00:00",
          "2022-01-30T00:00:00",
          "2022-02-06T00:00:00",
          "2022-02-13T00:00:00",
          "2022-02-20T00:00:00",
          "2022-02-27T00:00:00",
          "2022-03-06T00:00:00",
          "2022-03-13T00:00:00",
          "2022-03-20T00:00:00",
          "2022-03-27T00:00:00",
          "2022-04-03T00:00:00",
          "2022-04-10T00:00:00",
          "2022-04-24T00:00:00",
          "2022-05-01T00:00:00",
          "2022-05-08T00:00:00",
          "2022-05-15T00:00:00",
          "2022-05-22T00:00:00",
          "2022-05-22T00:00:00",
          "2022-06-05T00:00:00",
          "2022-06-12T00:00:00",
          "2022-06-19T00:00:00",
          "2022-06-26T00:00:00",
          "2022-07-03T00:00:00",
          "2022-07-10T00:00:00",
          "2022-07-17T00:00:00",
          "2022-07-24T00:00:00",
          "2022-07-31T00:00:00",
          "2022-08-07T00:00:00",
          "2022-08-14T00:00:00",
          "2022-08-21T00:00:00",
          "2022-08-28T00:00:00",
          "2022-09-04T00:00:00",
          "2022-09-11T00:00:00",
          "2022-09-18T00:00:00",
          "2022-09-25T00:00:00",
          "2022-10-02T00:00:00",
          "2022-10-09T00:00:00",
          "2022-10-16T00:00:00",
          "2022-10-23T00:00:00",
          "2022-10-30T00:00:00",
          "2022-11-06T00:00:00",
          "2022-11-13T00:00:00",
          "2022-11-20T00:00:00",
          "2022-11-27T00:00:00",
          "2022-12-04T00:00:00",
          "2022-12-11T00:00:00",
          "2022-12-18T00:00:00",
          "2022-12-25T00:00:00",
          "2023-01-01T00:00:00",
          "2023-01-08T00:00:00",
          "2023-01-15T00:00:00",
          "2023-01-22T00:00:00",
          "2023-01-29T00:00:00",
          "2023-02-05T00:00:00",
          "2023-02-12T00:00:00",
          "2023-02-19T00:00:00",
          "2023-02-26T00:00:00",
          "2023-03-05T00:00:00",
          "2023-03-12T00:00:00",
          "2023-03-19T00:00:00",
          "2023-03-26T00:00:00",
          "2023-04-02T00:00:00",
          "2023-04-09T00:00:00",
          "2023-04-16T00:00:00",
          "2023-04-23T00:00:00",
          "2023-04-30T00:00:00"
         ],
         "y": [
          1259,
          1342,
          1719,
          1925,
          1417,
          1512,
          1605,
          1570,
          1221,
          1713,
          1237,
          1459,
          1748,
          996,
          1829,
          1132,
          1279,
          1329,
          1042,
          1064,
          1013,
          1176,
          1293,
          1003,
          1153,
          990,
          1540,
          1268,
          1206,
          1332,
          1161,
          1428,
          1444,
          1317,
          1517,
          685,
          1310,
          1393,
          1915,
          1589,
          1732,
          1672,
          1415,
          1161,
          1443,
          1169,
          1640,
          1598,
          2064,
          1082,
          1184,
          1317,
          1408,
          1724,
          1111,
          1379,
          1265,
          1076,
          1494,
          1317,
          1427,
          1038,
          901,
          1247,
          1162,
          1151,
          862
         ]
        },
        {
         "marker": {
          "color": "#636EFA"
         },
         "name": "Average Mass",
         "type": "scatter",
         "x": [
          "2022-01-16T00:00:00",
          "2022-01-23T00:00:00",
          "2022-01-30T00:00:00",
          "2022-02-06T00:00:00",
          "2022-02-13T00:00:00",
          "2022-02-20T00:00:00",
          "2022-02-27T00:00:00",
          "2022-03-06T00:00:00",
          "2022-03-13T00:00:00",
          "2022-03-20T00:00:00",
          "2022-03-27T00:00:00",
          "2022-04-03T00:00:00",
          "2022-04-10T00:00:00",
          "2022-04-24T00:00:00",
          "2022-05-01T00:00:00",
          "2022-05-08T00:00:00",
          "2022-05-15T00:00:00",
          "2022-05-22T00:00:00",
          "2022-05-22T00:00:00",
          "2022-06-05T00:00:00",
          "2022-06-12T00:00:00",
          "2022-06-19T00:00:00",
          "2022-06-26T00:00:00",
          "2022-07-03T00:00:00",
          "2022-07-10T00:00:00",
          "2022-07-17T00:00:00",
          "2022-07-24T00:00:00",
          "2022-07-31T00:00:00",
          "2022-08-07T00:00:00",
          "2022-08-14T00:00:00",
          "2022-08-21T00:00:00",
          "2022-08-28T00:00:00",
          "2022-09-04T00:00:00",
          "2022-09-11T00:00:00",
          "2022-09-18T00:00:00",
          "2022-09-25T00:00:00",
          "2022-10-02T00:00:00",
          "2022-10-09T00:00:00",
          "2022-10-16T00:00:00",
          "2022-10-23T00:00:00",
          "2022-10-30T00:00:00",
          "2022-11-06T00:00:00",
          "2022-11-13T00:00:00",
          "2022-11-20T00:00:00",
          "2022-11-27T00:00:00",
          "2022-12-04T00:00:00",
          "2022-12-11T00:00:00",
          "2022-12-18T00:00:00",
          "2022-12-25T00:00:00",
          "2023-01-01T00:00:00",
          "2023-01-08T00:00:00",
          "2023-01-15T00:00:00",
          "2023-01-22T00:00:00",
          "2023-01-29T00:00:00",
          "2023-02-05T00:00:00",
          "2023-02-12T00:00:00",
          "2023-02-19T00:00:00",
          "2023-02-26T00:00:00",
          "2023-03-05T00:00:00",
          "2023-03-12T00:00:00",
          "2023-03-19T00:00:00",
          "2023-03-26T00:00:00",
          "2023-04-02T00:00:00",
          "2023-04-09T00:00:00",
          "2023-04-16T00:00:00",
          "2023-04-23T00:00:00",
          "2023-04-30T00:00:00"
         ],
         "y": [
          52.67,
          51.4,
          52.22,
          50.8,
          51.01,
          52.75,
          50.57,
          51.74,
          49.97,
          50.26,
          49.71,
          50.64,
          51.44,
          51.53,
          51.36,
          50.23,
          50.37,
          51.4,
          49.29,
          50.46,
          51.72,
          50.32,
          50.77,
          52.75,
          50.45,
          52.73,
          51.29,
          51.48,
          51.46,
          51.23,
          51.45,
          51.34,
          50.14,
          51.33,
          51.03,
          48.3,
          51.76,
          51.04,
          50.55,
          50.67,
          49.82,
          50.41,
          51.17,
          51.95,
          51.11,
          48.47,
          52.35,
          53.15,
          51.02,
          50.83,
          50.87,
          52.62,
          50.87,
          49.45,
          49.19,
          51.6,
          51.23,
          51.36,
          50.93,
          50.35,
          50.37,
          51.28,
          52.27,
          50.7,
          50.24,
          51,
          51.92
         ],
         "yaxis": "y2"
        },
        {
         "marker": {
          "color": "#006400"
         },
         "name": "Average Purchase Price",
         "type": "scatter",
         "x": [
          "2022-01-16T00:00:00",
          "2022-01-23T00:00:00",
          "2022-01-30T00:00:00",
          "2022-02-06T00:00:00",
          "2022-02-13T00:00:00",
          "2022-02-20T00:00:00",
          "2022-02-27T00:00:00",
          "2022-03-06T00:00:00",
          "2022-03-13T00:00:00",
          "2022-03-20T00:00:00",
          "2022-03-27T00:00:00",
          "2022-04-03T00:00:00",
          "2022-04-10T00:00:00",
          "2022-04-24T00:00:00",
          "2022-05-01T00:00:00",
          "2022-05-08T00:00:00",
          "2022-05-15T00:00:00",
          "2022-05-22T00:00:00",
          "2022-05-22T00:00:00",
          "2022-06-05T00:00:00",
          "2022-06-12T00:00:00",
          "2022-06-19T00:00:00",
          "2022-06-26T00:00:00",
          "2022-07-03T00:00:00",
          "2022-07-10T00:00:00",
          "2022-07-17T00:00:00",
          "2022-07-24T00:00:00",
          "2022-07-31T00:00:00",
          "2022-08-07T00:00:00",
          "2022-08-14T00:00:00",
          "2022-08-21T00:00:00",
          "2022-08-28T00:00:00",
          "2022-09-04T00:00:00",
          "2022-09-11T00:00:00",
          "2022-09-18T00:00:00",
          "2022-09-25T00:00:00",
          "2022-10-02T00:00:00",
          "2022-10-09T00:00:00",
          "2022-10-16T00:00:00",
          "2022-10-23T00:00:00",
          "2022-10-30T00:00:00",
          "2022-11-06T00:00:00",
          "2022-11-13T00:00:00",
          "2022-11-20T00:00:00",
          "2022-11-27T00:00:00",
          "2022-12-04T00:00:00",
          "2022-12-11T00:00:00",
          "2022-12-18T00:00:00",
          "2022-12-25T00:00:00",
          "2023-01-01T00:00:00",
          "2023-01-08T00:00:00",
          "2023-01-15T00:00:00",
          "2023-01-22T00:00:00",
          "2023-01-29T00:00:00",
          "2023-02-05T00:00:00",
          "2023-02-12T00:00:00",
          "2023-02-19T00:00:00",
          "2023-02-26T00:00:00",
          "2023-03-05T00:00:00",
          "2023-03-12T00:00:00",
          "2023-03-19T00:00:00",
          "2023-03-26T00:00:00",
          "2023-04-02T00:00:00",
          "2023-04-09T00:00:00",
          "2023-04-16T00:00:00",
          "2023-04-23T00:00:00",
          "2023-04-30T00:00:00"
         ],
         "y": [
          28.4,
          27.49,
          26.29,
          26.08,
          25.39,
          26.18,
          25.67,
          25.62,
          25.41,
          25.74,
          25.6,
          26.71,
          26.57,
          26.63,
          27.37,
          27.76,
          27.75,
          27.97,
          27.85,
          28,
          27.94,
          28.15,
          27.78,
          28.37,
          27.94,
          27.93,
          27.17,
          27.19,
          27.51,
          27.5,
          27.67,
          27.26,
          27.2,
          27.94,
          28.76,
          27.67,
          30.57,
          31.57,
          31.74,
          31.77,
          32.55,
          34.99,
          35.81,
          36.88,
          36.66,
          36.58,
          38.37,
          38.82,
          39.37,
          38.04,
          38.6,
          38.24,
          36.88,
          36.97,
          33.94,
          35.74,
          35.19,
          36.86,
          34.76,
          34.16,
          32.39,
          32.81,
          32.32,
          31.32,
          30.75,
          30.73,
          31.2
         ],
         "yaxis": "y3"
        }
       ],
       "layout": {
        "template": {
         "data": {
          "bar": [
           {
            "error_x": {
             "color": "#2a3f5f"
            },
            "error_y": {
             "color": "#2a3f5f"
            },
            "marker": {
             "line": {
              "color": "#E5ECF6",
              "width": 0.5
             },
             "pattern": {
              "fillmode": "overlay",
              "size": 10,
              "solidity": 0.2
             }
            },
            "type": "bar"
           }
          ],
          "barpolar": [
           {
            "marker": {
             "line": {
              "color": "#E5ECF6",
              "width": 0.5
             },
             "pattern": {
              "fillmode": "overlay",
              "size": 10,
              "solidity": 0.2
             }
            },
            "type": "barpolar"
           }
          ],
          "carpet": [
           {
            "aaxis": {
             "endlinecolor": "#2a3f5f",
             "gridcolor": "white",
             "linecolor": "white",
             "minorgridcolor": "white",
             "startlinecolor": "#2a3f5f"
            },
            "baxis": {
             "endlinecolor": "#2a3f5f",
             "gridcolor": "white",
             "linecolor": "white",
             "minorgridcolor": "white",
             "startlinecolor": "#2a3f5f"
            },
            "type": "carpet"
           }
          ],
          "choropleth": [
           {
            "colorbar": {
             "outlinewidth": 0,
             "ticks": ""
            },
            "type": "choropleth"
           }
          ],
          "contour": [
           {
            "colorbar": {
             "outlinewidth": 0,
             "ticks": ""
            },
            "colorscale": [
             [
              0,
              "#0d0887"
             ],
             [
              0.1111111111111111,
              "#46039f"
             ],
             [
              0.2222222222222222,
              "#7201a8"
             ],
             [
              0.3333333333333333,
              "#9c179e"
             ],
             [
              0.4444444444444444,
              "#bd3786"
             ],
             [
              0.5555555555555556,
              "#d8576b"
             ],
             [
              0.6666666666666666,
              "#ed7953"
             ],
             [
              0.7777777777777778,
              "#fb9f3a"
             ],
             [
              0.8888888888888888,
              "#fdca26"
             ],
             [
              1,
              "#f0f921"
             ]
            ],
            "type": "contour"
           }
          ],
          "contourcarpet": [
           {
            "colorbar": {
             "outlinewidth": 0,
             "ticks": ""
            },
            "type": "contourcarpet"
           }
          ],
          "heatmap": [
           {
            "colorbar": {
             "outlinewidth": 0,
             "ticks": ""
            },
            "colorscale": [
             [
              0,
              "#0d0887"
             ],
             [
              0.1111111111111111,
              "#46039f"
             ],
             [
              0.2222222222222222,
              "#7201a8"
             ],
             [
              0.3333333333333333,
              "#9c179e"
             ],
             [
              0.4444444444444444,
              "#bd3786"
             ],
             [
              0.5555555555555556,
              "#d8576b"
             ],
             [
              0.6666666666666666,
              "#ed7953"
             ],
             [
              0.7777777777777778,
              "#fb9f3a"
             ],
             [
              0.8888888888888888,
              "#fdca26"
             ],
             [
              1,
              "#f0f921"
             ]
            ],
            "type": "heatmap"
           }
          ],
          "heatmapgl": [
           {
            "colorbar": {
             "outlinewidth": 0,
             "ticks": ""
            },
            "colorscale": [
             [
              0,
              "#0d0887"
             ],
             [
              0.1111111111111111,
              "#46039f"
             ],
             [
              0.2222222222222222,
              "#7201a8"
             ],
             [
              0.3333333333333333,
              "#9c179e"
             ],
             [
              0.4444444444444444,
              "#bd3786"
             ],
             [
              0.5555555555555556,
              "#d8576b"
             ],
             [
              0.6666666666666666,
              "#ed7953"
             ],
             [
              0.7777777777777778,
              "#fb9f3a"
             ],
             [
              0.8888888888888888,
              "#fdca26"
             ],
             [
              1,
              "#f0f921"
             ]
            ],
            "type": "heatmapgl"
           }
          ],
          "histogram": [
           {
            "marker": {
             "pattern": {
              "fillmode": "overlay",
              "size": 10,
              "solidity": 0.2
             }
            },
            "type": "histogram"
           }
          ],
          "histogram2d": [
           {
            "colorbar": {
             "outlinewidth": 0,
             "ticks": ""
            },
            "colorscale": [
             [
              0,
              "#0d0887"
             ],
             [
              0.1111111111111111,
              "#46039f"
             ],
             [
              0.2222222222222222,
              "#7201a8"
             ],
             [
              0.3333333333333333,
              "#9c179e"
             ],
             [
              0.4444444444444444,
              "#bd3786"
             ],
             [
              0.5555555555555556,
              "#d8576b"
             ],
             [
              0.6666666666666666,
              "#ed7953"
             ],
             [
              0.7777777777777778,
              "#fb9f3a"
             ],
             [
              0.8888888888888888,
              "#fdca26"
             ],
             [
              1,
              "#f0f921"
             ]
            ],
            "type": "histogram2d"
           }
          ],
          "histogram2dcontour": [
           {
            "colorbar": {
             "outlinewidth": 0,
             "ticks": ""
            },
            "colorscale": [
             [
              0,
              "#0d0887"
             ],
             [
              0.1111111111111111,
              "#46039f"
             ],
             [
              0.2222222222222222,
              "#7201a8"
             ],
             [
              0.3333333333333333,
              "#9c179e"
             ],
             [
              0.4444444444444444,
              "#bd3786"
             ],
             [
              0.5555555555555556,
              "#d8576b"
             ],
             [
              0.6666666666666666,
              "#ed7953"
             ],
             [
              0.7777777777777778,
              "#fb9f3a"
             ],
             [
              0.8888888888888888,
              "#fdca26"
             ],
             [
              1,
              "#f0f921"
             ]
            ],
            "type": "histogram2dcontour"
           }
          ],
          "mesh3d": [
           {
            "colorbar": {
             "outlinewidth": 0,
             "ticks": ""
            },
            "type": "mesh3d"
           }
          ],
          "parcoords": [
           {
            "line": {
             "colorbar": {
              "outlinewidth": 0,
              "ticks": ""
             }
            },
            "type": "parcoords"
           }
          ],
          "pie": [
           {
            "automargin": true,
            "type": "pie"
           }
          ],
          "scatter": [
           {
            "fillpattern": {
             "fillmode": "overlay",
             "size": 10,
             "solidity": 0.2
            },
            "type": "scatter"
           }
          ],
          "scatter3d": [
           {
            "line": {
             "colorbar": {
              "outlinewidth": 0,
              "ticks": ""
             }
            },
            "marker": {
             "colorbar": {
              "outlinewidth": 0,
              "ticks": ""
             }
            },
            "type": "scatter3d"
           }
          ],
          "scattercarpet": [
           {
            "marker": {
             "colorbar": {
              "outlinewidth": 0,
              "ticks": ""
             }
            },
            "type": "scattercarpet"
           }
          ],
          "scattergeo": [
           {
            "marker": {
             "colorbar": {
              "outlinewidth": 0,
              "ticks": ""
             }
            },
            "type": "scattergeo"
           }
          ],
          "scattergl": [
           {
            "marker": {
             "colorbar": {
              "outlinewidth": 0,
              "ticks": ""
             }
            },
            "type": "scattergl"
           }
          ],
          "scattermapbox": [
           {
            "marker": {
             "colorbar": {
              "outlinewidth": 0,
              "ticks": ""
             }
            },
            "type": "scattermapbox"
           }
          ],
          "scatterpolar": [
           {
            "marker": {
             "colorbar": {
              "outlinewidth": 0,
              "ticks": ""
             }
            },
            "type": "scatterpolar"
           }
          ],
          "scatterpolargl": [
           {
            "marker": {
             "colorbar": {
              "outlinewidth": 0,
              "ticks": ""
             }
            },
            "type": "scatterpolargl"
           }
          ],
          "scatterternary": [
           {
            "marker": {
             "colorbar": {
              "outlinewidth": 0,
              "ticks": ""
             }
            },
            "type": "scatterternary"
           }
          ],
          "surface": [
           {
            "colorbar": {
             "outlinewidth": 0,
             "ticks": ""
            },
            "colorscale": [
             [
              0,
              "#0d0887"
             ],
             [
              0.1111111111111111,
              "#46039f"
             ],
             [
              0.2222222222222222,
              "#7201a8"
             ],
             [
              0.3333333333333333,
              "#9c179e"
             ],
             [
              0.4444444444444444,
              "#bd3786"
             ],
             [
              0.5555555555555556,
              "#d8576b"
             ],
             [
              0.6666666666666666,
              "#ed7953"
             ],
             [
              0.7777777777777778,
              "#fb9f3a"
             ],
             [
              0.8888888888888888,
              "#fdca26"
             ],
             [
              1,
              "#f0f921"
             ]
            ],
            "type": "surface"
           }
          ],
          "table": [
           {
            "cells": {
             "fill": {
              "color": "#EBF0F8"
             },
             "line": {
              "color": "white"
             }
            },
            "header": {
             "fill": {
              "color": "#C8D4E3"
             },
             "line": {
              "color": "white"
             }
            },
            "type": "table"
           }
          ]
         },
         "layout": {
          "annotationdefaults": {
           "arrowcolor": "#2a3f5f",
           "arrowhead": 0,
           "arrowwidth": 1
          },
          "autotypenumbers": "strict",
          "coloraxis": {
           "colorbar": {
            "outlinewidth": 0,
            "ticks": ""
           }
          },
          "colorscale": {
           "diverging": [
            [
             0,
             "#8e0152"
            ],
            [
             0.1,
             "#c51b7d"
            ],
            [
             0.2,
             "#de77ae"
            ],
            [
             0.3,
             "#f1b6da"
            ],
            [
             0.4,
             "#fde0ef"
            ],
            [
             0.5,
             "#f7f7f7"
            ],
            [
             0.6,
             "#e6f5d0"
            ],
            [
             0.7,
             "#b8e186"
            ],
            [
             0.8,
             "#7fbc41"
            ],
            [
             0.9,
             "#4d9221"
            ],
            [
             1,
             "#276419"
            ]
           ],
           "sequential": [
            [
             0,
             "#0d0887"
            ],
            [
             0.1111111111111111,
             "#46039f"
            ],
            [
             0.2222222222222222,
             "#7201a8"
            ],
            [
             0.3333333333333333,
             "#9c179e"
            ],
            [
             0.4444444444444444,
             "#bd3786"
            ],
            [
             0.5555555555555556,
             "#d8576b"
            ],
            [
             0.6666666666666666,
             "#ed7953"
            ],
            [
             0.7777777777777778,
             "#fb9f3a"
            ],
            [
             0.8888888888888888,
             "#fdca26"
            ],
            [
             1,
             "#f0f921"
            ]
           ],
           "sequentialminus": [
            [
             0,
             "#0d0887"
            ],
            [
             0.1111111111111111,
             "#46039f"
            ],
            [
             0.2222222222222222,
             "#7201a8"
            ],
            [
             0.3333333333333333,
             "#9c179e"
            ],
            [
             0.4444444444444444,
             "#bd3786"
            ],
            [
             0.5555555555555556,
             "#d8576b"
            ],
            [
             0.6666666666666666,
             "#ed7953"
            ],
            [
             0.7777777777777778,
             "#fb9f3a"
            ],
            [
             0.8888888888888888,
             "#fdca26"
            ],
            [
             1,
             "#f0f921"
            ]
           ]
          },
          "colorway": [
           "#636efa",
           "#EF553B",
           "#00cc96",
           "#ab63fa",
           "#FFA15A",
           "#19d3f3",
           "#FF6692",
           "#B6E880",
           "#FF97FF",
           "#FECB52"
          ],
          "font": {
           "color": "#2a3f5f"
          },
          "geo": {
           "bgcolor": "white",
           "lakecolor": "white",
           "landcolor": "#E5ECF6",
           "showlakes": true,
           "showland": true,
           "subunitcolor": "white"
          },
          "hoverlabel": {
           "align": "left"
          },
          "hovermode": "closest",
          "mapbox": {
           "style": "light"
          },
          "paper_bgcolor": "white",
          "plot_bgcolor": "#E5ECF6",
          "polar": {
           "angularaxis": {
            "gridcolor": "white",
            "linecolor": "white",
            "ticks": ""
           },
           "bgcolor": "#E5ECF6",
           "radialaxis": {
            "gridcolor": "white",
            "linecolor": "white",
            "ticks": ""
           }
          },
          "scene": {
           "xaxis": {
            "backgroundcolor": "#E5ECF6",
            "gridcolor": "white",
            "gridwidth": 2,
            "linecolor": "white",
            "showbackground": true,
            "ticks": "",
            "zerolinecolor": "white"
           },
           "yaxis": {
            "backgroundcolor": "#E5ECF6",
            "gridcolor": "white",
            "gridwidth": 2,
            "linecolor": "white",
            "showbackground": true,
            "ticks": "",
            "zerolinecolor": "white"
           },
           "zaxis": {
            "backgroundcolor": "#E5ECF6",
            "gridcolor": "white",
            "gridwidth": 2,
            "linecolor": "white",
            "showbackground": true,
            "ticks": "",
            "zerolinecolor": "white"
           }
          },
          "shapedefaults": {
           "line": {
            "color": "#2a3f5f"
           }
          },
          "ternary": {
           "aaxis": {
            "gridcolor": "white",
            "linecolor": "white",
            "ticks": ""
           },
           "baxis": {
            "gridcolor": "white",
            "linecolor": "white",
            "ticks": ""
           },
           "bgcolor": "#E5ECF6",
           "caxis": {
            "gridcolor": "white",
            "linecolor": "white",
            "ticks": ""
           }
          },
          "title": {
           "x": 0.05
          },
          "xaxis": {
           "automargin": true,
           "gridcolor": "white",
           "linecolor": "white",
           "ticks": "",
           "title": {
            "standoff": 15
           },
           "zerolinecolor": "white",
           "zerolinewidth": 2
          },
          "yaxis": {
           "automargin": true,
           "gridcolor": "white",
           "linecolor": "white",
           "ticks": "",
           "title": {
            "standoff": 15
           },
           "zerolinecolor": "white",
           "zerolinewidth": 2
          }
         }
        },
        "title": {
         "text": "Avg Purch Price for Class P, 20-55.99kg Weight Category",
         "x": 0.2
        },
        "width": 1500,
        "xaxis": {
         "domain": [
          0.2,
          0.8
         ],
         "rangeselector": {
          "buttons": [
           {
            "count": 1,
            "label": "1m",
            "step": "month",
            "stepmode": "backward"
           },
           {
            "count": 6,
            "label": "6m",
            "step": "month",
            "stepmode": "backward"
           },
           {
            "count": 1,
            "label": "YTD",
            "step": "year",
            "stepmode": "todate"
           },
           {
            "count": 1,
            "label": "1y",
            "step": "year",
            "stepmode": "backward"
           },
           {
            "step": "all"
           }
          ]
         },
         "rangeslider": {
          "visible": true
         },
         "type": "date"
        },
        "yaxis": {
         "anchor": "free",
         "position": 0.1,
         "side": "left",
         "tickfont": {
          "color": "#e377c2"
         },
         "title": {
          "font": {
           "color": "#e377c2"
          },
          "text": "Units"
         }
        },
        "yaxis2": {
         "anchor": "free",
         "overlaying": "y",
         "position": 0.2,
         "side": "left",
         "tickfont": {
          "color": "#636EFA"
         },
         "title": {
          "font": {
           "color": "#636EFA"
          },
          "text": "Average Mass"
         }
        },
        "yaxis3": {
         "anchor": "x",
         "overlaying": "y",
         "side": "right",
         "tickfont": {
          "color": "#006400"
         },
         "title": {
          "font": {
           "color": "#006400"
          },
          "text": "Average Purchase Price"
         }
        }
       }
      }
     },
     "metadata": {},
     "output_type": "display_data"
    },
    {
     "data": {
      "text/plain": [
       "<function __main__.sheepplotly3(Weight_Class, Pig_Class)>"
      ]
     },
     "execution_count": 52,
     "metadata": {},
     "output_type": "execute_result"
    }
   ],
   "source": [
    "df2_3 = df2_3.sort_values(by=['date_to']).reset_index(drop = True)\n",
    "\n",
    "class_list1 = list(df2_3.weight.unique())\n",
    "class_list2 = list(df2_3.Pig_Class.unique())\n",
    "\n",
    "\n",
    "def sheepplotly3(Weight_Class, Pig_Class): \n",
    "    \n",
    "    A = df2_3.loc[df2_3['weight'] == Weight_Class, ('Pig_Class', 'avg_purch','date_to', 'avg_mass', 'units')]\n",
    "    B = A.loc[A['Pig_Class'] == Pig_Class, ('avg_purch', 'date_to', 'avg_mass', 'units')]\n",
    "\n",
    "    # initialize a Figure object and store it in\n",
    "    # a variable fig\n",
    "    fig = go.Figure()\n",
    "\n",
    "    # add x and y values for the 1st scatter\n",
    "    # plot and name the yaxis as yaxis1 values\n",
    "\n",
    "    fig.add_trace(go.Bar(\n",
    "        x=B['date_to'],\n",
    "        y=B['units'],\n",
    "        name=\"Units\", marker=dict(color='#e377c2')\n",
    "        \n",
    "    ))\n",
    "    \n",
    "    # add x and y values for the 2nd scatter\n",
    "    # plot and name the yaxis as yaxis2 values\n",
    "    fig.add_trace(go.Scatter(\n",
    "        x=B['date_to'],\n",
    "        y=B['avg_mass'],\n",
    "        name=\"Average Mass\", marker=dict(color='#636EFA'),\n",
    "        yaxis=\"y2\"\n",
    "    ))\n",
    "\n",
    "    # add x and y values for the 3rd scatter\n",
    "    # plot and name the yaxis as yaxis3 values\n",
    "    fig.add_trace(go.Scatter(\n",
    "        x=B['date_to'],\n",
    "        y=B['avg_purch'],\n",
    "        name=\"Average Purchase Price\", marker=dict(color=\"#006400\"),\n",
    "        yaxis=\"y3\"\n",
    "    ))       \n",
    "    \n",
    "\n",
    "    # Create axis objects\n",
    "    fig.update_layout(\n",
    "        # split the x-axis to fraction of plots in\n",
    "        # proportions\n",
    "        xaxis=dict(\n",
    "            domain=[0.2, 0.8]\n",
    "        ),\n",
    "\n",
    "       \n",
    "        # pass the y-axis title, titlefont, color\n",
    "        # and tickfont as a dictionary and store\n",
    "        # it an variable yaxis\n",
    "        yaxis=dict(\n",
    "            title=\"Units\",\n",
    "            titlefont=dict(\n",
    "                color='#e377c2'\n",
    "            ),\n",
    "            tickfont=dict(\n",
    "                color='#e377c2'\n",
    "            ),\n",
    "            anchor=\"free\",  # specifying x - axis has to be the fixed\n",
    "            side=\"left\",  # specifying the side the axis should be present\n",
    "            position=0.1  # specifying the position of the axis\n",
    "        ),\n",
    "\n",
    "        # pass the y-axis 2 title, titlefont, color and\n",
    "        # tickfont as a dictionary and store it an\n",
    "        # variable yaxis 2\n",
    "        yaxis2=dict(\n",
    "            title=\"Average Mass\",\n",
    "            titlefont=dict(\n",
    "                color='#636EFA'\n",
    "            ),\n",
    "            tickfont=dict(\n",
    "                color='#636EFA'\n",
    "            ),\n",
    "            anchor=\"free\",  # specifying x - axis has to be the fixed\n",
    "            overlaying=\"y\",  # specifying y - axis has to be separated\n",
    "            side=\"left\",  # specifying the side the axis should be present\n",
    "            position=0.2  # specifying the position of the axis\n",
    "        ),\n",
    "\n",
    "        # pass the y-axis 3 title, titlefont, color and\n",
    "        # tickfont as a dictionary and store it an\n",
    "        # variable yaxis 3\n",
    "        yaxis3=dict(\n",
    "            title=\"Average Purchase Price\",\n",
    "            titlefont=dict(\n",
    "                color=\"#006400\"\n",
    "            ),\n",
    "            tickfont=dict(\n",
    "                color=\"#006400\"\n",
    "            ),\n",
    "            anchor=\"x\",     # specifying x - axis has to be the fixed\n",
    "            overlaying=\"y\",  # specifyinfg y - axis has to be separated\n",
    "            side=\"right\"  # specifying the side the axis should be present\n",
    "            )\n",
    "\n",
    "    \n",
    "         )\n",
    "      \n",
    "    \n",
    "    # Update layout of the plot namely title_text, width\n",
    "    # and place it in the center using title_x parameter\n",
    "    # as shown\n",
    "    fig.update_layout(\n",
    "        title_text=f\"Avg Purch Price for Class {Pig_Class}, {Weight_Class} Weight Category\",\n",
    "        width=1500,\n",
    "        title_x=0.2)\n",
    "\n",
    "    \n",
    "    # Add range slider\n",
    "    fig.update_layout(\n",
    "        xaxis=dict(\n",
    "            rangeselector=dict(\n",
    "                buttons=list([\n",
    "                    dict(count=1,\n",
    "                         label=\"1m\",\n",
    "                         step=\"month\",\n",
    "                         stepmode=\"backward\"),\n",
    "                    dict(count=6,\n",
    "                         label=\"6m\",\n",
    "                         step=\"month\",\n",
    "                         stepmode=\"backward\"),\n",
    "                    dict(count=1,\n",
    "                         label=\"YTD\",\n",
    "                         step=\"year\",\n",
    "                         stepmode=\"todate\"),\n",
    "                    dict(count=1,\n",
    "                         label=\"1y\",\n",
    "                         step=\"year\",\n",
    "                         stepmode=\"backward\"),\n",
    "                    dict(step=\"all\")\n",
    "                ])\n",
    "            ),\n",
    "            rangeslider=dict(\n",
    "                visible=True\n",
    "            ),\n",
    "            type=\"date\"\n",
    "        )\n",
    "    )\n",
    "\n",
    "    \n",
    "    fig.show()\n",
    "\n",
    "widgets.interact(sheepplotly3, Weight_Class = class_list1, Pig_Class = class_list2)\n"
   ]
  },
  {
   "cell_type": "code",
   "execution_count": 53,
   "id": "8cf297c3",
   "metadata": {
    "scrolled": false
   },
   "outputs": [
    {
     "data": {
      "text/html": [
       "<div>\n",
       "<style scoped>\n",
       "    .dataframe tbody tr th:only-of-type {\n",
       "        vertical-align: middle;\n",
       "    }\n",
       "\n",
       "    .dataframe tbody tr th {\n",
       "        vertical-align: top;\n",
       "    }\n",
       "\n",
       "    .dataframe thead th {\n",
       "        text-align: right;\n",
       "    }\n",
       "</style>\n",
       "<table border=\"1\" class=\"dataframe\">\n",
       "  <thead>\n",
       "    <tr style=\"text-align: right;\">\n",
       "      <th></th>\n",
       "      <th>product</th>\n",
       "      <th>variety</th>\n",
       "      <th>class</th>\n",
       "      <th>size</th>\n",
       "      <th>package</th>\n",
       "      <th>unit(kg)</th>\n",
       "      <th>closing_price</th>\n",
       "      <th>high_price</th>\n",
       "      <th>low_price</th>\n",
       "      <th>average_price</th>\n",
       "      <th>total_sales</th>\n",
       "      <th>sales_quantity</th>\n",
       "      <th>closing_stock</th>\n",
       "      <th>date</th>\n",
       "      <th>market_name</th>\n",
       "      <th>market_code</th>\n",
       "      <th>market_type</th>\n",
       "    </tr>\n",
       "  </thead>\n",
       "  <tbody>\n",
       "    <tr>\n",
       "      <th>0</th>\n",
       "      <td>1. PECAN NUTS</td>\n",
       "      <td>NO VARIETY</td>\n",
       "      <td>NOT GRADED</td>\n",
       "      <td>NO SIZE</td>\n",
       "      <td>BAG</td>\n",
       "      <td>3.0</td>\n",
       "      <td>0.0</td>\n",
       "      <td>0.0</td>\n",
       "      <td>0.0</td>\n",
       "      <td>0.0</td>\n",
       "      <td>0.0</td>\n",
       "      <td>0</td>\n",
       "      <td>98</td>\n",
       "      <td>2023-05-04</td>\n",
       "      <td>Pietermaritzburg Fresh Produce Market</td>\n",
       "      <td>PIE</td>\n",
       "      <td>Fresh Produce Markets</td>\n",
       "    </tr>\n",
       "    <tr>\n",
       "      <th>1</th>\n",
       "      <td>2. PECAN NUTS</td>\n",
       "      <td>NO VARIETY</td>\n",
       "      <td>NOT GRADED</td>\n",
       "      <td>NO SIZE</td>\n",
       "      <td>BAG</td>\n",
       "      <td>3.0</td>\n",
       "      <td>0.0</td>\n",
       "      <td>0.0</td>\n",
       "      <td>0.0</td>\n",
       "      <td>0.0</td>\n",
       "      <td>0.0</td>\n",
       "      <td>0</td>\n",
       "      <td>98</td>\n",
       "      <td>2023-05-03</td>\n",
       "      <td>Pietermaritzburg Fresh Produce Market</td>\n",
       "      <td>PIE</td>\n",
       "      <td>Fresh Produce Markets</td>\n",
       "    </tr>\n",
       "    <tr>\n",
       "      <th>2</th>\n",
       "      <td>3. PECAN NUTS</td>\n",
       "      <td>NO VARIETY</td>\n",
       "      <td>NOT GRADED</td>\n",
       "      <td>NO SIZE</td>\n",
       "      <td>BAG</td>\n",
       "      <td>3.0</td>\n",
       "      <td>0.0</td>\n",
       "      <td>0.0</td>\n",
       "      <td>0.0</td>\n",
       "      <td>0.0</td>\n",
       "      <td>0.0</td>\n",
       "      <td>0</td>\n",
       "      <td>98</td>\n",
       "      <td>2023-05-02</td>\n",
       "      <td>Pietermaritzburg Fresh Produce Market</td>\n",
       "      <td>PIE</td>\n",
       "      <td>Fresh Produce Markets</td>\n",
       "    </tr>\n",
       "    <tr>\n",
       "      <th>3</th>\n",
       "      <td>4. PECAN NUTS</td>\n",
       "      <td>NO VARIETY</td>\n",
       "      <td>NOT GRADED</td>\n",
       "      <td>NO SIZE</td>\n",
       "      <td>PER KILO / POCKET</td>\n",
       "      <td>1.0</td>\n",
       "      <td>40.0</td>\n",
       "      <td>40.0</td>\n",
       "      <td>40.0</td>\n",
       "      <td>40.0</td>\n",
       "      <td>440.0</td>\n",
       "      <td>11</td>\n",
       "      <td>0</td>\n",
       "      <td>2023-05-02</td>\n",
       "      <td>Pietermaritzburg Fresh Produce Market</td>\n",
       "      <td>PIE</td>\n",
       "      <td>Fresh Produce Markets</td>\n",
       "    </tr>\n",
       "    <tr>\n",
       "      <th>4</th>\n",
       "      <td>5. PECAN NUTS</td>\n",
       "      <td>NO VARIETY</td>\n",
       "      <td>NOT GRADED</td>\n",
       "      <td>NO SIZE</td>\n",
       "      <td>BAG</td>\n",
       "      <td>3.0</td>\n",
       "      <td>0.0</td>\n",
       "      <td>0.0</td>\n",
       "      <td>0.0</td>\n",
       "      <td>0.0</td>\n",
       "      <td>0.0</td>\n",
       "      <td>0</td>\n",
       "      <td>98</td>\n",
       "      <td>2023-05-02</td>\n",
       "      <td>Pietermaritzburg Fresh Produce Market</td>\n",
       "      <td>PIE</td>\n",
       "      <td>Fresh Produce Markets</td>\n",
       "    </tr>\n",
       "    <tr>\n",
       "      <th>...</th>\n",
       "      <td>...</td>\n",
       "      <td>...</td>\n",
       "      <td>...</td>\n",
       "      <td>...</td>\n",
       "      <td>...</td>\n",
       "      <td>...</td>\n",
       "      <td>...</td>\n",
       "      <td>...</td>\n",
       "      <td>...</td>\n",
       "      <td>...</td>\n",
       "      <td>...</td>\n",
       "      <td>...</td>\n",
       "      <td>...</td>\n",
       "      <td>...</td>\n",
       "      <td>...</td>\n",
       "      <td>...</td>\n",
       "      <td>...</td>\n",
       "    </tr>\n",
       "    <tr>\n",
       "      <th>322360</th>\n",
       "      <td>57. CELERY</td>\n",
       "      <td>NO VARIETY</td>\n",
       "      <td>NOT GRADED</td>\n",
       "      <td>NO SIZE</td>\n",
       "      <td>BUNCH</td>\n",
       "      <td>0.0</td>\n",
       "      <td>0.0</td>\n",
       "      <td>0.0</td>\n",
       "      <td>0.0</td>\n",
       "      <td>0.0</td>\n",
       "      <td>0.0</td>\n",
       "      <td>0</td>\n",
       "      <td>2</td>\n",
       "      <td>2023-02-08</td>\n",
       "      <td>East London Fresh Produce Market</td>\n",
       "      <td>EAS</td>\n",
       "      <td>Fresh Produce Markets</td>\n",
       "    </tr>\n",
       "    <tr>\n",
       "      <th>322361</th>\n",
       "      <td>58. CELERY</td>\n",
       "      <td>NO VARIETY</td>\n",
       "      <td>NOT GRADED</td>\n",
       "      <td>NO SIZE</td>\n",
       "      <td>BUNCH</td>\n",
       "      <td>0.0</td>\n",
       "      <td>0.0</td>\n",
       "      <td>0.0</td>\n",
       "      <td>0.0</td>\n",
       "      <td>0.0</td>\n",
       "      <td>0.0</td>\n",
       "      <td>0</td>\n",
       "      <td>2</td>\n",
       "      <td>2023-02-07</td>\n",
       "      <td>East London Fresh Produce Market</td>\n",
       "      <td>EAS</td>\n",
       "      <td>Fresh Produce Markets</td>\n",
       "    </tr>\n",
       "    <tr>\n",
       "      <th>322362</th>\n",
       "      <td>59. CELERY</td>\n",
       "      <td>NO VARIETY</td>\n",
       "      <td>NOT GRADED</td>\n",
       "      <td>NO SIZE</td>\n",
       "      <td>BUNCH</td>\n",
       "      <td>0.0</td>\n",
       "      <td>0.0</td>\n",
       "      <td>0.0</td>\n",
       "      <td>0.0</td>\n",
       "      <td>0.0</td>\n",
       "      <td>0.0</td>\n",
       "      <td>0</td>\n",
       "      <td>2</td>\n",
       "      <td>2023-02-07</td>\n",
       "      <td>East London Fresh Produce Market</td>\n",
       "      <td>EAS</td>\n",
       "      <td>Fresh Produce Markets</td>\n",
       "    </tr>\n",
       "    <tr>\n",
       "      <th>322363</th>\n",
       "      <td>60. CELERY</td>\n",
       "      <td>NO VARIETY</td>\n",
       "      <td>NOT GRADED</td>\n",
       "      <td>NO SIZE</td>\n",
       "      <td>BUNCH</td>\n",
       "      <td>0.0</td>\n",
       "      <td>0.0</td>\n",
       "      <td>0.0</td>\n",
       "      <td>0.0</td>\n",
       "      <td>0.0</td>\n",
       "      <td>0.0</td>\n",
       "      <td>0</td>\n",
       "      <td>2</td>\n",
       "      <td>2023-02-06</td>\n",
       "      <td>East London Fresh Produce Market</td>\n",
       "      <td>EAS</td>\n",
       "      <td>Fresh Produce Markets</td>\n",
       "    </tr>\n",
       "    <tr>\n",
       "      <th>322364</th>\n",
       "      <td>61. CELERY</td>\n",
       "      <td>NO VARIETY</td>\n",
       "      <td>NOT GRADED</td>\n",
       "      <td>NO SIZE</td>\n",
       "      <td>BUNCH</td>\n",
       "      <td>0.0</td>\n",
       "      <td>0.0</td>\n",
       "      <td>0.0</td>\n",
       "      <td>0.0</td>\n",
       "      <td>0.0</td>\n",
       "      <td>0.0</td>\n",
       "      <td>0</td>\n",
       "      <td>2</td>\n",
       "      <td>2023-02-02</td>\n",
       "      <td>East London Fresh Produce Market</td>\n",
       "      <td>EAS</td>\n",
       "      <td>Fresh Produce Markets</td>\n",
       "    </tr>\n",
       "  </tbody>\n",
       "</table>\n",
       "<p>322365 rows × 17 columns</p>\n",
       "</div>"
      ],
      "text/plain": [
       "              product     variety       class     size            package  \\\n",
       "0       1. PECAN NUTS  NO VARIETY  NOT GRADED  NO SIZE                BAG   \n",
       "1       2. PECAN NUTS  NO VARIETY  NOT GRADED  NO SIZE                BAG   \n",
       "2       3. PECAN NUTS  NO VARIETY  NOT GRADED  NO SIZE                BAG   \n",
       "3       4. PECAN NUTS  NO VARIETY  NOT GRADED  NO SIZE  PER KILO / POCKET   \n",
       "4       5. PECAN NUTS  NO VARIETY  NOT GRADED  NO SIZE                BAG   \n",
       "...               ...         ...         ...      ...                ...   \n",
       "322360     57. CELERY  NO VARIETY  NOT GRADED  NO SIZE              BUNCH   \n",
       "322361     58. CELERY  NO VARIETY  NOT GRADED  NO SIZE              BUNCH   \n",
       "322362     59. CELERY  NO VARIETY  NOT GRADED  NO SIZE              BUNCH   \n",
       "322363     60. CELERY  NO VARIETY  NOT GRADED  NO SIZE              BUNCH   \n",
       "322364     61. CELERY  NO VARIETY  NOT GRADED  NO SIZE              BUNCH   \n",
       "\n",
       "        unit(kg)  closing_price  high_price  low_price  average_price  \\\n",
       "0            3.0            0.0         0.0        0.0            0.0   \n",
       "1            3.0            0.0         0.0        0.0            0.0   \n",
       "2            3.0            0.0         0.0        0.0            0.0   \n",
       "3            1.0           40.0        40.0       40.0           40.0   \n",
       "4            3.0            0.0         0.0        0.0            0.0   \n",
       "...          ...            ...         ...        ...            ...   \n",
       "322360       0.0            0.0         0.0        0.0            0.0   \n",
       "322361       0.0            0.0         0.0        0.0            0.0   \n",
       "322362       0.0            0.0         0.0        0.0            0.0   \n",
       "322363       0.0            0.0         0.0        0.0            0.0   \n",
       "322364       0.0            0.0         0.0        0.0            0.0   \n",
       "\n",
       "        total_sales  sales_quantity  closing_stock        date  \\\n",
       "0               0.0               0             98  2023-05-04   \n",
       "1               0.0               0             98  2023-05-03   \n",
       "2               0.0               0             98  2023-05-02   \n",
       "3             440.0              11              0  2023-05-02   \n",
       "4               0.0               0             98  2023-05-02   \n",
       "...             ...             ...            ...         ...   \n",
       "322360          0.0               0              2  2023-02-08   \n",
       "322361          0.0               0              2  2023-02-07   \n",
       "322362          0.0               0              2  2023-02-07   \n",
       "322363          0.0               0              2  2023-02-06   \n",
       "322364          0.0               0              2  2023-02-02   \n",
       "\n",
       "                                  market_name market_code  \\\n",
       "0       Pietermaritzburg Fresh Produce Market         PIE   \n",
       "1       Pietermaritzburg Fresh Produce Market         PIE   \n",
       "2       Pietermaritzburg Fresh Produce Market         PIE   \n",
       "3       Pietermaritzburg Fresh Produce Market         PIE   \n",
       "4       Pietermaritzburg Fresh Produce Market         PIE   \n",
       "...                                       ...         ...   \n",
       "322360       East London Fresh Produce Market         EAS   \n",
       "322361       East London Fresh Produce Market         EAS   \n",
       "322362       East London Fresh Produce Market         EAS   \n",
       "322363       East London Fresh Produce Market         EAS   \n",
       "322364       East London Fresh Produce Market         EAS   \n",
       "\n",
       "                  market_type  \n",
       "0       Fresh Produce Markets  \n",
       "1       Fresh Produce Markets  \n",
       "2       Fresh Produce Markets  \n",
       "3       Fresh Produce Markets  \n",
       "4       Fresh Produce Markets  \n",
       "...                       ...  \n",
       "322360  Fresh Produce Markets  \n",
       "322361  Fresh Produce Markets  \n",
       "322362  Fresh Produce Markets  \n",
       "322363  Fresh Produce Markets  \n",
       "322364  Fresh Produce Markets  \n",
       "\n",
       "[322365 rows x 17 columns]"
      ]
     },
     "execution_count": 53,
     "metadata": {},
     "output_type": "execute_result"
    }
   ],
   "source": [
    "df3_init = pd.read_csv('../tests/Final_Output/processed_horticulture_2023-05-11.csv')\n",
    "df3_init"
   ]
  },
  {
   "cell_type": "code",
   "execution_count": 54,
   "id": "fdbfd295",
   "metadata": {},
   "outputs": [
    {
     "name": "stdout",
     "output_type": "stream",
     "text": [
      "<class 'pandas.core.frame.DataFrame'>\n",
      "RangeIndex: 322365 entries, 0 to 322364\n",
      "Data columns (total 17 columns):\n",
      " #   Column          Non-Null Count   Dtype  \n",
      "---  ------          --------------   -----  \n",
      " 0   product         322365 non-null  object \n",
      " 1   variety         322365 non-null  object \n",
      " 2   class           322365 non-null  object \n",
      " 3   size            322365 non-null  object \n",
      " 4   package         322365 non-null  object \n",
      " 5   unit(kg)        321165 non-null  float64\n",
      " 6   closing_price   322365 non-null  float64\n",
      " 7   high_price      322365 non-null  float64\n",
      " 8   low_price       322365 non-null  float64\n",
      " 9   average_price   322365 non-null  float64\n",
      " 10  total_sales     322365 non-null  float64\n",
      " 11  sales_quantity  322365 non-null  int64  \n",
      " 12  closing_stock   322365 non-null  int64  \n",
      " 13  date            322365 non-null  object \n",
      " 14  market_name     322365 non-null  object \n",
      " 15  market_code     322365 non-null  object \n",
      " 16  market_type     322365 non-null  object \n",
      "dtypes: float64(6), int64(2), object(9)\n",
      "memory usage: 41.8+ MB\n"
     ]
    }
   ],
   "source": [
    "df3_init.info()"
   ]
  },
  {
   "cell_type": "code",
   "execution_count": 55,
   "id": "32faa0ac",
   "metadata": {},
   "outputs": [
    {
     "data": {
      "text/html": [
       "<div>\n",
       "<style scoped>\n",
       "    .dataframe tbody tr th:only-of-type {\n",
       "        vertical-align: middle;\n",
       "    }\n",
       "\n",
       "    .dataframe tbody tr th {\n",
       "        vertical-align: top;\n",
       "    }\n",
       "\n",
       "    .dataframe thead th {\n",
       "        text-align: right;\n",
       "    }\n",
       "</style>\n",
       "<table border=\"1\" class=\"dataframe\">\n",
       "  <thead>\n",
       "    <tr style=\"text-align: right;\">\n",
       "      <th></th>\n",
       "      <th>product</th>\n",
       "      <th>variety</th>\n",
       "      <th>class</th>\n",
       "      <th>size</th>\n",
       "      <th>package</th>\n",
       "      <th>unit(kg)</th>\n",
       "      <th>closing_price</th>\n",
       "      <th>high_price</th>\n",
       "      <th>low_price</th>\n",
       "      <th>average_price</th>\n",
       "      <th>total_sales</th>\n",
       "      <th>sales_quantity</th>\n",
       "      <th>closing_stock</th>\n",
       "      <th>date</th>\n",
       "      <th>market_name</th>\n",
       "      <th>market_code</th>\n",
       "      <th>market_type</th>\n",
       "    </tr>\n",
       "  </thead>\n",
       "  <tbody>\n",
       "    <tr>\n",
       "      <th>0</th>\n",
       "      <td>4. PECAN NUTS</td>\n",
       "      <td>NO VARIETY</td>\n",
       "      <td>NOT GRADED</td>\n",
       "      <td>NO SIZE</td>\n",
       "      <td>PER KILO / POCKET</td>\n",
       "      <td>1.0</td>\n",
       "      <td>40.0</td>\n",
       "      <td>40.0</td>\n",
       "      <td>40.0</td>\n",
       "      <td>40.0</td>\n",
       "      <td>440.0</td>\n",
       "      <td>11</td>\n",
       "      <td>0</td>\n",
       "      <td>2023-05-02</td>\n",
       "      <td>Pietermaritzburg Fresh Produce Market</td>\n",
       "      <td>PIE</td>\n",
       "      <td>Fresh Produce Markets</td>\n",
       "    </tr>\n",
       "    <tr>\n",
       "      <th>1</th>\n",
       "      <td>6. PECAN NUTS</td>\n",
       "      <td>NO VARIETY</td>\n",
       "      <td>NOT GRADED</td>\n",
       "      <td>NO SIZE</td>\n",
       "      <td>PER KILO / POCKET</td>\n",
       "      <td>1.0</td>\n",
       "      <td>40.0</td>\n",
       "      <td>40.0</td>\n",
       "      <td>40.0</td>\n",
       "      <td>40.0</td>\n",
       "      <td>440.0</td>\n",
       "      <td>11</td>\n",
       "      <td>0</td>\n",
       "      <td>2023-05-02</td>\n",
       "      <td>Pietermaritzburg Fresh Produce Market</td>\n",
       "      <td>PIE</td>\n",
       "      <td>Fresh Produce Markets</td>\n",
       "    </tr>\n",
       "    <tr>\n",
       "      <th>2</th>\n",
       "      <td>8. PECAN NUTS</td>\n",
       "      <td>NO VARIETY</td>\n",
       "      <td>NOT GRADED</td>\n",
       "      <td>NO SIZE</td>\n",
       "      <td>PER KILO / POCKET</td>\n",
       "      <td>1.0</td>\n",
       "      <td>45.0</td>\n",
       "      <td>45.0</td>\n",
       "      <td>45.0</td>\n",
       "      <td>45.0</td>\n",
       "      <td>180.0</td>\n",
       "      <td>4</td>\n",
       "      <td>11</td>\n",
       "      <td>2023-04-28</td>\n",
       "      <td>Pietermaritzburg Fresh Produce Market</td>\n",
       "      <td>PIE</td>\n",
       "      <td>Fresh Produce Markets</td>\n",
       "    </tr>\n",
       "    <tr>\n",
       "      <th>3</th>\n",
       "      <td>11. PECAN NUTS</td>\n",
       "      <td>NO VARIETY</td>\n",
       "      <td>NOT GRADED</td>\n",
       "      <td>NO SIZE</td>\n",
       "      <td>PER KILO / POCKET</td>\n",
       "      <td>1.0</td>\n",
       "      <td>50.0</td>\n",
       "      <td>50.0</td>\n",
       "      <td>50.0</td>\n",
       "      <td>50.0</td>\n",
       "      <td>50.0</td>\n",
       "      <td>1</td>\n",
       "      <td>59</td>\n",
       "      <td>2023-04-21</td>\n",
       "      <td>Pietermaritzburg Fresh Produce Market</td>\n",
       "      <td>PIE</td>\n",
       "      <td>Fresh Produce Markets</td>\n",
       "    </tr>\n",
       "    <tr>\n",
       "      <th>4</th>\n",
       "      <td>12. PECAN NUTS</td>\n",
       "      <td>NO VARIETY</td>\n",
       "      <td>NOT GRADED</td>\n",
       "      <td>NO SIZE</td>\n",
       "      <td>PER KILO / POCKET</td>\n",
       "      <td>1.0</td>\n",
       "      <td>50.0</td>\n",
       "      <td>50.0</td>\n",
       "      <td>50.0</td>\n",
       "      <td>50.0</td>\n",
       "      <td>50.0</td>\n",
       "      <td>1</td>\n",
       "      <td>59</td>\n",
       "      <td>2023-04-21</td>\n",
       "      <td>Pietermaritzburg Fresh Produce Market</td>\n",
       "      <td>PIE</td>\n",
       "      <td>Fresh Produce Markets</td>\n",
       "    </tr>\n",
       "    <tr>\n",
       "      <th>...</th>\n",
       "      <td>...</td>\n",
       "      <td>...</td>\n",
       "      <td>...</td>\n",
       "      <td>...</td>\n",
       "      <td>...</td>\n",
       "      <td>...</td>\n",
       "      <td>...</td>\n",
       "      <td>...</td>\n",
       "      <td>...</td>\n",
       "      <td>...</td>\n",
       "      <td>...</td>\n",
       "      <td>...</td>\n",
       "      <td>...</td>\n",
       "      <td>...</td>\n",
       "      <td>...</td>\n",
       "      <td>...</td>\n",
       "      <td>...</td>\n",
       "    </tr>\n",
       "    <tr>\n",
       "      <th>219526</th>\n",
       "      <td>47. CELERY</td>\n",
       "      <td>NO VARIETY</td>\n",
       "      <td>NOT GRADED</td>\n",
       "      <td>NO SIZE</td>\n",
       "      <td>BUNCH</td>\n",
       "      <td>0.0</td>\n",
       "      <td>10.0</td>\n",
       "      <td>10.0</td>\n",
       "      <td>10.0</td>\n",
       "      <td>10.0</td>\n",
       "      <td>20.0</td>\n",
       "      <td>2</td>\n",
       "      <td>0</td>\n",
       "      <td>2023-02-17</td>\n",
       "      <td>East London Fresh Produce Market</td>\n",
       "      <td>EAS</td>\n",
       "      <td>Fresh Produce Markets</td>\n",
       "    </tr>\n",
       "    <tr>\n",
       "      <th>219527</th>\n",
       "      <td>48. CELERY</td>\n",
       "      <td>NO VARIETY</td>\n",
       "      <td>NOT GRADED</td>\n",
       "      <td>NO SIZE</td>\n",
       "      <td>PUNNET</td>\n",
       "      <td>0.0</td>\n",
       "      <td>15.0</td>\n",
       "      <td>15.0</td>\n",
       "      <td>15.0</td>\n",
       "      <td>15.0</td>\n",
       "      <td>150.0</td>\n",
       "      <td>10</td>\n",
       "      <td>0</td>\n",
       "      <td>2023-02-16</td>\n",
       "      <td>East London Fresh Produce Market</td>\n",
       "      <td>EAS</td>\n",
       "      <td>Fresh Produce Markets</td>\n",
       "    </tr>\n",
       "    <tr>\n",
       "      <th>219528</th>\n",
       "      <td>49. CELERY</td>\n",
       "      <td>NO VARIETY</td>\n",
       "      <td>NOT GRADED</td>\n",
       "      <td>NO SIZE</td>\n",
       "      <td>BUNCH</td>\n",
       "      <td>0.0</td>\n",
       "      <td>12.0</td>\n",
       "      <td>12.0</td>\n",
       "      <td>12.0</td>\n",
       "      <td>12.0</td>\n",
       "      <td>60.0</td>\n",
       "      <td>5</td>\n",
       "      <td>2</td>\n",
       "      <td>2023-02-16</td>\n",
       "      <td>East London Fresh Produce Market</td>\n",
       "      <td>EAS</td>\n",
       "      <td>Fresh Produce Markets</td>\n",
       "    </tr>\n",
       "    <tr>\n",
       "      <th>219529</th>\n",
       "      <td>50. CELERY</td>\n",
       "      <td>NO VARIETY</td>\n",
       "      <td>NOT GRADED</td>\n",
       "      <td>NO SIZE</td>\n",
       "      <td>PUNNET</td>\n",
       "      <td>0.0</td>\n",
       "      <td>15.0</td>\n",
       "      <td>15.0</td>\n",
       "      <td>15.0</td>\n",
       "      <td>15.0</td>\n",
       "      <td>150.0</td>\n",
       "      <td>10</td>\n",
       "      <td>0</td>\n",
       "      <td>2023-02-16</td>\n",
       "      <td>East London Fresh Produce Market</td>\n",
       "      <td>EAS</td>\n",
       "      <td>Fresh Produce Markets</td>\n",
       "    </tr>\n",
       "    <tr>\n",
       "      <th>219530</th>\n",
       "      <td>51. CELERY</td>\n",
       "      <td>NO VARIETY</td>\n",
       "      <td>NOT GRADED</td>\n",
       "      <td>NO SIZE</td>\n",
       "      <td>BUNCH</td>\n",
       "      <td>0.0</td>\n",
       "      <td>12.0</td>\n",
       "      <td>12.0</td>\n",
       "      <td>12.0</td>\n",
       "      <td>12.0</td>\n",
       "      <td>60.0</td>\n",
       "      <td>5</td>\n",
       "      <td>2</td>\n",
       "      <td>2023-02-16</td>\n",
       "      <td>East London Fresh Produce Market</td>\n",
       "      <td>EAS</td>\n",
       "      <td>Fresh Produce Markets</td>\n",
       "    </tr>\n",
       "  </tbody>\n",
       "</table>\n",
       "<p>219531 rows × 17 columns</p>\n",
       "</div>"
      ],
      "text/plain": [
       "               product     variety       class     size            package  \\\n",
       "0        4. PECAN NUTS  NO VARIETY  NOT GRADED  NO SIZE  PER KILO / POCKET   \n",
       "1        6. PECAN NUTS  NO VARIETY  NOT GRADED  NO SIZE  PER KILO / POCKET   \n",
       "2        8. PECAN NUTS  NO VARIETY  NOT GRADED  NO SIZE  PER KILO / POCKET   \n",
       "3       11. PECAN NUTS  NO VARIETY  NOT GRADED  NO SIZE  PER KILO / POCKET   \n",
       "4       12. PECAN NUTS  NO VARIETY  NOT GRADED  NO SIZE  PER KILO / POCKET   \n",
       "...                ...         ...         ...      ...                ...   \n",
       "219526      47. CELERY  NO VARIETY  NOT GRADED  NO SIZE              BUNCH   \n",
       "219527      48. CELERY  NO VARIETY  NOT GRADED  NO SIZE             PUNNET   \n",
       "219528      49. CELERY  NO VARIETY  NOT GRADED  NO SIZE              BUNCH   \n",
       "219529      50. CELERY  NO VARIETY  NOT GRADED  NO SIZE             PUNNET   \n",
       "219530      51. CELERY  NO VARIETY  NOT GRADED  NO SIZE              BUNCH   \n",
       "\n",
       "        unit(kg)  closing_price  high_price  low_price  average_price  \\\n",
       "0            1.0           40.0        40.0       40.0           40.0   \n",
       "1            1.0           40.0        40.0       40.0           40.0   \n",
       "2            1.0           45.0        45.0       45.0           45.0   \n",
       "3            1.0           50.0        50.0       50.0           50.0   \n",
       "4            1.0           50.0        50.0       50.0           50.0   \n",
       "...          ...            ...         ...        ...            ...   \n",
       "219526       0.0           10.0        10.0       10.0           10.0   \n",
       "219527       0.0           15.0        15.0       15.0           15.0   \n",
       "219528       0.0           12.0        12.0       12.0           12.0   \n",
       "219529       0.0           15.0        15.0       15.0           15.0   \n",
       "219530       0.0           12.0        12.0       12.0           12.0   \n",
       "\n",
       "        total_sales  sales_quantity  closing_stock        date  \\\n",
       "0             440.0              11              0  2023-05-02   \n",
       "1             440.0              11              0  2023-05-02   \n",
       "2             180.0               4             11  2023-04-28   \n",
       "3              50.0               1             59  2023-04-21   \n",
       "4              50.0               1             59  2023-04-21   \n",
       "...             ...             ...            ...         ...   \n",
       "219526         20.0               2              0  2023-02-17   \n",
       "219527        150.0              10              0  2023-02-16   \n",
       "219528         60.0               5              2  2023-02-16   \n",
       "219529        150.0              10              0  2023-02-16   \n",
       "219530         60.0               5              2  2023-02-16   \n",
       "\n",
       "                                  market_name market_code  \\\n",
       "0       Pietermaritzburg Fresh Produce Market         PIE   \n",
       "1       Pietermaritzburg Fresh Produce Market         PIE   \n",
       "2       Pietermaritzburg Fresh Produce Market         PIE   \n",
       "3       Pietermaritzburg Fresh Produce Market         PIE   \n",
       "4       Pietermaritzburg Fresh Produce Market         PIE   \n",
       "...                                       ...         ...   \n",
       "219526       East London Fresh Produce Market         EAS   \n",
       "219527       East London Fresh Produce Market         EAS   \n",
       "219528       East London Fresh Produce Market         EAS   \n",
       "219529       East London Fresh Produce Market         EAS   \n",
       "219530       East London Fresh Produce Market         EAS   \n",
       "\n",
       "                  market_type  \n",
       "0       Fresh Produce Markets  \n",
       "1       Fresh Produce Markets  \n",
       "2       Fresh Produce Markets  \n",
       "3       Fresh Produce Markets  \n",
       "4       Fresh Produce Markets  \n",
       "...                       ...  \n",
       "219526  Fresh Produce Markets  \n",
       "219527  Fresh Produce Markets  \n",
       "219528  Fresh Produce Markets  \n",
       "219529  Fresh Produce Markets  \n",
       "219530  Fresh Produce Markets  \n",
       "\n",
       "[219531 rows x 17 columns]"
      ]
     },
     "execution_count": 55,
     "metadata": {},
     "output_type": "execute_result"
    }
   ],
   "source": [
    "list1 = [0]\n",
    "df3 = df3_init[df3_init.closing_price.isin(list1) == False].reset_index(drop = True)\n",
    "df3"
   ]
  },
  {
   "cell_type": "code",
   "execution_count": 56,
   "id": "ad948bc7",
   "metadata": {},
   "outputs": [],
   "source": [
    "df3['date'] = pd.to_datetime(df3.date)"
   ]
  },
  {
   "cell_type": "code",
   "execution_count": 57,
   "id": "100538ec",
   "metadata": {},
   "outputs": [
    {
     "name": "stdout",
     "output_type": "stream",
     "text": [
      "<class 'pandas.core.frame.DataFrame'>\n",
      "RangeIndex: 219531 entries, 0 to 219530\n",
      "Data columns (total 17 columns):\n",
      " #   Column          Non-Null Count   Dtype         \n",
      "---  ------          --------------   -----         \n",
      " 0   product         219531 non-null  object        \n",
      " 1   variety         219531 non-null  object        \n",
      " 2   class           219531 non-null  object        \n",
      " 3   size            219531 non-null  object        \n",
      " 4   package         219531 non-null  object        \n",
      " 5   unit(kg)        218731 non-null  float64       \n",
      " 6   closing_price   219531 non-null  float64       \n",
      " 7   high_price      219531 non-null  float64       \n",
      " 8   low_price       219531 non-null  float64       \n",
      " 9   average_price   219531 non-null  float64       \n",
      " 10  total_sales     219531 non-null  float64       \n",
      " 11  sales_quantity  219531 non-null  int64         \n",
      " 12  closing_stock   219531 non-null  int64         \n",
      " 13  date            219531 non-null  datetime64[ns]\n",
      " 14  market_name     219531 non-null  object        \n",
      " 15  market_code     219531 non-null  object        \n",
      " 16  market_type     219531 non-null  object        \n",
      "dtypes: datetime64[ns](1), float64(6), int64(2), object(8)\n",
      "memory usage: 28.5+ MB\n"
     ]
    }
   ],
   "source": [
    "df3.info()"
   ]
  },
  {
   "cell_type": "code",
   "execution_count": 58,
   "id": "6eb171c0",
   "metadata": {},
   "outputs": [
    {
     "data": {
      "text/html": [
       "<div>\n",
       "<style scoped>\n",
       "    .dataframe tbody tr th:only-of-type {\n",
       "        vertical-align: middle;\n",
       "    }\n",
       "\n",
       "    .dataframe tbody tr th {\n",
       "        vertical-align: top;\n",
       "    }\n",
       "\n",
       "    .dataframe thead th {\n",
       "        text-align: right;\n",
       "    }\n",
       "</style>\n",
       "<table border=\"1\" class=\"dataframe\">\n",
       "  <thead>\n",
       "    <tr style=\"text-align: right;\">\n",
       "      <th></th>\n",
       "      <th>product</th>\n",
       "      <th>variety</th>\n",
       "      <th>class</th>\n",
       "      <th>size</th>\n",
       "      <th>package</th>\n",
       "      <th>unit(kg)</th>\n",
       "      <th>closing_price</th>\n",
       "      <th>high_price</th>\n",
       "      <th>low_price</th>\n",
       "      <th>average_price</th>\n",
       "      <th>total_sales</th>\n",
       "      <th>sales_quantity</th>\n",
       "      <th>closing_stock</th>\n",
       "      <th>date</th>\n",
       "      <th>market_name</th>\n",
       "      <th>market_code</th>\n",
       "      <th>market_type</th>\n",
       "    </tr>\n",
       "  </thead>\n",
       "  <tbody>\n",
       "  </tbody>\n",
       "</table>\n",
       "</div>"
      ],
      "text/plain": [
       "Empty DataFrame\n",
       "Columns: [product, variety, class, size, package, unit(kg), closing_price, high_price, low_price, average_price, total_sales, sales_quantity, closing_stock, date, market_name, market_code, market_type]\n",
       "Index: []"
      ]
     },
     "execution_count": 58,
     "metadata": {},
     "output_type": "execute_result"
    }
   ],
   "source": [
    "df3[df3['closing_price'] == 0]"
   ]
  },
  {
   "cell_type": "code",
   "execution_count": 59,
   "id": "99cb9bb9",
   "metadata": {
    "scrolled": true
   },
   "outputs": [
    {
     "data": {
      "text/html": [
       "<div>\n",
       "<style scoped>\n",
       "    .dataframe tbody tr th:only-of-type {\n",
       "        vertical-align: middle;\n",
       "    }\n",
       "\n",
       "    .dataframe tbody tr th {\n",
       "        vertical-align: top;\n",
       "    }\n",
       "\n",
       "    .dataframe thead th {\n",
       "        text-align: right;\n",
       "    }\n",
       "</style>\n",
       "<table border=\"1\" class=\"dataframe\">\n",
       "  <thead>\n",
       "    <tr style=\"text-align: right;\">\n",
       "      <th></th>\n",
       "      <th>product</th>\n",
       "      <th>variety</th>\n",
       "      <th>class</th>\n",
       "      <th>size</th>\n",
       "      <th>package</th>\n",
       "      <th>unit(kg)</th>\n",
       "      <th>closing_price</th>\n",
       "      <th>high_price</th>\n",
       "      <th>low_price</th>\n",
       "      <th>average_price</th>\n",
       "      <th>total_sales</th>\n",
       "      <th>sales_quantity</th>\n",
       "      <th>closing_stock</th>\n",
       "      <th>date</th>\n",
       "      <th>market_name</th>\n",
       "      <th>market_code</th>\n",
       "      <th>market_type</th>\n",
       "      <th>series</th>\n",
       "    </tr>\n",
       "  </thead>\n",
       "  <tbody>\n",
       "    <tr>\n",
       "      <th>0</th>\n",
       "      <td>PECAN NUTS</td>\n",
       "      <td>NO VARIETY</td>\n",
       "      <td>NOT GRADED</td>\n",
       "      <td>NO SIZE</td>\n",
       "      <td>PER KILO / POCKET</td>\n",
       "      <td>1.0</td>\n",
       "      <td>40.0</td>\n",
       "      <td>40.0</td>\n",
       "      <td>40.0</td>\n",
       "      <td>40.0</td>\n",
       "      <td>440.0</td>\n",
       "      <td>11</td>\n",
       "      <td>0</td>\n",
       "      <td>2023-05-02</td>\n",
       "      <td>Pietermaritzburg Fresh Produce Market</td>\n",
       "      <td>PIE</td>\n",
       "      <td>Fresh Produce Markets</td>\n",
       "      <td>4</td>\n",
       "    </tr>\n",
       "    <tr>\n",
       "      <th>1</th>\n",
       "      <td>PECAN NUTS</td>\n",
       "      <td>NO VARIETY</td>\n",
       "      <td>NOT GRADED</td>\n",
       "      <td>NO SIZE</td>\n",
       "      <td>PER KILO / POCKET</td>\n",
       "      <td>1.0</td>\n",
       "      <td>40.0</td>\n",
       "      <td>40.0</td>\n",
       "      <td>40.0</td>\n",
       "      <td>40.0</td>\n",
       "      <td>440.0</td>\n",
       "      <td>11</td>\n",
       "      <td>0</td>\n",
       "      <td>2023-05-02</td>\n",
       "      <td>Pietermaritzburg Fresh Produce Market</td>\n",
       "      <td>PIE</td>\n",
       "      <td>Fresh Produce Markets</td>\n",
       "      <td>6</td>\n",
       "    </tr>\n",
       "    <tr>\n",
       "      <th>2</th>\n",
       "      <td>PECAN NUTS</td>\n",
       "      <td>NO VARIETY</td>\n",
       "      <td>NOT GRADED</td>\n",
       "      <td>NO SIZE</td>\n",
       "      <td>PER KILO / POCKET</td>\n",
       "      <td>1.0</td>\n",
       "      <td>45.0</td>\n",
       "      <td>45.0</td>\n",
       "      <td>45.0</td>\n",
       "      <td>45.0</td>\n",
       "      <td>180.0</td>\n",
       "      <td>4</td>\n",
       "      <td>11</td>\n",
       "      <td>2023-04-28</td>\n",
       "      <td>Pietermaritzburg Fresh Produce Market</td>\n",
       "      <td>PIE</td>\n",
       "      <td>Fresh Produce Markets</td>\n",
       "      <td>8</td>\n",
       "    </tr>\n",
       "    <tr>\n",
       "      <th>3</th>\n",
       "      <td>PECAN NUTS</td>\n",
       "      <td>NO VARIETY</td>\n",
       "      <td>NOT GRADED</td>\n",
       "      <td>NO SIZE</td>\n",
       "      <td>PER KILO / POCKET</td>\n",
       "      <td>1.0</td>\n",
       "      <td>50.0</td>\n",
       "      <td>50.0</td>\n",
       "      <td>50.0</td>\n",
       "      <td>50.0</td>\n",
       "      <td>50.0</td>\n",
       "      <td>1</td>\n",
       "      <td>59</td>\n",
       "      <td>2023-04-21</td>\n",
       "      <td>Pietermaritzburg Fresh Produce Market</td>\n",
       "      <td>PIE</td>\n",
       "      <td>Fresh Produce Markets</td>\n",
       "      <td>11</td>\n",
       "    </tr>\n",
       "    <tr>\n",
       "      <th>4</th>\n",
       "      <td>PECAN NUTS</td>\n",
       "      <td>NO VARIETY</td>\n",
       "      <td>NOT GRADED</td>\n",
       "      <td>NO SIZE</td>\n",
       "      <td>PER KILO / POCKET</td>\n",
       "      <td>1.0</td>\n",
       "      <td>50.0</td>\n",
       "      <td>50.0</td>\n",
       "      <td>50.0</td>\n",
       "      <td>50.0</td>\n",
       "      <td>50.0</td>\n",
       "      <td>1</td>\n",
       "      <td>59</td>\n",
       "      <td>2023-04-21</td>\n",
       "      <td>Pietermaritzburg Fresh Produce Market</td>\n",
       "      <td>PIE</td>\n",
       "      <td>Fresh Produce Markets</td>\n",
       "      <td>12</td>\n",
       "    </tr>\n",
       "    <tr>\n",
       "      <th>...</th>\n",
       "      <td>...</td>\n",
       "      <td>...</td>\n",
       "      <td>...</td>\n",
       "      <td>...</td>\n",
       "      <td>...</td>\n",
       "      <td>...</td>\n",
       "      <td>...</td>\n",
       "      <td>...</td>\n",
       "      <td>...</td>\n",
       "      <td>...</td>\n",
       "      <td>...</td>\n",
       "      <td>...</td>\n",
       "      <td>...</td>\n",
       "      <td>...</td>\n",
       "      <td>...</td>\n",
       "      <td>...</td>\n",
       "      <td>...</td>\n",
       "      <td>...</td>\n",
       "    </tr>\n",
       "    <tr>\n",
       "      <th>219526</th>\n",
       "      <td>CELERY</td>\n",
       "      <td>NO VARIETY</td>\n",
       "      <td>NOT GRADED</td>\n",
       "      <td>NO SIZE</td>\n",
       "      <td>BUNCH</td>\n",
       "      <td>0.0</td>\n",
       "      <td>10.0</td>\n",
       "      <td>10.0</td>\n",
       "      <td>10.0</td>\n",
       "      <td>10.0</td>\n",
       "      <td>20.0</td>\n",
       "      <td>2</td>\n",
       "      <td>0</td>\n",
       "      <td>2023-02-17</td>\n",
       "      <td>East London Fresh Produce Market</td>\n",
       "      <td>EAS</td>\n",
       "      <td>Fresh Produce Markets</td>\n",
       "      <td>47</td>\n",
       "    </tr>\n",
       "    <tr>\n",
       "      <th>219527</th>\n",
       "      <td>CELERY</td>\n",
       "      <td>NO VARIETY</td>\n",
       "      <td>NOT GRADED</td>\n",
       "      <td>NO SIZE</td>\n",
       "      <td>PUNNET</td>\n",
       "      <td>0.0</td>\n",
       "      <td>15.0</td>\n",
       "      <td>15.0</td>\n",
       "      <td>15.0</td>\n",
       "      <td>15.0</td>\n",
       "      <td>150.0</td>\n",
       "      <td>10</td>\n",
       "      <td>0</td>\n",
       "      <td>2023-02-16</td>\n",
       "      <td>East London Fresh Produce Market</td>\n",
       "      <td>EAS</td>\n",
       "      <td>Fresh Produce Markets</td>\n",
       "      <td>48</td>\n",
       "    </tr>\n",
       "    <tr>\n",
       "      <th>219528</th>\n",
       "      <td>CELERY</td>\n",
       "      <td>NO VARIETY</td>\n",
       "      <td>NOT GRADED</td>\n",
       "      <td>NO SIZE</td>\n",
       "      <td>BUNCH</td>\n",
       "      <td>0.0</td>\n",
       "      <td>12.0</td>\n",
       "      <td>12.0</td>\n",
       "      <td>12.0</td>\n",
       "      <td>12.0</td>\n",
       "      <td>60.0</td>\n",
       "      <td>5</td>\n",
       "      <td>2</td>\n",
       "      <td>2023-02-16</td>\n",
       "      <td>East London Fresh Produce Market</td>\n",
       "      <td>EAS</td>\n",
       "      <td>Fresh Produce Markets</td>\n",
       "      <td>49</td>\n",
       "    </tr>\n",
       "    <tr>\n",
       "      <th>219529</th>\n",
       "      <td>CELERY</td>\n",
       "      <td>NO VARIETY</td>\n",
       "      <td>NOT GRADED</td>\n",
       "      <td>NO SIZE</td>\n",
       "      <td>PUNNET</td>\n",
       "      <td>0.0</td>\n",
       "      <td>15.0</td>\n",
       "      <td>15.0</td>\n",
       "      <td>15.0</td>\n",
       "      <td>15.0</td>\n",
       "      <td>150.0</td>\n",
       "      <td>10</td>\n",
       "      <td>0</td>\n",
       "      <td>2023-02-16</td>\n",
       "      <td>East London Fresh Produce Market</td>\n",
       "      <td>EAS</td>\n",
       "      <td>Fresh Produce Markets</td>\n",
       "      <td>50</td>\n",
       "    </tr>\n",
       "    <tr>\n",
       "      <th>219530</th>\n",
       "      <td>CELERY</td>\n",
       "      <td>NO VARIETY</td>\n",
       "      <td>NOT GRADED</td>\n",
       "      <td>NO SIZE</td>\n",
       "      <td>BUNCH</td>\n",
       "      <td>0.0</td>\n",
       "      <td>12.0</td>\n",
       "      <td>12.0</td>\n",
       "      <td>12.0</td>\n",
       "      <td>12.0</td>\n",
       "      <td>60.0</td>\n",
       "      <td>5</td>\n",
       "      <td>2</td>\n",
       "      <td>2023-02-16</td>\n",
       "      <td>East London Fresh Produce Market</td>\n",
       "      <td>EAS</td>\n",
       "      <td>Fresh Produce Markets</td>\n",
       "      <td>51</td>\n",
       "    </tr>\n",
       "  </tbody>\n",
       "</table>\n",
       "<p>219531 rows × 18 columns</p>\n",
       "</div>"
      ],
      "text/plain": [
       "            product     variety       class     size            package  \\\n",
       "0        PECAN NUTS  NO VARIETY  NOT GRADED  NO SIZE  PER KILO / POCKET   \n",
       "1        PECAN NUTS  NO VARIETY  NOT GRADED  NO SIZE  PER KILO / POCKET   \n",
       "2        PECAN NUTS  NO VARIETY  NOT GRADED  NO SIZE  PER KILO / POCKET   \n",
       "3        PECAN NUTS  NO VARIETY  NOT GRADED  NO SIZE  PER KILO / POCKET   \n",
       "4        PECAN NUTS  NO VARIETY  NOT GRADED  NO SIZE  PER KILO / POCKET   \n",
       "...             ...         ...         ...      ...                ...   \n",
       "219526       CELERY  NO VARIETY  NOT GRADED  NO SIZE              BUNCH   \n",
       "219527       CELERY  NO VARIETY  NOT GRADED  NO SIZE             PUNNET   \n",
       "219528       CELERY  NO VARIETY  NOT GRADED  NO SIZE              BUNCH   \n",
       "219529       CELERY  NO VARIETY  NOT GRADED  NO SIZE             PUNNET   \n",
       "219530       CELERY  NO VARIETY  NOT GRADED  NO SIZE              BUNCH   \n",
       "\n",
       "        unit(kg)  closing_price  high_price  low_price  average_price  \\\n",
       "0            1.0           40.0        40.0       40.0           40.0   \n",
       "1            1.0           40.0        40.0       40.0           40.0   \n",
       "2            1.0           45.0        45.0       45.0           45.0   \n",
       "3            1.0           50.0        50.0       50.0           50.0   \n",
       "4            1.0           50.0        50.0       50.0           50.0   \n",
       "...          ...            ...         ...        ...            ...   \n",
       "219526       0.0           10.0        10.0       10.0           10.0   \n",
       "219527       0.0           15.0        15.0       15.0           15.0   \n",
       "219528       0.0           12.0        12.0       12.0           12.0   \n",
       "219529       0.0           15.0        15.0       15.0           15.0   \n",
       "219530       0.0           12.0        12.0       12.0           12.0   \n",
       "\n",
       "        total_sales  sales_quantity  closing_stock       date  \\\n",
       "0             440.0              11              0 2023-05-02   \n",
       "1             440.0              11              0 2023-05-02   \n",
       "2             180.0               4             11 2023-04-28   \n",
       "3              50.0               1             59 2023-04-21   \n",
       "4              50.0               1             59 2023-04-21   \n",
       "...             ...             ...            ...        ...   \n",
       "219526         20.0               2              0 2023-02-17   \n",
       "219527        150.0              10              0 2023-02-16   \n",
       "219528         60.0               5              2 2023-02-16   \n",
       "219529        150.0              10              0 2023-02-16   \n",
       "219530         60.0               5              2 2023-02-16   \n",
       "\n",
       "                                  market_name market_code  \\\n",
       "0       Pietermaritzburg Fresh Produce Market         PIE   \n",
       "1       Pietermaritzburg Fresh Produce Market         PIE   \n",
       "2       Pietermaritzburg Fresh Produce Market         PIE   \n",
       "3       Pietermaritzburg Fresh Produce Market         PIE   \n",
       "4       Pietermaritzburg Fresh Produce Market         PIE   \n",
       "...                                       ...         ...   \n",
       "219526       East London Fresh Produce Market         EAS   \n",
       "219527       East London Fresh Produce Market         EAS   \n",
       "219528       East London Fresh Produce Market         EAS   \n",
       "219529       East London Fresh Produce Market         EAS   \n",
       "219530       East London Fresh Produce Market         EAS   \n",
       "\n",
       "                  market_type series  \n",
       "0       Fresh Produce Markets      4  \n",
       "1       Fresh Produce Markets      6  \n",
       "2       Fresh Produce Markets      8  \n",
       "3       Fresh Produce Markets     11  \n",
       "4       Fresh Produce Markets     12  \n",
       "...                       ...    ...  \n",
       "219526  Fresh Produce Markets     47  \n",
       "219527  Fresh Produce Markets     48  \n",
       "219528  Fresh Produce Markets     49  \n",
       "219529  Fresh Produce Markets     50  \n",
       "219530  Fresh Produce Markets     51  \n",
       "\n",
       "[219531 rows x 18 columns]"
      ]
     },
     "execution_count": 59,
     "metadata": {},
     "output_type": "execute_result"
    }
   ],
   "source": [
    "df3[['series', 'product']] = df3['product'].str.split('.', expand=True)\n",
    "df3"
   ]
  },
  {
   "cell_type": "code",
   "execution_count": 60,
   "id": "507c21e0",
   "metadata": {},
   "outputs": [
    {
     "data": {
      "text/html": [
       "<div>\n",
       "<style scoped>\n",
       "    .dataframe tbody tr th:only-of-type {\n",
       "        vertical-align: middle;\n",
       "    }\n",
       "\n",
       "    .dataframe tbody tr th {\n",
       "        vertical-align: top;\n",
       "    }\n",
       "\n",
       "    .dataframe thead th {\n",
       "        text-align: right;\n",
       "    }\n",
       "</style>\n",
       "<table border=\"1\" class=\"dataframe\">\n",
       "  <thead>\n",
       "    <tr style=\"text-align: right;\">\n",
       "      <th></th>\n",
       "      <th>product</th>\n",
       "      <th>variety</th>\n",
       "      <th>class</th>\n",
       "      <th>size</th>\n",
       "      <th>package</th>\n",
       "      <th>unit(kg)</th>\n",
       "      <th>closing_price</th>\n",
       "      <th>high_price</th>\n",
       "      <th>low_price</th>\n",
       "      <th>average_price</th>\n",
       "      <th>total_sales</th>\n",
       "      <th>sales_quantity</th>\n",
       "      <th>closing_stock</th>\n",
       "      <th>date</th>\n",
       "      <th>market_name</th>\n",
       "      <th>market_code</th>\n",
       "      <th>market_type</th>\n",
       "      <th>series</th>\n",
       "    </tr>\n",
       "  </thead>\n",
       "  <tbody>\n",
       "    <tr>\n",
       "      <th>0</th>\n",
       "      <td>PECAN NUTS</td>\n",
       "      <td>NO VARIETY</td>\n",
       "      <td>NOT GRADED</td>\n",
       "      <td>NO SIZE</td>\n",
       "      <td>PER KILO / POCKET</td>\n",
       "      <td>1.0</td>\n",
       "      <td>40.0</td>\n",
       "      <td>40.0</td>\n",
       "      <td>40.0</td>\n",
       "      <td>40.0</td>\n",
       "      <td>440.0</td>\n",
       "      <td>11</td>\n",
       "      <td>0</td>\n",
       "      <td>2023-05-02</td>\n",
       "      <td>Pietermaritzburg Fresh Produce Market</td>\n",
       "      <td>PIE</td>\n",
       "      <td>Fresh Produce Markets</td>\n",
       "      <td>4</td>\n",
       "    </tr>\n",
       "    <tr>\n",
       "      <th>1</th>\n",
       "      <td>PECAN NUTS</td>\n",
       "      <td>NO VARIETY</td>\n",
       "      <td>NOT GRADED</td>\n",
       "      <td>NO SIZE</td>\n",
       "      <td>PER KILO / POCKET</td>\n",
       "      <td>1.0</td>\n",
       "      <td>40.0</td>\n",
       "      <td>40.0</td>\n",
       "      <td>40.0</td>\n",
       "      <td>40.0</td>\n",
       "      <td>440.0</td>\n",
       "      <td>11</td>\n",
       "      <td>0</td>\n",
       "      <td>2023-05-02</td>\n",
       "      <td>Pietermaritzburg Fresh Produce Market</td>\n",
       "      <td>PIE</td>\n",
       "      <td>Fresh Produce Markets</td>\n",
       "      <td>6</td>\n",
       "    </tr>\n",
       "    <tr>\n",
       "      <th>2</th>\n",
       "      <td>PECAN NUTS</td>\n",
       "      <td>NO VARIETY</td>\n",
       "      <td>NOT GRADED</td>\n",
       "      <td>NO SIZE</td>\n",
       "      <td>PER KILO / POCKET</td>\n",
       "      <td>1.0</td>\n",
       "      <td>45.0</td>\n",
       "      <td>45.0</td>\n",
       "      <td>45.0</td>\n",
       "      <td>45.0</td>\n",
       "      <td>180.0</td>\n",
       "      <td>4</td>\n",
       "      <td>11</td>\n",
       "      <td>2023-04-28</td>\n",
       "      <td>Pietermaritzburg Fresh Produce Market</td>\n",
       "      <td>PIE</td>\n",
       "      <td>Fresh Produce Markets</td>\n",
       "      <td>8</td>\n",
       "    </tr>\n",
       "    <tr>\n",
       "      <th>3</th>\n",
       "      <td>PECAN NUTS</td>\n",
       "      <td>NO VARIETY</td>\n",
       "      <td>NOT GRADED</td>\n",
       "      <td>NO SIZE</td>\n",
       "      <td>PER KILO / POCKET</td>\n",
       "      <td>1.0</td>\n",
       "      <td>50.0</td>\n",
       "      <td>50.0</td>\n",
       "      <td>50.0</td>\n",
       "      <td>50.0</td>\n",
       "      <td>50.0</td>\n",
       "      <td>1</td>\n",
       "      <td>59</td>\n",
       "      <td>2023-04-21</td>\n",
       "      <td>Pietermaritzburg Fresh Produce Market</td>\n",
       "      <td>PIE</td>\n",
       "      <td>Fresh Produce Markets</td>\n",
       "      <td>11</td>\n",
       "    </tr>\n",
       "    <tr>\n",
       "      <th>4</th>\n",
       "      <td>PECAN NUTS</td>\n",
       "      <td>NO VARIETY</td>\n",
       "      <td>NOT GRADED</td>\n",
       "      <td>NO SIZE</td>\n",
       "      <td>PER KILO / POCKET</td>\n",
       "      <td>1.0</td>\n",
       "      <td>50.0</td>\n",
       "      <td>50.0</td>\n",
       "      <td>50.0</td>\n",
       "      <td>50.0</td>\n",
       "      <td>50.0</td>\n",
       "      <td>1</td>\n",
       "      <td>59</td>\n",
       "      <td>2023-04-21</td>\n",
       "      <td>Pietermaritzburg Fresh Produce Market</td>\n",
       "      <td>PIE</td>\n",
       "      <td>Fresh Produce Markets</td>\n",
       "      <td>12</td>\n",
       "    </tr>\n",
       "    <tr>\n",
       "      <th>...</th>\n",
       "      <td>...</td>\n",
       "      <td>...</td>\n",
       "      <td>...</td>\n",
       "      <td>...</td>\n",
       "      <td>...</td>\n",
       "      <td>...</td>\n",
       "      <td>...</td>\n",
       "      <td>...</td>\n",
       "      <td>...</td>\n",
       "      <td>...</td>\n",
       "      <td>...</td>\n",
       "      <td>...</td>\n",
       "      <td>...</td>\n",
       "      <td>...</td>\n",
       "      <td>...</td>\n",
       "      <td>...</td>\n",
       "      <td>...</td>\n",
       "      <td>...</td>\n",
       "    </tr>\n",
       "    <tr>\n",
       "      <th>219526</th>\n",
       "      <td>CELERY</td>\n",
       "      <td>NO VARIETY</td>\n",
       "      <td>NOT GRADED</td>\n",
       "      <td>NO SIZE</td>\n",
       "      <td>BUNCH</td>\n",
       "      <td>0.0</td>\n",
       "      <td>10.0</td>\n",
       "      <td>10.0</td>\n",
       "      <td>10.0</td>\n",
       "      <td>10.0</td>\n",
       "      <td>20.0</td>\n",
       "      <td>2</td>\n",
       "      <td>0</td>\n",
       "      <td>2023-02-17</td>\n",
       "      <td>East London Fresh Produce Market</td>\n",
       "      <td>EAS</td>\n",
       "      <td>Fresh Produce Markets</td>\n",
       "      <td>47</td>\n",
       "    </tr>\n",
       "    <tr>\n",
       "      <th>219527</th>\n",
       "      <td>CELERY</td>\n",
       "      <td>NO VARIETY</td>\n",
       "      <td>NOT GRADED</td>\n",
       "      <td>NO SIZE</td>\n",
       "      <td>PUNNET</td>\n",
       "      <td>0.0</td>\n",
       "      <td>15.0</td>\n",
       "      <td>15.0</td>\n",
       "      <td>15.0</td>\n",
       "      <td>15.0</td>\n",
       "      <td>150.0</td>\n",
       "      <td>10</td>\n",
       "      <td>0</td>\n",
       "      <td>2023-02-16</td>\n",
       "      <td>East London Fresh Produce Market</td>\n",
       "      <td>EAS</td>\n",
       "      <td>Fresh Produce Markets</td>\n",
       "      <td>48</td>\n",
       "    </tr>\n",
       "    <tr>\n",
       "      <th>219528</th>\n",
       "      <td>CELERY</td>\n",
       "      <td>NO VARIETY</td>\n",
       "      <td>NOT GRADED</td>\n",
       "      <td>NO SIZE</td>\n",
       "      <td>BUNCH</td>\n",
       "      <td>0.0</td>\n",
       "      <td>12.0</td>\n",
       "      <td>12.0</td>\n",
       "      <td>12.0</td>\n",
       "      <td>12.0</td>\n",
       "      <td>60.0</td>\n",
       "      <td>5</td>\n",
       "      <td>2</td>\n",
       "      <td>2023-02-16</td>\n",
       "      <td>East London Fresh Produce Market</td>\n",
       "      <td>EAS</td>\n",
       "      <td>Fresh Produce Markets</td>\n",
       "      <td>49</td>\n",
       "    </tr>\n",
       "    <tr>\n",
       "      <th>219529</th>\n",
       "      <td>CELERY</td>\n",
       "      <td>NO VARIETY</td>\n",
       "      <td>NOT GRADED</td>\n",
       "      <td>NO SIZE</td>\n",
       "      <td>PUNNET</td>\n",
       "      <td>0.0</td>\n",
       "      <td>15.0</td>\n",
       "      <td>15.0</td>\n",
       "      <td>15.0</td>\n",
       "      <td>15.0</td>\n",
       "      <td>150.0</td>\n",
       "      <td>10</td>\n",
       "      <td>0</td>\n",
       "      <td>2023-02-16</td>\n",
       "      <td>East London Fresh Produce Market</td>\n",
       "      <td>EAS</td>\n",
       "      <td>Fresh Produce Markets</td>\n",
       "      <td>50</td>\n",
       "    </tr>\n",
       "    <tr>\n",
       "      <th>219530</th>\n",
       "      <td>CELERY</td>\n",
       "      <td>NO VARIETY</td>\n",
       "      <td>NOT GRADED</td>\n",
       "      <td>NO SIZE</td>\n",
       "      <td>BUNCH</td>\n",
       "      <td>0.0</td>\n",
       "      <td>12.0</td>\n",
       "      <td>12.0</td>\n",
       "      <td>12.0</td>\n",
       "      <td>12.0</td>\n",
       "      <td>60.0</td>\n",
       "      <td>5</td>\n",
       "      <td>2</td>\n",
       "      <td>2023-02-16</td>\n",
       "      <td>East London Fresh Produce Market</td>\n",
       "      <td>EAS</td>\n",
       "      <td>Fresh Produce Markets</td>\n",
       "      <td>51</td>\n",
       "    </tr>\n",
       "  </tbody>\n",
       "</table>\n",
       "<p>219531 rows × 18 columns</p>\n",
       "</div>"
      ],
      "text/plain": [
       "            product     variety       class     size            package  \\\n",
       "0        PECAN NUTS  NO VARIETY  NOT GRADED  NO SIZE  PER KILO / POCKET   \n",
       "1        PECAN NUTS  NO VARIETY  NOT GRADED  NO SIZE  PER KILO / POCKET   \n",
       "2        PECAN NUTS  NO VARIETY  NOT GRADED  NO SIZE  PER KILO / POCKET   \n",
       "3        PECAN NUTS  NO VARIETY  NOT GRADED  NO SIZE  PER KILO / POCKET   \n",
       "4        PECAN NUTS  NO VARIETY  NOT GRADED  NO SIZE  PER KILO / POCKET   \n",
       "...             ...         ...         ...      ...                ...   \n",
       "219526       CELERY  NO VARIETY  NOT GRADED  NO SIZE              BUNCH   \n",
       "219527       CELERY  NO VARIETY  NOT GRADED  NO SIZE             PUNNET   \n",
       "219528       CELERY  NO VARIETY  NOT GRADED  NO SIZE              BUNCH   \n",
       "219529       CELERY  NO VARIETY  NOT GRADED  NO SIZE             PUNNET   \n",
       "219530       CELERY  NO VARIETY  NOT GRADED  NO SIZE              BUNCH   \n",
       "\n",
       "        unit(kg)  closing_price  high_price  low_price  average_price  \\\n",
       "0            1.0           40.0        40.0       40.0           40.0   \n",
       "1            1.0           40.0        40.0       40.0           40.0   \n",
       "2            1.0           45.0        45.0       45.0           45.0   \n",
       "3            1.0           50.0        50.0       50.0           50.0   \n",
       "4            1.0           50.0        50.0       50.0           50.0   \n",
       "...          ...            ...         ...        ...            ...   \n",
       "219526       0.0           10.0        10.0       10.0           10.0   \n",
       "219527       0.0           15.0        15.0       15.0           15.0   \n",
       "219528       0.0           12.0        12.0       12.0           12.0   \n",
       "219529       0.0           15.0        15.0       15.0           15.0   \n",
       "219530       0.0           12.0        12.0       12.0           12.0   \n",
       "\n",
       "        total_sales  sales_quantity  closing_stock       date  \\\n",
       "0             440.0              11              0 2023-05-02   \n",
       "1             440.0              11              0 2023-05-02   \n",
       "2             180.0               4             11 2023-04-28   \n",
       "3              50.0               1             59 2023-04-21   \n",
       "4              50.0               1             59 2023-04-21   \n",
       "...             ...             ...            ...        ...   \n",
       "219526         20.0               2              0 2023-02-17   \n",
       "219527        150.0              10              0 2023-02-16   \n",
       "219528         60.0               5              2 2023-02-16   \n",
       "219529        150.0              10              0 2023-02-16   \n",
       "219530         60.0               5              2 2023-02-16   \n",
       "\n",
       "                                  market_name market_code  \\\n",
       "0       Pietermaritzburg Fresh Produce Market         PIE   \n",
       "1       Pietermaritzburg Fresh Produce Market         PIE   \n",
       "2       Pietermaritzburg Fresh Produce Market         PIE   \n",
       "3       Pietermaritzburg Fresh Produce Market         PIE   \n",
       "4       Pietermaritzburg Fresh Produce Market         PIE   \n",
       "...                                       ...         ...   \n",
       "219526       East London Fresh Produce Market         EAS   \n",
       "219527       East London Fresh Produce Market         EAS   \n",
       "219528       East London Fresh Produce Market         EAS   \n",
       "219529       East London Fresh Produce Market         EAS   \n",
       "219530       East London Fresh Produce Market         EAS   \n",
       "\n",
       "                  market_type series  \n",
       "0       Fresh Produce Markets      4  \n",
       "1       Fresh Produce Markets      6  \n",
       "2       Fresh Produce Markets      8  \n",
       "3       Fresh Produce Markets     11  \n",
       "4       Fresh Produce Markets     12  \n",
       "...                       ...    ...  \n",
       "219526  Fresh Produce Markets     47  \n",
       "219527  Fresh Produce Markets     48  \n",
       "219528  Fresh Produce Markets     49  \n",
       "219529  Fresh Produce Markets     50  \n",
       "219530  Fresh Produce Markets     51  \n",
       "\n",
       "[219531 rows x 18 columns]"
      ]
     },
     "execution_count": 60,
     "metadata": {},
     "output_type": "execute_result"
    }
   ],
   "source": [
    "df3['product'].str.replace(' ', '')\n",
    "df3"
   ]
  },
  {
   "cell_type": "code",
   "execution_count": 61,
   "id": "f0b139ac",
   "metadata": {},
   "outputs": [
    {
     "data": {
      "text/plain": [
       "array([' PECAN NUTS', ' BROCOLLI', ' AMADUMBE', ' BUTTERNUT SQUASHES',\n",
       "       ' OTHER BERRIES', ' BABY MARROWS', ' GREEN BEANS', ' TOMATOES',\n",
       "       ' GEM SQUASHES', ' GRANADILLAS', ' THYME', ' GREEN MEALIES',\n",
       "       ' BANANAS', ' OTHER', ' CABBAGE', ' BUTTER LETTUCE', ' PEARS',\n",
       "       ' APRICOTS', ' MANGOS', ' SOU-SOU (CHAYOTE)', ' DRIED BEANS',\n",
       "       ' PRUNES', ' CHILLIES', ' NAARTJIES (MANDARINS)', ' MUSHROOMS',\n",
       "       ' CHINESE GREENS', ' POTATOES - WASHED', ' DRIED FRUITS',\n",
       "       ' RASPBERRY', ' MARROWS', ' AVOCADOS', ' ENGLISH CUCUMBERS',\n",
       "       ' SPINACH', ' LETTUCE', ' COCKTAIL TOMATOES', ' RADISHES',\n",
       "       ' METIBALJI', ' ONIONS', ' CAULIFLOWER', ' PLUMS', ' PINEAPPLES',\n",
       "       ' CELERY', ' OCRA', ' PUMKINS', ' APPLES', ' CORIANDER', ' LIMES',\n",
       "       ' SPEARMINT', ' EXOTIC CITRUS', ' GRAPEFRUIT', ' WATERMELONS',\n",
       "       ' CALABASHES', ' PICKLE ONION', ' FLOWERS', ' SWEETCORN',\n",
       "       ' KIWI FRUIT', ' PEACHES', ' BEETROOTS', ' BRINJALS/EGGS PLANT',\n",
       "       ' PAPAYAS', ' PAWPAW/PAPINOS', ' LEMONS', ' STRAWBERIES',\n",
       "       ' GARLIC', ' PEPPERS', ' CARROTS', ' ORANGES', ' TURNIPS',\n",
       "       ' GRAPES', ' ALMONDS', ' BROCOLLI LEAVES', ' SWEET MELONS',\n",
       "       ' CUSTARD APPLES', ' PANTRA LEAVES', ' FENEL', ' FENNEL/ANYS',\n",
       "       ' SWEET POTATOES', ' BRUSSEL SPROUTS', ' LEEKS', ' QUINCES',\n",
       "       ' MARANKAS', ' CHINESE CABBAGE', ' YOUNG BERRIES', ' NECTARINES',\n",
       "       ' GOOSEBERRIES', ' ARTICHOKES', ' COCKTAIL AVOCADOS', ' CHERRIES',\n",
       "       ' PRICKLY PEARS', ' GREEN ONIONS', ' LITCHIS', ' POMEGRANATES',\n",
       "       ' WATERCREST', ' MUSKMELONS', ' CHESTNUTS', ' PERSIMMONS',\n",
       "       ' COCONUTS', ' RHUBARB', ' HORSE RADISH', ' KUMQUATS', ' BASIL',\n",
       "       ' KOHLRABI', ' FIGS', ' OREGANO', ' CUCUMBERS', ' GUAVAS',\n",
       "       ' PARSLEY', ' SUGAR CANE', ' FISH', ' VIS', ' SPRING ONIONS',\n",
       "       ' GREEN PEAS', ' PARSNIPS', ' SHALLOTS', ' MAKATAAN', ' POT PLANT',\n",
       "       ' JACK FRUIT', ' OTHER NUTS', ' VALUE SALAD', ' BROAD BEANS',\n",
       "       ' CALIFORNIA SALAD', ' RED CABBAGE', ' OLIVES', ' MACADAMIA NUTS',\n",
       "       ' GUAVANDILLA', ' ENDIVE'], dtype=object)"
      ]
     },
     "execution_count": 61,
     "metadata": {},
     "output_type": "execute_result"
    }
   ],
   "source": [
    "list1 = df3['product'].unique()\n",
    "list1"
   ]
  },
  {
   "cell_type": "code",
   "execution_count": 62,
   "id": "077e52dc",
   "metadata": {
    "scrolled": true
   },
   "outputs": [
    {
     "data": {
      "text/plain": [
       "array(['Pietermaritzburg Fresh Produce Market',\n",
       "       'Nelspruit Fresh Produce Market', 'Tshwane Fresh Produce Market',\n",
       "       'George Fresh Produce Market',\n",
       "       'Bloemfontein (Mangaung) Fresh Produce Market',\n",
       "       'Cape Town Fresh Produce Market', 'Durban Fresh Produce Market',\n",
       "       'Kimberley (Sol Plaatje) Fresh Produce Market',\n",
       "       'East London Fresh Produce Market',\n",
       "       'Welkom (Matjhabeng) Fresh Produce Market',\n",
       "       'Mthatha (Kei) Fresh Produce Market',\n",
       "       'Johannesburg Fresh Produce Market',\n",
       "       'Klerksdorp Fresh Produce Market',\n",
       "       'Vereeniging Fresh Produce Market', 'Springs Fresh Produce Market',\n",
       "       'Port Elizabeth Fresh Produce Market',\n",
       "       'Mpumalanga Fresh Produce Market', 'Witbank Fresh Produce Market'],\n",
       "      dtype=object)"
      ]
     },
     "execution_count": 62,
     "metadata": {},
     "output_type": "execute_result"
    }
   ],
   "source": [
    "df3.market_name.unique()"
   ]
  },
  {
   "cell_type": "code",
   "execution_count": 63,
   "id": "337b4b18",
   "metadata": {},
   "outputs": [
    {
     "data": {
      "text/plain": [
       "array([' PECAN NUTS', ' BROCOLLI', ' AMADUMBE', ' BUTTERNUT SQUASHES',\n",
       "       ' OTHER BERRIES', ' BABY MARROWS', ' GREEN BEANS', ' TOMATOES',\n",
       "       ' GEM SQUASHES', ' GRANADILLAS', ' THYME', ' GREEN MEALIES',\n",
       "       ' BANANAS', ' OTHER', ' CABBAGE', ' BUTTER LETTUCE', ' PEARS',\n",
       "       ' APRICOTS', ' MANGOS', ' SOU-SOU (CHAYOTE)', ' DRIED BEANS',\n",
       "       ' PRUNES', ' CHILLIES', ' NAARTJIES (MANDARINS)', ' MUSHROOMS',\n",
       "       ' CHINESE GREENS', ' POTATOES - WASHED', ' DRIED FRUITS',\n",
       "       ' RASPBERRY', ' MARROWS', ' AVOCADOS', ' ENGLISH CUCUMBERS',\n",
       "       ' SPINACH', ' LETTUCE', ' COCKTAIL TOMATOES', ' RADISHES',\n",
       "       ' METIBALJI', ' ONIONS', ' CAULIFLOWER', ' PLUMS', ' PINEAPPLES',\n",
       "       ' CELERY', ' OCRA', ' PUMKINS', ' APPLES', ' CORIANDER', ' LIMES',\n",
       "       ' SPEARMINT', ' EXOTIC CITRUS', ' GRAPEFRUIT', ' WATERMELONS',\n",
       "       ' CALABASHES', ' PICKLE ONION', ' FLOWERS', ' SWEETCORN',\n",
       "       ' KIWI FRUIT', ' PEACHES', ' BEETROOTS', ' BRINJALS/EGGS PLANT',\n",
       "       ' PAPAYAS', ' PAWPAW/PAPINOS', ' LEMONS', ' STRAWBERIES',\n",
       "       ' GARLIC', ' PEPPERS', ' CARROTS', ' ORANGES', ' TURNIPS',\n",
       "       ' GRAPES', ' ALMONDS', ' BROCOLLI LEAVES', ' SWEET MELONS',\n",
       "       ' CUSTARD APPLES', ' PANTRA LEAVES', ' FENEL', ' FENNEL/ANYS',\n",
       "       ' SWEET POTATOES', ' BRUSSEL SPROUTS', ' LEEKS', ' QUINCES',\n",
       "       ' MARANKAS', ' CHINESE CABBAGE', ' YOUNG BERRIES', ' NECTARINES',\n",
       "       ' GOOSEBERRIES', ' ARTICHOKES', ' COCKTAIL AVOCADOS', ' CHERRIES',\n",
       "       ' PRICKLY PEARS', ' GREEN ONIONS', ' LITCHIS', ' POMEGRANATES',\n",
       "       ' WATERCREST', ' MUSKMELONS', ' CHESTNUTS', ' PERSIMMONS',\n",
       "       ' COCONUTS', ' RHUBARB', ' HORSE RADISH', ' KUMQUATS', ' BASIL',\n",
       "       ' KOHLRABI', ' FIGS', ' OREGANO', ' CUCUMBERS', ' GUAVAS',\n",
       "       ' PARSLEY', ' SUGAR CANE', ' FISH', ' VIS', ' SPRING ONIONS',\n",
       "       ' GREEN PEAS', ' PARSNIPS', ' SHALLOTS', ' MAKATAAN', ' POT PLANT',\n",
       "       ' JACK FRUIT', ' OTHER NUTS', ' VALUE SALAD', ' BROAD BEANS',\n",
       "       ' CALIFORNIA SALAD', ' RED CABBAGE', ' OLIVES', ' MACADAMIA NUTS',\n",
       "       ' GUAVANDILLA', ' ENDIVE'], dtype=object)"
      ]
     },
     "execution_count": 63,
     "metadata": {},
     "output_type": "execute_result"
    }
   ],
   "source": [
    "list1 = df3['product'].unique()\n",
    "list1\n"
   ]
  },
  {
   "cell_type": "code",
   "execution_count": 64,
   "id": "cf9a1393",
   "metadata": {},
   "outputs": [
    {
     "data": {
      "text/plain": [
       "array(['NO VARIETY', 'OTHER GREEN BEANS', 'RED', 'JAM TOMATOES',\n",
       "       'LONGLIFE', 'OTHER TOMATOES', 'FINGERS (SINGLE)', 'HANDS',\n",
       "       'LOWER GRADE BANANAS', 'FORELLE', \"PACKHAM'S TRIUMPH\",\n",
       "       'OTHER PEARS', 'ROSEMARIE', 'BEURRE CLAIRGEAU',\n",
       "       'BARTLETT / BON CHRETIEN', 'ABATE FETEL', 'OTHER', 'KENT',\n",
       "       'OTHER VARIETIES', 'KEITT', 'LONG GREEN', 'GREEN', 'HERMES',\n",
       "       'MONDIAL', 'NICOLA', 'UP-TO-DATE', 'SERENADE', 'HERTHA',\n",
       "       'VANDERPLANK', 'HASS', 'OSMERIAS', 'PINKERTON', 'FUERTE', 'MAHA',\n",
       "       'OTHER LETTUCE', 'MIX', 'GREEN CURLY', 'BROWN',\n",
       "       'OTHER (PLEASE USE 1)', 'WHITE', 'ANGELINO', 'HARRY PICKSTONE',\n",
       "       'ELDORADO', 'RED BEAUT', 'LAETITIA', 'METHLEY', 'SANTA ROSA',\n",
       "       'SONGOLD', 'RUBY NEL', 'SOUVENIR', 'CELEBRATION', 'GAVIOTA',\n",
       "       'LADY RED', 'SAPPHIRE', 'QUEEN VICTORIA', 'CROWN PRINCE',\n",
       "       'OTHER PUMPKINS', 'BRAEBURN', 'CRIPPS PINK', 'FUJI', 'GALA',\n",
       "       'GOLDEN DELICIOUS', 'GRANNY SMITH', 'OTHER APPLES', 'ROYAL BEAUT',\n",
       "       'ROYAL GALA', 'STARKING', 'TOP RED', 'AFRICAN RED/CARMINE',\n",
       "       'EARLY RED ONE', 'SUNDOWNER', 'PANORAMA GOLDEN', 'CRIPPS RED',\n",
       "       'YORK IMPERIAL', 'NOVAS', 'SATSUMAS', 'MARSH', 'EERSTE GOUD',\n",
       "       'KIESIE', 'SUNSET', 'FAIRTIME', 'HONEYBLUSH', 'FREESTONE OTHER',\n",
       "       'SANDVLIET', 'OTHER BRINJALS', 'LOCAL', 'YELLOW', 'NAVEL / OTHER',\n",
       "       'ALPHONSE LAVALLEE', 'MUSCAT', 'SUNRED SEEDLESS LATE HARVEST',\n",
       "       'PRIME SEEDLESS', 'RED GLOBE', 'BARLINKA', 'CRIMSON SEEDLESS',\n",
       "       'RONELLE', 'OTHER BLACK', 'WHITE SEEDLESS', 'BLACK GEM',\n",
       "       'BLACK EMPEROR', 'BONHEUR', 'ITALIA', 'EDRANOL', 'RYAN',\n",
       "       'ETTINGER', 'RINTON', 'REED', 'LAMB HASS', 'CLEMENTINES',\n",
       "       'BEURRE BOSCH', 'BEURRE DIEL', 'BEURRE HARDY', 'BEURRE SUPERFIN',\n",
       "       'CLAPPS FAVOURITE', 'OTHER PEACHES', 'CLOCOLAN', 'CULEMBORG',\n",
       "       'GOLDEN AMBER', 'SAN PEDRO', 'OOM SAREL', 'ORION', 'LADY WEST',\n",
       "       'SUNKISS', 'PIONEER', 'KELSEY', 'SATSUMA', 'GOLDEN KING',\n",
       "       'RED GOLD', 'RED ACE', 'CASSELMAN', 'OTHER CHILLIES', 'BEANS TOOR',\n",
       "       'QUEENLAND BLUE', 'ALMERIA', 'BIEN DONNE', 'DAUPHINE',\n",
       "       'LA ROCHELLE', 'WHALTHAM CROSS', 'REGAL SEEDLESS',\n",
       "       'FLAME SEEDLESS', 'WHITE HANNEPOOT (DONT USE)',\n",
       "       'QUEEN OF THE VINEYARD', 'THOMPSON SEEDLESS', 'DAN BEN HANNAH',\n",
       "       'OTHER WHITE VARIETIES', 'SUGRAONE', 'NEW CROSS', 'RED EMPEROR',\n",
       "       'DATAL', 'SMOOTH CAYENNE', 'FIESTA RED', \"MARGARET'S PRIDE\",\n",
       "       'INDEPENDENCE', 'SUNLITE', 'FLAVORTOP', 'MAYGLO', 'FLAVORINE',\n",
       "       'FLAMEKIST', 'NECTARED 9', 'FANTASIA', 'HRA KING', 'ZAIGINA',\n",
       "       'ARMKING', 'RED JEWEL', 'ZEEGLO', 'MILD', 'VALENCIAS',\n",
       "       'BLACK BIGAREAU', 'BING', 'BLACK TARTATIAN', 'STELLA', 'INOVA',\n",
       "       'PENTLAND DELL', 'RONN', 'MNANDI', 'LADY ROSETTA', 'DARIUS',\n",
       "       'WHITE/GREEN', 'HEIDI', 'SENSATION', 'TOMMY ATKINS', 'SABRE',\n",
       "       'ROSA', 'PEACH', 'ATCHAR', 'JOA', \"MCLEAN'S RED / MANDRAS\",\n",
       "       'KWAI MAY PINK', 'MAURITIUS', 'THIRD MONTH RED', 'SALATHIEL',\n",
       "       'STAR RUBY', 'ROSE', 'POMPELMOES', 'PINK LADY', 'ROME BEAUTY',\n",
       "       'STAR KRIMSON', 'RED DELICIOUS', 'IMPORTED', 'PURPLE', 'BLACK',\n",
       "       'ORANGE', 'OTHER FIGS', 'RIPE', 'No Variety', 'ITALIAN PARSLEY',\n",
       "       'OTHER PARSLEY', 'BLUSHED GOLDEN', 'EARLY GRANDE', 'DESSERT GOLD',\n",
       "       'MINNEOLAS', 'NECTAR', 'WAI CHEE', 'MIDNIGHTS', 'DRY', 'SIMMONS',\n",
       "       'DESSERT PEARL', 'BONNIGOLD', 'NOVADONNA', 'CINDERELLA', 'RHODES',\n",
       "       'CLINGSTONE', 'VICTORIA', 'SELADET', 'ALPINE', 'BUFFELSPOORT',\n",
       "       'CAREN', 'HADEN', 'ZILL', 'DEPR', 'DOYEN DU COMICE',\n",
       "       'PICKLED ONIONS - WHITE', 'ITZAMNA', 'IMPERIAL', 'MARIPOSA',\n",
       "       'MOSTERT', 'MANZANILLO', 'OLYMPIA', 'DONNARINE', 'SUNCREST',\n",
       "       'FIANNA', 'PLATINA', 'SUMMER EARLEY', 'COLLINSON', 'BP1',\n",
       "       'PANAMINT', 'CORONA', 'CHUTNEY', 'SUZI', 'RUBISTAR', 'SONET',\n",
       "       'SUMMER GIANT', 'TRANSVALIA', 'SAFARI', 'SUMMERSON',\n",
       "       'WESTERN CLING', 'ALPHA', 'OTHER PEPPERS', 'CARA CARA',\n",
       "       'DELTA SEEDLESS', 'ASTRID', 'AVIVA', 'KEIMOS', 'SEEDLING',\n",
       "       'SUPERGOLD', 'SHEPODY', 'COLUMBUS'], dtype=object)"
      ]
     },
     "execution_count": 64,
     "metadata": {},
     "output_type": "execute_result"
    }
   ],
   "source": [
    "df3['variety'].unique()"
   ]
  },
  {
   "cell_type": "code",
   "execution_count": 65,
   "id": "afe2b539",
   "metadata": {},
   "outputs": [],
   "source": [
    "df3.rename(columns = {'class':'Veg_Class'}, inplace = True)"
   ]
  },
  {
   "cell_type": "code",
   "execution_count": 66,
   "id": "5fcfe0b3",
   "metadata": {},
   "outputs": [
    {
     "data": {
      "text/plain": [
       "array(['NOT GRADED', 'CLASS 1', 'CLASS 2', 'CLASS 3', 'CLASS 4'],\n",
       "      dtype=object)"
      ]
     },
     "execution_count": 66,
     "metadata": {},
     "output_type": "execute_result"
    }
   ],
   "source": [
    "df3['Veg_Class'].unique()"
   ]
  },
  {
   "cell_type": "code",
   "execution_count": 67,
   "id": "69132fd9",
   "metadata": {},
   "outputs": [
    {
     "data": {
      "text/plain": [
       "array(['PER KILO / POCKET', 'BAG', 'PUNNET', 'BANANA BOX', 'HALF POCKET',\n",
       "       'SUGAR POCKET', 'STANDARD POCKET', '3 QUARTER PORCKET (7kg)',\n",
       "       'STANDARD TRAY', 'BOX', 'TOMATO CASE', 'PUNNET PACK (Pre Pack)',\n",
       "       'DOUBBLE LAYER TRAY', 'CRATE', 'MULTI LAYER TRAYER',\n",
       "       'DOMPLE JUMBLE', 'METRIC BOX', 'QUARTER POCKET', 'CARTON',\n",
       "       'HALF CARTON', 'EACH', 'ECONOMIC PACK', 'HALF TRAY',\n",
       "       'PLASTIC CONTAINER', 'OTHER CONTAINERS', 'BUNCH', 'POCKET / BUNCH',\n",
       "       'DECON', 'EXPORT BOX', 'BULK PACK (BOX)', 'BULK PACK', 'KILOGRAM',\n",
       "       'HALF DECON', 'PER 100 LB (45kg)', 'LOTS', 'PINEAPPLE CASE',\n",
       "       'DOUBBLE POCKET', 'PER LITRE (1000ml)', 'PER LITRE (500ml)',\n",
       "       'BUSHEL BOX'], dtype=object)"
      ]
     },
     "execution_count": 67,
     "metadata": {},
     "output_type": "execute_result"
    }
   ],
   "source": [
    "df3['package'].unique()"
   ]
  },
  {
   "cell_type": "code",
   "execution_count": null,
   "id": "7a819c4d",
   "metadata": {},
   "outputs": [],
   "source": []
  },
  {
   "cell_type": "code",
   "execution_count": null,
   "id": "32e189e8",
   "metadata": {},
   "outputs": [],
   "source": []
  },
  {
   "cell_type": "code",
   "execution_count": null,
   "id": "2a9c9114",
   "metadata": {},
   "outputs": [],
   "source": []
  },
  {
   "cell_type": "code",
   "execution_count": null,
   "id": "bc10d158",
   "metadata": {
    "scrolled": true
   },
   "outputs": [],
   "source": []
  },
  {
   "cell_type": "code",
   "execution_count": 68,
   "id": "678bd0cf",
   "metadata": {},
   "outputs": [
    {
     "data": {
      "text/plain": [
       "product        126\n",
       "variety        267\n",
       "Veg_Class        5\n",
       "size            12\n",
       "package         40\n",
       "market_name     18\n",
       "market_code     18\n",
       "market_type      1\n",
       "dtype: int64"
      ]
     },
     "execution_count": 68,
     "metadata": {},
     "output_type": "execute_result"
    }
   ],
   "source": [
    "df3_uniques_set = df3[['product', 'variety', 'Veg_Class', 'size', 'package', 'market_name', 'market_code', 'market_type' ]]\n",
    "df3_uniques_set.nunique()"
   ]
  },
  {
   "cell_type": "code",
   "execution_count": 69,
   "id": "276a2eb7",
   "metadata": {
    "scrolled": true
   },
   "outputs": [
    {
     "data": {
      "text/html": [
       "<div>\n",
       "<style scoped>\n",
       "    .dataframe tbody tr th:only-of-type {\n",
       "        vertical-align: middle;\n",
       "    }\n",
       "\n",
       "    .dataframe tbody tr th {\n",
       "        vertical-align: top;\n",
       "    }\n",
       "\n",
       "    .dataframe thead th {\n",
       "        text-align: right;\n",
       "    }\n",
       "</style>\n",
       "<table border=\"1\" class=\"dataframe\">\n",
       "  <thead>\n",
       "    <tr style=\"text-align: right;\">\n",
       "      <th></th>\n",
       "      <th>product</th>\n",
       "      <th>variety</th>\n",
       "      <th>Veg_Class</th>\n",
       "      <th>size</th>\n",
       "      <th>package</th>\n",
       "      <th>unit(kg)</th>\n",
       "      <th>closing_price</th>\n",
       "      <th>high_price</th>\n",
       "      <th>low_price</th>\n",
       "      <th>average_price</th>\n",
       "      <th>total_sales</th>\n",
       "      <th>sales_quantity</th>\n",
       "      <th>closing_stock</th>\n",
       "      <th>date</th>\n",
       "      <th>market_name</th>\n",
       "      <th>market_code</th>\n",
       "      <th>market_type</th>\n",
       "      <th>series</th>\n",
       "    </tr>\n",
       "  </thead>\n",
       "  <tbody>\n",
       "    <tr>\n",
       "      <th>2559</th>\n",
       "      <td>CHILLIES</td>\n",
       "      <td>GREEN</td>\n",
       "      <td>NOT GRADED</td>\n",
       "      <td>NO SIZE</td>\n",
       "      <td>SUGAR POCKET</td>\n",
       "      <td>17.0</td>\n",
       "      <td>200.83</td>\n",
       "      <td>300.0</td>\n",
       "      <td>20.0</td>\n",
       "      <td>200.83</td>\n",
       "      <td>2410.0</td>\n",
       "      <td>12</td>\n",
       "      <td>55</td>\n",
       "      <td>2023-05-04</td>\n",
       "      <td>Pietermaritzburg Fresh Produce Market</td>\n",
       "      <td>PIE</td>\n",
       "      <td>Fresh Produce Markets</td>\n",
       "      <td>2</td>\n",
       "    </tr>\n",
       "    <tr>\n",
       "      <th>2560</th>\n",
       "      <td>CHILLIES</td>\n",
       "      <td>GREEN</td>\n",
       "      <td>NOT GRADED</td>\n",
       "      <td>NO SIZE</td>\n",
       "      <td>BANANA BOX</td>\n",
       "      <td>10.0</td>\n",
       "      <td>150.00</td>\n",
       "      <td>150.0</td>\n",
       "      <td>150.0</td>\n",
       "      <td>150.00</td>\n",
       "      <td>300.0</td>\n",
       "      <td>2</td>\n",
       "      <td>9</td>\n",
       "      <td>2023-05-04</td>\n",
       "      <td>Pietermaritzburg Fresh Produce Market</td>\n",
       "      <td>PIE</td>\n",
       "      <td>Fresh Produce Markets</td>\n",
       "      <td>3</td>\n",
       "    </tr>\n",
       "    <tr>\n",
       "      <th>2561</th>\n",
       "      <td>CHILLIES</td>\n",
       "      <td>GREEN</td>\n",
       "      <td>NOT GRADED</td>\n",
       "      <td>NO SIZE</td>\n",
       "      <td>QUARTER POCKET</td>\n",
       "      <td>3.0</td>\n",
       "      <td>40.00</td>\n",
       "      <td>40.0</td>\n",
       "      <td>40.0</td>\n",
       "      <td>40.00</td>\n",
       "      <td>80.0</td>\n",
       "      <td>2</td>\n",
       "      <td>8</td>\n",
       "      <td>2023-05-04</td>\n",
       "      <td>Pietermaritzburg Fresh Produce Market</td>\n",
       "      <td>PIE</td>\n",
       "      <td>Fresh Produce Markets</td>\n",
       "      <td>5</td>\n",
       "    </tr>\n",
       "    <tr>\n",
       "      <th>2562</th>\n",
       "      <td>CHILLIES</td>\n",
       "      <td>GREEN</td>\n",
       "      <td>NOT GRADED</td>\n",
       "      <td>NO SIZE</td>\n",
       "      <td>STANDARD POCKET</td>\n",
       "      <td>7.0</td>\n",
       "      <td>20.00</td>\n",
       "      <td>20.0</td>\n",
       "      <td>20.0</td>\n",
       "      <td>20.00</td>\n",
       "      <td>100.0</td>\n",
       "      <td>5</td>\n",
       "      <td>6</td>\n",
       "      <td>2023-05-03</td>\n",
       "      <td>Pietermaritzburg Fresh Produce Market</td>\n",
       "      <td>PIE</td>\n",
       "      <td>Fresh Produce Markets</td>\n",
       "      <td>7</td>\n",
       "    </tr>\n",
       "    <tr>\n",
       "      <th>2563</th>\n",
       "      <td>CHILLIES</td>\n",
       "      <td>GREEN</td>\n",
       "      <td>NOT GRADED</td>\n",
       "      <td>NO SIZE</td>\n",
       "      <td>SUGAR POCKET</td>\n",
       "      <td>17.0</td>\n",
       "      <td>174.00</td>\n",
       "      <td>250.0</td>\n",
       "      <td>60.0</td>\n",
       "      <td>174.00</td>\n",
       "      <td>1740.0</td>\n",
       "      <td>10</td>\n",
       "      <td>36</td>\n",
       "      <td>2023-05-03</td>\n",
       "      <td>Pietermaritzburg Fresh Produce Market</td>\n",
       "      <td>PIE</td>\n",
       "      <td>Fresh Produce Markets</td>\n",
       "      <td>8</td>\n",
       "    </tr>\n",
       "    <tr>\n",
       "      <th>...</th>\n",
       "      <td>...</td>\n",
       "      <td>...</td>\n",
       "      <td>...</td>\n",
       "      <td>...</td>\n",
       "      <td>...</td>\n",
       "      <td>...</td>\n",
       "      <td>...</td>\n",
       "      <td>...</td>\n",
       "      <td>...</td>\n",
       "      <td>...</td>\n",
       "      <td>...</td>\n",
       "      <td>...</td>\n",
       "      <td>...</td>\n",
       "      <td>...</td>\n",
       "      <td>...</td>\n",
       "      <td>...</td>\n",
       "      <td>...</td>\n",
       "      <td>...</td>\n",
       "    </tr>\n",
       "    <tr>\n",
       "      <th>219110</th>\n",
       "      <td>CHILLIES</td>\n",
       "      <td>GREEN</td>\n",
       "      <td>NOT GRADED</td>\n",
       "      <td>NO SIZE</td>\n",
       "      <td>BOX</td>\n",
       "      <td>3.0</td>\n",
       "      <td>68.80</td>\n",
       "      <td>70.0</td>\n",
       "      <td>60.0</td>\n",
       "      <td>68.80</td>\n",
       "      <td>1720.0</td>\n",
       "      <td>25</td>\n",
       "      <td>15</td>\n",
       "      <td>2023-02-06</td>\n",
       "      <td>East London Fresh Produce Market</td>\n",
       "      <td>EAS</td>\n",
       "      <td>Fresh Produce Markets</td>\n",
       "      <td>136</td>\n",
       "    </tr>\n",
       "    <tr>\n",
       "      <th>219111</th>\n",
       "      <td>CHILLIES</td>\n",
       "      <td>GREEN</td>\n",
       "      <td>NOT GRADED</td>\n",
       "      <td>NO SIZE</td>\n",
       "      <td>PUNNET</td>\n",
       "      <td>0.0</td>\n",
       "      <td>5.62</td>\n",
       "      <td>15.0</td>\n",
       "      <td>5.0</td>\n",
       "      <td>5.62</td>\n",
       "      <td>90.0</td>\n",
       "      <td>16</td>\n",
       "      <td>4</td>\n",
       "      <td>2023-02-06</td>\n",
       "      <td>East London Fresh Produce Market</td>\n",
       "      <td>EAS</td>\n",
       "      <td>Fresh Produce Markets</td>\n",
       "      <td>137</td>\n",
       "    </tr>\n",
       "    <tr>\n",
       "      <th>219112</th>\n",
       "      <td>CHILLIES</td>\n",
       "      <td>GREEN</td>\n",
       "      <td>NOT GRADED</td>\n",
       "      <td>NO SIZE</td>\n",
       "      <td>BOX</td>\n",
       "      <td>3.0</td>\n",
       "      <td>63.21</td>\n",
       "      <td>75.0</td>\n",
       "      <td>60.0</td>\n",
       "      <td>63.21</td>\n",
       "      <td>885.0</td>\n",
       "      <td>14</td>\n",
       "      <td>40</td>\n",
       "      <td>2023-02-02</td>\n",
       "      <td>East London Fresh Produce Market</td>\n",
       "      <td>EAS</td>\n",
       "      <td>Fresh Produce Markets</td>\n",
       "      <td>138</td>\n",
       "    </tr>\n",
       "    <tr>\n",
       "      <th>219113</th>\n",
       "      <td>CHILLIES</td>\n",
       "      <td>GREEN</td>\n",
       "      <td>NOT GRADED</td>\n",
       "      <td>NO SIZE</td>\n",
       "      <td>PUNNET</td>\n",
       "      <td>0.0</td>\n",
       "      <td>5.00</td>\n",
       "      <td>5.0</td>\n",
       "      <td>5.0</td>\n",
       "      <td>5.00</td>\n",
       "      <td>50.0</td>\n",
       "      <td>10</td>\n",
       "      <td>22</td>\n",
       "      <td>2023-02-02</td>\n",
       "      <td>East London Fresh Produce Market</td>\n",
       "      <td>EAS</td>\n",
       "      <td>Fresh Produce Markets</td>\n",
       "      <td>139</td>\n",
       "    </tr>\n",
       "    <tr>\n",
       "      <th>219114</th>\n",
       "      <td>CHILLIES</td>\n",
       "      <td>GREEN</td>\n",
       "      <td>NOT GRADED</td>\n",
       "      <td>NO SIZE</td>\n",
       "      <td>BANANA BOX</td>\n",
       "      <td>10.0</td>\n",
       "      <td>130.00</td>\n",
       "      <td>130.0</td>\n",
       "      <td>130.0</td>\n",
       "      <td>130.00</td>\n",
       "      <td>130.0</td>\n",
       "      <td>1</td>\n",
       "      <td>0</td>\n",
       "      <td>2023-02-02</td>\n",
       "      <td>East London Fresh Produce Market</td>\n",
       "      <td>EAS</td>\n",
       "      <td>Fresh Produce Markets</td>\n",
       "      <td>140</td>\n",
       "    </tr>\n",
       "  </tbody>\n",
       "</table>\n",
       "<p>2612 rows × 18 columns</p>\n",
       "</div>"
      ],
      "text/plain": [
       "          product variety   Veg_Class     size          package  unit(kg)  \\\n",
       "2559     CHILLIES   GREEN  NOT GRADED  NO SIZE     SUGAR POCKET      17.0   \n",
       "2560     CHILLIES   GREEN  NOT GRADED  NO SIZE       BANANA BOX      10.0   \n",
       "2561     CHILLIES   GREEN  NOT GRADED  NO SIZE   QUARTER POCKET       3.0   \n",
       "2562     CHILLIES   GREEN  NOT GRADED  NO SIZE  STANDARD POCKET       7.0   \n",
       "2563     CHILLIES   GREEN  NOT GRADED  NO SIZE     SUGAR POCKET      17.0   \n",
       "...           ...     ...         ...      ...              ...       ...   \n",
       "219110   CHILLIES   GREEN  NOT GRADED  NO SIZE              BOX       3.0   \n",
       "219111   CHILLIES   GREEN  NOT GRADED  NO SIZE           PUNNET       0.0   \n",
       "219112   CHILLIES   GREEN  NOT GRADED  NO SIZE              BOX       3.0   \n",
       "219113   CHILLIES   GREEN  NOT GRADED  NO SIZE           PUNNET       0.0   \n",
       "219114   CHILLIES   GREEN  NOT GRADED  NO SIZE       BANANA BOX      10.0   \n",
       "\n",
       "        closing_price  high_price  low_price  average_price  total_sales  \\\n",
       "2559           200.83       300.0       20.0         200.83       2410.0   \n",
       "2560           150.00       150.0      150.0         150.00        300.0   \n",
       "2561            40.00        40.0       40.0          40.00         80.0   \n",
       "2562            20.00        20.0       20.0          20.00        100.0   \n",
       "2563           174.00       250.0       60.0         174.00       1740.0   \n",
       "...               ...         ...        ...            ...          ...   \n",
       "219110          68.80        70.0       60.0          68.80       1720.0   \n",
       "219111           5.62        15.0        5.0           5.62         90.0   \n",
       "219112          63.21        75.0       60.0          63.21        885.0   \n",
       "219113           5.00         5.0        5.0           5.00         50.0   \n",
       "219114         130.00       130.0      130.0         130.00        130.0   \n",
       "\n",
       "        sales_quantity  closing_stock       date  \\\n",
       "2559                12             55 2023-05-04   \n",
       "2560                 2              9 2023-05-04   \n",
       "2561                 2              8 2023-05-04   \n",
       "2562                 5              6 2023-05-03   \n",
       "2563                10             36 2023-05-03   \n",
       "...                ...            ...        ...   \n",
       "219110              25             15 2023-02-06   \n",
       "219111              16              4 2023-02-06   \n",
       "219112              14             40 2023-02-02   \n",
       "219113              10             22 2023-02-02   \n",
       "219114               1              0 2023-02-02   \n",
       "\n",
       "                                  market_name market_code  \\\n",
       "2559    Pietermaritzburg Fresh Produce Market         PIE   \n",
       "2560    Pietermaritzburg Fresh Produce Market         PIE   \n",
       "2561    Pietermaritzburg Fresh Produce Market         PIE   \n",
       "2562    Pietermaritzburg Fresh Produce Market         PIE   \n",
       "2563    Pietermaritzburg Fresh Produce Market         PIE   \n",
       "...                                       ...         ...   \n",
       "219110       East London Fresh Produce Market         EAS   \n",
       "219111       East London Fresh Produce Market         EAS   \n",
       "219112       East London Fresh Produce Market         EAS   \n",
       "219113       East London Fresh Produce Market         EAS   \n",
       "219114       East London Fresh Produce Market         EAS   \n",
       "\n",
       "                  market_type series  \n",
       "2559    Fresh Produce Markets      2  \n",
       "2560    Fresh Produce Markets      3  \n",
       "2561    Fresh Produce Markets      5  \n",
       "2562    Fresh Produce Markets      7  \n",
       "2563    Fresh Produce Markets      8  \n",
       "...                       ...    ...  \n",
       "219110  Fresh Produce Markets    136  \n",
       "219111  Fresh Produce Markets    137  \n",
       "219112  Fresh Produce Markets    138  \n",
       "219113  Fresh Produce Markets    139  \n",
       "219114  Fresh Produce Markets    140  \n",
       "\n",
       "[2612 rows x 18 columns]"
      ]
     },
     "execution_count": 69,
     "metadata": {},
     "output_type": "execute_result"
    }
   ],
   "source": [
    "A = df3.loc[df3['product'] == ' CHILLIES']\n",
    "A"
   ]
  },
  {
   "cell_type": "code",
   "execution_count": 70,
   "id": "c3504c03",
   "metadata": {},
   "outputs": [
    {
     "data": {
      "text/plain": [
       "array(['SUGAR POCKET', 'BANANA BOX', 'QUARTER POCKET', 'STANDARD POCKET',\n",
       "       'HALF POCKET', 'PER KILO / POCKET', 'OTHER CONTAINERS', 'BAG',\n",
       "       'PUNNET PACK (Pre Pack)', 'TOMATO CASE', 'BULK PACK (BOX)', 'BOX',\n",
       "       'PUNNET', 'DOMPLE JUMBLE', 'ECONOMIC PACK', 'STANDARD TRAY',\n",
       "       'HALF TRAY', 'CARTON', 'DOUBBLE LAYER TRAY'], dtype=object)"
      ]
     },
     "execution_count": 70,
     "metadata": {},
     "output_type": "execute_result"
    }
   ],
   "source": [
    "A['package'].unique()"
   ]
  },
  {
   "cell_type": "code",
   "execution_count": 71,
   "id": "dc0017b0",
   "metadata": {},
   "outputs": [
    {
     "data": {
      "text/plain": [
       "array(['NO SIZE', 'MEDIUM', 'LARGE', 'SMALL', 'SMALL MEDIUM',\n",
       "       'MEDIUM PLUS', 'EXTRA LARGE', 'UNDER SIZE', 'XX LARGE',\n",
       "       'NEW (BABY)', 'XXX LARGE', 'JUMBO'], dtype=object)"
      ]
     },
     "execution_count": 71,
     "metadata": {},
     "output_type": "execute_result"
    }
   ],
   "source": [
    "df3['size'].unique()"
   ]
  },
  {
   "cell_type": "code",
   "execution_count": 72,
   "id": "1d27fd0f",
   "metadata": {
    "scrolled": true
   },
   "outputs": [
    {
     "name": "stdout",
     "output_type": "stream",
     "text": [
      "<class 'pandas.core.frame.DataFrame'>\n",
      "RangeIndex: 219531 entries, 0 to 219530\n",
      "Data columns (total 18 columns):\n",
      " #   Column          Non-Null Count   Dtype         \n",
      "---  ------          --------------   -----         \n",
      " 0   product         219531 non-null  object        \n",
      " 1   variety         219531 non-null  object        \n",
      " 2   Veg_Class       219531 non-null  object        \n",
      " 3   size            219531 non-null  object        \n",
      " 4   package         219531 non-null  object        \n",
      " 5   unit(kg)        218731 non-null  float64       \n",
      " 6   closing_price   219531 non-null  float64       \n",
      " 7   high_price      219531 non-null  float64       \n",
      " 8   low_price       219531 non-null  float64       \n",
      " 9   average_price   219531 non-null  float64       \n",
      " 10  total_sales     219531 non-null  float64       \n",
      " 11  sales_quantity  219531 non-null  int64         \n",
      " 12  closing_stock   219531 non-null  int64         \n",
      " 13  date            219531 non-null  datetime64[ns]\n",
      " 14  market_name     219531 non-null  object        \n",
      " 15  market_code     219531 non-null  object        \n",
      " 16  market_type     219531 non-null  object        \n",
      " 17  series          219531 non-null  object        \n",
      "dtypes: datetime64[ns](1), float64(6), int64(2), object(9)\n",
      "memory usage: 30.1+ MB\n"
     ]
    }
   ],
   "source": [
    "df3.info()"
   ]
  },
  {
   "cell_type": "code",
   "execution_count": 73,
   "id": "e621d5b7",
   "metadata": {
    "scrolled": false
   },
   "outputs": [
    {
     "data": {
      "application/vnd.jupyter.widget-view+json": {
       "model_id": "9464d0067e094b8db9dfac2787cd9689",
       "version_major": 2,
       "version_minor": 0
      },
      "text/plain": [
       "interactive(children=(Dropdown(description='Market', options=('Pietermaritzburg Fresh Produce Market', 'Nelspr…"
      ]
     },
     "metadata": {},
     "output_type": "display_data"
    },
    {
     "data": {
      "application/vnd.plotly.v1+json": {
       "config": {
        "plotlyServerURL": "https://plot.ly"
       },
       "data": [
        {
         "hovertemplate": "date=%{x}<br>closing_price=%{y}<extra></extra>",
         "legendgroup": "",
         "line": {
          "color": "#636efa",
          "dash": "solid"
         },
         "marker": {
          "symbol": "circle"
         },
         "mode": "lines",
         "name": "",
         "orientation": "v",
         "showlegend": false,
         "type": "scatter",
         "x": [
          "2023-05-02T00:00:00",
          "2023-05-02T00:00:00",
          "2023-04-28T00:00:00",
          "2023-04-21T00:00:00",
          "2023-04-21T00:00:00",
          "2023-04-20T00:00:00",
          "2023-04-18T00:00:00",
          "2023-04-18T00:00:00",
          "2023-04-17T00:00:00",
          "2023-04-13T00:00:00",
          "2023-04-11T00:00:00",
          "2023-04-06T00:00:00",
          "2023-04-03T00:00:00",
          "2023-03-31T00:00:00",
          "2023-03-30T00:00:00",
          "2023-03-27T00:00:00",
          "2023-03-27T00:00:00",
          "2023-03-22T00:00:00",
          "2023-03-22T00:00:00",
          "2023-03-14T00:00:00",
          "2023-03-13T00:00:00",
          "2023-03-10T00:00:00",
          "2023-03-07T00:00:00",
          "2023-03-06T00:00:00",
          "2023-02-27T00:00:00",
          "2023-02-24T00:00:00",
          "2023-02-21T00:00:00",
          "2023-02-21T00:00:00",
          "2023-02-20T00:00:00"
         ],
         "xaxis": "x",
         "y": [
          40,
          40,
          45,
          50,
          50,
          50,
          45.11,
          45.11,
          50,
          50,
          45,
          50,
          50,
          50,
          60,
          50,
          50,
          50,
          50,
          120,
          50,
          150,
          50,
          51.25,
          58.33,
          60,
          55,
          55,
          55
         ],
         "yaxis": "y"
        }
       ],
       "layout": {
        "barmode": "group",
        "legend": {
         "tracegroupgap": 0
        },
        "margin": {
         "t": 60
        },
        "template": {
         "data": {
          "bar": [
           {
            "error_x": {
             "color": "#2a3f5f"
            },
            "error_y": {
             "color": "#2a3f5f"
            },
            "marker": {
             "line": {
              "color": "#E5ECF6",
              "width": 0.5
             },
             "pattern": {
              "fillmode": "overlay",
              "size": 10,
              "solidity": 0.2
             }
            },
            "type": "bar"
           }
          ],
          "barpolar": [
           {
            "marker": {
             "line": {
              "color": "#E5ECF6",
              "width": 0.5
             },
             "pattern": {
              "fillmode": "overlay",
              "size": 10,
              "solidity": 0.2
             }
            },
            "type": "barpolar"
           }
          ],
          "carpet": [
           {
            "aaxis": {
             "endlinecolor": "#2a3f5f",
             "gridcolor": "white",
             "linecolor": "white",
             "minorgridcolor": "white",
             "startlinecolor": "#2a3f5f"
            },
            "baxis": {
             "endlinecolor": "#2a3f5f",
             "gridcolor": "white",
             "linecolor": "white",
             "minorgridcolor": "white",
             "startlinecolor": "#2a3f5f"
            },
            "type": "carpet"
           }
          ],
          "choropleth": [
           {
            "colorbar": {
             "outlinewidth": 0,
             "ticks": ""
            },
            "type": "choropleth"
           }
          ],
          "contour": [
           {
            "colorbar": {
             "outlinewidth": 0,
             "ticks": ""
            },
            "colorscale": [
             [
              0,
              "#0d0887"
             ],
             [
              0.1111111111111111,
              "#46039f"
             ],
             [
              0.2222222222222222,
              "#7201a8"
             ],
             [
              0.3333333333333333,
              "#9c179e"
             ],
             [
              0.4444444444444444,
              "#bd3786"
             ],
             [
              0.5555555555555556,
              "#d8576b"
             ],
             [
              0.6666666666666666,
              "#ed7953"
             ],
             [
              0.7777777777777778,
              "#fb9f3a"
             ],
             [
              0.8888888888888888,
              "#fdca26"
             ],
             [
              1,
              "#f0f921"
             ]
            ],
            "type": "contour"
           }
          ],
          "contourcarpet": [
           {
            "colorbar": {
             "outlinewidth": 0,
             "ticks": ""
            },
            "type": "contourcarpet"
           }
          ],
          "heatmap": [
           {
            "colorbar": {
             "outlinewidth": 0,
             "ticks": ""
            },
            "colorscale": [
             [
              0,
              "#0d0887"
             ],
             [
              0.1111111111111111,
              "#46039f"
             ],
             [
              0.2222222222222222,
              "#7201a8"
             ],
             [
              0.3333333333333333,
              "#9c179e"
             ],
             [
              0.4444444444444444,
              "#bd3786"
             ],
             [
              0.5555555555555556,
              "#d8576b"
             ],
             [
              0.6666666666666666,
              "#ed7953"
             ],
             [
              0.7777777777777778,
              "#fb9f3a"
             ],
             [
              0.8888888888888888,
              "#fdca26"
             ],
             [
              1,
              "#f0f921"
             ]
            ],
            "type": "heatmap"
           }
          ],
          "heatmapgl": [
           {
            "colorbar": {
             "outlinewidth": 0,
             "ticks": ""
            },
            "colorscale": [
             [
              0,
              "#0d0887"
             ],
             [
              0.1111111111111111,
              "#46039f"
             ],
             [
              0.2222222222222222,
              "#7201a8"
             ],
             [
              0.3333333333333333,
              "#9c179e"
             ],
             [
              0.4444444444444444,
              "#bd3786"
             ],
             [
              0.5555555555555556,
              "#d8576b"
             ],
             [
              0.6666666666666666,
              "#ed7953"
             ],
             [
              0.7777777777777778,
              "#fb9f3a"
             ],
             [
              0.8888888888888888,
              "#fdca26"
             ],
             [
              1,
              "#f0f921"
             ]
            ],
            "type": "heatmapgl"
           }
          ],
          "histogram": [
           {
            "marker": {
             "pattern": {
              "fillmode": "overlay",
              "size": 10,
              "solidity": 0.2
             }
            },
            "type": "histogram"
           }
          ],
          "histogram2d": [
           {
            "colorbar": {
             "outlinewidth": 0,
             "ticks": ""
            },
            "colorscale": [
             [
              0,
              "#0d0887"
             ],
             [
              0.1111111111111111,
              "#46039f"
             ],
             [
              0.2222222222222222,
              "#7201a8"
             ],
             [
              0.3333333333333333,
              "#9c179e"
             ],
             [
              0.4444444444444444,
              "#bd3786"
             ],
             [
              0.5555555555555556,
              "#d8576b"
             ],
             [
              0.6666666666666666,
              "#ed7953"
             ],
             [
              0.7777777777777778,
              "#fb9f3a"
             ],
             [
              0.8888888888888888,
              "#fdca26"
             ],
             [
              1,
              "#f0f921"
             ]
            ],
            "type": "histogram2d"
           }
          ],
          "histogram2dcontour": [
           {
            "colorbar": {
             "outlinewidth": 0,
             "ticks": ""
            },
            "colorscale": [
             [
              0,
              "#0d0887"
             ],
             [
              0.1111111111111111,
              "#46039f"
             ],
             [
              0.2222222222222222,
              "#7201a8"
             ],
             [
              0.3333333333333333,
              "#9c179e"
             ],
             [
              0.4444444444444444,
              "#bd3786"
             ],
             [
              0.5555555555555556,
              "#d8576b"
             ],
             [
              0.6666666666666666,
              "#ed7953"
             ],
             [
              0.7777777777777778,
              "#fb9f3a"
             ],
             [
              0.8888888888888888,
              "#fdca26"
             ],
             [
              1,
              "#f0f921"
             ]
            ],
            "type": "histogram2dcontour"
           }
          ],
          "mesh3d": [
           {
            "colorbar": {
             "outlinewidth": 0,
             "ticks": ""
            },
            "type": "mesh3d"
           }
          ],
          "parcoords": [
           {
            "line": {
             "colorbar": {
              "outlinewidth": 0,
              "ticks": ""
             }
            },
            "type": "parcoords"
           }
          ],
          "pie": [
           {
            "automargin": true,
            "type": "pie"
           }
          ],
          "scatter": [
           {
            "fillpattern": {
             "fillmode": "overlay",
             "size": 10,
             "solidity": 0.2
            },
            "type": "scatter"
           }
          ],
          "scatter3d": [
           {
            "line": {
             "colorbar": {
              "outlinewidth": 0,
              "ticks": ""
             }
            },
            "marker": {
             "colorbar": {
              "outlinewidth": 0,
              "ticks": ""
             }
            },
            "type": "scatter3d"
           }
          ],
          "scattercarpet": [
           {
            "marker": {
             "colorbar": {
              "outlinewidth": 0,
              "ticks": ""
             }
            },
            "type": "scattercarpet"
           }
          ],
          "scattergeo": [
           {
            "marker": {
             "colorbar": {
              "outlinewidth": 0,
              "ticks": ""
             }
            },
            "type": "scattergeo"
           }
          ],
          "scattergl": [
           {
            "marker": {
             "colorbar": {
              "outlinewidth": 0,
              "ticks": ""
             }
            },
            "type": "scattergl"
           }
          ],
          "scattermapbox": [
           {
            "marker": {
             "colorbar": {
              "outlinewidth": 0,
              "ticks": ""
             }
            },
            "type": "scattermapbox"
           }
          ],
          "scatterpolar": [
           {
            "marker": {
             "colorbar": {
              "outlinewidth": 0,
              "ticks": ""
             }
            },
            "type": "scatterpolar"
           }
          ],
          "scatterpolargl": [
           {
            "marker": {
             "colorbar": {
              "outlinewidth": 0,
              "ticks": ""
             }
            },
            "type": "scatterpolargl"
           }
          ],
          "scatterternary": [
           {
            "marker": {
             "colorbar": {
              "outlinewidth": 0,
              "ticks": ""
             }
            },
            "type": "scatterternary"
           }
          ],
          "surface": [
           {
            "colorbar": {
             "outlinewidth": 0,
             "ticks": ""
            },
            "colorscale": [
             [
              0,
              "#0d0887"
             ],
             [
              0.1111111111111111,
              "#46039f"
             ],
             [
              0.2222222222222222,
              "#7201a8"
             ],
             [
              0.3333333333333333,
              "#9c179e"
             ],
             [
              0.4444444444444444,
              "#bd3786"
             ],
             [
              0.5555555555555556,
              "#d8576b"
             ],
             [
              0.6666666666666666,
              "#ed7953"
             ],
             [
              0.7777777777777778,
              "#fb9f3a"
             ],
             [
              0.8888888888888888,
              "#fdca26"
             ],
             [
              1,
              "#f0f921"
             ]
            ],
            "type": "surface"
           }
          ],
          "table": [
           {
            "cells": {
             "fill": {
              "color": "#EBF0F8"
             },
             "line": {
              "color": "white"
             }
            },
            "header": {
             "fill": {
              "color": "#C8D4E3"
             },
             "line": {
              "color": "white"
             }
            },
            "type": "table"
           }
          ]
         },
         "layout": {
          "annotationdefaults": {
           "arrowcolor": "#2a3f5f",
           "arrowhead": 0,
           "arrowwidth": 1
          },
          "autotypenumbers": "strict",
          "coloraxis": {
           "colorbar": {
            "outlinewidth": 0,
            "ticks": ""
           }
          },
          "colorscale": {
           "diverging": [
            [
             0,
             "#8e0152"
            ],
            [
             0.1,
             "#c51b7d"
            ],
            [
             0.2,
             "#de77ae"
            ],
            [
             0.3,
             "#f1b6da"
            ],
            [
             0.4,
             "#fde0ef"
            ],
            [
             0.5,
             "#f7f7f7"
            ],
            [
             0.6,
             "#e6f5d0"
            ],
            [
             0.7,
             "#b8e186"
            ],
            [
             0.8,
             "#7fbc41"
            ],
            [
             0.9,
             "#4d9221"
            ],
            [
             1,
             "#276419"
            ]
           ],
           "sequential": [
            [
             0,
             "#0d0887"
            ],
            [
             0.1111111111111111,
             "#46039f"
            ],
            [
             0.2222222222222222,
             "#7201a8"
            ],
            [
             0.3333333333333333,
             "#9c179e"
            ],
            [
             0.4444444444444444,
             "#bd3786"
            ],
            [
             0.5555555555555556,
             "#d8576b"
            ],
            [
             0.6666666666666666,
             "#ed7953"
            ],
            [
             0.7777777777777778,
             "#fb9f3a"
            ],
            [
             0.8888888888888888,
             "#fdca26"
            ],
            [
             1,
             "#f0f921"
            ]
           ],
           "sequentialminus": [
            [
             0,
             "#0d0887"
            ],
            [
             0.1111111111111111,
             "#46039f"
            ],
            [
             0.2222222222222222,
             "#7201a8"
            ],
            [
             0.3333333333333333,
             "#9c179e"
            ],
            [
             0.4444444444444444,
             "#bd3786"
            ],
            [
             0.5555555555555556,
             "#d8576b"
            ],
            [
             0.6666666666666666,
             "#ed7953"
            ],
            [
             0.7777777777777778,
             "#fb9f3a"
            ],
            [
             0.8888888888888888,
             "#fdca26"
            ],
            [
             1,
             "#f0f921"
            ]
           ]
          },
          "colorway": [
           "#636efa",
           "#EF553B",
           "#00cc96",
           "#ab63fa",
           "#FFA15A",
           "#19d3f3",
           "#FF6692",
           "#B6E880",
           "#FF97FF",
           "#FECB52"
          ],
          "font": {
           "color": "#2a3f5f"
          },
          "geo": {
           "bgcolor": "white",
           "lakecolor": "white",
           "landcolor": "#E5ECF6",
           "showlakes": true,
           "showland": true,
           "subunitcolor": "white"
          },
          "hoverlabel": {
           "align": "left"
          },
          "hovermode": "closest",
          "mapbox": {
           "style": "light"
          },
          "paper_bgcolor": "white",
          "plot_bgcolor": "#E5ECF6",
          "polar": {
           "angularaxis": {
            "gridcolor": "white",
            "linecolor": "white",
            "ticks": ""
           },
           "bgcolor": "#E5ECF6",
           "radialaxis": {
            "gridcolor": "white",
            "linecolor": "white",
            "ticks": ""
           }
          },
          "scene": {
           "xaxis": {
            "backgroundcolor": "#E5ECF6",
            "gridcolor": "white",
            "gridwidth": 2,
            "linecolor": "white",
            "showbackground": true,
            "ticks": "",
            "zerolinecolor": "white"
           },
           "yaxis": {
            "backgroundcolor": "#E5ECF6",
            "gridcolor": "white",
            "gridwidth": 2,
            "linecolor": "white",
            "showbackground": true,
            "ticks": "",
            "zerolinecolor": "white"
           },
           "zaxis": {
            "backgroundcolor": "#E5ECF6",
            "gridcolor": "white",
            "gridwidth": 2,
            "linecolor": "white",
            "showbackground": true,
            "ticks": "",
            "zerolinecolor": "white"
           }
          },
          "shapedefaults": {
           "line": {
            "color": "#2a3f5f"
           }
          },
          "ternary": {
           "aaxis": {
            "gridcolor": "white",
            "linecolor": "white",
            "ticks": ""
           },
           "baxis": {
            "gridcolor": "white",
            "linecolor": "white",
            "ticks": ""
           },
           "bgcolor": "#E5ECF6",
           "caxis": {
            "gridcolor": "white",
            "linecolor": "white",
            "ticks": ""
           }
          },
          "title": {
           "x": 0.05
          },
          "xaxis": {
           "automargin": true,
           "gridcolor": "white",
           "linecolor": "white",
           "ticks": "",
           "title": {
            "standoff": 15
           },
           "zerolinecolor": "white",
           "zerolinewidth": 2
          },
          "yaxis": {
           "automargin": true,
           "gridcolor": "white",
           "linecolor": "white",
           "ticks": "",
           "title": {
            "standoff": 15
           },
           "zerolinecolor": "white",
           "zerolinewidth": 2
          }
         }
        },
        "title": {
         "text": "Closing Price"
        },
        "xaxis": {
         "anchor": "y",
         "domain": [
          0,
          1
         ],
         "rangeselector": {
          "buttons": [
           {
            "count": 1,
            "label": "1m",
            "step": "month",
            "stepmode": "backward"
           },
           {
            "count": 6,
            "label": "6m",
            "step": "month",
            "stepmode": "backward"
           },
           {
            "count": 1,
            "label": "YTD",
            "step": "year",
            "stepmode": "todate"
           },
           {
            "count": 1,
            "label": "1y",
            "step": "year",
            "stepmode": "backward"
           },
           {
            "step": "all"
           }
          ]
         },
         "rangeslider": {
          "visible": true
         },
         "title": {
          "text": "date"
         },
         "type": "date"
        },
        "yaxis": {
         "anchor": "x",
         "domain": [
          0,
          1
         ],
         "title": {
          "text": "closing_price"
         }
        }
       }
      }
     },
     "metadata": {},
     "output_type": "display_data"
    }
   ],
   "source": [
    "class_list1 = list(df3['market_name'].unique())\n",
    "MarketW = Dropdown(options = class_list1)\n",
    "\n",
    "A = df3.loc[df3['market_name'] == MarketW.value, ('product', 'variety','Veg_Class', 'size', 'package', 'closing_price', 'date')]\n",
    "class_list2 = list(A['product'].unique())\n",
    "ProductW = Dropdown(options = class_list2)\n",
    "\n",
    "A = df3.loc[df3['market_name'] == MarketW.value, ('product', 'variety','Veg_Class', 'size', 'package', 'closing_price', 'date')]\n",
    "B = A.loc[A['product'] == ProductW.value, ('variety','Veg_Class', 'size', 'package', 'closing_price', 'date')]\n",
    "class_list3 = list(B['variety'].unique())\n",
    "VarietyW =  Dropdown(options = class_list3)\n",
    "\n",
    "A = df3.loc[df3['market_name'] == MarketW.value, ('product', 'variety','Veg_Class', 'size', 'package', 'closing_price', 'date')]\n",
    "B = A.loc[A['product'] == ProductW.value, ('variety','Veg_Class', 'size', 'package', 'closing_price', 'date')]    \n",
    "C = B.loc[B['variety'] == VarietyW.value, ('Veg_Class', 'size', 'package', 'closing_price', 'date')]\n",
    "class_list4 = list(C['Veg_Class'].unique())\n",
    "VegClassW =  Dropdown(options = class_list4)\n",
    "\n",
    "A = df3.loc[df3['market_name'] == MarketW.value, ('product', 'variety','Veg_Class', 'size', 'package', 'closing_price', 'date')]\n",
    "B = A.loc[A['product'] == ProductW.value, ('variety','Veg_Class', 'size', 'package', 'closing_price', 'date')]    \n",
    "C = B.loc[B['variety'] == VarietyW.value, ('Veg_Class', 'size', 'package', 'closing_price', 'date')]\n",
    "D = C.loc[C['Veg_Class'] == VegClassW.value,  ('size', 'package', 'closing_price', 'date')]\n",
    "class_list5 = list(D['size'].unique())\n",
    "SizeW = Dropdown(options = class_list5)\n",
    "\n",
    "A = df3.loc[df3['market_name'] == MarketW.value, ('product', 'variety','Veg_Class', 'size', 'package', 'closing_price', 'date')]\n",
    "B = A.loc[A['product'] == ProductW.value, ('variety','Veg_Class', 'size', 'package', 'closing_price', 'date')]    \n",
    "C = B.loc[B['variety'] == VarietyW.value, ('Veg_Class', 'size', 'package', 'closing_price', 'date')]\n",
    "D = C.loc[C['Veg_Class'] == VegClassW.value,  ('size', 'package', 'closing_price', 'date')]\n",
    "E = D.loc[D['size'] == SizeW.value,  ('package', 'closing_price', 'date')]\n",
    "class_list6 = list(E['package'].unique())\n",
    "PackageW = Dropdown(options = class_list6)\n",
    "\n",
    "\n",
    "\n",
    "@interact(Market = MarketW, Product = ProductW, Variety = VarietyW, VegClass = VegClassW, Size = SizeW, Package = PackageW)  \n",
    "\n",
    "def Vegplotly(Market, Product, Variety, VegClass, Size, Package):\n",
    "    A = df3.loc[df3['market_name'] == Market, ('product', 'variety','Veg_Class', 'size', 'package', 'closing_price', 'date', 'sales_quantity')]\n",
    "    class_list2 = list(A['product'].unique())\n",
    "    ProductW.options = class_list2 # Here is the trick, i.e. update cityW.options based on country, namely countryW.value.\n",
    "    \n",
    "    B = A.loc[A['product'] == Product, ('variety','Veg_Class', 'size', 'package', 'closing_price', 'date', 'sales_quantity')]\n",
    "    class_list3 = list(B['variety'].unique())\n",
    "    VarietyW.options = class_list3 # Dittoo\n",
    "    \n",
    "    C = B.loc[B['variety'] == Variety, ('Veg_Class', 'size', 'package', 'closing_price', 'date', 'sales_quantity')]\n",
    "    class_list4 = list(C['Veg_Class'].unique())\n",
    "    VegClassW.options = class_list4 # Dittoo\n",
    "    \n",
    "    D = C.loc[C['Veg_Class'] == VegClass,  ('size', 'package', 'closing_price', 'date', 'sales_quantity')]\n",
    "    class_list5 = list(D['size'].unique())\n",
    "    SizeW.options = class_list5 # Dittoo\n",
    "    \n",
    "    E = D.loc[D['size'] == Size,  ('package', 'closing_price', 'date', 'sales_quantity')]\n",
    "    class_list6 = list(E['package'].unique())\n",
    "    PackageW.options = class_list6 # Dittoo\n",
    "    \n",
    "    F = E.loc[E['package'] == Package,  ('closing_price', 'date', 'sales_quantity')]\n",
    "\n",
    "    fig = px.line(F, x='date', y='closing_price')\n",
    "    \n",
    "    fig.update_layout(barmode = 'group', \n",
    "    title= \"Closing Price\")\n",
    " \n",
    "    \n",
    "    # Add range slider\n",
    "    fig.update_layout(\n",
    "        xaxis=dict(\n",
    "            rangeselector=dict(\n",
    "                buttons=list([\n",
    "                    dict(count=1,\n",
    "                         label=\"1m\",\n",
    "                         step=\"month\",\n",
    "                         stepmode=\"backward\"),\n",
    "                    dict(count=6,\n",
    "                         label=\"6m\",\n",
    "                         step=\"month\",\n",
    "                         stepmode=\"backward\"),\n",
    "                    dict(count=1,\n",
    "                         label=\"YTD\",\n",
    "                         step=\"year\",\n",
    "                         stepmode=\"todate\"),\n",
    "                    dict(count=1,\n",
    "                         label=\"1y\",\n",
    "                         step=\"year\",\n",
    "                         stepmode=\"backward\"),\n",
    "                    dict(step=\"all\")\n",
    "                ])\n",
    "            ),\n",
    "            rangeslider=dict(\n",
    "                visible=True\n",
    "            ),\n",
    "            type=\"date\"\n",
    "        )\n",
    "    )\n",
    "\n",
    "    \n",
    "    fig.show()\n",
    "\n"
   ]
  },
  {
   "cell_type": "code",
   "execution_count": 74,
   "id": "1feffeda",
   "metadata": {
    "scrolled": false
   },
   "outputs": [
    {
     "data": {
      "application/vnd.jupyter.widget-view+json": {
       "model_id": "b80b391403304bbead779497760ba445",
       "version_major": 2,
       "version_minor": 0
      },
      "text/plain": [
       "interactive(children=(Dropdown(description='Market', options=('Pietermaritzburg Fresh Produce Market', 'Nelspr…"
      ]
     },
     "metadata": {},
     "output_type": "display_data"
    },
    {
     "data": {
      "application/vnd.plotly.v1+json": {
       "config": {
        "plotlyServerURL": "https://plot.ly"
       },
       "data": [
        {
         "hovertemplate": "date=%{x}<br>closing_price=%{y}<extra></extra>",
         "legendgroup": "",
         "line": {
          "color": "#636efa",
          "dash": "solid"
         },
         "marker": {
          "symbol": "circle"
         },
         "mode": "lines",
         "name": "",
         "orientation": "v",
         "showlegend": false,
         "type": "scatter",
         "x": [
          "2023-05-02T00:00:00",
          "2023-05-02T00:00:00",
          "2023-04-28T00:00:00",
          "2023-04-21T00:00:00",
          "2023-04-21T00:00:00",
          "2023-04-20T00:00:00",
          "2023-04-18T00:00:00",
          "2023-04-18T00:00:00",
          "2023-04-17T00:00:00",
          "2023-04-13T00:00:00",
          "2023-04-11T00:00:00",
          "2023-04-06T00:00:00",
          "2023-04-03T00:00:00",
          "2023-03-31T00:00:00",
          "2023-03-30T00:00:00",
          "2023-03-27T00:00:00",
          "2023-03-27T00:00:00",
          "2023-03-22T00:00:00",
          "2023-03-22T00:00:00",
          "2023-03-14T00:00:00",
          "2023-03-13T00:00:00",
          "2023-03-10T00:00:00",
          "2023-03-07T00:00:00",
          "2023-03-06T00:00:00",
          "2023-02-27T00:00:00",
          "2023-02-24T00:00:00",
          "2023-02-21T00:00:00",
          "2023-02-21T00:00:00",
          "2023-02-20T00:00:00"
         ],
         "xaxis": "x",
         "y": [
          40,
          40,
          45,
          50,
          50,
          50,
          45.11,
          45.11,
          50,
          50,
          45,
          50,
          50,
          50,
          60,
          50,
          50,
          50,
          50,
          120,
          50,
          150,
          50,
          51.25,
          58.33,
          60,
          55,
          55,
          55
         ],
         "yaxis": "y"
        }
       ],
       "layout": {
        "barmode": "group",
        "legend": {
         "tracegroupgap": 0
        },
        "margin": {
         "t": 60
        },
        "template": {
         "data": {
          "bar": [
           {
            "error_x": {
             "color": "#2a3f5f"
            },
            "error_y": {
             "color": "#2a3f5f"
            },
            "marker": {
             "line": {
              "color": "#E5ECF6",
              "width": 0.5
             },
             "pattern": {
              "fillmode": "overlay",
              "size": 10,
              "solidity": 0.2
             }
            },
            "type": "bar"
           }
          ],
          "barpolar": [
           {
            "marker": {
             "line": {
              "color": "#E5ECF6",
              "width": 0.5
             },
             "pattern": {
              "fillmode": "overlay",
              "size": 10,
              "solidity": 0.2
             }
            },
            "type": "barpolar"
           }
          ],
          "carpet": [
           {
            "aaxis": {
             "endlinecolor": "#2a3f5f",
             "gridcolor": "white",
             "linecolor": "white",
             "minorgridcolor": "white",
             "startlinecolor": "#2a3f5f"
            },
            "baxis": {
             "endlinecolor": "#2a3f5f",
             "gridcolor": "white",
             "linecolor": "white",
             "minorgridcolor": "white",
             "startlinecolor": "#2a3f5f"
            },
            "type": "carpet"
           }
          ],
          "choropleth": [
           {
            "colorbar": {
             "outlinewidth": 0,
             "ticks": ""
            },
            "type": "choropleth"
           }
          ],
          "contour": [
           {
            "colorbar": {
             "outlinewidth": 0,
             "ticks": ""
            },
            "colorscale": [
             [
              0,
              "#0d0887"
             ],
             [
              0.1111111111111111,
              "#46039f"
             ],
             [
              0.2222222222222222,
              "#7201a8"
             ],
             [
              0.3333333333333333,
              "#9c179e"
             ],
             [
              0.4444444444444444,
              "#bd3786"
             ],
             [
              0.5555555555555556,
              "#d8576b"
             ],
             [
              0.6666666666666666,
              "#ed7953"
             ],
             [
              0.7777777777777778,
              "#fb9f3a"
             ],
             [
              0.8888888888888888,
              "#fdca26"
             ],
             [
              1,
              "#f0f921"
             ]
            ],
            "type": "contour"
           }
          ],
          "contourcarpet": [
           {
            "colorbar": {
             "outlinewidth": 0,
             "ticks": ""
            },
            "type": "contourcarpet"
           }
          ],
          "heatmap": [
           {
            "colorbar": {
             "outlinewidth": 0,
             "ticks": ""
            },
            "colorscale": [
             [
              0,
              "#0d0887"
             ],
             [
              0.1111111111111111,
              "#46039f"
             ],
             [
              0.2222222222222222,
              "#7201a8"
             ],
             [
              0.3333333333333333,
              "#9c179e"
             ],
             [
              0.4444444444444444,
              "#bd3786"
             ],
             [
              0.5555555555555556,
              "#d8576b"
             ],
             [
              0.6666666666666666,
              "#ed7953"
             ],
             [
              0.7777777777777778,
              "#fb9f3a"
             ],
             [
              0.8888888888888888,
              "#fdca26"
             ],
             [
              1,
              "#f0f921"
             ]
            ],
            "type": "heatmap"
           }
          ],
          "heatmapgl": [
           {
            "colorbar": {
             "outlinewidth": 0,
             "ticks": ""
            },
            "colorscale": [
             [
              0,
              "#0d0887"
             ],
             [
              0.1111111111111111,
              "#46039f"
             ],
             [
              0.2222222222222222,
              "#7201a8"
             ],
             [
              0.3333333333333333,
              "#9c179e"
             ],
             [
              0.4444444444444444,
              "#bd3786"
             ],
             [
              0.5555555555555556,
              "#d8576b"
             ],
             [
              0.6666666666666666,
              "#ed7953"
             ],
             [
              0.7777777777777778,
              "#fb9f3a"
             ],
             [
              0.8888888888888888,
              "#fdca26"
             ],
             [
              1,
              "#f0f921"
             ]
            ],
            "type": "heatmapgl"
           }
          ],
          "histogram": [
           {
            "marker": {
             "pattern": {
              "fillmode": "overlay",
              "size": 10,
              "solidity": 0.2
             }
            },
            "type": "histogram"
           }
          ],
          "histogram2d": [
           {
            "colorbar": {
             "outlinewidth": 0,
             "ticks": ""
            },
            "colorscale": [
             [
              0,
              "#0d0887"
             ],
             [
              0.1111111111111111,
              "#46039f"
             ],
             [
              0.2222222222222222,
              "#7201a8"
             ],
             [
              0.3333333333333333,
              "#9c179e"
             ],
             [
              0.4444444444444444,
              "#bd3786"
             ],
             [
              0.5555555555555556,
              "#d8576b"
             ],
             [
              0.6666666666666666,
              "#ed7953"
             ],
             [
              0.7777777777777778,
              "#fb9f3a"
             ],
             [
              0.8888888888888888,
              "#fdca26"
             ],
             [
              1,
              "#f0f921"
             ]
            ],
            "type": "histogram2d"
           }
          ],
          "histogram2dcontour": [
           {
            "colorbar": {
             "outlinewidth": 0,
             "ticks": ""
            },
            "colorscale": [
             [
              0,
              "#0d0887"
             ],
             [
              0.1111111111111111,
              "#46039f"
             ],
             [
              0.2222222222222222,
              "#7201a8"
             ],
             [
              0.3333333333333333,
              "#9c179e"
             ],
             [
              0.4444444444444444,
              "#bd3786"
             ],
             [
              0.5555555555555556,
              "#d8576b"
             ],
             [
              0.6666666666666666,
              "#ed7953"
             ],
             [
              0.7777777777777778,
              "#fb9f3a"
             ],
             [
              0.8888888888888888,
              "#fdca26"
             ],
             [
              1,
              "#f0f921"
             ]
            ],
            "type": "histogram2dcontour"
           }
          ],
          "mesh3d": [
           {
            "colorbar": {
             "outlinewidth": 0,
             "ticks": ""
            },
            "type": "mesh3d"
           }
          ],
          "parcoords": [
           {
            "line": {
             "colorbar": {
              "outlinewidth": 0,
              "ticks": ""
             }
            },
            "type": "parcoords"
           }
          ],
          "pie": [
           {
            "automargin": true,
            "type": "pie"
           }
          ],
          "scatter": [
           {
            "fillpattern": {
             "fillmode": "overlay",
             "size": 10,
             "solidity": 0.2
            },
            "type": "scatter"
           }
          ],
          "scatter3d": [
           {
            "line": {
             "colorbar": {
              "outlinewidth": 0,
              "ticks": ""
             }
            },
            "marker": {
             "colorbar": {
              "outlinewidth": 0,
              "ticks": ""
             }
            },
            "type": "scatter3d"
           }
          ],
          "scattercarpet": [
           {
            "marker": {
             "colorbar": {
              "outlinewidth": 0,
              "ticks": ""
             }
            },
            "type": "scattercarpet"
           }
          ],
          "scattergeo": [
           {
            "marker": {
             "colorbar": {
              "outlinewidth": 0,
              "ticks": ""
             }
            },
            "type": "scattergeo"
           }
          ],
          "scattergl": [
           {
            "marker": {
             "colorbar": {
              "outlinewidth": 0,
              "ticks": ""
             }
            },
            "type": "scattergl"
           }
          ],
          "scattermapbox": [
           {
            "marker": {
             "colorbar": {
              "outlinewidth": 0,
              "ticks": ""
             }
            },
            "type": "scattermapbox"
           }
          ],
          "scatterpolar": [
           {
            "marker": {
             "colorbar": {
              "outlinewidth": 0,
              "ticks": ""
             }
            },
            "type": "scatterpolar"
           }
          ],
          "scatterpolargl": [
           {
            "marker": {
             "colorbar": {
              "outlinewidth": 0,
              "ticks": ""
             }
            },
            "type": "scatterpolargl"
           }
          ],
          "scatterternary": [
           {
            "marker": {
             "colorbar": {
              "outlinewidth": 0,
              "ticks": ""
             }
            },
            "type": "scatterternary"
           }
          ],
          "surface": [
           {
            "colorbar": {
             "outlinewidth": 0,
             "ticks": ""
            },
            "colorscale": [
             [
              0,
              "#0d0887"
             ],
             [
              0.1111111111111111,
              "#46039f"
             ],
             [
              0.2222222222222222,
              "#7201a8"
             ],
             [
              0.3333333333333333,
              "#9c179e"
             ],
             [
              0.4444444444444444,
              "#bd3786"
             ],
             [
              0.5555555555555556,
              "#d8576b"
             ],
             [
              0.6666666666666666,
              "#ed7953"
             ],
             [
              0.7777777777777778,
              "#fb9f3a"
             ],
             [
              0.8888888888888888,
              "#fdca26"
             ],
             [
              1,
              "#f0f921"
             ]
            ],
            "type": "surface"
           }
          ],
          "table": [
           {
            "cells": {
             "fill": {
              "color": "#EBF0F8"
             },
             "line": {
              "color": "white"
             }
            },
            "header": {
             "fill": {
              "color": "#C8D4E3"
             },
             "line": {
              "color": "white"
             }
            },
            "type": "table"
           }
          ]
         },
         "layout": {
          "annotationdefaults": {
           "arrowcolor": "#2a3f5f",
           "arrowhead": 0,
           "arrowwidth": 1
          },
          "autotypenumbers": "strict",
          "coloraxis": {
           "colorbar": {
            "outlinewidth": 0,
            "ticks": ""
           }
          },
          "colorscale": {
           "diverging": [
            [
             0,
             "#8e0152"
            ],
            [
             0.1,
             "#c51b7d"
            ],
            [
             0.2,
             "#de77ae"
            ],
            [
             0.3,
             "#f1b6da"
            ],
            [
             0.4,
             "#fde0ef"
            ],
            [
             0.5,
             "#f7f7f7"
            ],
            [
             0.6,
             "#e6f5d0"
            ],
            [
             0.7,
             "#b8e186"
            ],
            [
             0.8,
             "#7fbc41"
            ],
            [
             0.9,
             "#4d9221"
            ],
            [
             1,
             "#276419"
            ]
           ],
           "sequential": [
            [
             0,
             "#0d0887"
            ],
            [
             0.1111111111111111,
             "#46039f"
            ],
            [
             0.2222222222222222,
             "#7201a8"
            ],
            [
             0.3333333333333333,
             "#9c179e"
            ],
            [
             0.4444444444444444,
             "#bd3786"
            ],
            [
             0.5555555555555556,
             "#d8576b"
            ],
            [
             0.6666666666666666,
             "#ed7953"
            ],
            [
             0.7777777777777778,
             "#fb9f3a"
            ],
            [
             0.8888888888888888,
             "#fdca26"
            ],
            [
             1,
             "#f0f921"
            ]
           ],
           "sequentialminus": [
            [
             0,
             "#0d0887"
            ],
            [
             0.1111111111111111,
             "#46039f"
            ],
            [
             0.2222222222222222,
             "#7201a8"
            ],
            [
             0.3333333333333333,
             "#9c179e"
            ],
            [
             0.4444444444444444,
             "#bd3786"
            ],
            [
             0.5555555555555556,
             "#d8576b"
            ],
            [
             0.6666666666666666,
             "#ed7953"
            ],
            [
             0.7777777777777778,
             "#fb9f3a"
            ],
            [
             0.8888888888888888,
             "#fdca26"
            ],
            [
             1,
             "#f0f921"
            ]
           ]
          },
          "colorway": [
           "#636efa",
           "#EF553B",
           "#00cc96",
           "#ab63fa",
           "#FFA15A",
           "#19d3f3",
           "#FF6692",
           "#B6E880",
           "#FF97FF",
           "#FECB52"
          ],
          "font": {
           "color": "#2a3f5f"
          },
          "geo": {
           "bgcolor": "white",
           "lakecolor": "white",
           "landcolor": "#E5ECF6",
           "showlakes": true,
           "showland": true,
           "subunitcolor": "white"
          },
          "hoverlabel": {
           "align": "left"
          },
          "hovermode": "closest",
          "mapbox": {
           "style": "light"
          },
          "paper_bgcolor": "white",
          "plot_bgcolor": "#E5ECF6",
          "polar": {
           "angularaxis": {
            "gridcolor": "white",
            "linecolor": "white",
            "ticks": ""
           },
           "bgcolor": "#E5ECF6",
           "radialaxis": {
            "gridcolor": "white",
            "linecolor": "white",
            "ticks": ""
           }
          },
          "scene": {
           "xaxis": {
            "backgroundcolor": "#E5ECF6",
            "gridcolor": "white",
            "gridwidth": 2,
            "linecolor": "white",
            "showbackground": true,
            "ticks": "",
            "zerolinecolor": "white"
           },
           "yaxis": {
            "backgroundcolor": "#E5ECF6",
            "gridcolor": "white",
            "gridwidth": 2,
            "linecolor": "white",
            "showbackground": true,
            "ticks": "",
            "zerolinecolor": "white"
           },
           "zaxis": {
            "backgroundcolor": "#E5ECF6",
            "gridcolor": "white",
            "gridwidth": 2,
            "linecolor": "white",
            "showbackground": true,
            "ticks": "",
            "zerolinecolor": "white"
           }
          },
          "shapedefaults": {
           "line": {
            "color": "#2a3f5f"
           }
          },
          "ternary": {
           "aaxis": {
            "gridcolor": "white",
            "linecolor": "white",
            "ticks": ""
           },
           "baxis": {
            "gridcolor": "white",
            "linecolor": "white",
            "ticks": ""
           },
           "bgcolor": "#E5ECF6",
           "caxis": {
            "gridcolor": "white",
            "linecolor": "white",
            "ticks": ""
           }
          },
          "title": {
           "x": 0.05
          },
          "xaxis": {
           "automargin": true,
           "gridcolor": "white",
           "linecolor": "white",
           "ticks": "",
           "title": {
            "standoff": 15
           },
           "zerolinecolor": "white",
           "zerolinewidth": 2
          },
          "yaxis": {
           "automargin": true,
           "gridcolor": "white",
           "linecolor": "white",
           "ticks": "",
           "title": {
            "standoff": 15
           },
           "zerolinecolor": "white",
           "zerolinewidth": 2
          }
         }
        },
        "title": {
         "text": "Closing Price"
        },
        "xaxis": {
         "anchor": "y",
         "domain": [
          0,
          1
         ],
         "rangeselector": {
          "buttons": [
           {
            "count": 1,
            "label": "1m",
            "step": "month",
            "stepmode": "backward"
           },
           {
            "count": 6,
            "label": "6m",
            "step": "month",
            "stepmode": "backward"
           },
           {
            "count": 1,
            "label": "YTD",
            "step": "year",
            "stepmode": "todate"
           },
           {
            "count": 1,
            "label": "1y",
            "step": "year",
            "stepmode": "backward"
           },
           {
            "step": "all"
           }
          ]
         },
         "rangeslider": {
          "visible": true
         },
         "title": {
          "text": "date"
         },
         "type": "date"
        },
        "yaxis": {
         "anchor": "x",
         "domain": [
          0,
          1
         ],
         "title": {
          "text": "closing_price"
         }
        }
       }
      }
     },
     "metadata": {},
     "output_type": "display_data"
    }
   ],
   "source": [
    "class_list1 = list(df3['market_name'].unique())\n",
    "MarketW = Dropdown(options = class_list1)\n",
    "\n",
    "A = df3.loc[df3['market_name'] == MarketW.value, ('product', 'variety','Veg_Class', 'size', 'package', 'closing_price', 'date')]\n",
    "class_list2 = list(A['product'].unique())\n",
    "ProductW = Dropdown(options = class_list2)\n",
    "\n",
    "B = A.loc[A['product'] == ProductW.value, ('variety','Veg_Class', 'size', 'package', 'closing_price', 'date')]\n",
    "class_list3 = list(B['variety'].unique())\n",
    "VarietyW =  Dropdown(options = class_list3)\n",
    "   \n",
    "C = B.loc[B['variety'] == VarietyW.value, ('Veg_Class', 'size', 'package', 'closing_price', 'date')]\n",
    "class_list4 = list(C['Veg_Class'].unique())\n",
    "VegClassW =  Dropdown(options = class_list4)\n",
    "\n",
    "D = C.loc[C['Veg_Class'] == VegClassW.value,  ('size', 'package', 'closing_price', 'date')]\n",
    "class_list5 = list(D['size'].unique())\n",
    "SizeW = Dropdown(options = class_list5)\n",
    "\n",
    "\n",
    "E = D.loc[D['size'] == SizeW.value,  ('package', 'closing_price', 'date')]\n",
    "class_list6 = list(E['package'].unique())\n",
    "PackageW = Dropdown(options = class_list6)\n",
    "\n",
    "\n",
    "\n",
    "@interact(Market = MarketW, Product = ProductW, Variety = VarietyW, VegClass = VegClassW, Size = SizeW, Package = PackageW)  \n",
    "\n",
    "def Vegplotly(Market, Product, Variety, VegClass, Size, Package):\n",
    "    A = df3.loc[df3['market_name'] == Market, ('product', 'variety','Veg_Class', 'size', 'package', 'closing_price', 'date', 'sales_quantity')]\n",
    "    class_list2 = list(A['product'].unique())\n",
    "    ProductW.options = class_list2 # Here is the trick, i.e. update cityW.options based on country, namely countryW.value.\n",
    "    \n",
    "    B = A.loc[A['product'] == Product, ('variety','Veg_Class', 'size', 'package', 'closing_price', 'date', 'sales_quantity')]\n",
    "    class_list3 = list(B['variety'].unique())\n",
    "    VarietyW.options = class_list3 # Dittoo\n",
    "    \n",
    "    C = B.loc[B['variety'] == Variety, ('Veg_Class', 'size', 'package', 'closing_price', 'date', 'sales_quantity')]\n",
    "    class_list4 = list(C['Veg_Class'].unique())\n",
    "    VegClassW.options = class_list4 # Dittoo\n",
    "    \n",
    "    D = C.loc[C['Veg_Class'] == VegClass,  ('size', 'package', 'closing_price', 'date', 'sales_quantity')]\n",
    "    class_list5 = list(D['size'].unique())\n",
    "    SizeW.options = class_list5 # Dittoo\n",
    "    \n",
    "    E = D.loc[D['size'] == Size,  ('package', 'closing_price', 'date', 'sales_quantity')]\n",
    "    class_list6 = list(E['package'].unique())\n",
    "    PackageW.options = class_list6 # Dittoo\n",
    "    \n",
    "    F = E.loc[E['package'] == Package,  ('closing_price', 'date', 'sales_quantity')]\n",
    "\n",
    "    fig = px.line(F, x='date', y='closing_price')\n",
    "    \n",
    "    fig.update_layout(barmode = 'group', \n",
    "    title= \"Closing Price\")\n",
    " \n",
    "    \n",
    "    # Add range slider\n",
    "    fig.update_layout(\n",
    "        xaxis=dict(\n",
    "            rangeselector=dict(\n",
    "                buttons=list([\n",
    "                    dict(count=1,\n",
    "                         label=\"1m\",\n",
    "                         step=\"month\",\n",
    "                         stepmode=\"backward\"),\n",
    "                    dict(count=6,\n",
    "                         label=\"6m\",\n",
    "                         step=\"month\",\n",
    "                         stepmode=\"backward\"),\n",
    "                    dict(count=1,\n",
    "                         label=\"YTD\",\n",
    "                         step=\"year\",\n",
    "                         stepmode=\"todate\"),\n",
    "                    dict(count=1,\n",
    "                         label=\"1y\",\n",
    "                         step=\"year\",\n",
    "                         stepmode=\"backward\"),\n",
    "                    dict(step=\"all\")\n",
    "                ])\n",
    "            ),\n",
    "            rangeslider=dict(\n",
    "                visible=True\n",
    "            ),\n",
    "            type=\"date\"\n",
    "        )\n",
    "    )\n",
    "\n",
    "    \n",
    "    fig.show()\n",
    "\n"
   ]
  },
  {
   "cell_type": "code",
   "execution_count": 75,
   "id": "5507f74d",
   "metadata": {},
   "outputs": [
    {
     "data": {
      "application/vnd.jupyter.widget-view+json": {
       "model_id": "b2a0c580f59049f08d51b65ddad7caeb",
       "version_major": 2,
       "version_minor": 0
      },
      "text/plain": [
       "interactive(children=(Dropdown(description='Products', options=(' PECAN NUTS', ' BROCOLLI', ' AMADUMBE', ' BUT…"
      ]
     },
     "metadata": {},
     "output_type": "display_data"
    },
    {
     "data": {
      "application/vnd.plotly.v1+json": {
       "config": {
        "plotlyServerURL": "https://plot.ly"
       },
       "data": [
        {
         "domain": {
          "x": [
           0,
           1
          ],
          "y": [
           0,
           1
          ]
         },
         "hole": 0.4,
         "hoverinfo": "label+percent+name",
         "hovertemplate": "label=%{label}<br>value=%{value}<extra></extra>",
         "labels": [
          "Tshwane Fresh Produce Market",
          "Pietermaritzburg Fresh Produce Market",
          "Durban Fresh Produce Market",
          "Cape Town Fresh Produce Market",
          "Klerksdorp Fresh Produce Market",
          "Witbank Fresh Produce Market",
          "Bloemfontein (Mangaung) Fresh Produce Market",
          "Johannesburg Fresh Produce Market"
         ],
         "legendgroup": "",
         "name": "",
         "showlegend": true,
         "textinfo": "value",
         "type": "pie",
         "values": [
          87,
          38,
          18,
          17,
          7,
          6,
          1,
          1
         ]
        }
       ],
       "layout": {
        "annotations": [
         {
          "font": {
           "size": 13
          },
          "showarrow": false,
          "text": " PECAN NUTS",
          "x": 0.5,
          "y": 0.5
         }
        ],
        "legend": {
         "tracegroupgap": 0
        },
        "margin": {
         "t": 60
        },
        "template": {
         "data": {
          "bar": [
           {
            "error_x": {
             "color": "#2a3f5f"
            },
            "error_y": {
             "color": "#2a3f5f"
            },
            "marker": {
             "line": {
              "color": "#E5ECF6",
              "width": 0.5
             },
             "pattern": {
              "fillmode": "overlay",
              "size": 10,
              "solidity": 0.2
             }
            },
            "type": "bar"
           }
          ],
          "barpolar": [
           {
            "marker": {
             "line": {
              "color": "#E5ECF6",
              "width": 0.5
             },
             "pattern": {
              "fillmode": "overlay",
              "size": 10,
              "solidity": 0.2
             }
            },
            "type": "barpolar"
           }
          ],
          "carpet": [
           {
            "aaxis": {
             "endlinecolor": "#2a3f5f",
             "gridcolor": "white",
             "linecolor": "white",
             "minorgridcolor": "white",
             "startlinecolor": "#2a3f5f"
            },
            "baxis": {
             "endlinecolor": "#2a3f5f",
             "gridcolor": "white",
             "linecolor": "white",
             "minorgridcolor": "white",
             "startlinecolor": "#2a3f5f"
            },
            "type": "carpet"
           }
          ],
          "choropleth": [
           {
            "colorbar": {
             "outlinewidth": 0,
             "ticks": ""
            },
            "type": "choropleth"
           }
          ],
          "contour": [
           {
            "colorbar": {
             "outlinewidth": 0,
             "ticks": ""
            },
            "colorscale": [
             [
              0,
              "#0d0887"
             ],
             [
              0.1111111111111111,
              "#46039f"
             ],
             [
              0.2222222222222222,
              "#7201a8"
             ],
             [
              0.3333333333333333,
              "#9c179e"
             ],
             [
              0.4444444444444444,
              "#bd3786"
             ],
             [
              0.5555555555555556,
              "#d8576b"
             ],
             [
              0.6666666666666666,
              "#ed7953"
             ],
             [
              0.7777777777777778,
              "#fb9f3a"
             ],
             [
              0.8888888888888888,
              "#fdca26"
             ],
             [
              1,
              "#f0f921"
             ]
            ],
            "type": "contour"
           }
          ],
          "contourcarpet": [
           {
            "colorbar": {
             "outlinewidth": 0,
             "ticks": ""
            },
            "type": "contourcarpet"
           }
          ],
          "heatmap": [
           {
            "colorbar": {
             "outlinewidth": 0,
             "ticks": ""
            },
            "colorscale": [
             [
              0,
              "#0d0887"
             ],
             [
              0.1111111111111111,
              "#46039f"
             ],
             [
              0.2222222222222222,
              "#7201a8"
             ],
             [
              0.3333333333333333,
              "#9c179e"
             ],
             [
              0.4444444444444444,
              "#bd3786"
             ],
             [
              0.5555555555555556,
              "#d8576b"
             ],
             [
              0.6666666666666666,
              "#ed7953"
             ],
             [
              0.7777777777777778,
              "#fb9f3a"
             ],
             [
              0.8888888888888888,
              "#fdca26"
             ],
             [
              1,
              "#f0f921"
             ]
            ],
            "type": "heatmap"
           }
          ],
          "heatmapgl": [
           {
            "colorbar": {
             "outlinewidth": 0,
             "ticks": ""
            },
            "colorscale": [
             [
              0,
              "#0d0887"
             ],
             [
              0.1111111111111111,
              "#46039f"
             ],
             [
              0.2222222222222222,
              "#7201a8"
             ],
             [
              0.3333333333333333,
              "#9c179e"
             ],
             [
              0.4444444444444444,
              "#bd3786"
             ],
             [
              0.5555555555555556,
              "#d8576b"
             ],
             [
              0.6666666666666666,
              "#ed7953"
             ],
             [
              0.7777777777777778,
              "#fb9f3a"
             ],
             [
              0.8888888888888888,
              "#fdca26"
             ],
             [
              1,
              "#f0f921"
             ]
            ],
            "type": "heatmapgl"
           }
          ],
          "histogram": [
           {
            "marker": {
             "pattern": {
              "fillmode": "overlay",
              "size": 10,
              "solidity": 0.2
             }
            },
            "type": "histogram"
           }
          ],
          "histogram2d": [
           {
            "colorbar": {
             "outlinewidth": 0,
             "ticks": ""
            },
            "colorscale": [
             [
              0,
              "#0d0887"
             ],
             [
              0.1111111111111111,
              "#46039f"
             ],
             [
              0.2222222222222222,
              "#7201a8"
             ],
             [
              0.3333333333333333,
              "#9c179e"
             ],
             [
              0.4444444444444444,
              "#bd3786"
             ],
             [
              0.5555555555555556,
              "#d8576b"
             ],
             [
              0.6666666666666666,
              "#ed7953"
             ],
             [
              0.7777777777777778,
              "#fb9f3a"
             ],
             [
              0.8888888888888888,
              "#fdca26"
             ],
             [
              1,
              "#f0f921"
             ]
            ],
            "type": "histogram2d"
           }
          ],
          "histogram2dcontour": [
           {
            "colorbar": {
             "outlinewidth": 0,
             "ticks": ""
            },
            "colorscale": [
             [
              0,
              "#0d0887"
             ],
             [
              0.1111111111111111,
              "#46039f"
             ],
             [
              0.2222222222222222,
              "#7201a8"
             ],
             [
              0.3333333333333333,
              "#9c179e"
             ],
             [
              0.4444444444444444,
              "#bd3786"
             ],
             [
              0.5555555555555556,
              "#d8576b"
             ],
             [
              0.6666666666666666,
              "#ed7953"
             ],
             [
              0.7777777777777778,
              "#fb9f3a"
             ],
             [
              0.8888888888888888,
              "#fdca26"
             ],
             [
              1,
              "#f0f921"
             ]
            ],
            "type": "histogram2dcontour"
           }
          ],
          "mesh3d": [
           {
            "colorbar": {
             "outlinewidth": 0,
             "ticks": ""
            },
            "type": "mesh3d"
           }
          ],
          "parcoords": [
           {
            "line": {
             "colorbar": {
              "outlinewidth": 0,
              "ticks": ""
             }
            },
            "type": "parcoords"
           }
          ],
          "pie": [
           {
            "automargin": true,
            "type": "pie"
           }
          ],
          "scatter": [
           {
            "fillpattern": {
             "fillmode": "overlay",
             "size": 10,
             "solidity": 0.2
            },
            "type": "scatter"
           }
          ],
          "scatter3d": [
           {
            "line": {
             "colorbar": {
              "outlinewidth": 0,
              "ticks": ""
             }
            },
            "marker": {
             "colorbar": {
              "outlinewidth": 0,
              "ticks": ""
             }
            },
            "type": "scatter3d"
           }
          ],
          "scattercarpet": [
           {
            "marker": {
             "colorbar": {
              "outlinewidth": 0,
              "ticks": ""
             }
            },
            "type": "scattercarpet"
           }
          ],
          "scattergeo": [
           {
            "marker": {
             "colorbar": {
              "outlinewidth": 0,
              "ticks": ""
             }
            },
            "type": "scattergeo"
           }
          ],
          "scattergl": [
           {
            "marker": {
             "colorbar": {
              "outlinewidth": 0,
              "ticks": ""
             }
            },
            "type": "scattergl"
           }
          ],
          "scattermapbox": [
           {
            "marker": {
             "colorbar": {
              "outlinewidth": 0,
              "ticks": ""
             }
            },
            "type": "scattermapbox"
           }
          ],
          "scatterpolar": [
           {
            "marker": {
             "colorbar": {
              "outlinewidth": 0,
              "ticks": ""
             }
            },
            "type": "scatterpolar"
           }
          ],
          "scatterpolargl": [
           {
            "marker": {
             "colorbar": {
              "outlinewidth": 0,
              "ticks": ""
             }
            },
            "type": "scatterpolargl"
           }
          ],
          "scatterternary": [
           {
            "marker": {
             "colorbar": {
              "outlinewidth": 0,
              "ticks": ""
             }
            },
            "type": "scatterternary"
           }
          ],
          "surface": [
           {
            "colorbar": {
             "outlinewidth": 0,
             "ticks": ""
            },
            "colorscale": [
             [
              0,
              "#0d0887"
             ],
             [
              0.1111111111111111,
              "#46039f"
             ],
             [
              0.2222222222222222,
              "#7201a8"
             ],
             [
              0.3333333333333333,
              "#9c179e"
             ],
             [
              0.4444444444444444,
              "#bd3786"
             ],
             [
              0.5555555555555556,
              "#d8576b"
             ],
             [
              0.6666666666666666,
              "#ed7953"
             ],
             [
              0.7777777777777778,
              "#fb9f3a"
             ],
             [
              0.8888888888888888,
              "#fdca26"
             ],
             [
              1,
              "#f0f921"
             ]
            ],
            "type": "surface"
           }
          ],
          "table": [
           {
            "cells": {
             "fill": {
              "color": "#EBF0F8"
             },
             "line": {
              "color": "white"
             }
            },
            "header": {
             "fill": {
              "color": "#C8D4E3"
             },
             "line": {
              "color": "white"
             }
            },
            "type": "table"
           }
          ]
         },
         "layout": {
          "annotationdefaults": {
           "arrowcolor": "#2a3f5f",
           "arrowhead": 0,
           "arrowwidth": 1
          },
          "autotypenumbers": "strict",
          "coloraxis": {
           "colorbar": {
            "outlinewidth": 0,
            "ticks": ""
           }
          },
          "colorscale": {
           "diverging": [
            [
             0,
             "#8e0152"
            ],
            [
             0.1,
             "#c51b7d"
            ],
            [
             0.2,
             "#de77ae"
            ],
            [
             0.3,
             "#f1b6da"
            ],
            [
             0.4,
             "#fde0ef"
            ],
            [
             0.5,
             "#f7f7f7"
            ],
            [
             0.6,
             "#e6f5d0"
            ],
            [
             0.7,
             "#b8e186"
            ],
            [
             0.8,
             "#7fbc41"
            ],
            [
             0.9,
             "#4d9221"
            ],
            [
             1,
             "#276419"
            ]
           ],
           "sequential": [
            [
             0,
             "#0d0887"
            ],
            [
             0.1111111111111111,
             "#46039f"
            ],
            [
             0.2222222222222222,
             "#7201a8"
            ],
            [
             0.3333333333333333,
             "#9c179e"
            ],
            [
             0.4444444444444444,
             "#bd3786"
            ],
            [
             0.5555555555555556,
             "#d8576b"
            ],
            [
             0.6666666666666666,
             "#ed7953"
            ],
            [
             0.7777777777777778,
             "#fb9f3a"
            ],
            [
             0.8888888888888888,
             "#fdca26"
            ],
            [
             1,
             "#f0f921"
            ]
           ],
           "sequentialminus": [
            [
             0,
             "#0d0887"
            ],
            [
             0.1111111111111111,
             "#46039f"
            ],
            [
             0.2222222222222222,
             "#7201a8"
            ],
            [
             0.3333333333333333,
             "#9c179e"
            ],
            [
             0.4444444444444444,
             "#bd3786"
            ],
            [
             0.5555555555555556,
             "#d8576b"
            ],
            [
             0.6666666666666666,
             "#ed7953"
            ],
            [
             0.7777777777777778,
             "#fb9f3a"
            ],
            [
             0.8888888888888888,
             "#fdca26"
            ],
            [
             1,
             "#f0f921"
            ]
           ]
          },
          "colorway": [
           "#636efa",
           "#EF553B",
           "#00cc96",
           "#ab63fa",
           "#FFA15A",
           "#19d3f3",
           "#FF6692",
           "#B6E880",
           "#FF97FF",
           "#FECB52"
          ],
          "font": {
           "color": "#2a3f5f"
          },
          "geo": {
           "bgcolor": "white",
           "lakecolor": "white",
           "landcolor": "#E5ECF6",
           "showlakes": true,
           "showland": true,
           "subunitcolor": "white"
          },
          "hoverlabel": {
           "align": "left"
          },
          "hovermode": "closest",
          "mapbox": {
           "style": "light"
          },
          "paper_bgcolor": "white",
          "plot_bgcolor": "#E5ECF6",
          "polar": {
           "angularaxis": {
            "gridcolor": "white",
            "linecolor": "white",
            "ticks": ""
           },
           "bgcolor": "#E5ECF6",
           "radialaxis": {
            "gridcolor": "white",
            "linecolor": "white",
            "ticks": ""
           }
          },
          "scene": {
           "xaxis": {
            "backgroundcolor": "#E5ECF6",
            "gridcolor": "white",
            "gridwidth": 2,
            "linecolor": "white",
            "showbackground": true,
            "ticks": "",
            "zerolinecolor": "white"
           },
           "yaxis": {
            "backgroundcolor": "#E5ECF6",
            "gridcolor": "white",
            "gridwidth": 2,
            "linecolor": "white",
            "showbackground": true,
            "ticks": "",
            "zerolinecolor": "white"
           },
           "zaxis": {
            "backgroundcolor": "#E5ECF6",
            "gridcolor": "white",
            "gridwidth": 2,
            "linecolor": "white",
            "showbackground": true,
            "ticks": "",
            "zerolinecolor": "white"
           }
          },
          "shapedefaults": {
           "line": {
            "color": "#2a3f5f"
           }
          },
          "ternary": {
           "aaxis": {
            "gridcolor": "white",
            "linecolor": "white",
            "ticks": ""
           },
           "baxis": {
            "gridcolor": "white",
            "linecolor": "white",
            "ticks": ""
           },
           "bgcolor": "#E5ECF6",
           "caxis": {
            "gridcolor": "white",
            "linecolor": "white",
            "ticks": ""
           }
          },
          "title": {
           "x": 0.05
          },
          "xaxis": {
           "automargin": true,
           "gridcolor": "white",
           "linecolor": "white",
           "ticks": "",
           "title": {
            "standoff": 15
           },
           "zerolinecolor": "white",
           "zerolinewidth": 2
          },
          "yaxis": {
           "automargin": true,
           "gridcolor": "white",
           "linecolor": "white",
           "ticks": "",
           "title": {
            "standoff": 15
           },
           "zerolinecolor": "white",
           "zerolinewidth": 2
          }
         }
        },
        "title": {
         "text": "Trading Activities for PECAN NUTS Across Various Markets "
        }
       }
      }
     },
     "metadata": {},
     "output_type": "display_data"
    },
    {
     "data": {
      "text/plain": [
       "<function __main__.product_pie(Products)>"
      ]
     },
     "execution_count": 75,
     "metadata": {},
     "output_type": "execute_result"
    }
   ],
   "source": [
    "\n",
    "class_list2 = list(df3['product'].unique())\n",
    "\n",
    "def product_pie(Products):\n",
    "    A = df3.loc[df3['product'] == Products, ('market_name')]\n",
    " \n",
    "    fig = px.pie(A, values=A.value_counts().values)\n",
    "    fig.update_traces(hoverinfo='label+percent+name', textinfo='value', hole=.4)\n",
    "    \n",
    "    fig.update_layout(\n",
    "    title_text= f\"Trading Activities for{Products} Across Various Markets \",\n",
    "    # Add annotations in the center of the donut pies.\n",
    "    annotations=[dict(text=f'{Products}', x=0.5, y=0.5, font_size=13, showarrow=False)])\n",
    "    fig.show()\n",
    "    \n",
    "widgets.interact(product_pie, Products = class_list2)"
   ]
  },
  {
   "cell_type": "code",
   "execution_count": 76,
   "id": "cf4e4e70",
   "metadata": {
    "scrolled": false
   },
   "outputs": [
    {
     "data": {
      "application/vnd.jupyter.widget-view+json": {
       "model_id": "354991c883c34f23adfaf5cc7eb2c753",
       "version_major": 2,
       "version_minor": 0
      },
      "text/plain": [
       "interactive(children=(Dropdown(description='Market', options=('Durban Fresh Produce Market', 'Cape Town Fresh …"
      ]
     },
     "metadata": {},
     "output_type": "display_data"
    },
    {
     "data": {
      "application/vnd.plotly.v1+json": {
       "config": {
        "plotlyServerURL": "https://plot.ly"
       },
       "data": [
        {
         "name": "Closing Price",
         "type": "scatter",
         "x": [
          "2023-02-02T00:00:00",
          "2023-02-06T00:00:00",
          "2023-02-09T00:00:00",
          "2023-02-10T00:00:00",
          "2023-02-14T00:00:00",
          "2023-03-06T00:00:00",
          "2023-04-06T00:00:00",
          "2023-04-14T00:00:00",
          "2023-04-17T00:00:00",
          "2023-04-24T00:00:00",
          "2023-04-28T00:00:00"
         ],
         "y": [
          120,
          160,
          100,
          100,
          100,
          135,
          145,
          132.82,
          140,
          138.07,
          110
         ]
        }
       ],
       "layout": {
        "barmode": "group",
        "template": {
         "data": {
          "bar": [
           {
            "error_x": {
             "color": "#2a3f5f"
            },
            "error_y": {
             "color": "#2a3f5f"
            },
            "marker": {
             "line": {
              "color": "#E5ECF6",
              "width": 0.5
             },
             "pattern": {
              "fillmode": "overlay",
              "size": 10,
              "solidity": 0.2
             }
            },
            "type": "bar"
           }
          ],
          "barpolar": [
           {
            "marker": {
             "line": {
              "color": "#E5ECF6",
              "width": 0.5
             },
             "pattern": {
              "fillmode": "overlay",
              "size": 10,
              "solidity": 0.2
             }
            },
            "type": "barpolar"
           }
          ],
          "carpet": [
           {
            "aaxis": {
             "endlinecolor": "#2a3f5f",
             "gridcolor": "white",
             "linecolor": "white",
             "minorgridcolor": "white",
             "startlinecolor": "#2a3f5f"
            },
            "baxis": {
             "endlinecolor": "#2a3f5f",
             "gridcolor": "white",
             "linecolor": "white",
             "minorgridcolor": "white",
             "startlinecolor": "#2a3f5f"
            },
            "type": "carpet"
           }
          ],
          "choropleth": [
           {
            "colorbar": {
             "outlinewidth": 0,
             "ticks": ""
            },
            "type": "choropleth"
           }
          ],
          "contour": [
           {
            "colorbar": {
             "outlinewidth": 0,
             "ticks": ""
            },
            "colorscale": [
             [
              0,
              "#0d0887"
             ],
             [
              0.1111111111111111,
              "#46039f"
             ],
             [
              0.2222222222222222,
              "#7201a8"
             ],
             [
              0.3333333333333333,
              "#9c179e"
             ],
             [
              0.4444444444444444,
              "#bd3786"
             ],
             [
              0.5555555555555556,
              "#d8576b"
             ],
             [
              0.6666666666666666,
              "#ed7953"
             ],
             [
              0.7777777777777778,
              "#fb9f3a"
             ],
             [
              0.8888888888888888,
              "#fdca26"
             ],
             [
              1,
              "#f0f921"
             ]
            ],
            "type": "contour"
           }
          ],
          "contourcarpet": [
           {
            "colorbar": {
             "outlinewidth": 0,
             "ticks": ""
            },
            "type": "contourcarpet"
           }
          ],
          "heatmap": [
           {
            "colorbar": {
             "outlinewidth": 0,
             "ticks": ""
            },
            "colorscale": [
             [
              0,
              "#0d0887"
             ],
             [
              0.1111111111111111,
              "#46039f"
             ],
             [
              0.2222222222222222,
              "#7201a8"
             ],
             [
              0.3333333333333333,
              "#9c179e"
             ],
             [
              0.4444444444444444,
              "#bd3786"
             ],
             [
              0.5555555555555556,
              "#d8576b"
             ],
             [
              0.6666666666666666,
              "#ed7953"
             ],
             [
              0.7777777777777778,
              "#fb9f3a"
             ],
             [
              0.8888888888888888,
              "#fdca26"
             ],
             [
              1,
              "#f0f921"
             ]
            ],
            "type": "heatmap"
           }
          ],
          "heatmapgl": [
           {
            "colorbar": {
             "outlinewidth": 0,
             "ticks": ""
            },
            "colorscale": [
             [
              0,
              "#0d0887"
             ],
             [
              0.1111111111111111,
              "#46039f"
             ],
             [
              0.2222222222222222,
              "#7201a8"
             ],
             [
              0.3333333333333333,
              "#9c179e"
             ],
             [
              0.4444444444444444,
              "#bd3786"
             ],
             [
              0.5555555555555556,
              "#d8576b"
             ],
             [
              0.6666666666666666,
              "#ed7953"
             ],
             [
              0.7777777777777778,
              "#fb9f3a"
             ],
             [
              0.8888888888888888,
              "#fdca26"
             ],
             [
              1,
              "#f0f921"
             ]
            ],
            "type": "heatmapgl"
           }
          ],
          "histogram": [
           {
            "marker": {
             "pattern": {
              "fillmode": "overlay",
              "size": 10,
              "solidity": 0.2
             }
            },
            "type": "histogram"
           }
          ],
          "histogram2d": [
           {
            "colorbar": {
             "outlinewidth": 0,
             "ticks": ""
            },
            "colorscale": [
             [
              0,
              "#0d0887"
             ],
             [
              0.1111111111111111,
              "#46039f"
             ],
             [
              0.2222222222222222,
              "#7201a8"
             ],
             [
              0.3333333333333333,
              "#9c179e"
             ],
             [
              0.4444444444444444,
              "#bd3786"
             ],
             [
              0.5555555555555556,
              "#d8576b"
             ],
             [
              0.6666666666666666,
              "#ed7953"
             ],
             [
              0.7777777777777778,
              "#fb9f3a"
             ],
             [
              0.8888888888888888,
              "#fdca26"
             ],
             [
              1,
              "#f0f921"
             ]
            ],
            "type": "histogram2d"
           }
          ],
          "histogram2dcontour": [
           {
            "colorbar": {
             "outlinewidth": 0,
             "ticks": ""
            },
            "colorscale": [
             [
              0,
              "#0d0887"
             ],
             [
              0.1111111111111111,
              "#46039f"
             ],
             [
              0.2222222222222222,
              "#7201a8"
             ],
             [
              0.3333333333333333,
              "#9c179e"
             ],
             [
              0.4444444444444444,
              "#bd3786"
             ],
             [
              0.5555555555555556,
              "#d8576b"
             ],
             [
              0.6666666666666666,
              "#ed7953"
             ],
             [
              0.7777777777777778,
              "#fb9f3a"
             ],
             [
              0.8888888888888888,
              "#fdca26"
             ],
             [
              1,
              "#f0f921"
             ]
            ],
            "type": "histogram2dcontour"
           }
          ],
          "mesh3d": [
           {
            "colorbar": {
             "outlinewidth": 0,
             "ticks": ""
            },
            "type": "mesh3d"
           }
          ],
          "parcoords": [
           {
            "line": {
             "colorbar": {
              "outlinewidth": 0,
              "ticks": ""
             }
            },
            "type": "parcoords"
           }
          ],
          "pie": [
           {
            "automargin": true,
            "type": "pie"
           }
          ],
          "scatter": [
           {
            "fillpattern": {
             "fillmode": "overlay",
             "size": 10,
             "solidity": 0.2
            },
            "type": "scatter"
           }
          ],
          "scatter3d": [
           {
            "line": {
             "colorbar": {
              "outlinewidth": 0,
              "ticks": ""
             }
            },
            "marker": {
             "colorbar": {
              "outlinewidth": 0,
              "ticks": ""
             }
            },
            "type": "scatter3d"
           }
          ],
          "scattercarpet": [
           {
            "marker": {
             "colorbar": {
              "outlinewidth": 0,
              "ticks": ""
             }
            },
            "type": "scattercarpet"
           }
          ],
          "scattergeo": [
           {
            "marker": {
             "colorbar": {
              "outlinewidth": 0,
              "ticks": ""
             }
            },
            "type": "scattergeo"
           }
          ],
          "scattergl": [
           {
            "marker": {
             "colorbar": {
              "outlinewidth": 0,
              "ticks": ""
             }
            },
            "type": "scattergl"
           }
          ],
          "scattermapbox": [
           {
            "marker": {
             "colorbar": {
              "outlinewidth": 0,
              "ticks": ""
             }
            },
            "type": "scattermapbox"
           }
          ],
          "scatterpolar": [
           {
            "marker": {
             "colorbar": {
              "outlinewidth": 0,
              "ticks": ""
             }
            },
            "type": "scatterpolar"
           }
          ],
          "scatterpolargl": [
           {
            "marker": {
             "colorbar": {
              "outlinewidth": 0,
              "ticks": ""
             }
            },
            "type": "scatterpolargl"
           }
          ],
          "scatterternary": [
           {
            "marker": {
             "colorbar": {
              "outlinewidth": 0,
              "ticks": ""
             }
            },
            "type": "scatterternary"
           }
          ],
          "surface": [
           {
            "colorbar": {
             "outlinewidth": 0,
             "ticks": ""
            },
            "colorscale": [
             [
              0,
              "#0d0887"
             ],
             [
              0.1111111111111111,
              "#46039f"
             ],
             [
              0.2222222222222222,
              "#7201a8"
             ],
             [
              0.3333333333333333,
              "#9c179e"
             ],
             [
              0.4444444444444444,
              "#bd3786"
             ],
             [
              0.5555555555555556,
              "#d8576b"
             ],
             [
              0.6666666666666666,
              "#ed7953"
             ],
             [
              0.7777777777777778,
              "#fb9f3a"
             ],
             [
              0.8888888888888888,
              "#fdca26"
             ],
             [
              1,
              "#f0f921"
             ]
            ],
            "type": "surface"
           }
          ],
          "table": [
           {
            "cells": {
             "fill": {
              "color": "#EBF0F8"
             },
             "line": {
              "color": "white"
             }
            },
            "header": {
             "fill": {
              "color": "#C8D4E3"
             },
             "line": {
              "color": "white"
             }
            },
            "type": "table"
           }
          ]
         },
         "layout": {
          "annotationdefaults": {
           "arrowcolor": "#2a3f5f",
           "arrowhead": 0,
           "arrowwidth": 1
          },
          "autotypenumbers": "strict",
          "coloraxis": {
           "colorbar": {
            "outlinewidth": 0,
            "ticks": ""
           }
          },
          "colorscale": {
           "diverging": [
            [
             0,
             "#8e0152"
            ],
            [
             0.1,
             "#c51b7d"
            ],
            [
             0.2,
             "#de77ae"
            ],
            [
             0.3,
             "#f1b6da"
            ],
            [
             0.4,
             "#fde0ef"
            ],
            [
             0.5,
             "#f7f7f7"
            ],
            [
             0.6,
             "#e6f5d0"
            ],
            [
             0.7,
             "#b8e186"
            ],
            [
             0.8,
             "#7fbc41"
            ],
            [
             0.9,
             "#4d9221"
            ],
            [
             1,
             "#276419"
            ]
           ],
           "sequential": [
            [
             0,
             "#0d0887"
            ],
            [
             0.1111111111111111,
             "#46039f"
            ],
            [
             0.2222222222222222,
             "#7201a8"
            ],
            [
             0.3333333333333333,
             "#9c179e"
            ],
            [
             0.4444444444444444,
             "#bd3786"
            ],
            [
             0.5555555555555556,
             "#d8576b"
            ],
            [
             0.6666666666666666,
             "#ed7953"
            ],
            [
             0.7777777777777778,
             "#fb9f3a"
            ],
            [
             0.8888888888888888,
             "#fdca26"
            ],
            [
             1,
             "#f0f921"
            ]
           ],
           "sequentialminus": [
            [
             0,
             "#0d0887"
            ],
            [
             0.1111111111111111,
             "#46039f"
            ],
            [
             0.2222222222222222,
             "#7201a8"
            ],
            [
             0.3333333333333333,
             "#9c179e"
            ],
            [
             0.4444444444444444,
             "#bd3786"
            ],
            [
             0.5555555555555556,
             "#d8576b"
            ],
            [
             0.6666666666666666,
             "#ed7953"
            ],
            [
             0.7777777777777778,
             "#fb9f3a"
            ],
            [
             0.8888888888888888,
             "#fdca26"
            ],
            [
             1,
             "#f0f921"
            ]
           ]
          },
          "colorway": [
           "#636efa",
           "#EF553B",
           "#00cc96",
           "#ab63fa",
           "#FFA15A",
           "#19d3f3",
           "#FF6692",
           "#B6E880",
           "#FF97FF",
           "#FECB52"
          ],
          "font": {
           "color": "#2a3f5f"
          },
          "geo": {
           "bgcolor": "white",
           "lakecolor": "white",
           "landcolor": "#E5ECF6",
           "showlakes": true,
           "showland": true,
           "subunitcolor": "white"
          },
          "hoverlabel": {
           "align": "left"
          },
          "hovermode": "closest",
          "mapbox": {
           "style": "light"
          },
          "paper_bgcolor": "white",
          "plot_bgcolor": "#E5ECF6",
          "polar": {
           "angularaxis": {
            "gridcolor": "white",
            "linecolor": "white",
            "ticks": ""
           },
           "bgcolor": "#E5ECF6",
           "radialaxis": {
            "gridcolor": "white",
            "linecolor": "white",
            "ticks": ""
           }
          },
          "scene": {
           "xaxis": {
            "backgroundcolor": "#E5ECF6",
            "gridcolor": "white",
            "gridwidth": 2,
            "linecolor": "white",
            "showbackground": true,
            "ticks": "",
            "zerolinecolor": "white"
           },
           "yaxis": {
            "backgroundcolor": "#E5ECF6",
            "gridcolor": "white",
            "gridwidth": 2,
            "linecolor": "white",
            "showbackground": true,
            "ticks": "",
            "zerolinecolor": "white"
           },
           "zaxis": {
            "backgroundcolor": "#E5ECF6",
            "gridcolor": "white",
            "gridwidth": 2,
            "linecolor": "white",
            "showbackground": true,
            "ticks": "",
            "zerolinecolor": "white"
           }
          },
          "shapedefaults": {
           "line": {
            "color": "#2a3f5f"
           }
          },
          "ternary": {
           "aaxis": {
            "gridcolor": "white",
            "linecolor": "white",
            "ticks": ""
           },
           "baxis": {
            "gridcolor": "white",
            "linecolor": "white",
            "ticks": ""
           },
           "bgcolor": "#E5ECF6",
           "caxis": {
            "gridcolor": "white",
            "linecolor": "white",
            "ticks": ""
           }
          },
          "title": {
           "x": 0.05
          },
          "xaxis": {
           "automargin": true,
           "gridcolor": "white",
           "linecolor": "white",
           "ticks": "",
           "title": {
            "standoff": 15
           },
           "zerolinecolor": "white",
           "zerolinewidth": 2
          },
          "yaxis": {
           "automargin": true,
           "gridcolor": "white",
           "linecolor": "white",
           "ticks": "",
           "title": {
            "standoff": 15
           },
           "zerolinecolor": "white",
           "zerolinewidth": 2
          }
         }
        },
        "title": {
         "text": "Closing Price"
        },
        "xaxis": {
         "rangeselector": {
          "buttons": [
           {
            "count": 1,
            "label": "1m",
            "step": "month",
            "stepmode": "backward"
           },
           {
            "count": 6,
            "label": "6m",
            "step": "month",
            "stepmode": "backward"
           },
           {
            "count": 1,
            "label": "YTD",
            "step": "year",
            "stepmode": "todate"
           },
           {
            "count": 1,
            "label": "1y",
            "step": "year",
            "stepmode": "backward"
           },
           {
            "step": "all"
           }
          ]
         },
         "rangeslider": {
          "visible": true
         },
         "type": "date"
        }
       }
      }
     },
     "metadata": {},
     "output_type": "display_data"
    }
   ],
   "source": [
    "df3 = df3.sort_values(by=['date']).reset_index(drop = True)\n",
    "\n",
    "# from ipywidgets import interact, Dropdown\n",
    "class_list1 = list(df3['market_name'].unique())\n",
    "MarketW = Dropdown(options = class_list1)\n",
    "ProductW = Dropdown()\n",
    "VarietyW =  Dropdown()\n",
    "VegClassW =  Dropdown()\n",
    "SizeW = Dropdown()\n",
    "PackageW = Dropdown()\n",
    "\n",
    "def ProductW_options(*args): # *args represent zero (case here) or more arguments.\n",
    "    A = df3.loc[df3['market_name'] == MarketW.value, ('product', 'variety','Veg_Class', 'size', 'package', 'closing_price', 'date')]\n",
    "    ProductW.options = list(A['product'].unique())\n",
    "MarketW.observe(ProductW_options) # Here is the trick, i.e. update cityW.options based on countryW.value.\n",
    "\n",
    "def VarietyW_options(*args): # *args represent zero (case here) or more arguments.\n",
    "    A = df3.loc[df3['market_name'] == MarketW.value, ('product', 'variety','Veg_Class', 'size', 'package', 'closing_price', 'date')]\n",
    "    B = A.loc[A['product'] == ProductW.value, ('variety','Veg_Class', 'size', 'package', 'closing_price', 'date')]\n",
    "    VarietyW.options = list(B['variety'].unique())\n",
    "ProductW.observe(VarietyW_options) # Here is the trick, i.e. update cityW.options based on countryW.value.\n",
    "\n",
    "\n",
    "def VegClassW_options(*args): # *args represent zero (case here) or more arguments.\n",
    "    A = df3.loc[df3['market_name'] == MarketW.value, ('product', 'variety','Veg_Class', 'size', 'package', 'closing_price', 'date')]\n",
    "    B = A.loc[A['product'] == ProductW.value, ('variety','Veg_Class', 'size', 'package', 'closing_price', 'date')]    \n",
    "    C = B.loc[B['variety'] == VarietyW.value, ('Veg_Class', 'size', 'package', 'closing_price', 'date')]\n",
    "    VegClassW.options = list(C['Veg_Class'].unique())\n",
    "VarietyW.observe(VegClassW_options) # Here is the trick, i.e. update cityW.options based on countryW.value.\n",
    "\n",
    "\n",
    "def SizeW_options(*args): # *args represent zero (case here) or more arguments.\n",
    "    A = df3.loc[df3['market_name'] == MarketW.value, ('product', 'variety','Veg_Class', 'size', 'package', 'closing_price', 'date')]\n",
    "    B = A.loc[A['product'] == ProductW.value, ('variety','Veg_Class', 'size', 'package', 'closing_price', 'date')]    \n",
    "    C = B.loc[B['variety'] == VarietyW.value, ('Veg_Class', 'size', 'package', 'closing_price', 'date')]\n",
    "    D = C.loc[C['Veg_Class'] == VegClassW.value,  ('size', 'package', 'closing_price', 'date')]\n",
    "    SizeW.options = list(D['size'].unique())\n",
    "VegClassW.observe(SizeW_options) # Here is \n",
    "\n",
    "def PackageW_options(*args): # *args represent zero (case here) or more arguments.\n",
    "    A = df3.loc[df3['market_name'] == MarketW.value, ('product', 'variety','Veg_Class', 'size', 'package', 'closing_price', 'date')]\n",
    "    B = A.loc[A['product'] == ProductW.value, ('variety','Veg_Class', 'size', 'package', 'closing_price', 'date')]    \n",
    "    C = B.loc[B['variety'] == VarietyW.value, ('Veg_Class', 'size', 'package', 'closing_price', 'date')]\n",
    "    D = C.loc[C['Veg_Class'] == VegClassW.value,  ('size', 'package', 'closing_price', 'date')]\n",
    "    E = D.loc[D['size'] == SizeW.value,  ('package', 'closing_price', 'date')]\n",
    "    PackageW.options = list(E['package'].unique())\n",
    "SizeW.observe(PackageW_options) # Here is \n",
    "\n",
    "\n",
    "@interact(Market = MarketW, Product = ProductW, Variety = VarietyW, VegClass = VegClassW, Size = SizeW, Package = PackageW)  \n",
    "\n",
    "def filtering(Market, Product, Variety, VegClass, Size, Package):\n",
    "    A = df3.loc[df3['market_name'] == Market, ('product', 'variety','Veg_Class', 'size', 'package', 'closing_price', 'date', 'sales_quantity')]\n",
    "    B = A.loc[A['product'] == Product, ('variety','Veg_Class', 'size', 'package', 'closing_price', 'date', 'sales_quantity')]    \n",
    "    C = B.loc[B['variety'] == Variety, ('Veg_Class', 'size', 'package', 'closing_price', 'date', 'sales_quantity')]\n",
    "    D = C.loc[C['Veg_Class'] == VegClass,  ('size', 'package', 'closing_price', 'date', 'sales_quantity')]\n",
    "    E = D.loc[D['size'] == Size,  ('package', 'closing_price', 'date', 'sales_quantity')]\n",
    "    \n",
    "    F = E.loc[E['package'] == Package,  ('closing_price', 'date', 'sales_quantity')]\n",
    "    \n",
    "  \n",
    "    \n",
    "    fig = go.Figure(data =[\n",
    "                    go.Scatter(name = 'Closing Price', x=F['date'], y =F['closing_price'])\n",
    "                    ])\n",
    "    \n",
    "    \n",
    "\n",
    "    fig.update_layout(barmode = 'group', \n",
    "    title= \"Closing Price\")\n",
    "\n",
    "    \n",
    "    # Add range slider\n",
    "    fig.update_layout(\n",
    "        xaxis=dict(\n",
    "            rangeselector=dict(\n",
    "                buttons=list([\n",
    "                    dict(count=1,\n",
    "                         label=\"1m\",\n",
    "                         step=\"month\",\n",
    "                         stepmode=\"backward\"),\n",
    "                    dict(count=6,\n",
    "                         label=\"6m\",\n",
    "                         step=\"month\",\n",
    "                         stepmode=\"backward\"),\n",
    "                    dict(count=1,\n",
    "                         label=\"YTD\",\n",
    "                         step=\"year\",\n",
    "                         stepmode=\"todate\"),\n",
    "                    dict(count=1,\n",
    "                         label=\"1y\",\n",
    "                         step=\"year\",\n",
    "                         stepmode=\"backward\"),\n",
    "                    dict(step=\"all\")\n",
    "                ])\n",
    "            ),\n",
    "            rangeslider=dict(\n",
    "                visible=True\n",
    "            ),\n",
    "            type=\"date\"\n",
    "        )\n",
    "    )\n",
    "\n",
    "    \n",
    "    fig.show()"
   ]
  },
  {
   "cell_type": "code",
   "execution_count": null,
   "id": "198e2461",
   "metadata": {},
   "outputs": [],
   "source": []
  },
  {
   "cell_type": "code",
   "execution_count": null,
   "id": "d18bebf8",
   "metadata": {},
   "outputs": [],
   "source": []
  },
  {
   "cell_type": "code",
   "execution_count": 77,
   "id": "ef8a6945",
   "metadata": {},
   "outputs": [
    {
     "data": {
      "text/html": [
       "<div>\n",
       "<style scoped>\n",
       "    .dataframe tbody tr th:only-of-type {\n",
       "        vertical-align: middle;\n",
       "    }\n",
       "\n",
       "    .dataframe tbody tr th {\n",
       "        vertical-align: top;\n",
       "    }\n",
       "\n",
       "    .dataframe thead th {\n",
       "        text-align: right;\n",
       "    }\n",
       "</style>\n",
       "<table border=\"1\" class=\"dataframe\">\n",
       "  <thead>\n",
       "    <tr style=\"text-align: right;\">\n",
       "      <th></th>\n",
       "      <th>closing_price</th>\n",
       "      <th>date</th>\n",
       "      <th>sales_quantity</th>\n",
       "    </tr>\n",
       "  </thead>\n",
       "  <tbody>\n",
       "  </tbody>\n",
       "</table>\n",
       "</div>"
      ],
      "text/plain": [
       "Empty DataFrame\n",
       "Columns: [closing_price, date, sales_quantity]\n",
       "Index: []"
      ]
     },
     "execution_count": 77,
     "metadata": {},
     "output_type": "execute_result"
    }
   ],
   "source": [
    "\n",
    "\n",
    "def filtering(Market, Product, Variety, VegClass, Size, Package):\n",
    "    A = df3.loc[df3['market_name'] == Market, ('product', 'variety','Veg_Class', 'size', 'package', 'closing_price', 'date', 'sales_quantity')]\n",
    "    B = A.loc[A['product'] == Product, ('variety','Veg_Class', 'size', 'package', 'closing_price', 'date', 'sales_quantity')]    \n",
    "    C = B.loc[B['variety'] == Variety, ('Veg_Class', 'size', 'package', 'closing_price', 'date', 'sales_quantity')]\n",
    "    D = C.loc[C['Veg_Class'] == VegClass,  ('size', 'package', 'closing_price', 'date', 'sales_quantity')]\n",
    "    E = D.loc[D['size'] == Size,  ('package', 'closing_price', 'date', 'sales_quantity')]\n",
    "    \n",
    "    F = E.loc[E['package'] == Package,  ('closing_price', 'date', 'sales_quantity')]\n",
    "    return F\n",
    "\n",
    "filtering(MarketW, ProductW, VarietyW, VegClassW, SizeW, PackageW)"
   ]
  },
  {
   "cell_type": "code",
   "execution_count": null,
   "id": "259fdf7b",
   "metadata": {},
   "outputs": [],
   "source": []
  },
  {
   "cell_type": "code",
   "execution_count": 78,
   "id": "ad0031ad",
   "metadata": {
    "scrolled": false
   },
   "outputs": [
    {
     "data": {
      "text/html": [
       "<div>\n",
       "<style scoped>\n",
       "    .dataframe tbody tr th:only-of-type {\n",
       "        vertical-align: middle;\n",
       "    }\n",
       "\n",
       "    .dataframe tbody tr th {\n",
       "        vertical-align: top;\n",
       "    }\n",
       "\n",
       "    .dataframe thead th {\n",
       "        text-align: right;\n",
       "    }\n",
       "</style>\n",
       "<table border=\"1\" class=\"dataframe\">\n",
       "  <thead>\n",
       "    <tr style=\"text-align: right;\">\n",
       "      <th></th>\n",
       "      <th>size</th>\n",
       "      <th>package</th>\n",
       "      <th>closing_price</th>\n",
       "      <th>date</th>\n",
       "      <th>sales_quantity</th>\n",
       "    </tr>\n",
       "  </thead>\n",
       "  <tbody>\n",
       "    <tr>\n",
       "      <th>104196</th>\n",
       "      <td>NO SIZE</td>\n",
       "      <td>BOX</td>\n",
       "      <td>80.0</td>\n",
       "      <td>2023-03-13</td>\n",
       "      <td>1</td>\n",
       "    </tr>\n",
       "    <tr>\n",
       "      <th>112567</th>\n",
       "      <td>NO SIZE</td>\n",
       "      <td>BOX</td>\n",
       "      <td>90.0</td>\n",
       "      <td>2023-03-20</td>\n",
       "      <td>2</td>\n",
       "    </tr>\n",
       "    <tr>\n",
       "      <th>112568</th>\n",
       "      <td>NO SIZE</td>\n",
       "      <td>HALF POCKET</td>\n",
       "      <td>90.0</td>\n",
       "      <td>2023-03-20</td>\n",
       "      <td>2</td>\n",
       "    </tr>\n",
       "    <tr>\n",
       "      <th>125648</th>\n",
       "      <td>NO SIZE</td>\n",
       "      <td>BOX</td>\n",
       "      <td>70.0</td>\n",
       "      <td>2023-03-27</td>\n",
       "      <td>2</td>\n",
       "    </tr>\n",
       "    <tr>\n",
       "      <th>125741</th>\n",
       "      <td>NO SIZE</td>\n",
       "      <td>BOX</td>\n",
       "      <td>70.0</td>\n",
       "      <td>2023-03-27</td>\n",
       "      <td>2</td>\n",
       "    </tr>\n",
       "    <tr>\n",
       "      <th>125742</th>\n",
       "      <td>NO SIZE</td>\n",
       "      <td>HALF POCKET</td>\n",
       "      <td>70.0</td>\n",
       "      <td>2023-03-27</td>\n",
       "      <td>1</td>\n",
       "    </tr>\n",
       "    <tr>\n",
       "      <th>125744</th>\n",
       "      <td>NO SIZE</td>\n",
       "      <td>HALF POCKET</td>\n",
       "      <td>70.0</td>\n",
       "      <td>2023-03-27</td>\n",
       "      <td>1</td>\n",
       "    </tr>\n",
       "    <tr>\n",
       "      <th>167530</th>\n",
       "      <td>NO SIZE</td>\n",
       "      <td>BOX</td>\n",
       "      <td>50.0</td>\n",
       "      <td>2023-04-12</td>\n",
       "      <td>1</td>\n",
       "    </tr>\n",
       "  </tbody>\n",
       "</table>\n",
       "</div>"
      ],
      "text/plain": [
       "           size      package  closing_price       date  sales_quantity\n",
       "104196  NO SIZE          BOX           80.0 2023-03-13               1\n",
       "112567  NO SIZE          BOX           90.0 2023-03-20               2\n",
       "112568  NO SIZE  HALF POCKET           90.0 2023-03-20               2\n",
       "125648  NO SIZE          BOX           70.0 2023-03-27               2\n",
       "125741  NO SIZE          BOX           70.0 2023-03-27               2\n",
       "125742  NO SIZE  HALF POCKET           70.0 2023-03-27               1\n",
       "125744  NO SIZE  HALF POCKET           70.0 2023-03-27               1\n",
       "167530  NO SIZE          BOX           50.0 2023-04-12               1"
      ]
     },
     "execution_count": 78,
     "metadata": {},
     "output_type": "execute_result"
    }
   ],
   "source": [
    "A = df3.loc[df3['market_name'] == 'George Fresh Produce Market', ('product', 'variety','Veg_Class', 'size', 'package', 'closing_price', 'date','sales_quantity')]\n",
    "B = A.loc[A['product'] == ' GRANADILLAS', ('variety','Veg_Class', 'size', 'package', 'closing_price', 'date','sales_quantity')]    \n",
    "C = B.loc[B['variety'] == 'NO VARIETY', ('Veg_Class', 'size', 'package', 'closing_price', 'date','sales_quantity')]\n",
    "D = C.loc[C['Veg_Class'] == 'NOT GRADED',  ('size', 'package', 'closing_price', 'date','sales_quantity')]\n",
    "E = D.loc[D['size'] == 'NO SIZE',  ('size','package', 'closing_price', 'date','sales_quantity')]\n",
    "E\n"
   ]
  },
  {
   "cell_type": "code",
   "execution_count": null,
   "id": "c7494ae5",
   "metadata": {},
   "outputs": [],
   "source": []
  },
  {
   "cell_type": "code",
   "execution_count": null,
   "id": "487adc37",
   "metadata": {},
   "outputs": [],
   "source": []
  },
  {
   "cell_type": "code",
   "execution_count": null,
   "id": "8b620317",
   "metadata": {},
   "outputs": [],
   "source": []
  },
  {
   "cell_type": "code",
   "execution_count": null,
   "id": "8d1b699e",
   "metadata": {},
   "outputs": [],
   "source": []
  },
  {
   "cell_type": "code",
   "execution_count": null,
   "id": "5a71aaa7",
   "metadata": {},
   "outputs": [],
   "source": []
  },
  {
   "attachments": {},
   "cell_type": "markdown",
   "id": "2d84a7c3",
   "metadata": {},
   "source": [
    "df3 = df3.sort_values(by=['date']).reset_index(drop = True)\n",
    "\n",
    "class_list1 = list(df3['market_name'].unique())\n",
    "\n",
    "widget1 = Dropdown(options = class_list1)\n",
    "A = df3.loc[df3['market_name'] == widget1, ('product', 'Veg_Class', 'size', 'package')]\n",
    "class_list2 = list(A['product'].unique())\n",
    "\n",
    "widget2 = Dropdown(options = class_list2)\n",
    "B = A.loc[A['product'] == widget2, ('Veg_Class', 'size', 'package' )]\n",
    "class_list3 = list(B['Veg_Class'].unique())\n",
    "\n",
    "widget3 = Dropdown(options = class_list3)\n",
    "C = B.loc[B['Veg_Class'] == widget3, ('size', 'package')]\n",
    "class_list4 = list(C['size'].unique())\n",
    "\n",
    "widget4 = Dropdown(options = class_list4)\n",
    "D = C.loc[C['size'] == widget4]\n",
    "class_list5 = list(D['package'].unique())\n",
    "\n",
    "widget1"
   ]
  },
  {
   "cell_type": "code",
   "execution_count": null,
   "id": "547f8ac7",
   "metadata": {},
   "outputs": [],
   "source": []
  },
  {
   "cell_type": "code",
   "execution_count": null,
   "id": "f1ead050",
   "metadata": {},
   "outputs": [],
   "source": []
  },
  {
   "cell_type": "code",
   "execution_count": null,
   "id": "e8a5e0e2",
   "metadata": {},
   "outputs": [],
   "source": []
  },
  {
   "cell_type": "code",
   "execution_count": null,
   "id": "4cfb3d03",
   "metadata": {},
   "outputs": [],
   "source": []
  },
  {
   "cell_type": "code",
   "execution_count": null,
   "id": "fdd83546",
   "metadata": {},
   "outputs": [],
   "source": []
  },
  {
   "cell_type": "code",
   "execution_count": null,
   "id": "0c5e84e9",
   "metadata": {},
   "outputs": [],
   "source": []
  },
  {
   "cell_type": "code",
   "execution_count": null,
   "id": "423f7d21",
   "metadata": {},
   "outputs": [],
   "source": []
  },
  {
   "cell_type": "code",
   "execution_count": null,
   "id": "3b0c153a",
   "metadata": {},
   "outputs": [],
   "source": []
  },
  {
   "cell_type": "code",
   "execution_count": null,
   "id": "ce012760",
   "metadata": {},
   "outputs": [],
   "source": []
  },
  {
   "cell_type": "code",
   "execution_count": null,
   "id": "59178fa9",
   "metadata": {},
   "outputs": [],
   "source": []
  },
  {
   "cell_type": "code",
   "execution_count": null,
   "id": "5f303e44",
   "metadata": {},
   "outputs": [],
   "source": []
  },
  {
   "cell_type": "code",
   "execution_count": null,
   "id": "32f7d5c7",
   "metadata": {},
   "outputs": [],
   "source": []
  }
 ],
 "metadata": {
  "kernelspec": {
   "display_name": "Python 3 (ipykernel)",
   "language": "python",
   "name": "python3"
  },
  "language_info": {
   "codemirror_mode": {
    "name": "ipython",
    "version": 3
   },
   "file_extension": ".py",
   "mimetype": "text/x-python",
   "name": "python",
   "nbconvert_exporter": "python",
   "pygments_lexer": "ipython3",
   "version": "3.9.15"
  }
 },
 "nbformat": 4,
 "nbformat_minor": 5
}
